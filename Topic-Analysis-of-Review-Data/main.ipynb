{
 "cells": [
  {
   "attachments": {},
   "cell_type": "markdown",
   "metadata": {},
   "source": [
    "# Topic modelling of Lenovo mobile reviews (LDA)"
   ]
  },
  {
   "cell_type": "code",
   "execution_count": 1,
   "metadata": {},
   "outputs": [],
   "source": [
    "import warnings\n",
    "warnings.filterwarnings('ignore', category=DeprecationWarning)"
   ]
  },
  {
   "cell_type": "code",
   "execution_count": 2,
   "metadata": {},
   "outputs": [],
   "source": [
    "import pandas as pd"
   ]
  },
  {
   "cell_type": "code",
   "execution_count": 48,
   "metadata": {},
   "outputs": [
    {
     "data": {
      "text/html": [
       "<div>\n",
       "<style scoped>\n",
       "    .dataframe tbody tr th:only-of-type {\n",
       "        vertical-align: middle;\n",
       "    }\n",
       "\n",
       "    .dataframe tbody tr th {\n",
       "        vertical-align: top;\n",
       "    }\n",
       "\n",
       "    .dataframe thead th {\n",
       "        text-align: right;\n",
       "    }\n",
       "</style>\n",
       "<table border=\"1\" class=\"dataframe\">\n",
       "  <thead>\n",
       "    <tr style=\"text-align: right;\">\n",
       "      <th></th>\n",
       "      <th>review</th>\n",
       "    </tr>\n",
       "  </thead>\n",
       "  <tbody>\n",
       "    <tr>\n",
       "      <th>0</th>\n",
       "      <td>Great banking app with attractive interest rat...</td>\n",
       "    </tr>\n",
       "    <tr>\n",
       "      <th>1</th>\n",
       "      <td>A bank like no other, no bank have such amazin...</td>\n",
       "    </tr>\n",
       "    <tr>\n",
       "      <th>2</th>\n",
       "      <td>Notice that the drop in interest rate of 0.8% ...</td>\n",
       "    </tr>\n",
       "    <tr>\n",
       "      <th>3</th>\n",
       "      <td>Sending money into my GXS account is a breeze ...</td>\n",
       "    </tr>\n",
       "    <tr>\n",
       "      <th>4</th>\n",
       "      <td>I have to say that the UI/UX is one of the bes...</td>\n",
       "    </tr>\n",
       "  </tbody>\n",
       "</table>\n",
       "</div>"
      ],
      "text/plain": [
       "                                              review\n",
       "0  Great banking app with attractive interest rat...\n",
       "1  A bank like no other, no bank have such amazin...\n",
       "2  Notice that the drop in interest rate of 0.8% ...\n",
       "3  Sending money into my GXS account is a breeze ...\n",
       "4  I have to say that the UI/UX is one of the bes..."
      ]
     },
     "execution_count": 48,
     "metadata": {},
     "output_type": "execute_result"
    }
   ],
   "source": [
    "columns_to_drop = ['date', 'developerResponse', 'rating', 'isEdited', 'title', 'userName', 'Unnamed: 0']\n",
    "review_data = pd.read_csv('data/AppStoreData.csv').drop(columns_to_drop,axis=1)\n",
    "review_data.head()"
   ]
  },
  {
   "cell_type": "code",
   "execution_count": 49,
   "metadata": {},
   "outputs": [
    {
     "data": {
      "text/html": [
       "<div>\n",
       "<style scoped>\n",
       "    .dataframe tbody tr th:only-of-type {\n",
       "        vertical-align: middle;\n",
       "    }\n",
       "\n",
       "    .dataframe tbody tr th {\n",
       "        vertical-align: top;\n",
       "    }\n",
       "\n",
       "    .dataframe thead th {\n",
       "        text-align: right;\n",
       "    }\n",
       "</style>\n",
       "<table border=\"1\" class=\"dataframe\">\n",
       "  <thead>\n",
       "    <tr style=\"text-align: right;\">\n",
       "      <th></th>\n",
       "      <th>review</th>\n",
       "    </tr>\n",
       "  </thead>\n",
       "  <tbody>\n",
       "    <tr>\n",
       "      <th>0</th>\n",
       "      <td>Good but need updates and improvements</td>\n",
       "    </tr>\n",
       "    <tr>\n",
       "      <th>1</th>\n",
       "      <td>Worst mobile i have bought ever, Battery is dr...</td>\n",
       "    </tr>\n",
       "    <tr>\n",
       "      <th>2</th>\n",
       "      <td>when I will get my 10% cash back.... its alrea...</td>\n",
       "    </tr>\n",
       "    <tr>\n",
       "      <th>3</th>\n",
       "      <td>Good</td>\n",
       "    </tr>\n",
       "    <tr>\n",
       "      <th>4</th>\n",
       "      <td>The worst phone everThey have changed the last...</td>\n",
       "    </tr>\n",
       "  </tbody>\n",
       "</table>\n",
       "</div>"
      ],
      "text/plain": [
       "                                              review\n",
       "0             Good but need updates and improvements\n",
       "1  Worst mobile i have bought ever, Battery is dr...\n",
       "2  when I will get my 10% cash back.... its alrea...\n",
       "3                                               Good\n",
       "4  The worst phone everThey have changed the last..."
      ]
     },
     "execution_count": 49,
     "metadata": {},
     "output_type": "execute_result"
    }
   ],
   "source": [
    "review_data = pd.read_csv('data/K8 Reviews v0.2.csv').drop('sentiment',axis=1)\n",
    "review_data.head()"
   ]
  },
  {
   "cell_type": "code",
   "execution_count": 85,
   "metadata": {},
   "outputs": [
    {
     "data": {
      "text/html": [
       "<div>\n",
       "<style scoped>\n",
       "    .dataframe tbody tr th:only-of-type {\n",
       "        vertical-align: middle;\n",
       "    }\n",
       "\n",
       "    .dataframe tbody tr th {\n",
       "        vertical-align: top;\n",
       "    }\n",
       "\n",
       "    .dataframe thead th {\n",
       "        text-align: right;\n",
       "    }\n",
       "</style>\n",
       "<table border=\"1\" class=\"dataframe\">\n",
       "  <thead>\n",
       "    <tr style=\"text-align: right;\">\n",
       "      <th></th>\n",
       "      <th>review</th>\n",
       "    </tr>\n",
       "  </thead>\n",
       "  <tbody>\n",
       "    <tr>\n",
       "      <th>0</th>\n",
       "      <td>Great banking app with attractive interest rat...</td>\n",
       "    </tr>\n",
       "    <tr>\n",
       "      <th>1</th>\n",
       "      <td>A bank like no other, no bank have such amazin...</td>\n",
       "    </tr>\n",
       "    <tr>\n",
       "      <th>2</th>\n",
       "      <td>Notice that the drop in interest rate of 0.8% ...</td>\n",
       "    </tr>\n",
       "    <tr>\n",
       "      <th>3</th>\n",
       "      <td>Sending money into my GXS account is a breeze ...</td>\n",
       "    </tr>\n",
       "    <tr>\n",
       "      <th>4</th>\n",
       "      <td>I have to say that the UI/UX is one of the bes...</td>\n",
       "    </tr>\n",
       "  </tbody>\n",
       "</table>\n",
       "</div>"
      ],
      "text/plain": [
       "                                              review\n",
       "0  Great banking app with attractive interest rat...\n",
       "1  A bank like no other, no bank have such amazin...\n",
       "2  Notice that the drop in interest rate of 0.8% ...\n",
       "3  Sending money into my GXS account is a breeze ...\n",
       "4  I have to say that the UI/UX is one of the bes..."
      ]
     },
     "execution_count": 85,
     "metadata": {},
     "output_type": "execute_result"
    }
   ],
   "source": [
    "columns_to_drop = ['date', 'developerResponse', 'rating', 'isEdited', 'title', 'userName', 'Unnamed: 0']\n",
    "review_data = pd.read_csv('data/AppStoreData.csv').drop(columns_to_drop,axis=1)\n",
    "review_data.head()"
   ]
  },
  {
   "cell_type": "code",
   "execution_count": 86,
   "metadata": {},
   "outputs": [
    {
     "data": {
      "text/plain": [
       "(130, 1)"
      ]
     },
     "execution_count": 86,
     "metadata": {},
     "output_type": "execute_result"
    }
   ],
   "source": [
    "review_data.shape\n",
    "\n",
    "# We have 14K reviews "
   ]
  },
  {
   "attachments": {},
   "cell_type": "markdown",
   "metadata": {},
   "source": [
    "# Data Pre-Processing\n",
    "### 1. Replacing/Dropping NULL values"
   ]
  },
  {
   "cell_type": "code",
   "execution_count": 87,
   "metadata": {},
   "outputs": [
    {
     "data": {
      "text/plain": [
       "review    0\n",
       "dtype: int64"
      ]
     },
     "execution_count": 87,
     "metadata": {},
     "output_type": "execute_result"
    }
   ],
   "source": [
    "review_data.isnull().sum()\n",
    "\n",
    "# Since our data has no null values will be skip this step"
   ]
  },
  {
   "attachments": {},
   "cell_type": "markdown",
   "metadata": {},
   "source": [
    "### 2. Converting to LOWER case"
   ]
  },
  {
   "cell_type": "code",
   "execution_count": 88,
   "metadata": {},
   "outputs": [
    {
     "data": {
      "text/html": [
       "<div>\n",
       "<style scoped>\n",
       "    .dataframe tbody tr th:only-of-type {\n",
       "        vertical-align: middle;\n",
       "    }\n",
       "\n",
       "    .dataframe tbody tr th {\n",
       "        vertical-align: top;\n",
       "    }\n",
       "\n",
       "    .dataframe thead th {\n",
       "        text-align: right;\n",
       "    }\n",
       "</style>\n",
       "<table border=\"1\" class=\"dataframe\">\n",
       "  <thead>\n",
       "    <tr style=\"text-align: right;\">\n",
       "      <th></th>\n",
       "      <th>review</th>\n",
       "      <th>clean_review</th>\n",
       "    </tr>\n",
       "  </thead>\n",
       "  <tbody>\n",
       "    <tr>\n",
       "      <th>0</th>\n",
       "      <td>Great banking app with attractive interest rat...</td>\n",
       "      <td>great banking app with attractive interest rat...</td>\n",
       "    </tr>\n",
       "    <tr>\n",
       "      <th>1</th>\n",
       "      <td>A bank like no other, no bank have such amazin...</td>\n",
       "      <td>a bank like no other, no bank have such amazin...</td>\n",
       "    </tr>\n",
       "    <tr>\n",
       "      <th>2</th>\n",
       "      <td>Notice that the drop in interest rate of 0.8% ...</td>\n",
       "      <td>notice that the drop in interest rate of 0.8% ...</td>\n",
       "    </tr>\n",
       "    <tr>\n",
       "      <th>3</th>\n",
       "      <td>Sending money into my GXS account is a breeze ...</td>\n",
       "      <td>sending money into my gxs account is a breeze ...</td>\n",
       "    </tr>\n",
       "    <tr>\n",
       "      <th>4</th>\n",
       "      <td>I have to say that the UI/UX is one of the bes...</td>\n",
       "      <td>i have to say that the ui/ux is one of the bes...</td>\n",
       "    </tr>\n",
       "  </tbody>\n",
       "</table>\n",
       "</div>"
      ],
      "text/plain": [
       "                                              review  \\\n",
       "0  Great banking app with attractive interest rat...   \n",
       "1  A bank like no other, no bank have such amazin...   \n",
       "2  Notice that the drop in interest rate of 0.8% ...   \n",
       "3  Sending money into my GXS account is a breeze ...   \n",
       "4  I have to say that the UI/UX is one of the bes...   \n",
       "\n",
       "                                        clean_review  \n",
       "0  great banking app with attractive interest rat...  \n",
       "1  a bank like no other, no bank have such amazin...  \n",
       "2  notice that the drop in interest rate of 0.8% ...  \n",
       "3  sending money into my gxs account is a breeze ...  \n",
       "4  i have to say that the ui/ux is one of the bes...  "
      ]
     },
     "execution_count": 88,
     "metadata": {},
     "output_type": "execute_result"
    }
   ],
   "source": [
    "review_data['clean_review'] = review_data['review'].apply(lambda x: str(x).lower())\n",
    "review_data.head()"
   ]
  },
  {
   "attachments": {},
   "cell_type": "markdown",
   "metadata": {},
   "source": [
    "### 3. REMOVE NON-ALPHA DATA(DIGITS,PUNCTUATIONS,DIACRITICS)"
   ]
  },
  {
   "cell_type": "code",
   "execution_count": 89,
   "metadata": {},
   "outputs": [
    {
     "data": {
      "text/html": [
       "<div>\n",
       "<style scoped>\n",
       "    .dataframe tbody tr th:only-of-type {\n",
       "        vertical-align: middle;\n",
       "    }\n",
       "\n",
       "    .dataframe tbody tr th {\n",
       "        vertical-align: top;\n",
       "    }\n",
       "\n",
       "    .dataframe thead th {\n",
       "        text-align: right;\n",
       "    }\n",
       "</style>\n",
       "<table border=\"1\" class=\"dataframe\">\n",
       "  <thead>\n",
       "    <tr style=\"text-align: right;\">\n",
       "      <th></th>\n",
       "      <th>review</th>\n",
       "      <th>clean_review</th>\n",
       "    </tr>\n",
       "  </thead>\n",
       "  <tbody>\n",
       "    <tr>\n",
       "      <th>0</th>\n",
       "      <td>Great banking app with attractive interest rat...</td>\n",
       "      <td>great banking app with attractive interest rat...</td>\n",
       "    </tr>\n",
       "    <tr>\n",
       "      <th>1</th>\n",
       "      <td>A bank like no other, no bank have such amazin...</td>\n",
       "      <td>a bank like no other  no bank have such amazin...</td>\n",
       "    </tr>\n",
       "    <tr>\n",
       "      <th>2</th>\n",
       "      <td>Notice that the drop in interest rate of 0.8% ...</td>\n",
       "      <td>notice that the drop in interest rate of      ...</td>\n",
       "    </tr>\n",
       "    <tr>\n",
       "      <th>3</th>\n",
       "      <td>Sending money into my GXS account is a breeze ...</td>\n",
       "      <td>sending money into my gxs account is a breeze ...</td>\n",
       "    </tr>\n",
       "    <tr>\n",
       "      <th>4</th>\n",
       "      <td>I have to say that the UI/UX is one of the bes...</td>\n",
       "      <td>i have to say that the ui ux is one of the bes...</td>\n",
       "    </tr>\n",
       "  </tbody>\n",
       "</table>\n",
       "</div>"
      ],
      "text/plain": [
       "                                              review  \\\n",
       "0  Great banking app with attractive interest rat...   \n",
       "1  A bank like no other, no bank have such amazin...   \n",
       "2  Notice that the drop in interest rate of 0.8% ...   \n",
       "3  Sending money into my GXS account is a breeze ...   \n",
       "4  I have to say that the UI/UX is one of the bes...   \n",
       "\n",
       "                                        clean_review  \n",
       "0  great banking app with attractive interest rat...  \n",
       "1  a bank like no other  no bank have such amazin...  \n",
       "2  notice that the drop in interest rate of      ...  \n",
       "3  sending money into my gxs account is a breeze ...  \n",
       "4  i have to say that the ui ux is one of the bes...  "
      ]
     },
     "execution_count": 89,
     "metadata": {},
     "output_type": "execute_result"
    }
   ],
   "source": [
    "review_data['clean_review'] = review_data['clean_review'].str.replace(r'[^a-zA-Z\\s]', ' ',regex=True) \n",
    "review_data.head()"
   ]
  },
  {
   "attachments": {},
   "cell_type": "markdown",
   "metadata": {},
   "source": [
    "### 4. REMOVING WHITE SPACE"
   ]
  },
  {
   "cell_type": "code",
   "execution_count": 90,
   "metadata": {},
   "outputs": [
    {
     "data": {
      "text/html": [
       "<div>\n",
       "<style scoped>\n",
       "    .dataframe tbody tr th:only-of-type {\n",
       "        vertical-align: middle;\n",
       "    }\n",
       "\n",
       "    .dataframe tbody tr th {\n",
       "        vertical-align: top;\n",
       "    }\n",
       "\n",
       "    .dataframe thead th {\n",
       "        text-align: right;\n",
       "    }\n",
       "</style>\n",
       "<table border=\"1\" class=\"dataframe\">\n",
       "  <thead>\n",
       "    <tr style=\"text-align: right;\">\n",
       "      <th></th>\n",
       "      <th>review</th>\n",
       "      <th>clean_review</th>\n",
       "    </tr>\n",
       "  </thead>\n",
       "  <tbody>\n",
       "    <tr>\n",
       "      <th>0</th>\n",
       "      <td>Great banking app with attractive interest rat...</td>\n",
       "      <td>great banking app with attractive interest rat...</td>\n",
       "    </tr>\n",
       "    <tr>\n",
       "      <th>1</th>\n",
       "      <td>A bank like no other, no bank have such amazin...</td>\n",
       "      <td>a bank like no other no bank have such amazing...</td>\n",
       "    </tr>\n",
       "    <tr>\n",
       "      <th>2</th>\n",
       "      <td>Notice that the drop in interest rate of 0.8% ...</td>\n",
       "      <td>notice that the drop in interest rate of in sa...</td>\n",
       "    </tr>\n",
       "    <tr>\n",
       "      <th>3</th>\n",
       "      <td>Sending money into my GXS account is a breeze ...</td>\n",
       "      <td>sending money into my gxs account is a breeze ...</td>\n",
       "    </tr>\n",
       "    <tr>\n",
       "      <th>4</th>\n",
       "      <td>I have to say that the UI/UX is one of the bes...</td>\n",
       "      <td>i have to say that the ui ux is one of the bes...</td>\n",
       "    </tr>\n",
       "  </tbody>\n",
       "</table>\n",
       "</div>"
      ],
      "text/plain": [
       "                                              review  \\\n",
       "0  Great banking app with attractive interest rat...   \n",
       "1  A bank like no other, no bank have such amazin...   \n",
       "2  Notice that the drop in interest rate of 0.8% ...   \n",
       "3  Sending money into my GXS account is a breeze ...   \n",
       "4  I have to say that the UI/UX is one of the bes...   \n",
       "\n",
       "                                        clean_review  \n",
       "0  great banking app with attractive interest rat...  \n",
       "1  a bank like no other no bank have such amazing...  \n",
       "2  notice that the drop in interest rate of in sa...  \n",
       "3  sending money into my gxs account is a breeze ...  \n",
       "4  i have to say that the ui ux is one of the bes...  "
      ]
     },
     "execution_count": 90,
     "metadata": {},
     "output_type": "execute_result"
    }
   ],
   "source": [
    "review_data['clean_review'] = review_data['clean_review'].str.replace(r'\\s{2,}', ' ',regex=True)\n",
    "review_data.head()"
   ]
  },
  {
   "attachments": {},
   "cell_type": "markdown",
   "metadata": {},
   "source": [
    "### 5. WORD TOKENIZATION"
   ]
  },
  {
   "cell_type": "code",
   "execution_count": 91,
   "metadata": {},
   "outputs": [
    {
     "name": "stderr",
     "output_type": "stream",
     "text": [
      "[nltk_data] Downloading package punkt to /Users/neleht./nltk_data...\n",
      "[nltk_data]   Package punkt is already up-to-date!\n"
     ]
    },
    {
     "data": {
      "text/plain": [
       "True"
      ]
     },
     "execution_count": 91,
     "metadata": {},
     "output_type": "execute_result"
    }
   ],
   "source": [
    "import nltk\n",
    "from nltk.tokenize import word_tokenize\n",
    "nltk.download('punkt')"
   ]
  },
  {
   "cell_type": "code",
   "execution_count": 92,
   "metadata": {},
   "outputs": [
    {
     "data": {
      "text/html": [
       "<div>\n",
       "<style scoped>\n",
       "    .dataframe tbody tr th:only-of-type {\n",
       "        vertical-align: middle;\n",
       "    }\n",
       "\n",
       "    .dataframe tbody tr th {\n",
       "        vertical-align: top;\n",
       "    }\n",
       "\n",
       "    .dataframe thead th {\n",
       "        text-align: right;\n",
       "    }\n",
       "</style>\n",
       "<table border=\"1\" class=\"dataframe\">\n",
       "  <thead>\n",
       "    <tr style=\"text-align: right;\">\n",
       "      <th></th>\n",
       "      <th>review</th>\n",
       "      <th>clean_review</th>\n",
       "    </tr>\n",
       "  </thead>\n",
       "  <tbody>\n",
       "    <tr>\n",
       "      <th>0</th>\n",
       "      <td>Great banking app with attractive interest rat...</td>\n",
       "      <td>[great, banking, app, with, attractive, intere...</td>\n",
       "    </tr>\n",
       "    <tr>\n",
       "      <th>1</th>\n",
       "      <td>A bank like no other, no bank have such amazin...</td>\n",
       "      <td>[a, bank, like, no, other, no, bank, have, suc...</td>\n",
       "    </tr>\n",
       "    <tr>\n",
       "      <th>2</th>\n",
       "      <td>Notice that the drop in interest rate of 0.8% ...</td>\n",
       "      <td>[notice, that, the, drop, in, interest, rate, ...</td>\n",
       "    </tr>\n",
       "    <tr>\n",
       "      <th>3</th>\n",
       "      <td>Sending money into my GXS account is a breeze ...</td>\n",
       "      <td>[sending, money, into, my, gxs, account, is, a...</td>\n",
       "    </tr>\n",
       "    <tr>\n",
       "      <th>4</th>\n",
       "      <td>I have to say that the UI/UX is one of the bes...</td>\n",
       "      <td>[i, have, to, say, that, the, ui, ux, is, one,...</td>\n",
       "    </tr>\n",
       "  </tbody>\n",
       "</table>\n",
       "</div>"
      ],
      "text/plain": [
       "                                              review  \\\n",
       "0  Great banking app with attractive interest rat...   \n",
       "1  A bank like no other, no bank have such amazin...   \n",
       "2  Notice that the drop in interest rate of 0.8% ...   \n",
       "3  Sending money into my GXS account is a breeze ...   \n",
       "4  I have to say that the UI/UX is one of the bes...   \n",
       "\n",
       "                                        clean_review  \n",
       "0  [great, banking, app, with, attractive, intere...  \n",
       "1  [a, bank, like, no, other, no, bank, have, suc...  \n",
       "2  [notice, that, the, drop, in, interest, rate, ...  \n",
       "3  [sending, money, into, my, gxs, account, is, a...  \n",
       "4  [i, have, to, say, that, the, ui, ux, is, one,...  "
      ]
     },
     "execution_count": 92,
     "metadata": {},
     "output_type": "execute_result"
    }
   ],
   "source": [
    "review_data['clean_review'] = review_data['clean_review'].apply(lambda x: word_tokenize(x))\n",
    "review_data.head()"
   ]
  },
  {
   "attachments": {},
   "cell_type": "markdown",
   "metadata": {},
   "source": [
    "### 6. REMOVE UNNECESSARY WORDS"
   ]
  },
  {
   "cell_type": "code",
   "execution_count": 93,
   "metadata": {},
   "outputs": [
    {
     "name": "stdout",
     "output_type": "stream",
     "text": [
      "Requirement already satisfied: stopwords in /Library/Frameworks/Python.framework/Versions/3.9/lib/python3.9/site-packages (1.0.1)\n"
     ]
    }
   ],
   "source": [
    "!pip install stopwords"
   ]
  },
  {
   "cell_type": "code",
   "execution_count": 94,
   "metadata": {},
   "outputs": [
    {
     "name": "stderr",
     "output_type": "stream",
     "text": [
      "[nltk_data] Downloading package stopwords to\n",
      "[nltk_data]     /Users/neleht./nltk_data...\n",
      "[nltk_data]   Package stopwords is already up-to-date!\n"
     ]
    },
    {
     "data": {
      "text/plain": [
       "True"
      ]
     },
     "execution_count": 94,
     "metadata": {},
     "output_type": "execute_result"
    }
   ],
   "source": [
    "from nltk.corpus import stopwords\n",
    "nltk.download('stopwords')"
   ]
  },
  {
   "cell_type": "code",
   "execution_count": 95,
   "metadata": {},
   "outputs": [
    {
     "data": {
      "text/html": [
       "<div>\n",
       "<style scoped>\n",
       "    .dataframe tbody tr th:only-of-type {\n",
       "        vertical-align: middle;\n",
       "    }\n",
       "\n",
       "    .dataframe tbody tr th {\n",
       "        vertical-align: top;\n",
       "    }\n",
       "\n",
       "    .dataframe thead th {\n",
       "        text-align: right;\n",
       "    }\n",
       "</style>\n",
       "<table border=\"1\" class=\"dataframe\">\n",
       "  <thead>\n",
       "    <tr style=\"text-align: right;\">\n",
       "      <th></th>\n",
       "      <th>review</th>\n",
       "      <th>clean_review</th>\n",
       "    </tr>\n",
       "  </thead>\n",
       "  <tbody>\n",
       "    <tr>\n",
       "      <th>0</th>\n",
       "      <td>Great banking app with attractive interest rat...</td>\n",
       "      <td>[great, banking, attractive, interest, rates, ...</td>\n",
       "    </tr>\n",
       "    <tr>\n",
       "      <th>1</th>\n",
       "      <td>A bank like no other, no bank have such amazin...</td>\n",
       "      <td>[bank, like, bank, amazing, feature, separate,...</td>\n",
       "    </tr>\n",
       "    <tr>\n",
       "      <th>2</th>\n",
       "      <td>Notice that the drop in interest rate of 0.8% ...</td>\n",
       "      <td>[notice, drop, interest, rate, saving, account...</td>\n",
       "    </tr>\n",
       "    <tr>\n",
       "      <th>3</th>\n",
       "      <td>Sending money into my GXS account is a breeze ...</td>\n",
       "      <td>[sending, money, account, breeze, instantaneou...</td>\n",
       "    </tr>\n",
       "    <tr>\n",
       "      <th>4</th>\n",
       "      <td>I have to say that the UI/UX is one of the bes...</td>\n",
       "      <td>[best, seen, digibank, mobile, finally, strong...</td>\n",
       "    </tr>\n",
       "  </tbody>\n",
       "</table>\n",
       "</div>"
      ],
      "text/plain": [
       "                                              review  \\\n",
       "0  Great banking app with attractive interest rat...   \n",
       "1  A bank like no other, no bank have such amazin...   \n",
       "2  Notice that the drop in interest rate of 0.8% ...   \n",
       "3  Sending money into my GXS account is a breeze ...   \n",
       "4  I have to say that the UI/UX is one of the bes...   \n",
       "\n",
       "                                        clean_review  \n",
       "0  [great, banking, attractive, interest, rates, ...  \n",
       "1  [bank, like, bank, amazing, feature, separate,...  \n",
       "2  [notice, drop, interest, rate, saving, account...  \n",
       "3  [sending, money, account, breeze, instantaneou...  \n",
       "4  [best, seen, digibank, mobile, finally, strong...  "
      ]
     },
     "execution_count": 95,
     "metadata": {},
     "output_type": "execute_result"
    }
   ],
   "source": [
    "review_data['clean_review'] = review_data['clean_review'].apply\\\n",
    "(lambda x:[word for word in x if word not in stopwords.words(\"english\") and len(word) > 3 and word.isalpha()])\n",
    "review_data.head()\n"
   ]
  },
  {
   "cell_type": "code",
   "execution_count": 96,
   "metadata": {},
   "outputs": [],
   "source": [
    "review_data = review_data[review_data['clean_review'].map(lambda x: len(x)) > 1].reset_index(drop=True)\n",
    "# Keeping records with more than single words"
   ]
  },
  {
   "attachments": {},
   "cell_type": "markdown",
   "metadata": {},
   "source": [
    "### 7. LEMMATIZATION"
   ]
  },
  {
   "cell_type": "code",
   "execution_count": 97,
   "metadata": {},
   "outputs": [
    {
     "name": "stderr",
     "output_type": "stream",
     "text": [
      "[nltk_data] Downloading package wordnet to /Users/neleht./nltk_data...\n",
      "[nltk_data]   Package wordnet is already up-to-date!\n"
     ]
    },
    {
     "data": {
      "text/plain": [
       "True"
      ]
     },
     "execution_count": 97,
     "metadata": {},
     "output_type": "execute_result"
    }
   ],
   "source": [
    "from nltk.stem import WordNetLemmatizer\n",
    "nltk.download('wordnet')"
   ]
  },
  {
   "cell_type": "code",
   "execution_count": 98,
   "metadata": {},
   "outputs": [
    {
     "data": {
      "text/html": [
       "<div>\n",
       "<style scoped>\n",
       "    .dataframe tbody tr th:only-of-type {\n",
       "        vertical-align: middle;\n",
       "    }\n",
       "\n",
       "    .dataframe tbody tr th {\n",
       "        vertical-align: top;\n",
       "    }\n",
       "\n",
       "    .dataframe thead th {\n",
       "        text-align: right;\n",
       "    }\n",
       "</style>\n",
       "<table border=\"1\" class=\"dataframe\">\n",
       "  <thead>\n",
       "    <tr style=\"text-align: right;\">\n",
       "      <th></th>\n",
       "      <th>review</th>\n",
       "      <th>clean_review</th>\n",
       "    </tr>\n",
       "  </thead>\n",
       "  <tbody>\n",
       "    <tr>\n",
       "      <th>0</th>\n",
       "      <td>Great banking app with attractive interest rat...</td>\n",
       "      <td>[great, banking, attractive, interest, rate, p...</td>\n",
       "    </tr>\n",
       "    <tr>\n",
       "      <th>1</th>\n",
       "      <td>A bank like no other, no bank have such amazin...</td>\n",
       "      <td>[bank, like, bank, amazing, feature, separate,...</td>\n",
       "    </tr>\n",
       "    <tr>\n",
       "      <th>2</th>\n",
       "      <td>Notice that the drop in interest rate of 0.8% ...</td>\n",
       "      <td>[notice, drop, interest, rate, saving, account...</td>\n",
       "    </tr>\n",
       "    <tr>\n",
       "      <th>3</th>\n",
       "      <td>Sending money into my GXS account is a breeze ...</td>\n",
       "      <td>[sending, money, account, breeze, instantaneou...</td>\n",
       "    </tr>\n",
       "    <tr>\n",
       "      <th>4</th>\n",
       "      <td>I have to say that the UI/UX is one of the bes...</td>\n",
       "      <td>[best, seen, digibank, mobile, finally, strong...</td>\n",
       "    </tr>\n",
       "  </tbody>\n",
       "</table>\n",
       "</div>"
      ],
      "text/plain": [
       "                                              review  \\\n",
       "0  Great banking app with attractive interest rat...   \n",
       "1  A bank like no other, no bank have such amazin...   \n",
       "2  Notice that the drop in interest rate of 0.8% ...   \n",
       "3  Sending money into my GXS account is a breeze ...   \n",
       "4  I have to say that the UI/UX is one of the bes...   \n",
       "\n",
       "                                        clean_review  \n",
       "0  [great, banking, attractive, interest, rate, p...  \n",
       "1  [bank, like, bank, amazing, feature, separate,...  \n",
       "2  [notice, drop, interest, rate, saving, account...  \n",
       "3  [sending, money, account, breeze, instantaneou...  \n",
       "4  [best, seen, digibank, mobile, finally, strong...  "
      ]
     },
     "execution_count": 98,
     "metadata": {},
     "output_type": "execute_result"
    }
   ],
   "source": [
    "review_data['clean_review'] = review_data['clean_review'].apply\\\n",
    "(lambda x: [WordNetLemmatizer().lemmatize(word) for word in x])\n",
    "review_data.head()"
   ]
  },
  {
   "attachments": {},
   "cell_type": "markdown",
   "metadata": {},
   "source": [
    "### 8. Extracting only NOUN"
   ]
  },
  {
   "cell_type": "code",
   "execution_count": 99,
   "metadata": {},
   "outputs": [
    {
     "name": "stderr",
     "output_type": "stream",
     "text": [
      "[nltk_data] Downloading package averaged_perceptron_tagger to\n",
      "[nltk_data]     /Users/neleht./nltk_data...\n",
      "[nltk_data]   Package averaged_perceptron_tagger is already up-to-\n",
      "[nltk_data]       date!\n"
     ]
    },
    {
     "data": {
      "text/plain": [
       "True"
      ]
     },
     "execution_count": 99,
     "metadata": {},
     "output_type": "execute_result"
    }
   ],
   "source": [
    "nltk.download('averaged_perceptron_tagger')"
   ]
  },
  {
   "cell_type": "code",
   "execution_count": 100,
   "metadata": {},
   "outputs": [],
   "source": [
    "review_data['clean_review'] = review_data['clean_review'].apply\\\n",
    "(lambda x: [word for word in x if nltk.pos_tag([word])[0][1] == 'NN'])"
   ]
  },
  {
   "cell_type": "code",
   "execution_count": 101,
   "metadata": {},
   "outputs": [],
   "source": [
    "review_data = review_data[review_data['clean_review'].map(lambda x: len(x)) > 1].reset_index(drop=True)\n",
    "# Keeping records with more than single words"
   ]
  },
  {
   "cell_type": "code",
   "execution_count": 102,
   "metadata": {},
   "outputs": [
    {
     "data": {
      "text/html": [
       "<div>\n",
       "<style scoped>\n",
       "    .dataframe tbody tr th:only-of-type {\n",
       "        vertical-align: middle;\n",
       "    }\n",
       "\n",
       "    .dataframe tbody tr th {\n",
       "        vertical-align: top;\n",
       "    }\n",
       "\n",
       "    .dataframe thead th {\n",
       "        text-align: right;\n",
       "    }\n",
       "</style>\n",
       "<table border=\"1\" class=\"dataframe\">\n",
       "  <thead>\n",
       "    <tr style=\"text-align: right;\">\n",
       "      <th></th>\n",
       "      <th>review</th>\n",
       "      <th>clean_review</th>\n",
       "    </tr>\n",
       "  </thead>\n",
       "  <tbody>\n",
       "    <tr>\n",
       "      <th>0</th>\n",
       "      <td>Great banking app with attractive interest rat...</td>\n",
       "      <td>[banking, interest, rate, please, payee, numbe...</td>\n",
       "    </tr>\n",
       "    <tr>\n",
       "      <th>1</th>\n",
       "      <td>A bank like no other, no bank have such amazin...</td>\n",
       "      <td>[bank, bank, feature, money, pocket, track, go...</td>\n",
       "    </tr>\n",
       "    <tr>\n",
       "      <th>2</th>\n",
       "      <td>Notice that the drop in interest rate of 0.8% ...</td>\n",
       "      <td>[notice, drop, interest, rate, account, reason...</td>\n",
       "    </tr>\n",
       "    <tr>\n",
       "      <th>3</th>\n",
       "      <td>Sending money into my GXS account is a breeze ...</td>\n",
       "      <td>[money, account, breeze, amount, fund, money, ...</td>\n",
       "    </tr>\n",
       "    <tr>\n",
       "      <th>4</th>\n",
       "      <td>I have to say that the UI/UX is one of the bes...</td>\n",
       "      <td>[digibank, mobile, market, player, focus, cust...</td>\n",
       "    </tr>\n",
       "  </tbody>\n",
       "</table>\n",
       "</div>"
      ],
      "text/plain": [
       "                                              review  \\\n",
       "0  Great banking app with attractive interest rat...   \n",
       "1  A bank like no other, no bank have such amazin...   \n",
       "2  Notice that the drop in interest rate of 0.8% ...   \n",
       "3  Sending money into my GXS account is a breeze ...   \n",
       "4  I have to say that the UI/UX is one of the bes...   \n",
       "\n",
       "                                        clean_review  \n",
       "0  [banking, interest, rate, please, payee, numbe...  \n",
       "1  [bank, bank, feature, money, pocket, track, go...  \n",
       "2  [notice, drop, interest, rate, account, reason...  \n",
       "3  [money, account, breeze, amount, fund, money, ...  \n",
       "4  [digibank, mobile, market, player, focus, cust...  "
      ]
     },
     "execution_count": 102,
     "metadata": {},
     "output_type": "execute_result"
    }
   ],
   "source": [
    "review_data.head()"
   ]
  },
  {
   "attachments": {},
   "cell_type": "markdown",
   "metadata": {},
   "source": [
    "### 9. Document Term Matrix"
   ]
  },
  {
   "cell_type": "code",
   "execution_count": 103,
   "metadata": {},
   "outputs": [],
   "source": [
    "import gensim\n",
    "from gensim import corpora"
   ]
  },
  {
   "cell_type": "code",
   "execution_count": 104,
   "metadata": {},
   "outputs": [
    {
     "name": "stdout",
     "output_type": "stream",
     "text": [
      "Dictionary(366 unique tokens: ['account', 'apple', 'banking', 'card', 'debit']...)\n"
     ]
    }
   ],
   "source": [
    "dictionary = corpora.Dictionary(review_data['clean_review'])\n",
    "print(dictionary)\n",
    "\n",
    "# We have 6724 unique tokens"
   ]
  },
  {
   "cell_type": "code",
   "execution_count": 105,
   "metadata": {},
   "outputs": [
    {
     "data": {
      "text/plain": [
       "0    [(0, 1), (1, 1), (2, 1), (3, 1), (4, 1), (5, 1...\n",
       "1    [(5, 3), (9, 1), (10, 3), (11, 1), (12, 1), (1...\n",
       "2    [(0, 9), (5, 7), (9, 6), (10, 1), (34, 1), (35...\n",
       "3    [(0, 2), (2, 1), (8, 1), (23, 2), (30, 1), (43...\n",
       "4    [(2, 1), (8, 1), (10, 1), (26, 1), (33, 1), (6...\n",
       "5    [(0, 1), (10, 4), (42, 1), (61, 1), (83, 1), (...\n",
       "6    [(2, 1), (5, 1), (9, 1), (10, 1), (32, 1), (74...\n",
       "7    [(2, 1), (7, 1), (10, 3), (17, 1), (23, 1), (3...\n",
       "8    [(17, 1), (25, 1), (32, 1), (33, 1), (74, 1), ...\n",
       "9    [(0, 2), (6, 1), (8, 1), (10, 3), (21, 1), (56...\n",
       "Name: clean_review, dtype: object"
      ]
     },
     "execution_count": 105,
     "metadata": {},
     "output_type": "execute_result"
    }
   ],
   "source": [
    "doc_term_matrix = review_data['clean_review'].apply(lambda x: dictionary.doc2bow(x))\n",
    "doc_term_matrix[:10]\n",
    "\n",
    "# Each tokenized words has been assigned index value and thier count in corpus"
   ]
  },
  {
   "attachments": {},
   "cell_type": "markdown",
   "metadata": {},
   "source": [
    "### LDA"
   ]
  },
  {
   "cell_type": "code",
   "execution_count": 106,
   "metadata": {},
   "outputs": [],
   "source": [
    "from IPython.display import clear_output"
   ]
  },
  {
   "cell_type": "code",
   "execution_count": 107,
   "metadata": {},
   "outputs": [],
   "source": [
    "Lda = gensim.models.ldamodel.LdaModel\n",
    "ldamodel = Lda(corpus=doc_term_matrix, num_topics=12, id2word=dictionary, passes=10,random_state=45)\n",
    "clear_output()\n",
    "\n",
    "# corpus requires document term matrix\n",
    "# num_topics is used to define number of topics to create from corpus\n",
    "# id2word requires mapping of words\n",
    "# passes is used to define number of iterations"
   ]
  },
  {
   "cell_type": "code",
   "execution_count": 108,
   "metadata": {},
   "outputs": [
    {
     "data": {
      "text/plain": [
       "[(0,\n",
       "  '0.040*\"experience\" + 0.040*\"digital\" + 0.040*\"bank\" + 0.027*\"fund\" + 0.027*\"interest\" + 0.027*\"account\" + 0.027*\"offer\" + 0.014*\"access\" + 0.014*\"banking\" + 0.014*\"singtel\"'),\n",
       " (1,\n",
       "  '0.075*\"wait\" + 0.046*\"write\" + 0.031*\"rate\" + 0.031*\"phone\" + 0.031*\"problem\" + 0.016*\"told\" + 0.016*\"grab\" + 0.016*\"dark\" + 0.016*\"staff\" + 0.016*\"risk\"'),\n",
       " (2,\n",
       "  '0.043*\"bank\" + 0.029*\"account\" + 0.029*\"money\" + 0.029*\"repayment\" + 0.022*\"transfer\" + 0.022*\"trust\" + 0.022*\"time\" + 0.015*\"ease\" + 0.015*\"singapore\" + 0.015*\"grab\"'),\n",
       " (3,\n",
       "  '0.060*\"user\" + 0.037*\"design\" + 0.025*\"service\" + 0.025*\"navigate\" + 0.025*\"device\" + 0.025*\"pocket\" + 0.025*\"grow\" + 0.025*\"money\" + 0.024*\"experience\" + 0.013*\"lack\"'),\n",
       " (4,\n",
       "  '0.117*\"interest\" + 0.101*\"pocket\" + 0.071*\"rate\" + 0.054*\"love\" + 0.029*\"money\" + 0.027*\"feature\" + 0.027*\"bank\" + 0.027*\"wait\" + 0.025*\"user\" + 0.022*\"goal\"'),\n",
       " (5,\n",
       "  '0.050*\"user\" + 0.050*\"something\" + 0.026*\"singpass\" + 0.026*\"information\" + 0.013*\"interest\" + 0.013*\"rate\" + 0.013*\"drop\" + 0.013*\"look\" + 0.013*\"service\" + 0.013*\"need\"'),\n",
       " (6,\n",
       "  '0.034*\"interface\" + 0.033*\"wait\" + 0.025*\"bank\" + 0.013*\"offer\" + 0.013*\"digital\" + 0.013*\"fast\" + 0.013*\"experience\" + 0.013*\"code\" + 0.013*\"singpass\" + 0.013*\"market\"'),\n",
       " (7,\n",
       "  '0.075*\"account\" + 0.052*\"bank\" + 0.042*\"interest\" + 0.038*\"rate\" + 0.019*\"sign\" + 0.019*\"consumer\" + 0.019*\"banking\" + 0.019*\"review\" + 0.019*\"joke\" + 0.014*\"increase\"'),\n",
       " (8,\n",
       "  '0.058*\"borrow\" + 0.039*\"loan\" + 0.020*\"fast\" + 0.020*\"email\" + 0.020*\"hassle\" + 0.020*\"flexi\" + 0.020*\"text\" + 0.020*\"tell\" + 0.020*\"millionaire\" + 0.020*\"friend\"'),\n",
       " (9,\n",
       "  '0.042*\"fast\" + 0.042*\"bank\" + 0.029*\"experience\" + 0.029*\"competitor\" + 0.029*\"amount\" + 0.015*\"feature\" + 0.015*\"touch\" + 0.015*\"provide\" + 0.015*\"useless\" + 0.015*\"lack\"'),\n",
       " (10,\n",
       "  '0.072*\"bank\" + 0.066*\"account\" + 0.060*\"money\" + 0.029*\"payee\" + 0.029*\"name\" + 0.028*\"transfer\" + 0.019*\"number\" + 0.019*\"need\" + 0.019*\"select\" + 0.019*\"type\"'),\n",
       " (11,\n",
       "  '0.039*\"sign\" + 0.030*\"interest\" + 0.030*\"function\" + 0.030*\"please\" + 0.020*\"rate\" + 0.020*\"bank\" + 0.020*\"store\" + 0.020*\"launch\" + 0.020*\"payee\" + 0.020*\"account\"')]"
      ]
     },
     "execution_count": 108,
     "metadata": {},
     "output_type": "execute_result"
    }
   ],
   "source": [
    "ldamodel.print_topics()\n",
    "\n",
    "# We have printed all 12 topics and their keywords generated by LDA"
   ]
  },
  {
   "attachments": {},
   "cell_type": "markdown",
   "metadata": {},
   "source": [
    "### Visualizing LDA model topics"
   ]
  },
  {
   "cell_type": "code",
   "execution_count": 109,
   "metadata": {},
   "outputs": [
    {
     "data": {
      "text/html": [
       "\n",
       "<link rel=\"stylesheet\" type=\"text/css\" href=\"https://cdn.jsdelivr.net/gh/bmabey/pyLDAvis@3.4.0/pyLDAvis/js/ldavis.v1.0.0.css\">\n",
       "\n",
       "\n",
       "<div id=\"ldavis_el79051110348288641881080642\" style=\"background-color:white;\"></div>\n",
       "<script type=\"text/javascript\">\n",
       "\n",
       "var ldavis_el79051110348288641881080642_data = {\"mdsDat\": {\"x\": [0.10159059129277036, 0.10409264824651594, -0.1377183107008571, 0.12315258557517679, 0.08100376969607036, -0.0801634400700923, -0.04333783219982338, -0.1167485531015972, 0.010449304830643408, -0.01233084901054989, -0.010475743165622069, -0.019514171392635643], \"y\": [0.09324041490488374, -0.032473202588640435, 0.16534322044660954, 0.06067965494008834, 0.028749675279396623, -0.06005962350207618, -0.05624021744332128, 0.03387479348388032, -0.008978865238734325, -0.045481176259065545, -0.04131307368516163, -0.13734160033785922], \"topics\": [1, 2, 3, 4, 5, 6, 7, 8, 9, 10, 11, 12], \"cluster\": [1, 1, 1, 1, 1, 1, 1, 1, 1, 1, 1, 1], \"Freq\": [21.22097216549869, 13.000832983508348, 10.697921806203686, 9.242775471275086, 8.601843857065457, 6.456987204403817, 6.142662889206188, 6.039286037476414, 5.6564026142682655, 5.121168237640641, 4.702900107090582, 3.116246626362822]}, \"tinfo\": {\"Term\": [\"pocket\", \"interest\", \"wait\", \"account\", \"rate\", \"user\", \"money\", \"love\", \"experience\", \"fast\", \"something\", \"write\", \"sign\", \"bank\", \"borrow\", \"digital\", \"loan\", \"design\", \"interface\", \"offer\", \"payee\", \"please\", \"review\", \"amount\", \"phone\", \"feature\", \"navigate\", \"problem\", \"service\", \"increase\", \"consumer\", \"decrease\", \"point\", \"joke\", \"review\", \"apple\", \"audience\", \"awesome\", \"batch\", \"group\", \"institution\", \"reviewer\", \"ummmm\", \"accept\", \"ton\", \"debit\", \"everyone\", \"proposition\", \"okayyyy\", \"fake\", \"proceed\", \"invite\", \"value\", \"processing\", \"mind\", \"buggy\", \"paperwork\", \"fluid\", \"reward\", \"download\", \"increase\", \"account\", \"application\", \"nothing\", \"banking\", \"sign\", \"rate\", \"bank\", \"interest\", \"number\", \"grab\", \"payee\", \"please\", \"fast\", \"time\", \"wait\", \"want\", \"user\", \"money\", \"feature\", \"look\", \"transfer\", \"repayment\", \"cash\", \"merchant\", \"payment\", \"trust\", \"banner\", \"june\", \"officer\", \"today\", \"everything\", \"perfect\", \"saver\", \"anyone\", \"compare\", \"register\", \"slot\", \"topup\", \"link\", \"draw\", \"minimum\", \"immediate\", \"disbursement\", \"home\", \"read\", \"create\", \"inconvenience\", \"paynow\", \"uiux\", \"choice\", \"borrowing\", \"help\", \"code\", \"apps\", \"thing\", \"amount\", \"advice\", \"singapore\", \"ease\", \"transfer\", \"money\", \"bank\", \"time\", \"grab\", \"account\", \"banking\", \"interest\", \"fast\", \"singpass\", \"service\", \"customer\", \"issue\", \"excuse\", \"love\", \"pocket\", \"goal\", \"worth\", \"portion\", \"period\", \"straight\", \"promise\", \"script\", \"intern\", \"term\", \"limit\", \"helpful\", \"move\", \"interest\", \"excellent\", \"interface\", \"convenient\", \"market\", \"build\", \"rate\", \"change\", \"notice\", \"feature\", \"stay\", \"month\", \"touch\", \"provide\", \"super\", \"wait\", \"user\", \"money\", \"time\", \"bank\", \"experience\", \"design\", \"transfer\", \"name\", \"select\", \"type\", \"everytime\", \"frustration\", \"list\", \"bother\", \"cancel\", \"client\", \"didnt\", \"god\", \"inform\", \"opening\", \"switch\", \"credit\", \"lengthy\", \"smoother\", \"lot\", \"turn\", \"track\", \"slick\", \"button\", \"eye\", \"effort\", \"colour\", \"moreover\", \"found\", \"access\", \"everyday\", \"product\", \"payee\", \"money\", \"account\", \"bank\", \"transfer\", \"need\", \"number\", \"feature\", \"time\", \"card\", \"mistake\", \"application\", \"fund\", \"sign\", \"function\", \"include\", \"maribank\", \"troublesome\", \"beta\", \"bode\", \"heard\", \"info\", \"mundane\", \"proper\", \"spend\", \"testflight\", \"respond\", \"doesnt\", \"seem\", \"cant\", \"tune\", \"screen\", \"purpose\", \"lead\", \"generator\", \"sick\", \"cheap\", \"buzz\", \"news\", \"receive\", \"stop\", \"fill\", \"advertising\", \"update\", \"store\", \"sign\", \"please\", \"launch\", \"offer\", \"payee\", \"interest\", \"rate\", \"account\", \"bank\", \"look\", \"transfer\", \"year\", \"response\", \"build\", \"stay\", \"feel\", \"join\", \"asap\", \"differ\", \"digibank\", \"focus\", \"mobile\", \"player\", \"devs\", \"feedback\", \"ipad\", \"login\", \"safety\", \"workaround\", \"integration\", \"sleek\", \"responsive\", \"load\", \"comprehensive\", \"speed\", \"understand\", \"meet\", \"interface\", \"unique\", \"start\", \"market\", \"convenient\", \"product\", \"generate\", \"rating\", \"quick\", \"transaction\", \"wait\", \"bank\", \"offer\", \"digital\", \"fast\", \"experience\", \"code\", \"singpass\", \"design\", \"feature\", \"simple\", \"banking\", \"customer\", \"change\", \"time\", \"please\", \"information\", \"something\", \"bait\", \"company\", \"method\", \"honest\", \"week\", \"roll\", \"recovery\", \"baffling\", \"income\", \"process\", \"incorrect\", \"mean\", \"anytime\", \"moolah\", \"brighter\", \"color\", \"attempt\", \"notification\", \"dark\", \"transparent\", \"feel\", \"emergency\", \"correct\", \"whenever\", \"drop\", \"theme\", \"singpass\", \"update\", \"user\", \"interest\", \"rate\", \"look\", \"service\", \"need\", \"deposit\", \"ease\", \"issue\", \"device\", \"grow\", \"abrupt\", \"clarity\", \"consistent\", \"disruption\", \"profit\", \"explanation\", \"cripple\", \"explore\", \"debtor\", \"board\", \"fair\", \"dumb\", \"forget\", \"growth\", \"hope\", \"person\", \"transparent\", \"design\", \"unique\", \"everyday\", \"navigate\", \"star\", \"user\", \"service\", \"lack\", \"goal\", \"loan\", \"experience\", \"pocket\", \"money\", \"time\", \"transfer\", \"continue\", \"return\", \"worry\", \"thank\", \"transparency\", \"le\", \"recommend\", \"security\", \"straightforward\", \"kenna\", \"communication\", \"bug\", \"future\", \"seamless\", \"digital\", \"start\", \"access\", \"singtel\", \"offer\", \"experience\", \"fund\", \"month\", \"super\", \"deposit\", \"issue\", \"simple\", \"service\", \"grab\", \"fast\", \"banking\", \"bank\", \"interest\", \"account\", \"time\", \"feature\", \"competitor\", \"swift\", \"think\", \"pure\", \"brilliant\", \"opinion\", \"prefer\", \"timer\", \"recommendation\", \"giant\", \"show\", \"amount\", \"useless\", \"excellent\", \"improvement\", \"breeze\", \"work\", \"fast\", \"lack\", \"stay\", \"staff\", \"transaction\", \"touch\", \"provide\", \"singapore\", \"experience\", \"digital\", \"launch\", \"increase\", \"joke\", \"bank\", \"feature\", \"design\", \"risk\", \"morning\", \"bill\", \"hurray\", \"earn\", \"benefit\", \"end\", \"someway\", \"soooo\", \"age\", \"optimise\", \"problem\", \"write\", \"phone\", \"dark\", \"wait\", \"case\", \"told\", \"staff\", \"help\", \"advice\", \"navigate\", \"increase\", \"grab\", \"review\", \"please\", \"rate\", \"instruction\", \"clean\", \"plat\", \"account\", \"pocket\", \"bank\", \"borrow\", \"family\", \"friend\", \"member\", \"millionaire\", \"sent\", \"text\", \"tell\", \"flexi\", \"approval\", \"plat\", \"form\", \"instruction\", \"clean\", \"response\", \"hassle\", \"loan\", \"email\", \"quick\", \"fast\", \"optimise\", \"age\", \"benefit\", \"end\", \"someway\", \"soooo\", \"morning\", \"bill\", \"hurray\", \"earn\", \"quality\", \"reversal\", \"reply\", \"developer\", \"medium\", \"detail\", \"development\", \"kind\", \"review\", \"life\", \"staff\", \"bank\", \"touch\", \"time\", \"money\", \"transfer\", \"payee\"], \"Freq\": [11.0, 24.0, 9.0, 25.0, 17.0, 10.0, 13.0, 5.0, 7.0, 6.0, 3.0, 3.0, 7.0, 30.0, 2.0, 3.0, 3.0, 5.0, 4.0, 4.0, 5.0, 6.0, 5.0, 3.0, 3.0, 7.0, 4.0, 2.0, 4.0, 4.0, 3.422302482175873, 1.7460718545841936, 1.7460718545841936, 3.416847669049934, 3.4183529068707297, 0.9079752893021359, 0.9079752893021359, 0.9079752893021359, 0.9079752893021359, 0.9079752893021359, 0.9079752893021359, 0.9079752893021359, 0.9079752893021359, 0.9079752893021359, 0.9079752056034137, 0.9079752056034137, 0.9079752056034137, 0.9079752056034137, 0.9079752056034137, 0.9079752056034137, 0.9079752056034137, 0.9079752056034137, 0.9079752056034137, 0.9079752056034137, 0.9079752056034137, 0.9079752056034137, 0.9079752056034137, 0.9079752056034137, 0.9079752056034137, 0.9079752056034137, 2.584174948366586, 13.475480889125636, 1.7461058362654236, 1.7425087999783624, 3.4206619872199346, 3.422361406076331, 6.777180621662684, 9.283680812224707, 7.619766284213457, 2.5818993475062775, 1.7460815636359737, 1.74433259513601, 1.744033455902718, 1.74234592226488, 1.7440610764810578, 0.9108035528254068, 0.9101220778289145, 0.9098704794698558, 0.9090272985419925, 0.908504683720315, 0.9081965050250209, 0.9080028261817534, 3.1511439609194136, 1.6093776360511984, 1.609371790444624, 1.6093704572361072, 2.381879570011122, 0.8368764199727837, 0.8368764199727837, 0.8368764199727837, 0.8368764199727837, 0.8368764199727837, 0.8368764199727837, 0.8368764199727837, 0.8368763686955332, 0.8368763686955332, 0.8368763686955332, 0.8368763686955332, 0.8368763686955332, 0.8368763686955332, 0.8368763686955332, 0.8368763686955332, 0.8368763686955332, 0.8368762661410318, 0.8368762661410318, 0.8368731382287421, 0.8368725741789849, 0.8368722152382303, 0.836870933306964, 0.836863292996617, 0.8353848673058341, 0.8349910067435801, 1.6093776360511984, 1.6093684061460811, 1.6093776360511984, 1.6093773283876944, 1.6093776360511984, 1.6093752772976684, 1.6093782513782062, 1.6093791743687178, 2.3818799802291273, 3.1522722655427486, 4.715567959423988, 2.379962621272768, 1.6093776360511984, 3.1543807860895368, 1.6093730210986397, 1.6093649192930368, 0.8530505467595216, 0.8368776506267994, 0.8368773429632955, 0.836876830190789, 0.8368765225272851, 0.8368764199727837, 4.9347164050969425, 9.189567118986654, 1.9891094942966858, 0.7642077192283704, 0.7642076348399287, 0.7642076348399287, 0.7642076348399287, 0.7642076348399287, 0.7642076348399287, 0.7642076348399287, 0.764207550451487, 0.764207550451487, 0.764207550451487, 1.469630112439793, 10.583813374041712, 0.7642072128977204, 1.5479213204167372, 0.7642071285092787, 0.7642060314595371, 0.7642072972861621, 6.395746660223635, 1.4696297748860263, 0.7642072128977204, 2.4687811604518104, 0.7642069597323954, 0.7642072128977204, 0.7642043436907038, 0.7642055251288871, 0.7642071285092787, 2.404681387932627, 2.2557838898073177, 2.6259524389516304, 1.4713840418113389, 2.463597516034154, 0.8564513745962828, 0.8157655971590001, 0.8345055696224535, 2.253259808284914, 1.522472851317894, 1.522472851317894, 0.7916859672606815, 0.7916859672606815, 0.7916859672606815, 0.7916859672606815, 0.7916859672606815, 0.7916859672606815, 0.7916859672606815, 0.7916859672606815, 0.7916859672606815, 0.7916859672606815, 0.7916858214410667, 0.7916858214410667, 0.7916858214410667, 0.7891928163959957, 0.788912915645315, 0.7888031863851497, 0.7887283080129306, 0.7886652410295133, 0.7886310463298339, 0.7885550743105035, 0.7885168695714161, 0.7885545639418516, 0.7883956205616787, 0.7881280415684516, 0.791684654884148, 0.7882602270493019, 0.7886042155207038, 2.253262578857596, 4.706137336827145, 5.180156075172009, 5.609119468924353, 2.177596343259524, 1.5224746011532722, 1.52451461756485, 1.1859275963357796, 0.791686404719526, 0.7916861859901038, 0.7916861859901038, 0.7916861859901038, 0.7916859672606815, 0.7916858214410667, 2.1710685327591737, 0.7628079435525092, 0.7628079435525092, 0.7628079435525092, 0.7628079435525092, 0.7628079435525092, 0.7628079435525092, 0.7628079435525092, 0.7628079435525092, 0.7628079435525092, 0.7628079435525092, 0.7628079435525092, 0.7628078756985641, 0.7628078756985641, 0.7628078756985641, 0.7628078756985641, 0.7628078756985641, 0.7628078756985641, 0.7628078756985641, 0.7628078078446191, 0.7628078078446191, 0.7628078078446191, 0.7628078078446191, 0.7614326119400104, 0.7613064714561368, 0.7613001610392459, 0.7612473028160411, 0.7611029096209453, 0.7610384483731347, 1.4654214310678846, 1.4669400023584132, 2.843770508503622, 2.1540390924586146, 1.4669393238189625, 1.4633555498564712, 1.46693660966116, 2.1787703626475885, 1.4728519808839344, 1.4669258887378398, 1.467722222637109, 0.7640284324623723, 0.7639124022163132, 0.7628084863840697, 0.7628084863840697, 0.7628082828222346, 0.7628081471143444, 0.7628079435525092, 0.7628079435525092, 0.711359370095184, 0.711359370095184, 0.711359370095184, 0.711359370095184, 0.711359370095184, 0.711359370095184, 0.711359370095184, 0.711359370095184, 0.711359370095184, 0.711359370095184, 0.711359370095184, 0.711359370095184, 0.711359370095184, 0.7113592682258494, 0.7113592682258494, 0.7113592682258494, 0.7113592682258494, 0.7113592682258494, 0.7113592172911821, 0.7113574855124938, 1.8841470969081846, 0.7113584023365053, 0.7113592682258494, 0.7113607453312012, 0.7113597266378551, 0.711359370095184, 0.7113599813111916, 0.7113596757031878, 0.7113598285071897, 0.7113591154218475, 1.8006969604322067, 1.3712650486283162, 0.7127129079440738, 0.7127119911200623, 0.7125484399033548, 0.7121340863848511, 0.7113670102952794, 0.711361560285878, 0.7113607453312012, 0.7113605925271993, 0.71136038878853, 0.7113602869191954, 0.7113601341151935, 0.7113599813111916, 0.7113596757031878, 0.7113595738338532, 1.329711854966401, 2.5928676100490526, 0.691450214975918, 0.691450214975918, 0.691450214975918, 0.691450214975918, 0.691450214975918, 0.691450214975918, 0.691450214975918, 0.691450214975918, 0.6914501180655538, 0.6914501180655538, 0.6914501180655538, 0.6914501180655538, 0.6914501180655538, 0.6914501180655538, 0.6914501180655538, 0.6914501180655538, 0.6914501180655538, 0.6914500696103717, 0.6914498273344614, 0.6914502634311, 0.691450214975918, 0.6914503603414641, 0.6914502634311, 0.6914500696103717, 0.6914677072966451, 0.6914503603414641, 1.3297185417815267, 0.6914471622994476, 2.6118934403783824, 0.6915720313036413, 0.6915320557784338, 0.6914522016383828, 0.6914515717210159, 0.6914510387140131, 0.6914506026173745, 0.6914505057070104, 0.6914503603414641, 1.2978256765444443, 1.2923121418603059, 0.6748694318378309, 0.6748694318378309, 0.6748694318378309, 0.6748694318378309, 0.6748694318378309, 0.6748694318378309, 0.6748694318378309, 0.6748694318378309, 0.6748694318378309, 0.6748694318378309, 0.6748694318378309, 0.6748694318378309, 0.6748694318378309, 0.6748693365584024, 0.6748693365584024, 0.6748693365584024, 0.6748692412789741, 1.8697375872275641, 0.6748684314038326, 0.6748690983598314, 1.2978292018832958, 0.674870146433544, 3.0746178002346602, 1.2978312027512924, 0.6748706704704003, 0.6748686696024035, 0.6748696223966877, 1.2108449910642118, 1.2978179589107426, 1.2923062345357441, 0.6748700035144014, 0.6748694318378309, 0.6786466518176447, 0.6786466518176447, 0.6786466518176447, 0.6786466518176447, 0.6786466071982307, 0.6786466071982307, 0.6786466071982307, 0.6786466071982307, 0.6786466071982307, 0.6786466071982307, 0.6786466071982307, 0.6786465179594027, 0.6770756022505995, 0.6769342925664521, 1.9302440597414097, 0.6786466071982307, 0.6786477226835808, 0.6786474103476827, 1.303798641992968, 1.9308000176398867, 1.3050905525060104, 0.6786469641535428, 0.6774649066377756, 0.6786470980117847, 0.6786466518176447, 0.6786470533923707, 0.6775067596481104, 0.6786464287205747, 0.6775115785448227, 0.6786474103476827, 1.9284219813511836, 1.3050892139235903, 1.3050879645799982, 0.6786468749147148, 0.6786460717652627, 1.2464451133183743, 0.648151421760017, 0.648151421760017, 0.648151421760017, 0.648151421760017, 0.648151421760017, 0.648151421760017, 0.648151421760017, 0.648151421760017, 0.648151421760017, 0.6481513409653702, 1.2464447901397868, 0.6481525124877493, 0.6481517853359278, 0.6481515025546639, 0.648151421760017, 0.648151421760017, 1.8322144630956918, 0.6481523508984556, 0.6481519469252215, 0.6481517045412809, 0.6481515025546639, 0.6481534820235112, 0.6481531588449239, 0.6481513409653702, 1.2464493954346563, 0.6481495634831399, 0.6481515025546639, 0.6481507754028424, 0.6481513409653702, 1.8322028286665484, 0.6606813787690112, 0.6481522297064853, 0.6393036976520083, 0.6393036234562125, 0.6393036234562125, 0.6393036234562125, 0.6393036234562125, 0.6393036234562125, 0.6393036234562125, 0.6393036234562125, 0.6393036234562125, 0.6393035492604167, 0.6393035492604167, 1.2294302734028575, 1.819566568802967, 1.2294315347313876, 0.6393039944351919, 2.999821204220583, 0.6393036976520083, 0.6393044396099672, 0.6393038460436001, 0.6393034750646207, 0.6393036976520083, 0.639303326673029, 0.6393036234562125, 0.6393042912183754, 0.6393034750646207, 0.6393034750646207, 1.2294315347313876, 0.04917721928314134, 0.04917721928314134, 0.0491772146459041, 0.6393004330369897, 0.04917728884169997, 0.049177274929988246, 1.519634691766936, 0.5339257038414584, 0.5339257038414584, 0.5339257038414584, 0.5339257038414584, 0.5339257038414584, 0.5339257038414584, 0.5339257038414584, 0.5339257038414584, 0.5339257038414584, 0.5339256055138761, 0.5339256055138761, 0.5339256055138761, 0.5339256055138761, 0.533925212203547, 0.5339263429707432, 1.0267850896014155, 0.53392663795349, 0.5339254088587116, 0.5361353212703159, 0.04107121909693037, 0.04107121602419343, 0.04107121602419343, 0.04107121602419343, 0.04107121602419343, 0.04107121602419343, 0.04107120987871954, 0.04107120987871954, 0.04107120987871954, 0.04107120987871954, 0.042386562528692155, 0.04228648655909602, 0.04209094372532283, 0.042074234181810166, 0.041994837731860996, 0.04191630779373061, 0.04187281320225917, 0.04185349490507931, 0.0434328724771419, 0.04201260736962004, 0.04221135506802797, 0.04325846392808369, 0.04216692943726188, 0.042272210623244634, 0.042223384833171784, 0.04219565338223362, 0.042113405432398505], \"Total\": [11.0, 24.0, 9.0, 25.0, 17.0, 10.0, 13.0, 5.0, 7.0, 6.0, 3.0, 3.0, 7.0, 30.0, 2.0, 3.0, 3.0, 5.0, 4.0, 4.0, 5.0, 6.0, 5.0, 3.0, 3.0, 7.0, 4.0, 2.0, 4.0, 4.0, 4.0172207358844725, 2.3409658870574663, 2.3409659112850574, 4.614440075236525, 5.204002490548571, 1.5028433376840238, 1.5028433376840238, 1.5028433376840238, 1.5028433376840238, 1.5028433376840238, 1.5028433376840238, 1.5028433376840238, 1.5028433480079668, 1.50284338163302, 1.502843265405053, 1.5028432660857398, 1.5028432752798402, 1.5028432868751977, 1.502843294046185, 1.5028432957881972, 1.5028432976734123, 1.502843299422396, 1.5028433050613685, 1.5028433050613685, 1.5028433081985713, 1.5028433092058033, 1.5028433096986058, 1.502843314255469, 1.5028433184963406, 1.5028433279359108, 4.367510351567832, 25.531005281844823, 3.0717612127717433, 3.1130146738817666, 6.8446172163726375, 7.564601674575887, 17.544114238912357, 30.13031554862501, 24.96330773615433, 6.117010858361056, 5.102540329066026, 5.940865669891703, 6.472398214244913, 6.686446832289721, 10.04753242022478, 9.179956704786258, 2.233862922282294, 10.582437496194997, 13.05399554879123, 7.572038057573779, 3.5760042382947472, 8.042109297383835, 3.754436212359169, 2.209714891615268, 2.209713996279063, 2.2097137884888487, 3.820044427520143, 1.4372136164451725, 1.4372136164451725, 1.4372136164451725, 1.4372136164451725, 1.4372136164451725, 1.4372136164451725, 1.4372136164451725, 1.437213565167922, 1.437213565167922, 1.437213565167922, 1.437213565167922, 1.4372135712248197, 1.4372136014323575, 1.4372136242596032, 1.4372136242596032, 1.4372136242596032, 1.4372135657121836, 1.4372135717690813, 1.437213110640499, 1.4372130050027476, 1.4372129622777015, 1.4372127376371477, 1.4372124948348894, 1.4370840980255601, 1.4370498073226998, 2.7998411520339848, 2.866352718500621, 2.9138494618891544, 3.0478409998857856, 3.406301886204582, 3.637721628543423, 3.6458767577354987, 3.686107303064066, 8.042109297383835, 13.05399554879123, 30.13031554862501, 10.04753242022478, 5.102540329066026, 25.531005281844823, 6.8446172163726375, 24.96330773615433, 6.686446832289721, 4.208504511397894, 4.678671406704333, 2.9319836206217382, 3.5393634898971533, 2.2753407755813404, 5.596995852286836, 11.080447859917198, 3.3952930972624107, 1.370134873694503, 1.3701347407198279, 1.370134749416432, 1.370134752813764, 1.3701347564437691, 1.3701347957157175, 1.3701347987456316, 1.370134718914053, 1.370134728284964, 1.370134805409058, 2.7796876039179725, 24.96330773615433, 1.9684283463407108, 4.058758301917387, 2.026774192281272, 2.026774050461213, 2.0742651958880125, 17.544114238912357, 4.142959507058312, 2.2082618325235543, 7.572038057573779, 2.672558883360301, 2.769079048567143, 2.805791808463117, 2.806559053769293, 2.8347656791115803, 9.179956704786258, 10.582437496194997, 13.05399554879123, 10.04753242022478, 30.13031554862501, 7.197687903009393, 5.338230438432994, 8.042109297383835, 2.85707319840009, 2.1262862363834043, 2.1262862363834043, 1.3954993523261923, 1.3954993523261923, 1.3954993523261923, 1.3954993523261923, 1.3954993523261923, 1.3954993523261923, 1.3954993523261923, 1.3954993523261923, 1.3954993523261923, 1.3954993523261923, 1.3954992555067918, 1.395499267451052, 1.395499267451052, 1.3956718458842325, 1.3957040012090818, 1.3956855091836673, 1.3957278046714807, 1.3957130767250756, 1.3956832542438793, 1.3957281351917243, 1.3956716208738358, 1.3957834860812022, 1.395783751304575, 1.3957485688322546, 2.021942312188094, 2.018653031957376, 2.0523499027271384, 5.940865669891703, 13.05399554879123, 25.531005281844823, 30.13031554862501, 8.042109297383835, 4.997406619919466, 6.117010858361056, 7.572038057573779, 10.04753242022478, 2.233630330485805, 2.1680002506378253, 3.0717612127717433, 4.963143190136137, 7.564601674575887, 2.7771034082167643, 1.3688427133287775, 1.3688427133287775, 1.3688427133287775, 1.3688427133287775, 1.3688427133287775, 1.3688427133287775, 1.3688427133287775, 1.3688427133287775, 1.3688427133287775, 1.3688427133287775, 1.3688427133287775, 1.36884265074911, 1.3688426568060077, 1.368842662353493, 1.368842673319071, 1.368842677376752, 1.368842679451464, 1.3688427067352984, 1.3688426388813535, 1.3688426452910099, 1.3688426591295209, 1.3688427166430646, 1.3688451812547726, 1.368845465205067, 1.3688454470013576, 1.3688455899937955, 1.3688457805706582, 1.368845950320607, 2.7112378115680253, 2.9111036951462115, 7.564601674575887, 6.472398214244913, 4.281628232711889, 4.6208292505172475, 5.940865669891703, 24.96330773615433, 17.544114238912357, 25.531005281844823, 30.13031554862501, 3.5760042382947472, 8.042109297383835, 2.141344007907399, 1.8616974064572478, 2.0742651958880125, 2.672558883360301, 2.007104500158915, 2.206973626107229, 1.3213517271791215, 1.3213517271791215, 1.3213517271791215, 1.3213517271791215, 1.3213517271791215, 1.3213517271791215, 1.3213517271791215, 1.3213517271791215, 1.3213517271791215, 1.3213517271791215, 1.3213517271791215, 1.3213517271791215, 1.3213517332360192, 1.3213516305840645, 1.3213516733377275, 1.3213516733377275, 1.3213516844442907, 1.3213516844442907, 1.3213516951488171, 1.3213518314789592, 4.058758301917387, 1.9443082201502144, 1.947794698321803, 2.026774050461213, 2.026774192281272, 2.0523499027271384, 2.159482588773351, 2.1594827800834033, 2.5867074809201354, 2.692146543084261, 9.179956704786258, 30.13031554862501, 4.6208292505172475, 3.799036709457757, 6.686446832289721, 7.197687903009393, 2.866352718500621, 4.208504511397894, 5.338230438432994, 7.572038057573779, 3.5581353181672513, 6.8446172163726375, 2.9319836206217382, 4.142959507058312, 10.04753242022478, 6.472398214244913, 1.9412357405576832, 3.9916672751713183, 1.3029740411227604, 1.3029740411227604, 1.3029740411227604, 1.302974051509106, 1.3029740728475019, 1.3029740804939518, 1.3029740829283019, 1.3029740853216987, 1.3029739442123962, 1.3029739505792295, 1.3029739586679319, 1.3029739984256659, 1.302974003656836, 1.302974003656836, 1.302974003656836, 1.302974003656836, 1.302974003656836, 1.3029739937479208, 1.8931004927150314, 1.9259303460892814, 2.007104500158915, 2.0753216965182912, 2.075474550519223, 2.075475261015257, 2.1410995621216022, 2.14110502306752, 4.208504511397894, 2.7112378115680253, 10.582437496194997, 24.96330773615433, 17.544114238912357, 3.5760042382947472, 4.678671406704333, 4.997406619919466, 3.3171464949771883, 3.686107303064066, 3.5393634898971533, 1.910624964018765, 1.9109231873492185, 1.2876686978026333, 1.2876686978026333, 1.2876686978026333, 1.2876686978026333, 1.2876686978026333, 1.2876687039481072, 1.2876687176472614, 1.2876687349709375, 1.2876687509393503, 1.2876687527921435, 1.2876687573490064, 1.2876687573490064, 1.2876687573490064, 1.287668662069578, 1.2876686684364114, 1.287668680023121, 1.9259303460892814, 5.338230438432994, 1.9443082201502144, 2.018653031957376, 4.044303773660514, 2.125799579489715, 10.582437496194997, 4.678671406704333, 2.590092488151948, 3.3952930972624107, 3.751298843417716, 7.197687903009393, 11.080447859917198, 13.05399554879123, 10.04753242022478, 8.042109297383835, 1.291155368296266, 1.291155368296266, 1.291155368296266, 1.291155412872742, 1.2911553608961959, 1.2911553659458614, 1.2911553836007628, 1.2911553836007628, 1.2911553836007628, 1.2911553836007628, 1.2911553836007628, 1.2911553067252086, 1.291231079076109, 1.291237839288434, 3.799036709457757, 1.947794698321803, 2.021942312188094, 2.1292860584439857, 4.6208292505172475, 7.197687903009393, 4.963143190136137, 2.769079048567143, 2.8347656791115803, 3.3171464949771883, 3.5393634898971533, 3.5581353181672513, 4.678671406704333, 5.102540329066026, 6.686446832289721, 6.8446172163726375, 30.13031554862501, 24.96330773615433, 25.531005281844823, 10.04753242022478, 7.572038057573779, 1.8612996720453179, 1.2630059200352888, 1.263005930547116, 1.263005930729424, 1.2630059684998778, 1.2630059804869607, 1.2630059804869607, 1.2630059804869607, 1.2630059878005693, 1.263006012130769, 1.263005899692314, 3.406301886204582, 1.9671363232068186, 1.9684283463407108, 2.03550731581796, 2.035507207084, 2.035507235023313, 6.686446832289721, 2.590092488151948, 2.672558883360301, 2.690464678847632, 2.692146543084261, 2.805791808463117, 2.806559053769293, 3.6458767577354987, 7.197687903009393, 3.799036709457757, 4.281628232711889, 4.367510351567832, 4.614440075236525, 30.13031554862501, 7.572038057573779, 5.338230438432994, 1.254838802869884, 1.2548387176694586, 1.254838724079115, 1.2548387264671932, 1.2548387550547322, 1.2548387605324007, 1.2548387631861238, 1.254838772956132, 1.2548387785335586, 1.2548387141689035, 1.2548387392655598, 2.6174664041151923, 3.978642227419808, 3.386965472082893, 1.8931004927150314, 9.179956704786258, 2.0929640206051388, 2.092969534834865, 2.690464678847632, 2.7998411520339848, 3.637721628543423, 4.044303773660514, 4.367510351567832, 5.102540329066026, 5.204002490548571, 6.472398214244913, 17.544114238912357, 1.1575668080569692, 1.1575668224449727, 1.157566775410907, 25.531005281844823, 11.080447859917198, 30.13031554862501, 2.143275845465993, 1.1575667981846518, 1.1575667981846518, 1.1575667981846518, 1.1575667981846518, 1.1575667981846518, 1.1575667981846518, 1.1575668089932485, 1.157566814463, 1.157566862814793, 1.157566775410907, 1.157566776431186, 1.1575668080569692, 1.1575668224449727, 1.8616974064572478, 1.9300678132268252, 3.751298843417716, 1.9956973970052094, 2.5867074809201354, 6.686446832289721, 1.2548387392655598, 1.2548387141689035, 1.2548387605324007, 1.2548387631861238, 1.254838772956132, 1.2548387785335586, 1.2548387176694586, 1.254838724079115, 1.2548387264671932, 1.2548387550547322, 1.5019218419820857, 1.501991925514807, 1.5021289177045003, 1.5021405820278275, 1.5021962753155766, 1.502251328538144, 1.50228165621969, 1.502295231520351, 5.204002490548571, 2.27468505467693, 2.690464678847632, 30.13031554862501, 2.805791808463117, 10.04753242022478, 13.05399554879123, 8.042109297383835, 5.940865669891703], \"Category\": [\"Default\", \"Default\", \"Default\", \"Default\", \"Default\", \"Default\", \"Default\", \"Default\", \"Default\", \"Default\", \"Default\", \"Default\", \"Default\", \"Default\", \"Default\", \"Default\", \"Default\", \"Default\", \"Default\", \"Default\", \"Default\", \"Default\", \"Default\", \"Default\", \"Default\", \"Default\", \"Default\", \"Default\", \"Default\", \"Default\", \"Topic1\", \"Topic1\", \"Topic1\", \"Topic1\", \"Topic1\", \"Topic1\", \"Topic1\", \"Topic1\", \"Topic1\", \"Topic1\", \"Topic1\", \"Topic1\", \"Topic1\", \"Topic1\", \"Topic1\", \"Topic1\", \"Topic1\", \"Topic1\", \"Topic1\", \"Topic1\", \"Topic1\", \"Topic1\", \"Topic1\", \"Topic1\", \"Topic1\", \"Topic1\", \"Topic1\", \"Topic1\", \"Topic1\", \"Topic1\", \"Topic1\", \"Topic1\", \"Topic1\", \"Topic1\", \"Topic1\", \"Topic1\", \"Topic1\", \"Topic1\", \"Topic1\", \"Topic1\", \"Topic1\", \"Topic1\", \"Topic1\", \"Topic1\", \"Topic1\", \"Topic1\", \"Topic1\", \"Topic1\", \"Topic1\", \"Topic1\", \"Topic1\", \"Topic1\", \"Topic2\", \"Topic2\", \"Topic2\", \"Topic2\", \"Topic2\", \"Topic2\", \"Topic2\", \"Topic2\", \"Topic2\", \"Topic2\", \"Topic2\", \"Topic2\", \"Topic2\", \"Topic2\", \"Topic2\", \"Topic2\", \"Topic2\", \"Topic2\", \"Topic2\", \"Topic2\", \"Topic2\", \"Topic2\", \"Topic2\", \"Topic2\", \"Topic2\", \"Topic2\", \"Topic2\", \"Topic2\", \"Topic2\", \"Topic2\", \"Topic2\", \"Topic2\", \"Topic2\", \"Topic2\", \"Topic2\", \"Topic2\", \"Topic2\", \"Topic2\", \"Topic2\", \"Topic2\", \"Topic2\", \"Topic2\", \"Topic2\", \"Topic2\", \"Topic2\", \"Topic2\", \"Topic2\", \"Topic2\", \"Topic2\", \"Topic2\", \"Topic2\", \"Topic2\", \"Topic3\", \"Topic3\", \"Topic3\", \"Topic3\", \"Topic3\", \"Topic3\", \"Topic3\", \"Topic3\", \"Topic3\", \"Topic3\", \"Topic3\", \"Topic3\", \"Topic3\", \"Topic3\", \"Topic3\", \"Topic3\", \"Topic3\", \"Topic3\", \"Topic3\", \"Topic3\", \"Topic3\", \"Topic3\", \"Topic3\", \"Topic3\", \"Topic3\", \"Topic3\", \"Topic3\", \"Topic3\", \"Topic3\", \"Topic3\", \"Topic3\", \"Topic3\", \"Topic3\", \"Topic3\", \"Topic3\", \"Topic3\", \"Topic3\", \"Topic4\", \"Topic4\", \"Topic4\", \"Topic4\", \"Topic4\", \"Topic4\", \"Topic4\", \"Topic4\", \"Topic4\", \"Topic4\", \"Topic4\", \"Topic4\", \"Topic4\", \"Topic4\", \"Topic4\", \"Topic4\", \"Topic4\", \"Topic4\", \"Topic4\", \"Topic4\", \"Topic4\", \"Topic4\", \"Topic4\", \"Topic4\", \"Topic4\", \"Topic4\", \"Topic4\", \"Topic4\", \"Topic4\", \"Topic4\", \"Topic4\", \"Topic4\", \"Topic4\", \"Topic4\", \"Topic4\", \"Topic4\", \"Topic4\", \"Topic4\", \"Topic4\", \"Topic4\", \"Topic4\", \"Topic4\", \"Topic4\", \"Topic4\", \"Topic5\", \"Topic5\", \"Topic5\", \"Topic5\", \"Topic5\", \"Topic5\", \"Topic5\", \"Topic5\", \"Topic5\", \"Topic5\", \"Topic5\", \"Topic5\", \"Topic5\", \"Topic5\", \"Topic5\", \"Topic5\", \"Topic5\", \"Topic5\", \"Topic5\", \"Topic5\", \"Topic5\", \"Topic5\", \"Topic5\", \"Topic5\", \"Topic5\", \"Topic5\", \"Topic5\", \"Topic5\", \"Topic5\", \"Topic5\", \"Topic5\", \"Topic5\", \"Topic5\", \"Topic5\", \"Topic5\", \"Topic5\", \"Topic5\", \"Topic5\", \"Topic5\", \"Topic5\", \"Topic5\", \"Topic5\", \"Topic5\", \"Topic5\", \"Topic5\", \"Topic5\", \"Topic5\", \"Topic5\", \"Topic6\", \"Topic6\", \"Topic6\", \"Topic6\", \"Topic6\", \"Topic6\", \"Topic6\", \"Topic6\", \"Topic6\", \"Topic6\", \"Topic6\", \"Topic6\", \"Topic6\", \"Topic6\", \"Topic6\", \"Topic6\", \"Topic6\", \"Topic6\", \"Topic6\", \"Topic6\", \"Topic6\", \"Topic6\", \"Topic6\", \"Topic6\", \"Topic6\", \"Topic6\", \"Topic6\", \"Topic6\", \"Topic6\", \"Topic6\", \"Topic6\", \"Topic6\", \"Topic6\", \"Topic6\", \"Topic6\", \"Topic6\", \"Topic6\", \"Topic6\", \"Topic6\", \"Topic6\", \"Topic6\", \"Topic6\", \"Topic6\", \"Topic6\", \"Topic6\", \"Topic6\", \"Topic7\", \"Topic7\", \"Topic7\", \"Topic7\", \"Topic7\", \"Topic7\", \"Topic7\", \"Topic7\", \"Topic7\", \"Topic7\", \"Topic7\", \"Topic7\", \"Topic7\", \"Topic7\", \"Topic7\", \"Topic7\", \"Topic7\", \"Topic7\", \"Topic7\", \"Topic7\", \"Topic7\", \"Topic7\", \"Topic7\", \"Topic7\", \"Topic7\", \"Topic7\", \"Topic7\", \"Topic7\", \"Topic7\", \"Topic7\", \"Topic7\", \"Topic7\", \"Topic7\", \"Topic7\", \"Topic7\", \"Topic7\", \"Topic7\", \"Topic7\", \"Topic7\", \"Topic8\", \"Topic8\", \"Topic8\", \"Topic8\", \"Topic8\", \"Topic8\", \"Topic8\", \"Topic8\", \"Topic8\", \"Topic8\", \"Topic8\", \"Topic8\", \"Topic8\", \"Topic8\", \"Topic8\", \"Topic8\", \"Topic8\", \"Topic8\", \"Topic8\", \"Topic8\", \"Topic8\", \"Topic8\", \"Topic8\", \"Topic8\", \"Topic8\", \"Topic8\", \"Topic8\", \"Topic8\", \"Topic8\", \"Topic8\", \"Topic8\", \"Topic8\", \"Topic8\", \"Topic8\", \"Topic9\", \"Topic9\", \"Topic9\", \"Topic9\", \"Topic9\", \"Topic9\", \"Topic9\", \"Topic9\", \"Topic9\", \"Topic9\", \"Topic9\", \"Topic9\", \"Topic9\", \"Topic9\", \"Topic9\", \"Topic9\", \"Topic9\", \"Topic9\", \"Topic9\", \"Topic9\", \"Topic9\", \"Topic9\", \"Topic9\", \"Topic9\", \"Topic9\", \"Topic9\", \"Topic9\", \"Topic9\", \"Topic9\", \"Topic9\", \"Topic9\", \"Topic9\", \"Topic9\", \"Topic9\", \"Topic9\", \"Topic10\", \"Topic10\", \"Topic10\", \"Topic10\", \"Topic10\", \"Topic10\", \"Topic10\", \"Topic10\", \"Topic10\", \"Topic10\", \"Topic10\", \"Topic10\", \"Topic10\", \"Topic10\", \"Topic10\", \"Topic10\", \"Topic10\", \"Topic10\", \"Topic10\", \"Topic10\", \"Topic10\", \"Topic10\", \"Topic10\", \"Topic10\", \"Topic10\", \"Topic10\", \"Topic10\", \"Topic10\", \"Topic10\", \"Topic10\", \"Topic10\", \"Topic10\", \"Topic10\", \"Topic11\", \"Topic11\", \"Topic11\", \"Topic11\", \"Topic11\", \"Topic11\", \"Topic11\", \"Topic11\", \"Topic11\", \"Topic11\", \"Topic11\", \"Topic11\", \"Topic11\", \"Topic11\", \"Topic11\", \"Topic11\", \"Topic11\", \"Topic11\", \"Topic11\", \"Topic11\", \"Topic11\", \"Topic11\", \"Topic11\", \"Topic11\", \"Topic11\", \"Topic11\", \"Topic11\", \"Topic11\", \"Topic11\", \"Topic11\", \"Topic11\", \"Topic11\", \"Topic11\", \"Topic12\", \"Topic12\", \"Topic12\", \"Topic12\", \"Topic12\", \"Topic12\", \"Topic12\", \"Topic12\", \"Topic12\", \"Topic12\", \"Topic12\", \"Topic12\", \"Topic12\", \"Topic12\", \"Topic12\", \"Topic12\", \"Topic12\", \"Topic12\", \"Topic12\", \"Topic12\", \"Topic12\", \"Topic12\", \"Topic12\", \"Topic12\", \"Topic12\", \"Topic12\", \"Topic12\", \"Topic12\", \"Topic12\", \"Topic12\", \"Topic12\", \"Topic12\", \"Topic12\", \"Topic12\", \"Topic12\", \"Topic12\", \"Topic12\", \"Topic12\", \"Topic12\", \"Topic12\", \"Topic12\", \"Topic12\", \"Topic12\", \"Topic12\", \"Topic12\", \"Topic12\", \"Topic12\"], \"logprob\": [30.0, 29.0, 28.0, 27.0, 26.0, 25.0, 24.0, 23.0, 22.0, 21.0, 20.0, 19.0, 18.0, 17.0, 16.0, 15.0, 14.0, 13.0, 12.0, 11.0, 10.0, 9.0, 8.0, 7.0, 6.0, 5.0, 4.0, 3.0, 2.0, 1.0, -3.9612, -4.6342, -4.6342, -3.9628, -3.9624, -5.2881, -5.2881, -5.2881, -5.2881, -5.2881, -5.2881, -5.2881, -5.2881, -5.2881, -5.2881, -5.2881, -5.2881, -5.2881, -5.2881, -5.2881, -5.2881, -5.2881, -5.2881, -5.2881, -5.2881, -5.2881, -5.2881, -5.2881, -5.2881, -5.2881, -4.2421, -2.5906, -4.6341, -4.6362, -3.9617, -3.9612, -3.278, -2.9633, -3.1608, -4.243, -4.6341, -4.6351, -4.6353, -4.6363, -4.6353, -5.2849, -5.2857, -5.286, -5.2869, -5.2875, -5.2878, -5.288, -3.5538, -4.2257, -4.2257, -4.2257, -3.8337, -4.8796, -4.8796, -4.8796, -4.8796, -4.8796, -4.8796, -4.8796, -4.8796, -4.8796, -4.8796, -4.8796, -4.8796, -4.8796, -4.8796, -4.8796, -4.8796, -4.8796, -4.8796, -4.8796, -4.8796, -4.8796, -4.8796, -4.8796, -4.8814, -4.8819, -4.2257, -4.2257, -4.2257, -4.2257, -4.2257, -4.2257, -4.2257, -4.2257, -3.8337, -3.5534, -3.1507, -3.8345, -4.2257, -3.5528, -4.2257, -4.2257, -4.8605, -4.8796, -4.8796, -4.8796, -4.8796, -4.8796, -2.9103, -2.2885, -3.8189, -4.7755, -4.7755, -4.7755, -4.7755, -4.7755, -4.7755, -4.7755, -4.7755, -4.7755, -4.7755, -4.1216, -2.1473, -4.7755, -4.0697, -4.7755, -4.7755, -4.7755, -2.6509, -4.1216, -4.7755, -3.6029, -4.7755, -4.7755, -4.7755, -4.7755, -4.7755, -3.6292, -3.6931, -3.5411, -4.1204, -3.605, -4.6615, -4.7102, -4.6875, -3.548, -3.94, -3.94, -4.594, -4.594, -4.594, -4.594, -4.594, -4.594, -4.594, -4.594, -4.594, -4.594, -4.594, -4.594, -4.594, -4.5971, -4.5975, -4.5976, -4.5977, -4.5978, -4.5978, -4.5979, -4.598, -4.5979, -4.5981, -4.5985, -4.594, -4.5983, -4.5979, -3.548, -2.8115, -2.7155, -2.636, -3.5822, -3.94, -3.9387, -4.1898, -4.594, -4.594, -4.594, -4.594, -4.594, -4.594, -3.5133, -4.5593, -4.5593, -4.5593, -4.5593, -4.5593, -4.5593, -4.5593, -4.5593, -4.5593, -4.5593, -4.5593, -4.5593, -4.5593, -4.5593, -4.5593, -4.5593, -4.5593, -4.5593, -4.5593, -4.5593, -4.5593, -4.5593, -4.5611, -4.5612, -4.5612, -4.5613, -4.5615, -4.5616, -3.9064, -3.9053, -3.2434, -3.5212, -3.9053, -3.9078, -3.9053, -3.5097, -3.9013, -3.9053, -3.9048, -4.5577, -4.5578, -4.5593, -4.5593, -4.5593, -4.5593, -4.5593, -4.5593, -4.3423, -4.3423, -4.3423, -4.3423, -4.3423, -4.3423, -4.3423, -4.3423, -4.3423, -4.3423, -4.3423, -4.3423, -4.3423, -4.3423, -4.3423, -4.3423, -4.3423, -4.3423, -4.3423, -4.3423, -3.3682, -4.3423, -4.3423, -4.3423, -4.3423, -4.3423, -4.3423, -4.3423, -4.3423, -4.3423, -3.4135, -3.686, -4.3404, -4.3404, -4.3406, -4.3412, -4.3423, -4.3423, -4.3423, -4.3423, -4.3423, -4.3423, -4.3423, -4.3423, -4.3423, -4.3423, -3.6668, -2.999, -4.3208, -4.3208, -4.3208, -4.3208, -4.3208, -4.3208, -4.3208, -4.3208, -4.3208, -4.3208, -4.3208, -4.3208, -4.3208, -4.3208, -4.3208, -4.3208, -4.3208, -4.3208, -4.3208, -4.3208, -4.3208, -4.3208, -4.3208, -4.3208, -4.3207, -4.3208, -3.6668, -4.3208, -2.9917, -4.3206, -4.3206, -4.3208, -4.3208, -4.3208, -4.3208, -4.3208, -4.3208, -3.6741, -3.6784, -4.3281, -4.3281, -4.3281, -4.3281, -4.3281, -4.3281, -4.3281, -4.3281, -4.3281, -4.3281, -4.3281, -4.3281, -4.3281, -4.3281, -4.3281, -4.3281, -4.3281, -3.309, -4.3281, -4.3281, -3.6741, -4.3281, -2.8116, -3.6741, -4.3281, -4.3281, -4.3281, -3.7435, -3.6741, -3.6784, -4.3281, -4.3281, -4.257, -4.257, -4.257, -4.257, -4.257, -4.257, -4.257, -4.257, -4.257, -4.257, -4.257, -4.257, -4.2593, -4.2595, -3.2117, -4.257, -4.257, -4.257, -3.604, -3.2114, -3.603, -4.257, -4.2587, -4.257, -4.257, -4.257, -4.2587, -4.257, -4.2586, -4.257, -3.2126, -3.603, -3.603, -4.257, -4.257, -3.5496, -4.2035, -4.2035, -4.2035, -4.2035, -4.2035, -4.2035, -4.2035, -4.2035, -4.2035, -4.2035, -3.5496, -4.2035, -4.2035, -4.2035, -4.2035, -4.2035, -3.1644, -4.2035, -4.2035, -4.2035, -4.2035, -4.2035, -4.2035, -4.2035, -3.5496, -4.2035, -4.2035, -4.2035, -4.2035, -3.1644, -4.1844, -4.2035, -4.1321, -4.1321, -4.1321, -4.1321, -4.1321, -4.1321, -4.1321, -4.1321, -4.1321, -4.1321, -4.1321, -3.4782, -3.0861, -3.4782, -4.1321, -2.5862, -4.1321, -4.1321, -4.1321, -4.1321, -4.1321, -4.1321, -4.1321, -4.1321, -4.1321, -4.1321, -3.4782, -6.697, -6.697, -6.697, -4.1321, -6.697, -6.697, -2.8547, -3.9007, -3.9007, -3.9007, -3.9007, -3.9007, -3.9007, -3.9007, -3.9007, -3.9007, -3.9007, -3.9007, -3.9007, -3.9007, -3.9007, -3.9007, -3.2467, -3.9007, -3.9007, -3.8965, -6.4656, -6.4656, -6.4656, -6.4656, -6.4656, -6.4656, -6.4656, -6.4656, -6.4656, -6.4656, -6.4341, -6.4364, -6.4411, -6.4415, -6.4434, -6.4452, -6.4463, -6.4467, -6.4097, -6.4429, -6.4382, -6.4137, -6.4393, -6.4368, -6.4379, -6.4386, -6.4405], \"loglift\": [30.0, 29.0, 28.0, 27.0, 26.0, 25.0, 24.0, 23.0, 22.0, 21.0, 20.0, 19.0, 18.0, 17.0, 16.0, 15.0, 14.0, 13.0, 12.0, 11.0, 10.0, 9.0, 8.0, 7.0, 6.0, 5.0, 4.0, 3.0, 2.0, 1.0, 1.3899, 1.257, 1.257, 1.2497, 1.1299, 1.0463, 1.0463, 1.0463, 1.0463, 1.0463, 1.0463, 1.0463, 1.0463, 1.0463, 1.0463, 1.0463, 1.0463, 1.0463, 1.0463, 1.0463, 1.0463, 1.0463, 1.0463, 1.0463, 1.0463, 1.0463, 1.0463, 1.0463, 1.0463, 1.0463, 1.0254, 0.9112, 0.9853, 0.9699, 0.8566, 0.757, 0.599, 0.3729, 0.3635, 0.6876, 0.4778, 0.3247, 0.2388, 0.2053, -0.2009, -0.7603, 0.6523, -0.9035, -1.1143, -0.5702, 0.1796, -0.631, 1.865, 1.7231, 1.7231, 1.7231, 1.5678, 1.4994, 1.4994, 1.4994, 1.4994, 1.4994, 1.4994, 1.4994, 1.4994, 1.4994, 1.4994, 1.4994, 1.4994, 1.4994, 1.4994, 1.4994, 1.4994, 1.4994, 1.4994, 1.4994, 1.4994, 1.4994, 1.4994, 1.4994, 1.4977, 1.4972, 1.4864, 1.463, 1.4465, 1.4016, 1.2904, 1.2246, 1.2224, 1.2114, 0.8234, 0.6192, 0.1855, 0.5999, 0.8863, -0.0509, 0.5925, -0.7014, -0.0189, 0.425, 0.3191, 0.7864, 0.5981, 1.0399, 2.1092, 2.048, 1.7004, 1.6513, 1.6513, 1.6513, 1.6513, 1.6513, 1.6513, 1.6513, 1.6513, 1.6513, 1.6513, 1.5978, 1.377, 1.289, 1.2712, 1.2598, 1.2598, 1.2366, 1.226, 1.1987, 1.174, 1.1144, 0.9832, 0.9477, 0.9345, 0.9342, 0.9242, 0.8955, 0.6894, 0.6315, 0.314, -0.2688, 0.1064, 0.3566, -0.0305, 2.1439, 2.0473, 2.0473, 1.8145, 1.8145, 1.8145, 1.8145, 1.8145, 1.8145, 1.8145, 1.8145, 1.8145, 1.8145, 1.8145, 1.8145, 1.8145, 1.8112, 1.8108, 1.8107, 1.8106, 1.8105, 1.8105, 1.8104, 1.8104, 1.8103, 1.8101, 1.8098, 1.4437, 1.441, 1.4249, 1.4119, 1.3611, 0.7863, 0.7002, 1.0749, 1.1927, 0.9919, 0.5274, -0.1596, 1.3441, 1.3739, 1.0255, 0.5457, 0.1243, 2.207, 1.8685, 1.8685, 1.8685, 1.8685, 1.8685, 1.8685, 1.8685, 1.8685, 1.8685, 1.8685, 1.8685, 1.8685, 1.8685, 1.8685, 1.8685, 1.8685, 1.8685, 1.8685, 1.8685, 1.8685, 1.8685, 1.8685, 1.8667, 1.8665, 1.8665, 1.8664, 1.8662, 1.8662, 1.8379, 1.7678, 1.4748, 1.353, 1.382, 1.3034, 1.0545, 0.0145, -0.0243, -0.4035, -0.5686, 0.9098, 0.0992, 1.421, 1.561, 1.4528, 1.1994, 1.4858, 1.3908, 2.1208, 2.1208, 2.1208, 2.1208, 2.1208, 2.1208, 2.1208, 2.1208, 2.1208, 2.1208, 2.1208, 2.1208, 2.1208, 2.1208, 2.1208, 2.1208, 2.1208, 2.1208, 2.1208, 2.1208, 1.9726, 1.7345, 1.7327, 1.693, 1.693, 1.6804, 1.6296, 1.6296, 1.449, 1.4091, 1.1112, -0.3498, 0.8708, 1.0666, 0.501, 0.4268, 1.3464, 0.9623, 0.7245, 0.375, 1.1302, 0.476, 1.3238, 0.978, 0.0921, 0.5319, 2.4115, 2.3585, 2.1563, 2.1563, 2.1563, 2.1563, 2.1563, 2.1563, 2.1563, 2.1563, 2.1563, 2.1563, 2.1563, 2.1563, 2.1563, 2.1563, 2.1563, 2.1563, 2.1563, 2.1563, 1.7827, 1.7655, 1.7243, 1.6908, 1.6908, 1.6908, 1.6597, 1.6596, 1.6378, 1.4235, 1.3908, -0.7963, -0.4437, 1.1467, 0.8779, 0.812, 1.2218, 1.1164, 1.157, 2.4201, 2.4157, 2.1608, 2.1608, 2.1608, 2.1608, 2.1608, 2.1608, 2.1608, 2.1608, 2.1608, 2.1608, 2.1608, 2.1608, 2.1608, 2.1608, 2.1608, 2.1608, 1.7582, 1.7578, 1.7487, 1.7112, 1.6703, 1.6595, 1.5709, 1.5246, 1.462, 1.1913, 1.0915, 1.0244, 0.6624, 0.4942, 0.1063, 0.329, 2.2292, 2.2292, 2.2292, 2.2292, 2.2292, 2.2292, 2.2292, 2.2292, 2.2292, 2.2292, 2.2292, 2.2292, 2.2268, 2.2266, 2.1953, 1.818, 1.7807, 1.7289, 1.6071, 1.5566, 1.5366, 1.4662, 1.441, 1.2856, 1.2208, 1.2155, 0.94, 0.855, 0.583, 0.5613, 0.1236, -0.0788, -0.1012, 0.1774, 0.4603, 2.5708, 2.3047, 2.3047, 2.3047, 2.3047, 2.3047, 2.3047, 2.3047, 2.3047, 2.3047, 2.3047, 1.9665, 1.8616, 1.8609, 1.8274, 1.8274, 1.8274, 1.6772, 1.5865, 1.5551, 1.5484, 1.5478, 1.5065, 1.5062, 1.2446, 1.2183, 1.2034, 1.0838, 1.064, 1.009, 0.1718, 0.5328, 0.8633, 2.3826, 2.3826, 2.3826, 2.3826, 2.3826, 2.3826, 2.3826, 2.3826, 2.3826, 2.3826, 2.3826, 2.3013, 2.2746, 2.0436, 1.9714, 1.9385, 1.871, 1.871, 1.6199, 1.5801, 1.3183, 1.2123, 1.1354, 0.9799, 0.9602, 0.7421, 0.3988, -0.1017, -0.1017, -0.1017, -0.6303, -2.3605, -3.3609, 3.1247, 2.6947, 2.6947, 2.6947, 2.6947, 2.6947, 2.6947, 2.6947, 2.6947, 2.6947, 2.6947, 2.6947, 2.6947, 2.6947, 2.2196, 2.1835, 2.1729, 2.1501, 1.8907, 0.9451, 0.0491, 0.0491, 0.0491, 0.0491, 0.0491, 0.0491, 0.0491, 0.0491, 0.0491, 0.0491, -0.0991, -0.1015, -0.1063, -0.1067, -0.1086, -0.1105, -0.1116, -0.112, -1.3174, -0.5231, -0.6862, -3.0776, -0.7293, -2.0024, -2.2653, -1.7816, -1.4807]}, \"token.table\": {\"Topic\": [8, 1, 4, 9, 1, 2, 4, 5, 9, 11, 5, 1, 2, 11, 11, 2, 10, 2, 7, 1, 1, 4, 12, 2, 5, 6, 7, 1, 1, 7, 7, 1, 2, 3, 4, 5, 6, 7, 8, 9, 10, 1, 2, 6, 9, 2, 1, 11, 5, 11, 8, 5, 12, 2, 4, 2, 10, 7, 10, 9, 1, 3, 5, 4, 5, 4, 5, 1, 4, 1, 11, 2, 2, 3, 6, 7, 5, 2, 8, 12, 4, 2, 6, 7, 4, 9, 7, 2, 10, 6, 8, 1, 9, 3, 6, 2, 7, 2, 4, 8, 1, 2, 6, 7, 11, 1, 8, 1, 4, 6, 7, 9, 1, 3, 6, 8, 10, 1, 1, 1, 8, 6, 4, 6, 6, 6, 9, 10, 2, 8, 5, 1, 2, 1, 7, 8, 11, 1, 2, 7, 4, 1, 12, 2, 7, 11, 4, 8, 1, 2, 4, 3, 10, 1, 2, 1, 3, 6, 8, 9, 10, 8, 8, 4, 8, 1, 12, 1, 2, 6, 9, 10, 12, 1, 3, 4, 6, 8, 9, 10, 6, 5, 7, 5, 12, 1, 6, 8, 12, 4, 12, 4, 5, 1, 2, 4, 5, 9, 9, 1, 6, 5, 10, 3, 8, 4, 1, 2, 9, 11, 1, 8, 8, 2, 12, 5, 2, 11, 3, 2, 7, 8, 11, 2, 2, 10, 5, 7, 2, 7, 1, 10, 11, 5, 4, 7, 1, 12, 6, 1, 2, 3, 5, 7, 8, 9, 3, 6, 3, 1, 6, 1, 2, 7, 9, 1, 5, 1, 10, 2, 9, 1, 5, 8, 10, 1, 2, 5, 10, 9, 5, 4, 1, 2, 3, 2, 4, 6, 2, 3, 8, 12, 6, 1, 4, 5, 7, 4, 3, 5, 3, 6, 7, 1, 6, 12, 2, 7, 12, 1, 2, 2, 4, 6, 1, 2, 3, 4, 8, 2, 3, 9, 7, 4, 11, 3, 5, 5, 4, 1, 3, 8, 11, 1, 2, 4, 7, 8, 5, 1, 2, 1, 3, 7, 1, 2, 4, 5, 5, 6, 7, 9, 2, 1, 4, 10, 11, 1, 1, 4, 5, 2, 2, 2, 3, 8, 1, 5, 11, 12, 6, 1, 2, 5, 6, 11, 3, 8, 1, 3, 10, 2, 11, 1, 7, 1, 4, 6, 8, 3, 5, 1, 1, 3, 10, 10, 5, 1, 2, 6, 12, 1, 3, 5, 7, 10, 11, 1, 6, 2, 5, 9, 10, 7, 2, 2, 1, 5, 5, 12, 6, 9, 1, 1, 10, 11, 1, 1, 11, 7, 6, 2, 5, 3, 9, 9, 5, 4, 12, 2, 4, 7, 8, 9, 10, 5, 1, 4, 5, 1, 2, 6, 9, 1, 2, 10, 1, 2, 6, 7, 1, 9, 6, 4, 2, 4, 2, 7, 11, 11, 6, 5, 1, 10, 11, 1, 8, 6, 9, 3, 5, 10, 5, 1, 5, 3, 9, 1, 3, 9, 10, 4, 12, 3, 5, 12, 9, 1, 7, 1, 2, 10, 1, 2, 3, 4, 5, 6, 7, 8, 9, 10, 2, 1, 11, 1, 2, 1, 3, 10, 4, 2, 6, 10, 1, 2, 3, 4, 5, 8, 9, 7, 8, 5, 1, 2, 5, 4, 4, 2, 1, 6, 6, 8, 5, 7, 5, 10, 1, 3, 6, 7, 8, 9, 1, 1, 3, 6, 8, 11, 1, 4, 7, 2, 7, 2, 10, 6, 9, 3, 1, 3, 11, 2, 5], \"Freq\": [0.7765972735894482, 0.6654053324661016, 0.49457395197285603, 0.49457395197285603, 0.5091848071193789, 0.11750418625831821, 0.19584031043053035, 0.03916806208610607, 0.03916806208610607, 0.03916806208610607, 0.7305423957792935, 0.2748973401794928, 0.5497946803589856, 0.2748973401794928, 0.7969151642426919, 0.5871470194993399, 0.29357350974966995, 0.6957908165048257, 0.76747502037145, 0.6654053519251467, 0.6510922762109296, 0.3255461381054648, 0.8638809835730386, 0.6863772566697139, 0.34318862833485697, 0.7568007665414287, 0.76747502037145, 0.6654053519251467, 0.6654053519251467, 0.7674749722693865, 0.7674749983033503, 0.2987024807448694, 0.16594582263603855, 0.06637832905441542, 0.19913498716324624, 0.03318916452720771, 0.03318916452720771, 0.03318916452720771, 0.03318916452720771, 0.06637832905441542, 0.06637832905441542, 0.4383006244416215, 0.2922004162944143, 0.14610020814720714, 0.14610020814720714, 0.6957907916802348, 0.6654053519251467, 0.7969151347984516, 0.7305441233406439, 0.7969151579489764, 0.776597240425093, 0.7305441233406439, 0.9331510007127236, 0.6958701047829742, 0.7165893687683017, 0.4912780443713421, 0.4912780443713421, 0.76747502037145, 0.791761895779273, 0.7745001664720927, 0.6654053645342858, 0.4820984327280729, 0.4820984327280729, 0.7164949475171261, 0.7305428062239551, 0.7165893687683017, 0.7305441446936134, 0.44770165696241426, 0.44770165696241426, 0.4777912998766553, 0.4777912998766553, 0.9050941402390743, 0.2413733463472939, 0.2413733463472939, 0.2413733463472939, 0.2413733463472939, 0.7305441215718264, 0.6958535004137343, 0.7765972735894482, 0.8638810137006472, 0.7165893687683017, 0.6977508340446646, 0.3488754170223323, 0.76747502037145, 0.7164434956940186, 0.7745001203582552, 0.7674749983033503, 0.6957908165048257, 0.5372589997295463, 0.7568007910176928, 0.7765972735894482, 0.7467849533887984, 0.7745001295386644, 0.4933948753681495, 0.4933948753681495, 0.48181751963657143, 0.48181751963657143, 0.6957910876948182, 0.7165894123517164, 0.7765972616210871, 0.34106602539203346, 0.34106602539203346, 0.34106602539203346, 0.5282339758761714, 0.5282339758761714, 0.6654053836263111, 0.7765972415425187, 0.8543482034733741, 0.30146392434407, 0.30146392434407, 0.30146392434407, 0.30146392434407, 0.18732799408590986, 0.18732799408590986, 0.18732799408590986, 0.3746559881718197, 0.18732799408590986, 0.6656675757265664, 0.6657166525985481, 0.6656541373981621, 0.5233889532651258, 0.7568007665414287, 0.7165893687683017, 0.7568007665414287, 0.7568007665414287, 0.26322462152326287, 0.5264492430465257, 0.26322462152326287, 0.6957908162413351, 0.7765972735894482, 0.7305441535065487, 0.6654053562412631, 0.695790787897075, 0.46704974289430345, 0.46704974289430345, 0.7765972376768341, 0.796915138277175, 0.27128890121260246, 0.5425778024252049, 0.27128890121260246, 0.7165009197320326, 0.5010779697867139, 0.5010779697867139, 0.4818530070194283, 0.4818530070194283, 0.7969151331131418, 0.49537983208058073, 0.49537983208058073, 0.6654053795554915, 0.6957907916802348, 0.7165893687683017, 0.5080195079790384, 0.5080195079790384, 0.43949460701969095, 0.43949460701969095, 0.13893350385224323, 0.13893350385224323, 0.13893350385224323, 0.13893350385224323, 0.27786700770448647, 0.13893350385224323, 0.7765972698830924, 0.776597251173121, 0.7164719079497777, 0.7765972376768341, 0.6654053704751228, 0.8638810318058923, 0.29911252570524305, 0.14955626285262152, 0.14955626285262152, 0.14955626285262152, 0.29911252570524305, 0.14955626285262152, 0.13206484072009783, 0.26412968144019566, 0.13206484072009783, 0.13206484072009783, 0.13206484072009783, 0.13206484072009783, 0.13206484072009783, 0.7568007665414287, 0.4982301618679165, 0.4982301618679165, 0.730542486373527, 0.8638810196575167, 0.6654053622984742, 0.7568007665414287, 0.7765972376768341, 0.863881048040296, 0.7164614188618832, 0.8638810318058923, 0.7165893687683017, 0.7201748390364194, 0.2014852204924135, 0.2014852204924135, 0.2014852204924135, 0.2014852204924135, 0.2014852204924135, 0.7744547170561537, 0.4630738887170325, 0.4630738887170325, 0.7305441596520428, 0.7917618684276398, 0.5890507660774792, 0.2945253830387396, 0.7165893687683017, 0.39196162519426514, 0.39196162519426514, 0.19598081259713257, 0.19598081259713257, 0.6654053519251467, 0.5233072719093295, 0.7765972951401732, 0.5181165102837131, 0.5181165102837131, 0.7305441233406439, 0.7143262390250502, 0.3571631195125251, 0.7298551909287837, 0.6957908133090405, 0.7674749921856072, 0.7765972913003146, 0.7969151564323707, 0.695790787897075, 0.4912780181279546, 0.4912780181279546, 0.7305441233406439, 0.7674750553852911, 0.695791108379092, 0.7674750468707211, 0.6868901865162316, 0.2289633955054105, 0.2289633955054105, 0.7305441233406439, 0.7165893687683017, 0.5151357865030434, 0.6654053519251467, 0.8638810244382762, 0.7568007630723563, 0.32047035130739543, 0.08011758782684886, 0.4406467330476687, 0.08011758782684886, 0.04005879391342443, 0.04005879391342443, 0.04005879391342443, 0.4927615421335105, 0.4927615421335105, 0.729855194478315, 0.6654053688660294, 0.7568007665414287, 0.2825366772456191, 0.2825366772456191, 0.2825366772456191, 0.2825366772456191, 0.4531091754657034, 0.4531091754657034, 0.650133049966247, 0.21671101665541567, 0.6957907916802348, 0.7745001203582552, 0.6656481222988249, 0.3860865990594444, 0.3860865990594444, 0.3860865990594444, 0.23355600852029648, 0.23355600852029648, 0.23355600852029648, 0.23355600852029648, 0.7745001309485556, 0.7305441630728429, 0.7165894123517164, 0.4396212996361505, 0.4396212996361505, 0.7298552320119117, 0.6957907989483114, 0.7165893687683017, 0.7568007973789485, 0.2665743364474062, 0.2665743364474062, 0.2665743364474062, 0.2665743364474062, 0.7568007665414287, 0.279641726732645, 0.279641726732645, 0.279641726732645, 0.279641726732645, 0.7164842969094535, 0.893336377577819, 0.7305441233406439, 0.49339490989261475, 0.49339490989261475, 0.7674750234527029, 0.6656919714369037, 0.7568007068039726, 0.8638810318058923, 0.9050945069668742, 0.7674749983033503, 0.8638810318058923, 0.6654053649802523, 0.695790787897075, 0.4612545592214762, 0.4612545592214762, 0.7568007665414287, 0.07660489819092957, 0.22981469457278872, 0.22981469457278872, 0.38302449095464786, 0.07660489819092957, 0.36113089675697374, 0.36113089675697374, 0.36113089675697374, 0.76747502037145, 0.7164433595571993, 0.7969151620195811, 0.3597526565900783, 0.3597526565900783, 0.7305441233406439, 0.7000170668080763, 0.24726134730846305, 0.24726134730846305, 0.24726134730846305, 0.24726134730846305, 0.20010378903610512, 0.20010378903610512, 0.40020757807221025, 0.20010378903610512, 0.20010378903610512, 0.7305426546817612, 0.6424640451521241, 0.32123202257606204, 0.4528448507653739, 0.4528448507653739, 0.7674750262079786, 0.4904356178965157, 0.16347853929883854, 0.3269570785976771, 0.16347853929883854, 0.21641137245832268, 0.21641137245832268, 0.21641137245832268, 0.21641137245832268, 0.6957907916802348, 0.6654053712464236, 0.7165893687683017, 0.7917618882647278, 0.7969151483044639, 0.6654053643160905, 0.33665127460060185, 0.33665127460060185, 0.16832563730030092, 0.9050945920773454, 0.695791217133277, 0.6957907916802348, 0.7298552207554185, 0.7765972843123313, 0.2952495407002265, 0.2952495407002265, 0.2952495407002265, 0.8638810488017206, 0.7568007665414287, 0.30900447311759316, 0.15450223655879658, 0.30900447311759316, 0.15450223655879658, 0.15450223655879658, 0.812241536965028, 0.09024905966278088, 0.8543481946313835, 0.7298552253880007, 0.7917618882647278, 0.3820488386891215, 0.3820488386891215, 0.6654053696404169, 0.767475051635112, 0.6654053663692936, 0.4872463504742597, 0.4872463504742597, 0.7765972735894482, 0.7298552170120358, 0.7305441233406439, 0.665405374421481, 0.3563081983459318, 0.3563081983459318, 0.3563081983459318, 0.7917619194570764, 0.7305441268595488, 0.6658136076377319, 0.3865918382252806, 0.3865918382252806, 0.3865918382252806, 0.39899420994843926, 0.34199503709866225, 0.05699917284977704, 0.05699917284977704, 0.05699917284977704, 0.05699917284977704, 0.46307384769300086, 0.46307384769300086, 0.6957910365529205, 0.7305426643969458, 0.7745001203582552, 0.7917618836799225, 0.76747497367914, 0.6957908165048257, 0.7990547262793672, 0.6657218220178893, 0.7305441567390832, 0.537144219319169, 0.537144219319169, 0.7568007973789485, 0.7745001295386644, 0.6657825405134921, 0.5764793551595246, 0.19215978505317485, 0.19215978505317485, 0.6654053519251467, 0.6654053604207677, 0.7969151079110289, 0.7674749751130155, 0.7568007665414287, 0.6957907916802348, 0.7305441414207875, 0.7298551960923158, 0.774450662436498, 0.7745001203582552, 0.7305441505458848, 0.9406071326510563, 0.8638810318058923, 0.21373589061352832, 0.21373589061352832, 0.21373589061352832, 0.21373589061352832, 0.21373589061352832, 0.7917619389138357, 0.7305441522665018, 0.3965840012545269, 0.1321946670848423, 0.3965840012545269, 0.2810460846989616, 0.2810460846989616, 0.2810460846989616, 0.2810460846989616, 0.27428244739164276, 0.5485648947832855, 0.27428244739164276, 0.23761409719098545, 0.23761409719098545, 0.23761409719098545, 0.23761409719098545, 0.4696409841384901, 0.4696409841384901, 0.7568008218660006, 0.7164796380259019, 0.6957908165048257, 0.7165008042176609, 0.25052188247756224, 0.7515656474326866, 0.7969151269084662, 0.7969151233663891, 0.7568007910176928, 0.7305441233406439, 0.37168300623382117, 0.37168300623382117, 0.37168300623382117, 0.4704112323891059, 0.4704112323891059, 0.5134011304484956, 0.5134011304484956, 0.37417323383448353, 0.37417323383448353, 0.37417323383448353, 0.73054258808295, 0.3435123254686311, 0.3435123254686311, 0.7298552189456984, 0.7745001203582552, 0.3527628429286619, 0.3527628429286619, 0.3527628429286619, 0.7917619261610901, 0.7165894184850986, 0.8638810237395399, 0.7298552370036898, 0.7305441233406439, 0.8638810318058923, 0.7745001027994461, 0.46704855167137915, 0.46704855167137915, 0.3281011050240068, 0.6562022100480136, 0.7917619195713629, 0.19905384888076397, 0.19905384888076397, 0.09952692444038198, 0.09952692444038198, 0.09952692444038198, 0.09952692444038198, 0.09952692444038198, 0.09952692444038198, 0.09952692444038198, 0.7917618882647278, 0.6957907916802348, 0.47779004106665124, 0.47779004106665124, 0.6654053839276949, 0.6957908135725309, 0.35640563101784584, 0.35640563101784584, 0.35640563101784584, 0.7164720776164338, 0.37145080477467207, 0.37145080477467207, 0.37145080477467207, 0.12434548736179304, 0.2486909747235861, 0.12434548736179304, 0.2486909747235861, 0.12434548736179304, 0.12434548736179304, 0.7745001339775999, 0.5192295775548481, 0.5192295775548481, 0.7305441233406439, 0.2617770601817764, 0.5235541203635528, 0.7305441425280504, 0.7164937899118099, 0.9406071326510563, 0.6957913346800415, 0.6654053473540735, 0.7568007848867028, 0.514321746745864, 0.514321746745864, 0.36883522195408486, 0.36883522195408486, 0.5083531772570817, 0.5083531772570817, 0.0944961877034056, 0.1889923754068112, 0.0944961877034056, 0.2834885631102168, 0.2834885631102168, 0.0944961877034056, 0.6654053663692936, 0.10893297562924438, 0.21786595125848876, 0.21786595125848876, 0.10893297562924438, 0.32679892688773315, 0.44765504186725996, 0.44765504186725996, 0.767474979616911, 0.48181735469630776, 0.48181735469630776, 0.4912780376280739, 0.4912780376280739, 0.7568007665414287, 0.7745001295386644, 0.7298551545539075, 0.2513420264602456, 0.2513420264602456, 0.5026840529204912, 0.4669964266868252, 0.4669964266868252], \"Term\": [\"abrupt\", \"accept\", \"access\", \"access\", \"account\", \"account\", \"account\", \"account\", \"account\", \"account\", \"advertising\", \"advice\", \"advice\", \"advice\", \"age\", \"amount\", \"amount\", \"anyone\", \"anytime\", \"apple\", \"application\", \"application\", \"approval\", \"apps\", \"apps\", \"asap\", \"attempt\", \"audience\", \"awesome\", \"baffling\", \"bait\", \"bank\", \"bank\", \"bank\", \"bank\", \"bank\", \"bank\", \"bank\", \"bank\", \"bank\", \"bank\", \"banking\", \"banking\", \"banking\", \"banking\", \"banner\", \"batch\", \"benefit\", \"beta\", \"bill\", \"board\", \"bode\", \"borrow\", \"borrowing\", \"bother\", \"breeze\", \"breeze\", \"brighter\", \"brilliant\", \"bug\", \"buggy\", \"build\", \"build\", \"button\", \"buzz\", \"cancel\", \"cant\", \"card\", \"card\", \"case\", \"case\", \"cash\", \"change\", \"change\", \"change\", \"change\", \"cheap\", \"choice\", \"clarity\", \"clean\", \"client\", \"code\", \"code\", \"color\", \"colour\", \"communication\", \"company\", \"compare\", \"competitor\", \"comprehensive\", \"consistent\", \"consumer\", \"continue\", \"convenient\", \"convenient\", \"correct\", \"correct\", \"create\", \"credit\", \"cripple\", \"customer\", \"customer\", \"customer\", \"dark\", \"dark\", \"debit\", \"debtor\", \"decrease\", \"deposit\", \"deposit\", \"deposit\", \"deposit\", \"design\", \"design\", \"design\", \"design\", \"design\", \"detail\", \"developer\", \"development\", \"device\", \"devs\", \"didnt\", \"differ\", \"digibank\", \"digital\", \"digital\", \"digital\", \"disbursement\", \"disruption\", \"doesnt\", \"download\", \"draw\", \"drop\", \"drop\", \"dumb\", \"earn\", \"ease\", \"ease\", \"ease\", \"effort\", \"email\", \"email\", \"emergency\", \"emergency\", \"end\", \"everyday\", \"everyday\", \"everyone\", \"everything\", \"everytime\", \"excellent\", \"excellent\", \"excuse\", \"excuse\", \"experience\", \"experience\", \"experience\", \"experience\", \"experience\", \"experience\", \"explanation\", \"explore\", \"eye\", \"fair\", \"fake\", \"family\", \"fast\", \"fast\", \"fast\", \"fast\", \"fast\", \"fast\", \"feature\", \"feature\", \"feature\", \"feature\", \"feature\", \"feature\", \"feature\", \"feedback\", \"feel\", \"feel\", \"fill\", \"flexi\", \"fluid\", \"focus\", \"forget\", \"form\", \"found\", \"friend\", \"frustration\", \"function\", \"fund\", \"fund\", \"fund\", \"fund\", \"fund\", \"future\", \"generate\", \"generate\", \"generator\", \"giant\", \"goal\", \"goal\", \"god\", \"grab\", \"grab\", \"grab\", \"grab\", \"group\", \"grow\", \"growth\", \"hassle\", \"hassle\", \"heard\", \"help\", \"help\", \"helpful\", \"home\", \"honest\", \"hope\", \"hurray\", \"immediate\", \"improvement\", \"improvement\", \"include\", \"income\", \"inconvenience\", \"incorrect\", \"increase\", \"increase\", \"increase\", \"info\", \"inform\", \"information\", \"institution\", \"instruction\", \"integration\", \"interest\", \"interest\", \"interest\", \"interest\", \"interest\", \"interest\", \"interest\", \"interface\", \"interface\", \"intern\", \"invite\", \"ipad\", \"issue\", \"issue\", \"issue\", \"issue\", \"join\", \"join\", \"joke\", \"joke\", \"june\", \"kenna\", \"kind\", \"lack\", \"lack\", \"lack\", \"launch\", \"launch\", \"launch\", \"launch\", \"le\", \"lead\", \"lengthy\", \"life\", \"life\", \"limit\", \"link\", \"list\", \"load\", \"loan\", \"loan\", \"loan\", \"loan\", \"login\", \"look\", \"look\", \"look\", \"look\", \"lot\", \"love\", \"maribank\", \"market\", \"market\", \"mean\", \"medium\", \"meet\", \"member\", \"merchant\", \"method\", \"millionaire\", \"mind\", \"minimum\", \"mistake\", \"mistake\", \"mobile\", \"money\", \"money\", \"money\", \"money\", \"money\", \"month\", \"month\", \"month\", \"moolah\", \"moreover\", \"morning\", \"move\", \"move\", \"mundane\", \"name\", \"navigate\", \"navigate\", \"navigate\", \"navigate\", \"need\", \"need\", \"need\", \"need\", \"need\", \"news\", \"nothing\", \"nothing\", \"notice\", \"notice\", \"notification\", \"number\", \"number\", \"number\", \"number\", \"offer\", \"offer\", \"offer\", \"offer\", \"officer\", \"okayyyy\", \"opening\", \"opinion\", \"optimise\", \"paperwork\", \"payee\", \"payee\", \"payee\", \"payment\", \"paynow\", \"perfect\", \"period\", \"person\", \"phone\", \"phone\", \"phone\", \"plat\", \"player\", \"please\", \"please\", \"please\", \"please\", \"please\", \"pocket\", \"pocket\", \"point\", \"portion\", \"prefer\", \"problem\", \"problem\", \"proceed\", \"process\", \"processing\", \"product\", \"product\", \"profit\", \"promise\", \"proper\", \"proposition\", \"provide\", \"provide\", \"provide\", \"pure\", \"purpose\", \"quality\", \"quick\", \"quick\", \"quick\", \"rate\", \"rate\", \"rate\", \"rate\", \"rate\", \"rate\", \"rating\", \"rating\", \"read\", \"receive\", \"recommend\", \"recommendation\", \"recovery\", \"register\", \"repayment\", \"reply\", \"respond\", \"response\", \"response\", \"responsive\", \"return\", \"reversal\", \"review\", \"review\", \"review\", \"reviewer\", \"reward\", \"risk\", \"roll\", \"safety\", \"saver\", \"screen\", \"script\", \"seamless\", \"security\", \"seem\", \"select\", \"sent\", \"service\", \"service\", \"service\", \"service\", \"service\", \"show\", \"sick\", \"sign\", \"sign\", \"sign\", \"simple\", \"simple\", \"simple\", \"simple\", \"singapore\", \"singapore\", \"singapore\", \"singpass\", \"singpass\", \"singpass\", \"singpass\", \"singtel\", \"singtel\", \"sleek\", \"slick\", \"slot\", \"smoother\", \"something\", \"something\", \"someway\", \"soooo\", \"speed\", \"spend\", \"staff\", \"staff\", \"staff\", \"star\", \"star\", \"start\", \"start\", \"stay\", \"stay\", \"stay\", \"stop\", \"store\", \"store\", \"straight\", \"straightforward\", \"super\", \"super\", \"super\", \"swift\", \"switch\", \"tell\", \"term\", \"testflight\", \"text\", \"thank\", \"theme\", \"theme\", \"thing\", \"thing\", \"think\", \"time\", \"time\", \"time\", \"time\", \"time\", \"time\", \"time\", \"time\", \"time\", \"timer\", \"today\", \"told\", \"told\", \"ton\", \"topup\", \"touch\", \"touch\", \"touch\", \"track\", \"transaction\", \"transaction\", \"transaction\", \"transfer\", \"transfer\", \"transfer\", \"transfer\", \"transfer\", \"transfer\", \"transparency\", \"transparent\", \"transparent\", \"troublesome\", \"trust\", \"trust\", \"tune\", \"turn\", \"type\", \"uiux\", \"ummmm\", \"understand\", \"unique\", \"unique\", \"update\", \"update\", \"useless\", \"useless\", \"user\", \"user\", \"user\", \"user\", \"user\", \"user\", \"value\", \"wait\", \"wait\", \"wait\", \"wait\", \"wait\", \"want\", \"want\", \"week\", \"whenever\", \"whenever\", \"work\", \"work\", \"workaround\", \"worry\", \"worth\", \"write\", \"write\", \"write\", \"year\", \"year\"]}, \"R\": 30, \"lambda.step\": 0.01, \"plot.opts\": {\"xlab\": \"PC1\", \"ylab\": \"PC2\"}, \"topic.order\": [8, 3, 5, 11, 12, 7, 6, 4, 1, 10, 2, 9]};\n",
       "\n",
       "function LDAvis_load_lib(url, callback){\n",
       "  var s = document.createElement('script');\n",
       "  s.src = url;\n",
       "  s.async = true;\n",
       "  s.onreadystatechange = s.onload = callback;\n",
       "  s.onerror = function(){console.warn(\"failed to load library \" + url);};\n",
       "  document.getElementsByTagName(\"head\")[0].appendChild(s);\n",
       "}\n",
       "\n",
       "if(typeof(LDAvis) !== \"undefined\"){\n",
       "   // already loaded: just create the visualization\n",
       "   !function(LDAvis){\n",
       "       new LDAvis(\"#\" + \"ldavis_el79051110348288641881080642\", ldavis_el79051110348288641881080642_data);\n",
       "   }(LDAvis);\n",
       "}else if(typeof define === \"function\" && define.amd){\n",
       "   // require.js is available: use it to load d3/LDAvis\n",
       "   require.config({paths: {d3: \"https://d3js.org/d3.v5\"}});\n",
       "   require([\"d3\"], function(d3){\n",
       "      window.d3 = d3;\n",
       "      LDAvis_load_lib(\"https://cdn.jsdelivr.net/gh/bmabey/pyLDAvis@3.4.0/pyLDAvis/js/ldavis.v3.0.0.js\", function(){\n",
       "        new LDAvis(\"#\" + \"ldavis_el79051110348288641881080642\", ldavis_el79051110348288641881080642_data);\n",
       "      });\n",
       "    });\n",
       "}else{\n",
       "    // require.js not available: dynamically load d3 & LDAvis\n",
       "    LDAvis_load_lib(\"https://d3js.org/d3.v5.js\", function(){\n",
       "         LDAvis_load_lib(\"https://cdn.jsdelivr.net/gh/bmabey/pyLDAvis@3.4.0/pyLDAvis/js/ldavis.v3.0.0.js\", function(){\n",
       "                 new LDAvis(\"#\" + \"ldavis_el79051110348288641881080642\", ldavis_el79051110348288641881080642_data);\n",
       "            })\n",
       "         });\n",
       "}\n",
       "</script>"
      ],
      "text/plain": [
       "PreparedData(topic_coordinates=              x         y  topics  cluster       Freq\n",
       "topic                                                \n",
       "7      0.101591  0.093240       1        1  21.220972\n",
       "2      0.104093 -0.032473       2        1  13.000833\n",
       "4     -0.137718  0.165343       3        1  10.697922\n",
       "10     0.123153  0.060680       4        1   9.242775\n",
       "11     0.081004  0.028750       5        1   8.601844\n",
       "6     -0.080163 -0.060060       6        1   6.456987\n",
       "5     -0.043338 -0.056240       7        1   6.142663\n",
       "3     -0.116749  0.033875       8        1   6.039286\n",
       "0      0.010449 -0.008979       9        1   5.656403\n",
       "9     -0.012331 -0.045481      10        1   5.121168\n",
       "1     -0.010476 -0.041313      11        1   4.702900\n",
       "8     -0.019514 -0.137342      12        1   3.116247, topic_info=         Term       Freq      Total Category  logprob  loglift\n",
       "25     pocket  11.000000  11.000000  Default  30.0000  30.0000\n",
       "5    interest  24.000000  24.000000  Default  29.0000  29.0000\n",
       "33       wait   9.000000   9.000000  Default  28.0000  28.0000\n",
       "0     account  25.000000  25.000000  Default  27.0000  27.0000\n",
       "9        rate  17.000000  17.000000  Default  26.0000  26.0000\n",
       "..        ...        ...        ...      ...      ...      ...\n",
       "119     touch   0.042167   2.805792  Topic12  -6.4393  -0.7293\n",
       "69       time   0.042272  10.047532  Topic12  -6.4368  -2.0024\n",
       "23      money   0.042223  13.053996  Topic12  -6.4379  -2.2653\n",
       "30   transfer   0.042196   8.042109  Topic12  -6.4386  -1.7816\n",
       "7       payee   0.042113   5.940866  Topic12  -6.4405  -1.4807\n",
       "\n",
       "[530 rows x 6 columns], token_table=      Topic      Freq     Term\n",
       "term                          \n",
       "168       8  0.776597   abrupt\n",
       "284       1  0.665405   accept\n",
       "344       4  0.494574   access\n",
       "344       9  0.494574   access\n",
       "0         1  0.509185  account\n",
       "...     ...       ...      ...\n",
       "312       1  0.251342    write\n",
       "312       3  0.251342    write\n",
       "312      11  0.502684    write\n",
       "146       2  0.466996     year\n",
       "146       5  0.466996     year\n",
       "\n",
       "[565 rows x 3 columns], R=30, lambda_step=0.01, plot_opts={'xlab': 'PC1', 'ylab': 'PC2'}, topic_order=[8, 3, 5, 11, 12, 7, 6, 4, 1, 10, 2, 9])"
      ]
     },
     "execution_count": 109,
     "metadata": {},
     "output_type": "execute_result"
    }
   ],
   "source": [
    "import pyLDAvis # To visualize lda model\n",
    "import pyLDAvis.gensim\n",
    "\n",
    "pyLDAvis.enable_notebook()\n",
    "vis = pyLDAvis.gensim.prepare(ldamodel,doc_term_matrix,dictionary)\n",
    "vis"
   ]
  },
  {
   "attachments": {},
   "cell_type": "markdown",
   "metadata": {},
   "source": [
    "Since, some topics in above graph are overlapping each other we will try to find optimal number of topics."
   ]
  },
  {
   "cell_type": "code",
   "execution_count": 110,
   "metadata": {},
   "outputs": [
    {
     "name": "stdout",
     "output_type": "stream",
     "text": [
      "\n",
      "Coherence Score:  0.4100970154148364\n"
     ]
    }
   ],
   "source": [
    "from gensim.models.coherencemodel import CoherenceModel\n",
    "coherence_model_lda = CoherenceModel(model=ldamodel,texts=review_data['clean_review'],\\\n",
    "                                     dictionary=dictionary , coherence='c_v')\n",
    "print('\\nCoherence Score: ', coherence_model_lda.get_coherence())\n",
    "\n",
    "# Compute Coherence Score"
   ]
  },
  {
   "cell_type": "code",
   "execution_count": 111,
   "metadata": {},
   "outputs": [],
   "source": [
    "# Computing coherence score for different size of topic\n",
    "\n",
    "def calculate_topic_cv(ldamodel,texts,dictionary,topic_range):\n",
    "  cv_score =[]\n",
    "  topic_num = []\n",
    "  for i in range(2,topic_range):\n",
    "    topic_num.append(i)\n",
    "    Lda = gensim.models.ldamodel.LdaModel\n",
    "    ldamodel = Lda(doc_term_matrix, num_topics=i, id2word=dictionary, passes=10,random_state=45)\n",
    "    cv_score.append(CoherenceModel(model=ldamodel,texts=texts,\\\n",
    "                                   dictionary=dictionary , coherence='c_v').get_coherence())\n",
    "    clear_output()\n",
    "  return topic_num,cv_score"
   ]
  },
  {
   "cell_type": "code",
   "execution_count": 112,
   "metadata": {},
   "outputs": [],
   "source": [
    "topic_num,cv_score = calculate_topic_cv(ldamodel,review_data['clean_review'],dictionary,15)"
   ]
  },
  {
   "cell_type": "code",
   "execution_count": 113,
   "metadata": {},
   "outputs": [
    {
     "data": {
      "text/html": [
       "<div>\n",
       "<style scoped>\n",
       "    .dataframe tbody tr th:only-of-type {\n",
       "        vertical-align: middle;\n",
       "    }\n",
       "\n",
       "    .dataframe tbody tr th {\n",
       "        vertical-align: top;\n",
       "    }\n",
       "\n",
       "    .dataframe thead th {\n",
       "        text-align: right;\n",
       "    }\n",
       "</style>\n",
       "<table border=\"1\" class=\"dataframe\">\n",
       "  <thead>\n",
       "    <tr style=\"text-align: right;\">\n",
       "      <th></th>\n",
       "      <th>Coherence_Score</th>\n",
       "    </tr>\n",
       "    <tr>\n",
       "      <th>Topic</th>\n",
       "      <th></th>\n",
       "    </tr>\n",
       "  </thead>\n",
       "  <tbody>\n",
       "    <tr>\n",
       "      <th>10</th>\n",
       "      <td>0.464836</td>\n",
       "    </tr>\n",
       "    <tr>\n",
       "      <th>7</th>\n",
       "      <td>0.461642</td>\n",
       "    </tr>\n",
       "    <tr>\n",
       "      <th>14</th>\n",
       "      <td>0.447155</td>\n",
       "    </tr>\n",
       "    <tr>\n",
       "      <th>11</th>\n",
       "      <td>0.439995</td>\n",
       "    </tr>\n",
       "    <tr>\n",
       "      <th>8</th>\n",
       "      <td>0.439746</td>\n",
       "    </tr>\n",
       "    <tr>\n",
       "      <th>6</th>\n",
       "      <td>0.433380</td>\n",
       "    </tr>\n",
       "    <tr>\n",
       "      <th>3</th>\n",
       "      <td>0.420038</td>\n",
       "    </tr>\n",
       "    <tr>\n",
       "      <th>12</th>\n",
       "      <td>0.410097</td>\n",
       "    </tr>\n",
       "    <tr>\n",
       "      <th>9</th>\n",
       "      <td>0.406801</td>\n",
       "    </tr>\n",
       "    <tr>\n",
       "      <th>5</th>\n",
       "      <td>0.404505</td>\n",
       "    </tr>\n",
       "    <tr>\n",
       "      <th>13</th>\n",
       "      <td>0.396591</td>\n",
       "    </tr>\n",
       "    <tr>\n",
       "      <th>4</th>\n",
       "      <td>0.376687</td>\n",
       "    </tr>\n",
       "    <tr>\n",
       "      <th>2</th>\n",
       "      <td>0.373592</td>\n",
       "    </tr>\n",
       "  </tbody>\n",
       "</table>\n",
       "</div>"
      ],
      "text/plain": [
       "       Coherence_Score\n",
       "Topic                 \n",
       "10            0.464836\n",
       "7             0.461642\n",
       "14            0.447155\n",
       "11            0.439995\n",
       "8             0.439746\n",
       "6             0.433380\n",
       "3             0.420038\n",
       "12            0.410097\n",
       "9             0.406801\n",
       "5             0.404505\n",
       "13            0.396591\n",
       "4             0.376687\n",
       "2             0.373592"
      ]
     },
     "execution_count": 113,
     "metadata": {},
     "output_type": "execute_result"
    }
   ],
   "source": [
    "pd.DataFrame(zip(topic_num,cv_score),columns=['Topic','Coherence_Score']).set_index\\\n",
    "('Topic').sort_values('Coherence_Score',ascending=False)"
   ]
  },
  {
   "cell_type": "code",
   "execution_count": 114,
   "metadata": {},
   "outputs": [
    {
     "data": {
      "image/png": "[encoded data removed]",
      "text/plain": [
       "<Figure size 640x480 with 1 Axes>"
      ]
     },
     "metadata": {},
     "output_type": "display_data"
    }
   ],
   "source": [
    "import matplotlib.pyplot as plt\n",
    "\n",
    "plt.plot(topic_num,cv_score,color='green', marker='o', linestyle='dashed')\n",
    "plt.xticks(range(2,15))\n",
    "plt.xlabel('Number of topics')\n",
    "plt.ylabel('Coherence score')\n",
    "plt.show()"
   ]
  },
  {
   "attachments": {},
   "cell_type": "markdown",
   "metadata": {},
   "source": [
    "### we will be going with number of topic 6 as with 8 topics there will be many overlaps ."
   ]
  },
  {
   "cell_type": "code",
   "execution_count": 159,
   "metadata": {},
   "outputs": [
    {
     "name": "stdout",
     "output_type": "stream",
     "text": [
      "0.46483550929388784\n"
     ]
    }
   ],
   "source": [
    "# Creating LDA model with number of topics as 6\n",
    "\n",
    "Lda = gensim.models.ldamodel.LdaModel\n",
    "ldamodel = Lda(doc_term_matrix, num_topics=10, id2word=dictionary, passes=10,random_state=45)\n",
    "clear_output()\n",
    "print(CoherenceModel(model=ldamodel,texts=review_data['clean_review'],\\\n",
    "                     dictionary=dictionary , coherence='c_v').get_coherence())"
   ]
  },
  {
   "cell_type": "code",
   "execution_count": 160,
   "metadata": {},
   "outputs": [
    {
     "data": {
      "text/plain": [
       "[(0,\n",
       "  '0.055*\"experience\" + 0.047*\"bank\" + 0.037*\"digital\" + 0.033*\"user\" + 0.028*\"service\" + 0.019*\"fast\" + 0.019*\"issue\" + 0.019*\"simple\" + 0.019*\"offer\" + 0.019*\"competitor\"'),\n",
       " (1,\n",
       "  '0.047*\"write\" + 0.032*\"launch\" + 0.031*\"response\" + 0.017*\"build\" + 0.017*\"update\" + 0.017*\"please\" + 0.017*\"time\" + 0.017*\"store\" + 0.017*\"staff\" + 0.017*\"help\"'),\n",
       " (2,\n",
       "  '0.070*\"bank\" + 0.024*\"fast\" + 0.024*\"review\" + 0.024*\"need\" + 0.018*\"repayment\" + 0.018*\"trust\" + 0.018*\"account\" + 0.018*\"time\" + 0.018*\"quick\" + 0.018*\"banking\"'),\n",
       " (3,\n",
       "  '0.047*\"money\" + 0.047*\"pocket\" + 0.038*\"user\" + 0.029*\"time\" + 0.020*\"sign\" + 0.020*\"lack\" + 0.020*\"design\" + 0.020*\"move\" + 0.020*\"transfer\" + 0.020*\"device\"'),\n",
       " (4,\n",
       "  '0.106*\"interest\" + 0.068*\"rate\" + 0.058*\"pocket\" + 0.039*\"bank\" + 0.030*\"love\" + 0.015*\"loan\" + 0.015*\"offer\" + 0.015*\"phone\" + 0.015*\"please\" + 0.015*\"problem\"'),\n",
       " (5,\n",
       "  '0.076*\"account\" + 0.038*\"money\" + 0.020*\"time\" + 0.020*\"grab\" + 0.020*\"fund\" + 0.020*\"amount\" + 0.020*\"transfer\" + 0.020*\"apps\" + 0.020*\"banking\" + 0.020*\"interest\"'),\n",
       " (6,\n",
       "  '0.050*\"wait\" + 0.030*\"borrow\" + 0.030*\"code\" + 0.021*\"feature\" + 0.021*\"payment\" + 0.021*\"merchant\" + 0.021*\"amount\" + 0.011*\"singpass\" + 0.011*\"correct\" + 0.011*\"look\"'),\n",
       " (7,\n",
       "  '0.075*\"account\" + 0.057*\"bank\" + 0.052*\"interest\" + 0.034*\"rate\" + 0.022*\"number\" + 0.018*\"payee\" + 0.015*\"money\" + 0.014*\"consumer\" + 0.014*\"transfer\" + 0.014*\"feature\"'),\n",
       " (8,\n",
       "  '0.032*\"sign\" + 0.032*\"user\" + 0.017*\"interface\" + 0.017*\"grow\" + 0.017*\"goal\" + 0.017*\"fast\" + 0.017*\"dark\" + 0.017*\"theme\" + 0.017*\"change\" + 0.017*\"start\"'),\n",
       " (9,\n",
       "  '0.032*\"design\" + 0.032*\"something\" + 0.017*\"sign\" + 0.017*\"grab\" + 0.017*\"feature\" + 0.017*\"transaction\" + 0.017*\"love\" + 0.017*\"customer\" + 0.017*\"excellent\" + 0.017*\"joke\"')]"
      ]
     },
     "execution_count": 160,
     "metadata": {},
     "output_type": "execute_result"
    }
   ],
   "source": [
    "ldamodel.print_topics()"
   ]
  },
  {
   "cell_type": "code",
   "execution_count": 161,
   "metadata": {},
   "outputs": [
    {
     "data": {
      "text/html": [
       "\n",
       "<link rel=\"stylesheet\" type=\"text/css\" href=\"https://cdn.jsdelivr.net/gh/bmabey/pyLDAvis@3.4.0/pyLDAvis/js/ldavis.v1.0.0.css\">\n",
       "\n",
       "\n",
       "<div id=\"ldavis_el7905163077844002241766975\" style=\"background-color:white;\"></div>\n",
       "<script type=\"text/javascript\">\n",
       "\n",
       "var ldavis_el7905163077844002241766975_data = {\"mdsDat\": {\"x\": [-0.16837374220396215, -0.03940810439120793, -0.0909828592944718, -0.05222893013931437, 0.03571844574383418, 0.007877655297434932, 0.15093578325851278, 0.09016046932210264, 0.021651892378217814, 0.044649390028854034], \"y\": [-0.01783316578876805, 0.15009219339655186, -0.11431610235707981, 0.023604233647162437, 0.10891248404618332, -0.10349463481461393, -0.0868310705638876, 0.040347890869393006, -0.00691312614454275, 0.006431297709601505], \"topics\": [1, 2, 3, 4, 5, 6, 7, 8, 9, 10], \"cluster\": [1, 1, 1, 1, 1, 1, 1, 1, 1, 1], \"Freq\": [28.305819563048395, 15.514992238208569, 11.155598067197582, 8.496547352476547, 8.475565858026515, 8.26182213844287, 7.84181093207559, 4.210183637316744, 3.8694026129617485, 3.868257600245442]}, \"tinfo\": {\"Term\": [\"account\", \"interest\", \"pocket\", \"bank\", \"rate\", \"money\", \"wait\", \"user\", \"experience\", \"sign\", \"write\", \"fast\", \"design\", \"digital\", \"love\", \"something\", \"time\", \"launch\", \"service\", \"please\", \"need\", \"review\", \"borrow\", \"code\", \"amount\", \"grab\", \"feature\", \"transfer\", \"response\", \"loan\", \"consumer\", \"name\", \"application\", \"number\", \"select\", \"type\", \"point\", \"decrease\", \"product\", \"want\", \"payee\", \"account\", \"exaggerate\", \"management\", \"min\", \"frustration\", \"faster\", \"input\", \"digibank\", \"focus\", \"list\", \"travel\", \"everytime\", \"differ\", \"asap\", \"troublesome\", \"piece\", \"branch\", \"maribank\", \"god\", \"function\", \"increase\", \"interest\", \"bank\", \"nothing\", \"thing\", \"rate\", \"fund\", \"transfer\", \"feature\", \"please\", \"look\", \"wait\", \"singapore\", \"ease\", \"joke\", \"interface\", \"navigate\", \"money\", \"sign\", \"banking\", \"quick\", \"cash\", \"emergency\", \"life\", \"information\", \"repayment\", \"review\", \"trust\", \"need\", \"register\", \"slot\", \"compare\", \"anyone\", \"perfect\", \"saver\", \"everything\", \"bill\", \"choice\", \"borrowing\", \"option\", \"risk\", \"responsive\", \"earn\", \"draw\", \"speed\", \"tool\", \"comprehensive\", \"anytime\", \"moolah\", \"medium\", \"fast\", \"bank\", \"banking\", \"ease\", \"singapore\", \"singpass\", \"time\", \"money\", \"transfer\", \"account\", \"rate\", \"interest\", \"improvement\", \"month\", \"excuse\", \"advertising\", \"fill\", \"stop\", \"buzz\", \"news\", \"receive\", \"period\", \"promise\", \"debtor\", \"fair\", \"someway\", \"profit\", \"worth\", \"cripple\", \"morning\", \"script\", \"intern\", \"limit\", \"giant\", \"recommendation\", \"helpful\", \"love\", \"problem\", \"touch\", \"pocket\", \"provide\", \"excellent\", \"phone\", \"interest\", \"transparent\", \"loan\", \"rate\", \"change\", \"bank\", \"offer\", \"design\", \"please\", \"sign\", \"user\", \"feature\", \"wait\", \"money\", \"write\", \"goal\", \"notice\", \"navigate\", \"update\", \"today\", \"banner\", \"officer\", \"june\", \"bait\", \"method\", \"company\", \"honest\", \"topup\", \"link\", \"kenna\", \"switch\", \"le\", \"credit\", \"lengthy\", \"home\", \"apps\", \"amount\", \"start\", \"grow\", \"work\", \"breeze\", \"transparent\", \"drop\", \"useless\", \"join\", \"card\", \"feel\", \"grab\", \"transaction\", \"fund\", \"account\", \"money\", \"banking\", \"transfer\", \"time\", \"interest\", \"look\", \"singpass\", \"advice\", \"something\", \"service\", \"please\", \"customer\", \"deposit\", \"help\", \"problem\", \"issue\", \"month\", \"digital\", \"competitor\", \"access\", \"swift\", \"continue\", \"baffling\", \"return\", \"think\", \"worry\", \"pure\", \"recovery\", \"thank\", \"week\", \"seamless\", \"transparency\", \"roll\", \"future\", \"communication\", \"disbursement\", \"immediate\", \"opinion\", \"straightforward\", \"prefer\", \"bug\", \"understand\", \"experience\", \"service\", \"issue\", \"singtel\", \"simple\", \"user\", \"offer\", \"bank\", \"fast\", \"interest\", \"review\", \"joke\", \"time\", \"staff\", \"banking\", \"super\", \"deposit\", \"device\", \"unique\", \"disruption\", \"consistent\", \"cant\", \"abrupt\", \"explanation\", \"straight\", \"clarity\", \"seem\", \"screen\", \"explore\", \"portion\", \"doesnt\", \"tune\", \"board\", \"meet\", \"forget\", \"dumb\", \"plat\", \"password\", \"form\", \"lack\", \"move\", \"star\", \"hassle\", \"navigate\", \"pocket\", \"store\", \"stay\", \"money\", \"user\", \"design\", \"time\", \"sign\", \"transfer\", \"wait\", \"service\", \"goal\", \"interface\", \"feature\", \"borrow\", \"code\", \"payment\", \"merchant\", \"login\", \"feedback\", \"flexi\", \"ipad\", \"safety\", \"friend\", \"member\", \"workaround\", \"devs\", \"integration\", \"paynow\", \"inconvenience\", \"sent\", \"read\", \"create\", \"text\", \"family\", \"tell\", \"millionaire\", \"end\", \"timer\", \"show\", \"sick\", \"purpose\", \"generator\", \"lead\", \"wait\", \"amount\", \"feature\", \"singpass\", \"correct\", \"look\", \"generate\", \"email\", \"loan\", \"convenient\", \"told\", \"advice\", \"rating\", \"change\", \"mistake\", \"stay\", \"response\", \"beta\", \"proper\", \"spend\", \"info\", \"mundane\", \"testflight\", \"heard\", \"bode\", \"respond\", \"hurray\", \"benefit\", \"soooo\", \"approval\", \"write\", \"build\", \"launch\", \"store\", \"update\", \"staff\", \"help\", \"loan\", \"review\", \"please\", \"fast\", \"time\", \"instruction\", \"clean\", \"hope\", \"growth\", \"quick\", \"pocket\", \"bank\", \"rate\", \"accept\", \"brilliant\", \"notification\", \"attempt\", \"uiux\", \"singtel\", \"work\", \"something\", \"excellent\", \"whenever\", \"store\", \"update\", \"transaction\", \"customer\", \"design\", \"joke\", \"grab\", \"love\", \"sign\", \"fast\", \"experience\", \"feature\", \"time\", \"user\", \"pocket\", \"instruction\", \"clean\", \"hope\", \"person\", \"growth\", \"rate\", \"bank\", \"interest\", \"money\", \"account\", \"load\", \"sleek\", \"brighter\", \"color\", \"person\", \"hope\", \"growth\", \"instruction\", \"clean\", \"grow\", \"start\", \"dark\", \"theme\", \"everyday\", \"goal\", \"sign\", \"something\", \"digital\", \"change\", \"interface\", \"service\", \"need\", \"user\", \"please\", \"fast\", \"wait\", \"uiux\", \"attempt\", \"notification\", \"brilliant\", \"bank\", \"pocket\", \"rate\", \"money\"], \"Freq\": [26.0, 25.0, 10.0, 31.0, 17.0, 12.0, 9.0, 10.0, 7.0, 6.0, 3.0, 6.0, 5.0, 3.0, 5.0, 3.0, 9.0, 3.0, 4.0, 6.0, 5.0, 4.0, 2.0, 2.0, 3.0, 4.0, 7.0, 8.0, 1.0, 3.0, 3.4712936203066125, 2.6248693897043704, 2.62486916641951, 5.165070053391933, 1.7781372492793004, 1.7781372492793004, 1.77791519248539, 1.7777840126297615, 1.7761415291948632, 1.7757468732036747, 4.31913079750701, 17.86502170013611, 0.9314052763178758, 0.9314052763178758, 0.9314052763178758, 0.9314052763178758, 0.9314052204966607, 0.9314052204966607, 0.9314052763178758, 0.9314052763178758, 0.9314052204966607, 0.9314052204966607, 0.9314052204966607, 0.9314052763178758, 0.9314052763178758, 0.9314052204966607, 0.9314052204966607, 0.9314052204966607, 0.9314052204966607, 0.9314052204966607, 1.7781427197583863, 2.624391560102592, 12.385267361243994, 13.636624492030725, 1.7781376958490218, 1.7778742197134618, 8.164014375539777, 2.624763329395565, 3.470108200981453, 3.3181001102672876, 2.62486224458883, 1.7765606348782923, 3.317972391326999, 1.7781305507334813, 1.7781285411697354, 1.7791173581750979, 1.7762557394010827, 1.7855992060371664, 3.4847597069671985, 1.7884160561966223, 1.7841368018423778, 2.383128451246653, 1.6190152071447992, 1.6190150847578506, 1.6181072183742211, 1.6161459675252503, 2.3899845680990306, 3.156085498630721, 2.389980896490577, 3.142439109104235, 0.8480557595333926, 0.8480557595333926, 0.8480557595333926, 0.8480557595333926, 0.8480556371464442, 0.8480556371464442, 0.8480556371464442, 0.8480556371464442, 0.8480556371464442, 0.8480556371464442, 0.8480556371464442, 0.8480556371464442, 0.8480556371464442, 0.8480555759529699, 0.8480555759529699, 0.8480555759529699, 0.8480555759529699, 0.8480555759529699, 0.8480554535660214, 0.8480553923725472, 0.847339979465361, 3.1593255707040853, 9.154959859962773, 2.382967145248591, 1.6190227951356033, 1.6190213264922217, 1.615824089850817, 2.3870396933453373, 2.3731162197675517, 1.6183029151047985, 2.387746110811812, 1.8170509970811402, 0.9125875213597489, 0.8480608385917534, 0.8480567386289802, 0.8480558207268668, 0.7599469963605311, 0.7599469963605311, 0.7599469963605311, 0.7599469963605311, 0.7599469963605311, 0.7599469963605311, 0.7599469963605311, 0.7599469963605311, 0.7599469963605311, 0.7599469083618016, 0.7599469083618016, 0.7599469083618016, 0.7599469083618016, 0.7599469083618016, 0.759946820363072, 0.759946644365613, 0.759946644365613, 0.7599465563668835, 0.7599465563668835, 0.7599464683681539, 0.7599461163732358, 2.8325638252149536, 1.450806454163737, 1.4508028462158264, 5.515096856480683, 1.3958002963082439, 0.7599427724215138, 1.4508121740811566, 9.995701064319263, 0.7599447963922928, 1.4508183339922236, 6.425906586779409, 1.4508039901993104, 3.6752099156176845, 1.4508155180328788, 1.4141367675777392, 1.4508108541002136, 1.4181717733228496, 1.3844547961074805, 0.8855960703177812, 0.8851800123245663, 0.7638884594561519, 0.7619940228068435, 0.7612503455435907, 0.7600665866339615, 0.7599494603249579, 0.759947964346556, 0.7426094227423315, 0.7426094227423315, 0.7426094227423315, 0.7426094227423315, 0.742609288695664, 0.742609288695664, 0.742609288695664, 0.742609288695664, 0.742609288695664, 0.742609288695664, 0.7426092216723302, 0.7426091546489966, 0.7426091546489966, 0.7426091546489966, 0.7426091546489966, 0.7426086184623265, 1.4177114692214365, 1.4177138820614514, 0.7426064737156467, 0.7425921307222249, 0.7426100929756689, 0.7426104280923377, 0.7426115004656777, 0.742609824882334, 0.7426141813990276, 0.7426131760490213, 0.7426128409323526, 0.7426122377223489, 1.417724337701516, 0.7426144494923625, 1.4177168310881363, 5.468330852569444, 2.767967706333302, 1.4177027561880495, 1.417712943734779, 1.4177311740815581, 1.4176900217546375, 0.7426196102890611, 0.7426187389857223, 0.7426147846090313, 0.74261458353903, 0.742613779259025, 0.7426133771190225, 0.7426129749790201, 0.7426119026056801, 0.7426106961856727, 0.7426106961856727, 0.7426104280923377, 0.7426100259523353, 2.6867937664763897, 1.3838141769818453, 1.3699947981921405, 0.7248551596991434, 0.7248551596991434, 0.7248551596991434, 0.7248551596991434, 0.7248551596991434, 0.7248551596991434, 0.7248551596991434, 0.7248551596991434, 0.7248551596991434, 0.7248551596991434, 0.7248551596991434, 0.7248551596991434, 0.724855092841318, 0.724855092841318, 0.724855092841318, 0.7248550259834926, 0.7248549591256672, 0.7248549591256672, 0.7248549591256672, 0.7248548922678418, 0.7248548254100164, 0.724854557978715, 3.9663354092755907, 2.036945999920368, 1.383979716957478, 0.7248517499500492, 1.3838264788217145, 2.3584405447613337, 1.3838243393713023, 3.34100614558865, 1.3840778642451308, 0.7384195427428615, 0.725207433581053, 0.7250207665326014, 0.7249851313116756, 0.7249509001050828, 0.7249416068673554, 0.7248649209416483, 0.7248564968556509, 1.3657300754260162, 1.3657295540520138, 0.7153825477013305, 0.7153824825295801, 0.7153824825295801, 0.7153824825295801, 0.7153824825295801, 0.7153824825295801, 0.7153824825295801, 0.7153824825295801, 0.7153824825295801, 0.7153824825295801, 0.7153824173578299, 0.7153824173578299, 0.7153824173578299, 0.7153824173578299, 0.7153823521860796, 0.7153823521860796, 0.7153823521860796, 0.7153821566708286, 0.7153820263273281, 0.7153820263273281, 1.3657474111115984, 1.365737635349052, 0.7153852849148434, 0.7153884131588583, 1.3599956131163455, 3.3168153460965253, 0.7153781160223095, 0.7153857411170956, 3.3168364617436255, 2.660707613220797, 1.3657406332495663, 2.016107777671095, 1.365749235920607, 1.365733203670031, 1.365727468556004, 0.7211388425473546, 0.7153854804300944, 0.7153850893995926, 0.7153848287125913, 2.024646994144616, 2.024646994144616, 1.3715351283944675, 1.3715351283944675, 0.7184232007857436, 0.7184232007857436, 0.7184232007857436, 0.7184232007857436, 0.7184232007857436, 0.7184232007857436, 0.7184232007857436, 0.7184232007857436, 0.7184232007857436, 0.7184232007857436, 0.7184231389271687, 0.7184231389271687, 0.7184231389271687, 0.7184231389271687, 0.7184231389271687, 0.7184231389271687, 0.7184231389271687, 0.7184231389271687, 0.7184231389271687, 0.7184230770685937, 0.7184230770685937, 0.7184229533514438, 0.7184228914928689, 0.7184228914928689, 0.7184228914928689, 0.7184228296342938, 3.330982071079837, 1.3715293136884215, 1.3716315040542506, 0.7211401531150141, 0.7198469996055337, 0.7184743578272332, 0.7184289536332146, 0.7184288917746396, 0.7184287061989147, 0.7184285824817649, 0.7184282731888901, 0.7184262318559165, 0.718425489553017, 0.7184253039772921, 0.7184244998158177, 0.7184232007857436, 1.119824313251133, 0.5890593694983738, 0.5890593694983738, 0.5890593694983738, 0.5890593694983738, 0.5890593694983738, 0.5890593694983738, 0.5890593694983738, 0.5890593694983738, 0.5890593694983738, 0.5890593694983738, 0.5890593694983738, 0.5890592366535693, 0.5890589709639602, 1.66014345534585, 0.5890730525132406, 1.1245837440631092, 0.5890625577736825, 0.5890697978155296, 0.5890612293256372, 0.5890602994120056, 0.5890554505766401, 0.589058173895133, 0.5890671409194389, 0.589036453769592, 0.5890668752298298, 0.053550919704581756, 0.05355091555318161, 0.05355090725038133, 0.05355089894758105, 0.05356687768672619, 0.05355138050999748, 0.0535513431473962, 0.053551301633394784, 0.5495620447104257, 0.5495619836643909, 0.5495619226183561, 0.5495619226183561, 0.5495617394802517, 0.549564547597853, 0.5495614952961124, 1.049171828423332, 0.5495649749200967, 0.5495624109866346, 0.5495624109866346, 0.549551239562264, 0.5495665621170017, 0.5495653411963055, 1.0491950259165603, 0.549564547597853, 0.5495679051297676, 0.5495655853804448, 0.5495798701525908, 0.5495644255057833, 0.5495500796876026, 0.5495668063011411, 0.5495485535367323, 0.549538908263232, 0.5495169927367346, 0.04996025039732549, 0.04996023895119396, 0.04996022750506243, 0.04996022750506243, 0.04996022368968526, 0.5495486756288019, 0.5495373821123617, 0.04996062811966589, 0.04996055562749955, 0.04996049839684191, 0.5493967970765041, 0.5493967970765041, 0.5493966750205633, 0.5493966750205633, 0.5493966750205633, 0.5493965529646225, 0.5493964919366521, 0.5493963698807113, 0.5493963088527409, 0.5494090636985544, 0.5493988109995273, 0.5493997264190833, 0.5493994823072017, 0.5493978345520009, 0.5494030829574552, 1.048902618072134, 0.5493900229717898, 0.5493948441814513, 0.5493992992232904, 0.549409307810436, 0.5493893516641154, 0.5493955154891258, 1.0488909007018175, 0.5493889244683227, 0.5494027167896328, 0.5493966750205633, 0.04994521468956639, 0.04994520706107009, 0.049945195618325645, 0.049945187989829345, 0.5493771460700356, 0.04994561137137399, 0.049945584671636935, 0.049945569414644335], \"Total\": [26.0, 25.0, 10.0, 31.0, 17.0, 12.0, 9.0, 10.0, 7.0, 6.0, 3.0, 6.0, 5.0, 3.0, 5.0, 3.0, 9.0, 3.0, 4.0, 6.0, 5.0, 4.0, 2.0, 2.0, 3.0, 4.0, 7.0, 8.0, 1.0, 3.0, 4.0349351060783185, 3.1882597578352083, 3.1882597229526044, 6.378805088718308, 2.3415275607082697, 2.3415275633831616, 2.3414867101718313, 2.341462430846133, 2.341155957844005, 2.3410842452325786, 6.303084917412556, 26.1426926859891, 1.4947955166214866, 1.4947955166214866, 1.4947955166214866, 1.4947955166214866, 1.4947954646145196, 1.4947954684298967, 1.4947955616871875, 1.494795561724746, 1.4947954726188553, 1.4947954729560071, 1.4947954729832211, 1.4947955739180396, 1.4947955782012288, 1.4947954927544258, 1.4947954944389694, 1.4947955020892827, 1.494795505903531, 1.494795505903531, 2.9918766967383776, 4.612243111229512, 25.733557022851997, 31.17798625933833, 3.112487443054792, 3.1124384366444846, 17.998909884284863, 5.197398294564014, 8.227447591809973, 7.92464203263821, 6.280041177547069, 3.6694456715535124, 9.763272886557894, 3.883446426913281, 3.8834463659902263, 4.271107043223191, 4.2619304364027775, 4.334814867171764, 12.99151858072211, 6.527111366250151, 6.663937170136364, 2.9616060104812854, 2.189982978313628, 2.189982944387831, 2.1900310497171227, 2.1895444290067423, 3.6199032048868514, 4.926317572916297, 3.8076746633828056, 5.079508652822858, 1.4190232561906218, 1.4190232616905423, 1.419023269163878, 1.4190232732371124, 1.4190231630434578, 1.4190231810612217, 1.4190231903118404, 1.4190231961489133, 1.4190232000018488, 1.419023213232962, 1.4190232180092686, 1.4190232210840152, 1.4190232520375707, 1.4190231835006413, 1.4190232220653984, 1.4190232233388025, 1.4190232251203032, 1.4190232327970385, 1.4190232045116042, 1.4190231863066078, 1.4190619662268866, 6.584474123912698, 31.17798625933833, 6.663937170136364, 3.8834463659902263, 3.883446426913281, 4.168055085715286, 9.455908706945635, 12.99151858072211, 8.227447591809973, 26.1426926859891, 17.998909884284863, 25.733557022851997, 2.2657546700953626, 2.784983754430846, 2.2657268544570166, 1.3389243942917908, 1.3389243942929197, 1.3389244217927505, 1.338924425030744, 1.3389244334097896, 1.3389244370704312, 1.3389244535208293, 1.3389244761259405, 1.3389244880667797, 1.3389244045810447, 1.3389244187539342, 1.3389244195362895, 1.3389244310790172, 1.3389244518589059, 1.338924378268356, 1.3389243929413364, 1.33892439982383, 1.3389243838971947, 1.3389244187567642, 1.3389243539949205, 1.338924382052606, 5.214569884122384, 2.7048848472222207, 2.8007815720321423, 10.791272850908369, 2.8835715393146395, 1.838525263155515, 3.526864253958975, 25.733557022851997, 2.014023967578272, 3.87736675319454, 17.998909884284863, 3.953307580829933, 31.17798625933833, 4.869531104693079, 5.1815301190648295, 6.280041177547069, 6.527111366250151, 10.393854546104597, 7.92464203263821, 9.763272886557894, 12.99151858072211, 3.716143305930105, 3.3351387487525974, 2.185629434314015, 4.334814867171764, 2.3740360853989606, 1.3231629371652613, 1.3231629447090658, 1.323162950287152, 1.323162953848515, 1.3231628571352263, 1.3231628764379608, 1.3231628799085313, 1.3231628837227796, 1.3231628884964026, 1.3231628996835478, 1.3231628748465123, 1.3231628662685977, 1.323162875900158, 1.3231628775884599, 1.3231629459784393, 1.3231628579255916, 2.6891233436239332, 3.304486288712187, 1.8226138840405683, 1.8226105214518502, 1.8227651016331947, 1.9821222504543583, 2.014023967578272, 2.1698651832832363, 2.1698936314064317, 2.1698939662877814, 2.169894012577587, 2.1698942926986216, 4.774484388308807, 2.5937217426377774, 5.197398294564014, 26.1426926859891, 12.99151858072211, 6.663937170136364, 8.227447591809973, 9.455908706945635, 25.733557022851997, 3.6694456715535124, 4.168055085715286, 3.5138670011229935, 3.4807776443648706, 4.449766591530131, 6.280041177547069, 2.6694937613622565, 3.4789315273987764, 2.6296306613250966, 2.7048848472222207, 3.4120919589839365, 2.784983754430846, 3.7832207604645367, 1.9659821024148485, 1.9699176395826108, 1.3070227484132462, 1.3070227543254351, 1.3070227579784217, 1.3070227588112158, 1.3070227670358503, 1.3070227682292102, 1.3070227860129482, 1.3070227995935417, 1.307022806003293, 1.3070228066124587, 1.3070228086490916, 1.3070228195075488, 1.3070227616681163, 1.307022781470807, 1.3070227956465956, 1.3070228078399257, 1.307022795698383, 1.3070227968186403, 1.3070228093822092, 1.307022795321758, 1.3070227892742543, 1.3070227564379442, 7.352733160627901, 4.449766591530131, 3.4120919589839365, 1.8066239951148337, 3.5836717533123355, 10.393854546104597, 4.869531104693079, 31.17798625933833, 6.584474123912698, 25.733557022851997, 4.926317572916297, 4.271107043223191, 9.455908706945635, 2.613529563638423, 6.663937170136364, 2.8446131798494747, 3.4789315273987764, 1.9487588643852551, 1.9487590197556304, 1.2984112771502598, 1.2984112286853113, 1.298411230471338, 1.2984112321934398, 1.2984112429477814, 1.298411248517445, 1.2984112488131971, 1.2984112519818505, 1.2984112676094326, 1.2984112761501527, 1.298411202400124, 1.2984112200922098, 1.2984112277858444, 1.2984112789978115, 1.2984112455213759, 1.2984112689990719, 1.2984112863815849, 1.2984112430252297, 1.2984112479575223, 1.298411257178513, 2.795485497390474, 2.7954887863934705, 2.069136623352501, 2.145141440913694, 4.334814867171764, 10.791272850908369, 2.333521005448419, 2.642384125682357, 12.99151858072211, 10.393854546104597, 5.1815301190648295, 9.455908706945635, 6.527111366250151, 8.227447591809973, 9.763272886557894, 4.449766591530131, 3.3351387487525974, 4.2619304364027775, 7.92464203263821, 2.6073995028009738, 2.6073995301420694, 1.954287557215318, 1.9542875613462842, 1.301175493744127, 1.3011754992440479, 1.301175503395448, 1.301175507574062, 1.3011755130196478, 1.3011755170653438, 1.3011755174008532, 1.301175518262504, 1.3011755271839631, 1.301175546365253, 1.3011754360369523, 1.3011754685171353, 1.3011754723509426, 1.3011754761663197, 1.3011754765306858, 1.301175488647734, 1.3011754923838166, 1.3011754956525998, 1.30117551852207, 1.301175467550325, 1.3011754930852952, 1.3011754517024283, 1.3011754666221407, 1.3011754858274922, 1.3011755122958417, 1.301175443113248, 9.763272886557894, 3.304486288712187, 7.92464203263821, 4.168055085715286, 2.071878411950753, 3.6694456715535124, 2.1479058750929374, 2.1479057770288454, 3.87736675319454, 1.9601347746055109, 2.1479060458032784, 3.5138670011229935, 2.072502279386315, 3.953307580829933, 2.147907176194336, 2.642384125682357, 1.721836588621116, 1.183571998115488, 1.183572007804367, 1.183572007804367, 1.1835720116197441, 1.1835720116197441, 1.1835720116197441, 1.183572018597396, 1.183572031825459, 1.18357203364405, 1.1835720758054387, 1.1835721034190303, 1.1835720262556173, 1.183572083288982, 3.716143305930105, 2.030289468786105, 3.995724684837556, 2.333521005448419, 2.3740360853989606, 2.613529563638423, 2.6296306613250966, 3.87736675319454, 4.926317572916297, 6.280041177547069, 6.584474123912698, 9.455908706945635, 1.1475152752693831, 1.1475152848796455, 1.1475152388698246, 1.1475151862865682, 2.9616060104812854, 10.791272850908369, 31.17798625933833, 17.998909884284863, 1.1476654545815193, 1.1476654168059808, 1.1476654587729342, 1.1476654946582547, 1.1476654995391877, 1.8066239951148337, 1.8227651016331947, 3.4807776443648706, 1.838525263155515, 1.918624924137405, 2.333521005448419, 2.3740360853989606, 2.5937217426377774, 2.6694937613622565, 5.1815301190648295, 4.271107043223191, 4.774484388308807, 5.214569884122384, 6.527111366250151, 6.584474123912698, 7.352733160627901, 7.92464203263821, 9.455908706945635, 10.393854546104597, 10.791272850908369, 1.1475152752693831, 1.1475152848796455, 1.1475152388698246, 1.1475152573895198, 1.1475151862865682, 17.998909884284863, 31.17798625933833, 25.733557022851997, 12.99151858072211, 26.1426926859891, 1.1475151837697743, 1.1475152176084626, 1.147515245014369, 1.147515247836619, 1.1475152573895198, 1.1475152388698246, 1.1475151862865682, 1.1475152752693831, 1.1475152848796455, 1.8226105214518502, 1.8226138840405683, 1.918473382333581, 1.9187790273313539, 1.9938465221039148, 3.3351387487525974, 6.527111366250151, 3.4807776443648706, 3.7832207604645367, 3.953307580829933, 4.2619304364027775, 4.449766591530131, 5.079508652822858, 10.393854546104597, 6.280041177547069, 6.584474123912698, 9.763272886557894, 1.1476654995391877, 1.1476654946582547, 1.1476654587729342, 1.1476654168059808, 31.17798625933833, 10.791272850908369, 17.998909884284863, 12.99151858072211], \"Category\": [\"Default\", \"Default\", \"Default\", \"Default\", \"Default\", \"Default\", \"Default\", \"Default\", \"Default\", \"Default\", \"Default\", \"Default\", \"Default\", \"Default\", \"Default\", \"Default\", \"Default\", \"Default\", \"Default\", \"Default\", \"Default\", \"Default\", \"Default\", \"Default\", \"Default\", \"Default\", \"Default\", \"Default\", \"Default\", \"Default\", \"Topic1\", \"Topic1\", \"Topic1\", \"Topic1\", \"Topic1\", \"Topic1\", \"Topic1\", \"Topic1\", \"Topic1\", \"Topic1\", \"Topic1\", \"Topic1\", \"Topic1\", \"Topic1\", \"Topic1\", \"Topic1\", \"Topic1\", \"Topic1\", \"Topic1\", \"Topic1\", \"Topic1\", \"Topic1\", \"Topic1\", \"Topic1\", \"Topic1\", \"Topic1\", \"Topic1\", \"Topic1\", \"Topic1\", \"Topic1\", \"Topic1\", \"Topic1\", \"Topic1\", \"Topic1\", \"Topic1\", \"Topic1\", \"Topic1\", \"Topic1\", \"Topic1\", \"Topic1\", \"Topic1\", \"Topic1\", \"Topic1\", \"Topic1\", \"Topic1\", \"Topic1\", \"Topic1\", \"Topic1\", \"Topic1\", \"Topic1\", \"Topic1\", \"Topic2\", \"Topic2\", \"Topic2\", \"Topic2\", \"Topic2\", \"Topic2\", \"Topic2\", \"Topic2\", \"Topic2\", \"Topic2\", \"Topic2\", \"Topic2\", \"Topic2\", \"Topic2\", \"Topic2\", \"Topic2\", \"Topic2\", \"Topic2\", \"Topic2\", \"Topic2\", \"Topic2\", \"Topic2\", \"Topic2\", \"Topic2\", \"Topic2\", \"Topic2\", \"Topic2\", \"Topic2\", \"Topic2\", \"Topic2\", \"Topic2\", \"Topic2\", \"Topic2\", \"Topic2\", \"Topic2\", \"Topic2\", \"Topic2\", \"Topic2\", \"Topic2\", \"Topic2\", \"Topic2\", \"Topic2\", \"Topic2\", \"Topic2\", \"Topic2\", \"Topic3\", \"Topic3\", \"Topic3\", \"Topic3\", \"Topic3\", \"Topic3\", \"Topic3\", \"Topic3\", \"Topic3\", \"Topic3\", \"Topic3\", \"Topic3\", \"Topic3\", \"Topic3\", \"Topic3\", \"Topic3\", \"Topic3\", \"Topic3\", \"Topic3\", \"Topic3\", \"Topic3\", \"Topic3\", \"Topic3\", \"Topic3\", \"Topic3\", \"Topic3\", \"Topic3\", \"Topic3\", \"Topic3\", \"Topic3\", \"Topic3\", \"Topic3\", \"Topic3\", \"Topic3\", \"Topic3\", \"Topic3\", \"Topic3\", \"Topic3\", \"Topic3\", \"Topic3\", \"Topic3\", \"Topic3\", \"Topic3\", \"Topic3\", \"Topic3\", \"Topic3\", \"Topic3\", \"Topic4\", \"Topic4\", \"Topic4\", \"Topic4\", \"Topic4\", \"Topic4\", \"Topic4\", \"Topic4\", \"Topic4\", \"Topic4\", \"Topic4\", \"Topic4\", \"Topic4\", \"Topic4\", \"Topic4\", \"Topic4\", \"Topic4\", \"Topic4\", \"Topic4\", \"Topic4\", \"Topic4\", \"Topic4\", \"Topic4\", \"Topic4\", \"Topic4\", \"Topic4\", \"Topic4\", \"Topic4\", \"Topic4\", \"Topic4\", \"Topic4\", \"Topic4\", \"Topic4\", \"Topic4\", \"Topic4\", \"Topic4\", \"Topic4\", \"Topic4\", \"Topic4\", \"Topic4\", \"Topic4\", \"Topic4\", \"Topic4\", \"Topic4\", \"Topic4\", \"Topic4\", \"Topic4\", \"Topic4\", \"Topic4\", \"Topic5\", \"Topic5\", \"Topic5\", \"Topic5\", \"Topic5\", \"Topic5\", \"Topic5\", \"Topic5\", \"Topic5\", \"Topic5\", \"Topic5\", \"Topic5\", \"Topic5\", \"Topic5\", \"Topic5\", \"Topic5\", \"Topic5\", \"Topic5\", \"Topic5\", \"Topic5\", \"Topic5\", \"Topic5\", \"Topic5\", \"Topic5\", \"Topic5\", \"Topic5\", \"Topic5\", \"Topic5\", \"Topic5\", \"Topic5\", \"Topic5\", \"Topic5\", \"Topic5\", \"Topic5\", \"Topic5\", \"Topic5\", \"Topic5\", \"Topic5\", \"Topic5\", \"Topic5\", \"Topic5\", \"Topic5\", \"Topic6\", \"Topic6\", \"Topic6\", \"Topic6\", \"Topic6\", \"Topic6\", \"Topic6\", \"Topic6\", \"Topic6\", \"Topic6\", \"Topic6\", \"Topic6\", \"Topic6\", \"Topic6\", \"Topic6\", \"Topic6\", \"Topic6\", \"Topic6\", \"Topic6\", \"Topic6\", \"Topic6\", \"Topic6\", \"Topic6\", \"Topic6\", \"Topic6\", \"Topic6\", \"Topic6\", \"Topic6\", \"Topic6\", \"Topic6\", \"Topic6\", \"Topic6\", \"Topic6\", \"Topic6\", \"Topic6\", \"Topic6\", \"Topic6\", \"Topic6\", \"Topic6\", \"Topic6\", \"Topic6\", \"Topic7\", \"Topic7\", \"Topic7\", \"Topic7\", \"Topic7\", \"Topic7\", \"Topic7\", \"Topic7\", \"Topic7\", \"Topic7\", \"Topic7\", \"Topic7\", \"Topic7\", \"Topic7\", \"Topic7\", \"Topic7\", \"Topic7\", \"Topic7\", \"Topic7\", \"Topic7\", \"Topic7\", \"Topic7\", \"Topic7\", \"Topic7\", \"Topic7\", \"Topic7\", \"Topic7\", \"Topic7\", \"Topic7\", \"Topic7\", \"Topic7\", \"Topic7\", \"Topic7\", \"Topic7\", \"Topic7\", \"Topic7\", \"Topic7\", \"Topic7\", \"Topic7\", \"Topic7\", \"Topic7\", \"Topic7\", \"Topic7\", \"Topic7\", \"Topic7\", \"Topic7\", \"Topic8\", \"Topic8\", \"Topic8\", \"Topic8\", \"Topic8\", \"Topic8\", \"Topic8\", \"Topic8\", \"Topic8\", \"Topic8\", \"Topic8\", \"Topic8\", \"Topic8\", \"Topic8\", \"Topic8\", \"Topic8\", \"Topic8\", \"Topic8\", \"Topic8\", \"Topic8\", \"Topic8\", \"Topic8\", \"Topic8\", \"Topic8\", \"Topic8\", \"Topic8\", \"Topic8\", \"Topic8\", \"Topic8\", \"Topic8\", \"Topic8\", \"Topic8\", \"Topic8\", \"Topic8\", \"Topic9\", \"Topic9\", \"Topic9\", \"Topic9\", \"Topic9\", \"Topic9\", \"Topic9\", \"Topic9\", \"Topic9\", \"Topic9\", \"Topic9\", \"Topic9\", \"Topic9\", \"Topic9\", \"Topic9\", \"Topic9\", \"Topic9\", \"Topic9\", \"Topic9\", \"Topic9\", \"Topic9\", \"Topic9\", \"Topic9\", \"Topic9\", \"Topic9\", \"Topic9\", \"Topic9\", \"Topic9\", \"Topic9\", \"Topic9\", \"Topic9\", \"Topic9\", \"Topic9\", \"Topic9\", \"Topic9\", \"Topic10\", \"Topic10\", \"Topic10\", \"Topic10\", \"Topic10\", \"Topic10\", \"Topic10\", \"Topic10\", \"Topic10\", \"Topic10\", \"Topic10\", \"Topic10\", \"Topic10\", \"Topic10\", \"Topic10\", \"Topic10\", \"Topic10\", \"Topic10\", \"Topic10\", \"Topic10\", \"Topic10\", \"Topic10\", \"Topic10\", \"Topic10\", \"Topic10\", \"Topic10\", \"Topic10\", \"Topic10\", \"Topic10\", \"Topic10\", \"Topic10\", \"Topic10\", \"Topic10\", \"Topic10\"], \"logprob\": [30.0, 29.0, 28.0, 27.0, 26.0, 25.0, 24.0, 23.0, 22.0, 21.0, 20.0, 19.0, 18.0, 17.0, 16.0, 15.0, 14.0, 13.0, 12.0, 11.0, 10.0, 9.0, 8.0, 7.0, 6.0, 5.0, 4.0, 3.0, 2.0, 1.0, -4.2351, -4.5146, -4.5146, -3.8377, -4.904, -4.904, -4.9042, -4.9042, -4.9052, -4.9054, -4.0165, -2.5968, -5.5507, -5.5507, -5.5507, -5.5507, -5.5507, -5.5507, -5.5507, -5.5507, -5.5507, -5.5507, -5.5507, -5.5507, -5.5507, -5.5507, -5.5507, -5.5507, -5.5507, -5.5507, -4.904, -4.5147, -2.9631, -2.8668, -4.904, -4.9042, -3.3799, -4.5146, -4.2354, -4.2802, -4.5146, -4.9049, -4.2802, -4.904, -4.904, -4.9035, -4.9051, -4.8998, -4.2312, -4.8983, -4.9007, -4.0099, -4.3965, -4.3965, -4.3971, -4.3983, -4.0071, -3.729, -4.0071, -3.7333, -5.0431, -5.0431, -5.0431, -5.0431, -5.0431, -5.0431, -5.0431, -5.0431, -5.0431, -5.0431, -5.0431, -5.0431, -5.0431, -5.0431, -5.0431, -5.0431, -5.0431, -5.0431, -5.0431, -5.0431, -5.044, -3.728, -2.664, -4.01, -4.3965, -4.3965, -4.3985, -4.0083, -4.0141, -4.397, -4.008, -4.2811, -4.9698, -5.0431, -5.0431, -5.0431, -4.823, -4.823, -4.823, -4.823, -4.823, -4.823, -4.823, -4.823, -4.823, -4.823, -4.823, -4.823, -4.823, -4.823, -4.823, -4.823, -4.823, -4.823, -4.823, -4.823, -4.823, -3.5073, -4.1764, -4.1764, -2.841, -4.215, -4.823, -4.1763, -2.2463, -4.823, -4.1763, -2.6881, -4.1764, -3.2469, -4.1763, -4.202, -4.1763, -4.1991, -4.2232, -4.67, -4.6704, -4.8178, -4.8203, -4.8213, -4.8228, -4.823, -4.823, -4.5738, -4.5738, -4.5738, -4.5738, -4.5738, -4.5738, -4.5738, -4.5738, -4.5738, -4.5738, -4.5738, -4.5738, -4.5738, -4.5738, -4.5738, -4.5738, -3.9271, -3.9271, -4.5738, -4.5738, -4.5738, -4.5738, -4.5738, -4.5738, -4.5738, -4.5738, -4.5738, -4.5738, -3.9271, -4.5738, -3.9271, -2.5772, -3.2581, -3.9272, -3.9271, -3.9271, -3.9272, -4.5738, -4.5738, -4.5738, -4.5738, -4.5738, -4.5738, -4.5738, -4.5738, -4.5738, -4.5738, -4.5738, -4.5738, -3.2854, -3.9489, -3.9589, -4.5955, -4.5955, -4.5955, -4.5955, -4.5955, -4.5955, -4.5955, -4.5955, -4.5955, -4.5955, -4.5955, -4.5955, -4.5955, -4.5955, -4.5955, -4.5955, -4.5955, -4.5955, -4.5955, -4.5955, -4.5955, -4.5955, -2.8959, -3.5623, -3.9488, -4.5955, -3.9489, -3.4157, -3.9489, -3.0674, -3.9487, -4.577, -4.595, -4.5953, -4.5953, -4.5954, -4.5954, -4.5955, -4.5955, -3.9365, -3.9365, -4.5831, -4.5831, -4.5831, -4.5831, -4.5831, -4.5831, -4.5831, -4.5831, -4.5831, -4.5831, -4.5831, -4.5831, -4.5831, -4.5831, -4.5831, -4.5831, -4.5831, -4.5831, -4.5831, -4.5831, -3.9365, -3.9365, -4.5831, -4.5831, -3.9407, -3.0492, -4.5831, -4.5831, -3.0492, -3.2696, -3.9365, -3.547, -3.9365, -3.9365, -3.9365, -4.5751, -4.5831, -4.5831, -4.5831, -3.4906, -3.4906, -3.8801, -3.8801, -4.5267, -4.5267, -4.5267, -4.5267, -4.5267, -4.5267, -4.5267, -4.5267, -4.5267, -4.5267, -4.5267, -4.5267, -4.5267, -4.5267, -4.5267, -4.5267, -4.5267, -4.5267, -4.5267, -4.5267, -4.5267, -4.5267, -4.5267, -4.5267, -4.5267, -4.5267, -2.9927, -3.8801, -3.88, -4.5229, -4.5247, -4.5266, -4.5267, -4.5267, -4.5267, -4.5267, -4.5267, -4.5267, -4.5267, -4.5267, -4.5267, -4.5267, -3.4609, -4.1033, -4.1033, -4.1033, -4.1033, -4.1033, -4.1033, -4.1033, -4.1033, -4.1033, -4.1033, -4.1033, -4.1033, -4.1033, -3.0671, -4.1032, -3.4566, -4.1033, -4.1032, -4.1033, -4.1033, -4.1033, -4.1033, -4.1033, -4.1033, -4.1033, -6.5012, -6.5012, -6.5012, -6.5012, -6.5009, -6.5012, -6.5012, -6.5012, -4.0883, -4.0883, -4.0883, -4.0883, -4.0883, -4.0883, -4.0883, -3.4416, -4.0883, -4.0883, -4.0883, -4.0883, -4.0883, -4.0883, -3.4416, -4.0883, -4.0883, -4.0883, -4.0882, -4.0883, -4.0883, -4.0883, -4.0883, -4.0883, -4.0883, -6.4862, -6.4862, -6.4862, -6.4862, -6.4862, -4.0883, -4.0883, -6.4862, -6.4862, -6.4862, -4.0883, -4.0883, -4.0883, -4.0883, -4.0883, -4.0883, -4.0883, -4.0883, -4.0883, -4.0882, -4.0883, -4.0883, -4.0883, -4.0883, -4.0883, -3.4416, -4.0883, -4.0883, -4.0883, -4.0882, -4.0883, -4.0883, -3.4416, -4.0883, -4.0883, -4.0883, -6.4862, -6.4862, -6.4862, -6.4862, -4.0883, -6.4862, -6.4862, -6.4862], \"loglift\": [30.0, 29.0, 28.0, 27.0, 26.0, 25.0, 24.0, 23.0, 22.0, 21.0, 20.0, 19.0, 18.0, 17.0, 16.0, 15.0, 14.0, 13.0, 12.0, 11.0, 10.0, 9.0, 8.0, 7.0, 6.0, 5.0, 4.0, 3.0, 2.0, 1.0, 1.1116, 1.0677, 1.0677, 1.051, 0.9869, 0.9869, 0.9868, 0.9867, 0.9859, 0.9857, 0.8841, 0.8814, 0.7891, 0.7891, 0.7891, 0.7891, 0.7891, 0.7891, 0.7891, 0.7891, 0.7891, 0.7891, 0.7891, 0.7891, 0.7891, 0.7891, 0.7891, 0.7891, 0.7891, 0.7891, 0.7418, 0.6982, 0.5308, 0.4351, 0.7022, 0.7021, 0.4715, 0.5789, 0.3988, 0.3915, 0.3898, 0.5367, 0.1828, 0.4809, 0.4809, 0.3863, 0.3869, 0.3752, -0.0538, -0.0325, -0.0557, 1.646, 1.5613, 1.5613, 1.5607, 1.5597, 1.4482, 1.4181, 1.3976, 1.3831, 1.3486, 1.3486, 1.3486, 1.3486, 1.3486, 1.3486, 1.3486, 1.3486, 1.3486, 1.3486, 1.3486, 1.3486, 1.3486, 1.3486, 1.3486, 1.3486, 1.3486, 1.3486, 1.3486, 1.3486, 1.3477, 1.129, 0.6379, 0.835, 0.9885, 0.9885, 0.9158, 0.4868, 0.1633, 0.2373, -0.5299, -0.4297, -1.4759, 0.8807, 0.6743, 0.8807, 1.6269, 1.6269, 1.6269, 1.6269, 1.6269, 1.6269, 1.6269, 1.6269, 1.6269, 1.6269, 1.6269, 1.6269, 1.6269, 1.6269, 1.6269, 1.6269, 1.6269, 1.6269, 1.6269, 1.6269, 1.6269, 1.583, 1.5703, 1.5354, 1.522, 1.4677, 1.3098, 1.3049, 1.2476, 1.2186, 1.2102, 1.1633, 1.1908, 0.0551, 0.9824, 0.8946, 0.728, 0.6666, 0.1773, 0.0018, -0.2074, -0.6404, 0.6087, 0.7159, 1.137, 0.452, 1.0541, 1.8879, 1.8879, 1.8879, 1.8879, 1.8879, 1.8879, 1.8879, 1.8879, 1.8879, 1.8879, 1.8879, 1.8879, 1.8879, 1.8879, 1.8879, 1.8879, 1.8253, 1.6193, 1.5676, 1.5676, 1.5676, 1.4838, 1.4678, 1.3933, 1.3933, 1.3933, 1.3933, 1.3933, 1.2513, 1.2148, 1.1664, 0.9009, 0.9193, 0.9178, 0.7071, 0.5679, -0.4333, 0.8679, 0.7405, 0.9112, 0.9207, 0.6751, 0.3306, 1.186, 0.9212, 1.2011, 1.1729, 0.9406, 1.1437, 2.1258, 2.1168, 2.1048, 1.8784, 1.8784, 1.8784, 1.8784, 1.8784, 1.8784, 1.8784, 1.8784, 1.8784, 1.8784, 1.8784, 1.8784, 1.8784, 1.8784, 1.8784, 1.8784, 1.8784, 1.8784, 1.8784, 1.8784, 1.8784, 1.8784, 1.8508, 1.6866, 1.5656, 1.5547, 1.5164, 0.9848, 1.2098, 0.2345, 0.9083, -1.0831, 0.5521, 0.6946, -0.1003, 1.1856, 0.2496, 1.1008, 0.8995, 2.138, 2.138, 1.8974, 1.8974, 1.8974, 1.8974, 1.8974, 1.8974, 1.8974, 1.8974, 1.8974, 1.8974, 1.8974, 1.8974, 1.8974, 1.8974, 1.8974, 1.8974, 1.8974, 1.8974, 1.8974, 1.8974, 1.7772, 1.7772, 1.4315, 1.3954, 1.3343, 1.3138, 1.3112, 1.1869, 1.1282, 1.1309, 1.1601, 0.9481, 0.9293, 0.6977, 0.5266, 0.6737, 0.9541, 0.7089, 0.0886, 2.2927, 2.2927, 2.1916, 2.1916, 1.9517, 1.9517, 1.9517, 1.9517, 1.9517, 1.9517, 1.9517, 1.9517, 1.9517, 1.9517, 1.9517, 1.9517, 1.9517, 1.9517, 1.9517, 1.9517, 1.9517, 1.9517, 1.9517, 1.9517, 1.9517, 1.9517, 1.9517, 1.9517, 1.9517, 1.9517, 1.4703, 1.6663, 0.7917, 0.7913, 1.4885, 0.915, 1.4505, 1.4505, 0.8599, 1.542, 1.4505, 0.9583, 1.4863, 0.8405, 1.4505, 1.2433, 2.7374, 2.4699, 2.4699, 2.4699, 2.4699, 2.4699, 2.4699, 2.4699, 2.4699, 2.4699, 2.4699, 2.4699, 2.4699, 2.4699, 2.3619, 1.9303, 1.8999, 1.7911, 1.7739, 1.6777, 1.6716, 1.2833, 1.0438, 0.8011, 0.7537, 0.3918, 0.1029, 0.1029, 0.1029, 0.1029, -0.8449, -2.1382, -3.1992, -2.6498, 2.5157, 2.5157, 2.5157, 2.5157, 2.5157, 2.062, 2.0531, 2.0528, 2.0445, 2.0018, 1.8061, 1.7888, 1.7004, 1.6716, 1.655, 1.2016, 1.0902, 1.002, 0.7775, 0.7687, 0.6583, 0.5835, 0.4068, 0.3122, 0.2746, 0.1179, 0.1179, 0.1179, 0.1179, 0.1179, -0.2369, -0.7863, -2.9922, -2.3087, -3.008, 2.5158, 2.5158, 2.5158, 2.5158, 2.5158, 2.5158, 2.5158, 2.5158, 2.5158, 2.0532, 2.0532, 2.0019, 2.0017, 1.9634, 1.4489, 1.4241, 1.4062, 1.3229, 1.2789, 1.2037, 1.1606, 1.0282, 0.9589, 0.816, 0.7687, 0.3748, 0.1178, 0.1178, 0.1178, 0.1178, -0.7863, -2.1232, -2.6348, -2.3088]}, \"token.table\": {\"Topic\": [6, 9, 5, 1, 2, 4, 3, 1, 3, 4, 7, 4, 7, 2, 2, 1, 8, 3, 4, 1, 9, 5, 4, 1, 2, 3, 5, 9, 10, 1, 2, 4, 5, 4, 8, 8, 2, 6, 8, 7, 2, 1, 4, 5, 10, 9, 5, 1, 8, 3, 6, 1, 4, 2, 2, 3, 7, 10, 2, 6, 10, 7, 10, 5, 4, 2, 5, 2, 6, 1, 5, 5, 7, 2, 7, 7, 4, 3, 1, 4, 9, 2, 10, 3, 1, 1, 4, 5, 6, 1, 3, 6, 9, 6, 7, 1, 1, 5, 10, 5, 6, 6, 2, 1, 4, 6, 2, 1, 2, 1, 7, 2, 7, 1, 10, 2, 1, 1, 3, 9, 1, 2, 1, 2, 5, 6, 9, 6, 6, 3, 7, 2, 5, 8, 9, 10, 1, 1, 2, 3, 6, 7, 9, 7, 1, 4, 3, 7, 1, 6, 6, 7, 1, 1, 6, 1, 4, 5, 5, 1, 7, 7, 3, 1, 3, 6, 10, 1, 1, 2, 4, 5, 9, 4, 10, 10, 1, 6, 8, 2, 4, 8, 3, 4, 4, 10, 8, 5, 1, 2, 7, 1, 2, 7, 8, 2, 1, 10, 7, 1, 2, 3, 4, 5, 1, 2, 6, 10, 3, 7, 2, 4, 5, 1, 4, 1, 2, 5, 9, 4, 4, 1, 6, 1, 2, 5, 8, 4, 7, 4, 2, 3, 4, 1, 10, 3, 5, 7, 8, 7, 1, 4, 7, 3, 6, 7, 9, 1, 1, 2, 6, 7, 7, 4, 7, 1, 1, 7, 1, 2, 3, 4, 6, 2, 3, 4, 2, 3, 1, 6, 8, 1, 1, 3, 6, 1, 2, 10, 3, 1, 2, 1, 3, 9, 1, 6, 1, 3, 4, 5, 4, 5, 2, 6, 1, 2, 6, 7, 7, 2, 3, 10, 1, 3, 6, 1, 6, 1, 3, 4, 8, 10, 1, 3, 6, 9, 1, 6, 5, 3, 4, 1, 3, 3, 8, 1, 3, 5, 7, 2, 1, 2, 3, 4, 9, 2, 7, 7, 3, 3, 5, 2, 2, 5, 8, 8, 2, 5, 2, 5, 8, 2, 5, 7, 2, 6, 3, 5, 6, 1, 7, 4, 5, 6, 10, 7, 7, 1, 3, 6, 9, 10, 1, 2, 5, 1, 2, 2, 4, 6, 7, 5, 9, 10, 2, 4, 5, 9, 10, 3, 8, 2, 8, 2, 5, 8, 2, 6, 4, 10, 3, 6, 7, 3, 6, 8, 9, 6, 5, 1, 3, 5, 5, 4, 7, 8, 7, 5, 2, 10, 1, 2, 5, 1, 2, 4, 5, 6, 7, 8, 9, 7, 4, 1, 7, 2, 4, 2, 3, 2, 4, 9, 1, 2, 4, 6, 5, 3, 4, 1, 1, 1, 2, 6, 1, 9, 5, 6, 3, 8, 9, 1, 4, 1, 3, 4, 5, 6, 9, 10, 1, 3, 6, 7, 10, 1, 5, 2, 9, 4, 9, 7, 5, 3, 2, 3, 8], \"Freq\": [0.7701720188531287, 0.8713340599457501, 0.507635436074313, 0.6885289214927317, 0.07650321349919241, 0.19125803374798103, 0.7468681609381976, 0.2845867529079532, 0.2845867529079532, 0.2845867529079532, 0.2845867529079532, 0.3026188982583785, 0.3026188982583785, 0.7047100768959019, 0.7047101110261107, 0.9409521998483048, 0.8448999550759421, 0.3718684017864252, 0.3718684017864252, 0.6689877964472948, 0.87133402951857, 0.7650976189172901, 0.7557648664391134, 0.4490347735593977, 0.2886652115738985, 0.12829564958839934, 0.0962217371912995, 0.032073912397099835, 0.032073912397099835, 0.30012287765298273, 0.30012287765298273, 0.15006143882649137, 0.15006143882649137, 0.7557648164186443, 0.8448999407059878, 0.8449000158775506, 0.7047101151791597, 0.7701719910904175, 0.8448999918134849, 0.7670477799246027, 0.7047101066949419, 0.6689878305107925, 0.5045097494721992, 0.5045097494721992, 0.871448117438717, 0.8713340886258103, 0.7650976005975124, 0.4925406033839562, 0.4925406033839562, 0.7468681437916396, 0.7701720198746191, 0.46085200208102045, 0.46085200208102045, 0.9132491073241481, 0.252952743886947, 0.252952743886947, 0.252952743886947, 0.252952743886947, 0.704710113265729, 0.7701720089948715, 0.8714480871641572, 0.767047771881368, 0.8714481152954388, 0.7650975968673073, 0.7557648534314452, 0.7047100789187366, 0.5086516295197618, 0.7047100969791021, 0.7701720209340275, 0.7435063814237636, 0.7650976210556548, 0.5101690011092508, 0.5101690011092508, 0.4826538054704, 0.4826538054704, 0.7685358493431588, 0.7557648547566247, 0.7468681288265686, 0.37460286083968775, 0.37460286083968775, 0.37460286083968775, 0.5212477844147236, 0.5212477844147236, 0.7468681086293826, 0.8541670255530264, 0.28744457662485456, 0.28744457662485456, 0.28744457662485456, 0.28744457662485456, 0.19299318483561792, 0.19299318483561792, 0.19299318483561792, 0.19299318483561792, 0.5131471205984505, 0.7685358194249359, 0.6689877983642133, 0.6689878038380661, 0.792975136780449, 0.26432504559348297, 0.7650975897296449, 0.7701719921863203, 0.7701720260311542, 0.7047101023086098, 0.4608581250595919, 0.4608581250595919, 0.7701719867106223, 0.7047101214604984, 0.515006468871375, 0.515006468871375, 0.46556977065506094, 0.46556977065506094, 0.9132491214716116, 0.768535854647385, 0.5015431172429441, 0.5015431172429441, 0.7047101180779455, 0.6689878435370569, 0.6689878240069814, 0.5439142012569741, 0.5439142012569741, 0.44135946838995777, 0.44135946838995777, 0.1360038475698747, 0.1360038475698747, 0.5440153902794987, 0.1360038475698747, 0.1360038475698747, 0.7701720124740303, 0.7701719927795486, 0.7468681551987278, 0.7685358399795492, 0.45561725105805523, 0.15187241701935175, 0.15187241701935175, 0.15187241701935175, 0.15187241701935175, 0.6689878472824251, 0.37856599549156716, 0.1261886651638557, 0.1261886651638557, 0.1261886651638557, 0.1261886651638557, 0.1261886651638557, 0.7685358359275719, 0.4608519425876433, 0.4608519425876433, 0.7468681609375679, 0.7685358334755585, 0.668987803821257, 0.7701719970213189, 0.7701720040328597, 0.7685358254014711, 0.6689878240069814, 0.6684767464449048, 0.3342383732224524, 0.5772118721664483, 0.1924039573888161, 0.1924039573888161, 0.7650976051654501, 0.4655697493991589, 0.4655697493991589, 0.7685358282185647, 0.746868147291341, 0.29983760057179576, 0.29983760057179576, 0.29983760057179576, 0.29983760057179576, 0.6689878288037459, 0.20944670013974323, 0.20944670013974323, 0.20944670013974323, 0.20944670013974323, 0.20944670013974323, 0.5486635725132447, 0.5486635725132447, 0.8714481620378928, 0.4661697270526196, 0.4661697270526196, 0.8449000012564172, 0.3802815409431263, 0.3802815409431263, 0.3802815409431263, 0.7468681677653625, 0.7557648659876721, 0.7557648512528209, 0.8714481221050181, 0.8448999604181139, 0.7650975968369923, 0.4413540500207427, 0.4413540500207427, 0.7685358540763412, 0.6504427298500041, 0.2168142432833347, 0.2168142432833347, 0.8449000062374559, 0.9134320242623591, 0.6689878455748732, 0.8714480944623997, 0.7685358080955589, 0.4663171900155008, 0.03885976583462507, 0.38859765834625065, 0.03885976583462507, 0.03885976583462507, 0.4692709160424664, 0.2346354580212332, 0.2346354580212332, 0.2346354580212332, 0.7468681578523595, 0.7685358310074712, 0.2930753367789604, 0.2930753367789604, 0.2930753367789604, 0.46085201191226105, 0.46085201191226105, 0.4682626728293609, 0.23413133641468045, 0.23413133641468045, 0.23413133641468045, 0.7557648111983696, 0.7557648563227718, 0.35771961647931233, 0.35771961647931233, 0.25026749310198143, 0.25026749310198143, 0.25026749310198143, 0.25026749310198143, 0.7557648557209499, 0.7685358690810804, 0.755764815693603, 0.9132290614136872, 0.7468681667364286, 0.7557648421363412, 0.6689878437001269, 0.8714481639492011, 0.2579069929807661, 0.2579069929807661, 0.2579069929807661, 0.2579069929807661, 0.7685358391760854, 0.5450414528560853, 0.27252072642804265, 0.27252072642804265, 0.5753111122615441, 0.19177037075384804, 0.19177037075384804, 0.19177037075384804, 0.6689878240069814, 0.6689878288037459, 0.7046908618507185, 0.7701720109474645, 0.7685358252033034, 0.5116954228123484, 0.7557648554137674, 0.7685358245410597, 0.6689878240069814, 0.46556946737884686, 0.46556946737884686, 0.23091988679842618, 0.1539465911989508, 0.0769732955994754, 0.23091988679842618, 0.23091988679842618, 0.3590685218213653, 0.3590685218213653, 0.3590685218213653, 0.7047101200670095, 0.7468681698762628, 0.3577191956080514, 0.3577191956080514, 0.8449000062374559, 0.9409521895533899, 0.4613807189659505, 0.23069035948297525, 0.23069035948297525, 0.19686943528371895, 0.5906083058511569, 0.19686943528371895, 0.7468681391177072, 0.6425728734947356, 0.3212864367473678, 0.4575341017558457, 0.4575341017558457, 0.8713340567635313, 0.783845866186303, 0.1567691732372606, 0.20535858145278832, 0.20535858145278832, 0.20535858145278832, 0.20535858145278832, 0.7557648132325505, 0.7650975961812224, 0.7047101043229501, 0.7701720095024278, 0.6346098858591956, 0.1586524714647989, 0.1586524714647989, 0.5116954238939683, 0.768535873260676, 0.7047101316198704, 0.7468681278995277, 0.8714481080407576, 0.28353798955473836, 0.28353798955473836, 0.28353798955473836, 0.6689878339346498, 0.7701720124280907, 0.4777038740965349, 0.15923462469884497, 0.15923462469884497, 0.15923462469884497, 0.15923462469884497, 0.09266747433930593, 0.5560048460358356, 0.2780024230179178, 0.09266747433930593, 0.8541581685309796, 0.7701720365254795, 0.765097597057459, 0.3697015054178551, 0.3697015054178551, 0.854278841740138, 0.7468681468565124, 0.7468681152901256, 0.8449000089610859, 0.3467921590867406, 0.3467921590867406, 0.7650976025065973, 0.7685358438520248, 0.6753092723751541, 0.4444713625120668, 0.1111178406280167, 0.3333535218840501, 0.05555892031400835, 0.05555892031400835, 0.4825085163699353, 0.4825085163699353, 0.7685358495583707, 0.7468681370757573, 0.7468681834162781, 0.7650975945568663, 0.7047100853614671, 0.5525009611583012, 0.2762504805791506, 0.8448999905152728, 0.5807752063166585, 0.7047100874239399, 0.7650976184297938, 0.6089741385113446, 0.20299137950378154, 0.20299137950378154, 0.7047101027959807, 0.7650976167574375, 0.7685358277910506, 0.704710122671954, 0.7701719978456041, 0.7468681616914974, 0.7650975892559799, 0.7701720071153375, 0.8541432667976098, 0.7685358518119131, 0.22473088856018678, 0.44946177712037355, 0.22473088856018678, 0.22473088856018678, 0.7685358640079036, 0.7685358551956147, 0.3064142601184094, 0.1532071300592047, 0.1532071300592047, 0.1532071300592047, 0.1532071300592047, 0.2790434138047701, 0.2790434138047701, 0.2790434138047701, 0.5150064607920136, 0.5150064607920136, 0.4798401074051009, 0.23992005370255046, 0.23992005370255046, 0.23992005370255046, 0.5535186085782268, 0.5535186085782268, 0.8714481382513609, 0.7047100826301169, 0.28729212324692105, 0.28729212324692105, 0.28729212324692105, 0.28729212324692105, 0.7468681472929195, 0.8448999957895498, 0.7047101016762165, 0.8449000089610859, 0.3826243306801745, 0.3826243306801745, 0.3826243306801745, 0.48329336435008263, 0.48329336435008263, 0.5486625602692609, 0.5486625602692609, 0.3784461124635937, 0.3784461124635937, 0.3784461124635937, 0.7468681455978312, 0.4285369609552051, 0.4285369609552051, 0.4285369609552051, 0.7701720091703013, 0.7650975888268318, 0.35154164618365297, 0.35154164618365297, 0.35154164618365297, 0.7650976245164988, 0.7557648612223095, 0.7685358380488511, 0.8449000062374559, 0.7685358421862564, 0.7650975908047626, 0.5211647541253379, 0.5211647541253379, 0.6425829910249397, 0.3212914955124698, 0.7650976136153036, 0.10575398208587519, 0.21150796417175038, 0.10575398208587519, 0.10575398208587519, 0.21150796417175038, 0.10575398208587519, 0.10575398208587519, 0.10575398208587519, 0.7685358395652228, 0.755764820727518, 0.4655697123968092, 0.4655697123968092, 0.7047101007914942, 0.7557648485262204, 0.35704319465171197, 0.35704319465171197, 0.38554636897287775, 0.38554636897287775, 0.38554636897287775, 0.3646331339729657, 0.24308875598197713, 0.12154437799098856, 0.12154437799098856, 0.765097582899718, 0.4965184208817696, 0.4965184208817696, 0.6689878435492363, 0.6689878346885584, 0.2626274796049887, 0.5252549592099774, 0.7701720214675598, 0.8541432658218617, 0.8713340258128535, 0.7650976198190461, 0.5131470796863317, 0.42122358887057454, 0.42122358887057454, 0.42122358887057454, 0.4608520830359058, 0.4608520830359058, 0.09621069792387843, 0.09621069792387843, 0.09621069792387843, 0.19242139584775686, 0.2886320937716353, 0.09621069792387843, 0.09621069792387843, 0.3072740089166625, 0.10242466963888751, 0.10242466963888751, 0.3072740089166625, 0.10242466963888751, 0.8543050101989418, 0.7650975904481726, 0.5212066138719584, 0.5212066138719584, 0.548617042922317, 0.548617042922317, 0.7685358246943716, 0.7650976129167414, 0.7468681404178401, 0.2690961886222825, 0.2690961886222825, 0.538192377244565], \"Term\": [\"abrupt\", \"accept\", \"access\", \"account\", \"account\", \"account\", \"advertising\", \"advice\", \"advice\", \"advice\", \"advice\", \"amount\", \"amount\", \"anyone\", \"anytime\", \"application\", \"approval\", \"apps\", \"apps\", \"asap\", \"attempt\", \"baffling\", \"bait\", \"bank\", \"bank\", \"bank\", \"bank\", \"bank\", \"bank\", \"banking\", \"banking\", \"banking\", \"banking\", \"banner\", \"benefit\", \"beta\", \"bill\", \"board\", \"bode\", \"borrow\", \"borrowing\", \"branch\", \"breeze\", \"breeze\", \"brighter\", \"brilliant\", \"bug\", \"build\", \"build\", \"buzz\", \"cant\", \"card\", \"card\", \"cash\", \"change\", \"change\", \"change\", \"change\", \"choice\", \"clarity\", \"clean\", \"code\", \"color\", \"communication\", \"company\", \"compare\", \"competitor\", \"comprehensive\", \"consistent\", \"consumer\", \"continue\", \"convenient\", \"convenient\", \"correct\", \"correct\", \"create\", \"credit\", \"cripple\", \"customer\", \"customer\", \"customer\", \"dark\", \"dark\", \"debtor\", \"decrease\", \"deposit\", \"deposit\", \"deposit\", \"deposit\", \"design\", \"design\", \"design\", \"design\", \"device\", \"devs\", \"differ\", \"digibank\", \"digital\", \"digital\", \"disbursement\", \"disruption\", \"doesnt\", \"draw\", \"drop\", \"drop\", \"dumb\", \"earn\", \"ease\", \"ease\", \"email\", \"email\", \"emergency\", \"end\", \"everyday\", \"everyday\", \"everything\", \"everytime\", \"exaggerate\", \"excellent\", \"excellent\", \"excuse\", \"excuse\", \"experience\", \"experience\", \"experience\", \"experience\", \"experience\", \"explanation\", \"explore\", \"fair\", \"family\", \"fast\", \"fast\", \"fast\", \"fast\", \"fast\", \"faster\", \"feature\", \"feature\", \"feature\", \"feature\", \"feature\", \"feature\", \"feedback\", \"feel\", \"feel\", \"fill\", \"flexi\", \"focus\", \"forget\", \"form\", \"friend\", \"frustration\", \"function\", \"function\", \"fund\", \"fund\", \"fund\", \"future\", \"generate\", \"generate\", \"generator\", \"giant\", \"goal\", \"goal\", \"goal\", \"goal\", \"god\", \"grab\", \"grab\", \"grab\", \"grab\", \"grab\", \"grow\", \"grow\", \"growth\", \"hassle\", \"hassle\", \"heard\", \"help\", \"help\", \"help\", \"helpful\", \"home\", \"honest\", \"hope\", \"hurray\", \"immediate\", \"improvement\", \"improvement\", \"inconvenience\", \"increase\", \"increase\", \"increase\", \"info\", \"information\", \"input\", \"instruction\", \"integration\", \"interest\", \"interest\", \"interest\", \"interest\", \"interest\", \"interface\", \"interface\", \"interface\", \"interface\", \"intern\", \"ipad\", \"issue\", \"issue\", \"issue\", \"join\", \"join\", \"joke\", \"joke\", \"joke\", \"joke\", \"june\", \"kenna\", \"lack\", \"lack\", \"launch\", \"launch\", \"launch\", \"launch\", \"le\", \"lead\", \"lengthy\", \"life\", \"limit\", \"link\", \"list\", \"load\", \"loan\", \"loan\", \"loan\", \"loan\", \"login\", \"look\", \"look\", \"look\", \"love\", \"love\", \"love\", \"love\", \"management\", \"maribank\", \"medium\", \"meet\", \"member\", \"merchant\", \"method\", \"millionaire\", \"min\", \"mistake\", \"mistake\", \"money\", \"money\", \"money\", \"money\", \"money\", \"month\", \"month\", \"month\", \"moolah\", \"morning\", \"move\", \"move\", \"mundane\", \"name\", \"navigate\", \"navigate\", \"navigate\", \"need\", \"need\", \"need\", \"news\", \"nothing\", \"nothing\", \"notice\", \"notice\", \"notification\", \"number\", \"number\", \"offer\", \"offer\", \"offer\", \"offer\", \"officer\", \"opinion\", \"option\", \"password\", \"payee\", \"payee\", \"payee\", \"payment\", \"paynow\", \"perfect\", \"period\", \"person\", \"phone\", \"phone\", \"phone\", \"piece\", \"plat\", \"please\", \"please\", \"please\", \"please\", \"please\", \"pocket\", \"pocket\", \"pocket\", \"pocket\", \"point\", \"portion\", \"prefer\", \"problem\", \"problem\", \"product\", \"profit\", \"promise\", \"proper\", \"provide\", \"provide\", \"pure\", \"purpose\", \"quick\", \"rate\", \"rate\", \"rate\", \"rate\", \"rate\", \"rating\", \"rating\", \"read\", \"receive\", \"recommendation\", \"recovery\", \"register\", \"repayment\", \"repayment\", \"respond\", \"response\", \"responsive\", \"return\", \"review\", \"review\", \"review\", \"risk\", \"roll\", \"safety\", \"saver\", \"screen\", \"script\", \"seamless\", \"seem\", \"select\", \"sent\", \"service\", \"service\", \"service\", \"service\", \"show\", \"sick\", \"sign\", \"sign\", \"sign\", \"sign\", \"sign\", \"simple\", \"simple\", \"simple\", \"singapore\", \"singapore\", \"singpass\", \"singpass\", \"singpass\", \"singpass\", \"singtel\", \"singtel\", \"sleek\", \"slot\", \"something\", \"something\", \"something\", \"something\", \"someway\", \"soooo\", \"speed\", \"spend\", \"staff\", \"staff\", \"staff\", \"star\", \"star\", \"start\", \"start\", \"stay\", \"stay\", \"stay\", \"stop\", \"store\", \"store\", \"store\", \"straight\", \"straightforward\", \"super\", \"super\", \"super\", \"swift\", \"switch\", \"tell\", \"testflight\", \"text\", \"thank\", \"theme\", \"theme\", \"thing\", \"thing\", \"think\", \"time\", \"time\", \"time\", \"time\", \"time\", \"time\", \"time\", \"time\", \"timer\", \"today\", \"told\", \"told\", \"tool\", \"topup\", \"touch\", \"touch\", \"transaction\", \"transaction\", \"transaction\", \"transfer\", \"transfer\", \"transfer\", \"transfer\", \"transparency\", \"transparent\", \"transparent\", \"travel\", \"troublesome\", \"trust\", \"trust\", \"tune\", \"type\", \"uiux\", \"understand\", \"unique\", \"update\", \"update\", \"update\", \"useless\", \"useless\", \"user\", \"user\", \"user\", \"user\", \"user\", \"user\", \"user\", \"wait\", \"wait\", \"wait\", \"wait\", \"wait\", \"want\", \"week\", \"whenever\", \"whenever\", \"work\", \"work\", \"workaround\", \"worry\", \"worth\", \"write\", \"write\", \"write\"]}, \"R\": 30, \"lambda.step\": 0.01, \"plot.opts\": {\"xlab\": \"PC1\", \"ylab\": \"PC2\"}, \"topic.order\": [8, 3, 5, 6, 1, 4, 7, 2, 10, 9]};\n",
       "\n",
       "function LDAvis_load_lib(url, callback){\n",
       "  var s = document.createElement('script');\n",
       "  s.src = url;\n",
       "  s.async = true;\n",
       "  s.onreadystatechange = s.onload = callback;\n",
       "  s.onerror = function(){console.warn(\"failed to load library \" + url);};\n",
       "  document.getElementsByTagName(\"head\")[0].appendChild(s);\n",
       "}\n",
       "\n",
       "if(typeof(LDAvis) !== \"undefined\"){\n",
       "   // already loaded: just create the visualization\n",
       "   !function(LDAvis){\n",
       "       new LDAvis(\"#\" + \"ldavis_el7905163077844002241766975\", ldavis_el7905163077844002241766975_data);\n",
       "   }(LDAvis);\n",
       "}else if(typeof define === \"function\" && define.amd){\n",
       "   // require.js is available: use it to load d3/LDAvis\n",
       "   require.config({paths: {d3: \"https://d3js.org/d3.v5\"}});\n",
       "   require([\"d3\"], function(d3){\n",
       "      window.d3 = d3;\n",
       "      LDAvis_load_lib(\"https://cdn.jsdelivr.net/gh/bmabey/pyLDAvis@3.4.0/pyLDAvis/js/ldavis.v3.0.0.js\", function(){\n",
       "        new LDAvis(\"#\" + \"ldavis_el7905163077844002241766975\", ldavis_el7905163077844002241766975_data);\n",
       "      });\n",
       "    });\n",
       "}else{\n",
       "    // require.js not available: dynamically load d3 & LDAvis\n",
       "    LDAvis_load_lib(\"https://d3js.org/d3.v5.js\", function(){\n",
       "         LDAvis_load_lib(\"https://cdn.jsdelivr.net/gh/bmabey/pyLDAvis@3.4.0/pyLDAvis/js/ldavis.v3.0.0.js\", function(){\n",
       "                 new LDAvis(\"#\" + \"ldavis_el7905163077844002241766975\", ldavis_el7905163077844002241766975_data);\n",
       "            })\n",
       "         });\n",
       "}\n",
       "</script>"
      ],
      "text/plain": [
       "PreparedData(topic_coordinates=              x         y  topics  cluster       Freq\n",
       "topic                                                \n",
       "7     -0.168374 -0.017833       1        1  28.305820\n",
       "2     -0.039408  0.150092       2        1  15.514992\n",
       "4     -0.090983 -0.114316       3        1  11.155598\n",
       "5     -0.052229  0.023604       4        1   8.496547\n",
       "0      0.035718  0.108912       5        1   8.475566\n",
       "3      0.007878 -0.103495       6        1   8.261822\n",
       "6      0.150936 -0.086831       7        1   7.841811\n",
       "1      0.090160  0.040348       8        1   4.210184\n",
       "9      0.021652 -0.006913       9        1   3.869403\n",
       "8      0.044649  0.006431      10        1   3.868258, topic_info=          Term       Freq      Total Category  logprob  loglift\n",
       "0      account  26.000000  26.000000  Default  30.0000  30.0000\n",
       "5     interest  25.000000  25.000000  Default  29.0000  29.0000\n",
       "25      pocket  10.000000  10.000000  Default  28.0000  28.0000\n",
       "10        bank  31.000000  31.000000  Default  27.0000  27.0000\n",
       "9         rate  17.000000  17.000000  Default  26.0000  26.0000\n",
       "..         ...        ...        ...      ...      ...      ...\n",
       "245  brilliant   0.049945   1.147665  Topic10  -6.4862   0.1178\n",
       "10        bank   0.549377  31.177986  Topic10  -4.0883  -0.7863\n",
       "25      pocket   0.049946  10.791273  Topic10  -6.4862  -2.1232\n",
       "9         rate   0.049946  17.998910  Topic10  -6.4862  -2.6348\n",
       "23       money   0.049946  12.991519  Topic10  -6.4862  -2.3088\n",
       "\n",
       "[454 rows x 6 columns], token_table=      Topic      Freq     Term\n",
       "term                          \n",
       "168       6  0.770172   abrupt\n",
       "284       9  0.871334   accept\n",
       "344       5  0.507635   access\n",
       "0         1  0.688529  account\n",
       "0         2  0.076503  account\n",
       "...     ...       ...      ...\n",
       "136       5  0.765098    worry\n",
       "195       3  0.746868    worth\n",
       "312       2  0.269096    write\n",
       "312       3  0.269096    write\n",
       "312       8  0.538192    write\n",
       "\n",
       "[487 rows x 3 columns], R=30, lambda_step=0.01, plot_opts={'xlab': 'PC1', 'ylab': 'PC2'}, topic_order=[8, 3, 5, 6, 1, 4, 7, 2, 10, 9])"
      ]
     },
     "execution_count": 161,
     "metadata": {},
     "output_type": "execute_result"
    }
   ],
   "source": [
    "pyLDAvis.gensim.prepare(ldamodel,doc_term_matrix,dictionary)"
   ]
  },
  {
   "cell_type": "code",
   "execution_count": 162,
   "metadata": {},
   "outputs": [
    {
     "data": {
      "text/html": [
       "<div>\n",
       "<style scoped>\n",
       "    .dataframe tbody tr th:only-of-type {\n",
       "        vertical-align: middle;\n",
       "    }\n",
       "\n",
       "    .dataframe tbody tr th {\n",
       "        vertical-align: top;\n",
       "    }\n",
       "\n",
       "    .dataframe thead th {\n",
       "        text-align: right;\n",
       "    }\n",
       "</style>\n",
       "<table border=\"1\" class=\"dataframe\">\n",
       "  <thead>\n",
       "    <tr style=\"text-align: right;\">\n",
       "      <th></th>\n",
       "      <th>review</th>\n",
       "      <th>clean_review</th>\n",
       "      <th>Topic_Number</th>\n",
       "      <th>Topic_Name</th>\n",
       "    </tr>\n",
       "  </thead>\n",
       "  <tbody>\n",
       "    <tr>\n",
       "      <th>0</th>\n",
       "      <td>Great banking app with attractive interest rat...</td>\n",
       "      <td>[banking, interest, rate, please, payee, numbe...</td>\n",
       "      <td>5</td>\n",
       "      <td>Pocket</td>\n",
       "    </tr>\n",
       "    <tr>\n",
       "      <th>1</th>\n",
       "      <td>A bank like no other, no bank have such amazin...</td>\n",
       "      <td>[bank, bank, feature, money, pocket, track, go...</td>\n",
       "      <td>4</td>\n",
       "      <td>Interest rate &amp; Loans</td>\n",
       "    </tr>\n",
       "    <tr>\n",
       "      <th>2</th>\n",
       "      <td>Notice that the drop in interest rate of 0.8% ...</td>\n",
       "      <td>[notice, drop, interest, rate, account, reason...</td>\n",
       "      <td>5</td>\n",
       "      <td>Pocket</td>\n",
       "    </tr>\n",
       "    <tr>\n",
       "      <th>3</th>\n",
       "      <td>Sending money into my GXS account is a breeze ...</td>\n",
       "      <td>[money, account, breeze, amount, fund, money, ...</td>\n",
       "      <td>5</td>\n",
       "      <td>Pocket</td>\n",
       "    </tr>\n",
       "    <tr>\n",
       "      <th>4</th>\n",
       "      <td>I have to say that the UI/UX is one of the bes...</td>\n",
       "      <td>[digibank, mobile, market, player, focus, cust...</td>\n",
       "      <td>6</td>\n",
       "      <td>Money Growth</td>\n",
       "    </tr>\n",
       "  </tbody>\n",
       "</table>\n",
       "</div>"
      ],
      "text/plain": [
       "                                              review  \\\n",
       "0  Great banking app with attractive interest rat...   \n",
       "1  A bank like no other, no bank have such amazin...   \n",
       "2  Notice that the drop in interest rate of 0.8% ...   \n",
       "3  Sending money into my GXS account is a breeze ...   \n",
       "4  I have to say that the UI/UX is one of the bes...   \n",
       "\n",
       "                                        clean_review Topic_Number  \\\n",
       "0  [banking, interest, rate, please, payee, numbe...            5   \n",
       "1  [bank, bank, feature, money, pocket, track, go...            4   \n",
       "2  [notice, drop, interest, rate, account, reason...            5   \n",
       "3  [money, account, breeze, amount, fund, money, ...            5   \n",
       "4  [digibank, mobile, market, player, focus, cust...            6   \n",
       "\n",
       "              Topic_Name  \n",
       "0                 Pocket  \n",
       "1  Interest rate & Loans  \n",
       "2                 Pocket  \n",
       "3                 Pocket  \n",
       "4           Money Growth  "
      ]
     },
     "execution_count": 162,
     "metadata": {},
     "output_type": "execute_result"
    }
   ],
   "source": [
    "review_data.head()"
   ]
  },
  {
   "attachments": {},
   "cell_type": "markdown",
   "metadata": {},
   "source": [
    "### Creating a lookup table for topics"
   ]
  },
  {
   "cell_type": "code",
   "execution_count": 181,
   "metadata": {},
   "outputs": [
    {
     "data": {
      "text/html": [
       "<style type=\"text/css\">\n",
       "#T_9b888_row0_col2, #T_9b888_row1_col2, #T_9b888_row2_col2, #T_9b888_row3_col2, #T_9b888_row4_col2, #T_9b888_row5_col2, #T_9b888_row6_col2, #T_9b888_row7_col2, #T_9b888_row8_col2, #T_9b888_row9_col2 {\n",
       "  width: 300px;\n",
       "}\n",
       "</style>\n",
       "<table id=\"T_9b888\">\n",
       "  <thead>\n",
       "    <tr>\n",
       "      <th class=\"blank level0\" >&nbsp;</th>\n",
       "      <th id=\"T_9b888_level0_col0\" class=\"col_heading level0 col0\" >Topic_Number</th>\n",
       "      <th id=\"T_9b888_level0_col1\" class=\"col_heading level0 col1\" >Topic_Name</th>\n",
       "      <th id=\"T_9b888_level0_col2\" class=\"col_heading level0 col2\" >Top_Keywords</th>\n",
       "    </tr>\n",
       "  </thead>\n",
       "  <tbody>\n",
       "    <tr>\n",
       "      <th id=\"T_9b888_level0_row0\" class=\"row_heading level0 row0\" >0</th>\n",
       "      <td id=\"T_9b888_row0_col0\" class=\"data row0 col0\" >0</td>\n",
       "      <td id=\"T_9b888_row0_col1\" class=\"data row0 col1\" >App Responsiveness</td>\n",
       "      <td id=\"T_9b888_row0_col2\" class=\"data row0 col2\" >['freeze', 'crash', 'buggy', 'open', 'Transaction', 'speed', 'fast', 'loading', 'crash', 'breeze', 'swift', 'rapid', 'seamless', 'smooth', 'wait', 'hassle', 'snappy', 'load', 'fingertips', 'efficient']</td>\n",
       "    </tr>\n",
       "    <tr>\n",
       "      <th id=\"T_9b888_level0_row1\" class=\"row_heading level0 row1\" >1</th>\n",
       "      <td id=\"T_9b888_row1_col0\" class=\"data row1 col0\" >1</td>\n",
       "      <td id=\"T_9b888_row1_col1\" class=\"data row1 col1\" >Money Growth (Interest Rates)</td>\n",
       "      <td id=\"T_9b888_row1_col2\" class=\"data row1 col2\" >['advertising', 'drop', 'daily', 'min', 'disbursement', 'ROI', 'interest', 'rates', 'savings', 'p.a.']</td>\n",
       "    </tr>\n",
       "    <tr>\n",
       "      <th id=\"T_9b888_level0_row2\" class=\"row_heading level0 row2\" >2</th>\n",
       "      <td id=\"T_9b888_row2_col0\" class=\"data row2 col0\" >2</td>\n",
       "      <td id=\"T_9b888_row2_col1\" class=\"data row2 col1\" >Customer Services</td>\n",
       "      <td id=\"T_9b888_row2_col2\" class=\"data row2 col2\" >['waiting', 'time', 'efficient', 'late', 'response', 'customer', 'support', 'hotline', 'email', 'feedback', 'suggestion']</td>\n",
       "    </tr>\n",
       "    <tr>\n",
       "      <th id=\"T_9b888_level0_row3\" class=\"row_heading level0 row3\" >3</th>\n",
       "      <td id=\"T_9b888_row3_col0\" class=\"data row3 col0\" >3</td>\n",
       "      <td id=\"T_9b888_row3_col1\" class=\"data row3 col1\" >Services & Products</td>\n",
       "      <td id=\"T_9b888_row3_col2\" class=\"data row3 col2\" >['application', 'depositing', 'repayment', 'loan', 'approval', 'pocket', 'biometrics', 'reject', 'approve', 'digital', 'money', 'transfer', 'payee', 'lucky', 'draw', 'saving', 'due', 'date', 'convenient', 'buzz', 'update', 'efficient', 'transparent', 'useless', 'block', 'mistake', 'inconvenience', 'safe', 'pocket', 'QR', 'deposit']</td>\n",
       "    </tr>\n",
       "    <tr>\n",
       "      <th id=\"T_9b888_level0_row4\" class=\"row_heading level0 row4\" >4</th>\n",
       "      <td id=\"T_9b888_row4_col0\" class=\"data row4 col0\" >4</td>\n",
       "      <td id=\"T_9b888_row4_col1\" class=\"data row4 col1\" >User Interface</td>\n",
       "      <td id=\"T_9b888_row4_col2\" class=\"data row4 col2\" >['ease', 'use', 'easy', 'clear', 'friendly', 'seamless', 'functionality', 'icon', 'graphics', 'design', 'UI', 'UX', 'theme', 'UI/UX', 'error', 'interface', 'intuitive', 'user', 'beautiful']</td>\n",
       "    </tr>\n",
       "    <tr>\n",
       "      <th id=\"T_9b888_level0_row5\" class=\"row_heading level0 row5\" >5</th>\n",
       "      <td id=\"T_9b888_row5_col0\" class=\"data row5 col0\" >5</td>\n",
       "      <td id=\"T_9b888_row5_col1\" class=\"data row5 col1\" >Credit card usage</td>\n",
       "      <td id=\"T_9b888_row5_col2\" class=\"data row5 col2\" >['rebates', 'rewards', 'programme', 'debit']</td>\n",
       "    </tr>\n",
       "    <tr>\n",
       "      <th id=\"T_9b888_level0_row6\" class=\"row_heading level0 row6\" >6</th>\n",
       "      <td id=\"T_9b888_row6_col0\" class=\"data row6 col0\" >6</td>\n",
       "      <td id=\"T_9b888_row6_col1\" class=\"data row6 col1\" >Login & Account Setup</td>\n",
       "      <td id=\"T_9b888_row6_col2\" class=\"data row6 col2\" >['registration', 'singpass', 'password', 'error', 'biometric', 'onboard', 'form', 'length', 'set', 'up', 'login', 'open', 'sign', 'fingerprint', 'launch', 'register', 'create', 'application', '2FA', 'download']</td>\n",
       "    </tr>\n",
       "    <tr>\n",
       "      <th id=\"T_9b888_level0_row7\" class=\"row_heading level0 row7\" >7</th>\n",
       "      <td id=\"T_9b888_row7_col0\" class=\"data row7 col0\" >7</td>\n",
       "      <td id=\"T_9b888_row7_col1\" class=\"data row7 col1\" >Competition</td>\n",
       "      <td id=\"T_9b888_row7_col2\" class=\"data row7 col2\" >['Trust', 'bank', 'maribank', 'T', 'bills', 'OCBC', 'Timo', 'bank']</td>\n",
       "    </tr>\n",
       "    <tr>\n",
       "      <th id=\"T_9b888_level0_row8\" class=\"row_heading level0 row8\" >8</th>\n",
       "      <td id=\"T_9b888_row8_col0\" class=\"data row8 col0\" >8</td>\n",
       "      <td id=\"T_9b888_row8_col1\" class=\"data row8 col1\" >Safety</td>\n",
       "      <td id=\"T_9b888_row8_col2\" class=\"data row8 col2\" >['password', 'pin', 'particular', 'fill', 'up', 'QR', 'bug', 'hack', 'security', 'secure', 'insecure', 'misleading', 'deceive', 'fake', 'false', 'scam']</td>\n",
       "    </tr>\n",
       "    <tr>\n",
       "      <th id=\"T_9b888_level0_row9\" class=\"row_heading level0 row9\" >9</th>\n",
       "      <td id=\"T_9b888_row9_col0\" class=\"data row9 col0\" >9</td>\n",
       "      <td id=\"T_9b888_row9_col1\" class=\"data row9 col1\" >Customer trust</td>\n",
       "      <td id=\"T_9b888_row9_col2\" class=\"data row9 col2\" >['misleading', 'decieving', 'fake', 'false', 'scam']</td>\n",
       "    </tr>\n",
       "  </tbody>\n",
       "</table>\n"
      ],
      "text/plain": [
       "<pandas.io.formats.style.Styler at 0x177f18be0>"
      ]
     },
     "execution_count": 181,
     "metadata": {},
     "output_type": "execute_result"
    }
   ],
   "source": [
    "topic_lookup_data = pd.DataFrame((ldamodel.print_topics()),columns=['Topic_Number','Top_Keywords'])\n",
    "\n",
    "topic_lookup_data['Topic_Name'] = ['App Responsiveness','Money Growth (Interest Rates)','Customer Services','Services & Products','User Interface','Credit card usage', 'Login & Account Setup', 'Competition', 'Safety', 'Customer trust']\n",
    "\n",
    "topic_lookup_data = topic_lookup_data[['Topic_Number','Topic_Name','Top_Keywords']]\n",
    "\n",
    "topic_lookup_data['Top_Keywords'] =  {\n",
    "    0: ['freeze', 'crash', 'buggy', 'open', 'Transaction', 'speed', 'fast', 'loading', 'crash', 'breeze', 'swift', 'rapid', 'seamless', 'smooth', 'wait', 'hassle', 'snappy', 'load', 'fingertips', 'efficient'],\n",
    "    1: ['advertising', 'drop', 'daily', 'min', 'disbursement', 'ROI', 'interest', 'rates', 'savings', 'p.a.'],\n",
    "    2: ['waiting', 'time', 'efficient', 'late', 'response', 'customer', 'support', 'hotline', 'email', 'feedback','suggestion'],\n",
    "    3: ['application', 'depositing', 'repayment', 'loan', 'approval', 'pocket', 'biometrics', 'reject', 'approve', 'digital', 'money', 'transfer', 'payee', 'lucky', 'draw', 'saving', 'due', 'date', 'convenient', 'buzz', 'update', 'efficient', 'transparent', 'useless', 'block', 'mistake', 'inconvenience', 'safe', 'pocket', 'QR', 'deposit'],\n",
    "    4: ['ease', 'use', 'easy', 'clear', 'friendly', 'seamless', 'functionality', 'icon', 'graphics', 'design', 'UI', 'UX', 'theme', 'UI/UX', 'error', 'interface', 'intuitive', 'user', 'beautiful'],\n",
    "    5: ['rebates', 'rewards', 'programme', 'debit'],\n",
    "    6: ['registration', 'singpass', 'password', 'error', 'biometric', 'onboard', 'form', 'length', 'set', 'up', 'login' , 'open', 'sign', 'fingerprint', 'launch', 'register', 'create', 'application', '2FA', 'download'],\n",
    "    7: ['Trust', 'bank', 'maribank', 'T' , 'bills', 'OCBC', 'Timo', 'bank'],\n",
    "    8: ['password', 'pin', 'particular', 'fill', 'up', 'QR', 'bug', 'hack', 'security', 'secure', 'insecure', 'misleading', 'deceive', 'fake' , 'false', 'scam'],\n",
    "    9: ['misleading', 'decieving', 'fake', 'false', 'scam']\n",
    "}\n",
    "\n",
    "#topic_lookup_data['Top_Keywords'] = topic_lookup_data.Top_Keywords.str\\\n",
    "#.replace(r'[^a-z]',' ',regex=True).apply(lambda x: x.split())\n",
    "\n",
    "\n",
    "topic_lookup_data.style.set_properties(subset=['Top_Keywords'], **{'width': '300px'})"
   ]
  },
  {
   "attachments": {},
   "cell_type": "markdown",
   "metadata": {},
   "source": [
    "### Creating new columns and inserting topic numbers and names"
   ]
  },
  {
   "cell_type": "code",
   "execution_count": 182,
   "metadata": {},
   "outputs": [],
   "source": [
    "for index,sent in enumerate(ldamodel[doc_term_matrix]):\n",
    "  topic_num =[]\n",
    "  topic_details = sorted(sent,key=lambda x: x[1], reverse=True)[:2] # Getting top 2 topics in descending order\n",
    "  topic_num.append(topic_details[0][0]) # Appending top topic\n",
    "  if len(topic_details) > 1:\n",
    "    if topic_details[1][1] > 0.35: # Appending second topic only if it has more than 35% influence on current row\n",
    "      topic_num.append(topic_details[1][0])\n",
    "  review_data.loc[index,'Topic_Number'] = ','.join(str(x) for x in sorted(topic_num))"
   ]
  },
  {
   "cell_type": "code",
   "execution_count": 183,
   "metadata": {},
   "outputs": [],
   "source": [
    "for index,topic_num in enumerate(review_data.Topic_Number):\n",
    "  topic_name_list=[]\n",
    "  for single_topic_num in topic_num.split(','):\n",
    "    single_topic_num=int(single_topic_num)\n",
    "    topic_name_list.append(topic_lookup_data.loc\\\n",
    "                           [topic_lookup_data.Topic_Number == single_topic_num,'Topic_Name'][single_topic_num]) \n",
    "  # Extracting topic names from lookup table\n",
    "  review_data.loc[index,'Topic_Name'] =' & '.join(topic_name_list)"
   ]
  },
  {
   "cell_type": "code",
   "execution_count": 184,
   "metadata": {},
   "outputs": [
    {
     "data": {
      "text/html": [
       "<div>\n",
       "<style scoped>\n",
       "    .dataframe tbody tr th:only-of-type {\n",
       "        vertical-align: middle;\n",
       "    }\n",
       "\n",
       "    .dataframe tbody tr th {\n",
       "        vertical-align: top;\n",
       "    }\n",
       "\n",
       "    .dataframe thead th {\n",
       "        text-align: right;\n",
       "    }\n",
       "</style>\n",
       "<table border=\"1\" class=\"dataframe\">\n",
       "  <thead>\n",
       "    <tr style=\"text-align: right;\">\n",
       "      <th></th>\n",
       "      <th>review</th>\n",
       "      <th>clean_review</th>\n",
       "      <th>Topic_Number</th>\n",
       "      <th>Topic_Name</th>\n",
       "    </tr>\n",
       "  </thead>\n",
       "  <tbody>\n",
       "    <tr>\n",
       "      <th>0</th>\n",
       "      <td>Great banking app with attractive interest rat...</td>\n",
       "      <td>[banking, interest, rate, please, payee, numbe...</td>\n",
       "      <td>7</td>\n",
       "      <td>Competition</td>\n",
       "    </tr>\n",
       "    <tr>\n",
       "      <th>1</th>\n",
       "      <td>A bank like no other, no bank have such amazin...</td>\n",
       "      <td>[bank, bank, feature, money, pocket, track, go...</td>\n",
       "      <td>7</td>\n",
       "      <td>Competition</td>\n",
       "    </tr>\n",
       "    <tr>\n",
       "      <th>2</th>\n",
       "      <td>Notice that the drop in interest rate of 0.8% ...</td>\n",
       "      <td>[notice, drop, interest, rate, account, reason...</td>\n",
       "      <td>7</td>\n",
       "      <td>Competition</td>\n",
       "    </tr>\n",
       "    <tr>\n",
       "      <th>3</th>\n",
       "      <td>Sending money into my GXS account is a breeze ...</td>\n",
       "      <td>[money, account, breeze, amount, fund, money, ...</td>\n",
       "      <td>5</td>\n",
       "      <td>Credit card usage</td>\n",
       "    </tr>\n",
       "    <tr>\n",
       "      <th>4</th>\n",
       "      <td>I have to say that the UI/UX is one of the bes...</td>\n",
       "      <td>[digibank, mobile, market, player, focus, cust...</td>\n",
       "      <td>7</td>\n",
       "      <td>Competition</td>\n",
       "    </tr>\n",
       "    <tr>\n",
       "      <th>...</th>\n",
       "      <td>...</td>\n",
       "      <td>...</td>\n",
       "      <td>...</td>\n",
       "      <td>...</td>\n",
       "    </tr>\n",
       "    <tr>\n",
       "      <th>98</th>\n",
       "      <td>useless app.  unable to join or open account,\\...</td>\n",
       "      <td>[useless, join, account]</td>\n",
       "      <td>5</td>\n",
       "      <td>Credit card usage</td>\n",
       "    </tr>\n",
       "    <tr>\n",
       "      <th>99</th>\n",
       "      <td>Great features! Love it!</td>\n",
       "      <td>[feature, love]</td>\n",
       "      <td>4</td>\n",
       "      <td>User Interface</td>\n",
       "    </tr>\n",
       "    <tr>\n",
       "      <th>100</th>\n",
       "      <td>first bank to reduce interest rates for saving...</td>\n",
       "      <td>[bank, interest, rate, interest, rate, loan, s...</td>\n",
       "      <td>4</td>\n",
       "      <td>User Interface</td>\n",
       "    </tr>\n",
       "    <tr>\n",
       "      <th>101</th>\n",
       "      <td>I was trying to make payment using Paynow Qr c...</td>\n",
       "      <td>[payment, paynow, code, merchant, create, code...</td>\n",
       "      <td>6</td>\n",
       "      <td>Login &amp; Account Setup</td>\n",
       "    </tr>\n",
       "    <tr>\n",
       "      <th>102</th>\n",
       "      <td>21 Jul 23:\\nThe integration on iPad is off. Th...</td>\n",
       "      <td>[integration, ipad, time, login, singpass, saf...</td>\n",
       "      <td>6</td>\n",
       "      <td>Login &amp; Account Setup</td>\n",
       "    </tr>\n",
       "  </tbody>\n",
       "</table>\n",
       "<p>103 rows × 4 columns</p>\n",
       "</div>"
      ],
      "text/plain": [
       "                                                review  \\\n",
       "0    Great banking app with attractive interest rat...   \n",
       "1    A bank like no other, no bank have such amazin...   \n",
       "2    Notice that the drop in interest rate of 0.8% ...   \n",
       "3    Sending money into my GXS account is a breeze ...   \n",
       "4    I have to say that the UI/UX is one of the bes...   \n",
       "..                                                 ...   \n",
       "98   useless app.  unable to join or open account,\\...   \n",
       "99                            Great features! Love it!   \n",
       "100  first bank to reduce interest rates for saving...   \n",
       "101  I was trying to make payment using Paynow Qr c...   \n",
       "102  21 Jul 23:\\nThe integration on iPad is off. Th...   \n",
       "\n",
       "                                          clean_review Topic_Number  \\\n",
       "0    [banking, interest, rate, please, payee, numbe...            7   \n",
       "1    [bank, bank, feature, money, pocket, track, go...            7   \n",
       "2    [notice, drop, interest, rate, account, reason...            7   \n",
       "3    [money, account, breeze, amount, fund, money, ...            5   \n",
       "4    [digibank, mobile, market, player, focus, cust...            7   \n",
       "..                                                 ...          ...   \n",
       "98                            [useless, join, account]            5   \n",
       "99                                     [feature, love]            4   \n",
       "100  [bank, interest, rate, interest, rate, loan, s...            4   \n",
       "101  [payment, paynow, code, merchant, create, code...            6   \n",
       "102  [integration, ipad, time, login, singpass, saf...            6   \n",
       "\n",
       "                Topic_Name  \n",
       "0              Competition  \n",
       "1              Competition  \n",
       "2              Competition  \n",
       "3        Credit card usage  \n",
       "4              Competition  \n",
       "..                     ...  \n",
       "98       Credit card usage  \n",
       "99          User Interface  \n",
       "100         User Interface  \n",
       "101  Login & Account Setup  \n",
       "102  Login & Account Setup  \n",
       "\n",
       "[103 rows x 4 columns]"
      ]
     },
     "execution_count": 184,
     "metadata": {},
     "output_type": "execute_result"
    }
   ],
   "source": [
    "review_data"
   ]
  },
  {
   "attachments": {},
   "cell_type": "markdown",
   "metadata": {},
   "source": [
    "### Visualization"
   ]
  },
  {
   "cell_type": "code",
   "execution_count": 185,
   "metadata": {},
   "outputs": [],
   "source": [
    "import seaborn as sns"
   ]
  },
  {
   "cell_type": "code",
   "execution_count": 186,
   "metadata": {},
   "outputs": [
    {
     "name": "stderr",
     "output_type": "stream",
     "text": [
      "/Library/Frameworks/Python.framework/Versions/3.9/lib/python3.9/site-packages/seaborn/_core.py:1225: DeprecationWarning: is_categorical_dtype is deprecated and will be removed in a future version. Use isinstance(dtype, pd.CategoricalDtype) instead\n",
      "  if pd.api.types.is_categorical_dtype(vector):\n",
      "/Library/Frameworks/Python.framework/Versions/3.9/lib/python3.9/site-packages/seaborn/_core.py:1225: DeprecationWarning: is_categorical_dtype is deprecated and will be removed in a future version. Use isinstance(dtype, pd.CategoricalDtype) instead\n",
      "  if pd.api.types.is_categorical_dtype(vector):\n",
      "/Library/Frameworks/Python.framework/Versions/3.9/lib/python3.9/site-packages/seaborn/_core.py:1225: DeprecationWarning: is_categorical_dtype is deprecated and will be removed in a future version. Use isinstance(dtype, pd.CategoricalDtype) instead\n",
      "  if pd.api.types.is_categorical_dtype(vector):\n"
     ]
    },
    {
     "data": {
      "image/png": "[encoded data removed]",
      "text/plain": [
       "<Figure size 1200x600 with 1 Axes>"
      ]
     },
     "metadata": {},
     "output_type": "display_data"
    }
   ],
   "source": [
    "plt.figure(figsize=(12,6))\n",
    "ax = sns.barplot(x=review_data.Topic_Name.value_counts()[:6].index,y=review_data.Topic_Name.value_counts()[:6].values)\n",
    "for p in ax.patches:\n",
    "    ax.annotate(p.get_height(), (p.get_x() + p.get_width() / 2., p.get_height()+50),ha = 'center', va = 'center')\n",
    "plt.xlabel('Topic Names',size=15)\n",
    "plt.ylabel('Count of topics',size=15)\n",
    "plt.title('Most talked topics in reviews',size=15)\n",
    "plt.show()"
   ]
  },
  {
   "attachments": {},
   "cell_type": "markdown",
   "metadata": {},
   "source": [
    "From above graph we can say that most of customers had issues with Battery of mobile"
   ]
  },
  {
   "cell_type": "code",
   "execution_count": 187,
   "metadata": {},
   "outputs": [
    {
     "name": "stderr",
     "output_type": "stream",
     "text": [
      "/Library/Frameworks/Python.framework/Versions/3.9/lib/python3.9/site-packages/seaborn/_core.py:1225: DeprecationWarning: is_categorical_dtype is deprecated and will be removed in a future version. Use isinstance(dtype, pd.CategoricalDtype) instead\n",
      "  if pd.api.types.is_categorical_dtype(vector):\n",
      "/Library/Frameworks/Python.framework/Versions/3.9/lib/python3.9/site-packages/seaborn/_core.py:1225: DeprecationWarning: is_categorical_dtype is deprecated and will be removed in a future version. Use isinstance(dtype, pd.CategoricalDtype) instead\n",
      "  if pd.api.types.is_categorical_dtype(vector):\n",
      "/Library/Frameworks/Python.framework/Versions/3.9/lib/python3.9/site-packages/seaborn/_core.py:1225: DeprecationWarning: is_categorical_dtype is deprecated and will be removed in a future version. Use isinstance(dtype, pd.CategoricalDtype) instead\n",
      "  if pd.api.types.is_categorical_dtype(vector):\n"
     ]
    },
    {
     "data": {
      "image/png": "[encoded data removed]",
      "text/plain": [
       "<Figure size 1200x600 with 1 Axes>"
      ]
     },
     "metadata": {},
     "output_type": "display_data"
    }
   ],
   "source": [
    "plt.figure(figsize=(12,6))\n",
    "ax = sns.barplot(x=review_data.Topic_Name.value_counts()[6:].index,y=review_data.Topic_Name.value_counts()[6:].values)\n",
    "for p in ax.patches:\n",
    "    ax.annotate(p.get_height(), (p.get_x() + p.get_width() / 2., p.get_height()+5),ha = 'center', va = 'center')\n",
    "plt.xlabel('Topic Names combined',size=15)\n",
    "plt.ylabel('Count of combined topics',size=15)\n",
    "plt.title('Most talked combined topics in reviews',size=15)\n",
    "plt.xticks(rotation=45)\n",
    "plt.show()"
   ]
  },
  {
   "attachments": {},
   "cell_type": "markdown",
   "metadata": {},
   "source": [
    "From above graph we can say that most of customers had combined issues with,\n",
    "\n",
    "Heating issue & Battery <br>\n",
    "Camera, Sound & Battery <br>\n",
    "turbo charger & Battery"
   ]
  },
  {
   "attachments": {},
   "cell_type": "markdown",
   "metadata": {},
   "source": [
    "### Extracting reviews of 5 topic(review of battery)"
   ]
  },
  {
   "cell_type": "code",
   "execution_count": 189,
   "metadata": {},
   "outputs": [
    {
     "data": {
      "text/html": [
       "<style type=\"text/css\">\n",
       "#T_27727_row0_col0, #T_27727_row1_col0, #T_27727_row2_col0, #T_27727_row3_col0, #T_27727_row4_col0, #T_27727_row5_col0, #T_27727_row6_col0, #T_27727_row7_col0 {\n",
       "  width: 300px;\n",
       "}\n",
       "</style>\n",
       "<table id=\"T_27727\">\n",
       "  <thead>\n",
       "    <tr>\n",
       "      <th class=\"blank level0\" >&nbsp;</th>\n",
       "      <th id=\"T_27727_level0_col0\" class=\"col_heading level0 col0\" >review</th>\n",
       "      <th id=\"T_27727_level0_col1\" class=\"col_heading level0 col1\" >Topic_Name</th>\n",
       "    </tr>\n",
       "  </thead>\n",
       "  <tbody>\n",
       "    <tr>\n",
       "      <th id=\"T_27727_level0_row0\" class=\"row_heading level0 row0\" >3</th>\n",
       "      <td id=\"T_27727_row0_col0\" class=\"data row0 col0\" >Sending money into my GXS account is a breeze and instantaneous - regardless of the amounts. I’m able to immediately see that my funds are in GXS. \n",
       "\n",
       "Transferring money OUT is a huge issue. Since June I’ve had problems transferring amounts higher than $500 back to my other banking accounts, each time a red banner will pop up and said something went wrong please try again later. TODAY I can’t transfer more than $1000 back to myself - even the $1000 had to be transferred in TWO transactions of $500 each. Customer service officers did their best to help each time but it’s annoying that the advice provided (killing the app, re-logging in with SingPass) still don’t work.</td>\n",
       "      <td id=\"T_27727_row0_col1\" class=\"data row0 col1\" >Credit card usage</td>\n",
       "    </tr>\n",
       "    <tr>\n",
       "      <th id=\"T_27727_level0_row1\" class=\"row_heading level0 row1\" >14</th>\n",
       "      <td id=\"T_27727_row1_col0\" class=\"data row1 col0\" >Despite a lengthy onboarding but my account got approved promptly. I like that the app is snappy and easy to use. Waiting for credit card so that I can switch to GXS as my main account.</td>\n",
       "      <td id=\"T_27727_row1_col1\" class=\"data row1 col1\" >Credit card usage</td>\n",
       "    </tr>\n",
       "    <tr>\n",
       "      <th id=\"T_27727_level0_row2\" class=\"row_heading level0 row2\" >31</th>\n",
       "      <td id=\"T_27727_row2_col0\" class=\"data row2 col0\" >Like to use GXS apps that is link to Grabs apps for easy to transfer money from saving to topup Grabs account.</td>\n",
       "      <td id=\"T_27727_row2_col1\" class=\"data row2 col1\" >Credit card usage</td>\n",
       "    </tr>\n",
       "    <tr>\n",
       "      <th id=\"T_27727_level0_row3\" class=\"row_heading level0 row3\" >44</th>\n",
       "      <td id=\"T_27727_row3_col0\" class=\"data row3 col0\" >It doesn’t make the company look reputable when they offer a high interest rate only to drop it immediately after gaining enough users. It feels like a bait, which it is. They should acquire deposits through more honest and transparent methods.</td>\n",
       "      <td id=\"T_27727_row3_col1\" class=\"data row3 col1\" >Credit card usage</td>\n",
       "    </tr>\n",
       "    <tr>\n",
       "      <th id=\"T_27727_level0_row4\" class=\"row_heading level0 row4\" >74</th>\n",
       "      <td id=\"T_27727_row4_col0\" class=\"data row4 col0\" >A whole new era of banking. Go GXS or go home! 💪🏼</td>\n",
       "      <td id=\"T_27727_row4_col1\" class=\"data row4 col1\" >Credit card usage</td>\n",
       "    </tr>\n",
       "    <tr>\n",
       "      <th id=\"T_27727_level0_row5\" class=\"row_heading level0 row5\" >79</th>\n",
       "      <td id=\"T_27727_row5_col0\" class=\"data row5 col0\" >Reduced interest from 3.48 to 2.68% in less than a month, kenna baited to start an account here. Have removed all my funds and closed my account.</td>\n",
       "      <td id=\"T_27727_row5_col1\" class=\"data row5 col1\" >Credit card usage</td>\n",
       "    </tr>\n",
       "    <tr>\n",
       "      <th id=\"T_27727_level0_row6\" class=\"row_heading level0 row6\" >96</th>\n",
       "      <td id=\"T_27727_row6_col0\" class=\"data row6 col0\" >save ur money and grow</td>\n",
       "      <td id=\"T_27727_row6_col1\" class=\"data row6 col1\" >Credit card usage</td>\n",
       "    </tr>\n",
       "    <tr>\n",
       "      <th id=\"T_27727_level0_row7\" class=\"row_heading level0 row7\" >98</th>\n",
       "      <td id=\"T_27727_row7_col0\" class=\"data row7 col0\" >useless app.  unable to join or open account,\n",
       "app is not open to all in sg</td>\n",
       "      <td id=\"T_27727_row7_col1\" class=\"data row7 col1\" >Credit card usage</td>\n",
       "    </tr>\n",
       "  </tbody>\n",
       "</table>\n"
      ],
      "text/plain": [
       "<pandas.io.formats.style.Styler at 0x290afdc10>"
      ]
     },
     "execution_count": 189,
     "metadata": {},
     "output_type": "execute_result"
    }
   ],
   "source": [
    "review_data.loc[review_data.Topic_Number.str.contains('5'),['review','Topic_Name']]\\\n",
    ".style.set_properties(subset=['review'], **{'width': '300px'})"
   ]
  },
  {
   "attachments": {},
   "cell_type": "markdown",
   "metadata": {},
   "source": [
    "### Conclusion\n",
    "\n",
    "1. We can combine topic number 2 (Heating issue),3 (turbo charger), 5(Battery) <br>\n",
    "2. If lenovo company improves their turbo charger which is causing heating issues in battery, the mobile will be more appreciated by users.\n",
    "3. We can try to use other POS tags to improve our model."
   ]
  }
 ],
 "metadata": {
  "kernelspec": {
   "display_name": "NLP_",
   "language": "python",
   "name": "python3"
  },
  "language_info": {
   "codemirror_mode": {
    "name": "ipython",
    "version": 3
   },
   "file_extension": ".py",
   "mimetype": "text/x-python",
   "name": "python",
   "nbconvert_exporter": "python",
   "pygments_lexer": "ipython3",
   "version": "3.9.9"
  },
  "orig_nbformat": 4
 },
 "nbformat": 4,
 "nbformat_minor": 2
}
