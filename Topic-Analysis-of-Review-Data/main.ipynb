{
 "cells": [
  {
   "attachments": {},
   "cell_type": "markdown",
   "metadata": {},
   "source": [
    "# Topic modelling of Lenovo mobile reviews (LDA)"
   ]
  },
  {
   "cell_type": "code",
   "execution_count": 34,
   "metadata": {},
   "outputs": [],
   "source": [
    "import warnings\n",
    "warnings.filterwarnings('ignore', category=DeprecationWarning)"
   ]
  },
  {
   "cell_type": "code",
   "execution_count": 35,
   "metadata": {},
   "outputs": [],
   "source": [
    "import pandas as pd"
   ]
  },
  {
   "cell_type": "code",
   "execution_count": 36,
   "metadata": {},
   "outputs": [
    {
     "data": {
      "text/html": [
       "<div>\n",
       "<style scoped>\n",
       "    .dataframe tbody tr th:only-of-type {\n",
       "        vertical-align: middle;\n",
       "    }\n",
       "\n",
       "    .dataframe tbody tr th {\n",
       "        vertical-align: top;\n",
       "    }\n",
       "\n",
       "    .dataframe thead th {\n",
       "        text-align: right;\n",
       "    }\n",
       "</style>\n",
       "<table border=\"1\" class=\"dataframe\">\n",
       "  <thead>\n",
       "    <tr style=\"text-align: right;\">\n",
       "      <th></th>\n",
       "      <th>review</th>\n",
       "    </tr>\n",
       "  </thead>\n",
       "  <tbody>\n",
       "    <tr>\n",
       "      <th>0</th>\n",
       "      <td>Great banking app with attractive interest rat...</td>\n",
       "    </tr>\n",
       "    <tr>\n",
       "      <th>1</th>\n",
       "      <td>A bank like no other, no bank have such amazin...</td>\n",
       "    </tr>\n",
       "    <tr>\n",
       "      <th>2</th>\n",
       "      <td>Notice that the drop in interest rate of 0.8% ...</td>\n",
       "    </tr>\n",
       "    <tr>\n",
       "      <th>3</th>\n",
       "      <td>Sending money into my GXS account is a breeze ...</td>\n",
       "    </tr>\n",
       "    <tr>\n",
       "      <th>4</th>\n",
       "      <td>I have to say that the UI/UX is one of the bes...</td>\n",
       "    </tr>\n",
       "  </tbody>\n",
       "</table>\n",
       "</div>"
      ],
      "text/plain": [
       "                                              review\n",
       "0  Great banking app with attractive interest rat...\n",
       "1  A bank like no other, no bank have such amazin...\n",
       "2  Notice that the drop in interest rate of 0.8% ...\n",
       "3  Sending money into my GXS account is a breeze ...\n",
       "4  I have to say that the UI/UX is one of the bes..."
      ]
     },
     "execution_count": 36,
     "metadata": {},
     "output_type": "execute_result"
    }
   ],
   "source": [
    "columns_to_drop = ['date', 'developerResponse', 'rating', 'isEdited', 'title', 'userName', 'Unnamed: 0']\n",
    "review_data = pd.read_csv('data/AppStoreData.csv').drop(columns_to_drop,axis=1)\n",
    "review_data.head()"
   ]
  },
  {
   "cell_type": "code",
   "execution_count": 37,
   "metadata": {},
   "outputs": [
    {
     "data": {
      "text/plain": [
       "(130, 1)"
      ]
     },
     "execution_count": 37,
     "metadata": {},
     "output_type": "execute_result"
    }
   ],
   "source": [
    "review_data.shape\n",
    "\n",
    "# We have 14K reviews "
   ]
  },
  {
   "attachments": {},
   "cell_type": "markdown",
   "metadata": {},
   "source": [
    "# Data Pre-Processing\n",
    "### 1. Replacing/Dropping NULL values"
   ]
  },
  {
   "cell_type": "code",
   "execution_count": 38,
   "metadata": {},
   "outputs": [
    {
     "data": {
      "text/plain": [
       "review    0\n",
       "dtype: int64"
      ]
     },
     "execution_count": 38,
     "metadata": {},
     "output_type": "execute_result"
    }
   ],
   "source": [
    "review_data.isnull().sum()\n",
    "\n",
    "# Since our data has no null values will be skip this step"
   ]
  },
  {
   "attachments": {},
   "cell_type": "markdown",
   "metadata": {},
   "source": [
    "### 2. Converting to LOWER case"
   ]
  },
  {
   "cell_type": "code",
   "execution_count": 39,
   "metadata": {},
   "outputs": [
    {
     "data": {
      "text/html": [
       "<div>\n",
       "<style scoped>\n",
       "    .dataframe tbody tr th:only-of-type {\n",
       "        vertical-align: middle;\n",
       "    }\n",
       "\n",
       "    .dataframe tbody tr th {\n",
       "        vertical-align: top;\n",
       "    }\n",
       "\n",
       "    .dataframe thead th {\n",
       "        text-align: right;\n",
       "    }\n",
       "</style>\n",
       "<table border=\"1\" class=\"dataframe\">\n",
       "  <thead>\n",
       "    <tr style=\"text-align: right;\">\n",
       "      <th></th>\n",
       "      <th>review</th>\n",
       "      <th>clean_review</th>\n",
       "    </tr>\n",
       "  </thead>\n",
       "  <tbody>\n",
       "    <tr>\n",
       "      <th>0</th>\n",
       "      <td>Great banking app with attractive interest rat...</td>\n",
       "      <td>great banking app with attractive interest rat...</td>\n",
       "    </tr>\n",
       "    <tr>\n",
       "      <th>1</th>\n",
       "      <td>A bank like no other, no bank have such amazin...</td>\n",
       "      <td>a bank like no other, no bank have such amazin...</td>\n",
       "    </tr>\n",
       "    <tr>\n",
       "      <th>2</th>\n",
       "      <td>Notice that the drop in interest rate of 0.8% ...</td>\n",
       "      <td>notice that the drop in interest rate of 0.8% ...</td>\n",
       "    </tr>\n",
       "    <tr>\n",
       "      <th>3</th>\n",
       "      <td>Sending money into my GXS account is a breeze ...</td>\n",
       "      <td>sending money into my gxs account is a breeze ...</td>\n",
       "    </tr>\n",
       "    <tr>\n",
       "      <th>4</th>\n",
       "      <td>I have to say that the UI/UX is one of the bes...</td>\n",
       "      <td>i have to say that the ui/ux is one of the bes...</td>\n",
       "    </tr>\n",
       "  </tbody>\n",
       "</table>\n",
       "</div>"
      ],
      "text/plain": [
       "                                              review  \\\n",
       "0  Great banking app with attractive interest rat...   \n",
       "1  A bank like no other, no bank have such amazin...   \n",
       "2  Notice that the drop in interest rate of 0.8% ...   \n",
       "3  Sending money into my GXS account is a breeze ...   \n",
       "4  I have to say that the UI/UX is one of the bes...   \n",
       "\n",
       "                                        clean_review  \n",
       "0  great banking app with attractive interest rat...  \n",
       "1  a bank like no other, no bank have such amazin...  \n",
       "2  notice that the drop in interest rate of 0.8% ...  \n",
       "3  sending money into my gxs account is a breeze ...  \n",
       "4  i have to say that the ui/ux is one of the bes...  "
      ]
     },
     "execution_count": 39,
     "metadata": {},
     "output_type": "execute_result"
    }
   ],
   "source": [
    "review_data['clean_review'] = review_data['review'].apply(lambda x: str(x).lower())\n",
    "review_data.head()"
   ]
  },
  {
   "attachments": {},
   "cell_type": "markdown",
   "metadata": {},
   "source": [
    "### 3. REMOVE NON-ALPHA DATA(DIGITS,PUNCTUATIONS,DIACRITICS)"
   ]
  },
  {
   "cell_type": "code",
   "execution_count": 40,
   "metadata": {},
   "outputs": [
    {
     "data": {
      "text/html": [
       "<div>\n",
       "<style scoped>\n",
       "    .dataframe tbody tr th:only-of-type {\n",
       "        vertical-align: middle;\n",
       "    }\n",
       "\n",
       "    .dataframe tbody tr th {\n",
       "        vertical-align: top;\n",
       "    }\n",
       "\n",
       "    .dataframe thead th {\n",
       "        text-align: right;\n",
       "    }\n",
       "</style>\n",
       "<table border=\"1\" class=\"dataframe\">\n",
       "  <thead>\n",
       "    <tr style=\"text-align: right;\">\n",
       "      <th></th>\n",
       "      <th>review</th>\n",
       "      <th>clean_review</th>\n",
       "    </tr>\n",
       "  </thead>\n",
       "  <tbody>\n",
       "    <tr>\n",
       "      <th>0</th>\n",
       "      <td>Great banking app with attractive interest rat...</td>\n",
       "      <td>great banking app with attractive interest rat...</td>\n",
       "    </tr>\n",
       "    <tr>\n",
       "      <th>1</th>\n",
       "      <td>A bank like no other, no bank have such amazin...</td>\n",
       "      <td>a bank like no other  no bank have such amazin...</td>\n",
       "    </tr>\n",
       "    <tr>\n",
       "      <th>2</th>\n",
       "      <td>Notice that the drop in interest rate of 0.8% ...</td>\n",
       "      <td>notice that the drop in interest rate of      ...</td>\n",
       "    </tr>\n",
       "    <tr>\n",
       "      <th>3</th>\n",
       "      <td>Sending money into my GXS account is a breeze ...</td>\n",
       "      <td>sending money into my gxs account is a breeze ...</td>\n",
       "    </tr>\n",
       "    <tr>\n",
       "      <th>4</th>\n",
       "      <td>I have to say that the UI/UX is one of the bes...</td>\n",
       "      <td>i have to say that the ui ux is one of the bes...</td>\n",
       "    </tr>\n",
       "  </tbody>\n",
       "</table>\n",
       "</div>"
      ],
      "text/plain": [
       "                                              review  \\\n",
       "0  Great banking app with attractive interest rat...   \n",
       "1  A bank like no other, no bank have such amazin...   \n",
       "2  Notice that the drop in interest rate of 0.8% ...   \n",
       "3  Sending money into my GXS account is a breeze ...   \n",
       "4  I have to say that the UI/UX is one of the bes...   \n",
       "\n",
       "                                        clean_review  \n",
       "0  great banking app with attractive interest rat...  \n",
       "1  a bank like no other  no bank have such amazin...  \n",
       "2  notice that the drop in interest rate of      ...  \n",
       "3  sending money into my gxs account is a breeze ...  \n",
       "4  i have to say that the ui ux is one of the bes...  "
      ]
     },
     "execution_count": 40,
     "metadata": {},
     "output_type": "execute_result"
    }
   ],
   "source": [
    "review_data['clean_review'] = review_data['clean_review'].str.replace(r'[^a-zA-Z\\s]', ' ',regex=True) \n",
    "review_data.head()"
   ]
  },
  {
   "attachments": {},
   "cell_type": "markdown",
   "metadata": {},
   "source": [
    "### 4. REMOVING WHITE SPACE"
   ]
  },
  {
   "cell_type": "code",
   "execution_count": 41,
   "metadata": {},
   "outputs": [
    {
     "data": {
      "text/html": [
       "<div>\n",
       "<style scoped>\n",
       "    .dataframe tbody tr th:only-of-type {\n",
       "        vertical-align: middle;\n",
       "    }\n",
       "\n",
       "    .dataframe tbody tr th {\n",
       "        vertical-align: top;\n",
       "    }\n",
       "\n",
       "    .dataframe thead th {\n",
       "        text-align: right;\n",
       "    }\n",
       "</style>\n",
       "<table border=\"1\" class=\"dataframe\">\n",
       "  <thead>\n",
       "    <tr style=\"text-align: right;\">\n",
       "      <th></th>\n",
       "      <th>review</th>\n",
       "      <th>clean_review</th>\n",
       "    </tr>\n",
       "  </thead>\n",
       "  <tbody>\n",
       "    <tr>\n",
       "      <th>0</th>\n",
       "      <td>Great banking app with attractive interest rat...</td>\n",
       "      <td>great banking app with attractive interest rat...</td>\n",
       "    </tr>\n",
       "    <tr>\n",
       "      <th>1</th>\n",
       "      <td>A bank like no other, no bank have such amazin...</td>\n",
       "      <td>a bank like no other no bank have such amazing...</td>\n",
       "    </tr>\n",
       "    <tr>\n",
       "      <th>2</th>\n",
       "      <td>Notice that the drop in interest rate of 0.8% ...</td>\n",
       "      <td>notice that the drop in interest rate of in sa...</td>\n",
       "    </tr>\n",
       "    <tr>\n",
       "      <th>3</th>\n",
       "      <td>Sending money into my GXS account is a breeze ...</td>\n",
       "      <td>sending money into my gxs account is a breeze ...</td>\n",
       "    </tr>\n",
       "    <tr>\n",
       "      <th>4</th>\n",
       "      <td>I have to say that the UI/UX is one of the bes...</td>\n",
       "      <td>i have to say that the ui ux is one of the bes...</td>\n",
       "    </tr>\n",
       "  </tbody>\n",
       "</table>\n",
       "</div>"
      ],
      "text/plain": [
       "                                              review  \\\n",
       "0  Great banking app with attractive interest rat...   \n",
       "1  A bank like no other, no bank have such amazin...   \n",
       "2  Notice that the drop in interest rate of 0.8% ...   \n",
       "3  Sending money into my GXS account is a breeze ...   \n",
       "4  I have to say that the UI/UX is one of the bes...   \n",
       "\n",
       "                                        clean_review  \n",
       "0  great banking app with attractive interest rat...  \n",
       "1  a bank like no other no bank have such amazing...  \n",
       "2  notice that the drop in interest rate of in sa...  \n",
       "3  sending money into my gxs account is a breeze ...  \n",
       "4  i have to say that the ui ux is one of the bes...  "
      ]
     },
     "execution_count": 41,
     "metadata": {},
     "output_type": "execute_result"
    }
   ],
   "source": [
    "review_data['clean_review'] = review_data['clean_review'].str.replace(r'\\s{2,}', ' ',regex=True)\n",
    "review_data.head()"
   ]
  },
  {
   "attachments": {},
   "cell_type": "markdown",
   "metadata": {},
   "source": [
    "### 5. WORD TOKENIZATION"
   ]
  },
  {
   "cell_type": "code",
   "execution_count": 42,
   "metadata": {},
   "outputs": [
    {
     "name": "stderr",
     "output_type": "stream",
     "text": [
      "[nltk_data] Downloading package punkt to /Users/neleht./nltk_data...\n",
      "[nltk_data]   Package punkt is already up-to-date!\n"
     ]
    },
    {
     "data": {
      "text/plain": [
       "True"
      ]
     },
     "execution_count": 42,
     "metadata": {},
     "output_type": "execute_result"
    }
   ],
   "source": [
    "import nltk\n",
    "from nltk.tokenize import word_tokenize\n",
    "nltk.download('punkt')"
   ]
  },
  {
   "cell_type": "code",
   "execution_count": 43,
   "metadata": {},
   "outputs": [
    {
     "data": {
      "text/html": [
       "<div>\n",
       "<style scoped>\n",
       "    .dataframe tbody tr th:only-of-type {\n",
       "        vertical-align: middle;\n",
       "    }\n",
       "\n",
       "    .dataframe tbody tr th {\n",
       "        vertical-align: top;\n",
       "    }\n",
       "\n",
       "    .dataframe thead th {\n",
       "        text-align: right;\n",
       "    }\n",
       "</style>\n",
       "<table border=\"1\" class=\"dataframe\">\n",
       "  <thead>\n",
       "    <tr style=\"text-align: right;\">\n",
       "      <th></th>\n",
       "      <th>review</th>\n",
       "      <th>clean_review</th>\n",
       "    </tr>\n",
       "  </thead>\n",
       "  <tbody>\n",
       "    <tr>\n",
       "      <th>0</th>\n",
       "      <td>Great banking app with attractive interest rat...</td>\n",
       "      <td>[great, banking, app, with, attractive, intere...</td>\n",
       "    </tr>\n",
       "    <tr>\n",
       "      <th>1</th>\n",
       "      <td>A bank like no other, no bank have such amazin...</td>\n",
       "      <td>[a, bank, like, no, other, no, bank, have, suc...</td>\n",
       "    </tr>\n",
       "    <tr>\n",
       "      <th>2</th>\n",
       "      <td>Notice that the drop in interest rate of 0.8% ...</td>\n",
       "      <td>[notice, that, the, drop, in, interest, rate, ...</td>\n",
       "    </tr>\n",
       "    <tr>\n",
       "      <th>3</th>\n",
       "      <td>Sending money into my GXS account is a breeze ...</td>\n",
       "      <td>[sending, money, into, my, gxs, account, is, a...</td>\n",
       "    </tr>\n",
       "    <tr>\n",
       "      <th>4</th>\n",
       "      <td>I have to say that the UI/UX is one of the bes...</td>\n",
       "      <td>[i, have, to, say, that, the, ui, ux, is, one,...</td>\n",
       "    </tr>\n",
       "  </tbody>\n",
       "</table>\n",
       "</div>"
      ],
      "text/plain": [
       "                                              review  \\\n",
       "0  Great banking app with attractive interest rat...   \n",
       "1  A bank like no other, no bank have such amazin...   \n",
       "2  Notice that the drop in interest rate of 0.8% ...   \n",
       "3  Sending money into my GXS account is a breeze ...   \n",
       "4  I have to say that the UI/UX is one of the bes...   \n",
       "\n",
       "                                        clean_review  \n",
       "0  [great, banking, app, with, attractive, intere...  \n",
       "1  [a, bank, like, no, other, no, bank, have, suc...  \n",
       "2  [notice, that, the, drop, in, interest, rate, ...  \n",
       "3  [sending, money, into, my, gxs, account, is, a...  \n",
       "4  [i, have, to, say, that, the, ui, ux, is, one,...  "
      ]
     },
     "execution_count": 43,
     "metadata": {},
     "output_type": "execute_result"
    }
   ],
   "source": [
    "review_data['clean_review'] = review_data['clean_review'].apply(lambda x: word_tokenize(x))\n",
    "review_data.head()"
   ]
  },
  {
   "attachments": {},
   "cell_type": "markdown",
   "metadata": {},
   "source": [
    "### 6. REMOVE UNNECESSARY WORDS"
   ]
  },
  {
   "cell_type": "code",
   "execution_count": 44,
   "metadata": {},
   "outputs": [
    {
     "name": "stdout",
     "output_type": "stream",
     "text": [
      "Requirement already satisfied: stopwords in /Library/Frameworks/Python.framework/Versions/3.9/lib/python3.9/site-packages (1.0.1)\n"
     ]
    }
   ],
   "source": [
    "!pip install stopwords"
   ]
  },
  {
   "cell_type": "code",
   "execution_count": 45,
   "metadata": {},
   "outputs": [
    {
     "name": "stderr",
     "output_type": "stream",
     "text": [
      "[nltk_data] Downloading package stopwords to\n",
      "[nltk_data]     /Users/neleht./nltk_data...\n",
      "[nltk_data]   Package stopwords is already up-to-date!\n"
     ]
    },
    {
     "data": {
      "text/plain": [
       "True"
      ]
     },
     "execution_count": 45,
     "metadata": {},
     "output_type": "execute_result"
    }
   ],
   "source": [
    "from nltk.corpus import stopwords\n",
    "nltk.download('stopwords')"
   ]
  },
  {
   "cell_type": "code",
   "execution_count": 46,
   "metadata": {},
   "outputs": [
    {
     "data": {
      "text/html": [
       "<div>\n",
       "<style scoped>\n",
       "    .dataframe tbody tr th:only-of-type {\n",
       "        vertical-align: middle;\n",
       "    }\n",
       "\n",
       "    .dataframe tbody tr th {\n",
       "        vertical-align: top;\n",
       "    }\n",
       "\n",
       "    .dataframe thead th {\n",
       "        text-align: right;\n",
       "    }\n",
       "</style>\n",
       "<table border=\"1\" class=\"dataframe\">\n",
       "  <thead>\n",
       "    <tr style=\"text-align: right;\">\n",
       "      <th></th>\n",
       "      <th>review</th>\n",
       "      <th>clean_review</th>\n",
       "    </tr>\n",
       "  </thead>\n",
       "  <tbody>\n",
       "    <tr>\n",
       "      <th>0</th>\n",
       "      <td>Great banking app with attractive interest rat...</td>\n",
       "      <td>[great, banking, attractive, interest, rates, ...</td>\n",
       "    </tr>\n",
       "    <tr>\n",
       "      <th>1</th>\n",
       "      <td>A bank like no other, no bank have such amazin...</td>\n",
       "      <td>[bank, like, bank, amazing, feature, separate,...</td>\n",
       "    </tr>\n",
       "    <tr>\n",
       "      <th>2</th>\n",
       "      <td>Notice that the drop in interest rate of 0.8% ...</td>\n",
       "      <td>[notice, drop, interest, rate, saving, account...</td>\n",
       "    </tr>\n",
       "    <tr>\n",
       "      <th>3</th>\n",
       "      <td>Sending money into my GXS account is a breeze ...</td>\n",
       "      <td>[sending, money, account, breeze, instantaneou...</td>\n",
       "    </tr>\n",
       "    <tr>\n",
       "      <th>4</th>\n",
       "      <td>I have to say that the UI/UX is one of the bes...</td>\n",
       "      <td>[best, seen, digibank, mobile, finally, strong...</td>\n",
       "    </tr>\n",
       "  </tbody>\n",
       "</table>\n",
       "</div>"
      ],
      "text/plain": [
       "                                              review  \\\n",
       "0  Great banking app with attractive interest rat...   \n",
       "1  A bank like no other, no bank have such amazin...   \n",
       "2  Notice that the drop in interest rate of 0.8% ...   \n",
       "3  Sending money into my GXS account is a breeze ...   \n",
       "4  I have to say that the UI/UX is one of the bes...   \n",
       "\n",
       "                                        clean_review  \n",
       "0  [great, banking, attractive, interest, rates, ...  \n",
       "1  [bank, like, bank, amazing, feature, separate,...  \n",
       "2  [notice, drop, interest, rate, saving, account...  \n",
       "3  [sending, money, account, breeze, instantaneou...  \n",
       "4  [best, seen, digibank, mobile, finally, strong...  "
      ]
     },
     "execution_count": 46,
     "metadata": {},
     "output_type": "execute_result"
    }
   ],
   "source": [
    "review_data['clean_review'] = review_data['clean_review'].apply\\\n",
    "(lambda x:[word for word in x if word not in stopwords.words(\"english\") and len(word) > 3 and word.isalpha()])\n",
    "review_data.head()\n"
   ]
  },
  {
   "cell_type": "code",
   "execution_count": 47,
   "metadata": {},
   "outputs": [],
   "source": [
    "review_data = review_data[review_data['clean_review'].map(lambda x: len(x)) > 1].reset_index(drop=True)\n",
    "# Keeping records with more than single words"
   ]
  },
  {
   "attachments": {},
   "cell_type": "markdown",
   "metadata": {},
   "source": [
    "### 7. LEMMATIZATION"
   ]
  },
  {
   "cell_type": "code",
   "execution_count": 48,
   "metadata": {},
   "outputs": [
    {
     "name": "stderr",
     "output_type": "stream",
     "text": [
      "[nltk_data] Downloading package wordnet to /Users/neleht./nltk_data...\n",
      "[nltk_data]   Package wordnet is already up-to-date!\n"
     ]
    },
    {
     "data": {
      "text/plain": [
       "True"
      ]
     },
     "execution_count": 48,
     "metadata": {},
     "output_type": "execute_result"
    }
   ],
   "source": [
    "from nltk.stem import WordNetLemmatizer\n",
    "nltk.download('wordnet')"
   ]
  },
  {
   "cell_type": "code",
   "execution_count": 49,
   "metadata": {},
   "outputs": [
    {
     "data": {
      "text/html": [
       "<div>\n",
       "<style scoped>\n",
       "    .dataframe tbody tr th:only-of-type {\n",
       "        vertical-align: middle;\n",
       "    }\n",
       "\n",
       "    .dataframe tbody tr th {\n",
       "        vertical-align: top;\n",
       "    }\n",
       "\n",
       "    .dataframe thead th {\n",
       "        text-align: right;\n",
       "    }\n",
       "</style>\n",
       "<table border=\"1\" class=\"dataframe\">\n",
       "  <thead>\n",
       "    <tr style=\"text-align: right;\">\n",
       "      <th></th>\n",
       "      <th>review</th>\n",
       "      <th>clean_review</th>\n",
       "    </tr>\n",
       "  </thead>\n",
       "  <tbody>\n",
       "    <tr>\n",
       "      <th>0</th>\n",
       "      <td>Great banking app with attractive interest rat...</td>\n",
       "      <td>[great, banking, attractive, interest, rate, p...</td>\n",
       "    </tr>\n",
       "    <tr>\n",
       "      <th>1</th>\n",
       "      <td>A bank like no other, no bank have such amazin...</td>\n",
       "      <td>[bank, like, bank, amazing, feature, separate,...</td>\n",
       "    </tr>\n",
       "    <tr>\n",
       "      <th>2</th>\n",
       "      <td>Notice that the drop in interest rate of 0.8% ...</td>\n",
       "      <td>[notice, drop, interest, rate, saving, account...</td>\n",
       "    </tr>\n",
       "    <tr>\n",
       "      <th>3</th>\n",
       "      <td>Sending money into my GXS account is a breeze ...</td>\n",
       "      <td>[sending, money, account, breeze, instantaneou...</td>\n",
       "    </tr>\n",
       "    <tr>\n",
       "      <th>4</th>\n",
       "      <td>I have to say that the UI/UX is one of the bes...</td>\n",
       "      <td>[best, seen, digibank, mobile, finally, strong...</td>\n",
       "    </tr>\n",
       "  </tbody>\n",
       "</table>\n",
       "</div>"
      ],
      "text/plain": [
       "                                              review  \\\n",
       "0  Great banking app with attractive interest rat...   \n",
       "1  A bank like no other, no bank have such amazin...   \n",
       "2  Notice that the drop in interest rate of 0.8% ...   \n",
       "3  Sending money into my GXS account is a breeze ...   \n",
       "4  I have to say that the UI/UX is one of the bes...   \n",
       "\n",
       "                                        clean_review  \n",
       "0  [great, banking, attractive, interest, rate, p...  \n",
       "1  [bank, like, bank, amazing, feature, separate,...  \n",
       "2  [notice, drop, interest, rate, saving, account...  \n",
       "3  [sending, money, account, breeze, instantaneou...  \n",
       "4  [best, seen, digibank, mobile, finally, strong...  "
      ]
     },
     "execution_count": 49,
     "metadata": {},
     "output_type": "execute_result"
    }
   ],
   "source": [
    "review_data['clean_review'] = review_data['clean_review'].apply\\\n",
    "(lambda x: [WordNetLemmatizer().lemmatize(word) for word in x])\n",
    "review_data.head()"
   ]
  },
  {
   "attachments": {},
   "cell_type": "markdown",
   "metadata": {},
   "source": [
    "### 8. Extracting only NOUN"
   ]
  },
  {
   "cell_type": "code",
   "execution_count": 50,
   "metadata": {},
   "outputs": [
    {
     "name": "stderr",
     "output_type": "stream",
     "text": [
      "[nltk_data] Downloading package averaged_perceptron_tagger to\n",
      "[nltk_data]     /Users/neleht./nltk_data...\n",
      "[nltk_data]   Package averaged_perceptron_tagger is already up-to-\n",
      "[nltk_data]       date!\n"
     ]
    },
    {
     "data": {
      "text/plain": [
       "True"
      ]
     },
     "execution_count": 50,
     "metadata": {},
     "output_type": "execute_result"
    }
   ],
   "source": [
    "nltk.download('averaged_perceptron_tagger')"
   ]
  },
  {
   "cell_type": "code",
   "execution_count": 51,
   "metadata": {},
   "outputs": [],
   "source": [
    "review_data['clean_review'] = review_data['clean_review'].apply\\\n",
    "(lambda x: [word for word in x if nltk.pos_tag([word])[0][1] == 'NN'])"
   ]
  },
  {
   "cell_type": "code",
   "execution_count": 52,
   "metadata": {},
   "outputs": [],
   "source": [
    "review_data = review_data[review_data['clean_review'].map(lambda x: len(x)) > 1].reset_index(drop=True)\n",
    "# Keeping records with more than single words"
   ]
  },
  {
   "cell_type": "code",
   "execution_count": 53,
   "metadata": {},
   "outputs": [
    {
     "data": {
      "text/html": [
       "<div>\n",
       "<style scoped>\n",
       "    .dataframe tbody tr th:only-of-type {\n",
       "        vertical-align: middle;\n",
       "    }\n",
       "\n",
       "    .dataframe tbody tr th {\n",
       "        vertical-align: top;\n",
       "    }\n",
       "\n",
       "    .dataframe thead th {\n",
       "        text-align: right;\n",
       "    }\n",
       "</style>\n",
       "<table border=\"1\" class=\"dataframe\">\n",
       "  <thead>\n",
       "    <tr style=\"text-align: right;\">\n",
       "      <th></th>\n",
       "      <th>review</th>\n",
       "      <th>clean_review</th>\n",
       "    </tr>\n",
       "  </thead>\n",
       "  <tbody>\n",
       "    <tr>\n",
       "      <th>0</th>\n",
       "      <td>Great banking app with attractive interest rat...</td>\n",
       "      <td>[banking, interest, rate, please, payee, numbe...</td>\n",
       "    </tr>\n",
       "    <tr>\n",
       "      <th>1</th>\n",
       "      <td>A bank like no other, no bank have such amazin...</td>\n",
       "      <td>[bank, bank, feature, money, pocket, track, go...</td>\n",
       "    </tr>\n",
       "    <tr>\n",
       "      <th>2</th>\n",
       "      <td>Notice that the drop in interest rate of 0.8% ...</td>\n",
       "      <td>[notice, drop, interest, rate, account, reason...</td>\n",
       "    </tr>\n",
       "    <tr>\n",
       "      <th>3</th>\n",
       "      <td>Sending money into my GXS account is a breeze ...</td>\n",
       "      <td>[money, account, breeze, amount, fund, money, ...</td>\n",
       "    </tr>\n",
       "    <tr>\n",
       "      <th>4</th>\n",
       "      <td>I have to say that the UI/UX is one of the bes...</td>\n",
       "      <td>[digibank, mobile, market, player, focus, cust...</td>\n",
       "    </tr>\n",
       "  </tbody>\n",
       "</table>\n",
       "</div>"
      ],
      "text/plain": [
       "                                              review  \\\n",
       "0  Great banking app with attractive interest rat...   \n",
       "1  A bank like no other, no bank have such amazin...   \n",
       "2  Notice that the drop in interest rate of 0.8% ...   \n",
       "3  Sending money into my GXS account is a breeze ...   \n",
       "4  I have to say that the UI/UX is one of the bes...   \n",
       "\n",
       "                                        clean_review  \n",
       "0  [banking, interest, rate, please, payee, numbe...  \n",
       "1  [bank, bank, feature, money, pocket, track, go...  \n",
       "2  [notice, drop, interest, rate, account, reason...  \n",
       "3  [money, account, breeze, amount, fund, money, ...  \n",
       "4  [digibank, mobile, market, player, focus, cust...  "
      ]
     },
     "execution_count": 53,
     "metadata": {},
     "output_type": "execute_result"
    }
   ],
   "source": [
    "review_data.head()"
   ]
  },
  {
   "attachments": {},
   "cell_type": "markdown",
   "metadata": {},
   "source": [
    "### 9. Document Term Matrix"
   ]
  },
  {
   "cell_type": "code",
   "execution_count": 54,
   "metadata": {},
   "outputs": [],
   "source": [
    "import gensim\n",
    "from gensim import corpora"
   ]
  },
  {
   "cell_type": "code",
   "execution_count": 55,
   "metadata": {},
   "outputs": [
    {
     "name": "stdout",
     "output_type": "stream",
     "text": [
      "Dictionary(366 unique tokens: ['account', 'apple', 'banking', 'card', 'debit']...)\n"
     ]
    }
   ],
   "source": [
    "dictionary = corpora.Dictionary(review_data['clean_review'])\n",
    "print(dictionary)\n",
    "\n",
    "# We have 6724 unique tokens"
   ]
  },
  {
   "cell_type": "code",
   "execution_count": 56,
   "metadata": {},
   "outputs": [
    {
     "data": {
      "text/plain": [
       "0    [(0, 1), (1, 1), (2, 1), (3, 1), (4, 1), (5, 1...\n",
       "1    [(5, 3), (9, 1), (10, 3), (11, 1), (12, 1), (1...\n",
       "2    [(0, 9), (5, 7), (9, 6), (10, 1), (34, 1), (35...\n",
       "3    [(0, 2), (2, 1), (8, 1), (23, 2), (30, 1), (43...\n",
       "4    [(2, 1), (8, 1), (10, 1), (26, 1), (33, 1), (6...\n",
       "5    [(0, 1), (10, 4), (42, 1), (61, 1), (83, 1), (...\n",
       "6    [(2, 1), (5, 1), (9, 1), (10, 1), (32, 1), (74...\n",
       "7    [(2, 1), (7, 1), (10, 3), (17, 1), (23, 1), (3...\n",
       "8    [(17, 1), (25, 1), (32, 1), (33, 1), (74, 1), ...\n",
       "9    [(0, 2), (6, 1), (8, 1), (10, 3), (21, 1), (56...\n",
       "Name: clean_review, dtype: object"
      ]
     },
     "execution_count": 56,
     "metadata": {},
     "output_type": "execute_result"
    }
   ],
   "source": [
    "doc_term_matrix = review_data['clean_review'].apply(lambda x: dictionary.doc2bow(x))\n",
    "doc_term_matrix[:10]\n",
    "\n",
    "# Each tokenized words has been assigned index value and thier count in corpus"
   ]
  },
  {
   "attachments": {},
   "cell_type": "markdown",
   "metadata": {},
   "source": [
    "### LDA"
   ]
  },
  {
   "cell_type": "code",
   "execution_count": 57,
   "metadata": {},
   "outputs": [],
   "source": [
    "from IPython.display import clear_output"
   ]
  },
  {
   "cell_type": "code",
   "execution_count": 58,
   "metadata": {},
   "outputs": [],
   "source": [
    "Lda = gensim.models.ldamodel.LdaModel\n",
    "ldamodel = Lda(corpus=doc_term_matrix, num_topics=12, id2word=dictionary, passes=10,random_state=45)\n",
    "clear_output()\n",
    "\n",
    "# corpus requires document term matrix\n",
    "# num_topics is used to define number of topics to create from corpus\n",
    "# id2word requires mapping of words\n",
    "# passes is used to define number of iterations"
   ]
  },
  {
   "cell_type": "code",
   "execution_count": 59,
   "metadata": {},
   "outputs": [
    {
     "data": {
      "text/plain": [
       "[(0,\n",
       "  '0.040*\"experience\" + 0.040*\"digital\" + 0.040*\"bank\" + 0.027*\"fund\" + 0.027*\"interest\" + 0.027*\"account\" + 0.027*\"offer\" + 0.014*\"access\" + 0.014*\"banking\" + 0.014*\"singtel\"'),\n",
       " (1,\n",
       "  '0.075*\"wait\" + 0.046*\"write\" + 0.031*\"rate\" + 0.031*\"phone\" + 0.031*\"problem\" + 0.016*\"told\" + 0.016*\"grab\" + 0.016*\"dark\" + 0.016*\"staff\" + 0.016*\"risk\"'),\n",
       " (2,\n",
       "  '0.043*\"bank\" + 0.029*\"account\" + 0.029*\"money\" + 0.029*\"repayment\" + 0.022*\"transfer\" + 0.022*\"trust\" + 0.022*\"time\" + 0.015*\"ease\" + 0.015*\"singapore\" + 0.015*\"grab\"'),\n",
       " (3,\n",
       "  '0.060*\"user\" + 0.037*\"design\" + 0.025*\"service\" + 0.025*\"navigate\" + 0.025*\"device\" + 0.025*\"pocket\" + 0.025*\"grow\" + 0.025*\"money\" + 0.024*\"experience\" + 0.013*\"lack\"'),\n",
       " (4,\n",
       "  '0.117*\"interest\" + 0.101*\"pocket\" + 0.071*\"rate\" + 0.054*\"love\" + 0.029*\"money\" + 0.027*\"feature\" + 0.027*\"bank\" + 0.027*\"wait\" + 0.025*\"user\" + 0.022*\"goal\"'),\n",
       " (5,\n",
       "  '0.050*\"user\" + 0.050*\"something\" + 0.026*\"singpass\" + 0.026*\"information\" + 0.013*\"interest\" + 0.013*\"rate\" + 0.013*\"drop\" + 0.013*\"look\" + 0.013*\"service\" + 0.013*\"need\"'),\n",
       " (6,\n",
       "  '0.034*\"interface\" + 0.033*\"wait\" + 0.025*\"bank\" + 0.013*\"offer\" + 0.013*\"digital\" + 0.013*\"fast\" + 0.013*\"experience\" + 0.013*\"code\" + 0.013*\"singpass\" + 0.013*\"market\"'),\n",
       " (7,\n",
       "  '0.075*\"account\" + 0.052*\"bank\" + 0.042*\"interest\" + 0.038*\"rate\" + 0.019*\"sign\" + 0.019*\"consumer\" + 0.019*\"banking\" + 0.019*\"review\" + 0.019*\"joke\" + 0.014*\"increase\"'),\n",
       " (8,\n",
       "  '0.058*\"borrow\" + 0.039*\"loan\" + 0.020*\"fast\" + 0.020*\"email\" + 0.020*\"hassle\" + 0.020*\"flexi\" + 0.020*\"text\" + 0.020*\"tell\" + 0.020*\"millionaire\" + 0.020*\"friend\"'),\n",
       " (9,\n",
       "  '0.042*\"fast\" + 0.042*\"bank\" + 0.029*\"experience\" + 0.029*\"competitor\" + 0.029*\"amount\" + 0.015*\"feature\" + 0.015*\"touch\" + 0.015*\"provide\" + 0.015*\"useless\" + 0.015*\"lack\"'),\n",
       " (10,\n",
       "  '0.072*\"bank\" + 0.066*\"account\" + 0.060*\"money\" + 0.029*\"payee\" + 0.029*\"name\" + 0.028*\"transfer\" + 0.019*\"number\" + 0.019*\"need\" + 0.019*\"select\" + 0.019*\"type\"'),\n",
       " (11,\n",
       "  '0.039*\"sign\" + 0.030*\"interest\" + 0.030*\"function\" + 0.030*\"please\" + 0.020*\"rate\" + 0.020*\"bank\" + 0.020*\"store\" + 0.020*\"launch\" + 0.020*\"payee\" + 0.020*\"account\"')]"
      ]
     },
     "execution_count": 59,
     "metadata": {},
     "output_type": "execute_result"
    }
   ],
   "source": [
    "ldamodel.print_topics()\n",
    "\n",
    "# We have printed all 12 topics and their keywords generated by LDA"
   ]
  },
  {
   "attachments": {},
   "cell_type": "markdown",
   "metadata": {},
   "source": [
    "### Visualizing LDA model topics"
   ]
  },
  {
   "cell_type": "code",
   "execution_count": 60,
   "metadata": {},
   "outputs": [
    {
     "data": {
      "text/html": [
       "\n",
       "<link rel=\"stylesheet\" type=\"text/css\" href=\"https://cdn.jsdelivr.net/gh/bmabey/pyLDAvis@3.4.0/pyLDAvis/js/ldavis.v1.0.0.css\">\n",
       "\n",
       "\n",
       "<div id=\"ldavis_el14864109127113924166409539\" style=\"background-color:white;\"></div>\n",
       "<script type=\"text/javascript\">\n",
       "\n",
       "var ldavis_el14864109127113924166409539_data = {\"mdsDat\": {\"x\": [0.10159059129277036, 0.10409264824651594, -0.1377183107008571, 0.12315258557517679, 0.08100376969607036, -0.0801634400700923, -0.04333783219982338, -0.1167485531015972, 0.010449304830643408, -0.01233084901054989, -0.010475743165622069, -0.019514171392635643], \"y\": [0.09324041490488374, -0.032473202588640435, 0.16534322044660954, 0.06067965494008834, 0.028749675279396623, -0.06005962350207618, -0.05624021744332128, 0.03387479348388032, -0.008978865238734325, -0.045481176259065545, -0.04131307368516163, -0.13734160033785922], \"topics\": [1, 2, 3, 4, 5, 6, 7, 8, 9, 10, 11, 12], \"cluster\": [1, 1, 1, 1, 1, 1, 1, 1, 1, 1, 1, 1], \"Freq\": [21.22097216549869, 13.000832983508348, 10.697921806203686, 9.242775471275086, 8.601843857065457, 6.456987204403817, 6.142662889206188, 6.039286037476414, 5.6564026142682655, 5.121168237640641, 4.702900107090582, 3.116246626362822]}, \"tinfo\": {\"Term\": [\"pocket\", \"interest\", \"wait\", \"account\", \"rate\", \"user\", \"money\", \"love\", \"experience\", \"fast\", \"something\", \"write\", \"sign\", \"bank\", \"borrow\", \"digital\", \"loan\", \"design\", \"interface\", \"offer\", \"payee\", \"please\", \"review\", \"amount\", \"phone\", \"feature\", \"navigate\", \"problem\", \"service\", \"increase\", \"consumer\", \"decrease\", \"point\", \"joke\", \"review\", \"apple\", \"audience\", \"awesome\", \"batch\", \"group\", \"institution\", \"reviewer\", \"ummmm\", \"accept\", \"ton\", \"debit\", \"everyone\", \"proposition\", \"okayyyy\", \"fake\", \"proceed\", \"invite\", \"value\", \"processing\", \"mind\", \"buggy\", \"paperwork\", \"fluid\", \"reward\", \"download\", \"increase\", \"account\", \"application\", \"nothing\", \"banking\", \"sign\", \"rate\", \"bank\", \"interest\", \"number\", \"grab\", \"payee\", \"please\", \"fast\", \"time\", \"wait\", \"want\", \"user\", \"money\", \"feature\", \"look\", \"transfer\", \"repayment\", \"cash\", \"merchant\", \"payment\", \"trust\", \"banner\", \"june\", \"officer\", \"today\", \"everything\", \"perfect\", \"saver\", \"anyone\", \"compare\", \"register\", \"slot\", \"topup\", \"link\", \"draw\", \"minimum\", \"immediate\", \"disbursement\", \"home\", \"read\", \"create\", \"inconvenience\", \"paynow\", \"uiux\", \"choice\", \"borrowing\", \"help\", \"code\", \"apps\", \"thing\", \"amount\", \"advice\", \"singapore\", \"ease\", \"transfer\", \"money\", \"bank\", \"time\", \"grab\", \"account\", \"banking\", \"interest\", \"fast\", \"singpass\", \"service\", \"customer\", \"issue\", \"excuse\", \"love\", \"pocket\", \"goal\", \"worth\", \"portion\", \"period\", \"straight\", \"promise\", \"script\", \"intern\", \"term\", \"limit\", \"helpful\", \"move\", \"interest\", \"excellent\", \"interface\", \"convenient\", \"market\", \"build\", \"rate\", \"change\", \"notice\", \"feature\", \"stay\", \"month\", \"touch\", \"provide\", \"super\", \"wait\", \"user\", \"money\", \"time\", \"bank\", \"experience\", \"design\", \"transfer\", \"name\", \"select\", \"type\", \"everytime\", \"frustration\", \"list\", \"bother\", \"cancel\", \"client\", \"didnt\", \"god\", \"inform\", \"opening\", \"switch\", \"credit\", \"lengthy\", \"smoother\", \"lot\", \"turn\", \"track\", \"slick\", \"button\", \"eye\", \"effort\", \"colour\", \"moreover\", \"found\", \"access\", \"everyday\", \"product\", \"payee\", \"money\", \"account\", \"bank\", \"transfer\", \"need\", \"number\", \"feature\", \"time\", \"card\", \"mistake\", \"application\", \"fund\", \"sign\", \"function\", \"include\", \"maribank\", \"troublesome\", \"beta\", \"bode\", \"heard\", \"info\", \"mundane\", \"proper\", \"spend\", \"testflight\", \"respond\", \"doesnt\", \"seem\", \"cant\", \"tune\", \"screen\", \"purpose\", \"lead\", \"generator\", \"sick\", \"cheap\", \"buzz\", \"news\", \"receive\", \"stop\", \"fill\", \"advertising\", \"update\", \"store\", \"sign\", \"please\", \"launch\", \"offer\", \"payee\", \"interest\", \"rate\", \"account\", \"bank\", \"look\", \"transfer\", \"year\", \"response\", \"build\", \"stay\", \"feel\", \"join\", \"asap\", \"differ\", \"digibank\", \"focus\", \"mobile\", \"player\", \"devs\", \"feedback\", \"ipad\", \"login\", \"safety\", \"workaround\", \"integration\", \"sleek\", \"responsive\", \"load\", \"comprehensive\", \"speed\", \"understand\", \"meet\", \"interface\", \"unique\", \"start\", \"market\", \"convenient\", \"product\", \"generate\", \"rating\", \"quick\", \"transaction\", \"wait\", \"bank\", \"offer\", \"digital\", \"fast\", \"experience\", \"code\", \"singpass\", \"design\", \"feature\", \"simple\", \"banking\", \"customer\", \"change\", \"time\", \"please\", \"information\", \"something\", \"bait\", \"company\", \"method\", \"honest\", \"week\", \"roll\", \"recovery\", \"baffling\", \"income\", \"process\", \"incorrect\", \"mean\", \"anytime\", \"moolah\", \"brighter\", \"color\", \"attempt\", \"notification\", \"dark\", \"transparent\", \"feel\", \"emergency\", \"correct\", \"whenever\", \"drop\", \"theme\", \"singpass\", \"update\", \"user\", \"interest\", \"rate\", \"look\", \"service\", \"need\", \"deposit\", \"ease\", \"issue\", \"device\", \"grow\", \"abrupt\", \"clarity\", \"consistent\", \"disruption\", \"profit\", \"explanation\", \"cripple\", \"explore\", \"debtor\", \"board\", \"fair\", \"dumb\", \"forget\", \"growth\", \"hope\", \"person\", \"transparent\", \"design\", \"unique\", \"everyday\", \"navigate\", \"star\", \"user\", \"service\", \"lack\", \"goal\", \"loan\", \"experience\", \"pocket\", \"money\", \"time\", \"transfer\", \"continue\", \"return\", \"worry\", \"thank\", \"transparency\", \"le\", \"recommend\", \"security\", \"straightforward\", \"kenna\", \"communication\", \"bug\", \"future\", \"seamless\", \"digital\", \"start\", \"access\", \"singtel\", \"offer\", \"experience\", \"fund\", \"month\", \"super\", \"deposit\", \"issue\", \"simple\", \"service\", \"grab\", \"fast\", \"banking\", \"bank\", \"interest\", \"account\", \"time\", \"feature\", \"competitor\", \"swift\", \"think\", \"pure\", \"brilliant\", \"opinion\", \"prefer\", \"timer\", \"recommendation\", \"giant\", \"show\", \"amount\", \"useless\", \"excellent\", \"improvement\", \"breeze\", \"work\", \"fast\", \"lack\", \"stay\", \"staff\", \"transaction\", \"touch\", \"provide\", \"singapore\", \"experience\", \"digital\", \"launch\", \"increase\", \"joke\", \"bank\", \"feature\", \"design\", \"risk\", \"morning\", \"bill\", \"hurray\", \"earn\", \"benefit\", \"end\", \"someway\", \"soooo\", \"age\", \"optimise\", \"problem\", \"write\", \"phone\", \"dark\", \"wait\", \"case\", \"told\", \"staff\", \"help\", \"advice\", \"navigate\", \"increase\", \"grab\", \"review\", \"please\", \"rate\", \"instruction\", \"clean\", \"plat\", \"account\", \"pocket\", \"bank\", \"borrow\", \"family\", \"friend\", \"member\", \"millionaire\", \"sent\", \"text\", \"tell\", \"flexi\", \"approval\", \"plat\", \"form\", \"instruction\", \"clean\", \"response\", \"hassle\", \"loan\", \"email\", \"quick\", \"fast\", \"optimise\", \"age\", \"benefit\", \"end\", \"someway\", \"soooo\", \"morning\", \"bill\", \"hurray\", \"earn\", \"quality\", \"reversal\", \"reply\", \"developer\", \"medium\", \"detail\", \"development\", \"kind\", \"review\", \"life\", \"staff\", \"bank\", \"touch\", \"time\", \"money\", \"transfer\", \"payee\"], \"Freq\": [11.0, 24.0, 9.0, 25.0, 17.0, 10.0, 13.0, 5.0, 7.0, 6.0, 3.0, 3.0, 7.0, 30.0, 2.0, 3.0, 3.0, 5.0, 4.0, 4.0, 5.0, 6.0, 5.0, 3.0, 3.0, 7.0, 4.0, 2.0, 4.0, 4.0, 3.422302482175873, 1.7460718545841936, 1.7460718545841936, 3.416847669049934, 3.4183529068707297, 0.9079752893021359, 0.9079752893021359, 0.9079752893021359, 0.9079752893021359, 0.9079752893021359, 0.9079752893021359, 0.9079752893021359, 0.9079752893021359, 0.9079752893021359, 0.9079752056034137, 0.9079752056034137, 0.9079752056034137, 0.9079752056034137, 0.9079752056034137, 0.9079752056034137, 0.9079752056034137, 0.9079752056034137, 0.9079752056034137, 0.9079752056034137, 0.9079752056034137, 0.9079752056034137, 0.9079752056034137, 0.9079752056034137, 0.9079752056034137, 0.9079752056034137, 2.584174948366586, 13.475480889125636, 1.7461058362654236, 1.7425087999783624, 3.4206619872199346, 3.422361406076331, 6.777180621662684, 9.283680812224707, 7.619766284213457, 2.5818993475062775, 1.7460815636359737, 1.74433259513601, 1.744033455902718, 1.74234592226488, 1.7440610764810578, 0.9108035528254068, 0.9101220778289145, 0.9098704794698558, 0.9090272985419925, 0.908504683720315, 0.9081965050250209, 0.9080028261817534, 3.1511439609194136, 1.6093776360511984, 1.609371790444624, 1.6093704572361072, 2.381879570011122, 0.8368764199727837, 0.8368764199727837, 0.8368764199727837, 0.8368764199727837, 0.8368764199727837, 0.8368764199727837, 0.8368764199727837, 0.8368763686955332, 0.8368763686955332, 0.8368763686955332, 0.8368763686955332, 0.8368763686955332, 0.8368763686955332, 0.8368763686955332, 0.8368763686955332, 0.8368763686955332, 0.8368762661410318, 0.8368762661410318, 0.8368731382287421, 0.8368725741789849, 0.8368722152382303, 0.836870933306964, 0.836863292996617, 0.8353848673058341, 0.8349910067435801, 1.6093776360511984, 1.6093684061460811, 1.6093776360511984, 1.6093773283876944, 1.6093776360511984, 1.6093752772976684, 1.6093782513782062, 1.6093791743687178, 2.3818799802291273, 3.1522722655427486, 4.715567959423988, 2.379962621272768, 1.6093776360511984, 3.1543807860895368, 1.6093730210986397, 1.6093649192930368, 0.8530505467595216, 0.8368776506267994, 0.8368773429632955, 0.836876830190789, 0.8368765225272851, 0.8368764199727837, 4.9347164050969425, 9.189567118986654, 1.9891094942966858, 0.7642077192283704, 0.7642076348399287, 0.7642076348399287, 0.7642076348399287, 0.7642076348399287, 0.7642076348399287, 0.7642076348399287, 0.764207550451487, 0.764207550451487, 0.764207550451487, 1.469630112439793, 10.583813374041712, 0.7642072128977204, 1.5479213204167372, 0.7642071285092787, 0.7642060314595371, 0.7642072972861621, 6.395746660223635, 1.4696297748860263, 0.7642072128977204, 2.4687811604518104, 0.7642069597323954, 0.7642072128977204, 0.7642043436907038, 0.7642055251288871, 0.7642071285092787, 2.404681387932627, 2.2557838898073177, 2.6259524389516304, 1.4713840418113389, 2.463597516034154, 0.8564513745962828, 0.8157655971590001, 0.8345055696224535, 2.253259808284914, 1.522472851317894, 1.522472851317894, 0.7916859672606815, 0.7916859672606815, 0.7916859672606815, 0.7916859672606815, 0.7916859672606815, 0.7916859672606815, 0.7916859672606815, 0.7916859672606815, 0.7916859672606815, 0.7916859672606815, 0.7916858214410667, 0.7916858214410667, 0.7916858214410667, 0.7891928163959957, 0.788912915645315, 0.7888031863851497, 0.7887283080129306, 0.7886652410295133, 0.7886310463298339, 0.7885550743105035, 0.7885168695714161, 0.7885545639418516, 0.7883956205616787, 0.7881280415684516, 0.791684654884148, 0.7882602270493019, 0.7886042155207038, 2.253262578857596, 4.706137336827145, 5.180156075172009, 5.609119468924353, 2.177596343259524, 1.5224746011532722, 1.52451461756485, 1.1859275963357796, 0.791686404719526, 0.7916861859901038, 0.7916861859901038, 0.7916861859901038, 0.7916859672606815, 0.7916858214410667, 2.1710685327591737, 0.7628079435525092, 0.7628079435525092, 0.7628079435525092, 0.7628079435525092, 0.7628079435525092, 0.7628079435525092, 0.7628079435525092, 0.7628079435525092, 0.7628079435525092, 0.7628079435525092, 0.7628079435525092, 0.7628078756985641, 0.7628078756985641, 0.7628078756985641, 0.7628078756985641, 0.7628078756985641, 0.7628078756985641, 0.7628078756985641, 0.7628078078446191, 0.7628078078446191, 0.7628078078446191, 0.7628078078446191, 0.7614326119400104, 0.7613064714561368, 0.7613001610392459, 0.7612473028160411, 0.7611029096209453, 0.7610384483731347, 1.4654214310678846, 1.4669400023584132, 2.843770508503622, 2.1540390924586146, 1.4669393238189625, 1.4633555498564712, 1.46693660966116, 2.1787703626475885, 1.4728519808839344, 1.4669258887378398, 1.467722222637109, 0.7640284324623723, 0.7639124022163132, 0.7628084863840697, 0.7628084863840697, 0.7628082828222346, 0.7628081471143444, 0.7628079435525092, 0.7628079435525092, 0.711359370095184, 0.711359370095184, 0.711359370095184, 0.711359370095184, 0.711359370095184, 0.711359370095184, 0.711359370095184, 0.711359370095184, 0.711359370095184, 0.711359370095184, 0.711359370095184, 0.711359370095184, 0.711359370095184, 0.7113592682258494, 0.7113592682258494, 0.7113592682258494, 0.7113592682258494, 0.7113592682258494, 0.7113592172911821, 0.7113574855124938, 1.8841470969081846, 0.7113584023365053, 0.7113592682258494, 0.7113607453312012, 0.7113597266378551, 0.711359370095184, 0.7113599813111916, 0.7113596757031878, 0.7113598285071897, 0.7113591154218475, 1.8006969604322067, 1.3712650486283162, 0.7127129079440738, 0.7127119911200623, 0.7125484399033548, 0.7121340863848511, 0.7113670102952794, 0.711361560285878, 0.7113607453312012, 0.7113605925271993, 0.71136038878853, 0.7113602869191954, 0.7113601341151935, 0.7113599813111916, 0.7113596757031878, 0.7113595738338532, 1.329711854966401, 2.5928676100490526, 0.691450214975918, 0.691450214975918, 0.691450214975918, 0.691450214975918, 0.691450214975918, 0.691450214975918, 0.691450214975918, 0.691450214975918, 0.6914501180655538, 0.6914501180655538, 0.6914501180655538, 0.6914501180655538, 0.6914501180655538, 0.6914501180655538, 0.6914501180655538, 0.6914501180655538, 0.6914501180655538, 0.6914500696103717, 0.6914498273344614, 0.6914502634311, 0.691450214975918, 0.6914503603414641, 0.6914502634311, 0.6914500696103717, 0.6914677072966451, 0.6914503603414641, 1.3297185417815267, 0.6914471622994476, 2.6118934403783824, 0.6915720313036413, 0.6915320557784338, 0.6914522016383828, 0.6914515717210159, 0.6914510387140131, 0.6914506026173745, 0.6914505057070104, 0.6914503603414641, 1.2978256765444443, 1.2923121418603059, 0.6748694318378309, 0.6748694318378309, 0.6748694318378309, 0.6748694318378309, 0.6748694318378309, 0.6748694318378309, 0.6748694318378309, 0.6748694318378309, 0.6748694318378309, 0.6748694318378309, 0.6748694318378309, 0.6748694318378309, 0.6748694318378309, 0.6748693365584024, 0.6748693365584024, 0.6748693365584024, 0.6748692412789741, 1.8697375872275641, 0.6748684314038326, 0.6748690983598314, 1.2978292018832958, 0.674870146433544, 3.0746178002346602, 1.2978312027512924, 0.6748706704704003, 0.6748686696024035, 0.6748696223966877, 1.2108449910642118, 1.2978179589107426, 1.2923062345357441, 0.6748700035144014, 0.6748694318378309, 0.6786466518176447, 0.6786466518176447, 0.6786466518176447, 0.6786466518176447, 0.6786466071982307, 0.6786466071982307, 0.6786466071982307, 0.6786466071982307, 0.6786466071982307, 0.6786466071982307, 0.6786466071982307, 0.6786465179594027, 0.6770756022505995, 0.6769342925664521, 1.9302440597414097, 0.6786466071982307, 0.6786477226835808, 0.6786474103476827, 1.303798641992968, 1.9308000176398867, 1.3050905525060104, 0.6786469641535428, 0.6774649066377756, 0.6786470980117847, 0.6786466518176447, 0.6786470533923707, 0.6775067596481104, 0.6786464287205747, 0.6775115785448227, 0.6786474103476827, 1.9284219813511836, 1.3050892139235903, 1.3050879645799982, 0.6786468749147148, 0.6786460717652627, 1.2464451133183743, 0.648151421760017, 0.648151421760017, 0.648151421760017, 0.648151421760017, 0.648151421760017, 0.648151421760017, 0.648151421760017, 0.648151421760017, 0.648151421760017, 0.6481513409653702, 1.2464447901397868, 0.6481525124877493, 0.6481517853359278, 0.6481515025546639, 0.648151421760017, 0.648151421760017, 1.8322144630956918, 0.6481523508984556, 0.6481519469252215, 0.6481517045412809, 0.6481515025546639, 0.6481534820235112, 0.6481531588449239, 0.6481513409653702, 1.2464493954346563, 0.6481495634831399, 0.6481515025546639, 0.6481507754028424, 0.6481513409653702, 1.8322028286665484, 0.6606813787690112, 0.6481522297064853, 0.6393036976520083, 0.6393036234562125, 0.6393036234562125, 0.6393036234562125, 0.6393036234562125, 0.6393036234562125, 0.6393036234562125, 0.6393036234562125, 0.6393036234562125, 0.6393035492604167, 0.6393035492604167, 1.2294302734028575, 1.819566568802967, 1.2294315347313876, 0.6393039944351919, 2.999821204220583, 0.6393036976520083, 0.6393044396099672, 0.6393038460436001, 0.6393034750646207, 0.6393036976520083, 0.639303326673029, 0.6393036234562125, 0.6393042912183754, 0.6393034750646207, 0.6393034750646207, 1.2294315347313876, 0.04917721928314134, 0.04917721928314134, 0.0491772146459041, 0.6393004330369897, 0.04917728884169997, 0.049177274929988246, 1.519634691766936, 0.5339257038414584, 0.5339257038414584, 0.5339257038414584, 0.5339257038414584, 0.5339257038414584, 0.5339257038414584, 0.5339257038414584, 0.5339257038414584, 0.5339257038414584, 0.5339256055138761, 0.5339256055138761, 0.5339256055138761, 0.5339256055138761, 0.533925212203547, 0.5339263429707432, 1.0267850896014155, 0.53392663795349, 0.5339254088587116, 0.5361353212703159, 0.04107121909693037, 0.04107121602419343, 0.04107121602419343, 0.04107121602419343, 0.04107121602419343, 0.04107121602419343, 0.04107120987871954, 0.04107120987871954, 0.04107120987871954, 0.04107120987871954, 0.042386562528692155, 0.04228648655909602, 0.04209094372532283, 0.042074234181810166, 0.041994837731860996, 0.04191630779373061, 0.04187281320225917, 0.04185349490507931, 0.0434328724771419, 0.04201260736962004, 0.04221135506802797, 0.04325846392808369, 0.04216692943726188, 0.042272210623244634, 0.042223384833171784, 0.04219565338223362, 0.042113405432398505], \"Total\": [11.0, 24.0, 9.0, 25.0, 17.0, 10.0, 13.0, 5.0, 7.0, 6.0, 3.0, 3.0, 7.0, 30.0, 2.0, 3.0, 3.0, 5.0, 4.0, 4.0, 5.0, 6.0, 5.0, 3.0, 3.0, 7.0, 4.0, 2.0, 4.0, 4.0, 4.0172207358844725, 2.3409658870574663, 2.3409659112850574, 4.614440075236525, 5.204002490548571, 1.5028433376840238, 1.5028433376840238, 1.5028433376840238, 1.5028433376840238, 1.5028433376840238, 1.5028433376840238, 1.5028433376840238, 1.5028433480079668, 1.50284338163302, 1.502843265405053, 1.5028432660857398, 1.5028432752798402, 1.5028432868751977, 1.502843294046185, 1.5028432957881972, 1.5028432976734123, 1.502843299422396, 1.5028433050613685, 1.5028433050613685, 1.5028433081985713, 1.5028433092058033, 1.5028433096986058, 1.502843314255469, 1.5028433184963406, 1.5028433279359108, 4.367510351567832, 25.531005281844823, 3.0717612127717433, 3.1130146738817666, 6.8446172163726375, 7.564601674575887, 17.544114238912357, 30.13031554862501, 24.96330773615433, 6.117010858361056, 5.102540329066026, 5.940865669891703, 6.472398214244913, 6.686446832289721, 10.04753242022478, 9.179956704786258, 2.233862922282294, 10.582437496194997, 13.05399554879123, 7.572038057573779, 3.5760042382947472, 8.042109297383835, 3.754436212359169, 2.209714891615268, 2.209713996279063, 2.2097137884888487, 3.820044427520143, 1.4372136164451725, 1.4372136164451725, 1.4372136164451725, 1.4372136164451725, 1.4372136164451725, 1.4372136164451725, 1.4372136164451725, 1.437213565167922, 1.437213565167922, 1.437213565167922, 1.437213565167922, 1.4372135712248197, 1.4372136014323575, 1.4372136242596032, 1.4372136242596032, 1.4372136242596032, 1.4372135657121836, 1.4372135717690813, 1.437213110640499, 1.4372130050027476, 1.4372129622777015, 1.4372127376371477, 1.4372124948348894, 1.4370840980255601, 1.4370498073226998, 2.7998411520339848, 2.866352718500621, 2.9138494618891544, 3.0478409998857856, 3.406301886204582, 3.637721628543423, 3.6458767577354987, 3.686107303064066, 8.042109297383835, 13.05399554879123, 30.13031554862501, 10.04753242022478, 5.102540329066026, 25.531005281844823, 6.8446172163726375, 24.96330773615433, 6.686446832289721, 4.208504511397894, 4.678671406704333, 2.9319836206217382, 3.5393634898971533, 2.2753407755813404, 5.596995852286836, 11.080447859917198, 3.3952930972624107, 1.370134873694503, 1.3701347407198279, 1.370134749416432, 1.370134752813764, 1.3701347564437691, 1.3701347957157175, 1.3701347987456316, 1.370134718914053, 1.370134728284964, 1.370134805409058, 2.7796876039179725, 24.96330773615433, 1.9684283463407108, 4.058758301917387, 2.026774192281272, 2.026774050461213, 2.0742651958880125, 17.544114238912357, 4.142959507058312, 2.2082618325235543, 7.572038057573779, 2.672558883360301, 2.769079048567143, 2.805791808463117, 2.806559053769293, 2.8347656791115803, 9.179956704786258, 10.582437496194997, 13.05399554879123, 10.04753242022478, 30.13031554862501, 7.197687903009393, 5.338230438432994, 8.042109297383835, 2.85707319840009, 2.1262862363834043, 2.1262862363834043, 1.3954993523261923, 1.3954993523261923, 1.3954993523261923, 1.3954993523261923, 1.3954993523261923, 1.3954993523261923, 1.3954993523261923, 1.3954993523261923, 1.3954993523261923, 1.3954993523261923, 1.3954992555067918, 1.395499267451052, 1.395499267451052, 1.3956718458842325, 1.3957040012090818, 1.3956855091836673, 1.3957278046714807, 1.3957130767250756, 1.3956832542438793, 1.3957281351917243, 1.3956716208738358, 1.3957834860812022, 1.395783751304575, 1.3957485688322546, 2.021942312188094, 2.018653031957376, 2.0523499027271384, 5.940865669891703, 13.05399554879123, 25.531005281844823, 30.13031554862501, 8.042109297383835, 4.997406619919466, 6.117010858361056, 7.572038057573779, 10.04753242022478, 2.233630330485805, 2.1680002506378253, 3.0717612127717433, 4.963143190136137, 7.564601674575887, 2.7771034082167643, 1.3688427133287775, 1.3688427133287775, 1.3688427133287775, 1.3688427133287775, 1.3688427133287775, 1.3688427133287775, 1.3688427133287775, 1.3688427133287775, 1.3688427133287775, 1.3688427133287775, 1.3688427133287775, 1.36884265074911, 1.3688426568060077, 1.368842662353493, 1.368842673319071, 1.368842677376752, 1.368842679451464, 1.3688427067352984, 1.3688426388813535, 1.3688426452910099, 1.3688426591295209, 1.3688427166430646, 1.3688451812547726, 1.368845465205067, 1.3688454470013576, 1.3688455899937955, 1.3688457805706582, 1.368845950320607, 2.7112378115680253, 2.9111036951462115, 7.564601674575887, 6.472398214244913, 4.281628232711889, 4.6208292505172475, 5.940865669891703, 24.96330773615433, 17.544114238912357, 25.531005281844823, 30.13031554862501, 3.5760042382947472, 8.042109297383835, 2.141344007907399, 1.8616974064572478, 2.0742651958880125, 2.672558883360301, 2.007104500158915, 2.206973626107229, 1.3213517271791215, 1.3213517271791215, 1.3213517271791215, 1.3213517271791215, 1.3213517271791215, 1.3213517271791215, 1.3213517271791215, 1.3213517271791215, 1.3213517271791215, 1.3213517271791215, 1.3213517271791215, 1.3213517271791215, 1.3213517332360192, 1.3213516305840645, 1.3213516733377275, 1.3213516733377275, 1.3213516844442907, 1.3213516844442907, 1.3213516951488171, 1.3213518314789592, 4.058758301917387, 1.9443082201502144, 1.947794698321803, 2.026774050461213, 2.026774192281272, 2.0523499027271384, 2.159482588773351, 2.1594827800834033, 2.5867074809201354, 2.692146543084261, 9.179956704786258, 30.13031554862501, 4.6208292505172475, 3.799036709457757, 6.686446832289721, 7.197687903009393, 2.866352718500621, 4.208504511397894, 5.338230438432994, 7.572038057573779, 3.5581353181672513, 6.8446172163726375, 2.9319836206217382, 4.142959507058312, 10.04753242022478, 6.472398214244913, 1.9412357405576832, 3.9916672751713183, 1.3029740411227604, 1.3029740411227604, 1.3029740411227604, 1.302974051509106, 1.3029740728475019, 1.3029740804939518, 1.3029740829283019, 1.3029740853216987, 1.3029739442123962, 1.3029739505792295, 1.3029739586679319, 1.3029739984256659, 1.302974003656836, 1.302974003656836, 1.302974003656836, 1.302974003656836, 1.302974003656836, 1.3029739937479208, 1.8931004927150314, 1.9259303460892814, 2.007104500158915, 2.0753216965182912, 2.075474550519223, 2.075475261015257, 2.1410995621216022, 2.14110502306752, 4.208504511397894, 2.7112378115680253, 10.582437496194997, 24.96330773615433, 17.544114238912357, 3.5760042382947472, 4.678671406704333, 4.997406619919466, 3.3171464949771883, 3.686107303064066, 3.5393634898971533, 1.910624964018765, 1.9109231873492185, 1.2876686978026333, 1.2876686978026333, 1.2876686978026333, 1.2876686978026333, 1.2876686978026333, 1.2876687039481072, 1.2876687176472614, 1.2876687349709375, 1.2876687509393503, 1.2876687527921435, 1.2876687573490064, 1.2876687573490064, 1.2876687573490064, 1.287668662069578, 1.2876686684364114, 1.287668680023121, 1.9259303460892814, 5.338230438432994, 1.9443082201502144, 2.018653031957376, 4.044303773660514, 2.125799579489715, 10.582437496194997, 4.678671406704333, 2.590092488151948, 3.3952930972624107, 3.751298843417716, 7.197687903009393, 11.080447859917198, 13.05399554879123, 10.04753242022478, 8.042109297383835, 1.291155368296266, 1.291155368296266, 1.291155368296266, 1.291155412872742, 1.2911553608961959, 1.2911553659458614, 1.2911553836007628, 1.2911553836007628, 1.2911553836007628, 1.2911553836007628, 1.2911553836007628, 1.2911553067252086, 1.291231079076109, 1.291237839288434, 3.799036709457757, 1.947794698321803, 2.021942312188094, 2.1292860584439857, 4.6208292505172475, 7.197687903009393, 4.963143190136137, 2.769079048567143, 2.8347656791115803, 3.3171464949771883, 3.5393634898971533, 3.5581353181672513, 4.678671406704333, 5.102540329066026, 6.686446832289721, 6.8446172163726375, 30.13031554862501, 24.96330773615433, 25.531005281844823, 10.04753242022478, 7.572038057573779, 1.8612996720453179, 1.2630059200352888, 1.263005930547116, 1.263005930729424, 1.2630059684998778, 1.2630059804869607, 1.2630059804869607, 1.2630059804869607, 1.2630059878005693, 1.263006012130769, 1.263005899692314, 3.406301886204582, 1.9671363232068186, 1.9684283463407108, 2.03550731581796, 2.035507207084, 2.035507235023313, 6.686446832289721, 2.590092488151948, 2.672558883360301, 2.690464678847632, 2.692146543084261, 2.805791808463117, 2.806559053769293, 3.6458767577354987, 7.197687903009393, 3.799036709457757, 4.281628232711889, 4.367510351567832, 4.614440075236525, 30.13031554862501, 7.572038057573779, 5.338230438432994, 1.254838802869884, 1.2548387176694586, 1.254838724079115, 1.2548387264671932, 1.2548387550547322, 1.2548387605324007, 1.2548387631861238, 1.254838772956132, 1.2548387785335586, 1.2548387141689035, 1.2548387392655598, 2.6174664041151923, 3.978642227419808, 3.386965472082893, 1.8931004927150314, 9.179956704786258, 2.0929640206051388, 2.092969534834865, 2.690464678847632, 2.7998411520339848, 3.637721628543423, 4.044303773660514, 4.367510351567832, 5.102540329066026, 5.204002490548571, 6.472398214244913, 17.544114238912357, 1.1575668080569692, 1.1575668224449727, 1.157566775410907, 25.531005281844823, 11.080447859917198, 30.13031554862501, 2.143275845465993, 1.1575667981846518, 1.1575667981846518, 1.1575667981846518, 1.1575667981846518, 1.1575667981846518, 1.1575667981846518, 1.1575668089932485, 1.157566814463, 1.157566862814793, 1.157566775410907, 1.157566776431186, 1.1575668080569692, 1.1575668224449727, 1.8616974064572478, 1.9300678132268252, 3.751298843417716, 1.9956973970052094, 2.5867074809201354, 6.686446832289721, 1.2548387392655598, 1.2548387141689035, 1.2548387605324007, 1.2548387631861238, 1.254838772956132, 1.2548387785335586, 1.2548387176694586, 1.254838724079115, 1.2548387264671932, 1.2548387550547322, 1.5019218419820857, 1.501991925514807, 1.5021289177045003, 1.5021405820278275, 1.5021962753155766, 1.502251328538144, 1.50228165621969, 1.502295231520351, 5.204002490548571, 2.27468505467693, 2.690464678847632, 30.13031554862501, 2.805791808463117, 10.04753242022478, 13.05399554879123, 8.042109297383835, 5.940865669891703], \"Category\": [\"Default\", \"Default\", \"Default\", \"Default\", \"Default\", \"Default\", \"Default\", \"Default\", \"Default\", \"Default\", \"Default\", \"Default\", \"Default\", \"Default\", \"Default\", \"Default\", \"Default\", \"Default\", \"Default\", \"Default\", \"Default\", \"Default\", \"Default\", \"Default\", \"Default\", \"Default\", \"Default\", \"Default\", \"Default\", \"Default\", \"Topic1\", \"Topic1\", \"Topic1\", \"Topic1\", \"Topic1\", \"Topic1\", \"Topic1\", \"Topic1\", \"Topic1\", \"Topic1\", \"Topic1\", \"Topic1\", \"Topic1\", \"Topic1\", \"Topic1\", \"Topic1\", \"Topic1\", \"Topic1\", \"Topic1\", \"Topic1\", \"Topic1\", \"Topic1\", \"Topic1\", \"Topic1\", \"Topic1\", \"Topic1\", \"Topic1\", \"Topic1\", \"Topic1\", \"Topic1\", \"Topic1\", \"Topic1\", \"Topic1\", \"Topic1\", \"Topic1\", \"Topic1\", \"Topic1\", \"Topic1\", \"Topic1\", \"Topic1\", \"Topic1\", \"Topic1\", \"Topic1\", \"Topic1\", \"Topic1\", \"Topic1\", \"Topic1\", \"Topic1\", \"Topic1\", \"Topic1\", \"Topic1\", \"Topic1\", \"Topic2\", \"Topic2\", \"Topic2\", \"Topic2\", \"Topic2\", \"Topic2\", \"Topic2\", \"Topic2\", \"Topic2\", \"Topic2\", \"Topic2\", \"Topic2\", \"Topic2\", \"Topic2\", \"Topic2\", \"Topic2\", \"Topic2\", \"Topic2\", \"Topic2\", \"Topic2\", \"Topic2\", \"Topic2\", \"Topic2\", \"Topic2\", \"Topic2\", \"Topic2\", \"Topic2\", \"Topic2\", \"Topic2\", \"Topic2\", \"Topic2\", \"Topic2\", \"Topic2\", \"Topic2\", \"Topic2\", \"Topic2\", \"Topic2\", \"Topic2\", \"Topic2\", \"Topic2\", \"Topic2\", \"Topic2\", \"Topic2\", \"Topic2\", \"Topic2\", \"Topic2\", \"Topic2\", \"Topic2\", \"Topic2\", \"Topic2\", \"Topic2\", \"Topic2\", \"Topic3\", \"Topic3\", \"Topic3\", \"Topic3\", \"Topic3\", \"Topic3\", \"Topic3\", \"Topic3\", \"Topic3\", \"Topic3\", \"Topic3\", \"Topic3\", \"Topic3\", \"Topic3\", \"Topic3\", \"Topic3\", \"Topic3\", \"Topic3\", \"Topic3\", \"Topic3\", \"Topic3\", \"Topic3\", \"Topic3\", \"Topic3\", \"Topic3\", \"Topic3\", \"Topic3\", \"Topic3\", \"Topic3\", \"Topic3\", \"Topic3\", \"Topic3\", \"Topic3\", \"Topic3\", \"Topic3\", \"Topic3\", \"Topic3\", \"Topic4\", \"Topic4\", \"Topic4\", \"Topic4\", \"Topic4\", \"Topic4\", \"Topic4\", \"Topic4\", \"Topic4\", \"Topic4\", \"Topic4\", \"Topic4\", \"Topic4\", \"Topic4\", \"Topic4\", \"Topic4\", \"Topic4\", \"Topic4\", \"Topic4\", \"Topic4\", \"Topic4\", \"Topic4\", \"Topic4\", \"Topic4\", \"Topic4\", \"Topic4\", \"Topic4\", \"Topic4\", \"Topic4\", \"Topic4\", \"Topic4\", \"Topic4\", \"Topic4\", \"Topic4\", \"Topic4\", \"Topic4\", \"Topic4\", \"Topic4\", \"Topic4\", \"Topic4\", \"Topic4\", \"Topic4\", \"Topic4\", \"Topic4\", \"Topic5\", \"Topic5\", \"Topic5\", \"Topic5\", \"Topic5\", \"Topic5\", \"Topic5\", \"Topic5\", \"Topic5\", \"Topic5\", \"Topic5\", \"Topic5\", \"Topic5\", \"Topic5\", \"Topic5\", \"Topic5\", \"Topic5\", \"Topic5\", \"Topic5\", \"Topic5\", \"Topic5\", \"Topic5\", \"Topic5\", \"Topic5\", \"Topic5\", \"Topic5\", \"Topic5\", \"Topic5\", \"Topic5\", \"Topic5\", \"Topic5\", \"Topic5\", \"Topic5\", \"Topic5\", \"Topic5\", \"Topic5\", \"Topic5\", \"Topic5\", \"Topic5\", \"Topic5\", \"Topic5\", \"Topic5\", \"Topic5\", \"Topic5\", \"Topic5\", \"Topic5\", \"Topic5\", \"Topic5\", \"Topic6\", \"Topic6\", \"Topic6\", \"Topic6\", \"Topic6\", \"Topic6\", \"Topic6\", \"Topic6\", \"Topic6\", \"Topic6\", \"Topic6\", \"Topic6\", \"Topic6\", \"Topic6\", \"Topic6\", \"Topic6\", \"Topic6\", \"Topic6\", \"Topic6\", \"Topic6\", \"Topic6\", \"Topic6\", \"Topic6\", \"Topic6\", \"Topic6\", \"Topic6\", \"Topic6\", \"Topic6\", \"Topic6\", \"Topic6\", \"Topic6\", \"Topic6\", \"Topic6\", \"Topic6\", \"Topic6\", \"Topic6\", \"Topic6\", \"Topic6\", \"Topic6\", \"Topic6\", \"Topic6\", \"Topic6\", \"Topic6\", \"Topic6\", \"Topic6\", \"Topic6\", \"Topic7\", \"Topic7\", \"Topic7\", \"Topic7\", \"Topic7\", \"Topic7\", \"Topic7\", \"Topic7\", \"Topic7\", \"Topic7\", \"Topic7\", \"Topic7\", \"Topic7\", \"Topic7\", \"Topic7\", \"Topic7\", \"Topic7\", \"Topic7\", \"Topic7\", \"Topic7\", \"Topic7\", \"Topic7\", \"Topic7\", \"Topic7\", \"Topic7\", \"Topic7\", \"Topic7\", \"Topic7\", \"Topic7\", \"Topic7\", \"Topic7\", \"Topic7\", \"Topic7\", \"Topic7\", \"Topic7\", \"Topic7\", \"Topic7\", \"Topic7\", \"Topic7\", \"Topic8\", \"Topic8\", \"Topic8\", \"Topic8\", \"Topic8\", \"Topic8\", \"Topic8\", \"Topic8\", \"Topic8\", \"Topic8\", \"Topic8\", \"Topic8\", \"Topic8\", \"Topic8\", \"Topic8\", \"Topic8\", \"Topic8\", \"Topic8\", \"Topic8\", \"Topic8\", \"Topic8\", \"Topic8\", \"Topic8\", \"Topic8\", \"Topic8\", \"Topic8\", \"Topic8\", \"Topic8\", \"Topic8\", \"Topic8\", \"Topic8\", \"Topic8\", \"Topic8\", \"Topic8\", \"Topic9\", \"Topic9\", \"Topic9\", \"Topic9\", \"Topic9\", \"Topic9\", \"Topic9\", \"Topic9\", \"Topic9\", \"Topic9\", \"Topic9\", \"Topic9\", \"Topic9\", \"Topic9\", \"Topic9\", \"Topic9\", \"Topic9\", \"Topic9\", \"Topic9\", \"Topic9\", \"Topic9\", \"Topic9\", \"Topic9\", \"Topic9\", \"Topic9\", \"Topic9\", \"Topic9\", \"Topic9\", \"Topic9\", \"Topic9\", \"Topic9\", \"Topic9\", \"Topic9\", \"Topic9\", \"Topic9\", \"Topic10\", \"Topic10\", \"Topic10\", \"Topic10\", \"Topic10\", \"Topic10\", \"Topic10\", \"Topic10\", \"Topic10\", \"Topic10\", \"Topic10\", \"Topic10\", \"Topic10\", \"Topic10\", \"Topic10\", \"Topic10\", \"Topic10\", \"Topic10\", \"Topic10\", \"Topic10\", \"Topic10\", \"Topic10\", \"Topic10\", \"Topic10\", \"Topic10\", \"Topic10\", \"Topic10\", \"Topic10\", \"Topic10\", \"Topic10\", \"Topic10\", \"Topic10\", \"Topic10\", \"Topic11\", \"Topic11\", \"Topic11\", \"Topic11\", \"Topic11\", \"Topic11\", \"Topic11\", \"Topic11\", \"Topic11\", \"Topic11\", \"Topic11\", \"Topic11\", \"Topic11\", \"Topic11\", \"Topic11\", \"Topic11\", \"Topic11\", \"Topic11\", \"Topic11\", \"Topic11\", \"Topic11\", \"Topic11\", \"Topic11\", \"Topic11\", \"Topic11\", \"Topic11\", \"Topic11\", \"Topic11\", \"Topic11\", \"Topic11\", \"Topic11\", \"Topic11\", \"Topic11\", \"Topic12\", \"Topic12\", \"Topic12\", \"Topic12\", \"Topic12\", \"Topic12\", \"Topic12\", \"Topic12\", \"Topic12\", \"Topic12\", \"Topic12\", \"Topic12\", \"Topic12\", \"Topic12\", \"Topic12\", \"Topic12\", \"Topic12\", \"Topic12\", \"Topic12\", \"Topic12\", \"Topic12\", \"Topic12\", \"Topic12\", \"Topic12\", \"Topic12\", \"Topic12\", \"Topic12\", \"Topic12\", \"Topic12\", \"Topic12\", \"Topic12\", \"Topic12\", \"Topic12\", \"Topic12\", \"Topic12\", \"Topic12\", \"Topic12\", \"Topic12\", \"Topic12\", \"Topic12\", \"Topic12\", \"Topic12\", \"Topic12\", \"Topic12\", \"Topic12\", \"Topic12\", \"Topic12\"], \"logprob\": [30.0, 29.0, 28.0, 27.0, 26.0, 25.0, 24.0, 23.0, 22.0, 21.0, 20.0, 19.0, 18.0, 17.0, 16.0, 15.0, 14.0, 13.0, 12.0, 11.0, 10.0, 9.0, 8.0, 7.0, 6.0, 5.0, 4.0, 3.0, 2.0, 1.0, -3.9612, -4.6342, -4.6342, -3.9628, -3.9624, -5.2881, -5.2881, -5.2881, -5.2881, -5.2881, -5.2881, -5.2881, -5.2881, -5.2881, -5.2881, -5.2881, -5.2881, -5.2881, -5.2881, -5.2881, -5.2881, -5.2881, -5.2881, -5.2881, -5.2881, -5.2881, -5.2881, -5.2881, -5.2881, -5.2881, -4.2421, -2.5906, -4.6341, -4.6362, -3.9617, -3.9612, -3.278, -2.9633, -3.1608, -4.243, -4.6341, -4.6351, -4.6353, -4.6363, -4.6353, -5.2849, -5.2857, -5.286, -5.2869, -5.2875, -5.2878, -5.288, -3.5538, -4.2257, -4.2257, -4.2257, -3.8337, -4.8796, -4.8796, -4.8796, -4.8796, -4.8796, -4.8796, -4.8796, -4.8796, -4.8796, -4.8796, -4.8796, -4.8796, -4.8796, -4.8796, -4.8796, -4.8796, -4.8796, -4.8796, -4.8796, -4.8796, -4.8796, -4.8796, -4.8796, -4.8814, -4.8819, -4.2257, -4.2257, -4.2257, -4.2257, -4.2257, -4.2257, -4.2257, -4.2257, -3.8337, -3.5534, -3.1507, -3.8345, -4.2257, -3.5528, -4.2257, -4.2257, -4.8605, -4.8796, -4.8796, -4.8796, -4.8796, -4.8796, -2.9103, -2.2885, -3.8189, -4.7755, -4.7755, -4.7755, -4.7755, -4.7755, -4.7755, -4.7755, -4.7755, -4.7755, -4.7755, -4.1216, -2.1473, -4.7755, -4.0697, -4.7755, -4.7755, -4.7755, -2.6509, -4.1216, -4.7755, -3.6029, -4.7755, -4.7755, -4.7755, -4.7755, -4.7755, -3.6292, -3.6931, -3.5411, -4.1204, -3.605, -4.6615, -4.7102, -4.6875, -3.548, -3.94, -3.94, -4.594, -4.594, -4.594, -4.594, -4.594, -4.594, -4.594, -4.594, -4.594, -4.594, -4.594, -4.594, -4.594, -4.5971, -4.5975, -4.5976, -4.5977, -4.5978, -4.5978, -4.5979, -4.598, -4.5979, -4.5981, -4.5985, -4.594, -4.5983, -4.5979, -3.548, -2.8115, -2.7155, -2.636, -3.5822, -3.94, -3.9387, -4.1898, -4.594, -4.594, -4.594, -4.594, -4.594, -4.594, -3.5133, -4.5593, -4.5593, -4.5593, -4.5593, -4.5593, -4.5593, -4.5593, -4.5593, -4.5593, -4.5593, -4.5593, -4.5593, -4.5593, -4.5593, -4.5593, -4.5593, -4.5593, -4.5593, -4.5593, -4.5593, -4.5593, -4.5593, -4.5611, -4.5612, -4.5612, -4.5613, -4.5615, -4.5616, -3.9064, -3.9053, -3.2434, -3.5212, -3.9053, -3.9078, -3.9053, -3.5097, -3.9013, -3.9053, -3.9048, -4.5577, -4.5578, -4.5593, -4.5593, -4.5593, -4.5593, -4.5593, -4.5593, -4.3423, -4.3423, -4.3423, -4.3423, -4.3423, -4.3423, -4.3423, -4.3423, -4.3423, -4.3423, -4.3423, -4.3423, -4.3423, -4.3423, -4.3423, -4.3423, -4.3423, -4.3423, -4.3423, -4.3423, -3.3682, -4.3423, -4.3423, -4.3423, -4.3423, -4.3423, -4.3423, -4.3423, -4.3423, -4.3423, -3.4135, -3.686, -4.3404, -4.3404, -4.3406, -4.3412, -4.3423, -4.3423, -4.3423, -4.3423, -4.3423, -4.3423, -4.3423, -4.3423, -4.3423, -4.3423, -3.6668, -2.999, -4.3208, -4.3208, -4.3208, -4.3208, -4.3208, -4.3208, -4.3208, -4.3208, -4.3208, -4.3208, -4.3208, -4.3208, -4.3208, -4.3208, -4.3208, -4.3208, -4.3208, -4.3208, -4.3208, -4.3208, -4.3208, -4.3208, -4.3208, -4.3208, -4.3207, -4.3208, -3.6668, -4.3208, -2.9917, -4.3206, -4.3206, -4.3208, -4.3208, -4.3208, -4.3208, -4.3208, -4.3208, -3.6741, -3.6784, -4.3281, -4.3281, -4.3281, -4.3281, -4.3281, -4.3281, -4.3281, -4.3281, -4.3281, -4.3281, -4.3281, -4.3281, -4.3281, -4.3281, -4.3281, -4.3281, -4.3281, -3.309, -4.3281, -4.3281, -3.6741, -4.3281, -2.8116, -3.6741, -4.3281, -4.3281, -4.3281, -3.7435, -3.6741, -3.6784, -4.3281, -4.3281, -4.257, -4.257, -4.257, -4.257, -4.257, -4.257, -4.257, -4.257, -4.257, -4.257, -4.257, -4.257, -4.2593, -4.2595, -3.2117, -4.257, -4.257, -4.257, -3.604, -3.2114, -3.603, -4.257, -4.2587, -4.257, -4.257, -4.257, -4.2587, -4.257, -4.2586, -4.257, -3.2126, -3.603, -3.603, -4.257, -4.257, -3.5496, -4.2035, -4.2035, -4.2035, -4.2035, -4.2035, -4.2035, -4.2035, -4.2035, -4.2035, -4.2035, -3.5496, -4.2035, -4.2035, -4.2035, -4.2035, -4.2035, -3.1644, -4.2035, -4.2035, -4.2035, -4.2035, -4.2035, -4.2035, -4.2035, -3.5496, -4.2035, -4.2035, -4.2035, -4.2035, -3.1644, -4.1844, -4.2035, -4.1321, -4.1321, -4.1321, -4.1321, -4.1321, -4.1321, -4.1321, -4.1321, -4.1321, -4.1321, -4.1321, -3.4782, -3.0861, -3.4782, -4.1321, -2.5862, -4.1321, -4.1321, -4.1321, -4.1321, -4.1321, -4.1321, -4.1321, -4.1321, -4.1321, -4.1321, -3.4782, -6.697, -6.697, -6.697, -4.1321, -6.697, -6.697, -2.8547, -3.9007, -3.9007, -3.9007, -3.9007, -3.9007, -3.9007, -3.9007, -3.9007, -3.9007, -3.9007, -3.9007, -3.9007, -3.9007, -3.9007, -3.9007, -3.2467, -3.9007, -3.9007, -3.8965, -6.4656, -6.4656, -6.4656, -6.4656, -6.4656, -6.4656, -6.4656, -6.4656, -6.4656, -6.4656, -6.4341, -6.4364, -6.4411, -6.4415, -6.4434, -6.4452, -6.4463, -6.4467, -6.4097, -6.4429, -6.4382, -6.4137, -6.4393, -6.4368, -6.4379, -6.4386, -6.4405], \"loglift\": [30.0, 29.0, 28.0, 27.0, 26.0, 25.0, 24.0, 23.0, 22.0, 21.0, 20.0, 19.0, 18.0, 17.0, 16.0, 15.0, 14.0, 13.0, 12.0, 11.0, 10.0, 9.0, 8.0, 7.0, 6.0, 5.0, 4.0, 3.0, 2.0, 1.0, 1.3899, 1.257, 1.257, 1.2497, 1.1299, 1.0463, 1.0463, 1.0463, 1.0463, 1.0463, 1.0463, 1.0463, 1.0463, 1.0463, 1.0463, 1.0463, 1.0463, 1.0463, 1.0463, 1.0463, 1.0463, 1.0463, 1.0463, 1.0463, 1.0463, 1.0463, 1.0463, 1.0463, 1.0463, 1.0463, 1.0254, 0.9112, 0.9853, 0.9699, 0.8566, 0.757, 0.599, 0.3729, 0.3635, 0.6876, 0.4778, 0.3247, 0.2388, 0.2053, -0.2009, -0.7603, 0.6523, -0.9035, -1.1143, -0.5702, 0.1796, -0.631, 1.865, 1.7231, 1.7231, 1.7231, 1.5678, 1.4994, 1.4994, 1.4994, 1.4994, 1.4994, 1.4994, 1.4994, 1.4994, 1.4994, 1.4994, 1.4994, 1.4994, 1.4994, 1.4994, 1.4994, 1.4994, 1.4994, 1.4994, 1.4994, 1.4994, 1.4994, 1.4994, 1.4994, 1.4977, 1.4972, 1.4864, 1.463, 1.4465, 1.4016, 1.2904, 1.2246, 1.2224, 1.2114, 0.8234, 0.6192, 0.1855, 0.5999, 0.8863, -0.0509, 0.5925, -0.7014, -0.0189, 0.425, 0.3191, 0.7864, 0.5981, 1.0399, 2.1092, 2.048, 1.7004, 1.6513, 1.6513, 1.6513, 1.6513, 1.6513, 1.6513, 1.6513, 1.6513, 1.6513, 1.6513, 1.5978, 1.377, 1.289, 1.2712, 1.2598, 1.2598, 1.2366, 1.226, 1.1987, 1.174, 1.1144, 0.9832, 0.9477, 0.9345, 0.9342, 0.9242, 0.8955, 0.6894, 0.6315, 0.314, -0.2688, 0.1064, 0.3566, -0.0305, 2.1439, 2.0473, 2.0473, 1.8145, 1.8145, 1.8145, 1.8145, 1.8145, 1.8145, 1.8145, 1.8145, 1.8145, 1.8145, 1.8145, 1.8145, 1.8145, 1.8112, 1.8108, 1.8107, 1.8106, 1.8105, 1.8105, 1.8104, 1.8104, 1.8103, 1.8101, 1.8098, 1.4437, 1.441, 1.4249, 1.4119, 1.3611, 0.7863, 0.7002, 1.0749, 1.1927, 0.9919, 0.5274, -0.1596, 1.3441, 1.3739, 1.0255, 0.5457, 0.1243, 2.207, 1.8685, 1.8685, 1.8685, 1.8685, 1.8685, 1.8685, 1.8685, 1.8685, 1.8685, 1.8685, 1.8685, 1.8685, 1.8685, 1.8685, 1.8685, 1.8685, 1.8685, 1.8685, 1.8685, 1.8685, 1.8685, 1.8685, 1.8667, 1.8665, 1.8665, 1.8664, 1.8662, 1.8662, 1.8379, 1.7678, 1.4748, 1.353, 1.382, 1.3034, 1.0545, 0.0145, -0.0243, -0.4035, -0.5686, 0.9098, 0.0992, 1.421, 1.561, 1.4528, 1.1994, 1.4858, 1.3908, 2.1208, 2.1208, 2.1208, 2.1208, 2.1208, 2.1208, 2.1208, 2.1208, 2.1208, 2.1208, 2.1208, 2.1208, 2.1208, 2.1208, 2.1208, 2.1208, 2.1208, 2.1208, 2.1208, 2.1208, 1.9726, 1.7345, 1.7327, 1.693, 1.693, 1.6804, 1.6296, 1.6296, 1.449, 1.4091, 1.1112, -0.3498, 0.8708, 1.0666, 0.501, 0.4268, 1.3464, 0.9623, 0.7245, 0.375, 1.1302, 0.476, 1.3238, 0.978, 0.0921, 0.5319, 2.4115, 2.3585, 2.1563, 2.1563, 2.1563, 2.1563, 2.1563, 2.1563, 2.1563, 2.1563, 2.1563, 2.1563, 2.1563, 2.1563, 2.1563, 2.1563, 2.1563, 2.1563, 2.1563, 2.1563, 1.7827, 1.7655, 1.7243, 1.6908, 1.6908, 1.6908, 1.6597, 1.6596, 1.6378, 1.4235, 1.3908, -0.7963, -0.4437, 1.1467, 0.8779, 0.812, 1.2218, 1.1164, 1.157, 2.4201, 2.4157, 2.1608, 2.1608, 2.1608, 2.1608, 2.1608, 2.1608, 2.1608, 2.1608, 2.1608, 2.1608, 2.1608, 2.1608, 2.1608, 2.1608, 2.1608, 2.1608, 1.7582, 1.7578, 1.7487, 1.7112, 1.6703, 1.6595, 1.5709, 1.5246, 1.462, 1.1913, 1.0915, 1.0244, 0.6624, 0.4942, 0.1063, 0.329, 2.2292, 2.2292, 2.2292, 2.2292, 2.2292, 2.2292, 2.2292, 2.2292, 2.2292, 2.2292, 2.2292, 2.2292, 2.2268, 2.2266, 2.1953, 1.818, 1.7807, 1.7289, 1.6071, 1.5566, 1.5366, 1.4662, 1.441, 1.2856, 1.2208, 1.2155, 0.94, 0.855, 0.583, 0.5613, 0.1236, -0.0788, -0.1012, 0.1774, 0.4603, 2.5708, 2.3047, 2.3047, 2.3047, 2.3047, 2.3047, 2.3047, 2.3047, 2.3047, 2.3047, 2.3047, 1.9665, 1.8616, 1.8609, 1.8274, 1.8274, 1.8274, 1.6772, 1.5865, 1.5551, 1.5484, 1.5478, 1.5065, 1.5062, 1.2446, 1.2183, 1.2034, 1.0838, 1.064, 1.009, 0.1718, 0.5328, 0.8633, 2.3826, 2.3826, 2.3826, 2.3826, 2.3826, 2.3826, 2.3826, 2.3826, 2.3826, 2.3826, 2.3826, 2.3013, 2.2746, 2.0436, 1.9714, 1.9385, 1.871, 1.871, 1.6199, 1.5801, 1.3183, 1.2123, 1.1354, 0.9799, 0.9602, 0.7421, 0.3988, -0.1017, -0.1017, -0.1017, -0.6303, -2.3605, -3.3609, 3.1247, 2.6947, 2.6947, 2.6947, 2.6947, 2.6947, 2.6947, 2.6947, 2.6947, 2.6947, 2.6947, 2.6947, 2.6947, 2.6947, 2.2196, 2.1835, 2.1729, 2.1501, 1.8907, 0.9451, 0.0491, 0.0491, 0.0491, 0.0491, 0.0491, 0.0491, 0.0491, 0.0491, 0.0491, 0.0491, -0.0991, -0.1015, -0.1063, -0.1067, -0.1086, -0.1105, -0.1116, -0.112, -1.3174, -0.5231, -0.6862, -3.0776, -0.7293, -2.0024, -2.2653, -1.7816, -1.4807]}, \"token.table\": {\"Topic\": [8, 1, 4, 9, 1, 2, 4, 5, 9, 11, 5, 1, 2, 11, 11, 2, 10, 2, 7, 1, 1, 4, 12, 2, 5, 6, 7, 1, 1, 7, 7, 1, 2, 3, 4, 5, 6, 7, 8, 9, 10, 1, 2, 6, 9, 2, 1, 11, 5, 11, 8, 5, 12, 2, 4, 2, 10, 7, 10, 9, 1, 3, 5, 4, 5, 4, 5, 1, 4, 1, 11, 2, 2, 3, 6, 7, 5, 2, 8, 12, 4, 2, 6, 7, 4, 9, 7, 2, 10, 6, 8, 1, 9, 3, 6, 2, 7, 2, 4, 8, 1, 2, 6, 7, 11, 1, 8, 1, 4, 6, 7, 9, 1, 3, 6, 8, 10, 1, 1, 1, 8, 6, 4, 6, 6, 6, 9, 10, 2, 8, 5, 1, 2, 1, 7, 8, 11, 1, 2, 7, 4, 1, 12, 2, 7, 11, 4, 8, 1, 2, 4, 3, 10, 1, 2, 1, 3, 6, 8, 9, 10, 8, 8, 4, 8, 1, 12, 1, 2, 6, 9, 10, 12, 1, 3, 4, 6, 8, 9, 10, 6, 5, 7, 5, 12, 1, 6, 8, 12, 4, 12, 4, 5, 1, 2, 4, 5, 9, 9, 1, 6, 5, 10, 3, 8, 4, 1, 2, 9, 11, 1, 8, 8, 2, 12, 5, 2, 11, 3, 2, 7, 8, 11, 2, 2, 10, 5, 7, 2, 7, 1, 10, 11, 5, 4, 7, 1, 12, 6, 1, 2, 3, 5, 7, 8, 9, 3, 6, 3, 1, 6, 1, 2, 7, 9, 1, 5, 1, 10, 2, 9, 1, 5, 8, 10, 1, 2, 5, 10, 9, 5, 4, 1, 2, 3, 2, 4, 6, 2, 3, 8, 12, 6, 1, 4, 5, 7, 4, 3, 5, 3, 6, 7, 1, 6, 12, 2, 7, 12, 1, 2, 2, 4, 6, 1, 2, 3, 4, 8, 2, 3, 9, 7, 4, 11, 3, 5, 5, 4, 1, 3, 8, 11, 1, 2, 4, 7, 8, 5, 1, 2, 1, 3, 7, 1, 2, 4, 5, 5, 6, 7, 9, 2, 1, 4, 10, 11, 1, 1, 4, 5, 2, 2, 2, 3, 8, 1, 5, 11, 12, 6, 1, 2, 5, 6, 11, 3, 8, 1, 3, 10, 2, 11, 1, 7, 1, 4, 6, 8, 3, 5, 1, 1, 3, 10, 10, 5, 1, 2, 6, 12, 1, 3, 5, 7, 10, 11, 1, 6, 2, 5, 9, 10, 7, 2, 2, 1, 5, 5, 12, 6, 9, 1, 1, 10, 11, 1, 1, 11, 7, 6, 2, 5, 3, 9, 9, 5, 4, 12, 2, 4, 7, 8, 9, 10, 5, 1, 4, 5, 1, 2, 6, 9, 1, 2, 10, 1, 2, 6, 7, 1, 9, 6, 4, 2, 4, 2, 7, 11, 11, 6, 5, 1, 10, 11, 1, 8, 6, 9, 3, 5, 10, 5, 1, 5, 3, 9, 1, 3, 9, 10, 4, 12, 3, 5, 12, 9, 1, 7, 1, 2, 10, 1, 2, 3, 4, 5, 6, 7, 8, 9, 10, 2, 1, 11, 1, 2, 1, 3, 10, 4, 2, 6, 10, 1, 2, 3, 4, 5, 8, 9, 7, 8, 5, 1, 2, 5, 4, 4, 2, 1, 6, 6, 8, 5, 7, 5, 10, 1, 3, 6, 7, 8, 9, 1, 1, 3, 6, 8, 11, 1, 4, 7, 2, 7, 2, 10, 6, 9, 3, 1, 3, 11, 2, 5], \"Freq\": [0.7765972735894482, 0.6654053324661016, 0.49457395197285603, 0.49457395197285603, 0.5091848071193789, 0.11750418625831821, 0.19584031043053035, 0.03916806208610607, 0.03916806208610607, 0.03916806208610607, 0.7305423957792935, 0.2748973401794928, 0.5497946803589856, 0.2748973401794928, 0.7969151642426919, 0.5871470194993399, 0.29357350974966995, 0.6957908165048257, 0.76747502037145, 0.6654053519251467, 0.6510922762109296, 0.3255461381054648, 0.8638809835730386, 0.6863772566697139, 0.34318862833485697, 0.7568007665414287, 0.76747502037145, 0.6654053519251467, 0.6654053519251467, 0.7674749722693865, 0.7674749983033503, 0.2987024807448694, 0.16594582263603855, 0.06637832905441542, 0.19913498716324624, 0.03318916452720771, 0.03318916452720771, 0.03318916452720771, 0.03318916452720771, 0.06637832905441542, 0.06637832905441542, 0.4383006244416215, 0.2922004162944143, 0.14610020814720714, 0.14610020814720714, 0.6957907916802348, 0.6654053519251467, 0.7969151347984516, 0.7305441233406439, 0.7969151579489764, 0.776597240425093, 0.7305441233406439, 0.9331510007127236, 0.6958701047829742, 0.7165893687683017, 0.4912780443713421, 0.4912780443713421, 0.76747502037145, 0.791761895779273, 0.7745001664720927, 0.6654053645342858, 0.4820984327280729, 0.4820984327280729, 0.7164949475171261, 0.7305428062239551, 0.7165893687683017, 0.7305441446936134, 0.44770165696241426, 0.44770165696241426, 0.4777912998766553, 0.4777912998766553, 0.9050941402390743, 0.2413733463472939, 0.2413733463472939, 0.2413733463472939, 0.2413733463472939, 0.7305441215718264, 0.6958535004137343, 0.7765972735894482, 0.8638810137006472, 0.7165893687683017, 0.6977508340446646, 0.3488754170223323, 0.76747502037145, 0.7164434956940186, 0.7745001203582552, 0.7674749983033503, 0.6957908165048257, 0.5372589997295463, 0.7568007910176928, 0.7765972735894482, 0.7467849533887984, 0.7745001295386644, 0.4933948753681495, 0.4933948753681495, 0.48181751963657143, 0.48181751963657143, 0.6957910876948182, 0.7165894123517164, 0.7765972616210871, 0.34106602539203346, 0.34106602539203346, 0.34106602539203346, 0.5282339758761714, 0.5282339758761714, 0.6654053836263111, 0.7765972415425187, 0.8543482034733741, 0.30146392434407, 0.30146392434407, 0.30146392434407, 0.30146392434407, 0.18732799408590986, 0.18732799408590986, 0.18732799408590986, 0.3746559881718197, 0.18732799408590986, 0.6656675757265664, 0.6657166525985481, 0.6656541373981621, 0.5233889532651258, 0.7568007665414287, 0.7165893687683017, 0.7568007665414287, 0.7568007665414287, 0.26322462152326287, 0.5264492430465257, 0.26322462152326287, 0.6957908162413351, 0.7765972735894482, 0.7305441535065487, 0.6654053562412631, 0.695790787897075, 0.46704974289430345, 0.46704974289430345, 0.7765972376768341, 0.796915138277175, 0.27128890121260246, 0.5425778024252049, 0.27128890121260246, 0.7165009197320326, 0.5010779697867139, 0.5010779697867139, 0.4818530070194283, 0.4818530070194283, 0.7969151331131418, 0.49537983208058073, 0.49537983208058073, 0.6654053795554915, 0.6957907916802348, 0.7165893687683017, 0.5080195079790384, 0.5080195079790384, 0.43949460701969095, 0.43949460701969095, 0.13893350385224323, 0.13893350385224323, 0.13893350385224323, 0.13893350385224323, 0.27786700770448647, 0.13893350385224323, 0.7765972698830924, 0.776597251173121, 0.7164719079497777, 0.7765972376768341, 0.6654053704751228, 0.8638810318058923, 0.29911252570524305, 0.14955626285262152, 0.14955626285262152, 0.14955626285262152, 0.29911252570524305, 0.14955626285262152, 0.13206484072009783, 0.26412968144019566, 0.13206484072009783, 0.13206484072009783, 0.13206484072009783, 0.13206484072009783, 0.13206484072009783, 0.7568007665414287, 0.4982301618679165, 0.4982301618679165, 0.730542486373527, 0.8638810196575167, 0.6654053622984742, 0.7568007665414287, 0.7765972376768341, 0.863881048040296, 0.7164614188618832, 0.8638810318058923, 0.7165893687683017, 0.7201748390364194, 0.2014852204924135, 0.2014852204924135, 0.2014852204924135, 0.2014852204924135, 0.2014852204924135, 0.7744547170561537, 0.4630738887170325, 0.4630738887170325, 0.7305441596520428, 0.7917618684276398, 0.5890507660774792, 0.2945253830387396, 0.7165893687683017, 0.39196162519426514, 0.39196162519426514, 0.19598081259713257, 0.19598081259713257, 0.6654053519251467, 0.5233072719093295, 0.7765972951401732, 0.5181165102837131, 0.5181165102837131, 0.7305441233406439, 0.7143262390250502, 0.3571631195125251, 0.7298551909287837, 0.6957908133090405, 0.7674749921856072, 0.7765972913003146, 0.7969151564323707, 0.695790787897075, 0.4912780181279546, 0.4912780181279546, 0.7305441233406439, 0.7674750553852911, 0.695791108379092, 0.7674750468707211, 0.6868901865162316, 0.2289633955054105, 0.2289633955054105, 0.7305441233406439, 0.7165893687683017, 0.5151357865030434, 0.6654053519251467, 0.8638810244382762, 0.7568007630723563, 0.32047035130739543, 0.08011758782684886, 0.4406467330476687, 0.08011758782684886, 0.04005879391342443, 0.04005879391342443, 0.04005879391342443, 0.4927615421335105, 0.4927615421335105, 0.729855194478315, 0.6654053688660294, 0.7568007665414287, 0.2825366772456191, 0.2825366772456191, 0.2825366772456191, 0.2825366772456191, 0.4531091754657034, 0.4531091754657034, 0.650133049966247, 0.21671101665541567, 0.6957907916802348, 0.7745001203582552, 0.6656481222988249, 0.3860865990594444, 0.3860865990594444, 0.3860865990594444, 0.23355600852029648, 0.23355600852029648, 0.23355600852029648, 0.23355600852029648, 0.7745001309485556, 0.7305441630728429, 0.7165894123517164, 0.4396212996361505, 0.4396212996361505, 0.7298552320119117, 0.6957907989483114, 0.7165893687683017, 0.7568007973789485, 0.2665743364474062, 0.2665743364474062, 0.2665743364474062, 0.2665743364474062, 0.7568007665414287, 0.279641726732645, 0.279641726732645, 0.279641726732645, 0.279641726732645, 0.7164842969094535, 0.893336377577819, 0.7305441233406439, 0.49339490989261475, 0.49339490989261475, 0.7674750234527029, 0.6656919714369037, 0.7568007068039726, 0.8638810318058923, 0.9050945069668742, 0.7674749983033503, 0.8638810318058923, 0.6654053649802523, 0.695790787897075, 0.4612545592214762, 0.4612545592214762, 0.7568007665414287, 0.07660489819092957, 0.22981469457278872, 0.22981469457278872, 0.38302449095464786, 0.07660489819092957, 0.36113089675697374, 0.36113089675697374, 0.36113089675697374, 0.76747502037145, 0.7164433595571993, 0.7969151620195811, 0.3597526565900783, 0.3597526565900783, 0.7305441233406439, 0.7000170668080763, 0.24726134730846305, 0.24726134730846305, 0.24726134730846305, 0.24726134730846305, 0.20010378903610512, 0.20010378903610512, 0.40020757807221025, 0.20010378903610512, 0.20010378903610512, 0.7305426546817612, 0.6424640451521241, 0.32123202257606204, 0.4528448507653739, 0.4528448507653739, 0.7674750262079786, 0.4904356178965157, 0.16347853929883854, 0.3269570785976771, 0.16347853929883854, 0.21641137245832268, 0.21641137245832268, 0.21641137245832268, 0.21641137245832268, 0.6957907916802348, 0.6654053712464236, 0.7165893687683017, 0.7917618882647278, 0.7969151483044639, 0.6654053643160905, 0.33665127460060185, 0.33665127460060185, 0.16832563730030092, 0.9050945920773454, 0.695791217133277, 0.6957907916802348, 0.7298552207554185, 0.7765972843123313, 0.2952495407002265, 0.2952495407002265, 0.2952495407002265, 0.8638810488017206, 0.7568007665414287, 0.30900447311759316, 0.15450223655879658, 0.30900447311759316, 0.15450223655879658, 0.15450223655879658, 0.812241536965028, 0.09024905966278088, 0.8543481946313835, 0.7298552253880007, 0.7917618882647278, 0.3820488386891215, 0.3820488386891215, 0.6654053696404169, 0.767475051635112, 0.6654053663692936, 0.4872463504742597, 0.4872463504742597, 0.7765972735894482, 0.7298552170120358, 0.7305441233406439, 0.665405374421481, 0.3563081983459318, 0.3563081983459318, 0.3563081983459318, 0.7917619194570764, 0.7305441268595488, 0.6658136076377319, 0.3865918382252806, 0.3865918382252806, 0.3865918382252806, 0.39899420994843926, 0.34199503709866225, 0.05699917284977704, 0.05699917284977704, 0.05699917284977704, 0.05699917284977704, 0.46307384769300086, 0.46307384769300086, 0.6957910365529205, 0.7305426643969458, 0.7745001203582552, 0.7917618836799225, 0.76747497367914, 0.6957908165048257, 0.7990547262793672, 0.6657218220178893, 0.7305441567390832, 0.537144219319169, 0.537144219319169, 0.7568007973789485, 0.7745001295386644, 0.6657825405134921, 0.5764793551595246, 0.19215978505317485, 0.19215978505317485, 0.6654053519251467, 0.6654053604207677, 0.7969151079110289, 0.7674749751130155, 0.7568007665414287, 0.6957907916802348, 0.7305441414207875, 0.7298551960923158, 0.774450662436498, 0.7745001203582552, 0.7305441505458848, 0.9406071326510563, 0.8638810318058923, 0.21373589061352832, 0.21373589061352832, 0.21373589061352832, 0.21373589061352832, 0.21373589061352832, 0.7917619389138357, 0.7305441522665018, 0.3965840012545269, 0.1321946670848423, 0.3965840012545269, 0.2810460846989616, 0.2810460846989616, 0.2810460846989616, 0.2810460846989616, 0.27428244739164276, 0.5485648947832855, 0.27428244739164276, 0.23761409719098545, 0.23761409719098545, 0.23761409719098545, 0.23761409719098545, 0.4696409841384901, 0.4696409841384901, 0.7568008218660006, 0.7164796380259019, 0.6957908165048257, 0.7165008042176609, 0.25052188247756224, 0.7515656474326866, 0.7969151269084662, 0.7969151233663891, 0.7568007910176928, 0.7305441233406439, 0.37168300623382117, 0.37168300623382117, 0.37168300623382117, 0.4704112323891059, 0.4704112323891059, 0.5134011304484956, 0.5134011304484956, 0.37417323383448353, 0.37417323383448353, 0.37417323383448353, 0.73054258808295, 0.3435123254686311, 0.3435123254686311, 0.7298552189456984, 0.7745001203582552, 0.3527628429286619, 0.3527628429286619, 0.3527628429286619, 0.7917619261610901, 0.7165894184850986, 0.8638810237395399, 0.7298552370036898, 0.7305441233406439, 0.8638810318058923, 0.7745001027994461, 0.46704855167137915, 0.46704855167137915, 0.3281011050240068, 0.6562022100480136, 0.7917619195713629, 0.19905384888076397, 0.19905384888076397, 0.09952692444038198, 0.09952692444038198, 0.09952692444038198, 0.09952692444038198, 0.09952692444038198, 0.09952692444038198, 0.09952692444038198, 0.7917618882647278, 0.6957907916802348, 0.47779004106665124, 0.47779004106665124, 0.6654053839276949, 0.6957908135725309, 0.35640563101784584, 0.35640563101784584, 0.35640563101784584, 0.7164720776164338, 0.37145080477467207, 0.37145080477467207, 0.37145080477467207, 0.12434548736179304, 0.2486909747235861, 0.12434548736179304, 0.2486909747235861, 0.12434548736179304, 0.12434548736179304, 0.7745001339775999, 0.5192295775548481, 0.5192295775548481, 0.7305441233406439, 0.2617770601817764, 0.5235541203635528, 0.7305441425280504, 0.7164937899118099, 0.9406071326510563, 0.6957913346800415, 0.6654053473540735, 0.7568007848867028, 0.514321746745864, 0.514321746745864, 0.36883522195408486, 0.36883522195408486, 0.5083531772570817, 0.5083531772570817, 0.0944961877034056, 0.1889923754068112, 0.0944961877034056, 0.2834885631102168, 0.2834885631102168, 0.0944961877034056, 0.6654053663692936, 0.10893297562924438, 0.21786595125848876, 0.21786595125848876, 0.10893297562924438, 0.32679892688773315, 0.44765504186725996, 0.44765504186725996, 0.767474979616911, 0.48181735469630776, 0.48181735469630776, 0.4912780376280739, 0.4912780376280739, 0.7568007665414287, 0.7745001295386644, 0.7298551545539075, 0.2513420264602456, 0.2513420264602456, 0.5026840529204912, 0.4669964266868252, 0.4669964266868252], \"Term\": [\"abrupt\", \"accept\", \"access\", \"access\", \"account\", \"account\", \"account\", \"account\", \"account\", \"account\", \"advertising\", \"advice\", \"advice\", \"advice\", \"age\", \"amount\", \"amount\", \"anyone\", \"anytime\", \"apple\", \"application\", \"application\", \"approval\", \"apps\", \"apps\", \"asap\", \"attempt\", \"audience\", \"awesome\", \"baffling\", \"bait\", \"bank\", \"bank\", \"bank\", \"bank\", \"bank\", \"bank\", \"bank\", \"bank\", \"bank\", \"bank\", \"banking\", \"banking\", \"banking\", \"banking\", \"banner\", \"batch\", \"benefit\", \"beta\", \"bill\", \"board\", \"bode\", \"borrow\", \"borrowing\", \"bother\", \"breeze\", \"breeze\", \"brighter\", \"brilliant\", \"bug\", \"buggy\", \"build\", \"build\", \"button\", \"buzz\", \"cancel\", \"cant\", \"card\", \"card\", \"case\", \"case\", \"cash\", \"change\", \"change\", \"change\", \"change\", \"cheap\", \"choice\", \"clarity\", \"clean\", \"client\", \"code\", \"code\", \"color\", \"colour\", \"communication\", \"company\", \"compare\", \"competitor\", \"comprehensive\", \"consistent\", \"consumer\", \"continue\", \"convenient\", \"convenient\", \"correct\", \"correct\", \"create\", \"credit\", \"cripple\", \"customer\", \"customer\", \"customer\", \"dark\", \"dark\", \"debit\", \"debtor\", \"decrease\", \"deposit\", \"deposit\", \"deposit\", \"deposit\", \"design\", \"design\", \"design\", \"design\", \"design\", \"detail\", \"developer\", \"development\", \"device\", \"devs\", \"didnt\", \"differ\", \"digibank\", \"digital\", \"digital\", \"digital\", \"disbursement\", \"disruption\", \"doesnt\", \"download\", \"draw\", \"drop\", \"drop\", \"dumb\", \"earn\", \"ease\", \"ease\", \"ease\", \"effort\", \"email\", \"email\", \"emergency\", \"emergency\", \"end\", \"everyday\", \"everyday\", \"everyone\", \"everything\", \"everytime\", \"excellent\", \"excellent\", \"excuse\", \"excuse\", \"experience\", \"experience\", \"experience\", \"experience\", \"experience\", \"experience\", \"explanation\", \"explore\", \"eye\", \"fair\", \"fake\", \"family\", \"fast\", \"fast\", \"fast\", \"fast\", \"fast\", \"fast\", \"feature\", \"feature\", \"feature\", \"feature\", \"feature\", \"feature\", \"feature\", \"feedback\", \"feel\", \"feel\", \"fill\", \"flexi\", \"fluid\", \"focus\", \"forget\", \"form\", \"found\", \"friend\", \"frustration\", \"function\", \"fund\", \"fund\", \"fund\", \"fund\", \"fund\", \"future\", \"generate\", \"generate\", \"generator\", \"giant\", \"goal\", \"goal\", \"god\", \"grab\", \"grab\", \"grab\", \"grab\", \"group\", \"grow\", \"growth\", \"hassle\", \"hassle\", \"heard\", \"help\", \"help\", \"helpful\", \"home\", \"honest\", \"hope\", \"hurray\", \"immediate\", \"improvement\", \"improvement\", \"include\", \"income\", \"inconvenience\", \"incorrect\", \"increase\", \"increase\", \"increase\", \"info\", \"inform\", \"information\", \"institution\", \"instruction\", \"integration\", \"interest\", \"interest\", \"interest\", \"interest\", \"interest\", \"interest\", \"interest\", \"interface\", \"interface\", \"intern\", \"invite\", \"ipad\", \"issue\", \"issue\", \"issue\", \"issue\", \"join\", \"join\", \"joke\", \"joke\", \"june\", \"kenna\", \"kind\", \"lack\", \"lack\", \"lack\", \"launch\", \"launch\", \"launch\", \"launch\", \"le\", \"lead\", \"lengthy\", \"life\", \"life\", \"limit\", \"link\", \"list\", \"load\", \"loan\", \"loan\", \"loan\", \"loan\", \"login\", \"look\", \"look\", \"look\", \"look\", \"lot\", \"love\", \"maribank\", \"market\", \"market\", \"mean\", \"medium\", \"meet\", \"member\", \"merchant\", \"method\", \"millionaire\", \"mind\", \"minimum\", \"mistake\", \"mistake\", \"mobile\", \"money\", \"money\", \"money\", \"money\", \"money\", \"month\", \"month\", \"month\", \"moolah\", \"moreover\", \"morning\", \"move\", \"move\", \"mundane\", \"name\", \"navigate\", \"navigate\", \"navigate\", \"navigate\", \"need\", \"need\", \"need\", \"need\", \"need\", \"news\", \"nothing\", \"nothing\", \"notice\", \"notice\", \"notification\", \"number\", \"number\", \"number\", \"number\", \"offer\", \"offer\", \"offer\", \"offer\", \"officer\", \"okayyyy\", \"opening\", \"opinion\", \"optimise\", \"paperwork\", \"payee\", \"payee\", \"payee\", \"payment\", \"paynow\", \"perfect\", \"period\", \"person\", \"phone\", \"phone\", \"phone\", \"plat\", \"player\", \"please\", \"please\", \"please\", \"please\", \"please\", \"pocket\", \"pocket\", \"point\", \"portion\", \"prefer\", \"problem\", \"problem\", \"proceed\", \"process\", \"processing\", \"product\", \"product\", \"profit\", \"promise\", \"proper\", \"proposition\", \"provide\", \"provide\", \"provide\", \"pure\", \"purpose\", \"quality\", \"quick\", \"quick\", \"quick\", \"rate\", \"rate\", \"rate\", \"rate\", \"rate\", \"rate\", \"rating\", \"rating\", \"read\", \"receive\", \"recommend\", \"recommendation\", \"recovery\", \"register\", \"repayment\", \"reply\", \"respond\", \"response\", \"response\", \"responsive\", \"return\", \"reversal\", \"review\", \"review\", \"review\", \"reviewer\", \"reward\", \"risk\", \"roll\", \"safety\", \"saver\", \"screen\", \"script\", \"seamless\", \"security\", \"seem\", \"select\", \"sent\", \"service\", \"service\", \"service\", \"service\", \"service\", \"show\", \"sick\", \"sign\", \"sign\", \"sign\", \"simple\", \"simple\", \"simple\", \"simple\", \"singapore\", \"singapore\", \"singapore\", \"singpass\", \"singpass\", \"singpass\", \"singpass\", \"singtel\", \"singtel\", \"sleek\", \"slick\", \"slot\", \"smoother\", \"something\", \"something\", \"someway\", \"soooo\", \"speed\", \"spend\", \"staff\", \"staff\", \"staff\", \"star\", \"star\", \"start\", \"start\", \"stay\", \"stay\", \"stay\", \"stop\", \"store\", \"store\", \"straight\", \"straightforward\", \"super\", \"super\", \"super\", \"swift\", \"switch\", \"tell\", \"term\", \"testflight\", \"text\", \"thank\", \"theme\", \"theme\", \"thing\", \"thing\", \"think\", \"time\", \"time\", \"time\", \"time\", \"time\", \"time\", \"time\", \"time\", \"time\", \"timer\", \"today\", \"told\", \"told\", \"ton\", \"topup\", \"touch\", \"touch\", \"touch\", \"track\", \"transaction\", \"transaction\", \"transaction\", \"transfer\", \"transfer\", \"transfer\", \"transfer\", \"transfer\", \"transfer\", \"transparency\", \"transparent\", \"transparent\", \"troublesome\", \"trust\", \"trust\", \"tune\", \"turn\", \"type\", \"uiux\", \"ummmm\", \"understand\", \"unique\", \"unique\", \"update\", \"update\", \"useless\", \"useless\", \"user\", \"user\", \"user\", \"user\", \"user\", \"user\", \"value\", \"wait\", \"wait\", \"wait\", \"wait\", \"wait\", \"want\", \"want\", \"week\", \"whenever\", \"whenever\", \"work\", \"work\", \"workaround\", \"worry\", \"worth\", \"write\", \"write\", \"write\", \"year\", \"year\"]}, \"R\": 30, \"lambda.step\": 0.01, \"plot.opts\": {\"xlab\": \"PC1\", \"ylab\": \"PC2\"}, \"topic.order\": [8, 3, 5, 11, 12, 7, 6, 4, 1, 10, 2, 9]};\n",
       "\n",
       "function LDAvis_load_lib(url, callback){\n",
       "  var s = document.createElement('script');\n",
       "  s.src = url;\n",
       "  s.async = true;\n",
       "  s.onreadystatechange = s.onload = callback;\n",
       "  s.onerror = function(){console.warn(\"failed to load library \" + url);};\n",
       "  document.getElementsByTagName(\"head\")[0].appendChild(s);\n",
       "}\n",
       "\n",
       "if(typeof(LDAvis) !== \"undefined\"){\n",
       "   // already loaded: just create the visualization\n",
       "   !function(LDAvis){\n",
       "       new LDAvis(\"#\" + \"ldavis_el14864109127113924166409539\", ldavis_el14864109127113924166409539_data);\n",
       "   }(LDAvis);\n",
       "}else if(typeof define === \"function\" && define.amd){\n",
       "   // require.js is available: use it to load d3/LDAvis\n",
       "   require.config({paths: {d3: \"https://d3js.org/d3.v5\"}});\n",
       "   require([\"d3\"], function(d3){\n",
       "      window.d3 = d3;\n",
       "      LDAvis_load_lib(\"https://cdn.jsdelivr.net/gh/bmabey/pyLDAvis@3.4.0/pyLDAvis/js/ldavis.v3.0.0.js\", function(){\n",
       "        new LDAvis(\"#\" + \"ldavis_el14864109127113924166409539\", ldavis_el14864109127113924166409539_data);\n",
       "      });\n",
       "    });\n",
       "}else{\n",
       "    // require.js not available: dynamically load d3 & LDAvis\n",
       "    LDAvis_load_lib(\"https://d3js.org/d3.v5.js\", function(){\n",
       "         LDAvis_load_lib(\"https://cdn.jsdelivr.net/gh/bmabey/pyLDAvis@3.4.0/pyLDAvis/js/ldavis.v3.0.0.js\", function(){\n",
       "                 new LDAvis(\"#\" + \"ldavis_el14864109127113924166409539\", ldavis_el14864109127113924166409539_data);\n",
       "            })\n",
       "         });\n",
       "}\n",
       "</script>"
      ],
      "text/plain": [
       "PreparedData(topic_coordinates=              x         y  topics  cluster       Freq\n",
       "topic                                                \n",
       "7      0.101591  0.093240       1        1  21.220972\n",
       "2      0.104093 -0.032473       2        1  13.000833\n",
       "4     -0.137718  0.165343       3        1  10.697922\n",
       "10     0.123153  0.060680       4        1   9.242775\n",
       "11     0.081004  0.028750       5        1   8.601844\n",
       "6     -0.080163 -0.060060       6        1   6.456987\n",
       "5     -0.043338 -0.056240       7        1   6.142663\n",
       "3     -0.116749  0.033875       8        1   6.039286\n",
       "0      0.010449 -0.008979       9        1   5.656403\n",
       "9     -0.012331 -0.045481      10        1   5.121168\n",
       "1     -0.010476 -0.041313      11        1   4.702900\n",
       "8     -0.019514 -0.137342      12        1   3.116247, topic_info=         Term       Freq      Total Category  logprob  loglift\n",
       "25     pocket  11.000000  11.000000  Default  30.0000  30.0000\n",
       "5    interest  24.000000  24.000000  Default  29.0000  29.0000\n",
       "33       wait   9.000000   9.000000  Default  28.0000  28.0000\n",
       "0     account  25.000000  25.000000  Default  27.0000  27.0000\n",
       "9        rate  17.000000  17.000000  Default  26.0000  26.0000\n",
       "..        ...        ...        ...      ...      ...      ...\n",
       "119     touch   0.042167   2.805792  Topic12  -6.4393  -0.7293\n",
       "69       time   0.042272  10.047532  Topic12  -6.4368  -2.0024\n",
       "23      money   0.042223  13.053996  Topic12  -6.4379  -2.2653\n",
       "30   transfer   0.042196   8.042109  Topic12  -6.4386  -1.7816\n",
       "7       payee   0.042113   5.940866  Topic12  -6.4405  -1.4807\n",
       "\n",
       "[530 rows x 6 columns], token_table=      Topic      Freq     Term\n",
       "term                          \n",
       "168       8  0.776597   abrupt\n",
       "284       1  0.665405   accept\n",
       "344       4  0.494574   access\n",
       "344       9  0.494574   access\n",
       "0         1  0.509185  account\n",
       "...     ...       ...      ...\n",
       "312       1  0.251342    write\n",
       "312       3  0.251342    write\n",
       "312      11  0.502684    write\n",
       "146       2  0.466996     year\n",
       "146       5  0.466996     year\n",
       "\n",
       "[565 rows x 3 columns], R=30, lambda_step=0.01, plot_opts={'xlab': 'PC1', 'ylab': 'PC2'}, topic_order=[8, 3, 5, 11, 12, 7, 6, 4, 1, 10, 2, 9])"
      ]
     },
     "execution_count": 60,
     "metadata": {},
     "output_type": "execute_result"
    }
   ],
   "source": [
    "import pyLDAvis # To visualize lda model\n",
    "import pyLDAvis.gensim\n",
    "\n",
    "pyLDAvis.enable_notebook()\n",
    "vis = pyLDAvis.gensim.prepare(ldamodel,doc_term_matrix,dictionary)\n",
    "vis"
   ]
  },
  {
   "attachments": {},
   "cell_type": "markdown",
   "metadata": {},
   "source": [
    "Since, some topics in above graph are overlapping each other we will try to find optimal number of topics."
   ]
  },
  {
   "cell_type": "code",
   "execution_count": 61,
   "metadata": {},
   "outputs": [
    {
     "name": "stdout",
     "output_type": "stream",
     "text": [
      "\n",
      "Coherence Score:  0.4100970154148364\n"
     ]
    }
   ],
   "source": [
    "from gensim.models.coherencemodel import CoherenceModel\n",
    "coherence_model_lda = CoherenceModel(model=ldamodel,texts=review_data['clean_review'],\\\n",
    "                                     dictionary=dictionary , coherence='c_v')\n",
    "print('\\nCoherence Score: ', coherence_model_lda.get_coherence())\n",
    "\n",
    "# Compute Coherence Score"
   ]
  },
  {
   "cell_type": "code",
   "execution_count": 62,
   "metadata": {},
   "outputs": [],
   "source": [
    "# Computing coherence score for different size of topic\n",
    "\n",
    "def calculate_topic_cv(ldamodel,texts,dictionary,topic_range):\n",
    "  cv_score =[]\n",
    "  topic_num = []\n",
    "  for i in range(2,topic_range):\n",
    "    topic_num.append(i)\n",
    "    Lda = gensim.models.ldamodel.LdaModel\n",
    "    ldamodel = Lda(doc_term_matrix, num_topics=i, id2word=dictionary, passes=10,random_state=45)\n",
    "    cv_score.append(CoherenceModel(model=ldamodel,texts=texts,\\\n",
    "                                   dictionary=dictionary , coherence='c_v').get_coherence())\n",
    "    clear_output()\n",
    "  return topic_num,cv_score"
   ]
  },
  {
   "cell_type": "code",
   "execution_count": 63,
   "metadata": {},
   "outputs": [],
   "source": [
    "topic_num,cv_score = calculate_topic_cv(ldamodel,review_data['clean_review'],dictionary,15)"
   ]
  },
  {
   "cell_type": "code",
   "execution_count": 64,
   "metadata": {},
   "outputs": [
    {
     "data": {
      "text/html": [
       "<div>\n",
       "<style scoped>\n",
       "    .dataframe tbody tr th:only-of-type {\n",
       "        vertical-align: middle;\n",
       "    }\n",
       "\n",
       "    .dataframe tbody tr th {\n",
       "        vertical-align: top;\n",
       "    }\n",
       "\n",
       "    .dataframe thead th {\n",
       "        text-align: right;\n",
       "    }\n",
       "</style>\n",
       "<table border=\"1\" class=\"dataframe\">\n",
       "  <thead>\n",
       "    <tr style=\"text-align: right;\">\n",
       "      <th></th>\n",
       "      <th>Coherence_Score</th>\n",
       "    </tr>\n",
       "    <tr>\n",
       "      <th>Topic</th>\n",
       "      <th></th>\n",
       "    </tr>\n",
       "  </thead>\n",
       "  <tbody>\n",
       "    <tr>\n",
       "      <th>10</th>\n",
       "      <td>0.464836</td>\n",
       "    </tr>\n",
       "    <tr>\n",
       "      <th>7</th>\n",
       "      <td>0.461642</td>\n",
       "    </tr>\n",
       "    <tr>\n",
       "      <th>14</th>\n",
       "      <td>0.447155</td>\n",
       "    </tr>\n",
       "    <tr>\n",
       "      <th>11</th>\n",
       "      <td>0.439995</td>\n",
       "    </tr>\n",
       "    <tr>\n",
       "      <th>8</th>\n",
       "      <td>0.439746</td>\n",
       "    </tr>\n",
       "    <tr>\n",
       "      <th>6</th>\n",
       "      <td>0.433380</td>\n",
       "    </tr>\n",
       "    <tr>\n",
       "      <th>3</th>\n",
       "      <td>0.420038</td>\n",
       "    </tr>\n",
       "    <tr>\n",
       "      <th>12</th>\n",
       "      <td>0.410097</td>\n",
       "    </tr>\n",
       "    <tr>\n",
       "      <th>9</th>\n",
       "      <td>0.406801</td>\n",
       "    </tr>\n",
       "    <tr>\n",
       "      <th>5</th>\n",
       "      <td>0.404505</td>\n",
       "    </tr>\n",
       "    <tr>\n",
       "      <th>13</th>\n",
       "      <td>0.396591</td>\n",
       "    </tr>\n",
       "    <tr>\n",
       "      <th>4</th>\n",
       "      <td>0.376687</td>\n",
       "    </tr>\n",
       "    <tr>\n",
       "      <th>2</th>\n",
       "      <td>0.373592</td>\n",
       "    </tr>\n",
       "  </tbody>\n",
       "</table>\n",
       "</div>"
      ],
      "text/plain": [
       "       Coherence_Score\n",
       "Topic                 \n",
       "10            0.464836\n",
       "7             0.461642\n",
       "14            0.447155\n",
       "11            0.439995\n",
       "8             0.439746\n",
       "6             0.433380\n",
       "3             0.420038\n",
       "12            0.410097\n",
       "9             0.406801\n",
       "5             0.404505\n",
       "13            0.396591\n",
       "4             0.376687\n",
       "2             0.373592"
      ]
     },
     "execution_count": 64,
     "metadata": {},
     "output_type": "execute_result"
    }
   ],
   "source": [
    "pd.DataFrame(zip(topic_num,cv_score),columns=['Topic','Coherence_Score']).set_index\\\n",
    "('Topic').sort_values('Coherence_Score',ascending=False)"
   ]
  },
  {
   "cell_type": "code",
   "execution_count": 65,
   "metadata": {},
   "outputs": [
    {
     "data": {
      "image/png": "[encoded data removed]",
      "text/plain": [
       "<Figure size 640x480 with 1 Axes>"
      ]
     },
     "metadata": {},
     "output_type": "display_data"
    }
   ],
   "source": [
    "import matplotlib.pyplot as plt\n",
    "\n",
    "plt.plot(topic_num,cv_score,color='green', marker='o', linestyle='dashed')\n",
    "plt.xticks(range(2,15))\n",
    "plt.xlabel('Number of topics')\n",
    "plt.ylabel('Coherence score')\n",
    "plt.show()"
   ]
  },
  {
   "attachments": {},
   "cell_type": "markdown",
   "metadata": {},
   "source": [
    "### we will be going with number of topic 6 as with 8 topics there will be many overlaps ."
   ]
  },
  {
   "cell_type": "code",
   "execution_count": 66,
   "metadata": {},
   "outputs": [
    {
     "name": "stdout",
     "output_type": "stream",
     "text": [
      "0.4333800426698224\n"
     ]
    }
   ],
   "source": [
    "# Creating LDA model with number of topics as 6\n",
    "\n",
    "Lda = gensim.models.ldamodel.LdaModel\n",
    "ldamodel = Lda(doc_term_matrix, num_topics=6, id2word=dictionary, passes=10,random_state=45)\n",
    "clear_output()\n",
    "print(CoherenceModel(model=ldamodel,texts=review_data['clean_review'],\\\n",
    "                     dictionary=dictionary , coherence='c_v').get_coherence())"
   ]
  },
  {
   "cell_type": "code",
   "execution_count": 67,
   "metadata": {},
   "outputs": [
    {
     "data": {
      "text/plain": [
       "[(0,\n",
       "  '0.041*\"bank\" + 0.027*\"review\" + 0.022*\"experience\" + 0.022*\"user\" + 0.022*\"account\" + 0.022*\"fast\" + 0.022*\"money\" + 0.021*\"digital\" + 0.016*\"application\" + 0.016*\"issue\"'),\n",
       " (1,\n",
       "  '0.045*\"wait\" + 0.036*\"write\" + 0.019*\"launch\" + 0.019*\"response\" + 0.014*\"rate\" + 0.010*\"time\" + 0.010*\"review\" + 0.010*\"update\" + 0.010*\"store\" + 0.010*\"build\"'),\n",
       " (2,\n",
       "  '0.080*\"bank\" + 0.018*\"fast\" + 0.018*\"trust\" + 0.018*\"singapore\" + 0.013*\"banking\" + 0.013*\"account\" + 0.013*\"ease\" + 0.013*\"joke\" + 0.013*\"nothing\" + 0.013*\"quick\"'),\n",
       " (3,\n",
       "  '0.037*\"pocket\" + 0.034*\"money\" + 0.029*\"account\" + 0.028*\"user\" + 0.023*\"transfer\" + 0.023*\"time\" + 0.023*\"payee\" + 0.023*\"design\" + 0.022*\"feature\" + 0.017*\"love\"'),\n",
       " (4,\n",
       "  '0.083*\"interest\" + 0.048*\"rate\" + 0.037*\"bank\" + 0.034*\"pocket\" + 0.022*\"sign\" + 0.016*\"love\" + 0.016*\"user\" + 0.013*\"money\" + 0.013*\"loan\" + 0.013*\"feature\"'),\n",
       " (5,\n",
       "  '0.081*\"account\" + 0.043*\"interest\" + 0.041*\"rate\" + 0.018*\"consumer\" + 0.018*\"money\" + 0.018*\"time\" + 0.017*\"grab\" + 0.017*\"increase\" + 0.014*\"singpass\" + 0.014*\"fund\"')]"
      ]
     },
     "execution_count": 67,
     "metadata": {},
     "output_type": "execute_result"
    }
   ],
   "source": [
    "ldamodel.print_topics()"
   ]
  },
  {
   "cell_type": "code",
   "execution_count": 68,
   "metadata": {},
   "outputs": [
    {
     "data": {
      "text/html": [
       "\n",
       "<link rel=\"stylesheet\" type=\"text/css\" href=\"https://cdn.jsdelivr.net/gh/bmabey/pyLDAvis@3.4.0/pyLDAvis/js/ldavis.v1.0.0.css\">\n",
       "\n",
       "\n",
       "<div id=\"ldavis_el14864110699237286504945764\" style=\"background-color:white;\"></div>\n",
       "<script type=\"text/javascript\">\n",
       "\n",
       "var ldavis_el14864110699237286504945764_data = {\"mdsDat\": {\"x\": [0.08644503843047434, 0.08131720606466365, -0.12501476702229028, -0.04976615561617442, 0.07140440631484586, -0.0643857281715192], \"y\": [-0.0612453600255727, -0.07803736998438662, -0.06848720990199653, 0.0849349541391178, 0.11204003894221673, 0.010794946830621469], \"topics\": [1, 2, 3, 4, 5, 6], \"cluster\": [1, 1, 1, 1, 1, 1], \"Freq\": [21.776688341004792, 20.698429150497844, 20.415167109632044, 15.695906385603259, 14.200717040218025, 7.213091973044035]}, \"tinfo\": {\"Term\": [\"interest\", \"rate\", \"account\", \"pocket\", \"bank\", \"wait\", \"write\", \"review\", \"money\", \"fast\", \"design\", \"user\", \"love\", \"launch\", \"digital\", \"time\", \"payee\", \"consumer\", \"name\", \"response\", \"trust\", \"borrow\", \"singapore\", \"feature\", \"experience\", \"application\", \"issue\", \"staff\", \"banking\", \"joke\", \"phone\", \"interest\", \"track\", \"colour\", \"slick\", \"effort\", \"smoother\", \"lot\", \"moreover\", \"button\", \"eye\", \"turn\", \"found\", \"maribank\", \"include\", \"fill\", \"advertising\", \"login\", \"ipad\", \"feedback\", \"stop\", \"troublesome\", \"devs\", \"news\", \"buzz\", \"workaround\", \"receive\", \"integration\", \"doesnt\", \"tune\", \"pocket\", \"sign\", \"rate\", \"love\", \"loan\", \"function\", \"change\", \"touch\", \"stay\", \"problem\", \"bank\", \"goal\", \"please\", \"rating\", \"user\", \"feature\", \"interface\", \"wait\", \"offer\", \"money\", \"number\", \"transfer\", \"provide\", \"experience\", \"account\", \"thing\", \"want\", \"notice\", \"consumer\", \"information\", \"drop\", \"point\", \"decrease\", \"increase\", \"dark\", \"case\", \"income\", \"process\", \"choice\", \"apple\", \"borrowing\", \"topup\", \"link\", \"incorrect\", \"tool\", \"debit\", \"option\", \"value\", \"paperwork\", \"ton\", \"proposition\", \"kenna\", \"mean\", \"le\", \"brighter\", \"color\", \"attempt\", \"notification\", \"account\", \"grab\", \"singpass\", \"apps\", \"rate\", \"fund\", \"interest\", \"time\", \"repayment\", \"amount\", \"money\", \"something\", \"need\", \"number\", \"please\", \"banking\", \"transfer\", \"user\", \"bank\", \"emergency\", \"card\", \"trust\", \"singapore\", \"nothing\", \"quick\", \"merchant\", \"payment\", \"improvement\", \"cash\", \"ease\", \"anyone\", \"compare\", \"slot\", \"register\", \"read\", \"perfect\", \"create\", \"everything\", \"inconvenience\", \"saver\", \"paynow\", \"future\", \"mind\", \"seamless\", \"responsive\", \"fluid\", \"speed\", \"everyone\", \"draw\", \"accept\", \"comprehensive\", \"bank\", \"joke\", \"customer\", \"super\", \"code\", \"fast\", \"provide\", \"simple\", \"amount\", \"advice\", \"banking\", \"launch\", \"experience\", \"service\", \"offer\", \"design\", \"please\", \"account\", \"sign\", \"feature\", \"interest\", \"application\", \"review\", \"access\", \"grow\", \"competitor\", \"digital\", \"issue\", \"opening\", \"didnt\", \"inform\", \"bother\", \"client\", \"cancel\", \"swift\", \"return\", \"god\", \"continue\", \"pure\", \"worry\", \"think\", \"baffling\", \"recovery\", \"okayyyy\", \"thank\", \"week\", \"sleek\", \"ummmm\", \"invite\", \"load\", \"roll\", \"staff\", \"fast\", \"experience\", \"banking\", \"bank\", \"user\", \"money\", \"joke\", \"something\", \"time\", \"need\", \"account\", \"feature\", \"offer\", \"launch\", \"simple\", \"sign\", \"wait\", \"start\", \"name\", \"borrow\", \"device\", \"unique\", \"type\", \"select\", \"disruption\", \"explanation\", \"consistent\", \"abrupt\", \"clarity\", \"straight\", \"portion\", \"explore\", \"meet\", \"board\", \"forget\", \"dumb\", \"hope\", \"person\", \"password\", \"understand\", \"frustration\", \"list\", \"everytime\", \"credit\", \"millionaire\", \"sent\", \"family\", \"friend\", \"design\", \"payee\", \"lack\", \"move\", \"pocket\", \"money\", \"transfer\", \"feature\", \"user\", \"love\", \"time\", \"navigate\", \"account\", \"need\", \"service\", \"number\", \"experience\", \"wait\", \"bank\", \"sign\", \"fund\", \"convenient\", \"goal\", \"star\", \"response\", \"write\", \"beta\", \"mundane\", \"heard\", \"info\", \"spend\", \"proper\", \"testflight\", \"bode\", \"respond\", \"hurray\", \"benefit\", \"end\", \"brilliant\", \"soooo\", \"age\", \"optimise\", \"wish\", \"reward\", \"download\", \"cheap\", \"risk\", \"bill\", \"earn\", \"told\", \"build\", \"excellent\", \"work\", \"wait\", \"launch\", \"rate\", \"time\", \"review\", \"update\", \"store\", \"please\", \"transaction\", \"navigate\", \"help\"], \"Freq\": [24.0, 17.0, 23.0, 11.0, 29.0, 9.0, 3.0, 4.0, 12.0, 6.0, 5.0, 11.0, 5.0, 3.0, 4.0, 9.0, 5.0, 3.0, 2.0, 1.0, 3.0, 2.0, 3.0, 7.0, 7.0, 2.0, 3.0, 2.0, 6.0, 4.0, 2.312472144845857, 15.36520087203751, 0.8519511936834173, 0.8519510219023185, 0.8519508501212198, 0.8519506783401211, 0.8519506783401211, 0.8519506783401211, 0.8519506783401211, 0.8519505924495717, 0.8519504206684729, 0.8519502488873741, 0.8519501629968248, 0.8519486169669359, 0.8519486169669359, 0.8519485310763866, 0.8519483592952878, 0.851948187514189, 0.8519481016236397, 0.8519481016236397, 0.8519475862803434, 0.851947500389794, 0.8519474144992446, 0.8519473286086953, 0.8519472427181458, 0.8519469850464977, 0.8519469850464977, 0.8519468991559483, 0.8519460402504545, 0.8519456107977077, 6.324137641798268, 4.098034972035254, 8.88233062374197, 3.0424256905488694, 2.3140884332040805, 1.5829322480286567, 2.3131082502545617, 1.5815543918355106, 1.5825572498900657, 1.5821418831932665, 6.775306268076501, 1.5827556570591323, 2.311820750919363, 1.1014622948348296, 2.9338840854870045, 2.313415566640242, 1.582869204365412, 2.3121802887590657, 1.5838490437527335, 2.331395550685149, 1.5815023421625867, 1.5821874051844376, 0.9343678139027167, 0.8996639092070273, 0.9093423139827579, 0.8551707150363586, 0.8544932103828531, 0.8543341410854023, 3.1230687525860508, 1.626987591361429, 1.6229169707583735, 1.622170638610583, 1.620667851236209, 3.038629866516754, 1.3812441390189885, 1.3723141140443424, 0.8760711583568387, 0.8760709134436421, 0.8760709134436421, 0.8760707501681777, 0.8760703419795167, 0.876069688877659, 0.876069688877659, 0.8760696072399269, 0.8760696072399269, 0.8760693623267303, 0.876069280688998, 0.876069280688998, 0.8760685459494082, 0.8760681377607472, 0.8760681377607472, 0.8760673213834252, 0.8760670764702286, 0.8760649538891914, 0.8760637293232083, 0.8760634844100117, 0.8760625863949575, 0.8760524633161645, 14.276486587572391, 3.0482500568794357, 2.3771100157826224, 1.6271087417560166, 7.260576455838079, 2.3738340568648213, 7.6162668302272545, 3.1218670451680373, 1.6278794019480032, 1.6036767533084748, 3.122525698391443, 1.6256302824258386, 1.6273467973831175, 1.6274228837495297, 1.6208525157864497, 1.6168594510289864, 1.621086652802405, 1.6309770640586752, 1.7602300035674634, 0.8762403117379612, 0.8761154060076922, 3.031040414509086, 3.0307238078877097, 2.301817421631744, 2.29676008982213, 1.576620614990937, 1.576618682498843, 1.5766138512686083, 1.576611435653491, 2.305102819232302, 0.8489497353469744, 0.8489495743059666, 0.8489495743059666, 0.8489494937854627, 0.8489477223343767, 0.848947480772865, 0.8489469976498415, 0.8489468366088336, 0.8489468366088336, 0.8489463534858102, 0.8489459508832906, 0.848945628801275, 0.8489445820347241, 0.848943776829685, 0.8489432131861576, 0.848942891104142, 0.8489416832965834, 0.8489416027760794, 0.8489416027760794, 0.8489415222555755, 0.8489413612145678, 13.87935790890296, 2.3042530058340303, 1.5886325027233046, 1.5772048717673117, 1.5767732818663514, 3.037267226117496, 1.4944661890150366, 1.5769412476375086, 1.5992101592400174, 1.5928163481064965, 2.3152392233875854, 1.5754798004915322, 2.2511502166280475, 1.5888882358437244, 1.574397121795951, 1.5721340125130412, 1.5797570496592606, 2.3081996378127014, 1.2238142296305912, 0.921340969703217, 0.9621167944450301, 2.186382589099172, 3.555388382681431, 1.4955509369877276, 1.4898100507911698, 1.4121272567131997, 2.8418923205358615, 2.183299866806984, 0.8055098376048405, 0.805509651883761, 0.8055092804416019, 0.8055090328134958, 0.8055089089994428, 0.8055086613713368, 0.8055085994643102, 0.8055081661151247, 0.8055081661151247, 0.8055080423010716, 0.8055077946729656, 0.8055076089518861, 0.805507485137833, 0.805507485137833, 0.805507237509727, 0.8055063708113558, 0.8055061231832498, 0.8055058755551437, 0.8055057517410907, 0.8055056279270377, 0.8055056279270377, 0.8055055041129846, 0.8055047612286665, 1.4923151805260018, 2.87214653202035, 2.882207414340963, 2.1826278041271703, 5.504156203457119, 2.8784333143766894, 2.8651205797674573, 1.4959855243138414, 1.4963991870649942, 2.1812750117838315, 1.492264912020474, 2.876064503914237, 1.4926628503868928, 0.807608485803595, 0.8060817347157577, 0.8058945278675856, 0.8058105819396355, 0.8056665242889421, 0.8055847451069199, 2.0995770038566146, 2.091032152765165, 1.4369528147775485, 1.4369280584575275, 1.436566011279662, 1.4365088813103828, 0.773742987503594, 0.7737422593765346, 0.7737420913472132, 0.7737420353374393, 0.7737415312494751, 0.7737413072103799, 0.7737404670637729, 0.7737400749953562, 0.7737360983014162, 0.7737357062329996, 0.7737345860375235, 0.7737340259397855, 0.7737301612653931, 0.7737279768842147, 0.7737222638872867, 0.773710221785919, 0.7735673968627204, 0.7734811978208368, 0.773464058830053, 0.7713068984017882, 0.7711129365551069, 0.7709430589111612, 0.770904356157463, 0.7707420398329807, 2.7516911829205646, 2.7641201998057334, 1.4373768087652405, 1.4371581466083119, 4.418484697301888, 4.0790901123536525, 2.76457768763816, 2.699504188198778, 3.4216426826281414, 2.100319693457248, 2.764475301771647, 1.4315457432341143, 3.447537121252937, 1.436979475429879, 1.4379537094354156, 1.4373024277856294, 1.4368884035376746, 1.4362820417264788, 1.4362170703888668, 0.7995029466614879, 0.7741201013106124, 0.7738612801458669, 0.7738529346895702, 0.773821065128276, 1.1419833799154295, 2.1972887964179044, 0.6175961081063488, 0.617595823611102, 0.617595823611102, 0.617595823611102, 0.617595823611102, 0.6175957667120526, 0.6175956529139539, 0.6175950839234604, 0.6175949701253618, 0.6175938890434242, 0.6175929786586345, 0.6175920682738449, 0.6175919544757462, 0.6175913285862034, 0.6175836472145413, 0.6175825092335543, 0.6175817695459127, 0.6175811436563698, 0.6175801763725309, 0.6175764210352739, 0.6165914984910374, 0.6165910432986427, 0.6165904743081492, 0.617686236200518, 0.6178507313521869, 0.6178135193739125, 0.6175973598854344, 2.740493551130639, 1.147361022867531, 0.8697139181044908, 0.6193648150553719, 0.6189545160105141, 0.6186577874681575, 0.6180139178257207, 0.6178244439913875, 0.6177983273277362, 0.6177477440728646, 0.6176490811212929], \"Total\": [24.0, 17.0, 23.0, 11.0, 29.0, 9.0, 3.0, 4.0, 12.0, 6.0, 5.0, 11.0, 5.0, 3.0, 4.0, 9.0, 5.0, 3.0, 2.0, 1.0, 3.0, 2.0, 3.0, 7.0, 7.0, 2.0, 3.0, 2.0, 6.0, 4.0, 3.6003159062064745, 24.94382096291325, 1.4122234758528391, 1.4122234754504213, 1.4122234130972007, 1.4122233511315538, 1.412223351636082, 1.4122233605825028, 1.4122234007449355, 1.412223429604121, 1.4122233974613922, 1.4122233688861805, 1.4122233988041273, 1.412223241791966, 1.4122232783833712, 1.4122233617732047, 1.4122232618464403, 1.412223199233491, 1.41222324419758, 1.4122232556197767, 1.412223153813664, 1.4122231184079652, 1.4122232025540693, 1.4122231842462543, 1.4122231426964391, 1.4122231242054004, 1.4122232200264766, 1.4122231760378154, 1.4122230577874644, 1.4122229743159322, 11.200200645740686, 7.140835469235532, 17.377509967170557, 5.592574880121983, 4.263895203769893, 2.805749144357838, 4.351286136241458, 2.833040862944629, 2.8701428302406233, 2.893260617241876, 29.443526791747285, 3.4961476903365636, 6.3588447968041235, 2.140775766226038, 11.182761504083553, 7.640508957502813, 4.223801601528392, 9.012964697485229, 5.0390210761513385, 12.618983300602519, 5.698325032658699, 7.715180800817332, 2.8678588813007257, 7.683316037455282, 23.92723247754795, 2.8907327264198077, 2.163074278485722, 2.1630762547854054, 3.68551375787029, 2.183824746598599, 2.1837128944170825, 2.183692523308735, 2.1836512692083643, 4.388565578083828, 2.111320343552026, 2.10922740947174, 1.4329012118469624, 1.4329011897028907, 1.4329012907314382, 1.4329012216880483, 1.4329010980910986, 1.4329010114057985, 1.4329010694054631, 1.4329009500812373, 1.4329010003450708, 1.43290094733601, 1.432901082598009, 1.432901083338574, 1.4329008094633449, 1.4329008357873771, 1.4329009266783839, 1.4329007704481707, 1.432900819216731, 1.4329005011770732, 1.4329003917387926, 1.432900281138182, 1.4329003082590788, 1.4328992369145692, 23.92723247754795, 5.080220573660388, 4.328328395192698, 2.9140732163699723, 17.377509967170557, 5.01855100293213, 24.94382096291325, 9.668746517939166, 3.6417675837341923, 3.6384507266360786, 12.618983300602519, 4.29487545559616, 4.891335815481455, 5.698325032658699, 6.3588447968041235, 6.437319058510325, 7.715180800817332, 11.182761504083553, 29.443526791747285, 2.1605797673933296, 2.0963754906176097, 3.5926276466617484, 3.5926113430922095, 2.864873868329385, 2.8647288117453864, 2.1373264234938065, 2.1373263684876624, 2.13732565444085, 2.1373256049833733, 3.5952400609188038, 1.4096521359757939, 1.4096520354212174, 1.4096521311617805, 1.4096521494771954, 1.4096519024921508, 1.4096518887416132, 1.4096520377618929, 1.4096519083987042, 1.4096519430089165, 1.409651850066255, 1.4096518231048587, 1.4096517752251945, 1.4096517012191891, 1.4096517010319554, 1.4096515033224462, 1.4096514967152185, 1.4096513215930073, 1.409651395352992, 1.4096514748410975, 1.409651469099745, 1.4096513792013294, 29.443526791747285, 4.245879590998138, 2.8876768042233185, 2.867568033245705, 2.867570906603098, 6.884171210769597, 2.8678588813007257, 3.55798654938063, 3.6384507266360786, 3.6179356270288325, 6.437319058510325, 3.8863303921545502, 7.683316037455282, 4.9045925131742765, 5.0390210761513385, 5.320675741993366, 6.3588447968041235, 23.92723247754795, 7.140835469235532, 7.640508957502813, 24.94382096291325, 2.7532994738850016, 4.663684587950185, 2.0628440673215453, 2.0632093228640804, 2.070200831864435, 4.174495475426704, 3.5041350448974877, 1.3724185312031512, 1.3724184450556982, 1.3724185213982873, 1.3724185984759008, 1.3724185236463289, 1.372418434533976, 1.372418435184946, 1.3724184237413002, 1.3724184579532066, 1.3724184381495146, 1.3724184057050408, 1.3724184460161282, 1.3724183916127586, 1.3724184735691165, 1.3724183805257237, 1.3724184388678198, 1.3724183294559944, 1.3724183045021656, 1.3724184198852907, 1.3724184298431414, 1.3724185181008959, 1.3724184185394663, 1.3724184734931473, 2.592455940997652, 6.884171210769597, 7.683316037455282, 6.437319058510325, 29.443526791747285, 11.182761504083553, 12.618983300602519, 4.245879590998138, 4.29487545559616, 9.668746517939166, 4.891335815481455, 23.92723247754795, 7.640508957502813, 5.0390210761513385, 3.8863303921545502, 3.55798654938063, 7.140835469235532, 9.012964697485229, 2.12333450822132, 2.671692451337794, 2.6725018239432115, 2.008402284272382, 2.0084027871309424, 2.0084538146763404, 2.0084610948957264, 1.3451901093716845, 1.3451900345068002, 1.3451900910267913, 1.3451901665561234, 1.3451901999197542, 1.3451902166458956, 1.345190263488929, 1.3451901181716999, 1.3451903107132839, 1.345190306248886, 1.3451902137129532, 1.3451901880212038, 1.345190276457637, 1.3451906115693115, 1.3451906511491711, 1.3451910335834654, 1.345213604805941, 1.3452249057003862, 1.3452271571768575, 1.3454358394881094, 1.3454457966009852, 1.3454623077102275, 1.345465848410515, 1.3454816538790217, 5.320675741993366, 5.506530306588994, 2.7360332472543223, 2.7386263687164734, 11.200200645740686, 12.618983300602519, 7.715180800817332, 7.640508957502813, 11.182761504083553, 5.592574880121983, 9.668746517939166, 3.996366214579397, 23.92723247754795, 4.891335815481455, 4.9045925131742765, 5.698325032658699, 7.683316037455282, 9.012964697485229, 29.443526791747285, 7.140835469235532, 5.01855100293213, 2.0754198364031695, 3.4961476903365636, 2.035043308175584, 1.742608085198237, 3.493311282770302, 1.211348988894541, 1.2113491207188507, 1.2113491543216497, 1.2113491816986837, 1.2113491833667414, 1.2113491800362095, 1.2113492194338393, 1.2113494277455237, 1.2113494071054278, 1.2113498337216821, 1.2113501307504513, 1.211350317340637, 1.2113505006290932, 1.2113507074109826, 1.2113533567530168, 1.2113538910329127, 1.211354020652358, 1.2113541927030598, 1.2113546528633417, 1.211355841181394, 1.2117693396327895, 1.2117694678162585, 1.2117696084214065, 1.9017625319442675, 1.9414979690640828, 1.9415119507556744, 1.9621239105277475, 9.012964697485229, 3.8863303921545502, 17.377509967170557, 9.668746517939166, 4.663684587950185, 2.6317311730643316, 2.669111376381496, 6.3588447968041235, 2.689538480545286, 3.996366214579397, 2.6895782841531184], \"Category\": [\"Default\", \"Default\", \"Default\", \"Default\", \"Default\", \"Default\", \"Default\", \"Default\", \"Default\", \"Default\", \"Default\", \"Default\", \"Default\", \"Default\", \"Default\", \"Default\", \"Default\", \"Default\", \"Default\", \"Default\", \"Default\", \"Default\", \"Default\", \"Default\", \"Default\", \"Default\", \"Default\", \"Default\", \"Default\", \"Default\", \"Topic1\", \"Topic1\", \"Topic1\", \"Topic1\", \"Topic1\", \"Topic1\", \"Topic1\", \"Topic1\", \"Topic1\", \"Topic1\", \"Topic1\", \"Topic1\", \"Topic1\", \"Topic1\", \"Topic1\", \"Topic1\", \"Topic1\", \"Topic1\", \"Topic1\", \"Topic1\", \"Topic1\", \"Topic1\", \"Topic1\", \"Topic1\", \"Topic1\", \"Topic1\", \"Topic1\", \"Topic1\", \"Topic1\", \"Topic1\", \"Topic1\", \"Topic1\", \"Topic1\", \"Topic1\", \"Topic1\", \"Topic1\", \"Topic1\", \"Topic1\", \"Topic1\", \"Topic1\", \"Topic1\", \"Topic1\", \"Topic1\", \"Topic1\", \"Topic1\", \"Topic1\", \"Topic1\", \"Topic1\", \"Topic1\", \"Topic1\", \"Topic1\", \"Topic1\", \"Topic1\", \"Topic1\", \"Topic1\", \"Topic1\", \"Topic1\", \"Topic1\", \"Topic2\", \"Topic2\", \"Topic2\", \"Topic2\", \"Topic2\", \"Topic2\", \"Topic2\", \"Topic2\", \"Topic2\", \"Topic2\", \"Topic2\", \"Topic2\", \"Topic2\", \"Topic2\", \"Topic2\", \"Topic2\", \"Topic2\", \"Topic2\", \"Topic2\", \"Topic2\", \"Topic2\", \"Topic2\", \"Topic2\", \"Topic2\", \"Topic2\", \"Topic2\", \"Topic2\", \"Topic2\", \"Topic2\", \"Topic2\", \"Topic2\", \"Topic2\", \"Topic2\", \"Topic2\", \"Topic2\", \"Topic2\", \"Topic2\", \"Topic2\", \"Topic2\", \"Topic2\", \"Topic2\", \"Topic2\", \"Topic2\", \"Topic2\", \"Topic2\", \"Topic2\", \"Topic2\", \"Topic2\", \"Topic2\", \"Topic2\", \"Topic2\", \"Topic3\", \"Topic3\", \"Topic3\", \"Topic3\", \"Topic3\", \"Topic3\", \"Topic3\", \"Topic3\", \"Topic3\", \"Topic3\", \"Topic3\", \"Topic3\", \"Topic3\", \"Topic3\", \"Topic3\", \"Topic3\", \"Topic3\", \"Topic3\", \"Topic3\", \"Topic3\", \"Topic3\", \"Topic3\", \"Topic3\", \"Topic3\", \"Topic3\", \"Topic3\", \"Topic3\", \"Topic3\", \"Topic3\", \"Topic3\", \"Topic3\", \"Topic3\", \"Topic3\", \"Topic3\", \"Topic3\", \"Topic3\", \"Topic3\", \"Topic3\", \"Topic3\", \"Topic3\", \"Topic3\", \"Topic3\", \"Topic3\", \"Topic3\", \"Topic3\", \"Topic3\", \"Topic3\", \"Topic3\", \"Topic3\", \"Topic3\", \"Topic3\", \"Topic4\", \"Topic4\", \"Topic4\", \"Topic4\", \"Topic4\", \"Topic4\", \"Topic4\", \"Topic4\", \"Topic4\", \"Topic4\", \"Topic4\", \"Topic4\", \"Topic4\", \"Topic4\", \"Topic4\", \"Topic4\", \"Topic4\", \"Topic4\", \"Topic4\", \"Topic4\", \"Topic4\", \"Topic4\", \"Topic4\", \"Topic4\", \"Topic4\", \"Topic4\", \"Topic4\", \"Topic4\", \"Topic4\", \"Topic4\", \"Topic4\", \"Topic4\", \"Topic4\", \"Topic4\", \"Topic4\", \"Topic4\", \"Topic4\", \"Topic4\", \"Topic4\", \"Topic4\", \"Topic4\", \"Topic4\", \"Topic4\", \"Topic4\", \"Topic4\", \"Topic4\", \"Topic4\", \"Topic4\", \"Topic4\", \"Topic5\", \"Topic5\", \"Topic5\", \"Topic5\", \"Topic5\", \"Topic5\", \"Topic5\", \"Topic5\", \"Topic5\", \"Topic5\", \"Topic5\", \"Topic5\", \"Topic5\", \"Topic5\", \"Topic5\", \"Topic5\", \"Topic5\", \"Topic5\", \"Topic5\", \"Topic5\", \"Topic5\", \"Topic5\", \"Topic5\", \"Topic5\", \"Topic5\", \"Topic5\", \"Topic5\", \"Topic5\", \"Topic5\", \"Topic5\", \"Topic5\", \"Topic5\", \"Topic5\", \"Topic5\", \"Topic5\", \"Topic5\", \"Topic5\", \"Topic5\", \"Topic5\", \"Topic5\", \"Topic5\", \"Topic5\", \"Topic5\", \"Topic5\", \"Topic5\", \"Topic5\", \"Topic5\", \"Topic5\", \"Topic5\", \"Topic5\", \"Topic5\", \"Topic5\", \"Topic5\", \"Topic5\", \"Topic6\", \"Topic6\", \"Topic6\", \"Topic6\", \"Topic6\", \"Topic6\", \"Topic6\", \"Topic6\", \"Topic6\", \"Topic6\", \"Topic6\", \"Topic6\", \"Topic6\", \"Topic6\", \"Topic6\", \"Topic6\", \"Topic6\", \"Topic6\", \"Topic6\", \"Topic6\", \"Topic6\", \"Topic6\", \"Topic6\", \"Topic6\", \"Topic6\", \"Topic6\", \"Topic6\", \"Topic6\", \"Topic6\", \"Topic6\", \"Topic6\", \"Topic6\", \"Topic6\", \"Topic6\", \"Topic6\", \"Topic6\", \"Topic6\", \"Topic6\", \"Topic6\", \"Topic6\"], \"logprob\": [30.0, 29.0, 28.0, 27.0, 26.0, 25.0, 24.0, 23.0, 22.0, 21.0, 20.0, 19.0, 18.0, 17.0, 16.0, 15.0, 14.0, 13.0, 12.0, 11.0, 10.0, 9.0, 8.0, 7.0, 6.0, 5.0, 4.0, 3.0, 2.0, 1.0, -4.3791, -2.4853, -5.3776, -5.3776, -5.3776, -5.3776, -5.3776, -5.3776, -5.3776, -5.3776, -5.3776, -5.3776, -5.3776, -5.3776, -5.3776, -5.3776, -5.3776, -5.3776, -5.3776, -5.3776, -5.3776, -5.3776, -5.3776, -5.3776, -5.3776, -5.3776, -5.3776, -5.3776, -5.3776, -5.3776, -3.373, -3.8069, -3.0333, -4.1047, -4.3784, -4.7581, -4.3788, -4.759, -4.7583, -4.7586, -3.3041, -4.7582, -4.3793, -5.1207, -4.141, -4.3786, -4.7581, -4.3792, -4.7575, -4.3709, -4.759, -4.7586, -5.2853, -5.3231, -5.3124, -5.3738, -5.3746, -5.3748, -4.0278, -4.6799, -4.6824, -4.6828, -4.6838, -4.0552, -4.8436, -4.8501, -5.2989, -5.2989, -5.2989, -5.2989, -5.2989, -5.2989, -5.2989, -5.2989, -5.2989, -5.2989, -5.2989, -5.2989, -5.2989, -5.2989, -5.2989, -5.2989, -5.2989, -5.2989, -5.2989, -5.2989, -5.2989, -5.2989, -2.508, -4.052, -4.3007, -4.6798, -3.1841, -4.3021, -3.1363, -4.0282, -4.6793, -4.6943, -4.0279, -4.6807, -4.6796, -4.6796, -4.6836, -4.6861, -4.6835, -4.6774, -4.6011, -5.2987, -5.2988, -4.0439, -4.044, -4.3191, -4.3213, -4.6975, -4.6975, -4.6975, -4.6975, -4.3177, -5.3166, -5.3166, -5.3166, -5.3166, -5.3166, -5.3166, -5.3166, -5.3166, -5.3166, -5.3166, -5.3166, -5.3166, -5.3166, -5.3166, -5.3166, -5.3166, -5.3166, -5.3166, -5.3166, -5.3166, -5.3166, -2.5224, -4.3181, -4.6899, -4.6972, -4.6974, -4.0419, -4.751, -4.6973, -4.6833, -4.6873, -4.3133, -4.6982, -4.3414, -4.6898, -4.6989, -4.7004, -4.6955, -4.3163, -4.9508, -5.2347, -5.1914, -4.1077, -3.6215, -4.4874, -4.4913, -4.5448, -3.8455, -4.1091, -5.1062, -5.1062, -5.1062, -5.1062, -5.1062, -5.1062, -5.1062, -5.1062, -5.1062, -5.1062, -5.1062, -5.1062, -5.1062, -5.1062, -5.1062, -5.1062, -5.1062, -5.1062, -5.1062, -5.1062, -5.1062, -5.1062, -5.1062, -4.4896, -3.8349, -3.8314, -4.1094, -3.1844, -3.8327, -3.8373, -4.4871, -4.4869, -4.11, -4.4896, -3.8335, -4.4894, -5.1036, -5.1055, -5.1057, -5.1058, -5.106, -5.1061, -4.0481, -4.0522, -4.4273, -4.4273, -4.4276, -4.4276, -5.0463, -5.0463, -5.0463, -5.0463, -5.0463, -5.0463, -5.0463, -5.0463, -5.0463, -5.0463, -5.0463, -5.0464, -5.0464, -5.0464, -5.0464, -5.0464, -5.0466, -5.0467, -5.0467, -5.0495, -5.0497, -5.05, -5.05, -5.0502, -3.7776, -3.7731, -4.427, -4.4272, -3.304, -3.3839, -3.7729, -3.7968, -3.5597, -4.0477, -3.773, -4.4311, -3.5522, -4.4273, -4.4266, -4.4271, -4.4273, -4.4278, -4.4278, -5.0136, -5.0459, -5.0462, -5.0462, -5.0462, -3.9797, -3.3252, -4.5943, -4.5943, -4.5943, -4.5943, -4.5943, -4.5943, -4.5943, -4.5944, -4.5944, -4.5944, -4.5944, -4.5944, -4.5944, -4.5944, -4.5944, -4.5944, -4.5944, -4.5944, -4.5944, -4.5944, -4.596, -4.596, -4.596, -4.5942, -4.5939, -4.594, -4.5943, -3.1043, -3.975, -4.252, -4.5915, -4.5922, -4.5926, -4.5937, -4.594, -4.594, -4.5941, -4.5943], \"loglift\": [30.0, 29.0, 28.0, 27.0, 26.0, 25.0, 24.0, 23.0, 22.0, 21.0, 20.0, 19.0, 18.0, 17.0, 16.0, 15.0, 14.0, 13.0, 12.0, 11.0, 10.0, 9.0, 8.0, 7.0, 6.0, 5.0, 4.0, 3.0, 2.0, 1.0, 1.0816, 1.0398, 1.0189, 1.0189, 1.0189, 1.0189, 1.0189, 1.0189, 1.0189, 1.0189, 1.0189, 1.0189, 1.0189, 1.0189, 1.0189, 1.0189, 1.0189, 1.0189, 1.0189, 1.0189, 1.0189, 1.0189, 1.0189, 1.0189, 1.0189, 1.0189, 1.0189, 1.0189, 1.0189, 1.0189, 0.9528, 0.969, 0.8532, 0.9155, 0.9132, 0.9519, 0.8925, 0.9414, 0.929, 0.9207, 0.0551, 0.7318, 0.5125, 0.8598, 0.1863, 0.3296, 0.5428, 0.1639, 0.367, -0.1644, 0.2425, -0.0601, 0.4029, -0.6205, -1.7457, 0.3064, 0.5956, 0.5954, 1.4095, 1.2808, 1.2783, 1.2779, 1.277, 1.2075, 1.1508, 1.1453, 1.0831, 1.0831, 1.0831, 1.0831, 1.0831, 1.0831, 1.0831, 1.0831, 1.0831, 1.0831, 1.0831, 1.0831, 1.0831, 1.0831, 1.0831, 1.0831, 1.0831, 1.0831, 1.0831, 1.0831, 1.0831, 1.0831, 1.0587, 1.0643, 0.9758, 0.9924, 0.7024, 0.8265, 0.3888, 0.4446, 0.7699, 0.7559, 0.1786, 0.6036, 0.4746, 0.3219, 0.2082, 0.1935, 0.015, -0.3501, -1.2419, 0.6726, 0.7026, 1.4189, 1.4188, 1.3701, 1.3679, 1.2846, 1.2846, 1.2846, 1.2846, 1.1444, 1.0818, 1.0818, 1.0818, 1.0818, 1.0818, 1.0818, 1.0818, 1.0818, 1.0818, 1.0818, 1.0818, 1.0818, 1.0818, 1.0818, 1.0818, 1.0818, 1.0818, 1.0818, 1.0818, 1.0818, 1.0818, 0.8368, 0.9777, 0.9913, 0.9911, 0.9908, 0.7706, 0.9371, 0.7752, 0.7668, 0.7685, 0.5663, 0.686, 0.3613, 0.4618, 0.4256, 0.3697, 0.1963, -0.7497, -0.175, -0.5265, -1.6664, 1.6212, 1.5804, 1.5302, 1.5262, 1.4692, 1.4672, 1.3787, 1.3189, 1.3189, 1.3189, 1.3189, 1.3189, 1.3189, 1.3189, 1.3189, 1.3189, 1.3189, 1.3189, 1.3189, 1.3189, 1.3189, 1.3189, 1.3189, 1.3189, 1.3189, 1.3189, 1.3189, 1.3189, 1.3189, 1.3189, 1.2995, 0.9776, 0.8713, 0.7702, 0.1748, 0.4946, 0.3692, 0.8086, 0.7974, 0.3628, 0.6646, -0.2668, 0.2189, 0.0209, 0.2787, 0.3668, -0.33, -0.563, 0.8826, 1.7109, 1.7065, 1.6171, 1.617, 1.6168, 1.6167, 1.3988, 1.3988, 1.3988, 1.3988, 1.3988, 1.3988, 1.3988, 1.3988, 1.3988, 1.3988, 1.3988, 1.3988, 1.3988, 1.3988, 1.3988, 1.3988, 1.3986, 1.3985, 1.3984, 1.3955, 1.3952, 1.395, 1.3949, 1.3947, 1.2925, 1.2627, 1.3082, 1.3071, 1.0217, 0.8225, 0.9256, 0.9115, 0.7676, 0.9725, 0.6998, 0.9252, 0.0145, 0.727, 0.7249, 0.5745, 0.2753, 0.1153, -1.0686, -0.2377, 0.0827, 0.9654, 0.4438, 0.9849, 2.2067, 2.1656, 1.9556, 1.9556, 1.9556, 1.9556, 1.9556, 1.9556, 1.9556, 1.9556, 1.9556, 1.9556, 1.9556, 1.9556, 1.9556, 1.9556, 1.9556, 1.9556, 1.9556, 1.9556, 1.9556, 1.9556, 1.9536, 1.9536, 1.9536, 1.5047, 1.4843, 1.4842, 1.4733, 1.4387, 1.4093, -0.3655, -0.1187, 0.6097, 1.1814, 1.1663, 0.2979, 1.1583, 0.7622, 1.1581]}, \"token.table\": {\"Topic\": [5, 3, 4, 1, 2, 3, 4, 5, 1, 1, 2, 3, 6, 2, 3, 3, 2, 4, 1, 2, 2, 4, 1, 2, 3, 4, 5, 2, 3, 4, 6, 6, 6, 5, 6, 5, 2, 4, 2, 6, 1, 6, 1, 1, 4, 2, 5, 2, 3, 1, 2, 3, 6, 2, 5, 4, 1, 3, 2, 1, 3, 4, 3, 5, 2, 4, 1, 5, 3, 5, 2, 3, 2, 2, 2, 3, 5, 6, 5, 1, 4, 3, 4, 5, 1, 6, 3, 2, 5, 6, 1, 3, 1, 2, 3, 6, 3, 3, 5, 1, 6, 1, 3, 4, 5, 5, 5, 1, 5, 3, 4, 6, 1, 3, 4, 5, 1, 1, 3, 5, 1, 5, 5, 1, 5, 1, 2, 4, 5, 3, 1, 4, 5, 4, 2, 3, 4, 4, 6, 2, 3, 6, 5, 6, 3, 1, 2, 3, 2, 2, 3, 6, 4, 2, 1, 1, 2, 3, 4, 1, 3, 4, 5, 4, 1, 2, 4, 3, 4, 2, 3, 5, 3, 4, 6, 2, 2, 5, 4, 1, 3, 5, 1, 1, 1, 5, 1, 2, 5, 3, 5, 3, 1, 2, 4, 5, 1, 1, 5, 6, 5, 1, 3, 5, 6, 2, 4, 5, 1, 3, 1, 2, 2, 1, 2, 3, 5, 1, 2, 3, 4, 4, 4, 6, 2, 2, 5, 1, 2, 4, 5, 3, 3, 3, 5, 1, 3, 1, 2, 3, 6, 1, 5, 2, 5, 1, 2, 2, 6, 2, 1, 3, 4, 3, 1, 2, 6, 1, 3, 3, 1, 4, 3, 1, 2, 3, 6, 6, 3, 4, 4, 6, 6, 6, 4, 3, 3, 5, 5, 2, 3, 4, 5, 1, 3, 4, 5, 1, 3, 4, 3, 1, 2, 5, 4, 1, 3, 1, 1, 2, 4, 6, 3, 6, 4, 6, 4, 5, 2, 4, 1, 3, 1, 1, 3, 6, 5, 1, 3, 4, 6, 4, 1, 2, 3, 4, 1, 2, 4, 5, 6, 4, 6, 2, 2, 2, 1, 4, 1, 2, 3, 6, 1, 2, 3, 4, 5, 1, 3, 1, 1, 5, 4, 5, 5, 1, 4, 6, 1, 2, 4, 5, 2, 1, 2, 3, 4, 5, 6, 1, 2, 4, 6, 2, 6, 1, 4, 4, 6], \"Freq\": [0.7433893176309347, 0.7093952100363053, 0.48476761566298515, 0.0417933833734573, 0.5851073672284022, 0.0835867667469146, 0.1253801501203719, 0.1253801501203719, 0.7081033339533931, 0.27640071662116134, 0.27640071662116134, 0.5528014332423227, 0.8255229528404983, 0.5496845086724853, 0.5496845086724853, 0.7093948744367182, 0.6978848122007578, 0.7264011848220528, 0.34316227690589346, 0.6863245538117869, 0.6978852570804198, 0.7286407311316616, 0.23774325845917438, 0.06792664527404982, 0.47548651691834876, 0.20377993582214946, 0.03396332263702491, 0.3106883442969851, 0.3106883442969851, 0.3106883442969851, 0.8255251513288595, 0.8255259294950046, 0.8252394754607159, 0.7433892404328558, 0.8255256304212137, 0.748362445286959, 0.6978848723978183, 0.728640664816493, 0.6978852164221425, 0.8255248992596841, 0.5150662096659618, 0.5150662096659618, 0.7081032498379688, 0.7081033936964397, 0.7286407518560941, 0.47701378139342376, 0.47701378139342376, 0.4741072468096041, 0.9357488607897712, 0.45963421787921177, 0.22981710893960589, 0.22981710893960589, 0.825521259735483, 0.6978847785736451, 0.7433892991932693, 0.7286407045448035, 0.3487272093943065, 0.697454418788613, 0.6978852702894857, 0.7081032268501664, 0.7093949250399163, 0.4830449223128725, 0.7093952552769275, 0.7433893593705364, 0.8139977753694723, 0.728640749936542, 0.4818302217507286, 0.4818302217507286, 0.7093949238619921, 0.7432535767595313, 0.3462991421122573, 0.6925982842245146, 0.4736372682875911, 0.6978849458220812, 0.9158971618783511, 0.37589210412035173, 0.5638381561805276, 0.18794605206017587, 0.49790821681040215, 0.7081033636832017, 0.7286407462699294, 0.23954990630281692, 0.7186497189084508, 0.7433893492326398, 0.7081034362706866, 0.8255220695576215, 0.7093952071470181, 0.9158713149119713, 0.7433893057687374, 0.8252393797057822, 0.2781455432893788, 0.5562910865787576, 0.7081032891849175, 0.46283873203462794, 0.46283873203462794, 0.825525024169202, 0.7093952471487386, 0.7093949889628789, 0.7433688761522153, 0.5150625004449653, 0.5150625004449653, 0.13015213680201557, 0.26030427360403113, 0.3904564104060467, 0.13015213680201557, 0.7433893906050527, 0.7433893443695073, 0.7081032659546616, 0.7432369994239274, 0.4357823052551047, 0.4357823052551047, 0.14526076841836824, 0.2617626667443461, 0.13088133337217306, 0.13088133337217306, 0.3926440001165192, 0.7081033370755065, 0.7081032838490845, 0.7093951961390516, 0.7433892915707663, 0.7081032652814006, 0.7432282685661312, 0.743376365231051, 0.7128221010142185, 0.35641105050710925, 0.19926070282353248, 0.39852140564706495, 0.19926070282353248, 0.19926070282353248, 0.7093950559812888, 0.5720582129662451, 0.2860291064831226, 0.2860291064831226, 0.7286407394224186, 0.5905255404763748, 0.1968418468254583, 0.1968418468254583, 0.4846817959371337, 0.8255258167575935, 0.3718055004726792, 0.3718055004726792, 0.3718055004726792, 0.7433892568963215, 0.8255253537515723, 0.9357488391366471, 0.7081033256616052, 0.6978848169937919, 0.7093949715455928, 0.6978849444850362, 0.6835946613129762, 0.22786488710432543, 0.8255257981003403, 0.7286407057383275, 0.9158244053764324, 0.7081033769787267, 0.6013513335547976, 0.3207207112292254, 0.040090088903653176, 0.040090088903653176, 0.47350708879799075, 0.23675354439899537, 0.23675354439899537, 0.23675354439899537, 0.7286407074889696, 0.7081033428027141, 0.28537712935925236, 0.5707542587185047, 0.4710449171098213, 0.23552245855491066, 0.697885031974146, 0.36549263463940906, 0.36549263463940906, 0.5146242851707767, 0.25731214258538837, 0.25731214258538837, 0.6978851631209132, 0.697884886368965, 0.7433701203140852, 0.7286407603478569, 0.46905467991608096, 0.23452733995804048, 0.23452733995804048, 0.7081033653481741, 0.7081032844461147, 0.5364255399892948, 0.3576170266595298, 0.7081033440089138, 0.6978850082217356, 0.7433892379657064, 0.9357485024354285, 0.7432480762334025, 0.7093950932241725, 0.15849137385771053, 0.2377370607865658, 0.2377370607865658, 0.31698274771542106, 0.7081032643082594, 0.3651465608536718, 0.3651465608536718, 0.8255258396576621, 0.7485891570336032, 0.25022731809508264, 0.25022731809508264, 0.25022731809508264, 0.25022731809508264, 0.40888625836521914, 0.20444312918260957, 0.20444312918260957, 0.7081033728629302, 0.6981110135805995, 0.4623045525037249, 0.4623045525037249, 0.6978857788725453, 0.3509803299280822, 0.3509803299280822, 0.1754901649640411, 0.1754901649640411, 0.3969024875616403, 0.19845124378082016, 0.3969024875616403, 0.19845124378082016, 0.7286407495551813, 0.7286407005327559, 0.8255225887352434, 0.6978848799436237, 0.6978850129720588, 0.7433890498315007, 0.18160255992842206, 0.18160255992842206, 0.18160255992842206, 0.5448076797852661, 0.9357485265178138, 0.709395031886263, 0.7093949988551381, 0.7433890717044115, 0.5555068088753715, 0.27775340443768576, 0.3145225373333809, 0.3145225373333809, 0.3145225373333809, 0.15726126866669046, 0.5357046886728528, 0.3571364591152352, 0.9158798588409306, 0.7433892640631874, 0.6912616126184253, 0.34563080630921267, 0.697884827778912, 0.8255257992333046, 0.6978849558832416, 0.3486921921159688, 0.3486921921159688, 0.7286407671618762, 0.6981463626853618, 0.5179107948723795, 0.40281950712296183, 0.057545643874708834, 0.46712038494479724, 0.46712038494479724, 0.7093949919353003, 0.7081033549223555, 0.7286407805300132, 0.7093948676422583, 0.274591932902709, 0.549183865805418, 0.274591932902709, 0.8255256444872859, 0.5738524964356752, 0.7093951928140201, 0.728640757586113, 0.857690936118411, 0.21442273402960274, 0.8255223831508468, 0.8252395627562558, 0.7286407311719949, 0.7093950183181749, 0.7093950933183962, 0.4978936373432303, 0.7432389553162944, 0.20389053673957414, 0.40778107347914827, 0.20389053673957414, 0.20389053673957414, 0.5601585440853496, 0.1400396360213374, 0.1400396360213374, 0.1400396360213374, 0.28105783597582146, 0.5621156719516429, 0.28105783597582146, 0.8350471881040878, 0.23103607413676377, 0.46207214827352755, 0.23103607413676377, 0.7286407596333354, 0.7081032581147073, 0.7093948768593277, 0.708103288931942, 0.23283562243860054, 0.4656712448772011, 0.23283562243860054, 0.8255247583396372, 0.7093952842678345, 0.825525796963571, 0.38573461719668456, 0.38573461719668456, 0.4913900338054721, 0.4913900338054721, 0.4709573532234836, 0.4709573532234836, 0.6968294326426697, 0.34841471632133486, 0.7081033881221473, 0.3746565275802376, 0.3746565275802376, 0.3746565275802376, 0.7433892899499412, 0.3487275588255645, 0.697455117651129, 0.7286407515104829, 0.8255257723841026, 0.7286408076438214, 0.3459330538795632, 0.3459330538795632, 0.3459330538795632, 0.7286407746437137, 0.10342602302631716, 0.31027806907895145, 0.20685204605263433, 0.31027806907895145, 0.10342602302631716, 0.5258280059696253, 0.5258280059696253, 0.6978850001511104, 0.697884920004369, 0.697884914617315, 0.7059552250584991, 0.35297761252924953, 0.70810322664839, 0.37181100297819747, 0.37181100297819747, 0.37181100297819747, 0.25922918096593717, 0.25922918096593717, 0.12961459048296858, 0.12961459048296858, 0.38884377144890575, 0.7081034058749337, 0.835043398607586, 0.7081034781241898, 0.7081032802825655, 0.497895442102137, 0.7286407543465396, 0.7433888384879371, 0.497908092145464, 0.3799780198809673, 0.3799780198809673, 0.3799780198809673, 0.26827005108751584, 0.17884670072501055, 0.26827005108751584, 0.26827005108751584, 0.6978848795829365, 0.22190256670571828, 0.11095128335285914, 0.11095128335285914, 0.11095128335285914, 0.11095128335285914, 0.3328538500585774, 0.4623049748897473, 0.4623049748897473, 0.7286408208922442, 0.8255225004012152, 0.5096518087540315, 0.5096518087540315, 0.7081034029680393, 0.7286407457600205, 0.2862613489190604, 0.5725226978381208], \"Term\": [\"abrupt\", \"accept\", \"access\", \"account\", \"account\", \"account\", \"account\", \"account\", \"advertising\", \"advice\", \"advice\", \"advice\", \"age\", \"amount\", \"amount\", \"anyone\", \"apple\", \"application\", \"apps\", \"apps\", \"attempt\", \"baffling\", \"bank\", \"bank\", \"bank\", \"bank\", \"bank\", \"banking\", \"banking\", \"banking\", \"benefit\", \"beta\", \"bill\", \"board\", \"bode\", \"borrow\", \"borrowing\", \"bother\", \"brighter\", \"brilliant\", \"build\", \"build\", \"button\", \"buzz\", \"cancel\", \"card\", \"card\", \"case\", \"cash\", \"change\", \"change\", \"change\", \"cheap\", \"choice\", \"clarity\", \"client\", \"code\", \"code\", \"color\", \"colour\", \"compare\", \"competitor\", \"comprehensive\", \"consistent\", \"consumer\", \"continue\", \"convenient\", \"convenient\", \"create\", \"credit\", \"customer\", \"customer\", \"dark\", \"debit\", \"decrease\", \"design\", \"design\", \"design\", \"device\", \"devs\", \"didnt\", \"digital\", \"digital\", \"disruption\", \"doesnt\", \"download\", \"draw\", \"drop\", \"dumb\", \"earn\", \"ease\", \"ease\", \"effort\", \"emergency\", \"emergency\", \"end\", \"everyone\", \"everything\", \"everytime\", \"excellent\", \"excellent\", \"experience\", \"experience\", \"experience\", \"experience\", \"explanation\", \"explore\", \"eye\", \"family\", \"fast\", \"fast\", \"fast\", \"feature\", \"feature\", \"feature\", \"feature\", \"feedback\", \"fill\", \"fluid\", \"forget\", \"found\", \"friend\", \"frustration\", \"function\", \"function\", \"fund\", \"fund\", \"fund\", \"fund\", \"future\", \"goal\", \"goal\", \"goal\", \"god\", \"grab\", \"grab\", \"grab\", \"grow\", \"heard\", \"help\", \"help\", \"help\", \"hope\", \"hurray\", \"improvement\", \"include\", \"income\", \"inconvenience\", \"incorrect\", \"increase\", \"increase\", \"info\", \"inform\", \"information\", \"integration\", \"interest\", \"interest\", \"interest\", \"interest\", \"interface\", \"interface\", \"interface\", \"interface\", \"invite\", \"ipad\", \"issue\", \"issue\", \"joke\", \"joke\", \"kenna\", \"lack\", \"lack\", \"launch\", \"launch\", \"launch\", \"le\", \"link\", \"list\", \"load\", \"loan\", \"loan\", \"loan\", \"login\", \"lot\", \"love\", \"love\", \"maribank\", \"mean\", \"meet\", \"merchant\", \"millionaire\", \"mind\", \"money\", \"money\", \"money\", \"money\", \"moreover\", \"move\", \"move\", \"mundane\", \"name\", \"navigate\", \"navigate\", \"navigate\", \"navigate\", \"need\", \"need\", \"need\", \"news\", \"nothing\", \"notice\", \"notice\", \"notification\", \"number\", \"number\", \"number\", \"number\", \"offer\", \"offer\", \"offer\", \"offer\", \"okayyyy\", \"opening\", \"optimise\", \"option\", \"paperwork\", \"password\", \"payee\", \"payee\", \"payee\", \"payee\", \"payment\", \"paynow\", \"perfect\", \"person\", \"phone\", \"phone\", \"please\", \"please\", \"please\", \"please\", \"pocket\", \"pocket\", \"point\", \"portion\", \"problem\", \"problem\", \"process\", \"proper\", \"proposition\", \"provide\", \"provide\", \"pure\", \"quick\", \"rate\", \"rate\", \"rate\", \"rating\", \"rating\", \"read\", \"receive\", \"recovery\", \"register\", \"repayment\", \"repayment\", \"repayment\", \"respond\", \"response\", \"responsive\", \"return\", \"review\", \"review\", \"reward\", \"risk\", \"roll\", \"saver\", \"seamless\", \"select\", \"sent\", \"service\", \"service\", \"service\", \"service\", \"sign\", \"sign\", \"sign\", \"sign\", \"simple\", \"simple\", \"simple\", \"singapore\", \"singpass\", \"singpass\", \"singpass\", \"sleek\", \"slick\", \"slot\", \"smoother\", \"something\", \"something\", \"something\", \"soooo\", \"speed\", \"spend\", \"staff\", \"staff\", \"star\", \"star\", \"start\", \"start\", \"stay\", \"stay\", \"stop\", \"store\", \"store\", \"store\", \"straight\", \"super\", \"super\", \"swift\", \"testflight\", \"thank\", \"thing\", \"thing\", \"thing\", \"think\", \"time\", \"time\", \"time\", \"time\", \"time\", \"told\", \"told\", \"ton\", \"tool\", \"topup\", \"touch\", \"touch\", \"track\", \"transaction\", \"transaction\", \"transaction\", \"transfer\", \"transfer\", \"transfer\", \"transfer\", \"transfer\", \"troublesome\", \"trust\", \"tune\", \"turn\", \"type\", \"ummmm\", \"understand\", \"unique\", \"update\", \"update\", \"update\", \"user\", \"user\", \"user\", \"user\", \"value\", \"wait\", \"wait\", \"wait\", \"wait\", \"wait\", \"wait\", \"want\", \"want\", \"week\", \"wish\", \"work\", \"work\", \"workaround\", \"worry\", \"write\", \"write\"]}, \"R\": 30, \"lambda.step\": 0.01, \"plot.opts\": {\"xlab\": \"PC1\", \"ylab\": \"PC2\"}, \"topic.order\": [5, 6, 3, 1, 4, 2]};\n",
       "\n",
       "function LDAvis_load_lib(url, callback){\n",
       "  var s = document.createElement('script');\n",
       "  s.src = url;\n",
       "  s.async = true;\n",
       "  s.onreadystatechange = s.onload = callback;\n",
       "  s.onerror = function(){console.warn(\"failed to load library \" + url);};\n",
       "  document.getElementsByTagName(\"head\")[0].appendChild(s);\n",
       "}\n",
       "\n",
       "if(typeof(LDAvis) !== \"undefined\"){\n",
       "   // already loaded: just create the visualization\n",
       "   !function(LDAvis){\n",
       "       new LDAvis(\"#\" + \"ldavis_el14864110699237286504945764\", ldavis_el14864110699237286504945764_data);\n",
       "   }(LDAvis);\n",
       "}else if(typeof define === \"function\" && define.amd){\n",
       "   // require.js is available: use it to load d3/LDAvis\n",
       "   require.config({paths: {d3: \"https://d3js.org/d3.v5\"}});\n",
       "   require([\"d3\"], function(d3){\n",
       "      window.d3 = d3;\n",
       "      LDAvis_load_lib(\"https://cdn.jsdelivr.net/gh/bmabey/pyLDAvis@3.4.0/pyLDAvis/js/ldavis.v3.0.0.js\", function(){\n",
       "        new LDAvis(\"#\" + \"ldavis_el14864110699237286504945764\", ldavis_el14864110699237286504945764_data);\n",
       "      });\n",
       "    });\n",
       "}else{\n",
       "    // require.js not available: dynamically load d3 & LDAvis\n",
       "    LDAvis_load_lib(\"https://d3js.org/d3.v5.js\", function(){\n",
       "         LDAvis_load_lib(\"https://cdn.jsdelivr.net/gh/bmabey/pyLDAvis@3.4.0/pyLDAvis/js/ldavis.v3.0.0.js\", function(){\n",
       "                 new LDAvis(\"#\" + \"ldavis_el14864110699237286504945764\", ldavis_el14864110699237286504945764_data);\n",
       "            })\n",
       "         });\n",
       "}\n",
       "</script>"
      ],
      "text/plain": [
       "PreparedData(topic_coordinates=              x         y  topics  cluster       Freq\n",
       "topic                                                \n",
       "4      0.086445 -0.061245       1        1  21.776688\n",
       "5      0.081317 -0.078037       2        1  20.698429\n",
       "2     -0.125015 -0.068487       3        1  20.415167\n",
       "0     -0.049766  0.084935       4        1  15.695906\n",
       "3      0.071404  0.112040       5        1  14.200717\n",
       "1     -0.064386  0.010795       6        1   7.213092, topic_info=            Term       Freq      Total Category  logprob  loglift\n",
       "5       interest  24.000000  24.000000  Default  30.0000  30.0000\n",
       "9           rate  17.000000  17.000000  Default  29.0000  29.0000\n",
       "0        account  23.000000  23.000000  Default  28.0000  28.0000\n",
       "25        pocket  11.000000  11.000000  Default  27.0000  27.0000\n",
       "10          bank  29.000000  29.000000  Default  26.0000  26.0000\n",
       "..           ...        ...        ...      ...      ...      ...\n",
       "202        store   0.618014   2.669111   Topic6  -4.5937   1.1663\n",
       "8         please   0.617824   6.358845   Topic6  -4.5940   0.2979\n",
       "71   transaction   0.617798   2.689538   Topic6  -4.5940   1.1583\n",
       "121     navigate   0.617748   3.996366   Topic6  -4.5941   0.7622\n",
       "61          help   0.617649   2.689578   Topic6  -4.5943   1.1581\n",
       "\n",
       "[333 rows x 6 columns], token_table=      Topic      Freq        Term\n",
       "term                             \n",
       "168       5  0.743389      abrupt\n",
       "284       3  0.709395      accept\n",
       "344       4  0.484768      access\n",
       "0         1  0.041793     account\n",
       "0         2  0.585107     account\n",
       "...     ...       ...         ...\n",
       "72        6  0.509652        work\n",
       "365       1  0.708103  workaround\n",
       "136       4  0.728641       worry\n",
       "312       4  0.286261       write\n",
       "312       6  0.572523       write\n",
       "\n",
       "[379 rows x 3 columns], R=30, lambda_step=0.01, plot_opts={'xlab': 'PC1', 'ylab': 'PC2'}, topic_order=[5, 6, 3, 1, 4, 2])"
      ]
     },
     "execution_count": 68,
     "metadata": {},
     "output_type": "execute_result"
    }
   ],
   "source": [
    "pyLDAvis.gensim.prepare(ldamodel,doc_term_matrix,dictionary)"
   ]
  },
  {
   "cell_type": "code",
   "execution_count": 69,
   "metadata": {},
   "outputs": [
    {
     "data": {
      "text/html": [
       "<div>\n",
       "<style scoped>\n",
       "    .dataframe tbody tr th:only-of-type {\n",
       "        vertical-align: middle;\n",
       "    }\n",
       "\n",
       "    .dataframe tbody tr th {\n",
       "        vertical-align: top;\n",
       "    }\n",
       "\n",
       "    .dataframe thead th {\n",
       "        text-align: right;\n",
       "    }\n",
       "</style>\n",
       "<table border=\"1\" class=\"dataframe\">\n",
       "  <thead>\n",
       "    <tr style=\"text-align: right;\">\n",
       "      <th></th>\n",
       "      <th>review</th>\n",
       "      <th>clean_review</th>\n",
       "    </tr>\n",
       "  </thead>\n",
       "  <tbody>\n",
       "    <tr>\n",
       "      <th>0</th>\n",
       "      <td>Great banking app with attractive interest rat...</td>\n",
       "      <td>[banking, interest, rate, please, payee, numbe...</td>\n",
       "    </tr>\n",
       "    <tr>\n",
       "      <th>1</th>\n",
       "      <td>A bank like no other, no bank have such amazin...</td>\n",
       "      <td>[bank, bank, feature, money, pocket, track, go...</td>\n",
       "    </tr>\n",
       "    <tr>\n",
       "      <th>2</th>\n",
       "      <td>Notice that the drop in interest rate of 0.8% ...</td>\n",
       "      <td>[notice, drop, interest, rate, account, reason...</td>\n",
       "    </tr>\n",
       "    <tr>\n",
       "      <th>3</th>\n",
       "      <td>Sending money into my GXS account is a breeze ...</td>\n",
       "      <td>[money, account, breeze, amount, fund, money, ...</td>\n",
       "    </tr>\n",
       "    <tr>\n",
       "      <th>4</th>\n",
       "      <td>I have to say that the UI/UX is one of the bes...</td>\n",
       "      <td>[digibank, mobile, market, player, focus, cust...</td>\n",
       "    </tr>\n",
       "  </tbody>\n",
       "</table>\n",
       "</div>"
      ],
      "text/plain": [
       "                                              review  \\\n",
       "0  Great banking app with attractive interest rat...   \n",
       "1  A bank like no other, no bank have such amazin...   \n",
       "2  Notice that the drop in interest rate of 0.8% ...   \n",
       "3  Sending money into my GXS account is a breeze ...   \n",
       "4  I have to say that the UI/UX is one of the bes...   \n",
       "\n",
       "                                        clean_review  \n",
       "0  [banking, interest, rate, please, payee, numbe...  \n",
       "1  [bank, bank, feature, money, pocket, track, go...  \n",
       "2  [notice, drop, interest, rate, account, reason...  \n",
       "3  [money, account, breeze, amount, fund, money, ...  \n",
       "4  [digibank, mobile, market, player, focus, cust...  "
      ]
     },
     "execution_count": 69,
     "metadata": {},
     "output_type": "execute_result"
    }
   ],
   "source": [
    "review_data.head()"
   ]
  },
  {
   "attachments": {},
   "cell_type": "markdown",
   "metadata": {},
   "source": [
    "### Creating a lookup table for topics"
   ]
  },
  {
   "cell_type": "code",
   "execution_count": 70,
   "metadata": {},
   "outputs": [
    {
     "data": {
      "text/html": [
       "<style type=\"text/css\">\n",
       "#T_11953_row0_col2, #T_11953_row1_col2, #T_11953_row2_col2, #T_11953_row3_col2, #T_11953_row4_col2, #T_11953_row5_col2 {\n",
       "  width: 300px;\n",
       "}\n",
       "</style>\n",
       "<table id=\"T_11953\">\n",
       "  <thead>\n",
       "    <tr>\n",
       "      <th class=\"blank level0\" >&nbsp;</th>\n",
       "      <th id=\"T_11953_level0_col0\" class=\"col_heading level0 col0\" >Topic_Number</th>\n",
       "      <th id=\"T_11953_level0_col1\" class=\"col_heading level0 col1\" >Topic_Name</th>\n",
       "      <th id=\"T_11953_level0_col2\" class=\"col_heading level0 col2\" >Top_Keywords</th>\n",
       "    </tr>\n",
       "  </thead>\n",
       "  <tbody>\n",
       "    <tr>\n",
       "      <th id=\"T_11953_level0_row0\" class=\"row_heading level0 row0\" >0</th>\n",
       "      <td id=\"T_11953_row0_col0\" class=\"data row0 col0\" >0</td>\n",
       "      <td id=\"T_11953_row0_col1\" class=\"data row0 col1\" >Camera, Sound</td>\n",
       "      <td id=\"T_11953_row0_col2\" class=\"data row0 col2\" >['bank', 'review', 'experience', 'user', 'account', 'fast', 'money', 'digital', 'application', 'issue']</td>\n",
       "    </tr>\n",
       "    <tr>\n",
       "      <th id=\"T_11953_level0_row1\" class=\"row_heading level0 row1\" >1</th>\n",
       "      <td id=\"T_11953_row1_col0\" class=\"data row1 col0\" >1</td>\n",
       "      <td id=\"T_11953_row1_col1\" class=\"data row1 col1\" >Mixed issues</td>\n",
       "      <td id=\"T_11953_row1_col2\" class=\"data row1 col2\" >['wait', 'write', 'launch', 'response', 'rate', 'time', 'review', 'update', 'store', 'build']</td>\n",
       "    </tr>\n",
       "    <tr>\n",
       "      <th id=\"T_11953_level0_row2\" class=\"row_heading level0 row2\" >2</th>\n",
       "      <td id=\"T_11953_row2_col0\" class=\"data row2 col0\" >2</td>\n",
       "      <td id=\"T_11953_row2_col1\" class=\"data row2 col1\" >Heating issue</td>\n",
       "      <td id=\"T_11953_row2_col2\" class=\"data row2 col2\" >['bank', 'fast', 'trust', 'singapore', 'banking', 'account', 'ease', 'joke', 'nothing', 'quick']</td>\n",
       "    </tr>\n",
       "    <tr>\n",
       "      <th id=\"T_11953_level0_row3\" class=\"row_heading level0 row3\" >3</th>\n",
       "      <td id=\"T_11953_row3_col0\" class=\"data row3 col0\" >3</td>\n",
       "      <td id=\"T_11953_row3_col1\" class=\"data row3 col1\" >turbo charger</td>\n",
       "      <td id=\"T_11953_row3_col2\" class=\"data row3 col2\" >['pocket', 'money', 'account', 'user', 'transfer', 'time', 'payee', 'design', 'feature', 'love']</td>\n",
       "    </tr>\n",
       "    <tr>\n",
       "      <th id=\"T_11953_level0_row4\" class=\"row_heading level0 row4\" >4</th>\n",
       "      <td id=\"T_11953_row4_col0\" class=\"data row4 col0\" >4</td>\n",
       "      <td id=\"T_11953_row4_col1\" class=\"data row4 col1\" >Connectivity</td>\n",
       "      <td id=\"T_11953_row4_col2\" class=\"data row4 col2\" >['interest', 'rate', 'bank', 'pocket', 'sign', 'love', 'user', 'money', 'loan', 'feature']</td>\n",
       "    </tr>\n",
       "    <tr>\n",
       "      <th id=\"T_11953_level0_row5\" class=\"row_heading level0 row5\" >5</th>\n",
       "      <td id=\"T_11953_row5_col0\" class=\"data row5 col0\" >5</td>\n",
       "      <td id=\"T_11953_row5_col1\" class=\"data row5 col1\" >Battery</td>\n",
       "      <td id=\"T_11953_row5_col2\" class=\"data row5 col2\" >['account', 'interest', 'rate', 'consumer', 'money', 'time', 'grab', 'increase', 'singpass', 'fund']</td>\n",
       "    </tr>\n",
       "  </tbody>\n",
       "</table>\n"
      ],
      "text/plain": [
       "<pandas.io.formats.style.Styler at 0x293cd1f70>"
      ]
     },
     "execution_count": 70,
     "metadata": {},
     "output_type": "execute_result"
    }
   ],
   "source": [
    "topic_lookup_data = pd.DataFrame((ldamodel.print_topics()),columns=['Topic_Number','Top_Keywords'])\n",
    "topic_lookup_data['Topic_Name'] = ['Camera, Sound','Mixed issues','Heating issue','turbo charger','Connectivity','Battery']\n",
    "topic_lookup_data = topic_lookup_data[['Topic_Number','Topic_Name','Top_Keywords']]\n",
    "topic_lookup_data['Top_Keywords'] = topic_lookup_data.Top_Keywords.str\\\n",
    ".replace(r'[^a-z]',' ',regex=True).apply(lambda x: x.split())\n",
    "topic_lookup_data.style.set_properties(subset=['Top_Keywords'], **{'width': '300px'})"
   ]
  },
  {
   "attachments": {},
   "cell_type": "markdown",
   "metadata": {},
   "source": [
    "### Creating new columns and inserting topic numbers and names"
   ]
  },
  {
   "cell_type": "code",
   "execution_count": 71,
   "metadata": {},
   "outputs": [],
   "source": [
    "for index,sent in enumerate(ldamodel[doc_term_matrix]):\n",
    "  topic_num =[]\n",
    "  topic_details = sorted(sent,key=lambda x: x[1], reverse=True)[:2] # Getting top 2 topics in descending order\n",
    "  topic_num.append(topic_details[0][0]) # Appending top topic\n",
    "  if len(topic_details) > 1:\n",
    "    if topic_details[1][1] > 0.35: # Appending second topic only if it has more than 35% influence on current row\n",
    "      topic_num.append(topic_details[1][0])\n",
    "  review_data.loc[index,'Topic_Number'] = ','.join(str(x) for x in sorted(topic_num))"
   ]
  },
  {
   "cell_type": "code",
   "execution_count": 72,
   "metadata": {},
   "outputs": [],
   "source": [
    "for index,topic_num in enumerate(review_data.Topic_Number):\n",
    "  topic_name_list=[]\n",
    "  for single_topic_num in topic_num.split(','):\n",
    "    single_topic_num=int(single_topic_num)\n",
    "    topic_name_list.append(topic_lookup_data.loc\\\n",
    "                           [topic_lookup_data.Topic_Number == single_topic_num,'Topic_Name'][single_topic_num]) \n",
    "  # Extracting topic names from lookup table\n",
    "  review_data.loc[index,'Topic_Name'] =' & '.join(topic_name_list)"
   ]
  },
  {
   "cell_type": "code",
   "execution_count": 73,
   "metadata": {},
   "outputs": [
    {
     "data": {
      "text/html": [
       "<div>\n",
       "<style scoped>\n",
       "    .dataframe tbody tr th:only-of-type {\n",
       "        vertical-align: middle;\n",
       "    }\n",
       "\n",
       "    .dataframe tbody tr th {\n",
       "        vertical-align: top;\n",
       "    }\n",
       "\n",
       "    .dataframe thead th {\n",
       "        text-align: right;\n",
       "    }\n",
       "</style>\n",
       "<table border=\"1\" class=\"dataframe\">\n",
       "  <thead>\n",
       "    <tr style=\"text-align: right;\">\n",
       "      <th></th>\n",
       "      <th>review</th>\n",
       "      <th>clean_review</th>\n",
       "      <th>Topic_Number</th>\n",
       "      <th>Topic_Name</th>\n",
       "    </tr>\n",
       "  </thead>\n",
       "  <tbody>\n",
       "    <tr>\n",
       "      <th>0</th>\n",
       "      <td>Great banking app with attractive interest rat...</td>\n",
       "      <td>[banking, interest, rate, please, payee, numbe...</td>\n",
       "      <td>5</td>\n",
       "      <td>Battery</td>\n",
       "    </tr>\n",
       "    <tr>\n",
       "      <th>1</th>\n",
       "      <td>A bank like no other, no bank have such amazin...</td>\n",
       "      <td>[bank, bank, feature, money, pocket, track, go...</td>\n",
       "      <td>4</td>\n",
       "      <td>Connectivity</td>\n",
       "    </tr>\n",
       "    <tr>\n",
       "      <th>2</th>\n",
       "      <td>Notice that the drop in interest rate of 0.8% ...</td>\n",
       "      <td>[notice, drop, interest, rate, account, reason...</td>\n",
       "      <td>5</td>\n",
       "      <td>Battery</td>\n",
       "    </tr>\n",
       "    <tr>\n",
       "      <th>3</th>\n",
       "      <td>Sending money into my GXS account is a breeze ...</td>\n",
       "      <td>[money, account, breeze, amount, fund, money, ...</td>\n",
       "      <td>5</td>\n",
       "      <td>Battery</td>\n",
       "    </tr>\n",
       "    <tr>\n",
       "      <th>4</th>\n",
       "      <td>I have to say that the UI/UX is one of the bes...</td>\n",
       "      <td>[digibank, mobile, market, player, focus, cust...</td>\n",
       "      <td>2</td>\n",
       "      <td>Heating issue</td>\n",
       "    </tr>\n",
       "  </tbody>\n",
       "</table>\n",
       "</div>"
      ],
      "text/plain": [
       "                                              review  \\\n",
       "0  Great banking app with attractive interest rat...   \n",
       "1  A bank like no other, no bank have such amazin...   \n",
       "2  Notice that the drop in interest rate of 0.8% ...   \n",
       "3  Sending money into my GXS account is a breeze ...   \n",
       "4  I have to say that the UI/UX is one of the bes...   \n",
       "\n",
       "                                        clean_review Topic_Number  \\\n",
       "0  [banking, interest, rate, please, payee, numbe...            5   \n",
       "1  [bank, bank, feature, money, pocket, track, go...            4   \n",
       "2  [notice, drop, interest, rate, account, reason...            5   \n",
       "3  [money, account, breeze, amount, fund, money, ...            5   \n",
       "4  [digibank, mobile, market, player, focus, cust...            2   \n",
       "\n",
       "      Topic_Name  \n",
       "0        Battery  \n",
       "1   Connectivity  \n",
       "2        Battery  \n",
       "3        Battery  \n",
       "4  Heating issue  "
      ]
     },
     "execution_count": 73,
     "metadata": {},
     "output_type": "execute_result"
    }
   ],
   "source": [
    "review_data.head()"
   ]
  },
  {
   "attachments": {},
   "cell_type": "markdown",
   "metadata": {},
   "source": [
    "### Visualization"
   ]
  },
  {
   "cell_type": "code",
   "execution_count": 74,
   "metadata": {},
   "outputs": [],
   "source": [
    "import seaborn as sns"
   ]
  },
  {
   "cell_type": "code",
   "execution_count": 75,
   "metadata": {},
   "outputs": [
    {
     "data": {
      "image/png": "[encoded data removed]",
      "text/plain": [
       "<Figure size 1200x600 with 1 Axes>"
      ]
     },
     "metadata": {},
     "output_type": "display_data"
    }
   ],
   "source": [
    "plt.figure(figsize=(12,6))\n",
    "ax = sns.barplot(x=review_data.Topic_Name.value_counts()[:6].index,y=review_data.Topic_Name.value_counts()[:6].values)\n",
    "for p in ax.patches:\n",
    "    ax.annotate(p.get_height(), (p.get_x() + p.get_width() / 2., p.get_height()+50),ha = 'center', va = 'center')\n",
    "plt.xlabel('Topic Names',size=15)\n",
    "plt.ylabel('Count of topics',size=15)\n",
    "plt.title('Most talked topics in reviews',size=15)\n",
    "plt.show()"
   ]
  },
  {
   "attachments": {},
   "cell_type": "markdown",
   "metadata": {},
   "source": [
    "From above graph we can say that most of customers had issues with Battery of mobile"
   ]
  },
  {
   "cell_type": "code",
   "execution_count": 76,
   "metadata": {},
   "outputs": [
    {
     "data": {
      "image/png": "[encoded data removed]",
      "text/plain": [
       "<Figure size 1200x600 with 1 Axes>"
      ]
     },
     "metadata": {},
     "output_type": "display_data"
    }
   ],
   "source": [
    "plt.figure(figsize=(12,6))\n",
    "ax = sns.barplot(x=review_data.Topic_Name.value_counts()[6:].index,y=review_data.Topic_Name.value_counts()[6:].values)\n",
    "for p in ax.patches:\n",
    "    ax.annotate(p.get_height(), (p.get_x() + p.get_width() / 2., p.get_height()+5),ha = 'center', va = 'center')\n",
    "plt.xlabel('Topic Names combined',size=15)\n",
    "plt.ylabel('Count of combined topics',size=15)\n",
    "plt.title('Most talked combined topics in reviews',size=15)\n",
    "plt.xticks(rotation=45)\n",
    "plt.show()"
   ]
  },
  {
   "attachments": {},
   "cell_type": "markdown",
   "metadata": {},
   "source": [
    "From above graph we can say that most of customers had combined issues with,\n",
    "\n",
    "Heating issue & Battery <br>\n",
    "Camera, Sound & Battery <br>\n",
    "turbo charger & Battery"
   ]
  },
  {
   "attachments": {},
   "cell_type": "markdown",
   "metadata": {},
   "source": [
    "### Extracting reviews of 5 topic(review of battery)"
   ]
  },
  {
   "cell_type": "code",
   "execution_count": 77,
   "metadata": {},
   "outputs": [
    {
     "data": {
      "text/html": [
       "<style type=\"text/css\">\n",
       "#T_fc633_row0_col0, #T_fc633_row1_col0, #T_fc633_row2_col0, #T_fc633_row3_col0, #T_fc633_row4_col0, #T_fc633_row5_col0, #T_fc633_row6_col0, #T_fc633_row7_col0, #T_fc633_row8_col0, #T_fc633_row9_col0 {\n",
       "  width: 300px;\n",
       "}\n",
       "</style>\n",
       "<table id=\"T_fc633\">\n",
       "  <thead>\n",
       "    <tr>\n",
       "      <th class=\"blank level0\" >&nbsp;</th>\n",
       "      <th id=\"T_fc633_level0_col0\" class=\"col_heading level0 col0\" >review</th>\n",
       "      <th id=\"T_fc633_level0_col1\" class=\"col_heading level0 col1\" >Topic_Name</th>\n",
       "    </tr>\n",
       "  </thead>\n",
       "  <tbody>\n",
       "    <tr>\n",
       "      <th id=\"T_fc633_level0_row0\" class=\"row_heading level0 row0\" >0</th>\n",
       "      <td id=\"T_fc633_row0_col0\" class=\"data row0 col0\" >Great banking app with attractive interest rates! Please allow us to add and/or save payees so we don’t have to keep typing out UEN numbers or account numbers. Would be nice to be able to add the debit card to Apple Pay too!!</td>\n",
       "      <td id=\"T_fc633_row0_col1\" class=\"data row0 col1\" >Battery</td>\n",
       "    </tr>\n",
       "    <tr>\n",
       "      <th id=\"T_fc633_level0_row1\" class=\"row_heading level0 row1\" >2</th>\n",
       "      <td id=\"T_fc633_row1_col0\" class=\"data row1 col0\" >Notice that the drop in interest rate of 0.8% in saving accounts. GXS just come out with a reason to say many consumers want a increase in interest rate in main accounts as most of their funds are there to get the 1.2x points for dash and grab spending. Hence they decrease the interest rate to 2.68% in saving account and increase to 2.38% in main account .\n",
       "\n",
       "The thing is GXS can increase the main account interest and maintain the interest rate in saving account. They will attract more consumer in this case. However, they use this opportunity to decease the interest rate in saving account instead and use the consumer as an excuse for the decrease.\n",
       "\n",
       "I am very disappointed in GXS and have close my account in GXS. There are other banks offering a higher interest rate such as OCBC and UOB for saving accounts. No point sticking to GXS.</td>\n",
       "      <td id=\"T_fc633_row1_col1\" class=\"data row1 col1\" >Battery</td>\n",
       "    </tr>\n",
       "    <tr>\n",
       "      <th id=\"T_fc633_level0_row2\" class=\"row_heading level0 row2\" >3</th>\n",
       "      <td id=\"T_fc633_row2_col0\" class=\"data row2 col0\" >Sending money into my GXS account is a breeze and instantaneous - regardless of the amounts. I’m able to immediately see that my funds are in GXS. \n",
       "\n",
       "Transferring money OUT is a huge issue. Since June I’ve had problems transferring amounts higher than $500 back to my other banking accounts, each time a red banner will pop up and said something went wrong please try again later. TODAY I can’t transfer more than $1000 back to myself - even the $1000 had to be transferred in TWO transactions of $500 each. Customer service officers did their best to help each time but it’s annoying that the advice provided (killing the app, re-logging in with SingPass) still don’t work.</td>\n",
       "      <td id=\"T_fc633_row2_col1\" class=\"data row2 col1\" >Battery</td>\n",
       "    </tr>\n",
       "    <tr>\n",
       "      <th id=\"T_fc633_level0_row3\" class=\"row_heading level0 row3\" >23</th>\n",
       "      <td id=\"T_fc633_row3_col0\" class=\"data row3 col0\" >Easy drawing and repayment option. Flexible of choice at any time with any needs. Like it and good tool for emergency money with flexible borrowing and repayment.</td>\n",
       "      <td id=\"T_fc633_row3_col1\" class=\"data row3 col1\" >Battery</td>\n",
       "    </tr>\n",
       "    <tr>\n",
       "      <th id=\"T_fc633_level0_row4\" class=\"row_heading level0 row4\" >30</th>\n",
       "      <td id=\"T_fc633_row4_col0\" class=\"data row4 col0\" >No more long waits and tons of paperwork to open a bank account. Looking forward to how GXS can generate a stronger value proposition for consumers.</td>\n",
       "      <td id=\"T_fc633_row4_col1\" class=\"data row4 col1\" >Battery</td>\n",
       "    </tr>\n",
       "    <tr>\n",
       "      <th id=\"T_fc633_level0_row5\" class=\"row_heading level0 row5\" >31</th>\n",
       "      <td id=\"T_fc633_row5_col0\" class=\"data row5 col0\" >Like to use GXS apps that is link to Grabs apps for easy to transfer money from saving to topup Grabs account.</td>\n",
       "      <td id=\"T_fc633_row5_col1\" class=\"data row5 col1\" >Battery</td>\n",
       "    </tr>\n",
       "    <tr>\n",
       "      <th id=\"T_fc633_level0_row6\" class=\"row_heading level0 row6\" >32</th>\n",
       "      <td id=\"T_fc633_row6_col0\" class=\"data row6 col0\" >Best digital bank in my opinion I prefer this over its competitors:)</td>\n",
       "      <td id=\"T_fc633_row6_col1\" class=\"data row6 col1\" >Camera, Sound & Battery</td>\n",
       "    </tr>\n",
       "    <tr>\n",
       "      <th id=\"T_fc633_level0_row7\" class=\"row_heading level0 row7\" >44</th>\n",
       "      <td id=\"T_fc633_row7_col0\" class=\"data row7 col0\" >It doesn’t make the company look reputable when they offer a high interest rate only to drop it immediately after gaining enough users. It feels like a bait, which it is. They should acquire deposits through more honest and transparent methods.</td>\n",
       "      <td id=\"T_fc633_row7_col1\" class=\"data row7 col1\" >Battery</td>\n",
       "    </tr>\n",
       "    <tr>\n",
       "      <th id=\"T_fc633_level0_row8\" class=\"row_heading level0 row8\" >45</th>\n",
       "      <td id=\"T_fc633_row8_col0\" class=\"data row8 col0\" >Easy to use and log in! Very clean instruction.</td>\n",
       "      <td id=\"T_fc633_row8_col1\" class=\"data row8 col1\" >Battery</td>\n",
       "    </tr>\n",
       "    <tr>\n",
       "      <th id=\"T_fc633_level0_row9\" class=\"row_heading level0 row9\" >52</th>\n",
       "      <td id=\"T_fc633_row9_col0\" class=\"data row9 col0\" >Personally don’t like the theme, anyway allow user to change more brighter one?\n",
       "Dark color me uncomfortable 😞</td>\n",
       "      <td id=\"T_fc633_row9_col1\" class=\"data row9 col1\" >Battery</td>\n",
       "    </tr>\n",
       "  </tbody>\n",
       "</table>\n"
      ],
      "text/plain": [
       "<pandas.io.formats.style.Styler at 0x2940d8fa0>"
      ]
     },
     "execution_count": 77,
     "metadata": {},
     "output_type": "execute_result"
    }
   ],
   "source": [
    "review_data.loc[review_data.Topic_Number.str.contains('5'),['review','Topic_Name']].head(10)\\\n",
    ".style.set_properties(subset=['review'], **{'width': '300px'})"
   ]
  },
  {
   "attachments": {},
   "cell_type": "markdown",
   "metadata": {},
   "source": [
    "### Conclusion\n",
    "\n",
    "1. We can combine topic number 2 (Heating issue),3 (turbo charger), 5(Battery) <br>\n",
    "2. If lenovo company improves their turbo charger which is causing heating issues in battery, the mobile will be more appreciated by users.\n",
    "3. We can try to use other POS tags to improve our model."
   ]
  }
 ],
 "metadata": {
  "kernelspec": {
   "display_name": "NLP_",
   "language": "python",
   "name": "python3"
  },
  "language_info": {
   "codemirror_mode": {
    "name": "ipython",
    "version": 3
   },
   "file_extension": ".py",
   "mimetype": "text/x-python",
   "name": "python",
   "nbconvert_exporter": "python",
   "pygments_lexer": "ipython3",
   "version": "3.9.9"
  },
  "orig_nbformat": 4
 },
 "nbformat": 4,
 "nbformat_minor": 2
}
