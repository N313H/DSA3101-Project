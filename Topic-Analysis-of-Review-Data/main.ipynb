{
 "cells": [
  {
   "attachments": {},
   "cell_type": "markdown",
   "metadata": {},
   "source": [
    "# Topic modelling (LDA)"
   ]
  },
  {
   "cell_type": "code",
   "execution_count": 75,
   "metadata": {},
   "outputs": [],
   "source": [
    "import warnings\n",
    "warnings.filterwarnings('ignore', category=DeprecationWarning)"
   ]
  },
  {
   "cell_type": "code",
   "execution_count": 76,
   "metadata": {},
   "outputs": [],
   "source": [
    "import pandas as pd"
   ]
  },
  {
   "cell_type": "code",
   "execution_count": 77,
   "metadata": {},
   "outputs": [
    {
     "data": {
      "text/html": [
       "<div>\n",
       "<style scoped>\n",
       "    .dataframe tbody tr th:only-of-type {\n",
       "        vertical-align: middle;\n",
       "    }\n",
       "\n",
       "    .dataframe tbody tr th {\n",
       "        vertical-align: top;\n",
       "    }\n",
       "\n",
       "    .dataframe thead th {\n",
       "        text-align: right;\n",
       "    }\n",
       "</style>\n",
       "<table border=\"1\" class=\"dataframe\">\n",
       "  <thead>\n",
       "    <tr style=\"text-align: right;\">\n",
       "      <th></th>\n",
       "      <th>review</th>\n",
       "    </tr>\n",
       "  </thead>\n",
       "  <tbody>\n",
       "    <tr>\n",
       "      <th>0</th>\n",
       "      <td>Great banking app with attractive interest rat...</td>\n",
       "    </tr>\n",
       "    <tr>\n",
       "      <th>1</th>\n",
       "      <td>A bank like no other, no bank have such amazin...</td>\n",
       "    </tr>\n",
       "    <tr>\n",
       "      <th>2</th>\n",
       "      <td>Notice that the drop in interest rate of 0.8% ...</td>\n",
       "    </tr>\n",
       "    <tr>\n",
       "      <th>3</th>\n",
       "      <td>Sending money into my GXS account is a breeze ...</td>\n",
       "    </tr>\n",
       "    <tr>\n",
       "      <th>4</th>\n",
       "      <td>I have to say that the UI/UX is one of the bes...</td>\n",
       "    </tr>\n",
       "  </tbody>\n",
       "</table>\n",
       "</div>"
      ],
      "text/plain": [
       "                                              review\n",
       "0  Great banking app with attractive interest rat...\n",
       "1  A bank like no other, no bank have such amazin...\n",
       "2  Notice that the drop in interest rate of 0.8% ...\n",
       "3  Sending money into my GXS account is a breeze ...\n",
       "4  I have to say that the UI/UX is one of the bes..."
      ]
     },
     "execution_count": 77,
     "metadata": {},
     "output_type": "execute_result"
    }
   ],
   "source": [
    "columns_to_drop = ['dataFrom', 'date', 'rating', 'extracted_devresp', 'devresp_time']\n",
    "review_data = pd.read_csv('data/combined_data.csv').drop(columns_to_drop,axis=1)\n",
    "review_data.head()"
   ]
  },
  {
   "cell_type": "code",
   "execution_count": 78,
   "metadata": {},
   "outputs": [
    {
     "data": {
      "text/plain": [
       "\"review_data = pd.read_csv('data/K8 Reviews v0.2.csv').drop('sentiment',axis=1)\\nreview_data.head() \""
      ]
     },
     "execution_count": 78,
     "metadata": {},
     "output_type": "execute_result"
    }
   ],
   "source": [
    "'''review_data = pd.read_csv('data/K8 Reviews v0.2.csv').drop('sentiment',axis=1)\n",
    "review_data.head() '''"
   ]
  },
  {
   "cell_type": "code",
   "execution_count": 79,
   "metadata": {},
   "outputs": [
    {
     "data": {
      "text/plain": [
       "\" columns_to_drop = ['date', 'developerResponse', 'rating', 'isEdited', 'title', 'userName', 'Unnamed: 0']\\nreview_data = pd.read_csv('data/AppStoreData.csv').drop(columns_to_drop,axis=1)\\nreview_data.head() \""
      ]
     },
     "execution_count": 79,
     "metadata": {},
     "output_type": "execute_result"
    }
   ],
   "source": [
    "''' columns_to_drop = ['date', 'developerResponse', 'rating', 'isEdited', 'title', 'userName', 'Unnamed: 0']\n",
    "review_data = pd.read_csv('data/AppStoreData.csv').drop(columns_to_drop,axis=1)\n",
    "review_data.head() '''"
   ]
  },
  {
   "cell_type": "code",
   "execution_count": 80,
   "metadata": {},
   "outputs": [
    {
     "data": {
      "text/plain": [
       "(418, 1)"
      ]
     },
     "execution_count": 80,
     "metadata": {},
     "output_type": "execute_result"
    }
   ],
   "source": [
    "review_data.shape\n",
    "\n",
    "# We have 14K reviews "
   ]
  },
  {
   "attachments": {},
   "cell_type": "markdown",
   "metadata": {},
   "source": [
    "# Data Pre-Processing\n",
    "### 1. Replacing/Dropping NULL values"
   ]
  },
  {
   "cell_type": "code",
   "execution_count": 81,
   "metadata": {},
   "outputs": [
    {
     "data": {
      "text/plain": [
       "review    0\n",
       "dtype: int64"
      ]
     },
     "execution_count": 81,
     "metadata": {},
     "output_type": "execute_result"
    }
   ],
   "source": [
    "review_data.isnull().sum()\n",
    "\n",
    "# Since our data has no null values will be skip this step"
   ]
  },
  {
   "attachments": {},
   "cell_type": "markdown",
   "metadata": {},
   "source": [
    "### 2. Converting to LOWER case"
   ]
  },
  {
   "cell_type": "code",
   "execution_count": 82,
   "metadata": {},
   "outputs": [
    {
     "data": {
      "text/plain": [
       "\"review_data['clean_review'] = review_data['extracted_devresp'].apply(lambda x: str(x).lower())\\nreview_data.head()\""
      ]
     },
     "execution_count": 82,
     "metadata": {},
     "output_type": "execute_result"
    }
   ],
   "source": [
    "review_data['clean_review'] = review_data['review'].apply(lambda x: str(x).lower())\n",
    "review_data.head()\n",
    "\n",
    "'''review_data['clean_review'] = review_data['extracted_devresp'].apply(lambda x: str(x).lower())\n",
    "review_data.head()'''"
   ]
  },
  {
   "attachments": {},
   "cell_type": "markdown",
   "metadata": {},
   "source": [
    "### 3. REMOVE NON-ALPHA DATA(DIGITS,PUNCTUATIONS,DIACRITICS)"
   ]
  },
  {
   "cell_type": "code",
   "execution_count": 83,
   "metadata": {},
   "outputs": [
    {
     "data": {
      "text/html": [
       "<div>\n",
       "<style scoped>\n",
       "    .dataframe tbody tr th:only-of-type {\n",
       "        vertical-align: middle;\n",
       "    }\n",
       "\n",
       "    .dataframe tbody tr th {\n",
       "        vertical-align: top;\n",
       "    }\n",
       "\n",
       "    .dataframe thead th {\n",
       "        text-align: right;\n",
       "    }\n",
       "</style>\n",
       "<table border=\"1\" class=\"dataframe\">\n",
       "  <thead>\n",
       "    <tr style=\"text-align: right;\">\n",
       "      <th></th>\n",
       "      <th>review</th>\n",
       "      <th>clean_review</th>\n",
       "    </tr>\n",
       "  </thead>\n",
       "  <tbody>\n",
       "    <tr>\n",
       "      <th>0</th>\n",
       "      <td>Great banking app with attractive interest rat...</td>\n",
       "      <td>great banking app with attractive interest rat...</td>\n",
       "    </tr>\n",
       "    <tr>\n",
       "      <th>1</th>\n",
       "      <td>A bank like no other, no bank have such amazin...</td>\n",
       "      <td>a bank like no other  no bank have such amazin...</td>\n",
       "    </tr>\n",
       "    <tr>\n",
       "      <th>2</th>\n",
       "      <td>Notice that the drop in interest rate of 0.8% ...</td>\n",
       "      <td>notice that the drop in interest rate of      ...</td>\n",
       "    </tr>\n",
       "    <tr>\n",
       "      <th>3</th>\n",
       "      <td>Sending money into my GXS account is a breeze ...</td>\n",
       "      <td>sending money into my gxs account is a breeze ...</td>\n",
       "    </tr>\n",
       "    <tr>\n",
       "      <th>4</th>\n",
       "      <td>I have to say that the UI/UX is one of the bes...</td>\n",
       "      <td>i have to say that the ui ux is one of the bes...</td>\n",
       "    </tr>\n",
       "  </tbody>\n",
       "</table>\n",
       "</div>"
      ],
      "text/plain": [
       "                                              review  \\\n",
       "0  Great banking app with attractive interest rat...   \n",
       "1  A bank like no other, no bank have such amazin...   \n",
       "2  Notice that the drop in interest rate of 0.8% ...   \n",
       "3  Sending money into my GXS account is a breeze ...   \n",
       "4  I have to say that the UI/UX is one of the bes...   \n",
       "\n",
       "                                        clean_review  \n",
       "0  great banking app with attractive interest rat...  \n",
       "1  a bank like no other  no bank have such amazin...  \n",
       "2  notice that the drop in interest rate of      ...  \n",
       "3  sending money into my gxs account is a breeze ...  \n",
       "4  i have to say that the ui ux is one of the bes...  "
      ]
     },
     "execution_count": 83,
     "metadata": {},
     "output_type": "execute_result"
    }
   ],
   "source": [
    "review_data['clean_review'] = review_data['clean_review'].str.replace(r'[^a-zA-Z\\s]', ' ',regex=True) \n",
    "review_data.head()"
   ]
  },
  {
   "attachments": {},
   "cell_type": "markdown",
   "metadata": {},
   "source": [
    "### 4. REMOVING WHITE SPACE"
   ]
  },
  {
   "cell_type": "code",
   "execution_count": 84,
   "metadata": {},
   "outputs": [
    {
     "data": {
      "text/html": [
       "<div>\n",
       "<style scoped>\n",
       "    .dataframe tbody tr th:only-of-type {\n",
       "        vertical-align: middle;\n",
       "    }\n",
       "\n",
       "    .dataframe tbody tr th {\n",
       "        vertical-align: top;\n",
       "    }\n",
       "\n",
       "    .dataframe thead th {\n",
       "        text-align: right;\n",
       "    }\n",
       "</style>\n",
       "<table border=\"1\" class=\"dataframe\">\n",
       "  <thead>\n",
       "    <tr style=\"text-align: right;\">\n",
       "      <th></th>\n",
       "      <th>review</th>\n",
       "      <th>clean_review</th>\n",
       "    </tr>\n",
       "  </thead>\n",
       "  <tbody>\n",
       "    <tr>\n",
       "      <th>0</th>\n",
       "      <td>Great banking app with attractive interest rat...</td>\n",
       "      <td>great banking app with attractive interest rat...</td>\n",
       "    </tr>\n",
       "    <tr>\n",
       "      <th>1</th>\n",
       "      <td>A bank like no other, no bank have such amazin...</td>\n",
       "      <td>a bank like no other no bank have such amazing...</td>\n",
       "    </tr>\n",
       "    <tr>\n",
       "      <th>2</th>\n",
       "      <td>Notice that the drop in interest rate of 0.8% ...</td>\n",
       "      <td>notice that the drop in interest rate of in sa...</td>\n",
       "    </tr>\n",
       "    <tr>\n",
       "      <th>3</th>\n",
       "      <td>Sending money into my GXS account is a breeze ...</td>\n",
       "      <td>sending money into my gxs account is a breeze ...</td>\n",
       "    </tr>\n",
       "    <tr>\n",
       "      <th>4</th>\n",
       "      <td>I have to say that the UI/UX is one of the bes...</td>\n",
       "      <td>i have to say that the ui ux is one of the bes...</td>\n",
       "    </tr>\n",
       "  </tbody>\n",
       "</table>\n",
       "</div>"
      ],
      "text/plain": [
       "                                              review  \\\n",
       "0  Great banking app with attractive interest rat...   \n",
       "1  A bank like no other, no bank have such amazin...   \n",
       "2  Notice that the drop in interest rate of 0.8% ...   \n",
       "3  Sending money into my GXS account is a breeze ...   \n",
       "4  I have to say that the UI/UX is one of the bes...   \n",
       "\n",
       "                                        clean_review  \n",
       "0  great banking app with attractive interest rat...  \n",
       "1  a bank like no other no bank have such amazing...  \n",
       "2  notice that the drop in interest rate of in sa...  \n",
       "3  sending money into my gxs account is a breeze ...  \n",
       "4  i have to say that the ui ux is one of the bes...  "
      ]
     },
     "execution_count": 84,
     "metadata": {},
     "output_type": "execute_result"
    }
   ],
   "source": [
    "review_data['clean_review'] = review_data['clean_review'].str.replace(r'\\s{2,}', ' ',regex=True)\n",
    "review_data.head()"
   ]
  },
  {
   "attachments": {},
   "cell_type": "markdown",
   "metadata": {},
   "source": [
    "### 5. WORD TOKENIZATION"
   ]
  },
  {
   "cell_type": "code",
   "execution_count": 85,
   "metadata": {},
   "outputs": [
    {
     "name": "stderr",
     "output_type": "stream",
     "text": [
      "[nltk_data] Downloading package punkt to /Users/neleht./nltk_data...\n",
      "[nltk_data]   Package punkt is already up-to-date!\n"
     ]
    },
    {
     "data": {
      "text/plain": [
       "True"
      ]
     },
     "execution_count": 85,
     "metadata": {},
     "output_type": "execute_result"
    }
   ],
   "source": [
    "import nltk\n",
    "from nltk.tokenize import word_tokenize\n",
    "nltk.download('punkt')"
   ]
  },
  {
   "cell_type": "code",
   "execution_count": 86,
   "metadata": {},
   "outputs": [
    {
     "data": {
      "text/html": [
       "<div>\n",
       "<style scoped>\n",
       "    .dataframe tbody tr th:only-of-type {\n",
       "        vertical-align: middle;\n",
       "    }\n",
       "\n",
       "    .dataframe tbody tr th {\n",
       "        vertical-align: top;\n",
       "    }\n",
       "\n",
       "    .dataframe thead th {\n",
       "        text-align: right;\n",
       "    }\n",
       "</style>\n",
       "<table border=\"1\" class=\"dataframe\">\n",
       "  <thead>\n",
       "    <tr style=\"text-align: right;\">\n",
       "      <th></th>\n",
       "      <th>review</th>\n",
       "      <th>clean_review</th>\n",
       "    </tr>\n",
       "  </thead>\n",
       "  <tbody>\n",
       "    <tr>\n",
       "      <th>0</th>\n",
       "      <td>Great banking app with attractive interest rat...</td>\n",
       "      <td>[great, banking, app, with, attractive, intere...</td>\n",
       "    </tr>\n",
       "    <tr>\n",
       "      <th>1</th>\n",
       "      <td>A bank like no other, no bank have such amazin...</td>\n",
       "      <td>[a, bank, like, no, other, no, bank, have, suc...</td>\n",
       "    </tr>\n",
       "    <tr>\n",
       "      <th>2</th>\n",
       "      <td>Notice that the drop in interest rate of 0.8% ...</td>\n",
       "      <td>[notice, that, the, drop, in, interest, rate, ...</td>\n",
       "    </tr>\n",
       "    <tr>\n",
       "      <th>3</th>\n",
       "      <td>Sending money into my GXS account is a breeze ...</td>\n",
       "      <td>[sending, money, into, my, gxs, account, is, a...</td>\n",
       "    </tr>\n",
       "    <tr>\n",
       "      <th>4</th>\n",
       "      <td>I have to say that the UI/UX is one of the bes...</td>\n",
       "      <td>[i, have, to, say, that, the, ui, ux, is, one,...</td>\n",
       "    </tr>\n",
       "  </tbody>\n",
       "</table>\n",
       "</div>"
      ],
      "text/plain": [
       "                                              review  \\\n",
       "0  Great banking app with attractive interest rat...   \n",
       "1  A bank like no other, no bank have such amazin...   \n",
       "2  Notice that the drop in interest rate of 0.8% ...   \n",
       "3  Sending money into my GXS account is a breeze ...   \n",
       "4  I have to say that the UI/UX is one of the bes...   \n",
       "\n",
       "                                        clean_review  \n",
       "0  [great, banking, app, with, attractive, intere...  \n",
       "1  [a, bank, like, no, other, no, bank, have, suc...  \n",
       "2  [notice, that, the, drop, in, interest, rate, ...  \n",
       "3  [sending, money, into, my, gxs, account, is, a...  \n",
       "4  [i, have, to, say, that, the, ui, ux, is, one,...  "
      ]
     },
     "execution_count": 86,
     "metadata": {},
     "output_type": "execute_result"
    }
   ],
   "source": [
    "review_data['clean_review'] = review_data['clean_review'].apply(lambda x: word_tokenize(x))\n",
    "review_data.head()"
   ]
  },
  {
   "attachments": {},
   "cell_type": "markdown",
   "metadata": {},
   "source": [
    "### 6. REMOVE UNNECESSARY WORDS"
   ]
  },
  {
   "cell_type": "code",
   "execution_count": 87,
   "metadata": {},
   "outputs": [
    {
     "name": "stdout",
     "output_type": "stream",
     "text": [
      "Requirement already satisfied: stopwords in /Library/Frameworks/Python.framework/Versions/3.9/lib/python3.9/site-packages (1.0.1)\n",
      "Note: you may need to restart the kernel to use updated packages.\n"
     ]
    }
   ],
   "source": [
    "%pip install stopwords"
   ]
  },
  {
   "cell_type": "code",
   "execution_count": 88,
   "metadata": {},
   "outputs": [
    {
     "name": "stderr",
     "output_type": "stream",
     "text": [
      "[nltk_data] Downloading package stopwords to\n",
      "[nltk_data]     /Users/neleht./nltk_data...\n",
      "[nltk_data]   Package stopwords is already up-to-date!\n"
     ]
    },
    {
     "data": {
      "text/plain": [
       "True"
      ]
     },
     "execution_count": 88,
     "metadata": {},
     "output_type": "execute_result"
    }
   ],
   "source": [
    "from nltk.corpus import stopwords\n",
    "nltk.download('stopwords')"
   ]
  },
  {
   "cell_type": "code",
   "execution_count": 89,
   "metadata": {},
   "outputs": [
    {
     "data": {
      "text/html": [
       "<div>\n",
       "<style scoped>\n",
       "    .dataframe tbody tr th:only-of-type {\n",
       "        vertical-align: middle;\n",
       "    }\n",
       "\n",
       "    .dataframe tbody tr th {\n",
       "        vertical-align: top;\n",
       "    }\n",
       "\n",
       "    .dataframe thead th {\n",
       "        text-align: right;\n",
       "    }\n",
       "</style>\n",
       "<table border=\"1\" class=\"dataframe\">\n",
       "  <thead>\n",
       "    <tr style=\"text-align: right;\">\n",
       "      <th></th>\n",
       "      <th>review</th>\n",
       "      <th>clean_review</th>\n",
       "    </tr>\n",
       "  </thead>\n",
       "  <tbody>\n",
       "    <tr>\n",
       "      <th>0</th>\n",
       "      <td>Great banking app with attractive interest rat...</td>\n",
       "      <td>[great, banking, attractive, interest, rates, ...</td>\n",
       "    </tr>\n",
       "    <tr>\n",
       "      <th>1</th>\n",
       "      <td>A bank like no other, no bank have such amazin...</td>\n",
       "      <td>[bank, like, bank, amazing, feature, separate,...</td>\n",
       "    </tr>\n",
       "    <tr>\n",
       "      <th>2</th>\n",
       "      <td>Notice that the drop in interest rate of 0.8% ...</td>\n",
       "      <td>[notice, drop, interest, rate, saving, account...</td>\n",
       "    </tr>\n",
       "    <tr>\n",
       "      <th>3</th>\n",
       "      <td>Sending money into my GXS account is a breeze ...</td>\n",
       "      <td>[sending, money, account, breeze, instantaneou...</td>\n",
       "    </tr>\n",
       "    <tr>\n",
       "      <th>4</th>\n",
       "      <td>I have to say that the UI/UX is one of the bes...</td>\n",
       "      <td>[best, seen, digibank, mobile, finally, strong...</td>\n",
       "    </tr>\n",
       "  </tbody>\n",
       "</table>\n",
       "</div>"
      ],
      "text/plain": [
       "                                              review  \\\n",
       "0  Great banking app with attractive interest rat...   \n",
       "1  A bank like no other, no bank have such amazin...   \n",
       "2  Notice that the drop in interest rate of 0.8% ...   \n",
       "3  Sending money into my GXS account is a breeze ...   \n",
       "4  I have to say that the UI/UX is one of the bes...   \n",
       "\n",
       "                                        clean_review  \n",
       "0  [great, banking, attractive, interest, rates, ...  \n",
       "1  [bank, like, bank, amazing, feature, separate,...  \n",
       "2  [notice, drop, interest, rate, saving, account...  \n",
       "3  [sending, money, account, breeze, instantaneou...  \n",
       "4  [best, seen, digibank, mobile, finally, strong...  "
      ]
     },
     "execution_count": 89,
     "metadata": {},
     "output_type": "execute_result"
    }
   ],
   "source": [
    "review_data['clean_review'] = review_data['clean_review'].apply\\\n",
    "(lambda x:[word for word in x if word not in stopwords.words(\"english\") and len(word) > 3 and word.isalpha()])\n",
    "\n",
    "\n",
    "review_data.head()\n"
   ]
  },
  {
   "cell_type": "code",
   "execution_count": 90,
   "metadata": {},
   "outputs": [
    {
     "data": {
      "text/plain": [
       "\"custom_stopwords = ['Hi', 'please', 'thank you', 'happy', 'thrilled', 'delighted', 'thank', 'there', 'review', 'sorry', 'hope',]\\nreview_data['clean_review'] = review_data['clean_review'].apply(lambda x:[word for word in x if word not in custom_stopwords and len(word) > 3 and word.isalpha()]) \""
      ]
     },
     "execution_count": 90,
     "metadata": {},
     "output_type": "execute_result"
    }
   ],
   "source": [
    "# for dev_response\n",
    "'''custom_stopwords = ['Hi', 'please', 'thank you', 'happy', 'thrilled', 'delighted', 'thank', 'there', 'review', 'sorry', 'hope',]\n",
    "review_data['clean_review'] = review_data['clean_review'].apply\\\n",
    "(lambda x:[word for word in x if word not in custom_stopwords and len(word) > 3 and word.isalpha()]) '''"
   ]
  },
  {
   "cell_type": "code",
   "execution_count": 91,
   "metadata": {},
   "outputs": [],
   "source": [
    "review_data = review_data[review_data['clean_review'].map(lambda x: len(x)) > 1].reset_index(drop=True)\n",
    "# Keeping records with more than single words"
   ]
  },
  {
   "attachments": {},
   "cell_type": "markdown",
   "metadata": {},
   "source": [
    "### 7. LEMMATIZATION"
   ]
  },
  {
   "cell_type": "code",
   "execution_count": 92,
   "metadata": {},
   "outputs": [
    {
     "name": "stderr",
     "output_type": "stream",
     "text": [
      "[nltk_data] Downloading package wordnet to /Users/neleht./nltk_data...\n",
      "[nltk_data]   Package wordnet is already up-to-date!\n"
     ]
    },
    {
     "data": {
      "text/plain": [
       "True"
      ]
     },
     "execution_count": 92,
     "metadata": {},
     "output_type": "execute_result"
    }
   ],
   "source": [
    "from nltk.stem import WordNetLemmatizer\n",
    "nltk.download('wordnet')"
   ]
  },
  {
   "cell_type": "code",
   "execution_count": 93,
   "metadata": {},
   "outputs": [
    {
     "data": {
      "text/html": [
       "<div>\n",
       "<style scoped>\n",
       "    .dataframe tbody tr th:only-of-type {\n",
       "        vertical-align: middle;\n",
       "    }\n",
       "\n",
       "    .dataframe tbody tr th {\n",
       "        vertical-align: top;\n",
       "    }\n",
       "\n",
       "    .dataframe thead th {\n",
       "        text-align: right;\n",
       "    }\n",
       "</style>\n",
       "<table border=\"1\" class=\"dataframe\">\n",
       "  <thead>\n",
       "    <tr style=\"text-align: right;\">\n",
       "      <th></th>\n",
       "      <th>review</th>\n",
       "      <th>clean_review</th>\n",
       "    </tr>\n",
       "  </thead>\n",
       "  <tbody>\n",
       "    <tr>\n",
       "      <th>0</th>\n",
       "      <td>Great banking app with attractive interest rat...</td>\n",
       "      <td>[great, banking, attractive, interest, rate, p...</td>\n",
       "    </tr>\n",
       "    <tr>\n",
       "      <th>1</th>\n",
       "      <td>A bank like no other, no bank have such amazin...</td>\n",
       "      <td>[bank, like, bank, amazing, feature, separate,...</td>\n",
       "    </tr>\n",
       "    <tr>\n",
       "      <th>2</th>\n",
       "      <td>Notice that the drop in interest rate of 0.8% ...</td>\n",
       "      <td>[notice, drop, interest, rate, saving, account...</td>\n",
       "    </tr>\n",
       "    <tr>\n",
       "      <th>3</th>\n",
       "      <td>Sending money into my GXS account is a breeze ...</td>\n",
       "      <td>[sending, money, account, breeze, instantaneou...</td>\n",
       "    </tr>\n",
       "    <tr>\n",
       "      <th>4</th>\n",
       "      <td>I have to say that the UI/UX is one of the bes...</td>\n",
       "      <td>[best, seen, digibank, mobile, finally, strong...</td>\n",
       "    </tr>\n",
       "  </tbody>\n",
       "</table>\n",
       "</div>"
      ],
      "text/plain": [
       "                                              review  \\\n",
       "0  Great banking app with attractive interest rat...   \n",
       "1  A bank like no other, no bank have such amazin...   \n",
       "2  Notice that the drop in interest rate of 0.8% ...   \n",
       "3  Sending money into my GXS account is a breeze ...   \n",
       "4  I have to say that the UI/UX is one of the bes...   \n",
       "\n",
       "                                        clean_review  \n",
       "0  [great, banking, attractive, interest, rate, p...  \n",
       "1  [bank, like, bank, amazing, feature, separate,...  \n",
       "2  [notice, drop, interest, rate, saving, account...  \n",
       "3  [sending, money, account, breeze, instantaneou...  \n",
       "4  [best, seen, digibank, mobile, finally, strong...  "
      ]
     },
     "execution_count": 93,
     "metadata": {},
     "output_type": "execute_result"
    }
   ],
   "source": [
    "review_data['clean_review'] = review_data['clean_review'].apply\\\n",
    "(lambda x: [WordNetLemmatizer().lemmatize(word) for word in x])\n",
    "review_data.head()"
   ]
  },
  {
   "attachments": {},
   "cell_type": "markdown",
   "metadata": {},
   "source": [
    "### 8. Extracting only NOUN"
   ]
  },
  {
   "cell_type": "code",
   "execution_count": 94,
   "metadata": {},
   "outputs": [
    {
     "name": "stderr",
     "output_type": "stream",
     "text": [
      "[nltk_data] Downloading package averaged_perceptron_tagger to\n",
      "[nltk_data]     /Users/neleht./nltk_data...\n",
      "[nltk_data]   Package averaged_perceptron_tagger is already up-to-\n",
      "[nltk_data]       date!\n"
     ]
    },
    {
     "data": {
      "text/plain": [
       "True"
      ]
     },
     "execution_count": 94,
     "metadata": {},
     "output_type": "execute_result"
    }
   ],
   "source": [
    "nltk.download('averaged_perceptron_tagger')"
   ]
  },
  {
   "cell_type": "code",
   "execution_count": 95,
   "metadata": {},
   "outputs": [],
   "source": [
    "review_data['clean_review'] = review_data['clean_review'].apply\\\n",
    "(lambda x: [word for word in x if nltk.pos_tag([word])[0][1] == 'NN'])"
   ]
  },
  {
   "cell_type": "code",
   "execution_count": 96,
   "metadata": {},
   "outputs": [],
   "source": [
    "review_data = review_data[review_data['clean_review'].map(lambda x: len(x)) > 1].reset_index(drop=True)\n",
    "# Keeping records with more than single words"
   ]
  },
  {
   "cell_type": "code",
   "execution_count": 97,
   "metadata": {},
   "outputs": [
    {
     "data": {
      "text/html": [
       "<div>\n",
       "<style scoped>\n",
       "    .dataframe tbody tr th:only-of-type {\n",
       "        vertical-align: middle;\n",
       "    }\n",
       "\n",
       "    .dataframe tbody tr th {\n",
       "        vertical-align: top;\n",
       "    }\n",
       "\n",
       "    .dataframe thead th {\n",
       "        text-align: right;\n",
       "    }\n",
       "</style>\n",
       "<table border=\"1\" class=\"dataframe\">\n",
       "  <thead>\n",
       "    <tr style=\"text-align: right;\">\n",
       "      <th></th>\n",
       "      <th>review</th>\n",
       "      <th>clean_review</th>\n",
       "    </tr>\n",
       "  </thead>\n",
       "  <tbody>\n",
       "    <tr>\n",
       "      <th>0</th>\n",
       "      <td>Great banking app with attractive interest rat...</td>\n",
       "      <td>[banking, interest, rate, please, payee, numbe...</td>\n",
       "    </tr>\n",
       "    <tr>\n",
       "      <th>1</th>\n",
       "      <td>A bank like no other, no bank have such amazin...</td>\n",
       "      <td>[bank, bank, feature, money, pocket, track, go...</td>\n",
       "    </tr>\n",
       "    <tr>\n",
       "      <th>2</th>\n",
       "      <td>Notice that the drop in interest rate of 0.8% ...</td>\n",
       "      <td>[notice, drop, interest, rate, account, reason...</td>\n",
       "    </tr>\n",
       "    <tr>\n",
       "      <th>3</th>\n",
       "      <td>Sending money into my GXS account is a breeze ...</td>\n",
       "      <td>[money, account, breeze, amount, fund, money, ...</td>\n",
       "    </tr>\n",
       "    <tr>\n",
       "      <th>4</th>\n",
       "      <td>I have to say that the UI/UX is one of the bes...</td>\n",
       "      <td>[digibank, mobile, market, player, focus, cust...</td>\n",
       "    </tr>\n",
       "  </tbody>\n",
       "</table>\n",
       "</div>"
      ],
      "text/plain": [
       "                                              review  \\\n",
       "0  Great banking app with attractive interest rat...   \n",
       "1  A bank like no other, no bank have such amazin...   \n",
       "2  Notice that the drop in interest rate of 0.8% ...   \n",
       "3  Sending money into my GXS account is a breeze ...   \n",
       "4  I have to say that the UI/UX is one of the bes...   \n",
       "\n",
       "                                        clean_review  \n",
       "0  [banking, interest, rate, please, payee, numbe...  \n",
       "1  [bank, bank, feature, money, pocket, track, go...  \n",
       "2  [notice, drop, interest, rate, account, reason...  \n",
       "3  [money, account, breeze, amount, fund, money, ...  \n",
       "4  [digibank, mobile, market, player, focus, cust...  "
      ]
     },
     "execution_count": 97,
     "metadata": {},
     "output_type": "execute_result"
    }
   ],
   "source": [
    "review_data.head()"
   ]
  },
  {
   "attachments": {},
   "cell_type": "markdown",
   "metadata": {},
   "source": [
    "### 9. Document Term Matrix"
   ]
  },
  {
   "cell_type": "code",
   "execution_count": 98,
   "metadata": {},
   "outputs": [],
   "source": [
    "import gensim\n",
    "from gensim import corpora"
   ]
  },
  {
   "cell_type": "code",
   "execution_count": 99,
   "metadata": {},
   "outputs": [
    {
     "name": "stdout",
     "output_type": "stream",
     "text": [
      "Dictionary(738 unique tokens: ['account', 'apple', 'banking', 'card', 'debit']...)\n"
     ]
    }
   ],
   "source": [
    "dictionary = corpora.Dictionary(review_data['clean_review'])\n",
    "print(dictionary)\n",
    "\n",
    "# We have 6724 unique tokens"
   ]
  },
  {
   "cell_type": "code",
   "execution_count": 100,
   "metadata": {},
   "outputs": [
    {
     "data": {
      "text/plain": [
       "0    [(0, 1), (1, 1), (2, 1), (3, 1), (4, 1), (5, 1...\n",
       "1    [(5, 3), (9, 1), (10, 3), (11, 1), (12, 1), (1...\n",
       "2    [(0, 9), (5, 7), (9, 6), (10, 1), (34, 1), (35...\n",
       "3    [(0, 2), (2, 1), (8, 1), (23, 2), (30, 1), (43...\n",
       "4    [(2, 1), (8, 1), (10, 1), (26, 1), (33, 1), (6...\n",
       "5    [(0, 1), (10, 4), (42, 1), (61, 1), (83, 1), (...\n",
       "6    [(2, 1), (5, 1), (9, 1), (10, 1), (32, 1), (74...\n",
       "7    [(2, 1), (7, 1), (10, 3), (17, 1), (23, 1), (3...\n",
       "8    [(17, 1), (25, 1), (32, 1), (33, 1), (74, 1), ...\n",
       "9    [(0, 2), (6, 1), (8, 1), (10, 3), (21, 1), (56...\n",
       "Name: clean_review, dtype: object"
      ]
     },
     "execution_count": 100,
     "metadata": {},
     "output_type": "execute_result"
    }
   ],
   "source": [
    "doc_term_matrix = review_data['clean_review'].apply(lambda x: dictionary.doc2bow(x))\n",
    "doc_term_matrix[:10]\n",
    "\n",
    "# Each tokenized words has been assigned index value and thier count in corpus"
   ]
  },
  {
   "cell_type": "markdown",
   "metadata": {},
   "source": [
    "### SEEDING LDA"
   ]
  },
  {
   "cell_type": "code",
   "execution_count": 101,
   "metadata": {},
   "outputs": [],
   "source": [
    "import os\n",
    "import pandas as pd\n",
    "from tqdm.notebook import tqdm\n",
    "import matplotlib.pyplot as plt\n",
    "from sklearn.feature_extraction.text import TfidfVectorizer\n",
    "from nltk.stem import PorterStemmer\n",
    "from nltk import word_tokenize\n",
    "import numpy as np\n",
    "from gensim.models.ldamulticore import LdaMulticore\n",
    "import gensim\n",
    "from nltk.corpus import stopwords\n",
    "stops = stopwords.words(\"english\")"
   ]
  },
  {
   "cell_type": "code",
   "execution_count": 102,
   "metadata": {},
   "outputs": [
    {
     "data": {
      "text/plain": [
       "\"\\ntopic_lookup_data['Topic_Name'] = ['App Responsiveness','Money Growth (Interest Rates)','Customer Services','Services & Products','User Interface','Credit card', 'Login & Account Setup', 'Competition', 'Safety', 'Customer trust']\\n\\ntopic_lookup_data['Top_Keywords'] =  {\\n    0: ['freeze', 'crash', 'buggy', 'transaction', 'speed', 'fast', 'crash', 'breeze', 'swift', 'rapid', 'seamless', 'smooth', 'wait', 'hassle', 'snappy', 'load', 'fingertips', 'efficient', 'error'],\\n    1: ['drop', 'daily', 'min', 'disbursement', 'ROI', 'interest', 'rates', 'savings', 'p.a.'],\\n    2: ['wait', 'time', 'efficient', 'late', 'response', 'customer', 'support', 'hotline', 'email', 'feedback','suggestion'],\\n    3: ['application', 'deposit', 'repayment', 'loan', 'pocket', 'digital', 'money', 'transfer', 'payee', 'lucky', 'draw', 'saving', 'convenient', 'buzz', 'transparent', 'useless', 'block', 'mistake', 'pocket', 'QR', 'deposit'],\\n    4: ['ease', 'use', 'easy', 'clear', 'friendly', 'seamless', 'functionality', 'icon', 'graphics', 'design', 'UI', 'UX', 'theme', 'UI/UX', 'interface', 'intuitive', 'user', 'beautiful'],\\n    5: ['rebates', 'rewards', 'programme', 'debit', 'creditcard', 'credit', 'card'],\\n    6: ['registration', 'singpass', 'password', 'biometric', 'onboard', 'form', 'setup', 'set', 'up', 'login' , 'open', 'signup', 'fingerprint', 'launch', 'register', 'create', 'application', '2FA', 'download', 'biometrics', 'sign'],\\n    7: ['Trust', 'maribank', 'T' , 'bills', 'OCBC', 'Timo'],\\n    8: ['password', 'pin', 'particulars', 'QR', 'bug', 'hack', 'security', 'secure', 'insecure', 'safe'],\\n    9: ['misleading', 'deceive', 'fake' , 'false', 'scam']\\n}\\n\""
      ]
     },
     "execution_count": 102,
     "metadata": {},
     "output_type": "execute_result"
    }
   ],
   "source": [
    "ps = PorterStemmer()\n",
    "\n",
    "App_Responsiveness = ['freeze', 'crash', 'buggy', 'speed', 'fast', 'crash', 'swift', 'rapid', 'seamless', 'smooth', 'wait', 'snappy', 'load', 'efficient', 'error']\n",
    "Money_Growth = ['drop', 'interest rate', 'ROI', 'interest', 'rates', 'savings', 'p.a.']\n",
    "Customer_Services = ['wait time', 'efficient', 'response', 'customer', 'support', 'hotline', 'email', 'feedback','suggestion']\n",
    "\n",
    "Services_and_Products = ['deposit', 'repayment', 'loan', 'pocket', 'digital', 'transfer', 'payee', 'saving', 'convenient', 'QR', 'deposit']\n",
    "User_Interface = ['ease', 'use', 'easy', 'clear', 'friendly', 'seamless', 'functionality', 'graphics', 'design', 'UI', 'UX', 'theme', 'UI/UX', 'interface', 'intuitive']\n",
    "Credit_card = ['rebates', 'debit', 'creditcard', 'credit', 'card']\n",
    "\n",
    "Login_Account_Setup = ['registration', 'singpass', 'password', 'biometric', 'onboard', 'setup', 'set', 'up', 'login' , 'open', 'signup', 'fingerprint', 'launch', 'register', 'create', 'application', '2FA', 'download', 'biometrics', 'sign']\n",
    "Competition = ['Trust', 'maribank', 'T' , 'bills', 'OCBC', 'Timo']\n",
    "Safety = ['password', 'pin', 'particulars', 'hack', 'security', 'secure', 'safe']\n",
    "\n",
    "Customer_trust = ['misleading', 'deceive', 'fake' , 'false', 'scam']\n",
    "\n",
    "\n",
    "#stemming \n",
    "\n",
    "App_Responsiveness = [ps.stem(word) for word in App_Responsiveness]\n",
    "Money_Growth = [ps.stem(word) for word in Money_Growth]\n",
    "Customer_Services = [ps.stem(word) for word in Customer_Services]\n",
    "\n",
    "Services_and_Products = [ps.stem(word) for word in Services_and_Products]\n",
    "User_Interface = [ps.stem(word) for word in User_Interface]\n",
    "Credit_card = [ps.stem(word) for word in Credit_card]\n",
    "\n",
    "Login_Account_Setup = [ps.stem(word) for word in Login_Account_Setup]\n",
    "Competition = [ps.stem(word) for word in Competition]\n",
    "Safety = [ps.stem(word) for word in Safety]\n",
    "\n",
    "Customer_trust = [ps.stem(word) for word in Customer_trust]\n",
    "\n",
    "'''\n",
    "topic_lookup_data['Topic_Name'] = ['App Responsiveness','Money Growth (Interest Rates)','Customer Services','Services & Products','User Interface','Credit card', 'Login & Account Setup', 'Competition', 'Safety', 'Customer trust']\n",
    "\n",
    "topic_lookup_data['Top_Keywords'] =  {\n",
    "    0: ['freeze', 'crash', 'buggy', 'transaction', 'speed', 'fast', 'crash', 'breeze', 'swift', 'rapid', 'seamless', 'smooth', 'wait', 'hassle', 'snappy', 'load', 'fingertips', 'efficient', 'error'],\n",
    "    1: ['drop', 'daily', 'min', 'disbursement', 'ROI', 'interest', 'rates', 'savings', 'p.a.'],\n",
    "    2: ['wait', 'time', 'efficient', 'late', 'response', 'customer', 'support', 'hotline', 'email', 'feedback','suggestion'],\n",
    "    3: ['application', 'deposit', 'repayment', 'loan', 'pocket', 'digital', 'money', 'transfer', 'payee', 'lucky', 'draw', 'saving', 'convenient', 'buzz', 'transparent', 'useless', 'block', 'mistake', 'pocket', 'QR', 'deposit'],\n",
    "    4: ['ease', 'use', 'easy', 'clear', 'friendly', 'seamless', 'functionality', 'icon', 'graphics', 'design', 'UI', 'UX', 'theme', 'UI/UX', 'interface', 'intuitive', 'user', 'beautiful'],\n",
    "    5: ['rebates', 'rewards', 'programme', 'debit', 'creditcard', 'credit', 'card'],\n",
    "    6: ['registration', 'singpass', 'password', 'biometric', 'onboard', 'form', 'setup', 'set', 'up', 'login' , 'open', 'signup', 'fingerprint', 'launch', 'register', 'create', 'application', '2FA', 'download', 'biometrics', 'sign'],\n",
    "    7: ['Trust', 'maribank', 'T' , 'bills', 'OCBC', 'Timo'],\n",
    "    8: ['password', 'pin', 'particulars', 'QR', 'bug', 'hack', 'security', 'secure', 'insecure', 'safe'],\n",
    "    9: ['misleading', 'deceive', 'fake' , 'false', 'scam']\n",
    "}\n",
    "'''"
   ]
  },
  {
   "cell_type": "code",
   "execution_count": 103,
   "metadata": {},
   "outputs": [],
   "source": [
    "seed_topics = {}\n",
    "for word in App_Responsiveness:\n",
    "    seed_topics[word] = 0\n",
    "for word in Money_Growth:\n",
    "    seed_topics[word] = 1\n",
    "for word in Customer_Services:\n",
    "    seed_topics[word] = 2\n",
    "\n",
    "for word in Services_and_Products:\n",
    "    seed_topics[word] = 3\n",
    "for word in User_Interface:\n",
    "    seed_topics[word] = 4\n",
    "for word in Credit_card:\n",
    "    seed_topics[word] = 5\n",
    "\n",
    "for word in Login_Account_Setup:\n",
    "    seed_topics[word] = 6\n",
    "for word in Competition:\n",
    "    seed_topics[word] = 7\n",
    "for word in Safety:\n",
    "    seed_topics[word] = 8\n",
    "\n",
    "\n",
    "for word in Customer_trust:\n",
    "    seed_topics[word] = 9\n"
   ]
  },
  {
   "cell_type": "code",
   "execution_count": 104,
   "metadata": {},
   "outputs": [],
   "source": [
    "def create_eta(priors, etadict, ntopics):\n",
    "    eta = np.full(shape=(ntopics, len(etadict)), fill_value=1) # create a (ntopics, nterms) matrix and fill with 1\n",
    "    for word, topic in priors.items(): # for each word in the list of priors\n",
    "        keyindex = [index for index,term in etadict.items() if term==word] # look up the word in the dictionary\n",
    "        if (len(keyindex)>0): # if it's in the dictionary\n",
    "            eta[topic,keyindex[0]] = 1e7  # put a large number in there\n",
    "    eta = np.divide(eta, eta.sum(axis=0)) # normalize so that the probabilities sum to 1 over all topics\n",
    "    return eta"
   ]
  },
  {
   "cell_type": "code",
   "execution_count": 105,
   "metadata": {},
   "outputs": [],
   "source": [
    "eta = create_eta(seed_topics, dictionary, 10)"
   ]
  },
  {
   "cell_type": "code",
   "execution_count": 106,
   "metadata": {},
   "outputs": [
    {
     "name": "stderr",
     "output_type": "stream",
     "text": [
      "/Library/Frameworks/Python.framework/Versions/3.9/lib/python3.9/site-packages/gensim/models/ldamodel.py:1023: RuntimeWarning: divide by zero encountered in log\n",
      "  diff = np.log(self.expElogbeta)\n"
     ]
    }
   ],
   "source": [
    "lda_model = LdaMulticore(corpus=doc_term_matrix,\n",
    "                         id2word=dictionary,\n",
    "                         num_topics=10,\n",
    "                         eta=eta,\n",
    "                         chunksize=2000,\n",
    "                         passes=5,\n",
    "                         random_state=42,\n",
    "                         alpha='symmetric',\n",
    "                         per_word_topics=True)"
   ]
  },
  {
   "attachments": {},
   "cell_type": "markdown",
   "metadata": {},
   "source": [
    "### LDA"
   ]
  },
  {
   "cell_type": "code",
   "execution_count": 107,
   "metadata": {},
   "outputs": [],
   "source": [
    "from IPython.display import clear_output"
   ]
  },
  {
   "cell_type": "code",
   "execution_count": 108,
   "metadata": {},
   "outputs": [],
   "source": [
    "Lda = gensim.models.ldamodel.LdaModel\n",
    "#ldamodel = Lda(corpus=doc_term_matrix, num_topics=12, id2word=dictionary, passes=10,random_state=45)\n",
    "\n",
    "lda_model = LdaMulticore(corpus=doc_term_matrix,\n",
    "                         id2word=dictionary,\n",
    "                         num_topics=10,\n",
    "                         eta=eta,\n",
    "                         chunksize=2000,\n",
    "                         passes=5,\n",
    "                         random_state=42,\n",
    "                         alpha='symmetric',\n",
    "                         per_word_topics=True)\n",
    "clear_output()\n",
    "\n",
    "# corpus requires document term matrix\n",
    "# num_topics is used to define number of topics to create from corpus\n",
    "# id2word requires mapping of words\n",
    "# passes is used to define number of iterations"
   ]
  },
  {
   "cell_type": "code",
   "execution_count": 109,
   "metadata": {},
   "outputs": [
    {
     "data": {
      "text/plain": [
       "[(0,\n",
       "  '0.041*\"time\" + 0.025*\"loan\" + 0.018*\"account\" + 0.015*\"phone\" + 0.015*\"list\" + 0.014*\"waste\" + 0.013*\"amount\" + 0.010*\"screen\" + 0.010*\"email\" + 0.010*\"work\"'),\n",
       " (1,\n",
       "  '0.043*\"pocket\" + 0.029*\"love\" + 0.024*\"bank\" + 0.024*\"interest\" + 0.021*\"experience\" + 0.020*\"user\" + 0.013*\"rate\" + 0.012*\"fast\" + 0.011*\"banking\" + 0.011*\"transfer\"'),\n",
       " (2,\n",
       "  '0.059*\"interest\" + 0.057*\"account\" + 0.044*\"rate\" + 0.037*\"bank\" + 0.027*\"money\" + 0.017*\"work\" + 0.015*\"transfer\" + 0.014*\"payee\" + 0.013*\"number\" + 0.011*\"increase\"'),\n",
       " (3,\n",
       "  '0.027*\"pocket\" + 0.025*\"transfer\" + 0.023*\"time\" + 0.021*\"apps\" + 0.020*\"fast\" + 0.017*\"money\" + 0.016*\"cool\" + 0.016*\"support\" + 0.012*\"need\" + 0.011*\"proceed\"'),\n",
       " (4,\n",
       "  '0.052*\"bank\" + 0.033*\"interest\" + 0.032*\"account\" + 0.020*\"transfer\" + 0.020*\"simple\" + 0.019*\"digital\" + 0.019*\"rate\" + 0.017*\"need\" + 0.017*\"offer\" + 0.016*\"please\"'),\n",
       " (5,\n",
       "  '0.045*\"rate\" + 0.036*\"interest\" + 0.025*\"singpass\" + 0.024*\"sign\" + 0.020*\"bank\" + 0.015*\"show\" + 0.015*\"application\" + 0.013*\"pocket\" + 0.011*\"user\" + 0.011*\"update\"'),\n",
       " (6,\n",
       "  '0.035*\"phone\" + 0.021*\"download\" + 0.018*\"wait\" + 0.018*\"singpass\" + 0.017*\"bank\" + 0.014*\"loan\" + 0.013*\"user\" + 0.013*\"time\" + 0.013*\"apps\" + 0.011*\"security\"'),\n",
       " (7,\n",
       "  '0.057*\"bank\" + 0.023*\"interest\" + 0.021*\"trust\" + 0.019*\"sign\" + 0.018*\"experience\" + 0.018*\"change\" + 0.018*\"banking\" + 0.018*\"customer\" + 0.015*\"rate\" + 0.014*\"grab\"'),\n",
       " (8,\n",
       "  '0.063*\"account\" + 0.055*\"sign\" + 0.025*\"time\" + 0.017*\"singpass\" + 0.017*\"error\" + 0.017*\"login\" + 0.014*\"interest\" + 0.013*\"bank\" + 0.013*\"rate\" + 0.013*\"issue\"'),\n",
       " (9,\n",
       "  '0.033*\"screen\" + 0.028*\"login\" + 0.024*\"phone\" + 0.020*\"cant\" + 0.020*\"code\" + 0.019*\"buggy\" + 0.015*\"account\" + 0.014*\"payment\" + 0.014*\"application\" + 0.014*\"store\"')]"
      ]
     },
     "execution_count": 109,
     "metadata": {},
     "output_type": "execute_result"
    }
   ],
   "source": [
    "#ldamodel.print_topics()\n",
    "lda_model.print_topics()\n",
    "\n",
    "# We have printed all 12 topics and their keywords generated by LDA"
   ]
  },
  {
   "attachments": {},
   "cell_type": "markdown",
   "metadata": {},
   "source": [
    "### Visualizing LDA model topics"
   ]
  },
  {
   "cell_type": "code",
   "execution_count": 110,
   "metadata": {},
   "outputs": [
    {
     "data": {
      "text/html": [
       "\n",
       "<link rel=\"stylesheet\" type=\"text/css\" href=\"https://cdn.jsdelivr.net/gh/bmabey/pyLDAvis@3.4.0/pyLDAvis/js/ldavis.v1.0.0.css\">\n",
       "\n",
       "\n",
       "<div id=\"ldavis_el62653108731588964632611219\" style=\"background-color:white;\"></div>\n",
       "<script type=\"text/javascript\">\n",
       "\n",
       "var ldavis_el62653108731588964632611219_data = {\"mdsDat\": {\"x\": [0.11958792317105689, 0.10771572790975388, -0.10159596742483355, 0.021356902244547227, 0.055120345729218395, 0.04603290275693621, 0.041294460316969164, -0.08469457277142949, -0.053867230461906224, -0.15095049147031256], \"y\": [-0.0021130311316475093, 0.06182003495369064, -0.03063091582206972, -0.1516588835296631, 0.1112824617467427, -0.04707729228267567, -0.059508091606626186, -0.008089280267776977, 0.10858813507521473, 0.017386862864811056], \"topics\": [1, 2, 3, 4, 5, 6, 7, 8, 9, 10], \"cluster\": [1, 1, 1, 1, 1, 1, 1, 1, 1, 1], \"Freq\": [17.122881778595367, 13.623276560448815, 12.797202345275762, 12.737889050580753, 9.284957869781014, 8.606192016056266, 8.463078566729514, 8.380484337841429, 4.939734277317987, 4.0443031973730905]}, \"tinfo\": {\"Term\": [\"account\", \"rate\", \"sign\", \"time\", \"phone\", \"pocket\", \"bank\", \"transfer\", \"login\", \"interest\", \"screen\", \"singpass\", \"love\", \"apps\", \"download\", \"fast\", \"application\", \"support\", \"loan\", \"experience\", \"money\", \"number\", \"cant\", \"trust\", \"payee\", \"need\", \"error\", \"change\", \"email\", \"design\", \"type\", \"select\", \"answer\", \"condition\", \"recipient\", \"decrease\", \"suggest\", \"reply\", \"chance\", \"lack\", \"point\", \"consumer\", \"support\", \"drop\", \"grow\", \"trouble\", \"gripe\", \"secret\", \"cheer\", \"date\", \"slip\", \"reminder\", \"peep\", \"activate\", \"apple\", \"complaint\", \"beneficiary\", \"forgot\", \"implement\", \"safer\", \"increase\", \"useless\", \"name\", \"reason\", \"device\", \"work\", \"question\", \"notice\", \"interest\", \"rate\", \"money\", \"account\", \"number\", \"debit\", \"ocbc\", \"payee\", \"bank\", \"transfer\", \"apps\", \"login\", \"email\", \"feature\", \"fund\", \"please\", \"card\", \"wait\", \"issue\", \"pocket\", \"sign\", \"fast\", \"user\", \"time\", \"include\", \"feel\", \"continue\", \"nothing\", \"advice\", \"seamless\", \"simple\", \"offer\", \"exaggerate\", \"branch\", \"pertinent\", \"pain\", \"faster\", \"travel\", \"section\", \"management\", \"piece\", \"detrimental\", \"scene\", \"stop\", \"buzz\", \"queue\", \"setback\", \"human\", \"twitch\", \"farm\", \"website\", \"fill\", \"refresh\", \"debtor\", \"digital\", \"suggestion\", \"play\", \"clean\", \"function\", \"service\", \"interface\", \"hope\", \"need\", \"deposit\", \"transfer\", \"please\", \"bank\", \"payee\", \"news\", \"transparent\", \"improvement\", \"rating\", \"interest\", \"account\", \"problem\", \"register\", \"money\", \"rate\", \"banking\", \"wait\", \"number\", \"phone\", \"loan\", \"user\", \"display\", \"proper\", \"list\", \"overlay\", \"delete\", \"sent\", \"sept\", \"carry\", \"borrow\", \"waste\", \"amount\", \"beta\", \"unresponsiveness\", \"testflight\", \"hubby\", \"state\", \"mundane\", \"lending\", \"rule\", \"bode\", \"owner\", \"light\", \"failure\", \"programme\", \"mini\", \"resgistet\", \"amouny\", \"everbody\", \"clueless\", \"sunday\", \"space\", \"day\", \"wonder\", \"time\", \"switch\", \"option\", \"bait\", \"loan\", \"transaction\", \"criterion\", \"secure\", \"screen\", \"multiple\", \"email\", \"phone\", \"receive\", \"credit\", \"deposit\", \"told\", \"work\", \"issue\", \"account\", \"singpass\", \"launch\", \"update\", \"need\", \"payee\", \"money\", \"bank\", \"user\", \"please\", \"interest\", \"notification\", \"guess\", \"write\", \"registration\", \"le\", \"attempt\", \"salary\", \"serve\", \"promising\", \"spent\", \"permanent\", \"eligibility\", \"requirement\", \"assessment\", \"evaluation\", \"paid\", \"bankng\", \"exit\", \"objective\", \"risk\", \"browsing\", \"hello\", \"concern\", \"gather\", \"client\", \"soooo\", \"god\", \"faq\", \"amatuer\", \"round\", \"sign\", \"yesterday\", \"navigate\", \"error\", \"password\", \"case\", \"account\", \"asap\", \"process\", \"application\", \"login\", \"time\", \"singpass\", \"message\", \"something\", \"access\", \"look\", \"issue\", \"design\", \"limit\", \"want\", \"smooth\", \"flexiloan\", \"week\", \"register\", \"review\", \"rate\", \"interest\", \"bank\", \"pocket\", \"feature\", \"user\", \"waste\", \"love\", \"minimum\", \"convenient\", \"medium\", \"recommend\", \"developer\", \"platform\", \"wireframe\", \"haphazard\", \"legit\", \"fintech\", \"cashback\", \"face\", \"deliver\", \"marvel\", \"allocation\", \"mode\", \"area\", \"target\", \"library\", \"complain\", \"pure\", \"genius\", \"recovery\", \"baffling\", \"brighter\", \"decimal\", \"caught\", \"draw\", \"flawless\", \"hassle\", \"idea\", \"pocket\", \"payment\", \"experience\", \"staff\", \"link\", \"term\", \"problem\", \"user\", \"till\", \"ease\", \"fast\", \"interest\", \"year\", \"bank\", \"touch\", \"anything\", \"feature\", \"banking\", \"unique\", \"thing\", \"joke\", \"transfer\", \"card\", \"rate\", \"loan\", \"number\", \"apps\", \"simple\", \"launch\", \"customer\", \"ecosystem\", \"buddy\", \"change\", \"differ\", \"player\", \"digibank\", \"ignore\", \"giro\", \"period\", \"brilliant\", \"crab\", \"damm\", \"communication\", \"comprehensive\", \"responsive\", \"minute\", \"treat\", \"transparency\", \"breakthrough\", \"amongst\", \"seemless\", \"galaxy\", \"home\", \"awful\", \"vague\", \"lacklustre\", \"faux\", \"painful\", \"promise\", \"trust\", \"design\", \"quick\", \"bank\", \"experience\", \"singapore\", \"transaction\", \"rating\", \"banking\", \"grab\", \"product\", \"week\", \"click\", \"singtel\", \"fast\", \"email\", \"response\", \"sign\", \"service\", \"interest\", \"issue\", \"wait\", \"multiple\", \"rate\", \"interface\", \"user\", \"feature\", \"account\", \"month\", \"chat\", \"gxbank\", \"setup\", \"show\", \"folk\", \"insecure\", \"employer\", \"race\", \"incase\", \"organisation\", \"verify\", \"step\", \"assistance\", \"retrieve\", \"beware\", \"center\", \"myinfo\", \"shout\", \"selection\", \"legitimate\", \"disappear\", \"timer\", \"calculate\", \"worldwide\", \"dogshit\", \"thought\", \"implementation\", \"print\", \"finger\", \"sorry\", \"anyone\", \"provide\", \"singpass\", \"rate\", \"effort\", \"application\", \"interest\", \"flexiloan\", \"sign\", \"detail\", \"name\", \"security\", \"update\", \"bank\", \"amount\", \"super\", \"pocket\", \"user\", \"want\", \"goal\", \"deposit\", \"offer\", \"something\", \"interface\", \"month\", \"download\", \"fund\", \"trust\", \"information\", \"encourage\", \"none\", \"fingerprint\", \"repeat\", \"authentication\", \"mummy\", \"root\", \"software\", \"offset\", \"power\", \"restart\", \"withdraw\", \"reapply\", \"expectation\", \"part\", \"stage\", \"income\", \"incorrect\", \"avail\", \"end\", \"startup\", \"hopeless\", \"cover\", \"beautiful\", \"resolve\", \"plat\", \"scheme\", \"share\", \"flag\", \"force\", \"phone\", \"download\", \"security\", \"mean\", \"thank\", \"today\", \"hope\", \"setup\", \"wait\", \"singpass\", \"kind\", \"min\", \"apps\", \"loan\", \"error\", \"user\", \"super\", \"fund\", \"page\", \"bank\", \"time\", \"access\", \"login\", \"banking\", \"pocket\", \"grab\", \"update\", \"feature\", \"cool\", \"sgqr\", \"saver\", \"overlap\", \"grabpay\", \"post\", \"atleast\", \"business\", \"partner\", \"script\", \"revolution\", \"intern\", \"android\", \"ability\", \"competition\", \"functionality\", \"thru\", \"move\", \"sleek\", \"crash\", \"support\", \"invite\", \"everything\", \"portion\", \"reinstall\", \"focus\", \"popped\", \"perfect\", \"prone\", \"proceed\", \"apps\", \"transfer\", \"fast\", \"pocket\", \"time\", \"screen\", \"money\", \"review\", \"need\", \"loan\", \"interest\", \"payee\", \"straight\", \"cash\", \"something\", \"repayment\", \"ease\", \"quick\", \"useless\", \"spend\", \"star\", \"approval\", \"merchant\", \"foreigner\", \"code\", \"buggy\", \"inconvenience\", \"read\", \"ummmm\", \"doesnt\", \"tune\", \"okayyyy\", \"collect\", \"press\", \"nonsense\", \"malware\", \"efficient\", \"gift\", \"respond\", \"scam\", \"fake\", \"invite\", \"cant\", \"kudos\", \"correct\", \"hang\", \"friend\", \"screen\", \"team\", \"payment\", \"store\", \"paynow\", \"login\", \"phone\", \"application\", \"download\", \"number\", \"account\", \"work\", \"touch\", \"seem\", \"create\", \"stay\", \"proceed\", \"told\", \"mistake\", \"response\", \"advice\"], \"Freq\": [63.0, 44.0, 33.0, 29.0, 19.0, 27.0, 64.0, 19.0, 16.0, 61.0, 10.0, 18.0, 9.0, 12.0, 10.0, 15.0, 10.0, 5.0, 20.0, 14.0, 25.0, 12.0, 5.0, 10.0, 14.0, 14.0, 12.0, 6.0, 10.0, 6.0, 1.7748245776248885, 1.7748245776248885, 1.7748239925321587, 1.7748239925321587, 1.7748236024703388, 1.7618347388969842, 1.6903085178804107, 1.7564887466236885, 1.7411546363578971, 2.6103631300951937, 4.133850593913023, 2.5937704853673407, 3.3806361487899985, 2.4928037633974705, 2.4673758283859777, 0.9296699286228634, 0.9296699286228634, 0.9296698311074083, 0.9296698311074083, 0.9296698311074083, 0.9296698311074083, 0.9296698311074083, 0.9296697335919534, 0.9296697335919534, 0.9296696360764983, 0.9296696360764983, 0.9296695385610434, 0.9296694410455884, 0.9296694410455884, 0.9296694410455884, 4.6088569565145985, 2.6199873204096775, 2.6199791291114587, 3.4592445272404557, 1.7593888562550009, 7.075339933394715, 1.7748271130267181, 1.7416152993672556, 24.81445670280954, 18.557715327106614, 11.175003559098405, 23.79709590377419, 5.648924424274576, 2.4300332600532673, 1.6854776022403561, 5.9997159903755675, 15.476390775482704, 6.486784624697211, 4.604300254333967, 4.444577740301707, 3.385504120302948, 3.8302506570984263, 3.5532915525244504, 3.4694793593340685, 2.430019802920479, 2.9765623331150364, 2.9093441498688772, 3.4203643352135105, 3.3960447608634, 2.6975388263589863, 2.6259761345622477, 2.591168577997378, 1.7110410013460027, 2.7552618964377156, 1.572034776435689, 2.49973344525442, 2.403079824848411, 2.447919496414318, 6.584114982407249, 5.589992630218153, 0.8985537590122025, 0.8985537590122025, 0.8985537590122025, 0.8985536814271307, 0.8985536814271307, 0.8985536814271307, 0.8985536814271307, 0.8985536814271307, 0.8985536814271307, 0.8985536038420588, 0.8985536038420588, 0.8985536038420588, 0.8985536038420588, 0.8985534486719152, 0.8985534486719152, 0.8985534486719152, 0.8985534486719152, 0.8985534486719152, 0.8985533710868434, 0.8985533710868434, 0.8985532935017716, 0.8985532935017716, 6.412550802796878, 1.7154206786490807, 1.7154181959267831, 1.7154101270793158, 3.257430342638677, 4.410567954585017, 4.57172176926134, 3.2907950269153043, 5.762866445840499, 3.2529238913282783, 6.8234307914769055, 5.347471005981745, 17.227502024500303, 4.937166388194183, 1.7154147821836239, 1.4544566173355167, 1.7154309198785582, 2.5322865896800253, 11.041544941039698, 10.516152489786581, 2.3366823652323134, 2.1789964480952815, 5.178039174484709, 6.255699856202552, 3.437778704078179, 3.382912093003057, 2.527171095556002, 2.5354249058343123, 2.3813457635150925, 2.1912904234024757, 2.450331775663921, 2.4503314841417287, 4.790135827284977, 1.6599020013400927, 1.6599009810124192, 1.6587708952334137, 1.6385066045923111, 1.6383277557272473, 2.4466790025926093, 4.435192981875918, 4.001303303053544, 0.8694725185384571, 0.8694725185384571, 0.8694725185384571, 0.8694725185384571, 0.8694724456579089, 0.8694724456579089, 0.8694724456579089, 0.8694724456579089, 0.8694724456579089, 0.8694722998968127, 0.8694722998968127, 0.8694722998968127, 0.8694722998968127, 0.8694722270162646, 0.8694722270162646, 0.8694722270162646, 0.8694722270162646, 0.8694722270162646, 0.8694721541357165, 2.455625818678687, 2.428621680709397, 1.659902730145574, 12.945049951967102, 1.6598998149236495, 1.6599002522069382, 1.6598878625137594, 7.903501304608527, 2.8739610394010686, 1.6599088521116152, 1.4316389585684, 3.237245209302501, 2.43352158571998, 3.1253117652476754, 4.818581979779187, 1.6367777322300274, 1.5808582367977904, 2.3038306503568697, 2.423544675966905, 3.118626578330571, 3.0849327348501934, 5.667612962183536, 3.0275495064896996, 2.371318620951825, 2.4503717142042856, 2.4548028515294202, 2.455171044058476, 2.684527586574023, 2.441925733244825, 2.1302813672294696, 2.0231173720041085, 1.878300516163897, 2.4041085955611985, 1.6285909808161723, 3.1796482633042524, 2.4041206376588056, 2.4041159949223787, 3.1487334421220856, 0.8530720603015258, 0.8530720603015258, 0.8530720603015258, 0.8530720603015258, 0.8530720603015258, 0.8530719152160124, 0.8530719152160124, 0.8530719152160124, 0.8530719152160124, 0.8530718426732558, 0.8530718426732558, 0.8530718426732558, 0.8530717701304991, 0.8530717701304991, 0.8530717701304991, 0.8530717701304991, 0.8530717701304991, 0.8530716250449858, 0.8530716250449858, 0.8530715525022291, 0.8530715525022291, 0.8530714799594724, 0.8530714799594724, 0.8530714799594724, 17.238676508440715, 1.628593012013359, 2.358773435037292, 5.300999266663517, 2.295676760884974, 1.6032011610674488, 19.690418564142615, 1.53184868594963, 2.373239186144707, 3.924257005373159, 5.198234036881754, 7.869099904062891, 5.419105258283639, 1.6285911259016856, 3.457017524626308, 2.404134130611546, 2.4040987297462917, 3.9522550273951684, 2.3265593730831795, 1.5976998085726797, 2.379674018832296, 1.5510461109035532, 1.628595188296059, 1.6285837265405052, 1.9330768696667058, 2.404140079117593, 4.005284653033469, 4.477725739604532, 4.007635618691606, 3.071056109135789, 2.4041334051839796, 2.3676651458077553, 1.7528427947813132, 6.6182339171720646, 1.5813378465646784, 1.551334024737835, 1.406832965604004, 1.3665120813207614, 2.2370119919761873, 0.8283203582088783, 0.8283203053306945, 0.8283203053306945, 0.8283203053306945, 0.8283203053306945, 0.8283201995743267, 0.8283201995743267, 0.8283201995743267, 0.8283201995743267, 0.8283200938179589, 0.8283200938179589, 0.8283200938179589, 0.8283200938179589, 0.8283200409397751, 0.8283199351834073, 0.8283199351834073, 0.8283199351834073, 0.8283199351834073, 0.8283198294270395, 0.8283195650361201, 0.8283195650361201, 0.8283195650361201, 0.8283195650361201, 0.8283194592797524, 1.551349676680263, 1.5813391156410914, 9.770537237264687, 2.304331842409233, 4.835937926354529, 1.3898006910642262, 1.5813432401394338, 1.551338889530752, 2.21364152680408, 4.4556748311213035, 1.581351489136119, 1.5813287515170513, 2.7583179131176343, 5.369697928875612, 1.5813364717318976, 5.4351154337654695, 1.4092533058364591, 1.405324456774338, 2.4967534384132253, 2.51942993030012, 1.0085465529087638, 1.5813352026554846, 1.3710480776901677, 2.514221429188156, 1.5999855496219233, 3.006195187194376, 2.2298954344771764, 1.8993856339673179, 1.7480481659526603, 1.581321137058573, 1.5060590891634484, 3.702540595340491, 1.563453781985797, 1.5601166129729296, 3.8521419102072953, 0.8189527349004436, 0.8189527349004436, 0.81895263687527, 0.8189524408249226, 0.8189524408249226, 0.8189522937871621, 0.8189522937871621, 0.8189521957619884, 0.8189520977368147, 0.818951999711641, 0.818951999711641, 0.8189519016864674, 0.8189519016864674, 0.8189517546487068, 0.8189516566235331, 0.8189516566235331, 0.8189514605731858, 0.818949549082299, 0.8189494510571252, 0.8189487158683226, 0.8176885532480396, 0.8173590906392907, 0.8173385053528173, 0.8171142237554303, 0.8166642391956381, 1.5337958735872816, 4.467088329582492, 2.9134389274433055, 1.5634461360222498, 12.086446668424301, 3.890894398169781, 1.56347142651706, 2.3079738949674318, 2.304934722482561, 3.7726329076315466, 3.0502773646965706, 1.56346397660386, 1.563429667793071, 1.5634489787522865, 1.5634557424892706, 2.948323930203298, 2.230022120300813, 1.5634351572027971, 3.9507266115817745, 2.0068480113261606, 4.801328293195998, 2.3376559175586733, 2.2335400477339515, 1.5596409948302192, 3.2336865817149376, 1.5655917110238253, 1.912259992333089, 1.6582232455753563, 1.59618272105063, 1.5634864243686335, 1.538678455443103, 1.5386763347508865, 2.1980986389732435, 3.004127673544318, 0.8059745713391551, 0.8059745713391551, 0.8059744267465039, 0.8059744267465039, 0.8059744267465039, 0.8059744267465039, 0.8059744267465039, 0.8059744267465039, 0.8059744267465039, 0.8059744267465039, 0.8059743303514032, 0.8059742339563024, 0.8059742339563024, 0.8059742339563024, 0.8059740893636513, 0.8059740893636513, 0.8059739929685505, 0.8059738965734499, 0.8059738001783491, 0.8059735591905972, 0.8059734627954965, 0.8059729326224424, 0.8059729326224424, 0.8059727398322409, 0.8059726916346905, 0.8059724024493883, 1.5386797085794126, 1.5270510856013368, 5.092199209418219, 9.362775934398645, 1.5262538017230953, 3.0041120575379976, 7.459061378226254, 1.5370442693002146, 4.93230672791456, 2.0468296631820126, 1.538678841023506, 1.5384139472866654, 2.2846830319426066, 4.207041557339813, 1.5386640925730923, 1.5386838535687446, 2.6909579207205585, 2.3770623127882082, 1.498007530932913, 1.306243262505045, 1.4502960046595894, 1.5346385367709834, 1.5386229318650753, 1.4979640567424783, 1.534539731792722, 1.4653538833465807, 1.5333676637627938, 1.4654131663335375, 2.168623474730656, 1.5480533878568583, 1.5338545538492194, 1.4792510405177124, 1.3559114251633708, 1.3314166944583745, 0.8135810659357257, 0.8135810659357257, 0.8135810659357257, 0.8135809704813793, 0.8135809704813793, 0.8135809704813793, 0.8135809704813793, 0.8135808750270331, 0.8135807795726868, 0.8135807795726868, 0.8135807795726868, 0.8135806841183406, 0.8135806841183406, 0.8135803023009555, 0.8135802068466093, 0.8135801113922629, 0.8135798250292241, 0.8135798250292241, 0.8135791568488002, 0.8135789659401077, 0.8135785841227227, 0.8135777250336061, 0.8119857374465178, 0.8119079421543078, 2.2636429309988912, 7.275755544944441, 4.204002227503241, 2.2907069108880864, 1.4429696071353162, 2.2828428091162993, 1.7870145619435471, 2.2350728724342503, 1.4683479587237325, 3.698177428463034, 3.594430390406655, 1.5439531464128373, 1.5532167998096327, 2.581895739627626, 2.9585736717951274, 2.1793324978386694, 2.6126545663522345, 1.5532505906482124, 2.0056685874960976, 1.3711531933583538, 3.5866867520198604, 2.5966300725178386, 1.447938196767354, 2.034508781860682, 1.8010299326976553, 2.048459625476712, 1.5532056316511191, 1.539765468787633, 1.542869548673982, 1.9912707953093127, 1.369378776918628, 0.7172937254296784, 0.7172936129017893, 0.7172936129017893, 0.7172935566378447, 0.7172935003739002, 0.7172935003739002, 0.7172927126786762, 0.7172919249834524, 0.7172914748718959, 0.7172914748718959, 0.7172888304665015, 0.7136235157980015, 0.7135464341939514, 0.7124262190577194, 1.3693955435741076, 1.3693850784804191, 1.3434046394394097, 0.6520824070835554, 1.874902216801352, 0.7172911935521731, 0.7173034028281431, 0.7172976076418531, 0.7172892243141135, 0.7139604242980395, 0.7172954696119598, 0.7172956384037935, 0.7140993399771635, 1.3694137730921458, 2.566261527096673, 2.993077334931433, 2.3963597183119605, 3.253991700439847, 2.8384658157209244, 1.3693392796295456, 2.0214955612723107, 1.3668968617961035, 1.391646808369539, 1.304186081938155, 1.2978899214858746, 0.7392207973765427, 0.7173161184796141, 0.7173117298919383, 0.7173098731817678, 0.7173098169178231, 0.7173066098729831, 0.7173040217315333, 0.717300083255414, 0.717299689407802, 0.7172981140173542, 0.7172976639057977, 1.3540025128382924, 1.354002144318954, 1.9485312603384133, 1.8926342471093522, 0.7092394663259118, 0.7092393741960773, 0.70923932813116, 0.7092392360013254, 0.7092392360013254, 0.7092392360013254, 0.709239005676739, 0.7092381765082278, 0.709237715859055, 0.7092373012747994, 0.7092359193272809, 0.7091740541433686, 1.3540083170178703, 0.6447693113411311, 0.6447685282375374, 0.7092416313770242, 1.973143008604562, 0.7092410785980168, 0.7092419998963625, 0.6979595500305861, 0.7092421380911142, 3.223603748526652, 0.7092365181712057, 1.3540336527223764, 1.3540266508549492, 0.7092462378687526, 2.7773454401061306, 2.3704249127090975, 1.3540321786450233, 1.2895853325083884, 1.3540179906504999, 1.4596896210822436, 0.804666120958949, 0.7443817468130108, 0.7092828134130761, 0.7092600573439378, 0.7092530094115933, 0.7092528251519242, 0.70925052190606, 0.7092469288425118, 0.7092430133245426, 0.7092419077665278], \"Total\": [63.0, 44.0, 33.0, 29.0, 19.0, 27.0, 64.0, 19.0, 16.0, 61.0, 10.0, 18.0, 9.0, 12.0, 10.0, 15.0, 10.0, 5.0, 20.0, 14.0, 25.0, 12.0, 5.0, 10.0, 14.0, 14.0, 12.0, 6.0, 10.0, 6.0, 2.439776298333553, 2.4397763294652743, 2.4397762640474006, 2.4397764097515338, 2.4397763701345987, 2.4387061078806043, 2.3430702536863395, 2.4356019714939685, 2.4375961116085287, 3.936854281472574, 6.428573793573243, 4.099638726824784, 5.347800191342339, 4.078235905976808, 4.066954952685117, 1.5946215717381484, 1.594621592089887, 1.5946215326810051, 1.5946215508957404, 1.5946215896005609, 1.5946215956771654, 1.5946216156427406, 1.5946215443109253, 1.5946215967539477, 1.594621494919175, 1.594621507120181, 1.5946215299475304, 1.5946214553218034, 1.5946214808750716, 1.5946215246385513, 8.054248027357252, 4.712537032649009, 4.750340288472723, 6.425162103743193, 3.177557734723098, 15.106913770520906, 3.2566436028451546, 3.199421354207521, 61.29296963597216, 44.497549379484404, 25.520502301878885, 63.456096361309264, 12.612291567716028, 4.8226251399245355, 3.1671202360553017, 14.581662156443167, 64.66176934775812, 19.582374115041432, 12.933785578039759, 16.60171106591109, 10.19104942846222, 14.864374521509788, 13.270609379951626, 14.4469032073193, 7.119090879440031, 15.648900293928731, 14.867240495238567, 27.85565832665747, 33.0720410508727, 15.066698904656944, 20.802554135394058, 29.98595679042139, 2.383352899931642, 4.028621833181656, 2.3785608178270796, 3.938006256268879, 3.8395717086664596, 4.071370952960708, 11.06397374764673, 9.515879574531832, 1.5663340548106035, 1.5663340679354618, 1.5663340910726407, 1.566334042108456, 1.5663340478302663, 1.5663340539662045, 1.5663340586220338, 1.5663340877860736, 1.566334128030425, 1.5663340250215123, 1.566334048320375, 1.5663340494446238, 1.5663340801275623, 1.5663339331568795, 1.5663339910358045, 1.566333998182034, 1.5663340042832894, 1.5663340786845221, 1.566333983450995, 1.566334018465837, 1.56633395992874, 1.5663339844883075, 11.280545433955188, 3.0279651637384566, 3.027964622881928, 3.1587208037118972, 6.363859874253863, 9.424377095320654, 10.140429704378588, 7.002264816731575, 14.052441376972963, 7.751061078759511, 19.582374115041432, 14.4469032073193, 64.66176934775812, 14.581662156443167, 3.9117399089725686, 3.107459908973961, 3.9728578746504204, 7.008698236867191, 61.29296963597216, 63.456096361309264, 6.916188557680084, 6.225829983035341, 25.520502301878885, 44.497549379484404, 16.12284159242712, 15.648900293928731, 12.612291567716028, 19.459352257131712, 20.702685066905723, 20.802554135394058, 3.1207562875489523, 3.120756346253725, 6.331689807648717, 2.330326503439643, 2.3303264443745677, 2.3302730108069762, 2.3289511281958233, 2.32893959520251, 3.7653473450656723, 6.995817062776519, 6.809870337690754, 1.5398966168817714, 1.539896617549078, 1.5398966552552302, 1.539896658288058, 1.539896609691777, 1.5398966450307336, 1.5398966508019336, 1.539896688114732, 1.539896725239858, 1.539896564983735, 1.5398965740116517, 1.539896585404466, 1.5398966496574147, 1.5398965391573198, 1.5398965419105766, 1.5398965620628153, 1.5398965689369608, 1.5398965785720407, 1.5398965736385413, 4.618921586328041, 4.627585996280059, 3.083345276965926, 29.98595679042139, 3.175474736678395, 3.1754808221092747, 3.1754732666851813, 20.702685066905723, 6.97623095831354, 3.7579335901885247, 3.0787334113355773, 10.001990307254948, 6.912782762735925, 10.19104942846222, 19.459352257131712, 3.9212268334857745, 3.9342385793555272, 7.751061078759511, 8.446473997356106, 15.106913770520906, 14.867240495238567, 63.456096361309264, 18.881055563075222, 10.13587512246389, 11.580917758406436, 14.052441376972963, 14.581662156443167, 25.520502301878885, 64.66176934775812, 20.802554135394058, 14.4469032073193, 61.29296963597216, 3.0760271744423466, 2.3005070558590024, 4.503637090260045, 3.815647435632821, 3.921181762234218, 5.246920443579605, 1.5249870217345969, 1.5249870440671978, 1.524987055173947, 1.5249870560266796, 1.5249870606056575, 1.5249869739618864, 1.5249870029216466, 1.524987036928459, 1.5249870507101757, 1.5249870177754268, 1.5249870405988564, 1.5249870407555866, 1.5249870156392105, 1.5249870283834548, 1.52498703510018, 1.524987123757107, 1.524987132659896, 1.524986996384874, 1.5249870130195837, 1.5249870063274524, 1.5249870106423, 1.5249869994382153, 1.5249870164270323, 1.5249870778782841, 33.0720410508727, 3.1173742960660973, 4.764871627800314, 12.275684184561817, 4.716007077979563, 3.1439323130640897, 63.456096361309264, 3.053696354755519, 5.363981833066313, 10.42702887445806, 16.60171106591109, 29.98595679042139, 18.881055563075222, 3.6922125058874395, 10.665384348315722, 6.743505987674816, 6.841122005817887, 14.867240495238567, 6.915322843380844, 3.9373108584705747, 7.612988954253207, 3.9113565929464658, 4.418030407339049, 4.54253433398, 6.225829983035341, 11.446596242233717, 44.497549379484404, 61.29296963597216, 64.66176934775812, 27.85565832665747, 14.864374521509788, 20.802554135394058, 6.995817062776519, 9.141729578233925, 2.255504233922836, 2.2569944816528067, 2.2701355791641253, 2.2817870899358734, 3.791899182017812, 1.502485503629146, 1.502485543827327, 1.5024855576789624, 1.5024855840153182, 1.5024855997587556, 1.5024854779489876, 1.5024854937693368, 1.5024855403179003, 1.5024855752812012, 1.502485492972385, 1.5024855273609532, 1.5024855378165913, 1.5024855678065072, 1.5024855412791445, 1.5024854647567238, 1.5024854665887848, 1.5024855054093778, 1.5024855763989386, 1.5024855563811252, 1.502485461064366, 1.5024855231227727, 1.5024855608619068, 1.502485563019737, 1.502485548519195, 2.9947848580135763, 3.0725209412842234, 27.85565832665747, 5.088135268355591, 14.496724979246583, 3.0480558012220067, 3.7755278715529075, 3.9191829093037343, 6.916188557680084, 20.802554135394058, 4.572982047822147, 4.5978966396348655, 15.066698904656944, 61.29296963597216, 5.452751743604332, 64.66176934775812, 4.445338241653432, 4.434508999382498, 14.864374521509788, 16.12284159242712, 2.304071028428729, 6.265874097537972, 4.654441110630951, 19.582374115041432, 7.119090879440031, 44.497549379484404, 20.702685066905723, 12.612291567716028, 12.933785578039759, 11.06397374764673, 10.13587512246389, 5.247456631369193, 2.238472540896911, 2.238510748179757, 6.6623741214775825, 1.4939696289960365, 1.4939696622665115, 1.4939696940252383, 1.493969606933703, 1.493969654124579, 1.4939696802961875, 1.4939696820659583, 1.4939696586056361, 1.4939696270996132, 1.493969520301056, 1.493969613373525, 1.4939695556162447, 1.4939697018111162, 1.4939696903703013, 1.4939695845490029, 1.4939696794628623, 1.4939696798557376, 1.4939697083305916, 1.4939696645295015, 1.493969741482866, 1.4939841470290207, 1.493987921365334, 1.4939880876110576, 1.4939905895986223, 1.493995800670951, 2.995500692275225, 10.74500904578955, 6.915322843380844, 3.6435758798032425, 64.66176934775812, 14.496724979246583, 3.9004924490871375, 6.97623095831354, 7.008698236867191, 16.12284159242712, 12.871636810047823, 4.408562226360705, 4.54253433398, 4.5574411646225785, 4.5586903588106775, 15.066698904656944, 10.19104942846222, 5.239128084621635, 33.0720410508727, 9.424377095320654, 61.29296963597216, 14.867240495238567, 15.648900293928731, 6.912782762735925, 44.497549379484404, 10.140429704378588, 20.802554135394058, 14.864374521509788, 63.456096361309264, 10.988572018495338, 2.2148756252341677, 2.2148757577047107, 3.6789085613151733, 5.300957457770635, 1.4821712316742663, 1.4821712714382993, 1.4821711926164869, 1.4821712528392623, 1.4821712595439205, 1.4821712687921018, 1.4821712749129072, 1.4821712894084869, 1.482171326739747, 1.48217133334088, 1.482171252003691, 1.4821712055660163, 1.4821712736408268, 1.4821713053833974, 1.4821712250732804, 1.4821712306461199, 1.4821711892823792, 1.4821713500391716, 1.482171316320985, 1.4821713244512487, 1.4821712770353273, 1.482171270777439, 1.4821713179825677, 1.482171273413017, 1.4821713181286424, 1.4821713104541219, 2.959378588611648, 3.0602161910995105, 18.881055563075222, 44.497549379484404, 3.782733475861596, 10.42702887445806, 61.29296963597216, 4.418030407339049, 33.0720410508727, 7.675022450995748, 4.750340288472723, 5.186771149128254, 11.580917758406436, 64.66176934775812, 6.809870337690754, 6.817765452908894, 27.85565832665747, 20.802554135394058, 7.612988954253207, 5.391446707740801, 7.751061078759511, 9.515879574531832, 10.665384348315722, 10.140429704378588, 10.988572018495338, 10.275042210014043, 13.270609379951626, 10.74500904578955, 2.9671642516392995, 2.228739934678196, 2.2314662064858646, 2.3243919178397427, 2.2077183331910932, 2.226632189305716, 1.4890863057626123, 1.489086392385539, 1.4890863959470773, 1.4890862961474587, 1.4890863462039563, 1.4890863535551255, 1.4890863832655012, 1.489086259453603, 1.489086287478947, 1.4890863052995922, 1.4890863495348077, 1.4890863156256366, 1.4890863303577826, 1.489086235375024, 1.4890862915340777, 1.4890862577379094, 1.4890862856593499, 1.4890863394417508, 1.489086299031567, 1.4890862751506289, 1.4890862771943092, 1.4890862451306768, 1.4888974371100399, 1.488888264983525, 4.501029207039795, 19.459352257131712, 10.275042210014043, 5.186771149128254, 3.020475815381006, 6.125622789009387, 4.608746135984419, 7.002264816731575, 3.6789085613151733, 15.648900293928731, 18.881055563075222, 4.577409111985268, 4.666246998410544, 12.933785578039759, 20.702685066905723, 12.275684184561817, 20.802554135394058, 6.817765452908894, 13.270609379951626, 5.375808534438955, 64.66176934775812, 29.98595679042139, 6.743505987674816, 16.60171106591109, 16.12284159242712, 27.85565832665747, 12.871636810047823, 11.580917758406436, 14.864374521509788, 2.71213017855158, 2.0536386537529157, 1.4015526506032, 1.401552725980976, 1.4015527405236547, 1.4015527468132019, 1.4015527779934502, 1.4015528275360511, 1.4015528685875733, 1.4015529097367299, 1.4015530219909598, 1.401553117599124, 1.4015536616189248, 1.4023312838937307, 1.4023477807516815, 1.4025854312121695, 2.844065058258237, 2.870682183444336, 2.9043028484279447, 1.4425165228685264, 5.347800191342339, 2.0463164372732763, 2.1411709405236947, 2.146055191259016, 2.146056550613939, 2.146762792849559, 2.1770725651885154, 2.218419585138231, 2.2190976125866952, 4.276251708573112, 12.933785578039759, 19.582374115041432, 15.066698904656944, 27.85565832665747, 29.98595679042139, 10.001990307254948, 25.520502301878885, 11.446596242233717, 14.052441376972963, 20.702685066905723, 61.29296963597216, 14.581662156443167, 3.626891906026203, 3.6268932724013303, 10.665384348315722, 5.296797253289157, 4.5978966396348655, 3.6435758798032425, 4.712537032649009, 3.0371357307802387, 4.613554762293363, 3.781638429436555, 2.0389940319477926, 2.038994045053587, 3.4278123127224305, 3.477968378754952, 1.3942304551860178, 1.394230474881676, 1.3942304231983096, 1.3942304029871422, 1.3942304355927506, 1.3942305194357276, 1.3942305020794, 1.3942306097232553, 1.3942307384228356, 1.3942308748675485, 1.3942309957279106, 1.3942477840896232, 2.829422401297558, 1.3977814070421628, 1.4202828464834667, 2.0463164372732763, 5.791215269213411, 2.133762064047419, 2.1338494893180093, 2.130441997030752, 2.1846059996871547, 10.001990307254948, 2.211326581385461, 5.088135268355591, 5.207656427353243, 2.891468177657923, 16.60171106591109, 19.459352257131712, 10.42702887445806, 10.275042210014043, 12.612291567716028, 63.456096361309264, 15.106913770520906, 4.445338241653432, 3.6952070735465807, 4.599693902031561, 2.9437992748271804, 4.276251708573112, 8.446473997356106, 3.0149038365662024, 5.239128084621635, 3.8395717086664596], \"Category\": [\"Default\", \"Default\", \"Default\", \"Default\", \"Default\", \"Default\", \"Default\", \"Default\", \"Default\", \"Default\", \"Default\", \"Default\", \"Default\", \"Default\", \"Default\", \"Default\", \"Default\", \"Default\", \"Default\", \"Default\", \"Default\", \"Default\", \"Default\", \"Default\", \"Default\", \"Default\", \"Default\", \"Default\", \"Default\", \"Default\", \"Topic1\", \"Topic1\", \"Topic1\", \"Topic1\", \"Topic1\", \"Topic1\", \"Topic1\", \"Topic1\", \"Topic1\", \"Topic1\", \"Topic1\", \"Topic1\", \"Topic1\", \"Topic1\", \"Topic1\", \"Topic1\", \"Topic1\", \"Topic1\", \"Topic1\", \"Topic1\", \"Topic1\", \"Topic1\", \"Topic1\", \"Topic1\", \"Topic1\", \"Topic1\", \"Topic1\", \"Topic1\", \"Topic1\", \"Topic1\", \"Topic1\", \"Topic1\", \"Topic1\", \"Topic1\", \"Topic1\", \"Topic1\", \"Topic1\", \"Topic1\", \"Topic1\", \"Topic1\", \"Topic1\", \"Topic1\", \"Topic1\", \"Topic1\", \"Topic1\", \"Topic1\", \"Topic1\", \"Topic1\", \"Topic1\", \"Topic1\", \"Topic1\", \"Topic1\", \"Topic1\", \"Topic1\", \"Topic1\", \"Topic1\", \"Topic1\", \"Topic1\", \"Topic1\", \"Topic1\", \"Topic1\", \"Topic1\", \"Topic2\", \"Topic2\", \"Topic2\", \"Topic2\", \"Topic2\", \"Topic2\", \"Topic2\", \"Topic2\", \"Topic2\", \"Topic2\", \"Topic2\", \"Topic2\", \"Topic2\", \"Topic2\", \"Topic2\", \"Topic2\", \"Topic2\", \"Topic2\", \"Topic2\", \"Topic2\", \"Topic2\", \"Topic2\", \"Topic2\", \"Topic2\", \"Topic2\", \"Topic2\", \"Topic2\", \"Topic2\", \"Topic2\", \"Topic2\", \"Topic2\", \"Topic2\", \"Topic2\", \"Topic2\", \"Topic2\", \"Topic2\", \"Topic2\", \"Topic2\", \"Topic2\", \"Topic2\", \"Topic2\", \"Topic2\", \"Topic2\", \"Topic2\", \"Topic2\", \"Topic2\", \"Topic2\", \"Topic2\", \"Topic2\", \"Topic2\", \"Topic2\", \"Topic2\", \"Topic2\", \"Topic2\", \"Topic2\", \"Topic2\", \"Topic2\", \"Topic2\", \"Topic2\", \"Topic2\", \"Topic3\", \"Topic3\", \"Topic3\", \"Topic3\", \"Topic3\", \"Topic3\", \"Topic3\", \"Topic3\", \"Topic3\", \"Topic3\", \"Topic3\", \"Topic3\", \"Topic3\", \"Topic3\", \"Topic3\", \"Topic3\", \"Topic3\", \"Topic3\", \"Topic3\", \"Topic3\", \"Topic3\", \"Topic3\", \"Topic3\", \"Topic3\", \"Topic3\", \"Topic3\", \"Topic3\", \"Topic3\", \"Topic3\", \"Topic3\", \"Topic3\", \"Topic3\", \"Topic3\", \"Topic3\", \"Topic3\", \"Topic3\", \"Topic3\", \"Topic3\", \"Topic3\", \"Topic3\", \"Topic3\", \"Topic3\", \"Topic3\", \"Topic3\", \"Topic3\", \"Topic3\", \"Topic3\", \"Topic3\", \"Topic3\", \"Topic3\", \"Topic3\", \"Topic3\", \"Topic3\", \"Topic3\", \"Topic3\", \"Topic3\", \"Topic3\", \"Topic3\", \"Topic3\", \"Topic3\", \"Topic3\", \"Topic3\", \"Topic4\", \"Topic4\", \"Topic4\", \"Topic4\", \"Topic4\", \"Topic4\", \"Topic4\", \"Topic4\", \"Topic4\", \"Topic4\", \"Topic4\", \"Topic4\", \"Topic4\", \"Topic4\", \"Topic4\", \"Topic4\", \"Topic4\", \"Topic4\", \"Topic4\", \"Topic4\", \"Topic4\", \"Topic4\", \"Topic4\", \"Topic4\", \"Topic4\", \"Topic4\", \"Topic4\", \"Topic4\", \"Topic4\", \"Topic4\", \"Topic4\", \"Topic4\", \"Topic4\", \"Topic4\", \"Topic4\", \"Topic4\", \"Topic4\", \"Topic4\", \"Topic4\", \"Topic4\", \"Topic4\", \"Topic4\", \"Topic4\", \"Topic4\", \"Topic4\", \"Topic4\", \"Topic4\", \"Topic4\", \"Topic4\", \"Topic4\", \"Topic4\", \"Topic4\", \"Topic4\", \"Topic4\", \"Topic4\", \"Topic4\", \"Topic4\", \"Topic4\", \"Topic4\", \"Topic4\", \"Topic4\", \"Topic4\", \"Topic4\", \"Topic5\", \"Topic5\", \"Topic5\", \"Topic5\", \"Topic5\", \"Topic5\", \"Topic5\", \"Topic5\", \"Topic5\", \"Topic5\", \"Topic5\", \"Topic5\", \"Topic5\", \"Topic5\", \"Topic5\", \"Topic5\", \"Topic5\", \"Topic5\", \"Topic5\", \"Topic5\", \"Topic5\", \"Topic5\", \"Topic5\", \"Topic5\", \"Topic5\", \"Topic5\", \"Topic5\", \"Topic5\", \"Topic5\", \"Topic5\", \"Topic5\", \"Topic5\", \"Topic5\", \"Topic5\", \"Topic5\", \"Topic5\", \"Topic5\", \"Topic5\", \"Topic5\", \"Topic5\", \"Topic5\", \"Topic5\", \"Topic5\", \"Topic5\", \"Topic5\", \"Topic5\", \"Topic5\", \"Topic5\", \"Topic5\", \"Topic5\", \"Topic5\", \"Topic5\", \"Topic5\", \"Topic5\", \"Topic5\", \"Topic5\", \"Topic5\", \"Topic5\", \"Topic5\", \"Topic5\", \"Topic5\", \"Topic6\", \"Topic6\", \"Topic6\", \"Topic6\", \"Topic6\", \"Topic6\", \"Topic6\", \"Topic6\", \"Topic6\", \"Topic6\", \"Topic6\", \"Topic6\", \"Topic6\", \"Topic6\", \"Topic6\", \"Topic6\", \"Topic6\", \"Topic6\", \"Topic6\", \"Topic6\", \"Topic6\", \"Topic6\", \"Topic6\", \"Topic6\", \"Topic6\", \"Topic6\", \"Topic6\", \"Topic6\", \"Topic6\", \"Topic6\", \"Topic6\", \"Topic6\", \"Topic6\", \"Topic6\", \"Topic6\", \"Topic6\", \"Topic6\", \"Topic6\", \"Topic6\", \"Topic6\", \"Topic6\", \"Topic6\", \"Topic6\", \"Topic6\", \"Topic6\", \"Topic6\", \"Topic6\", \"Topic6\", \"Topic6\", \"Topic6\", \"Topic6\", \"Topic6\", \"Topic6\", \"Topic6\", \"Topic6\", \"Topic6\", \"Topic6\", \"Topic6\", \"Topic6\", \"Topic7\", \"Topic7\", \"Topic7\", \"Topic7\", \"Topic7\", \"Topic7\", \"Topic7\", \"Topic7\", \"Topic7\", \"Topic7\", \"Topic7\", \"Topic7\", \"Topic7\", \"Topic7\", \"Topic7\", \"Topic7\", \"Topic7\", \"Topic7\", \"Topic7\", \"Topic7\", \"Topic7\", \"Topic7\", \"Topic7\", \"Topic7\", \"Topic7\", \"Topic7\", \"Topic7\", \"Topic7\", \"Topic7\", \"Topic7\", \"Topic7\", \"Topic7\", \"Topic7\", \"Topic7\", \"Topic7\", \"Topic7\", \"Topic7\", \"Topic7\", \"Topic7\", \"Topic7\", \"Topic7\", \"Topic7\", \"Topic7\", \"Topic7\", \"Topic7\", \"Topic7\", \"Topic7\", \"Topic7\", \"Topic7\", \"Topic7\", \"Topic7\", \"Topic7\", \"Topic7\", \"Topic7\", \"Topic7\", \"Topic7\", \"Topic7\", \"Topic7\", \"Topic8\", \"Topic8\", \"Topic8\", \"Topic8\", \"Topic8\", \"Topic8\", \"Topic8\", \"Topic8\", \"Topic8\", \"Topic8\", \"Topic8\", \"Topic8\", \"Topic8\", \"Topic8\", \"Topic8\", \"Topic8\", \"Topic8\", \"Topic8\", \"Topic8\", \"Topic8\", \"Topic8\", \"Topic8\", \"Topic8\", \"Topic8\", \"Topic8\", \"Topic8\", \"Topic8\", \"Topic8\", \"Topic8\", \"Topic8\", \"Topic8\", \"Topic8\", \"Topic8\", \"Topic8\", \"Topic8\", \"Topic8\", \"Topic8\", \"Topic8\", \"Topic8\", \"Topic8\", \"Topic8\", \"Topic8\", \"Topic8\", \"Topic8\", \"Topic8\", \"Topic8\", \"Topic8\", \"Topic8\", \"Topic8\", \"Topic8\", \"Topic8\", \"Topic8\", \"Topic8\", \"Topic8\", \"Topic8\", \"Topic8\", \"Topic8\", \"Topic8\", \"Topic8\", \"Topic9\", \"Topic9\", \"Topic9\", \"Topic9\", \"Topic9\", \"Topic9\", \"Topic9\", \"Topic9\", \"Topic9\", \"Topic9\", \"Topic9\", \"Topic9\", \"Topic9\", \"Topic9\", \"Topic9\", \"Topic9\", \"Topic9\", \"Topic9\", \"Topic9\", \"Topic9\", \"Topic9\", \"Topic9\", \"Topic9\", \"Topic9\", \"Topic9\", \"Topic9\", \"Topic9\", \"Topic9\", \"Topic9\", \"Topic9\", \"Topic9\", \"Topic9\", \"Topic9\", \"Topic9\", \"Topic9\", \"Topic9\", \"Topic9\", \"Topic9\", \"Topic9\", \"Topic9\", \"Topic9\", \"Topic9\", \"Topic9\", \"Topic9\", \"Topic9\", \"Topic9\", \"Topic9\", \"Topic9\", \"Topic9\", \"Topic9\", \"Topic9\", \"Topic9\", \"Topic10\", \"Topic10\", \"Topic10\", \"Topic10\", \"Topic10\", \"Topic10\", \"Topic10\", \"Topic10\", \"Topic10\", \"Topic10\", \"Topic10\", \"Topic10\", \"Topic10\", \"Topic10\", \"Topic10\", \"Topic10\", \"Topic10\", \"Topic10\", \"Topic10\", \"Topic10\", \"Topic10\", \"Topic10\", \"Topic10\", \"Topic10\", \"Topic10\", \"Topic10\", \"Topic10\", \"Topic10\", \"Topic10\", \"Topic10\", \"Topic10\", \"Topic10\", \"Topic10\", \"Topic10\", \"Topic10\", \"Topic10\", \"Topic10\", \"Topic10\", \"Topic10\", \"Topic10\", \"Topic10\", \"Topic10\", \"Topic10\", \"Topic10\", \"Topic10\", \"Topic10\"], \"logprob\": [30.0, 29.0, 28.0, 27.0, 26.0, 25.0, 24.0, 23.0, 22.0, 21.0, 20.0, 19.0, 18.0, 17.0, 16.0, 15.0, 14.0, 13.0, 12.0, 11.0, 10.0, 9.0, 8.0, 7.0, 6.0, 5.0, 4.0, 3.0, 2.0, 1.0, -5.4638, -5.4638, -5.4638, -5.4638, -5.4638, -5.4711, -5.5125, -5.4741, -5.4829, -5.078, -4.6182, -5.0843, -4.8194, -5.124, -5.1343, -6.1104, -6.1104, -6.1104, -6.1104, -6.1104, -6.1104, -6.1104, -6.1104, -6.1104, -6.1104, -6.1104, -6.1104, -6.1104, -6.1104, -6.1104, -4.5095, -5.0743, -5.0743, -4.7964, -5.4725, -4.0808, -5.4638, -5.4826, -2.826, -3.1166, -3.6238, -2.8679, -4.306, -5.1495, -5.5154, -4.2457, -3.2981, -4.1677, -4.5105, -4.5458, -4.818, -4.6945, -4.7696, -4.7935, -5.1496, -4.9467, -4.9695, -4.8077, -4.8148, -5.0451, -5.072, -5.0853, -5.2717, -4.7953, -5.3564, -4.8926, -4.9321, -4.9136, -3.9242, -4.0878, -5.9158, -5.9158, -5.9158, -5.9158, -5.9158, -5.9158, -5.9158, -5.9158, -5.9158, -5.9158, -5.9158, -5.9158, -5.9158, -5.9158, -5.9158, -5.9158, -5.9158, -5.9158, -5.9158, -5.9158, -5.9158, -5.9158, -3.9506, -5.2692, -5.2692, -5.2692, -4.6279, -4.3248, -4.2889, -4.6177, -4.0574, -4.6293, -3.8885, -4.1322, -2.9623, -4.212, -5.2692, -5.4342, -5.2692, -4.8797, -3.4072, -3.4559, -4.9601, -5.03, -4.1644, -3.9753, -4.574, -4.5901, -4.8817, -4.8785, -4.9412, -5.0243, -4.85, -4.85, -4.1797, -5.2395, -5.2395, -5.2402, -5.2525, -5.2526, -4.8515, -4.2567, -4.3596, -5.8861, -5.8861, -5.8861, -5.8861, -5.8861, -5.8861, -5.8861, -5.8861, -5.8861, -5.8861, -5.8861, -5.8861, -5.8861, -5.8861, -5.8861, -5.8861, -5.8861, -5.8861, -5.8861, -4.8479, -4.8589, -5.2395, -3.1856, -5.2395, -5.2395, -5.2395, -3.679, -4.6906, -5.2395, -5.3874, -4.5715, -4.8569, -4.6067, -4.1738, -5.2535, -5.2883, -4.9117, -4.861, -4.6089, -4.6197, -4.0115, -4.6385, -4.8828, -4.85, -4.8482, -4.8481, -4.7588, -4.8535, -4.99, -5.0416, -5.1159, -4.8644, -5.2539, -4.5848, -4.8644, -4.8644, -4.5946, -5.9005, -5.9005, -5.9005, -5.9005, -5.9005, -5.9005, -5.9005, -5.9005, -5.9005, -5.9005, -5.9005, -5.9005, -5.9005, -5.9005, -5.9005, -5.9005, -5.9005, -5.9005, -5.9005, -5.9005, -5.9005, -5.9005, -5.9005, -5.9005, -2.8945, -5.2539, -4.8835, -4.0737, -4.9106, -5.2696, -2.7615, -5.3151, -4.8774, -4.3744, -4.0933, -3.6787, -4.0517, -5.2539, -4.5012, -4.8644, -4.8644, -4.3673, -4.8972, -5.2731, -4.8747, -5.3027, -5.2539, -5.2539, -5.0825, -4.8644, -4.354, -4.2425, -4.3534, -4.6196, -4.8644, -4.8797, -5.1804, -3.5356, -4.9672, -4.9863, -5.0841, -5.1132, -4.6203, -5.6138, -5.6138, -5.6138, -5.6138, -5.6138, -5.6138, -5.6138, -5.6138, -5.6138, -5.6138, -5.6138, -5.6138, -5.6138, -5.6138, -5.6138, -5.6138, -5.6138, -5.6138, -5.6138, -5.6138, -5.6138, -5.6138, -5.6138, -5.6138, -4.9863, -4.9672, -3.1461, -4.5906, -3.8494, -5.0963, -4.9672, -4.9863, -4.6308, -3.9313, -4.9672, -4.9672, -4.4108, -3.7447, -4.9672, -3.7326, -5.0824, -5.0852, -4.5104, -4.5014, -5.4169, -4.9672, -5.1099, -4.5035, -4.9554, -4.3248, -4.6235, -4.7839, -4.8669, -4.9672, -5.0159, -4.0405, -4.9026, -4.9048, -4.0009, -5.5492, -5.5492, -5.5493, -5.5493, -5.5493, -5.5493, -5.5493, -5.5493, -5.5493, -5.5493, -5.5493, -5.5493, -5.5493, -5.5493, -5.5493, -5.5493, -5.5493, -5.5493, -5.5493, -5.5493, -5.5508, -5.5512, -5.5512, -5.5515, -5.552, -4.9218, -3.8528, -4.2802, -4.9026, -2.8574, -3.9909, -4.9026, -4.5132, -4.5145, -4.0217, -4.2343, -4.9026, -4.9026, -4.9026, -4.9026, -4.2683, -4.5475, -4.9026, -3.9756, -4.653, -3.7806, -4.5004, -4.5459, -4.9051, -4.1759, -4.9013, -4.7012, -4.8438, -4.8819, -4.9026, -4.9018, -4.9018, -4.5452, -4.2328, -5.5485, -5.5485, -5.5485, -5.5485, -5.5485, -5.5485, -5.5485, -5.5485, -5.5485, -5.5485, -5.5485, -5.5485, -5.5485, -5.5485, -5.5485, -5.5485, -5.5485, -5.5485, -5.5485, -5.5485, -5.5485, -5.5485, -5.5485, -5.5485, -5.5485, -5.5485, -4.9018, -4.9094, -3.705, -3.096, -4.9099, -4.2328, -3.3233, -4.9029, -3.7369, -4.6165, -4.9018, -4.902, -4.5065, -3.896, -4.9018, -4.9018, -4.3429, -4.4669, -4.9286, -5.0656, -4.961, -4.9045, -4.9019, -4.9286, -4.9045, -4.9507, -4.9053, -4.9506, -4.5489, -4.8859, -4.8952, -4.9314, -5.0185, -5.0367, -5.5293, -5.5293, -5.5293, -5.5293, -5.5293, -5.5293, -5.5293, -5.5293, -5.5293, -5.5293, -5.5293, -5.5293, -5.5293, -5.5293, -5.5293, -5.5293, -5.5293, -5.5293, -5.5293, -5.5293, -5.5293, -5.5293, -5.5312, -5.5313, -4.506, -3.3384, -3.8869, -4.4941, -4.9562, -4.4975, -4.7424, -4.5187, -4.9388, -4.0151, -4.0436, -4.8886, -4.8826, -4.3744, -4.2382, -4.5439, -4.3626, -4.8826, -4.627, -5.0073, -4.0457, -4.3687, -4.9528, -4.6127, -4.7346, -4.6059, -4.8826, -4.8913, -4.8893, -4.1056, -4.48, -5.1266, -5.1266, -5.1266, -5.1266, -5.1266, -5.1266, -5.1266, -5.1266, -5.1266, -5.1266, -5.1266, -5.1318, -5.1319, -5.1334, -4.48, -4.48, -4.4991, -5.2219, -4.1658, -5.1266, -5.1266, -5.1266, -5.1266, -5.1313, -5.1266, -5.1266, -5.1311, -4.48, -3.8519, -3.698, -3.9204, -3.6145, -3.7511, -4.48, -4.0905, -4.4818, -4.4639, -4.5288, -4.5336, -5.0965, -5.1266, -5.1266, -5.1266, -5.1266, -5.1266, -5.1266, -5.1266, -5.1266, -5.1266, -5.1266, -4.2913, -4.2913, -3.9273, -3.9564, -4.9379, -4.9379, -4.9379, -4.9379, -4.9379, -4.9379, -4.9379, -4.9379, -4.9379, -4.9379, -4.9379, -4.938, -4.2913, -5.0332, -5.0332, -4.9379, -3.9147, -4.9379, -4.9379, -4.9539, -4.9379, -3.4238, -4.9379, -4.2913, -4.2913, -4.9379, -3.5729, -3.7313, -4.2913, -4.34, -4.2913, -4.2161, -4.8117, -4.8895, -4.9378, -4.9379, -4.9379, -4.9379, -4.9379, -4.9379, -4.9379, -4.9379], \"loglift\": [30.0, 29.0, 28.0, 27.0, 26.0, 25.0, 24.0, 23.0, 22.0, 21.0, 20.0, 19.0, 18.0, 17.0, 16.0, 15.0, 14.0, 13.0, 12.0, 11.0, 10.0, 9.0, 8.0, 7.0, 6.0, 5.0, 4.0, 3.0, 2.0, 1.0, 1.4465, 1.4465, 1.4465, 1.4465, 1.4465, 1.4396, 1.4382, 1.4379, 1.4283, 1.3539, 1.3232, 1.307, 1.3061, 1.2725, 1.265, 1.2252, 1.2252, 1.2252, 1.2252, 1.2252, 1.2252, 1.2252, 1.2252, 1.2252, 1.2252, 1.2252, 1.2252, 1.2252, 1.2252, 1.2252, 1.2065, 1.1777, 1.1697, 1.1456, 1.1736, 1.0062, 1.1578, 1.1566, 0.8605, 0.8902, 0.939, 0.784, 0.9615, 1.0793, 1.134, 0.8767, 0.3349, 0.6599, 0.7319, 0.4469, 0.6627, 0.4087, 0.4471, 0.3383, 0.6899, 0.1051, 0.1335, -0.3325, -0.5113, 0.0446, -0.3049, -0.6839, 1.662, 1.6135, 1.5793, 1.5389, 1.5248, 1.4846, 1.4744, 1.4614, 1.4377, 1.4377, 1.4377, 1.4377, 1.4377, 1.4377, 1.4377, 1.4377, 1.4377, 1.4377, 1.4377, 1.4377, 1.4377, 1.4377, 1.4377, 1.4377, 1.4377, 1.4377, 1.4377, 1.4377, 1.4377, 1.4377, 1.4286, 1.4252, 1.4252, 1.3829, 1.3237, 1.2341, 1.1967, 1.2383, 1.102, 1.1251, 0.9391, 0.9995, 0.6707, 0.9104, 1.1691, 1.2342, 1.1536, 0.9754, 0.2794, 0.196, 0.9083, 0.9435, 0.3983, 0.0314, 0.448, 0.4617, 0.3858, -0.0446, -0.1692, -0.2572, 1.8141, 1.8141, 1.7769, 1.7167, 1.7167, 1.716, 1.7043, 1.7042, 1.6248, 1.6002, 1.5242, 1.4844, 1.4844, 1.4844, 1.4844, 1.4844, 1.4844, 1.4844, 1.4844, 1.4844, 1.4844, 1.4844, 1.4844, 1.4844, 1.4844, 1.4844, 1.4844, 1.4844, 1.4844, 1.4844, 1.4242, 1.4112, 1.4367, 1.2159, 1.4072, 1.4072, 1.4072, 1.093, 1.1691, 1.2388, 1.2902, 0.9279, 1.0119, 0.874, 0.6601, 1.1823, 1.1442, 0.8427, 0.8074, 0.4782, 0.4833, -0.3596, 0.2255, 0.6033, 0.5028, 0.3112, 0.2744, -0.196, -1.2204, -0.2229, 0.0901, -1.4294, 1.8141, 1.7152, 1.7125, 1.5987, 1.5714, 1.5499, 1.4797, 1.4797, 1.4797, 1.4797, 1.4797, 1.4797, 1.4797, 1.4797, 1.4797, 1.4797, 1.4797, 1.4797, 1.4797, 1.4797, 1.4797, 1.4797, 1.4797, 1.4797, 1.4797, 1.4797, 1.4797, 1.4797, 1.4797, 1.4797, 1.4091, 1.4113, 1.3575, 1.2209, 1.3407, 1.3871, 0.8904, 1.3707, 1.2451, 1.0834, 0.8994, 0.7228, 0.8124, 1.2421, 0.934, 1.0292, 1.0148, 0.7357, 0.9712, 1.1587, 0.8977, 1.1356, 1.0626, 1.0348, 0.891, 0.5001, -0.3472, -0.556, -0.7204, -0.1444, 0.2388, -0.1126, 0.6765, 2.0538, 2.0217, 2.0019, 1.8983, 1.8641, 1.849, 1.7813, 1.7813, 1.7813, 1.7813, 1.7813, 1.7813, 1.7813, 1.7813, 1.7813, 1.7813, 1.7813, 1.7813, 1.7813, 1.7813, 1.7813, 1.7813, 1.7813, 1.7813, 1.7813, 1.7813, 1.7813, 1.7813, 1.7813, 1.7813, 1.719, 1.7125, 1.3291, 1.5847, 1.2789, 1.5914, 1.5065, 1.45, 1.2375, 0.8359, 1.3149, 1.3094, 0.6789, -0.0581, 1.1389, -0.0995, 1.228, 1.2276, 0.5928, 0.5206, 1.5506, 0.9999, 1.1545, 0.3241, 0.884, -0.318, 0.1485, 0.4836, 0.3754, 0.4313, 0.4702, 2.104, 2.0938, 2.0916, 1.9048, 1.8515, 1.8515, 1.8515, 1.8515, 1.8515, 1.8515, 1.8515, 1.8515, 1.8515, 1.8515, 1.8515, 1.8515, 1.8515, 1.8515, 1.8515, 1.8515, 1.8515, 1.8515, 1.8515, 1.8515, 1.85, 1.8496, 1.8495, 1.8493, 1.8487, 1.7833, 1.575, 1.5883, 1.6066, 0.7756, 1.1374, 1.5385, 1.3465, 1.3406, 1.0002, 1.0129, 1.416, 1.3861, 1.3828, 1.3826, 0.8214, 0.9332, 1.2434, 0.3279, 0.906, -0.0941, 0.6027, 0.5059, 0.9638, -0.1691, 0.5844, 0.0659, 0.2595, -1.23, 0.5028, 2.1052, 2.1052, 1.9544, 1.9016, 1.8602, 1.8602, 1.8602, 1.8602, 1.8602, 1.8602, 1.8602, 1.8602, 1.8602, 1.8602, 1.8602, 1.8602, 1.8602, 1.8602, 1.8602, 1.8602, 1.8602, 1.8602, 1.8602, 1.8602, 1.8602, 1.8602, 1.8602, 1.8602, 1.8602, 1.8602, 1.8154, 1.7743, 1.159, 0.9108, 1.5618, 1.225, 0.3632, 1.4136, 0.5666, 1.1478, 1.3422, 1.2541, 0.8463, -0.263, 0.982, 0.9809, 0.1323, 0.3002, 0.8437, 1.0518, 0.7934, 0.6448, 0.5333, 0.557, 0.5008, 0.5218, 0.3114, 0.4772, 2.1658, 2.1148, 2.1044, 2.0273, 1.9918, 1.965, 1.8748, 1.8748, 1.8748, 1.8748, 1.8748, 1.8748, 1.8748, 1.8748, 1.8748, 1.8748, 1.8748, 1.8748, 1.8748, 1.8748, 1.8748, 1.8748, 1.8748, 1.8748, 1.8748, 1.8748, 1.8748, 1.8748, 1.873, 1.8729, 1.7919, 1.4955, 1.5856, 1.662, 1.7406, 1.4922, 1.5319, 1.3373, 1.5608, 1.0367, 0.8205, 1.3925, 1.3792, 0.8679, 0.5337, 0.7507, 0.4046, 1.0001, 0.5897, 1.113, -0.4127, 0.0327, 0.9408, 0.38, 0.2874, -0.1307, 0.3646, 0.4615, 0.2139, 2.6989, 2.6026, 2.338, 2.338, 2.338, 2.338, 2.338, 2.338, 2.338, 2.338, 2.338, 2.338, 2.338, 2.3323, 2.3322, 2.3305, 2.277, 2.2677, 2.2369, 2.2139, 1.9597, 1.9595, 1.9142, 1.912, 1.912, 1.907, 1.8976, 1.8788, 1.874, 1.8692, 1.3905, 1.1295, 1.1693, 0.8607, 0.6504, 1.0194, 0.4722, 0.8827, 0.6956, 0.2432, -0.8471, 0.0259, 1.3872, 1.3872, 0.3086, 1.0085, 1.15, 1.3826, 1.1254, 1.5647, 1.1466, 1.3454, 2.7985, 2.7985, 2.643, 2.5994, 2.532, 2.532, 2.532, 2.532, 2.532, 2.532, 2.532, 2.532, 2.532, 2.532, 2.532, 2.5319, 2.4709, 2.4341, 2.4181, 2.1483, 2.1311, 2.1064, 2.1064, 2.0919, 2.0829, 2.0756, 2.0707, 1.884, 1.8608, 1.8025, 1.4199, 1.1026, 1.1665, 1.1325, 0.9763, -0.5643, 0.2754, 1.4208, 1.5573, 1.3383, 1.7846, 1.4112, 0.7306, 1.7607, 1.2081, 1.5189]}, \"token.table\": {\"Topic\": [9, 3, 4, 6, 8, 9, 1, 2, 3, 4, 6, 10, 1, 2, 10, 5, 4, 6, 3, 7, 10, 3, 9, 1, 6, 7, 3, 5, 8, 9, 1, 3, 4, 7, 10, 1, 3, 6, 9, 1, 2, 5, 8, 9, 5, 4, 6, 4, 7, 9, 4, 6, 9, 8, 8, 6, 5, 1, 3, 1, 2, 3, 4, 5, 6, 7, 8, 1, 2, 3, 4, 5, 6, 8, 9, 4, 8, 1, 3, 7, 3, 3, 10, 2, 6, 5, 6, 4, 6, 4, 10, 9, 2, 7, 2, 4, 7, 10, 1, 3, 4, 5, 7, 3, 1, 4, 5, 7, 8, 9, 5, 5, 7, 1, 5, 6, 8, 7, 1, 2, 4, 3, 4, 5, 6, 4, 3, 7, 10, 10, 6, 9, 5, 1, 6, 4, 1, 1, 2, 2, 5, 9, 8, 10, 8, 6, 3, 9, 1, 2, 3, 5, 10, 1, 3, 4, 7, 3, 4, 9, 3, 6, 6, 1, 3, 4, 7, 1, 3, 4, 7, 2, 5, 1, 3, 5, 2, 3, 7, 9, 2, 3, 4, 6, 1, 2, 3, 4, 7, 9, 2, 4, 5, 1, 8, 6, 6, 1, 2, 5, 8, 7, 3, 10, 7, 3, 5, 7, 8, 10, 5, 1, 3, 5, 1, 5, 9, 6, 10, 3, 4, 7, 4, 1, 3, 4, 6, 10, 7, 8, 8, 2, 3, 4, 6, 8, 9, 4, 3, 8, 9, 2, 4, 8, 1, 2, 4, 5, 6, 8, 5, 3, 4, 10, 4, 2, 1, 2, 3, 5, 6, 9, 10, 2, 6, 1, 2, 3, 4, 5, 6, 8, 1, 2, 2, 7, 1, 8, 5, 8, 5, 4, 7, 9, 6, 9, 7, 4, 5, 8, 10, 1, 3, 10, 1, 2, 5, 9, 9, 1, 2, 3, 4, 5, 6, 7, 8, 6, 4, 5, 10, 6, 2, 3, 5, 7, 4, 1, 3, 4, 5, 6, 8, 9, 10, 9, 1, 1, 3, 4, 7, 7, 10, 5, 5, 8, 4, 6, 2, 4, 8, 8, 3, 2, 2, 5, 6, 1, 7, 1, 2, 6, 7, 2, 8, 10, 8, 1, 3, 4, 7, 8, 8, 7, 1, 2, 3, 4, 5, 6, 7, 9, 1, 2, 4, 6, 7, 8, 9, 9, 10, 1, 2, 3, 4, 5, 6, 8, 2, 5, 6, 1, 4, 7, 8, 8, 10, 1, 9, 6, 1, 2, 3, 4, 5, 6, 8, 1, 4, 5, 7, 3, 5, 3, 1, 3, 4, 4, 5, 6, 1, 3, 1, 2, 3, 5, 6, 8, 9, 10, 1, 4, 6, 8, 9, 10, 2, 4, 5, 7, 9, 3, 5, 10, 2, 5, 3, 8, 5, 10, 4, 8, 9, 1, 2, 4, 8, 3, 5, 6, 1, 4, 10, 5, 1, 2, 3, 4, 5, 7, 9, 1, 2, 3, 4, 6, 7, 2, 9, 3, 4, 5, 6, 8, 3, 7, 1, 7, 1, 4, 1, 2, 3, 6, 8, 9, 2, 4, 5, 8, 10, 2, 6, 1, 4, 4, 1, 2, 5, 8, 10, 4, 1, 6, 7, 1, 2, 6, 7, 8, 10, 1, 3, 7, 9, 3, 3, 1, 3, 4, 7, 8, 4, 2, 6, 8, 9, 1, 4, 8, 1, 2, 3, 9, 3, 5, 10, 1, 9, 10, 1, 2, 9, 6, 4, 2, 2, 3, 4, 8, 9, 10, 2, 8, 5, 2, 10, 6, 1, 2, 3, 4, 6, 8, 1, 2, 4, 5, 6, 7, 8, 9, 1, 2, 9, 4, 9, 6, 9, 9, 8, 10, 7, 2, 5, 7, 8, 1, 7, 9, 10, 2, 4, 7, 8, 3, 6, 7, 10, 3, 5, 6, 4, 2, 9, 3, 1, 7, 5, 1, 2, 2, 5, 6, 9, 7, 1, 2, 4, 5, 6, 7, 2, 3, 6, 10, 8, 1, 4, 6, 2, 3, 4, 1, 5, 5, 2, 2, 4, 5, 6, 4, 8, 6, 9, 1, 2, 3, 5, 6, 9, 8, 1, 4, 3, 8, 3, 10, 3, 4, 6, 10, 6, 8, 7, 1, 2, 3, 4, 5, 6, 7, 9, 9, 4, 8, 4, 3, 1, 4, 9, 5, 10, 2, 8, 2, 3, 7, 9, 10, 9, 1, 2, 4, 1, 2, 3, 7, 5, 7, 8, 2, 6, 8, 10, 6, 1, 7, 3, 3, 4, 1, 2, 5, 6, 8, 2, 7, 8, 9, 8, 7, 1, 4, 7, 1, 2, 3, 4, 6, 7, 8, 10, 2, 3, 5, 6, 8, 1, 2, 6, 3, 4, 6, 7, 8, 3, 6, 8, 1, 9, 1, 2, 3, 4, 5, 8, 1, 4, 5, 7, 8, 9, 4, 7, 1, 3, 9, 1, 3, 9, 4, 4, 5, 8, 1, 2, 4, 9, 8, 3, 2, 7, 10, 7, 2, 2, 3, 6, 10, 5, 7, 8, 9, 1, 9, 2, 10, 3, 1, 2, 7, 8, 10, 1, 9, 1, 3, 5, 2, 10, 1, 2, 5, 3, 2, 4, 5, 8, 1, 3, 5, 8, 7, 3, 9, 1, 5, 7, 8, 1, 3, 4, 6, 8, 9, 7, 2, 4, 8, 1, 3, 4, 6, 7, 8, 10, 3, 5, 6, 10, 2, 3, 6, 1, 2, 5, 7, 9, 6, 2, 7, 2, 6, 1, 1, 2, 3, 4, 6, 7, 8, 10, 2, 1, 10, 2, 5, 3, 1, 2, 3, 4, 5, 7, 8, 1, 4, 9, 1, 2, 3, 4, 5, 6, 7, 8, 6, 7, 1, 2, 3, 4, 5, 6, 8, 1, 2, 4, 5, 7, 9, 3, 4, 2, 4, 5, 6, 5, 8, 3, 5, 1, 2, 3, 6, 9, 10, 7, 4, 9, 2, 3, 4, 5, 2, 4], \"Freq\": [0.7130982610780724, 0.14829081516761633, 0.29658163033523266, 0.14829081516761633, 0.14829081516761633, 0.14829081516761633, 0.3782142516827333, 0.17334819868791942, 0.09455356292068333, 0.31517854306894444, 0.031517854306894445, 0.015758927153447223, 0.6271080248979605, 0.5208914305430774, 0.2604457152715387, 0.6655638305177164, 0.6557432877972624, 0.6693576271886342, 0.5873826962403533, 0.29369134812017667, 0.14684567406008833, 0.64939426753471, 0.7134939084993057, 0.8197472979272921, 0.3379087771494408, 0.6758175542988816, 0.22550410882901564, 0.22550410882901564, 0.22550410882901564, 0.22550410882901564, 0.6271080649459614, 0.19180919359484838, 0.38361838718969676, 0.2877137903922726, 0.09590459679742419, 0.2644356457285619, 0.2644356457285619, 0.2644356457285619, 0.2644356457285619, 0.38658442030224216, 0.07731688406044843, 0.15463376812089685, 0.23195065218134528, 0.23195065218134528, 0.6655638106528452, 0.6549439654946051, 0.32747198274730255, 0.6557432789816642, 0.6746858355434837, 0.7134943583299531, 0.5717639579748061, 0.190587985991602, 0.190587985991602, 0.4491087503373465, 0.6715527793110998, 0.6693511453843928, 0.6655638024292174, 0.3149136887692592, 0.6298273775385184, 0.23197633085677483, 0.2629065083043448, 0.030930177447569977, 0.061860354895139955, 0.07732544361892495, 0.18558106468541988, 0.061860354895139955, 0.061860354895139955, 0.06202380605598078, 0.18607141816794237, 0.12404761211196157, 0.06202380605598078, 0.18607141816794237, 0.24809522422392313, 0.12404761211196157, 0.06202380605598078, 0.6557432774033961, 0.6715527506030737, 0.6271080511705521, 0.649394244416849, 0.6746858695634111, 0.6493941987208509, 0.5311594965125634, 0.2655797482562817, 0.6384334098779261, 0.6693576273646579, 0.6655638446521781, 0.6693576261983677, 0.6557432797678229, 0.8934511489955088, 0.2875241782267099, 0.5750483564534198, 0.7134943331090942, 0.6384334049084599, 0.6746858402861143, 0.17267532866824764, 0.3453506573364953, 0.17267532866824764, 0.3453506573364953, 0.28093474769032795, 0.28093474769032795, 0.14046737384516397, 0.28093474769032795, 0.14046737384516397, 0.858759928389681, 0.31807300553026085, 0.6361460110605217, 0.2757180663708667, 0.2757180663708667, 0.2757180663708667, 0.2757180663708667, 0.6655638371727092, 0.6655638004443424, 0.6746858907018888, 0.8204804686368792, 0.1500966444943833, 0.6003865779775333, 0.1500966444943833, 0.9029852408929508, 0.6271080429323648, 0.6331677043598619, 0.31658385217993096, 0.21942137350286875, 0.21942137350286875, 0.21942137350286875, 0.4388427470057375, 0.6557432892624628, 0.6493942605725566, 0.29173125853141646, 0.5834625170628329, 0.7172415167424383, 0.6693576986754629, 0.7130898723738726, 0.6655638430165551, 0.6271080601477386, 0.6693576569753017, 0.6557432378172209, 0.8197472489717529, 0.7317717974440966, 0.24392393248136554, 0.8408445918263668, 0.8861342002641457, 0.7374277296188286, 0.4686366142532414, 0.4686366142532414, 0.6715527323787643, 0.669357636709522, 0.6932329606952736, 0.6932329606952736, 0.21740577118801904, 0.21740577118801904, 0.21740577118801904, 0.21740577118801904, 0.21740577118801904, 0.25417878957503676, 0.5083575791500735, 0.25417878957503676, 0.25417878957503676, 0.5322073825949825, 0.26610369129749123, 0.26610369129749123, 0.19056851161418267, 0.7622740464567307, 0.6693576508254696, 0.6271080277111333, 0.43219077973001996, 0.21609538986500998, 0.21609538986500998, 0.4147118927910901, 0.20735594639554505, 0.20735594639554505, 0.20735594639554505, 0.6384334438907558, 0.6655638171618422, 0.8201070204962628, 0.8582488538582312, 0.6655638095448274, 0.38704378271782675, 0.25802918847855116, 0.12901459423927558, 0.12901459423927558, 0.1446064085000995, 0.1446064085000995, 0.289212817000199, 0.43381922550029856, 0.13029277847522924, 0.2605855569504585, 0.13029277847522924, 0.13029277847522924, 0.2605855569504585, 0.13029277847522924, 0.638433427369533, 0.2637200917002921, 0.5274401834005842, 0.6294142127284702, 0.3147071063642351, 0.6693576499757968, 0.6693576208401364, 0.17729639153616347, 0.5318891746084904, 0.08864819576808174, 0.08864819576808174, 0.6746858981142175, 0.6408702941589853, 0.7172415677190065, 0.6746858581689849, 0.1946464023331021, 0.1946464023331021, 0.09732320116655105, 0.3892928046662042, 0.09732320116655105, 0.6655637994884772, 0.4904081191254594, 0.2452040595627297, 0.2452040595627297, 0.4349815049689387, 0.4349815049689387, 0.21749075248446936, 0.8934663988322323, 0.7172412627922624, 0.26435909544809505, 0.26435909544809505, 0.5287181908961901, 0.6557433060572442, 0.2943759640318696, 0.2943759640318696, 0.09812532134395655, 0.1962506426879131, 0.09812532134395655, 0.6746858965965282, 0.8973680458993419, 0.6715527539843147, 0.16292370917421012, 0.16292370917421012, 0.40730927293552527, 0.08146185458710506, 0.16292370917421012, 0.08146185458710506, 0.6557432730555365, 0.6493942646357941, 0.4670341732526113, 0.4670341732526113, 0.6384334152275819, 0.6557432773360022, 0.6715527558131101, 0.06898109755352284, 0.1379621951070457, 0.1379621951070457, 0.34490548776761426, 0.2759243902140914, 0.06898109755352284, 0.6655638301646865, 0.6493942576912346, 0.7040851070446558, 0.7040851070446558, 0.6557432951024412, 0.6384334054966391, 0.19911461820430582, 0.13274307880287053, 0.13274307880287053, 0.19911461820430582, 0.19911461820430582, 0.13274307880287053, 0.06637153940143527, 0.638433418072748, 0.6693482589262235, 0.26909978581417743, 0.13454989290708871, 0.06727494645354436, 0.13454989290708871, 0.13454989290708871, 0.13454989290708871, 0.13454989290708871, 0.24822384463180974, 0.7446715338954292, 0.6384334300416082, 0.6746858394632669, 0.4302200469400126, 0.4302200469400126, 0.6655637832140046, 0.6716420724902855, 0.6655638059118573, 0.4526904107942949, 0.4526904107942949, 0.22634520539714745, 0.46581765033882716, 0.46581765033882716, 0.6746858788173862, 0.22217140880489264, 0.22217140880489264, 0.4443428176097853, 0.4904379208099742, 0.6271080805182033, 0.4577484453229573, 0.4577484453229573, 0.3142746759857738, 0.4714120139786607, 0.1571373379928869, 0.1571373379928869, 0.7129690482637915, 0.30141795945278443, 0.07535448986319611, 0.07535448986319611, 0.15070897972639222, 0.07535448986319611, 0.07535448986319611, 0.15070897972639222, 0.15070897972639222, 0.6693576340553955, 0.6557432964153758, 0.6655638250084369, 0.7172326263749108, 0.6693576387172132, 0.3709579466172759, 0.18547897330863794, 0.18547897330863794, 0.18547897330863794, 0.655743290284693, 0.1553803940800105, 0.1553803940800105, 0.1553803940800105, 0.07769019704000525, 0.23307059112001574, 0.1553803940800105, 0.07769019704000525, 0.07769019704000525, 0.7134943774048598, 0.6271080267321698, 0.4917684172231965, 0.24588420861159824, 0.8693735561063977, 0.902985186885883, 0.46938616559086044, 0.46938616559086044, 0.6655638018543077, 0.667827605261297, 0.3339138026306485, 0.655743241645413, 0.6693575995772393, 0.42843281117155757, 0.14281093705718587, 0.28562187411437173, 0.6715527566337177, 0.6493942269552849, 0.6384334383092306, 0.3254656417677757, 0.6509312835355514, 0.6693576598605975, 0.6271080704690091, 0.6746858395297602, 0.2517079723341455, 0.503415944668291, 0.2517079723341455, 0.6746858661310909, 0.8391539499070251, 0.6715527431194289, 0.7172415408660545, 0.6715527364754803, 0.6207904180522974, 0.12415808361045948, 0.12415808361045948, 0.12415808361045948, 0.12415808361045948, 0.6740442491159833, 0.6746858607167576, 0.40787712111974056, 0.17946593329268587, 0.03263016968957925, 0.0652603393791585, 0.08157542422394812, 0.08157542422394812, 0.11420559391352736, 0.016315084844789624, 0.09861515035878655, 0.49307575179393276, 0.09861515035878655, 0.1972303007175731, 0.09861515035878655, 0.09861515035878655, 0.7134941854455085, 0.488682972870268, 0.488682972870268, 0.20178593337215403, 0.06726197779071802, 0.20178593337215403, 0.2690479111628721, 0.06726197779071802, 0.13452395558143604, 0.06726197779071802, 0.42969713279472177, 0.21484856639736089, 0.21484856639736089, 0.2184641956913242, 0.2184641956913242, 0.2184641956913242, 0.4369283913826484, 0.46865581540200113, 0.46865581540200113, 0.7620297286893369, 0.2540099095631123, 0.6693493798863129, 0.09865946333373077, 0.19731892666746154, 0.19731892666746154, 0.19731892666746154, 0.19731892666746154, 0.09865946333373077, 0.09865946333373077, 0.25502515839261125, 0.5100503167852225, 0.6655637901879562, 0.6746858792853995, 0.6493942301122799, 0.66556380911902, 0.6493942624957314, 0.25398045415912224, 0.25398045415912224, 0.5079609083182445, 0.26486362543754477, 0.5297272508750895, 0.26486362543754477, 0.1579357218024159, 0.7896786090120795, 0.0966058264199314, 0.0966058264199314, 0.3864233056797256, 0.0966058264199314, 0.0966058264199314, 0.1449087396298971, 0.0483029132099657, 0.0483029132099657, 0.24093902032865447, 0.3011737754108181, 0.12046951016432723, 0.12046951016432723, 0.06023475508216362, 0.18070426524649086, 0.14617485248027606, 0.2923497049605521, 0.14617485248027606, 0.14617485248027606, 0.14617485248027606, 0.10938849059602006, 0.7657194341721404, 0.7172413249670717, 0.638433401786872, 0.665563794056953, 0.33107366558200996, 0.33107366558200996, 0.4405023246973666, 0.49043792396230246, 0.541680631006717, 0.2708403155033585, 0.2708403155033585, 0.21430498649999205, 0.21430498649999205, 0.21430498649999205, 0.4286099729999841, 0.6493942771942534, 0.8867196833062664, 0.6693576173517546, 0.3316855376518214, 0.3316855376518214, 0.3316855376518214, 0.6655638152844334, 0.43102599901374794, 0.1959209086426127, 0.11755254518556761, 0.03918418172852254, 0.03918418172852254, 0.03918418172852254, 0.07836836345704508, 0.27301090578016607, 0.1820072705201107, 0.1820072705201107, 0.1820072705201107, 0.1820072705201107, 0.1820072705201107, 0.3483492550192958, 0.3483492550192958, 0.28931908735527, 0.28931908735527, 0.144659543677635, 0.28931908735527, 0.6715527475674862, 0.6493942325460692, 0.674685859714165, 0.6315337044968893, 0.42102246966459284, 0.4197384853625727, 0.4197384853625727, 0.14232402372994776, 0.4269720711898433, 0.14232402372994776, 0.14232402372994776, 0.07116201186497388, 0.07116201186497388, 0.5112814365322429, 0.25564071826612145, 0.25564071826612145, 0.8962716953485126, 0.7172413951590305, 0.507871209401005, 0.2539356047005025, 0.6251130371964992, 0.3125565185982496, 0.6501893145214428, 0.4757263949842658, 0.2378631974921329, 0.15857546499475528, 0.07928773249737764, 0.07928773249737764, 0.6557432881360252, 0.631488497730996, 0.315744248865498, 0.315744248865498, 0.10508750054765154, 0.6305250032859092, 0.10508750054765154, 0.21017500109530307, 0.6715527519037578, 0.7172415078137291, 0.3149129394948643, 0.6298258789897286, 0.6746858619213094, 0.7134943848081629, 0.8582488321048275, 0.6493942663029204, 0.1860185297883502, 0.1860185297883502, 0.1860185297883502, 0.1860185297883502, 0.1860185297883502, 0.6557432872174538, 0.638433420404942, 0.6693459242327867, 0.6715527477763004, 0.7134943122108254, 0.21204378692926415, 0.4240875738585283, 0.21204378692926415, 0.41147572448376835, 0.34289643706980694, 0.1371585748279228, 0.0685792874139614, 0.19653565545304083, 0.39307131090608166, 0.19653565545304083, 0.34584506505272894, 0.34584506505272894, 0.34584506505272894, 0.6271080455219388, 0.4507713539401021, 0.4507713539401021, 0.6693576269912952, 0.6557432688004868, 0.6384334004472765, 0.15416751597682402, 0.25694585996137337, 0.051389171992274676, 0.35972420394592275, 0.051389171992274676, 0.10277834398454935, 0.6384333853833871, 0.6715527604513081, 0.6655638257970354, 0.6605096984575924, 0.3302548492287962, 0.6693576350693047, 0.2076569598998972, 0.3460949331664953, 0.13843797326659812, 0.13843797326659812, 0.06921898663329906, 0.06921898663329906, 0.10769804701147712, 0.07179869800765142, 0.10769804701147712, 0.35899349003825703, 0.03589934900382571, 0.10769804701147712, 0.07179869800765142, 0.10769804701147712, 0.6222219933134888, 0.1555554983283722, 0.1555554983283722, 0.4593324154601198, 0.4593324154601198, 0.4659712406619584, 0.4659712406619584, 0.7134943742030134, 0.6715527293291242, 0.7172414613666335, 0.6746858598178641, 0.2891766156055851, 0.2891766156055851, 0.14458830780279255, 0.14458830780279255, 0.23384965810014893, 0.23384965810014893, 0.23384965810014893, 0.23384965810014893, 0.18642867017846543, 0.37285734035693086, 0.18642867017846543, 0.18642867017846543, 0.22683132247075166, 0.4536626449415033, 0.22683132247075166, 0.22683132247075166, 0.6493942305949383, 0.3338340073092931, 0.6676680146185862, 0.6557432711361182, 0.4506336243741654, 0.4506336243741654, 0.640870282103528, 0.32677429879250075, 0.6535485975850015, 0.6655638422049975, 0.6141292213408638, 0.3070646106704319, 0.6384334648133061, 0.27445565372828223, 0.5489113074565645, 0.27445565372828223, 0.6746858691830582, 0.4269898065164, 0.13483888626833684, 0.0898925908455579, 0.06741944313416842, 0.06741944313416842, 0.20225832940250527, 0.4280395443792093, 0.2853596962528062, 0.2853596962528062, 0.7172415307339103, 0.671552768452067, 0.46691428971920407, 0.3112761931461361, 0.15563809657306804, 0.25502222708984423, 0.5100444541796885, 0.25502222708984423, 0.8197472622827571, 0.4382529835542648, 0.6655637935618232, 0.6384334539011686, 0.3212423091298295, 0.3212423091298295, 0.16062115456491474, 0.16062115456491474, 0.5241574421480327, 0.26207872107401636, 0.46597094550650225, 0.46597094550650225, 0.6271080174696693, 0.18879333155125563, 0.37758666310251127, 0.18879333155125563, 0.18879333155125563, 0.18879333155125563, 0.45295633277392505, 0.821152233988883, 0.6557432936045683, 0.6493942760331695, 0.6715527613729734, 0.3534290247866156, 0.3534290247866156, 0.3817429098308518, 0.1908714549154259, 0.3817429098308518, 0.1908714549154259, 0.6693576828528557, 0.6715527260138714, 0.6746858325386416, 0.174724429662395, 0.0873622148311975, 0.174724429662395, 0.174724429662395, 0.0873622148311975, 0.0873622148311975, 0.0873622148311975, 0.0873622148311975, 0.713494234117138, 0.6557432826560097, 0.671552708502013, 0.6557432613732707, 0.6493942143769931, 0.6271080532583851, 0.6557432855150136, 0.7134944231810487, 0.7154194461035894, 0.7154194461035894, 0.638433417872981, 0.671552774911465, 0.09998010088798522, 0.29994030266395566, 0.09998010088798522, 0.09998010088798522, 0.29994030266395566, 0.7134942912628548, 0.2456175110432515, 0.491235022086503, 0.2456175110432515, 0.6271080500955735, 0.6384334136740535, 0.32480889586545675, 0.32480889586545675, 0.1927981727453063, 0.3855963454906126, 0.3855963454906126, 0.27062082857516867, 0.27062082857516867, 0.27062082857516867, 0.27062082857516867, 0.6693576144307714, 0.819747275947357, 0.6746858818221618, 0.858268533654517, 0.8587556758004394, 0.655743275912012, 0.10610780849341386, 0.42443123397365545, 0.10610780849341386, 0.21221561698682773, 0.10610780849341386, 0.6384334412220141, 0.5436394970591549, 0.27181974852957747, 0.486940581378595, 0.6716379349413126, 0.674685845264915, 0.18864516607921597, 0.18864516607921597, 0.565935498237648, 0.0907110630210359, 0.03023702100701197, 0.03023702100701197, 0.5140293571192035, 0.12094808402804788, 0.15118510503505986, 0.03023702100701197, 0.03023702100701197, 0.6326840753295241, 0.09038343933278915, 0.1807668786655783, 0.09038343933278915, 0.09038343933278915, 0.25637788383208837, 0.25637788383208837, 0.5127557676641767, 0.1588894217263444, 0.26481570287724066, 0.10592628115089626, 0.26481570287724066, 0.21185256230179253, 0.43872249321223533, 0.43872249321223533, 0.21936124660611767, 0.34431670944415627, 0.34431670944415627, 0.6271080253214206, 0.2556657712578156, 0.2556657712578156, 0.5113315425156312, 0.2556657712578156, 0.6715527068958196, 0.1875225434623779, 0.2812838151935668, 0.09376127173118895, 0.1875225434623779, 0.09376127173118895, 0.09376127173118895, 0.6557432921400743, 0.6746858429567163, 0.21650075267785224, 0.4330015053557045, 0.21650075267785224, 0.3292575928910166, 0.3292575928910166, 0.3292575928910166, 0.6557432707694438, 0.3280779832177241, 0.3280779832177241, 0.6715527278269666, 0.21675260217414383, 0.21675260217414383, 0.43350520434828765, 0.21675260217414383, 0.6715527692258159, 0.6493942474489623, 0.33969707396531185, 0.33969707396531185, 0.33969707396531185, 0.6746858525367102, 0.6384334174147402, 0.3840499134111439, 0.19202495670557196, 0.19202495670557196, 0.19202495670557196, 0.2757181702433608, 0.2757181702433608, 0.2757181702433608, 0.2757181702433608, 0.8535808932119774, 0.4267904466059887, 0.6605095804770467, 0.33025479023852333, 0.6493942626530769, 0.14667562369329326, 0.2933512473865865, 0.2933512473865865, 0.2933512473865865, 0.14667562369329326, 0.5609783261642348, 0.3739855507761566, 0.31491354298917157, 0.6298270859783431, 0.6655637973680568, 0.45221723847477596, 0.45221723847477596, 0.2551552257553746, 0.2551552257553746, 0.5103104515107492, 0.6493942282342674, 0.32649741404064364, 0.16324870702032182, 0.16324870702032182, 0.32649741404064364, 0.3191893052536522, 0.3191893052536522, 0.3191893052536522, 0.1595946526268261, 0.6746858610175819, 0.35160939694270577, 0.35160939694270577, 0.21867568897985146, 0.4373513779597029, 0.21867568897985146, 0.21867568897985146, 0.10004683262127255, 0.4335362746921811, 0.2667915536567268, 0.03334894420709085, 0.10004683262127255, 0.10004683262127255, 0.674685824937563, 0.216978755282732, 0.216978755282732, 0.433957510565464, 0.2367851958848195, 0.2367851958848195, 0.11839259794240975, 0.11839259794240975, 0.11839259794240975, 0.11839259794240975, 0.11839259794240975, 0.2249547606141333, 0.2249547606141333, 0.2249547606141333, 0.2249547606141333, 0.1433438780876807, 0.43003163426304214, 0.2866877561753614, 0.30639798651335826, 0.35746431759891795, 0.15319899325667913, 0.051066331085559705, 0.15319899325667913, 0.6693576698898314, 0.32180624345695447, 0.32180624345695447, 0.6384334155717566, 0.669357622477693, 0.6271080347357857, 0.18613292845795262, 0.09306646422897631, 0.09306646422897631, 0.09306646422897631, 0.37226585691590525, 0.09306646422897631, 0.09306646422897631, 0.7172415509455254, 0.6384334358223756, 0.8197472864073913, 0.7172415573216653, 0.4340143978469076, 0.4340143978469076, 0.6493942441354372, 0.08634894236029897, 0.17269788472059794, 0.17269788472059794, 0.17269788472059794, 0.08634894236029897, 0.17269788472059794, 0.17269788472059794, 0.6365997718884008, 0.21219992396280024, 0.21219992396280024, 0.14421306059219502, 0.09614204039479667, 0.09614204039479667, 0.09614204039479667, 0.19228408078959333, 0.09614204039479667, 0.09614204039479667, 0.14421306059219502, 0.6693494543691588, 0.6746858591351126, 0.19170676173097628, 0.19170676173097628, 0.12780450782065086, 0.06390225391032543, 0.06390225391032543, 0.12780450782065086, 0.25560901564130173, 0.1313544530287703, 0.1313544530287703, 0.2627089060575406, 0.1313544530287703, 0.1313544530287703, 0.1313544530287703, 0.5717702398599412, 0.2858851199299706, 0.6384334443135616, 0.44028285819199836, 0.22014142909599918, 0.44028285819199836, 0.6655638079902384, 0.6715527126149954, 0.6486461360461194, 0.3243230680230597, 0.46336400050548715, 0.1323897144301392, 0.1985845716452088, 0.0661948572150696, 0.0661948572150696, 0.0661948572150696, 0.6746858365852104, 0.6661282736320072, 0.22204275787733574, 0.3667872835666597, 0.18339364178332984, 0.18339364178332984, 0.3667872835666597, 0.320782782247845, 0.64156556449569], \"Term\": [\"ability\", \"access\", \"access\", \"access\", \"access\", \"access\", \"account\", \"account\", \"account\", \"account\", \"account\", \"account\", \"activate\", \"advice\", \"advice\", \"allocation\", \"amatuer\", \"amongst\", \"amount\", \"amount\", \"amount\", \"amouny\", \"android\", \"answer\", \"anyone\", \"anyone\", \"anything\", \"anything\", \"anything\", \"anything\", \"apple\", \"application\", \"application\", \"application\", \"application\", \"approval\", \"approval\", \"approval\", \"approval\", \"apps\", \"apps\", \"apps\", \"apps\", \"apps\", \"area\", \"asap\", \"asap\", \"assessment\", \"assistance\", \"atleast\", \"attempt\", \"attempt\", \"attempt\", \"authentication\", \"avail\", \"awful\", \"baffling\", \"bait\", \"bait\", \"bank\", \"bank\", \"bank\", \"bank\", \"bank\", \"bank\", \"bank\", \"bank\", \"banking\", \"banking\", \"banking\", \"banking\", \"banking\", \"banking\", \"banking\", \"banking\", \"bankng\", \"beautiful\", \"beneficiary\", \"beta\", \"beware\", \"bode\", \"borrow\", \"borrow\", \"branch\", \"breakthrough\", \"brighter\", \"brilliant\", \"browsing\", \"buddy\", \"buggy\", \"buggy\", \"business\", \"buzz\", \"calculate\", \"cant\", \"cant\", \"cant\", \"cant\", \"card\", \"card\", \"card\", \"card\", \"card\", \"carry\", \"case\", \"case\", \"cash\", \"cash\", \"cash\", \"cash\", \"cashback\", \"caught\", \"center\", \"chance\", \"change\", \"change\", \"change\", \"chat\", \"cheer\", \"clean\", \"clean\", \"click\", \"click\", \"click\", \"click\", \"client\", \"clueless\", \"code\", \"code\", \"collect\", \"communication\", \"competition\", \"complain\", \"complaint\", \"comprehensive\", \"concern\", \"condition\", \"consumer\", \"consumer\", \"continue\", \"convenient\", \"cool\", \"correct\", \"correct\", \"cover\", \"crab\", \"crash\", \"crash\", \"create\", \"create\", \"create\", \"create\", \"create\", \"credit\", \"credit\", \"credit\", \"credit\", \"criterion\", \"criterion\", \"criterion\", \"customer\", \"customer\", \"damm\", \"date\", \"day\", \"day\", \"day\", \"debit\", \"debit\", \"debit\", \"debit\", \"debtor\", \"decimal\", \"decrease\", \"delete\", \"deliver\", \"deposit\", \"deposit\", \"deposit\", \"deposit\", \"design\", \"design\", \"design\", \"design\", \"detail\", \"detail\", \"detail\", \"detail\", \"detail\", \"detail\", \"detrimental\", \"developer\", \"developer\", \"device\", \"device\", \"differ\", \"digibank\", \"digital\", \"digital\", \"digital\", \"digital\", \"disappear\", \"display\", \"doesnt\", \"dogshit\", \"download\", \"download\", \"download\", \"download\", \"download\", \"draw\", \"drop\", \"drop\", \"drop\", \"ease\", \"ease\", \"ease\", \"ecosystem\", \"efficient\", \"effort\", \"effort\", \"effort\", \"eligibility\", \"email\", \"email\", \"email\", \"email\", \"email\", \"employer\", \"encourage\", \"end\", \"error\", \"error\", \"error\", \"error\", \"error\", \"error\", \"evaluation\", \"everbody\", \"everything\", \"everything\", \"exaggerate\", \"exit\", \"expectation\", \"experience\", \"experience\", \"experience\", \"experience\", \"experience\", \"experience\", \"face\", \"failure\", \"fake\", \"fake\", \"faq\", \"farm\", \"fast\", \"fast\", \"fast\", \"fast\", \"fast\", \"fast\", \"fast\", \"faster\", \"faux\", \"feature\", \"feature\", \"feature\", \"feature\", \"feature\", \"feature\", \"feature\", \"feel\", \"feel\", \"fill\", \"finger\", \"fingerprint\", \"fingerprint\", \"fintech\", \"flag\", \"flawless\", \"flexiloan\", \"flexiloan\", \"flexiloan\", \"focus\", \"focus\", \"folk\", \"force\", \"force\", \"force\", \"foreigner\", \"forgot\", \"friend\", \"friend\", \"function\", \"function\", \"function\", \"function\", \"functionality\", \"fund\", \"fund\", \"fund\", \"fund\", \"fund\", \"fund\", \"fund\", \"fund\", \"galaxy\", \"gather\", \"genius\", \"gift\", \"giro\", \"goal\", \"goal\", \"goal\", \"goal\", \"god\", \"grab\", \"grab\", \"grab\", \"grab\", \"grab\", \"grab\", \"grab\", \"grab\", \"grabpay\", \"gripe\", \"grow\", \"grow\", \"guess\", \"gxbank\", \"hang\", \"hang\", \"haphazard\", \"hassle\", \"hassle\", \"hello\", \"home\", \"hope\", \"hope\", \"hope\", \"hopeless\", \"hubby\", \"human\", \"idea\", \"idea\", \"ignore\", \"implement\", \"implementation\", \"improvement\", \"improvement\", \"improvement\", \"incase\", \"include\", \"income\", \"inconvenience\", \"incorrect\", \"increase\", \"increase\", \"increase\", \"increase\", \"increase\", \"information\", \"insecure\", \"interest\", \"interest\", \"interest\", \"interest\", \"interest\", \"interest\", \"interest\", \"interest\", \"interface\", \"interface\", \"interface\", \"interface\", \"interface\", \"interface\", \"intern\", \"invite\", \"invite\", \"issue\", \"issue\", \"issue\", \"issue\", \"issue\", \"issue\", \"issue\", \"joke\", \"joke\", \"joke\", \"kind\", \"kind\", \"kind\", \"kind\", \"kudos\", \"kudos\", \"lack\", \"lack\", \"lacklustre\", \"launch\", \"launch\", \"launch\", \"launch\", \"launch\", \"launch\", \"launch\", \"le\", \"le\", \"legit\", \"legitimate\", \"lending\", \"library\", \"light\", \"limit\", \"limit\", \"limit\", \"link\", \"link\", \"link\", \"list\", \"list\", \"loan\", \"loan\", \"loan\", \"loan\", \"loan\", \"loan\", \"loan\", \"loan\", \"login\", \"login\", \"login\", \"login\", \"login\", \"login\", \"look\", \"look\", \"look\", \"look\", \"look\", \"love\", \"love\", \"malware\", \"management\", \"marvel\", \"mean\", \"mean\", \"medium\", \"merchant\", \"message\", \"message\", \"message\", \"min\", \"min\", \"min\", \"min\", \"mini\", \"minimum\", \"minute\", \"mistake\", \"mistake\", \"mistake\", \"mode\", \"money\", \"money\", \"money\", \"money\", \"money\", \"money\", \"money\", \"month\", \"month\", \"month\", \"month\", \"month\", \"month\", \"move\", \"move\", \"multiple\", \"multiple\", \"multiple\", \"multiple\", \"mummy\", \"mundane\", \"myinfo\", \"name\", \"name\", \"navigate\", \"navigate\", \"need\", \"need\", \"need\", \"need\", \"need\", \"need\", \"news\", \"news\", \"news\", \"none\", \"nonsense\", \"nothing\", \"nothing\", \"notice\", \"notice\", \"notification\", \"number\", \"number\", \"number\", \"number\", \"number\", \"objective\", \"ocbc\", \"ocbc\", \"ocbc\", \"offer\", \"offer\", \"offer\", \"offer\", \"offset\", \"okayyyy\", \"option\", \"option\", \"organisation\", \"overlap\", \"overlay\", \"owner\", \"page\", \"page\", \"page\", \"page\", \"page\", \"paid\", \"pain\", \"painful\", \"part\", \"partner\", \"password\", \"password\", \"password\", \"payee\", \"payee\", \"payee\", \"payee\", \"payment\", \"payment\", \"payment\", \"paynow\", \"paynow\", \"paynow\", \"peep\", \"perfect\", \"perfect\", \"period\", \"permanent\", \"pertinent\", \"phone\", \"phone\", \"phone\", \"phone\", \"phone\", \"phone\", \"piece\", \"plat\", \"platform\", \"play\", \"play\", \"player\", \"please\", \"please\", \"please\", \"please\", \"please\", \"please\", \"pocket\", \"pocket\", \"pocket\", \"pocket\", \"pocket\", \"pocket\", \"pocket\", \"pocket\", \"point\", \"point\", \"point\", \"popped\", \"popped\", \"portion\", \"portion\", \"post\", \"power\", \"press\", \"print\", \"problem\", \"problem\", \"problem\", \"problem\", \"proceed\", \"proceed\", \"proceed\", \"proceed\", \"process\", \"process\", \"process\", \"process\", \"product\", \"product\", \"product\", \"product\", \"programme\", \"promise\", \"promise\", \"promising\", \"prone\", \"prone\", \"proper\", \"provide\", \"provide\", \"pure\", \"question\", \"question\", \"queue\", \"quick\", \"quick\", \"quick\", \"race\", \"rate\", \"rate\", \"rate\", \"rate\", \"rate\", \"rate\", \"rating\", \"rating\", \"rating\", \"read\", \"reapply\", \"reason\", \"reason\", \"reason\", \"receive\", \"receive\", \"receive\", \"recipient\", \"recommend\", \"recovery\", \"refresh\", \"register\", \"register\", \"register\", \"register\", \"registration\", \"registration\", \"reinstall\", \"reinstall\", \"reminder\", \"repayment\", \"repayment\", \"repayment\", \"repayment\", \"repayment\", \"repeat\", \"reply\", \"requirement\", \"resgistet\", \"resolve\", \"respond\", \"respond\", \"response\", \"response\", \"response\", \"response\", \"responsive\", \"restart\", \"retrieve\", \"review\", \"review\", \"review\", \"review\", \"review\", \"review\", \"review\", \"review\", \"revolution\", \"risk\", \"root\", \"round\", \"rule\", \"safer\", \"salary\", \"saver\", \"scam\", \"scam\", \"scene\", \"scheme\", \"screen\", \"screen\", \"screen\", \"screen\", \"screen\", \"script\", \"seamless\", \"seamless\", \"seamless\", \"secret\", \"section\", \"secure\", \"secure\", \"security\", \"security\", \"security\", \"seem\", \"seem\", \"seem\", \"seem\", \"seemless\", \"select\", \"selection\", \"sent\", \"sept\", \"serve\", \"service\", \"service\", \"service\", \"service\", \"service\", \"setback\", \"setup\", \"setup\", \"sgqr\", \"share\", \"shout\", \"show\", \"show\", \"show\", \"sign\", \"sign\", \"sign\", \"sign\", \"sign\", \"sign\", \"sign\", \"sign\", \"simple\", \"simple\", \"simple\", \"simple\", \"simple\", \"singapore\", \"singapore\", \"singapore\", \"singpass\", \"singpass\", \"singpass\", \"singpass\", \"singpass\", \"singtel\", \"singtel\", \"singtel\", \"sleek\", \"sleek\", \"slip\", \"smooth\", \"smooth\", \"smooth\", \"smooth\", \"software\", \"something\", \"something\", \"something\", \"something\", \"something\", \"something\", \"soooo\", \"sorry\", \"space\", \"space\", \"space\", \"spend\", \"spend\", \"spend\", \"spent\", \"staff\", \"staff\", \"stage\", \"star\", \"star\", \"star\", \"star\", \"startup\", \"state\", \"stay\", \"stay\", \"stay\", \"step\", \"stop\", \"store\", \"store\", \"store\", \"store\", \"straight\", \"straight\", \"straight\", \"straight\", \"suggest\", \"suggest\", \"suggestion\", \"suggestion\", \"sunday\", \"super\", \"super\", \"super\", \"super\", \"super\", \"support\", \"support\", \"switch\", \"switch\", \"target\", \"team\", \"team\", \"term\", \"term\", \"term\", \"testflight\", \"thank\", \"thank\", \"thank\", \"thank\", \"thing\", \"thing\", \"thing\", \"thing\", \"thought\", \"thru\", \"thru\", \"till\", \"till\", \"till\", \"till\", \"time\", \"time\", \"time\", \"time\", \"time\", \"time\", \"timer\", \"today\", \"today\", \"today\", \"told\", \"told\", \"told\", \"told\", \"told\", \"told\", \"told\", \"touch\", \"touch\", \"touch\", \"touch\", \"transaction\", \"transaction\", \"transaction\", \"transfer\", \"transfer\", \"transfer\", \"transfer\", \"transfer\", \"transparency\", \"transparent\", \"transparent\", \"travel\", \"treat\", \"trouble\", \"trust\", \"trust\", \"trust\", \"trust\", \"trust\", \"trust\", \"trust\", \"tune\", \"twitch\", \"type\", \"ummmm\", \"unique\", \"unique\", \"unresponsiveness\", \"update\", \"update\", \"update\", \"update\", \"update\", \"update\", \"update\", \"useless\", \"useless\", \"useless\", \"user\", \"user\", \"user\", \"user\", \"user\", \"user\", \"user\", \"user\", \"vague\", \"verify\", \"wait\", \"wait\", \"wait\", \"wait\", \"wait\", \"wait\", \"wait\", \"want\", \"want\", \"want\", \"want\", \"want\", \"want\", \"waste\", \"waste\", \"website\", \"week\", \"week\", \"week\", \"wireframe\", \"withdraw\", \"wonder\", \"wonder\", \"work\", \"work\", \"work\", \"work\", \"work\", \"work\", \"worldwide\", \"write\", \"write\", \"year\", \"year\", \"year\", \"year\", \"yesterday\", \"yesterday\"]}, \"R\": 30, \"lambda.step\": 0.01, \"plot.opts\": {\"xlab\": \"PC1\", \"ylab\": \"PC2\"}, \"topic.order\": [3, 5, 1, 9, 2, 8, 6, 7, 4, 10]};\n",
       "\n",
       "function LDAvis_load_lib(url, callback){\n",
       "  var s = document.createElement('script');\n",
       "  s.src = url;\n",
       "  s.async = true;\n",
       "  s.onreadystatechange = s.onload = callback;\n",
       "  s.onerror = function(){console.warn(\"failed to load library \" + url);};\n",
       "  document.getElementsByTagName(\"head\")[0].appendChild(s);\n",
       "}\n",
       "\n",
       "if(typeof(LDAvis) !== \"undefined\"){\n",
       "   // already loaded: just create the visualization\n",
       "   !function(LDAvis){\n",
       "       new LDAvis(\"#\" + \"ldavis_el62653108731588964632611219\", ldavis_el62653108731588964632611219_data);\n",
       "   }(LDAvis);\n",
       "}else if(typeof define === \"function\" && define.amd){\n",
       "   // require.js is available: use it to load d3/LDAvis\n",
       "   require.config({paths: {d3: \"https://d3js.org/d3.v5\"}});\n",
       "   require([\"d3\"], function(d3){\n",
       "      window.d3 = d3;\n",
       "      LDAvis_load_lib(\"https://cdn.jsdelivr.net/gh/bmabey/pyLDAvis@3.4.0/pyLDAvis/js/ldavis.v3.0.0.js\", function(){\n",
       "        new LDAvis(\"#\" + \"ldavis_el62653108731588964632611219\", ldavis_el62653108731588964632611219_data);\n",
       "      });\n",
       "    });\n",
       "}else{\n",
       "    // require.js not available: dynamically load d3 & LDAvis\n",
       "    LDAvis_load_lib(\"https://d3js.org/d3.v5.js\", function(){\n",
       "         LDAvis_load_lib(\"https://cdn.jsdelivr.net/gh/bmabey/pyLDAvis@3.4.0/pyLDAvis/js/ldavis.v3.0.0.js\", function(){\n",
       "                 new LDAvis(\"#\" + \"ldavis_el62653108731588964632611219\", ldavis_el62653108731588964632611219_data);\n",
       "            })\n",
       "         });\n",
       "}\n",
       "</script>"
      ],
      "text/plain": [
       "PreparedData(topic_coordinates=              x         y  topics  cluster       Freq\n",
       "topic                                                \n",
       "2      0.119588 -0.002113       1        1  17.122882\n",
       "4      0.107716  0.061820       2        1  13.623277\n",
       "0     -0.101596 -0.030631       3        1  12.797202\n",
       "8      0.021357 -0.151659       4        1  12.737889\n",
       "1      0.055120  0.111282       5        1   9.284958\n",
       "7      0.046033 -0.047077       6        1   8.606192\n",
       "5      0.041294 -0.059508       7        1   8.463079\n",
       "6     -0.084695 -0.008089       8        1   8.380484\n",
       "3     -0.053867  0.108588       9        1   4.939734\n",
       "9     -0.150950  0.017387      10        1   4.044303, topic_info=         Term       Freq      Total Category  logprob  loglift\n",
       "0     account  63.000000  63.000000  Default  30.0000  30.0000\n",
       "9        rate  44.000000  44.000000  Default  29.0000  29.0000\n",
       "103      sign  33.000000  33.000000  Default  28.0000  28.0000\n",
       "69       time  29.000000  29.000000  Default  27.0000  27.0000\n",
       "128     phone  19.000000  19.000000  Default  26.0000  26.0000\n",
       "..        ...        ...        ...      ...      ...      ...\n",
       "262   proceed   0.709253   4.276252  Topic10  -4.9379   1.4112\n",
       "263      told   0.709251   8.446474  Topic10  -4.9379   0.7306\n",
       "140   mistake   0.709247   3.014904  Topic10  -4.9379   1.7607\n",
       "229  response   0.709243   5.239128  Topic10  -4.9379   1.2081\n",
       "56     advice   0.709242   3.839572  Topic10  -4.9379   1.5189\n",
       "\n",
       "[612 rows x 6 columns], token_table=      Topic      Freq       Term\n",
       "term                            \n",
       "543       9  0.713098    ability\n",
       "344       3  0.148291     access\n",
       "344       4  0.296582     access\n",
       "344       6  0.148291     access\n",
       "344       8  0.148291     access\n",
       "...     ...       ...        ...\n",
       "146       3  0.183394       year\n",
       "146       4  0.183394       year\n",
       "146       5  0.366787       year\n",
       "408       2  0.320783  yesterday\n",
       "408       4  0.641566  yesterday\n",
       "\n",
       "[947 rows x 3 columns], R=30, lambda_step=0.01, plot_opts={'xlab': 'PC1', 'ylab': 'PC2'}, topic_order=[3, 5, 1, 9, 2, 8, 6, 7, 4, 10])"
      ]
     },
     "execution_count": 110,
     "metadata": {},
     "output_type": "execute_result"
    }
   ],
   "source": [
    "import pyLDAvis # To visualize lda model\n",
    "import pyLDAvis.gensim\n",
    "\n",
    "pyLDAvis.enable_notebook()\n",
    "#vis = pyLDAvis.gensim.prepare(ldamodel,doc_term_matrix,dictionary)\n",
    "vis = pyLDAvis.gensim.prepare(lda_model,doc_term_matrix,dictionary)\n",
    "vis"
   ]
  },
  {
   "attachments": {},
   "cell_type": "markdown",
   "metadata": {},
   "source": [
    "Since, some topics in above graph are overlapping each other we will try to find optimal number of topics."
   ]
  },
  {
   "cell_type": "code",
   "execution_count": 111,
   "metadata": {},
   "outputs": [
    {
     "name": "stdout",
     "output_type": "stream",
     "text": [
      "\n",
      "Coherence Score:  0.4151764107795527\n"
     ]
    }
   ],
   "source": [
    "from gensim.models.coherencemodel import CoherenceModel\n",
    "coherence_model_lda = CoherenceModel(model=lda_model,texts=review_data['clean_review'],\\\n",
    "                                     dictionary=dictionary , coherence='c_v')\n",
    "print('\\nCoherence Score: ', coherence_model_lda.get_coherence())\n",
    "\n",
    "# Compute Coherence Score"
   ]
  },
  {
   "cell_type": "code",
   "execution_count": 112,
   "metadata": {},
   "outputs": [],
   "source": [
    "# Computing coherence score for different size of topic\n",
    "'''\n",
    "def calculate_topic_cv(ldamodel,texts,dictionary,topic_range):\n",
    "  cv_score =[]\n",
    "  topic_num = []\n",
    "  for i in range(2,topic_range):\n",
    "    topic_num.append(i)\n",
    "    Lda = gensim.models.ldamodel.LdaModel\n",
    "    ldamodel = Lda(doc_term_matrix, num_topics=i, id2word=dictionary, passes=10,random_state=45)\n",
    "    cv_score.append(CoherenceModel(model=ldamodel,texts=texts,\\\n",
    "                                   dictionary=dictionary , coherence='c_v').get_coherence())\n",
    "    \n",
    "    \n",
    "    clear_output()\n",
    "  return topic_num,cv_score\n",
    "'''\n",
    "\n",
    "def calculate_topic_cv(lda_model,texts,dictionary,topic_range):\n",
    "  cv_score =[]\n",
    "  topic_num = []\n",
    "  for i in range(2,topic_range):\n",
    "    topic_num.append(i)\n",
    "    Lda = gensim.models.ldamodel.LdaModel\n",
    "    lda_model = LdaMulticore(corpus=doc_term_matrix,\n",
    "                         id2word=dictionary,\n",
    "                         num_topics=10,\n",
    "                         eta=eta,\n",
    "                         chunksize=2000,\n",
    "                         passes=5,\n",
    "                         random_state=42,\n",
    "                         alpha='symmetric',\n",
    "                         per_word_topics=True)\n",
    "    \n",
    "    cv_score.append(CoherenceModel(model=lda_model,texts=texts,\\\n",
    "                                   dictionary=dictionary , coherence='c_v').get_coherence())\n",
    "    \n",
    "    \n",
    "    clear_output()\n",
    "  return topic_num,cv_score\n",
    "\n"
   ]
  },
  {
   "cell_type": "code",
   "execution_count": 113,
   "metadata": {},
   "outputs": [],
   "source": [
    "topic_num,cv_score = calculate_topic_cv(lda_model,review_data['clean_review'],dictionary,15)"
   ]
  },
  {
   "cell_type": "code",
   "execution_count": 114,
   "metadata": {},
   "outputs": [
    {
     "data": {
      "text/html": [
       "<div>\n",
       "<style scoped>\n",
       "    .dataframe tbody tr th:only-of-type {\n",
       "        vertical-align: middle;\n",
       "    }\n",
       "\n",
       "    .dataframe tbody tr th {\n",
       "        vertical-align: top;\n",
       "    }\n",
       "\n",
       "    .dataframe thead th {\n",
       "        text-align: right;\n",
       "    }\n",
       "</style>\n",
       "<table border=\"1\" class=\"dataframe\">\n",
       "  <thead>\n",
       "    <tr style=\"text-align: right;\">\n",
       "      <th></th>\n",
       "      <th>Coherence_Score</th>\n",
       "    </tr>\n",
       "    <tr>\n",
       "      <th>Topic</th>\n",
       "      <th></th>\n",
       "    </tr>\n",
       "  </thead>\n",
       "  <tbody>\n",
       "    <tr>\n",
       "      <th>2</th>\n",
       "      <td>0.415176</td>\n",
       "    </tr>\n",
       "    <tr>\n",
       "      <th>3</th>\n",
       "      <td>0.415176</td>\n",
       "    </tr>\n",
       "    <tr>\n",
       "      <th>4</th>\n",
       "      <td>0.415176</td>\n",
       "    </tr>\n",
       "    <tr>\n",
       "      <th>5</th>\n",
       "      <td>0.415176</td>\n",
       "    </tr>\n",
       "    <tr>\n",
       "      <th>6</th>\n",
       "      <td>0.415176</td>\n",
       "    </tr>\n",
       "    <tr>\n",
       "      <th>7</th>\n",
       "      <td>0.415176</td>\n",
       "    </tr>\n",
       "    <tr>\n",
       "      <th>8</th>\n",
       "      <td>0.415176</td>\n",
       "    </tr>\n",
       "    <tr>\n",
       "      <th>9</th>\n",
       "      <td>0.415176</td>\n",
       "    </tr>\n",
       "    <tr>\n",
       "      <th>10</th>\n",
       "      <td>0.415176</td>\n",
       "    </tr>\n",
       "    <tr>\n",
       "      <th>11</th>\n",
       "      <td>0.415176</td>\n",
       "    </tr>\n",
       "    <tr>\n",
       "      <th>12</th>\n",
       "      <td>0.415176</td>\n",
       "    </tr>\n",
       "    <tr>\n",
       "      <th>13</th>\n",
       "      <td>0.415176</td>\n",
       "    </tr>\n",
       "    <tr>\n",
       "      <th>14</th>\n",
       "      <td>0.415176</td>\n",
       "    </tr>\n",
       "  </tbody>\n",
       "</table>\n",
       "</div>"
      ],
      "text/plain": [
       "       Coherence_Score\n",
       "Topic                 \n",
       "2             0.415176\n",
       "3             0.415176\n",
       "4             0.415176\n",
       "5             0.415176\n",
       "6             0.415176\n",
       "7             0.415176\n",
       "8             0.415176\n",
       "9             0.415176\n",
       "10            0.415176\n",
       "11            0.415176\n",
       "12            0.415176\n",
       "13            0.415176\n",
       "14            0.415176"
      ]
     },
     "execution_count": 114,
     "metadata": {},
     "output_type": "execute_result"
    }
   ],
   "source": [
    "pd.DataFrame(zip(topic_num,cv_score),columns=['Topic','Coherence_Score']).set_index\\\n",
    "('Topic').sort_values('Coherence_Score',ascending=False)"
   ]
  },
  {
   "cell_type": "code",
   "execution_count": 115,
   "metadata": {},
   "outputs": [
    {
     "data": {
      "image/png": "[encoded data removed]",
      "text/plain": [
       "<Figure size 640x480 with 1 Axes>"
      ]
     },
     "metadata": {},
     "output_type": "display_data"
    }
   ],
   "source": [
    "import matplotlib.pyplot as plt\n",
    "\n",
    "plt.plot(topic_num,cv_score,color='green', marker='o', linestyle='dashed')\n",
    "plt.xticks(range(2,15))\n",
    "plt.xlabel('Number of topics')\n",
    "plt.ylabel('Coherence score')\n",
    "plt.show()"
   ]
  },
  {
   "attachments": {},
   "cell_type": "markdown",
   "metadata": {},
   "source": [
    "### we will be going with number of topic 6 as with 8 topics there will be many overlaps ."
   ]
  },
  {
   "cell_type": "code",
   "execution_count": 116,
   "metadata": {},
   "outputs": [
    {
     "name": "stdout",
     "output_type": "stream",
     "text": [
      "0.4151764107795527\n"
     ]
    }
   ],
   "source": [
    "# Creating LDA model with number of topics as 6\n",
    "\n",
    "Lda = gensim.models.ldamodel.LdaModel\n",
    "#ldamodel = Lda(doc_term_matrix, num_topics=12, id2word=dictionary, passes=10,random_state=45)\n",
    "\n",
    "lda_model = LdaMulticore(corpus=doc_term_matrix,\n",
    "                         id2word=dictionary,\n",
    "                         num_topics=10,\n",
    "                         eta=eta,\n",
    "                         chunksize=2000,\n",
    "                         passes=5,\n",
    "                         random_state=42,\n",
    "                         alpha='symmetric',\n",
    "                         per_word_topics=True)\n",
    "\n",
    "clear_output()\n",
    "print(CoherenceModel(model=lda_model,texts=review_data['clean_review'],\\\n",
    "                     dictionary=dictionary , coherence='c_v').get_coherence())"
   ]
  },
  {
   "cell_type": "code",
   "execution_count": 117,
   "metadata": {},
   "outputs": [
    {
     "data": {
      "text/plain": [
       "[(0,\n",
       "  '0.041*\"time\" + 0.025*\"loan\" + 0.018*\"account\" + 0.015*\"phone\" + 0.015*\"list\" + 0.014*\"waste\" + 0.013*\"amount\" + 0.010*\"screen\" + 0.010*\"email\" + 0.010*\"work\"'),\n",
       " (1,\n",
       "  '0.043*\"pocket\" + 0.029*\"love\" + 0.024*\"bank\" + 0.024*\"interest\" + 0.021*\"experience\" + 0.020*\"user\" + 0.013*\"rate\" + 0.012*\"fast\" + 0.011*\"banking\" + 0.011*\"transfer\"'),\n",
       " (2,\n",
       "  '0.059*\"interest\" + 0.057*\"account\" + 0.044*\"rate\" + 0.037*\"bank\" + 0.027*\"money\" + 0.017*\"work\" + 0.015*\"transfer\" + 0.014*\"payee\" + 0.013*\"number\" + 0.011*\"increase\"'),\n",
       " (3,\n",
       "  '0.027*\"pocket\" + 0.025*\"transfer\" + 0.023*\"time\" + 0.021*\"apps\" + 0.020*\"fast\" + 0.017*\"money\" + 0.016*\"cool\" + 0.016*\"support\" + 0.012*\"need\" + 0.011*\"proceed\"'),\n",
       " (4,\n",
       "  '0.052*\"bank\" + 0.033*\"interest\" + 0.032*\"account\" + 0.020*\"transfer\" + 0.020*\"simple\" + 0.019*\"digital\" + 0.019*\"rate\" + 0.017*\"need\" + 0.017*\"offer\" + 0.016*\"please\"'),\n",
       " (5,\n",
       "  '0.045*\"rate\" + 0.036*\"interest\" + 0.025*\"singpass\" + 0.024*\"sign\" + 0.020*\"bank\" + 0.015*\"show\" + 0.015*\"application\" + 0.013*\"pocket\" + 0.011*\"user\" + 0.011*\"update\"'),\n",
       " (6,\n",
       "  '0.035*\"phone\" + 0.021*\"download\" + 0.018*\"wait\" + 0.018*\"singpass\" + 0.017*\"bank\" + 0.014*\"loan\" + 0.013*\"user\" + 0.013*\"time\" + 0.013*\"apps\" + 0.011*\"security\"'),\n",
       " (7,\n",
       "  '0.057*\"bank\" + 0.023*\"interest\" + 0.021*\"trust\" + 0.019*\"sign\" + 0.018*\"experience\" + 0.018*\"change\" + 0.018*\"banking\" + 0.018*\"customer\" + 0.015*\"rate\" + 0.014*\"grab\"'),\n",
       " (8,\n",
       "  '0.063*\"account\" + 0.055*\"sign\" + 0.025*\"time\" + 0.017*\"singpass\" + 0.017*\"error\" + 0.017*\"login\" + 0.014*\"interest\" + 0.013*\"bank\" + 0.013*\"rate\" + 0.013*\"issue\"'),\n",
       " (9,\n",
       "  '0.033*\"screen\" + 0.028*\"login\" + 0.024*\"phone\" + 0.020*\"cant\" + 0.020*\"code\" + 0.019*\"buggy\" + 0.015*\"account\" + 0.014*\"payment\" + 0.014*\"application\" + 0.014*\"store\"')]"
      ]
     },
     "execution_count": 117,
     "metadata": {},
     "output_type": "execute_result"
    }
   ],
   "source": [
    "lda_model.print_topics()"
   ]
  },
  {
   "cell_type": "code",
   "execution_count": 118,
   "metadata": {},
   "outputs": [
    {
     "data": {
      "text/html": [
       "\n",
       "<link rel=\"stylesheet\" type=\"text/css\" href=\"https://cdn.jsdelivr.net/gh/bmabey/pyLDAvis@3.4.0/pyLDAvis/js/ldavis.v1.0.0.css\">\n",
       "\n",
       "\n",
       "<div id=\"ldavis_el62653109496226883745783186\" style=\"background-color:white;\"></div>\n",
       "<script type=\"text/javascript\">\n",
       "\n",
       "var ldavis_el62653109496226883745783186_data = {\"mdsDat\": {\"x\": [0.11958792317105689, 0.10771572790975388, -0.10159596742483355, 0.021356902244547227, 0.055120345729218395, 0.04603290275693621, 0.041294460316969164, -0.08469457277142949, -0.053867230461906224, -0.15095049147031256], \"y\": [-0.0021130311316475093, 0.06182003495369064, -0.03063091582206972, -0.1516588835296631, 0.1112824617467427, -0.04707729228267567, -0.059508091606626186, -0.008089280267776977, 0.10858813507521473, 0.017386862864811056], \"topics\": [1, 2, 3, 4, 5, 6, 7, 8, 9, 10], \"cluster\": [1, 1, 1, 1, 1, 1, 1, 1, 1, 1], \"Freq\": [17.122881778595367, 13.623276560448815, 12.797202345275762, 12.737889050580753, 9.284957869781014, 8.606192016056266, 8.463078566729514, 8.380484337841429, 4.939734277317987, 4.0443031973730905]}, \"tinfo\": {\"Term\": [\"account\", \"rate\", \"sign\", \"time\", \"phone\", \"pocket\", \"bank\", \"transfer\", \"login\", \"interest\", \"screen\", \"singpass\", \"love\", \"apps\", \"download\", \"fast\", \"application\", \"support\", \"loan\", \"experience\", \"money\", \"number\", \"cant\", \"trust\", \"payee\", \"need\", \"error\", \"change\", \"email\", \"design\", \"type\", \"select\", \"answer\", \"condition\", \"recipient\", \"decrease\", \"suggest\", \"reply\", \"chance\", \"lack\", \"point\", \"consumer\", \"support\", \"drop\", \"grow\", \"trouble\", \"gripe\", \"secret\", \"cheer\", \"date\", \"slip\", \"reminder\", \"peep\", \"activate\", \"apple\", \"complaint\", \"beneficiary\", \"forgot\", \"implement\", \"safer\", \"increase\", \"useless\", \"name\", \"reason\", \"device\", \"work\", \"question\", \"notice\", \"interest\", \"rate\", \"money\", \"account\", \"number\", \"debit\", \"ocbc\", \"payee\", \"bank\", \"transfer\", \"apps\", \"login\", \"email\", \"feature\", \"fund\", \"please\", \"card\", \"wait\", \"issue\", \"pocket\", \"sign\", \"fast\", \"user\", \"time\", \"include\", \"feel\", \"continue\", \"nothing\", \"advice\", \"seamless\", \"simple\", \"offer\", \"exaggerate\", \"branch\", \"pertinent\", \"pain\", \"faster\", \"travel\", \"section\", \"management\", \"piece\", \"detrimental\", \"scene\", \"stop\", \"buzz\", \"queue\", \"setback\", \"human\", \"twitch\", \"farm\", \"website\", \"fill\", \"refresh\", \"debtor\", \"digital\", \"suggestion\", \"play\", \"clean\", \"function\", \"service\", \"interface\", \"hope\", \"need\", \"deposit\", \"transfer\", \"please\", \"bank\", \"payee\", \"news\", \"transparent\", \"improvement\", \"rating\", \"interest\", \"account\", \"problem\", \"register\", \"money\", \"rate\", \"banking\", \"wait\", \"number\", \"phone\", \"loan\", \"user\", \"display\", \"proper\", \"list\", \"overlay\", \"delete\", \"sent\", \"sept\", \"carry\", \"borrow\", \"waste\", \"amount\", \"beta\", \"unresponsiveness\", \"testflight\", \"hubby\", \"state\", \"mundane\", \"lending\", \"rule\", \"bode\", \"owner\", \"light\", \"failure\", \"programme\", \"mini\", \"resgistet\", \"amouny\", \"everbody\", \"clueless\", \"sunday\", \"space\", \"day\", \"wonder\", \"time\", \"switch\", \"option\", \"bait\", \"loan\", \"transaction\", \"criterion\", \"secure\", \"screen\", \"multiple\", \"email\", \"phone\", \"receive\", \"credit\", \"deposit\", \"told\", \"work\", \"issue\", \"account\", \"singpass\", \"launch\", \"update\", \"need\", \"payee\", \"money\", \"bank\", \"user\", \"please\", \"interest\", \"notification\", \"guess\", \"write\", \"registration\", \"le\", \"attempt\", \"salary\", \"serve\", \"promising\", \"spent\", \"permanent\", \"eligibility\", \"requirement\", \"assessment\", \"evaluation\", \"paid\", \"bankng\", \"exit\", \"objective\", \"risk\", \"browsing\", \"hello\", \"concern\", \"gather\", \"client\", \"soooo\", \"god\", \"faq\", \"amatuer\", \"round\", \"sign\", \"yesterday\", \"navigate\", \"error\", \"password\", \"case\", \"account\", \"asap\", \"process\", \"application\", \"login\", \"time\", \"singpass\", \"message\", \"something\", \"access\", \"look\", \"issue\", \"design\", \"limit\", \"want\", \"smooth\", \"flexiloan\", \"week\", \"register\", \"review\", \"rate\", \"interest\", \"bank\", \"pocket\", \"feature\", \"user\", \"waste\", \"love\", \"minimum\", \"convenient\", \"medium\", \"recommend\", \"developer\", \"platform\", \"wireframe\", \"haphazard\", \"legit\", \"fintech\", \"cashback\", \"face\", \"deliver\", \"marvel\", \"allocation\", \"mode\", \"area\", \"target\", \"library\", \"complain\", \"pure\", \"genius\", \"recovery\", \"baffling\", \"brighter\", \"decimal\", \"caught\", \"draw\", \"flawless\", \"hassle\", \"idea\", \"pocket\", \"payment\", \"experience\", \"staff\", \"link\", \"term\", \"problem\", \"user\", \"till\", \"ease\", \"fast\", \"interest\", \"year\", \"bank\", \"touch\", \"anything\", \"feature\", \"banking\", \"unique\", \"thing\", \"joke\", \"transfer\", \"card\", \"rate\", \"loan\", \"number\", \"apps\", \"simple\", \"launch\", \"customer\", \"ecosystem\", \"buddy\", \"change\", \"differ\", \"player\", \"digibank\", \"ignore\", \"giro\", \"period\", \"brilliant\", \"crab\", \"damm\", \"communication\", \"comprehensive\", \"responsive\", \"minute\", \"treat\", \"transparency\", \"breakthrough\", \"amongst\", \"seemless\", \"galaxy\", \"home\", \"awful\", \"vague\", \"lacklustre\", \"faux\", \"painful\", \"promise\", \"trust\", \"design\", \"quick\", \"bank\", \"experience\", \"singapore\", \"transaction\", \"rating\", \"banking\", \"grab\", \"product\", \"week\", \"click\", \"singtel\", \"fast\", \"email\", \"response\", \"sign\", \"service\", \"interest\", \"issue\", \"wait\", \"multiple\", \"rate\", \"interface\", \"user\", \"feature\", \"account\", \"month\", \"chat\", \"gxbank\", \"setup\", \"show\", \"folk\", \"insecure\", \"employer\", \"race\", \"incase\", \"organisation\", \"verify\", \"step\", \"assistance\", \"retrieve\", \"beware\", \"center\", \"myinfo\", \"shout\", \"selection\", \"legitimate\", \"disappear\", \"timer\", \"calculate\", \"worldwide\", \"dogshit\", \"thought\", \"implementation\", \"print\", \"finger\", \"sorry\", \"anyone\", \"provide\", \"singpass\", \"rate\", \"effort\", \"application\", \"interest\", \"flexiloan\", \"sign\", \"detail\", \"name\", \"security\", \"update\", \"bank\", \"amount\", \"super\", \"pocket\", \"user\", \"want\", \"goal\", \"deposit\", \"offer\", \"something\", \"interface\", \"month\", \"download\", \"fund\", \"trust\", \"information\", \"encourage\", \"none\", \"fingerprint\", \"repeat\", \"authentication\", \"mummy\", \"root\", \"software\", \"offset\", \"power\", \"restart\", \"withdraw\", \"reapply\", \"expectation\", \"part\", \"stage\", \"income\", \"incorrect\", \"avail\", \"end\", \"startup\", \"hopeless\", \"cover\", \"beautiful\", \"resolve\", \"plat\", \"scheme\", \"share\", \"flag\", \"force\", \"phone\", \"download\", \"security\", \"mean\", \"thank\", \"today\", \"hope\", \"setup\", \"wait\", \"singpass\", \"kind\", \"min\", \"apps\", \"loan\", \"error\", \"user\", \"super\", \"fund\", \"page\", \"bank\", \"time\", \"access\", \"login\", \"banking\", \"pocket\", \"grab\", \"update\", \"feature\", \"cool\", \"sgqr\", \"saver\", \"overlap\", \"grabpay\", \"post\", \"atleast\", \"business\", \"partner\", \"script\", \"revolution\", \"intern\", \"android\", \"ability\", \"competition\", \"functionality\", \"thru\", \"move\", \"sleek\", \"crash\", \"support\", \"invite\", \"everything\", \"portion\", \"reinstall\", \"focus\", \"popped\", \"perfect\", \"prone\", \"proceed\", \"apps\", \"transfer\", \"fast\", \"pocket\", \"time\", \"screen\", \"money\", \"review\", \"need\", \"loan\", \"interest\", \"payee\", \"straight\", \"cash\", \"something\", \"repayment\", \"ease\", \"quick\", \"useless\", \"spend\", \"star\", \"approval\", \"merchant\", \"foreigner\", \"code\", \"buggy\", \"inconvenience\", \"read\", \"ummmm\", \"doesnt\", \"tune\", \"okayyyy\", \"collect\", \"press\", \"nonsense\", \"malware\", \"efficient\", \"gift\", \"respond\", \"scam\", \"fake\", \"invite\", \"cant\", \"kudos\", \"correct\", \"hang\", \"friend\", \"screen\", \"team\", \"payment\", \"store\", \"paynow\", \"login\", \"phone\", \"application\", \"download\", \"number\", \"account\", \"work\", \"touch\", \"seem\", \"create\", \"stay\", \"proceed\", \"told\", \"mistake\", \"response\", \"advice\"], \"Freq\": [63.0, 44.0, 33.0, 29.0, 19.0, 27.0, 64.0, 19.0, 16.0, 61.0, 10.0, 18.0, 9.0, 12.0, 10.0, 15.0, 10.0, 5.0, 20.0, 14.0, 25.0, 12.0, 5.0, 10.0, 14.0, 14.0, 12.0, 6.0, 10.0, 6.0, 1.7748245776248885, 1.7748245776248885, 1.7748239925321587, 1.7748239925321587, 1.7748236024703388, 1.7618347388969842, 1.6903085178804107, 1.7564887466236885, 1.7411546363578971, 2.6103631300951937, 4.133850593913023, 2.5937704853673407, 3.3806361487899985, 2.4928037633974705, 2.4673758283859777, 0.9296699286228634, 0.9296699286228634, 0.9296698311074083, 0.9296698311074083, 0.9296698311074083, 0.9296698311074083, 0.9296698311074083, 0.9296697335919534, 0.9296697335919534, 0.9296696360764983, 0.9296696360764983, 0.9296695385610434, 0.9296694410455884, 0.9296694410455884, 0.9296694410455884, 4.6088569565145985, 2.6199873204096775, 2.6199791291114587, 3.4592445272404557, 1.7593888562550009, 7.075339933394715, 1.7748271130267181, 1.7416152993672556, 24.81445670280954, 18.557715327106614, 11.175003559098405, 23.79709590377419, 5.648924424274576, 2.4300332600532673, 1.6854776022403561, 5.9997159903755675, 15.476390775482704, 6.486784624697211, 4.604300254333967, 4.444577740301707, 3.385504120302948, 3.8302506570984263, 3.5532915525244504, 3.4694793593340685, 2.430019802920479, 2.9765623331150364, 2.9093441498688772, 3.4203643352135105, 3.3960447608634, 2.6975388263589863, 2.6259761345622477, 2.591168577997378, 1.7110410013460027, 2.7552618964377156, 1.572034776435689, 2.49973344525442, 2.403079824848411, 2.447919496414318, 6.584114982407249, 5.589992630218153, 0.8985537590122025, 0.8985537590122025, 0.8985537590122025, 0.8985536814271307, 0.8985536814271307, 0.8985536814271307, 0.8985536814271307, 0.8985536814271307, 0.8985536814271307, 0.8985536038420588, 0.8985536038420588, 0.8985536038420588, 0.8985536038420588, 0.8985534486719152, 0.8985534486719152, 0.8985534486719152, 0.8985534486719152, 0.8985534486719152, 0.8985533710868434, 0.8985533710868434, 0.8985532935017716, 0.8985532935017716, 6.412550802796878, 1.7154206786490807, 1.7154181959267831, 1.7154101270793158, 3.257430342638677, 4.410567954585017, 4.57172176926134, 3.2907950269153043, 5.762866445840499, 3.2529238913282783, 6.8234307914769055, 5.347471005981745, 17.227502024500303, 4.937166388194183, 1.7154147821836239, 1.4544566173355167, 1.7154309198785582, 2.5322865896800253, 11.041544941039698, 10.516152489786581, 2.3366823652323134, 2.1789964480952815, 5.178039174484709, 6.255699856202552, 3.437778704078179, 3.382912093003057, 2.527171095556002, 2.5354249058343123, 2.3813457635150925, 2.1912904234024757, 2.450331775663921, 2.4503314841417287, 4.790135827284977, 1.6599020013400927, 1.6599009810124192, 1.6587708952334137, 1.6385066045923111, 1.6383277557272473, 2.4466790025926093, 4.435192981875918, 4.001303303053544, 0.8694725185384571, 0.8694725185384571, 0.8694725185384571, 0.8694725185384571, 0.8694724456579089, 0.8694724456579089, 0.8694724456579089, 0.8694724456579089, 0.8694724456579089, 0.8694722998968127, 0.8694722998968127, 0.8694722998968127, 0.8694722998968127, 0.8694722270162646, 0.8694722270162646, 0.8694722270162646, 0.8694722270162646, 0.8694722270162646, 0.8694721541357165, 2.455625818678687, 2.428621680709397, 1.659902730145574, 12.945049951967102, 1.6598998149236495, 1.6599002522069382, 1.6598878625137594, 7.903501304608527, 2.8739610394010686, 1.6599088521116152, 1.4316389585684, 3.237245209302501, 2.43352158571998, 3.1253117652476754, 4.818581979779187, 1.6367777322300274, 1.5808582367977904, 2.3038306503568697, 2.423544675966905, 3.118626578330571, 3.0849327348501934, 5.667612962183536, 3.0275495064896996, 2.371318620951825, 2.4503717142042856, 2.4548028515294202, 2.455171044058476, 2.684527586574023, 2.441925733244825, 2.1302813672294696, 2.0231173720041085, 1.878300516163897, 2.4041085955611985, 1.6285909808161723, 3.1796482633042524, 2.4041206376588056, 2.4041159949223787, 3.1487334421220856, 0.8530720603015258, 0.8530720603015258, 0.8530720603015258, 0.8530720603015258, 0.8530720603015258, 0.8530719152160124, 0.8530719152160124, 0.8530719152160124, 0.8530719152160124, 0.8530718426732558, 0.8530718426732558, 0.8530718426732558, 0.8530717701304991, 0.8530717701304991, 0.8530717701304991, 0.8530717701304991, 0.8530717701304991, 0.8530716250449858, 0.8530716250449858, 0.8530715525022291, 0.8530715525022291, 0.8530714799594724, 0.8530714799594724, 0.8530714799594724, 17.238676508440715, 1.628593012013359, 2.358773435037292, 5.300999266663517, 2.295676760884974, 1.6032011610674488, 19.690418564142615, 1.53184868594963, 2.373239186144707, 3.924257005373159, 5.198234036881754, 7.869099904062891, 5.419105258283639, 1.6285911259016856, 3.457017524626308, 2.404134130611546, 2.4040987297462917, 3.9522550273951684, 2.3265593730831795, 1.5976998085726797, 2.379674018832296, 1.5510461109035532, 1.628595188296059, 1.6285837265405052, 1.9330768696667058, 2.404140079117593, 4.005284653033469, 4.477725739604532, 4.007635618691606, 3.071056109135789, 2.4041334051839796, 2.3676651458077553, 1.7528427947813132, 6.6182339171720646, 1.5813378465646784, 1.551334024737835, 1.406832965604004, 1.3665120813207614, 2.2370119919761873, 0.8283203582088783, 0.8283203053306945, 0.8283203053306945, 0.8283203053306945, 0.8283203053306945, 0.8283201995743267, 0.8283201995743267, 0.8283201995743267, 0.8283201995743267, 0.8283200938179589, 0.8283200938179589, 0.8283200938179589, 0.8283200938179589, 0.8283200409397751, 0.8283199351834073, 0.8283199351834073, 0.8283199351834073, 0.8283199351834073, 0.8283198294270395, 0.8283195650361201, 0.8283195650361201, 0.8283195650361201, 0.8283195650361201, 0.8283194592797524, 1.551349676680263, 1.5813391156410914, 9.770537237264687, 2.304331842409233, 4.835937926354529, 1.3898006910642262, 1.5813432401394338, 1.551338889530752, 2.21364152680408, 4.4556748311213035, 1.581351489136119, 1.5813287515170513, 2.7583179131176343, 5.369697928875612, 1.5813364717318976, 5.4351154337654695, 1.4092533058364591, 1.405324456774338, 2.4967534384132253, 2.51942993030012, 1.0085465529087638, 1.5813352026554846, 1.3710480776901677, 2.514221429188156, 1.5999855496219233, 3.006195187194376, 2.2298954344771764, 1.8993856339673179, 1.7480481659526603, 1.581321137058573, 1.5060590891634484, 3.702540595340491, 1.563453781985797, 1.5601166129729296, 3.8521419102072953, 0.8189527349004436, 0.8189527349004436, 0.81895263687527, 0.8189524408249226, 0.8189524408249226, 0.8189522937871621, 0.8189522937871621, 0.8189521957619884, 0.8189520977368147, 0.818951999711641, 0.818951999711641, 0.8189519016864674, 0.8189519016864674, 0.8189517546487068, 0.8189516566235331, 0.8189516566235331, 0.8189514605731858, 0.818949549082299, 0.8189494510571252, 0.8189487158683226, 0.8176885532480396, 0.8173590906392907, 0.8173385053528173, 0.8171142237554303, 0.8166642391956381, 1.5337958735872816, 4.467088329582492, 2.9134389274433055, 1.5634461360222498, 12.086446668424301, 3.890894398169781, 1.56347142651706, 2.3079738949674318, 2.304934722482561, 3.7726329076315466, 3.0502773646965706, 1.56346397660386, 1.563429667793071, 1.5634489787522865, 1.5634557424892706, 2.948323930203298, 2.230022120300813, 1.5634351572027971, 3.9507266115817745, 2.0068480113261606, 4.801328293195998, 2.3376559175586733, 2.2335400477339515, 1.5596409948302192, 3.2336865817149376, 1.5655917110238253, 1.912259992333089, 1.6582232455753563, 1.59618272105063, 1.5634864243686335, 1.538678455443103, 1.5386763347508865, 2.1980986389732435, 3.004127673544318, 0.8059745713391551, 0.8059745713391551, 0.8059744267465039, 0.8059744267465039, 0.8059744267465039, 0.8059744267465039, 0.8059744267465039, 0.8059744267465039, 0.8059744267465039, 0.8059744267465039, 0.8059743303514032, 0.8059742339563024, 0.8059742339563024, 0.8059742339563024, 0.8059740893636513, 0.8059740893636513, 0.8059739929685505, 0.8059738965734499, 0.8059738001783491, 0.8059735591905972, 0.8059734627954965, 0.8059729326224424, 0.8059729326224424, 0.8059727398322409, 0.8059726916346905, 0.8059724024493883, 1.5386797085794126, 1.5270510856013368, 5.092199209418219, 9.362775934398645, 1.5262538017230953, 3.0041120575379976, 7.459061378226254, 1.5370442693002146, 4.93230672791456, 2.0468296631820126, 1.538678841023506, 1.5384139472866654, 2.2846830319426066, 4.207041557339813, 1.5386640925730923, 1.5386838535687446, 2.6909579207205585, 2.3770623127882082, 1.498007530932913, 1.306243262505045, 1.4502960046595894, 1.5346385367709834, 1.5386229318650753, 1.4979640567424783, 1.534539731792722, 1.4653538833465807, 1.5333676637627938, 1.4654131663335375, 2.168623474730656, 1.5480533878568583, 1.5338545538492194, 1.4792510405177124, 1.3559114251633708, 1.3314166944583745, 0.8135810659357257, 0.8135810659357257, 0.8135810659357257, 0.8135809704813793, 0.8135809704813793, 0.8135809704813793, 0.8135809704813793, 0.8135808750270331, 0.8135807795726868, 0.8135807795726868, 0.8135807795726868, 0.8135806841183406, 0.8135806841183406, 0.8135803023009555, 0.8135802068466093, 0.8135801113922629, 0.8135798250292241, 0.8135798250292241, 0.8135791568488002, 0.8135789659401077, 0.8135785841227227, 0.8135777250336061, 0.8119857374465178, 0.8119079421543078, 2.2636429309988912, 7.275755544944441, 4.204002227503241, 2.2907069108880864, 1.4429696071353162, 2.2828428091162993, 1.7870145619435471, 2.2350728724342503, 1.4683479587237325, 3.698177428463034, 3.594430390406655, 1.5439531464128373, 1.5532167998096327, 2.581895739627626, 2.9585736717951274, 2.1793324978386694, 2.6126545663522345, 1.5532505906482124, 2.0056685874960976, 1.3711531933583538, 3.5866867520198604, 2.5966300725178386, 1.447938196767354, 2.034508781860682, 1.8010299326976553, 2.048459625476712, 1.5532056316511191, 1.539765468787633, 1.542869548673982, 1.9912707953093127, 1.369378776918628, 0.7172937254296784, 0.7172936129017893, 0.7172936129017893, 0.7172935566378447, 0.7172935003739002, 0.7172935003739002, 0.7172927126786762, 0.7172919249834524, 0.7172914748718959, 0.7172914748718959, 0.7172888304665015, 0.7136235157980015, 0.7135464341939514, 0.7124262190577194, 1.3693955435741076, 1.3693850784804191, 1.3434046394394097, 0.6520824070835554, 1.874902216801352, 0.7172911935521731, 0.7173034028281431, 0.7172976076418531, 0.7172892243141135, 0.7139604242980395, 0.7172954696119598, 0.7172956384037935, 0.7140993399771635, 1.3694137730921458, 2.566261527096673, 2.993077334931433, 2.3963597183119605, 3.253991700439847, 2.8384658157209244, 1.3693392796295456, 2.0214955612723107, 1.3668968617961035, 1.391646808369539, 1.304186081938155, 1.2978899214858746, 0.7392207973765427, 0.7173161184796141, 0.7173117298919383, 0.7173098731817678, 0.7173098169178231, 0.7173066098729831, 0.7173040217315333, 0.717300083255414, 0.717299689407802, 0.7172981140173542, 0.7172976639057977, 1.3540025128382924, 1.354002144318954, 1.9485312603384133, 1.8926342471093522, 0.7092394663259118, 0.7092393741960773, 0.70923932813116, 0.7092392360013254, 0.7092392360013254, 0.7092392360013254, 0.709239005676739, 0.7092381765082278, 0.709237715859055, 0.7092373012747994, 0.7092359193272809, 0.7091740541433686, 1.3540083170178703, 0.6447693113411311, 0.6447685282375374, 0.7092416313770242, 1.973143008604562, 0.7092410785980168, 0.7092419998963625, 0.6979595500305861, 0.7092421380911142, 3.223603748526652, 0.7092365181712057, 1.3540336527223764, 1.3540266508549492, 0.7092462378687526, 2.7773454401061306, 2.3704249127090975, 1.3540321786450233, 1.2895853325083884, 1.3540179906504999, 1.4596896210822436, 0.804666120958949, 0.7443817468130108, 0.7092828134130761, 0.7092600573439378, 0.7092530094115933, 0.7092528251519242, 0.70925052190606, 0.7092469288425118, 0.7092430133245426, 0.7092419077665278], \"Total\": [63.0, 44.0, 33.0, 29.0, 19.0, 27.0, 64.0, 19.0, 16.0, 61.0, 10.0, 18.0, 9.0, 12.0, 10.0, 15.0, 10.0, 5.0, 20.0, 14.0, 25.0, 12.0, 5.0, 10.0, 14.0, 14.0, 12.0, 6.0, 10.0, 6.0, 2.439776298333553, 2.4397763294652743, 2.4397762640474006, 2.4397764097515338, 2.4397763701345987, 2.4387061078806043, 2.3430702536863395, 2.4356019714939685, 2.4375961116085287, 3.936854281472574, 6.428573793573243, 4.099638726824784, 5.347800191342339, 4.078235905976808, 4.066954952685117, 1.5946215717381484, 1.594621592089887, 1.5946215326810051, 1.5946215508957404, 1.5946215896005609, 1.5946215956771654, 1.5946216156427406, 1.5946215443109253, 1.5946215967539477, 1.594621494919175, 1.594621507120181, 1.5946215299475304, 1.5946214553218034, 1.5946214808750716, 1.5946215246385513, 8.054248027357252, 4.712537032649009, 4.750340288472723, 6.425162103743193, 3.177557734723098, 15.106913770520906, 3.2566436028451546, 3.199421354207521, 61.29296963597216, 44.497549379484404, 25.520502301878885, 63.456096361309264, 12.612291567716028, 4.8226251399245355, 3.1671202360553017, 14.581662156443167, 64.66176934775812, 19.582374115041432, 12.933785578039759, 16.60171106591109, 10.19104942846222, 14.864374521509788, 13.270609379951626, 14.4469032073193, 7.119090879440031, 15.648900293928731, 14.867240495238567, 27.85565832665747, 33.0720410508727, 15.066698904656944, 20.802554135394058, 29.98595679042139, 2.383352899931642, 4.028621833181656, 2.3785608178270796, 3.938006256268879, 3.8395717086664596, 4.071370952960708, 11.06397374764673, 9.515879574531832, 1.5663340548106035, 1.5663340679354618, 1.5663340910726407, 1.566334042108456, 1.5663340478302663, 1.5663340539662045, 1.5663340586220338, 1.5663340877860736, 1.566334128030425, 1.5663340250215123, 1.566334048320375, 1.5663340494446238, 1.5663340801275623, 1.5663339331568795, 1.5663339910358045, 1.566333998182034, 1.5663340042832894, 1.5663340786845221, 1.566333983450995, 1.566334018465837, 1.56633395992874, 1.5663339844883075, 11.280545433955188, 3.0279651637384566, 3.027964622881928, 3.1587208037118972, 6.363859874253863, 9.424377095320654, 10.140429704378588, 7.002264816731575, 14.052441376972963, 7.751061078759511, 19.582374115041432, 14.4469032073193, 64.66176934775812, 14.581662156443167, 3.9117399089725686, 3.107459908973961, 3.9728578746504204, 7.008698236867191, 61.29296963597216, 63.456096361309264, 6.916188557680084, 6.225829983035341, 25.520502301878885, 44.497549379484404, 16.12284159242712, 15.648900293928731, 12.612291567716028, 19.459352257131712, 20.702685066905723, 20.802554135394058, 3.1207562875489523, 3.120756346253725, 6.331689807648717, 2.330326503439643, 2.3303264443745677, 2.3302730108069762, 2.3289511281958233, 2.32893959520251, 3.7653473450656723, 6.995817062776519, 6.809870337690754, 1.5398966168817714, 1.539896617549078, 1.5398966552552302, 1.539896658288058, 1.539896609691777, 1.5398966450307336, 1.5398966508019336, 1.539896688114732, 1.539896725239858, 1.539896564983735, 1.5398965740116517, 1.539896585404466, 1.5398966496574147, 1.5398965391573198, 1.5398965419105766, 1.5398965620628153, 1.5398965689369608, 1.5398965785720407, 1.5398965736385413, 4.618921586328041, 4.627585996280059, 3.083345276965926, 29.98595679042139, 3.175474736678395, 3.1754808221092747, 3.1754732666851813, 20.702685066905723, 6.97623095831354, 3.7579335901885247, 3.0787334113355773, 10.001990307254948, 6.912782762735925, 10.19104942846222, 19.459352257131712, 3.9212268334857745, 3.9342385793555272, 7.751061078759511, 8.446473997356106, 15.106913770520906, 14.867240495238567, 63.456096361309264, 18.881055563075222, 10.13587512246389, 11.580917758406436, 14.052441376972963, 14.581662156443167, 25.520502301878885, 64.66176934775812, 20.802554135394058, 14.4469032073193, 61.29296963597216, 3.0760271744423466, 2.3005070558590024, 4.503637090260045, 3.815647435632821, 3.921181762234218, 5.246920443579605, 1.5249870217345969, 1.5249870440671978, 1.524987055173947, 1.5249870560266796, 1.5249870606056575, 1.5249869739618864, 1.5249870029216466, 1.524987036928459, 1.5249870507101757, 1.5249870177754268, 1.5249870405988564, 1.5249870407555866, 1.5249870156392105, 1.5249870283834548, 1.52498703510018, 1.524987123757107, 1.524987132659896, 1.524986996384874, 1.5249870130195837, 1.5249870063274524, 1.5249870106423, 1.5249869994382153, 1.5249870164270323, 1.5249870778782841, 33.0720410508727, 3.1173742960660973, 4.764871627800314, 12.275684184561817, 4.716007077979563, 3.1439323130640897, 63.456096361309264, 3.053696354755519, 5.363981833066313, 10.42702887445806, 16.60171106591109, 29.98595679042139, 18.881055563075222, 3.6922125058874395, 10.665384348315722, 6.743505987674816, 6.841122005817887, 14.867240495238567, 6.915322843380844, 3.9373108584705747, 7.612988954253207, 3.9113565929464658, 4.418030407339049, 4.54253433398, 6.225829983035341, 11.446596242233717, 44.497549379484404, 61.29296963597216, 64.66176934775812, 27.85565832665747, 14.864374521509788, 20.802554135394058, 6.995817062776519, 9.141729578233925, 2.255504233922836, 2.2569944816528067, 2.2701355791641253, 2.2817870899358734, 3.791899182017812, 1.502485503629146, 1.502485543827327, 1.5024855576789624, 1.5024855840153182, 1.5024855997587556, 1.5024854779489876, 1.5024854937693368, 1.5024855403179003, 1.5024855752812012, 1.502485492972385, 1.5024855273609532, 1.5024855378165913, 1.5024855678065072, 1.5024855412791445, 1.5024854647567238, 1.5024854665887848, 1.5024855054093778, 1.5024855763989386, 1.5024855563811252, 1.502485461064366, 1.5024855231227727, 1.5024855608619068, 1.502485563019737, 1.502485548519195, 2.9947848580135763, 3.0725209412842234, 27.85565832665747, 5.088135268355591, 14.496724979246583, 3.0480558012220067, 3.7755278715529075, 3.9191829093037343, 6.916188557680084, 20.802554135394058, 4.572982047822147, 4.5978966396348655, 15.066698904656944, 61.29296963597216, 5.452751743604332, 64.66176934775812, 4.445338241653432, 4.434508999382498, 14.864374521509788, 16.12284159242712, 2.304071028428729, 6.265874097537972, 4.654441110630951, 19.582374115041432, 7.119090879440031, 44.497549379484404, 20.702685066905723, 12.612291567716028, 12.933785578039759, 11.06397374764673, 10.13587512246389, 5.247456631369193, 2.238472540896911, 2.238510748179757, 6.6623741214775825, 1.4939696289960365, 1.4939696622665115, 1.4939696940252383, 1.493969606933703, 1.493969654124579, 1.4939696802961875, 1.4939696820659583, 1.4939696586056361, 1.4939696270996132, 1.493969520301056, 1.493969613373525, 1.4939695556162447, 1.4939697018111162, 1.4939696903703013, 1.4939695845490029, 1.4939696794628623, 1.4939696798557376, 1.4939697083305916, 1.4939696645295015, 1.493969741482866, 1.4939841470290207, 1.493987921365334, 1.4939880876110576, 1.4939905895986223, 1.493995800670951, 2.995500692275225, 10.74500904578955, 6.915322843380844, 3.6435758798032425, 64.66176934775812, 14.496724979246583, 3.9004924490871375, 6.97623095831354, 7.008698236867191, 16.12284159242712, 12.871636810047823, 4.408562226360705, 4.54253433398, 4.5574411646225785, 4.5586903588106775, 15.066698904656944, 10.19104942846222, 5.239128084621635, 33.0720410508727, 9.424377095320654, 61.29296963597216, 14.867240495238567, 15.648900293928731, 6.912782762735925, 44.497549379484404, 10.140429704378588, 20.802554135394058, 14.864374521509788, 63.456096361309264, 10.988572018495338, 2.2148756252341677, 2.2148757577047107, 3.6789085613151733, 5.300957457770635, 1.4821712316742663, 1.4821712714382993, 1.4821711926164869, 1.4821712528392623, 1.4821712595439205, 1.4821712687921018, 1.4821712749129072, 1.4821712894084869, 1.482171326739747, 1.48217133334088, 1.482171252003691, 1.4821712055660163, 1.4821712736408268, 1.4821713053833974, 1.4821712250732804, 1.4821712306461199, 1.4821711892823792, 1.4821713500391716, 1.482171316320985, 1.4821713244512487, 1.4821712770353273, 1.482171270777439, 1.4821713179825677, 1.482171273413017, 1.4821713181286424, 1.4821713104541219, 2.959378588611648, 3.0602161910995105, 18.881055563075222, 44.497549379484404, 3.782733475861596, 10.42702887445806, 61.29296963597216, 4.418030407339049, 33.0720410508727, 7.675022450995748, 4.750340288472723, 5.186771149128254, 11.580917758406436, 64.66176934775812, 6.809870337690754, 6.817765452908894, 27.85565832665747, 20.802554135394058, 7.612988954253207, 5.391446707740801, 7.751061078759511, 9.515879574531832, 10.665384348315722, 10.140429704378588, 10.988572018495338, 10.275042210014043, 13.270609379951626, 10.74500904578955, 2.9671642516392995, 2.228739934678196, 2.2314662064858646, 2.3243919178397427, 2.2077183331910932, 2.226632189305716, 1.4890863057626123, 1.489086392385539, 1.4890863959470773, 1.4890862961474587, 1.4890863462039563, 1.4890863535551255, 1.4890863832655012, 1.489086259453603, 1.489086287478947, 1.4890863052995922, 1.4890863495348077, 1.4890863156256366, 1.4890863303577826, 1.489086235375024, 1.4890862915340777, 1.4890862577379094, 1.4890862856593499, 1.4890863394417508, 1.489086299031567, 1.4890862751506289, 1.4890862771943092, 1.4890862451306768, 1.4888974371100399, 1.488888264983525, 4.501029207039795, 19.459352257131712, 10.275042210014043, 5.186771149128254, 3.020475815381006, 6.125622789009387, 4.608746135984419, 7.002264816731575, 3.6789085613151733, 15.648900293928731, 18.881055563075222, 4.577409111985268, 4.666246998410544, 12.933785578039759, 20.702685066905723, 12.275684184561817, 20.802554135394058, 6.817765452908894, 13.270609379951626, 5.375808534438955, 64.66176934775812, 29.98595679042139, 6.743505987674816, 16.60171106591109, 16.12284159242712, 27.85565832665747, 12.871636810047823, 11.580917758406436, 14.864374521509788, 2.71213017855158, 2.0536386537529157, 1.4015526506032, 1.401552725980976, 1.4015527405236547, 1.4015527468132019, 1.4015527779934502, 1.4015528275360511, 1.4015528685875733, 1.4015529097367299, 1.4015530219909598, 1.401553117599124, 1.4015536616189248, 1.4023312838937307, 1.4023477807516815, 1.4025854312121695, 2.844065058258237, 2.870682183444336, 2.9043028484279447, 1.4425165228685264, 5.347800191342339, 2.0463164372732763, 2.1411709405236947, 2.146055191259016, 2.146056550613939, 2.146762792849559, 2.1770725651885154, 2.218419585138231, 2.2190976125866952, 4.276251708573112, 12.933785578039759, 19.582374115041432, 15.066698904656944, 27.85565832665747, 29.98595679042139, 10.001990307254948, 25.520502301878885, 11.446596242233717, 14.052441376972963, 20.702685066905723, 61.29296963597216, 14.581662156443167, 3.626891906026203, 3.6268932724013303, 10.665384348315722, 5.296797253289157, 4.5978966396348655, 3.6435758798032425, 4.712537032649009, 3.0371357307802387, 4.613554762293363, 3.781638429436555, 2.0389940319477926, 2.038994045053587, 3.4278123127224305, 3.477968378754952, 1.3942304551860178, 1.394230474881676, 1.3942304231983096, 1.3942304029871422, 1.3942304355927506, 1.3942305194357276, 1.3942305020794, 1.3942306097232553, 1.3942307384228356, 1.3942308748675485, 1.3942309957279106, 1.3942477840896232, 2.829422401297558, 1.3977814070421628, 1.4202828464834667, 2.0463164372732763, 5.791215269213411, 2.133762064047419, 2.1338494893180093, 2.130441997030752, 2.1846059996871547, 10.001990307254948, 2.211326581385461, 5.088135268355591, 5.207656427353243, 2.891468177657923, 16.60171106591109, 19.459352257131712, 10.42702887445806, 10.275042210014043, 12.612291567716028, 63.456096361309264, 15.106913770520906, 4.445338241653432, 3.6952070735465807, 4.599693902031561, 2.9437992748271804, 4.276251708573112, 8.446473997356106, 3.0149038365662024, 5.239128084621635, 3.8395717086664596], \"Category\": [\"Default\", \"Default\", \"Default\", \"Default\", \"Default\", \"Default\", \"Default\", \"Default\", \"Default\", \"Default\", \"Default\", \"Default\", \"Default\", \"Default\", \"Default\", \"Default\", \"Default\", \"Default\", \"Default\", \"Default\", \"Default\", \"Default\", \"Default\", \"Default\", \"Default\", \"Default\", \"Default\", \"Default\", \"Default\", \"Default\", \"Topic1\", \"Topic1\", \"Topic1\", \"Topic1\", \"Topic1\", \"Topic1\", \"Topic1\", \"Topic1\", \"Topic1\", \"Topic1\", \"Topic1\", \"Topic1\", \"Topic1\", \"Topic1\", \"Topic1\", \"Topic1\", \"Topic1\", \"Topic1\", \"Topic1\", \"Topic1\", \"Topic1\", \"Topic1\", \"Topic1\", \"Topic1\", \"Topic1\", \"Topic1\", \"Topic1\", \"Topic1\", \"Topic1\", \"Topic1\", \"Topic1\", \"Topic1\", \"Topic1\", \"Topic1\", \"Topic1\", \"Topic1\", \"Topic1\", \"Topic1\", \"Topic1\", \"Topic1\", \"Topic1\", \"Topic1\", \"Topic1\", \"Topic1\", \"Topic1\", \"Topic1\", \"Topic1\", \"Topic1\", \"Topic1\", \"Topic1\", \"Topic1\", \"Topic1\", \"Topic1\", \"Topic1\", \"Topic1\", \"Topic1\", \"Topic1\", \"Topic1\", \"Topic1\", \"Topic1\", \"Topic1\", \"Topic1\", \"Topic2\", \"Topic2\", \"Topic2\", \"Topic2\", \"Topic2\", \"Topic2\", \"Topic2\", \"Topic2\", \"Topic2\", \"Topic2\", \"Topic2\", \"Topic2\", \"Topic2\", \"Topic2\", \"Topic2\", \"Topic2\", \"Topic2\", \"Topic2\", \"Topic2\", \"Topic2\", \"Topic2\", \"Topic2\", \"Topic2\", \"Topic2\", \"Topic2\", \"Topic2\", \"Topic2\", \"Topic2\", \"Topic2\", \"Topic2\", \"Topic2\", \"Topic2\", \"Topic2\", \"Topic2\", \"Topic2\", \"Topic2\", \"Topic2\", \"Topic2\", \"Topic2\", \"Topic2\", \"Topic2\", \"Topic2\", \"Topic2\", \"Topic2\", \"Topic2\", \"Topic2\", \"Topic2\", \"Topic2\", \"Topic2\", \"Topic2\", \"Topic2\", \"Topic2\", \"Topic2\", \"Topic2\", \"Topic2\", \"Topic2\", \"Topic2\", \"Topic2\", \"Topic2\", \"Topic2\", \"Topic3\", \"Topic3\", \"Topic3\", \"Topic3\", \"Topic3\", \"Topic3\", \"Topic3\", \"Topic3\", \"Topic3\", \"Topic3\", \"Topic3\", \"Topic3\", \"Topic3\", \"Topic3\", \"Topic3\", \"Topic3\", \"Topic3\", \"Topic3\", \"Topic3\", \"Topic3\", \"Topic3\", \"Topic3\", \"Topic3\", \"Topic3\", \"Topic3\", \"Topic3\", \"Topic3\", \"Topic3\", \"Topic3\", \"Topic3\", \"Topic3\", \"Topic3\", \"Topic3\", \"Topic3\", \"Topic3\", \"Topic3\", \"Topic3\", \"Topic3\", \"Topic3\", \"Topic3\", \"Topic3\", \"Topic3\", \"Topic3\", \"Topic3\", \"Topic3\", \"Topic3\", \"Topic3\", \"Topic3\", \"Topic3\", \"Topic3\", \"Topic3\", \"Topic3\", \"Topic3\", \"Topic3\", \"Topic3\", \"Topic3\", \"Topic3\", \"Topic3\", \"Topic3\", \"Topic3\", \"Topic3\", \"Topic3\", \"Topic4\", \"Topic4\", \"Topic4\", \"Topic4\", \"Topic4\", \"Topic4\", \"Topic4\", \"Topic4\", \"Topic4\", \"Topic4\", \"Topic4\", \"Topic4\", \"Topic4\", \"Topic4\", \"Topic4\", \"Topic4\", \"Topic4\", \"Topic4\", \"Topic4\", \"Topic4\", \"Topic4\", \"Topic4\", \"Topic4\", \"Topic4\", \"Topic4\", \"Topic4\", \"Topic4\", \"Topic4\", \"Topic4\", \"Topic4\", \"Topic4\", \"Topic4\", \"Topic4\", \"Topic4\", \"Topic4\", \"Topic4\", \"Topic4\", \"Topic4\", \"Topic4\", \"Topic4\", \"Topic4\", \"Topic4\", \"Topic4\", \"Topic4\", \"Topic4\", \"Topic4\", \"Topic4\", \"Topic4\", \"Topic4\", \"Topic4\", \"Topic4\", \"Topic4\", \"Topic4\", \"Topic4\", \"Topic4\", \"Topic4\", \"Topic4\", \"Topic4\", \"Topic4\", \"Topic4\", \"Topic4\", \"Topic4\", \"Topic4\", \"Topic5\", \"Topic5\", \"Topic5\", \"Topic5\", \"Topic5\", \"Topic5\", \"Topic5\", \"Topic5\", \"Topic5\", \"Topic5\", \"Topic5\", \"Topic5\", \"Topic5\", \"Topic5\", \"Topic5\", \"Topic5\", \"Topic5\", \"Topic5\", \"Topic5\", \"Topic5\", \"Topic5\", \"Topic5\", \"Topic5\", \"Topic5\", \"Topic5\", \"Topic5\", \"Topic5\", \"Topic5\", \"Topic5\", \"Topic5\", \"Topic5\", \"Topic5\", \"Topic5\", \"Topic5\", \"Topic5\", \"Topic5\", \"Topic5\", \"Topic5\", \"Topic5\", \"Topic5\", \"Topic5\", \"Topic5\", \"Topic5\", \"Topic5\", \"Topic5\", \"Topic5\", \"Topic5\", \"Topic5\", \"Topic5\", \"Topic5\", \"Topic5\", \"Topic5\", \"Topic5\", \"Topic5\", \"Topic5\", \"Topic5\", \"Topic5\", \"Topic5\", \"Topic5\", \"Topic5\", \"Topic5\", \"Topic6\", \"Topic6\", \"Topic6\", \"Topic6\", \"Topic6\", \"Topic6\", \"Topic6\", \"Topic6\", \"Topic6\", \"Topic6\", \"Topic6\", \"Topic6\", \"Topic6\", \"Topic6\", \"Topic6\", \"Topic6\", \"Topic6\", \"Topic6\", \"Topic6\", \"Topic6\", \"Topic6\", \"Topic6\", \"Topic6\", \"Topic6\", \"Topic6\", \"Topic6\", \"Topic6\", \"Topic6\", \"Topic6\", \"Topic6\", \"Topic6\", \"Topic6\", \"Topic6\", \"Topic6\", \"Topic6\", \"Topic6\", \"Topic6\", \"Topic6\", \"Topic6\", \"Topic6\", \"Topic6\", \"Topic6\", \"Topic6\", \"Topic6\", \"Topic6\", \"Topic6\", \"Topic6\", \"Topic6\", \"Topic6\", \"Topic6\", \"Topic6\", \"Topic6\", \"Topic6\", \"Topic6\", \"Topic6\", \"Topic6\", \"Topic6\", \"Topic6\", \"Topic6\", \"Topic7\", \"Topic7\", \"Topic7\", \"Topic7\", \"Topic7\", \"Topic7\", \"Topic7\", \"Topic7\", \"Topic7\", \"Topic7\", \"Topic7\", \"Topic7\", \"Topic7\", \"Topic7\", \"Topic7\", \"Topic7\", \"Topic7\", \"Topic7\", \"Topic7\", \"Topic7\", \"Topic7\", \"Topic7\", \"Topic7\", \"Topic7\", \"Topic7\", \"Topic7\", \"Topic7\", \"Topic7\", \"Topic7\", \"Topic7\", \"Topic7\", \"Topic7\", \"Topic7\", \"Topic7\", \"Topic7\", \"Topic7\", \"Topic7\", \"Topic7\", \"Topic7\", \"Topic7\", \"Topic7\", \"Topic7\", \"Topic7\", \"Topic7\", \"Topic7\", \"Topic7\", \"Topic7\", \"Topic7\", \"Topic7\", \"Topic7\", \"Topic7\", \"Topic7\", \"Topic7\", \"Topic7\", \"Topic7\", \"Topic7\", \"Topic7\", \"Topic7\", \"Topic8\", \"Topic8\", \"Topic8\", \"Topic8\", \"Topic8\", \"Topic8\", \"Topic8\", \"Topic8\", \"Topic8\", \"Topic8\", \"Topic8\", \"Topic8\", \"Topic8\", \"Topic8\", \"Topic8\", \"Topic8\", \"Topic8\", \"Topic8\", \"Topic8\", \"Topic8\", \"Topic8\", \"Topic8\", \"Topic8\", \"Topic8\", \"Topic8\", \"Topic8\", \"Topic8\", \"Topic8\", \"Topic8\", \"Topic8\", \"Topic8\", \"Topic8\", \"Topic8\", \"Topic8\", \"Topic8\", \"Topic8\", \"Topic8\", \"Topic8\", \"Topic8\", \"Topic8\", \"Topic8\", \"Topic8\", \"Topic8\", \"Topic8\", \"Topic8\", \"Topic8\", \"Topic8\", \"Topic8\", \"Topic8\", \"Topic8\", \"Topic8\", \"Topic8\", \"Topic8\", \"Topic8\", \"Topic8\", \"Topic8\", \"Topic8\", \"Topic8\", \"Topic8\", \"Topic9\", \"Topic9\", \"Topic9\", \"Topic9\", \"Topic9\", \"Topic9\", \"Topic9\", \"Topic9\", \"Topic9\", \"Topic9\", \"Topic9\", \"Topic9\", \"Topic9\", \"Topic9\", \"Topic9\", \"Topic9\", \"Topic9\", \"Topic9\", \"Topic9\", \"Topic9\", \"Topic9\", \"Topic9\", \"Topic9\", \"Topic9\", \"Topic9\", \"Topic9\", \"Topic9\", \"Topic9\", \"Topic9\", \"Topic9\", \"Topic9\", \"Topic9\", \"Topic9\", \"Topic9\", \"Topic9\", \"Topic9\", \"Topic9\", \"Topic9\", \"Topic9\", \"Topic9\", \"Topic9\", \"Topic9\", \"Topic9\", \"Topic9\", \"Topic9\", \"Topic9\", \"Topic9\", \"Topic9\", \"Topic9\", \"Topic9\", \"Topic9\", \"Topic9\", \"Topic10\", \"Topic10\", \"Topic10\", \"Topic10\", \"Topic10\", \"Topic10\", \"Topic10\", \"Topic10\", \"Topic10\", \"Topic10\", \"Topic10\", \"Topic10\", \"Topic10\", \"Topic10\", \"Topic10\", \"Topic10\", \"Topic10\", \"Topic10\", \"Topic10\", \"Topic10\", \"Topic10\", \"Topic10\", \"Topic10\", \"Topic10\", \"Topic10\", \"Topic10\", \"Topic10\", \"Topic10\", \"Topic10\", \"Topic10\", \"Topic10\", \"Topic10\", \"Topic10\", \"Topic10\", \"Topic10\", \"Topic10\", \"Topic10\", \"Topic10\", \"Topic10\", \"Topic10\", \"Topic10\", \"Topic10\", \"Topic10\", \"Topic10\", \"Topic10\", \"Topic10\"], \"logprob\": [30.0, 29.0, 28.0, 27.0, 26.0, 25.0, 24.0, 23.0, 22.0, 21.0, 20.0, 19.0, 18.0, 17.0, 16.0, 15.0, 14.0, 13.0, 12.0, 11.0, 10.0, 9.0, 8.0, 7.0, 6.0, 5.0, 4.0, 3.0, 2.0, 1.0, -5.4638, -5.4638, -5.4638, -5.4638, -5.4638, -5.4711, -5.5125, -5.4741, -5.4829, -5.078, -4.6182, -5.0843, -4.8194, -5.124, -5.1343, -6.1104, -6.1104, -6.1104, -6.1104, -6.1104, -6.1104, -6.1104, -6.1104, -6.1104, -6.1104, -6.1104, -6.1104, -6.1104, -6.1104, -6.1104, -4.5095, -5.0743, -5.0743, -4.7964, -5.4725, -4.0808, -5.4638, -5.4826, -2.826, -3.1166, -3.6238, -2.8679, -4.306, -5.1495, -5.5154, -4.2457, -3.2981, -4.1677, -4.5105, -4.5458, -4.818, -4.6945, -4.7696, -4.7935, -5.1496, -4.9467, -4.9695, -4.8077, -4.8148, -5.0451, -5.072, -5.0853, -5.2717, -4.7953, -5.3564, -4.8926, -4.9321, -4.9136, -3.9242, -4.0878, -5.9158, -5.9158, -5.9158, -5.9158, -5.9158, -5.9158, -5.9158, -5.9158, -5.9158, -5.9158, -5.9158, -5.9158, -5.9158, -5.9158, -5.9158, -5.9158, -5.9158, -5.9158, -5.9158, -5.9158, -5.9158, -5.9158, -3.9506, -5.2692, -5.2692, -5.2692, -4.6279, -4.3248, -4.2889, -4.6177, -4.0574, -4.6293, -3.8885, -4.1322, -2.9623, -4.212, -5.2692, -5.4342, -5.2692, -4.8797, -3.4072, -3.4559, -4.9601, -5.03, -4.1644, -3.9753, -4.574, -4.5901, -4.8817, -4.8785, -4.9412, -5.0243, -4.85, -4.85, -4.1797, -5.2395, -5.2395, -5.2402, -5.2525, -5.2526, -4.8515, -4.2567, -4.3596, -5.8861, -5.8861, -5.8861, -5.8861, -5.8861, -5.8861, -5.8861, -5.8861, -5.8861, -5.8861, -5.8861, -5.8861, -5.8861, -5.8861, -5.8861, -5.8861, -5.8861, -5.8861, -5.8861, -4.8479, -4.8589, -5.2395, -3.1856, -5.2395, -5.2395, -5.2395, -3.679, -4.6906, -5.2395, -5.3874, -4.5715, -4.8569, -4.6067, -4.1738, -5.2535, -5.2883, -4.9117, -4.861, -4.6089, -4.6197, -4.0115, -4.6385, -4.8828, -4.85, -4.8482, -4.8481, -4.7588, -4.8535, -4.99, -5.0416, -5.1159, -4.8644, -5.2539, -4.5848, -4.8644, -4.8644, -4.5946, -5.9005, -5.9005, -5.9005, -5.9005, -5.9005, -5.9005, -5.9005, -5.9005, -5.9005, -5.9005, -5.9005, -5.9005, -5.9005, -5.9005, -5.9005, -5.9005, -5.9005, -5.9005, -5.9005, -5.9005, -5.9005, -5.9005, -5.9005, -5.9005, -2.8945, -5.2539, -4.8835, -4.0737, -4.9106, -5.2696, -2.7615, -5.3151, -4.8774, -4.3744, -4.0933, -3.6787, -4.0517, -5.2539, -4.5012, -4.8644, -4.8644, -4.3673, -4.8972, -5.2731, -4.8747, -5.3027, -5.2539, -5.2539, -5.0825, -4.8644, -4.354, -4.2425, -4.3534, -4.6196, -4.8644, -4.8797, -5.1804, -3.5356, -4.9672, -4.9863, -5.0841, -5.1132, -4.6203, -5.6138, -5.6138, -5.6138, -5.6138, -5.6138, -5.6138, -5.6138, -5.6138, -5.6138, -5.6138, -5.6138, -5.6138, -5.6138, -5.6138, -5.6138, -5.6138, -5.6138, -5.6138, -5.6138, -5.6138, -5.6138, -5.6138, -5.6138, -5.6138, -4.9863, -4.9672, -3.1461, -4.5906, -3.8494, -5.0963, -4.9672, -4.9863, -4.6308, -3.9313, -4.9672, -4.9672, -4.4108, -3.7447, -4.9672, -3.7326, -5.0824, -5.0852, -4.5104, -4.5014, -5.4169, -4.9672, -5.1099, -4.5035, -4.9554, -4.3248, -4.6235, -4.7839, -4.8669, -4.9672, -5.0159, -4.0405, -4.9026, -4.9048, -4.0009, -5.5492, -5.5492, -5.5493, -5.5493, -5.5493, -5.5493, -5.5493, -5.5493, -5.5493, -5.5493, -5.5493, -5.5493, -5.5493, -5.5493, -5.5493, -5.5493, -5.5493, -5.5493, -5.5493, -5.5493, -5.5508, -5.5512, -5.5512, -5.5515, -5.552, -4.9218, -3.8528, -4.2802, -4.9026, -2.8574, -3.9909, -4.9026, -4.5132, -4.5145, -4.0217, -4.2343, -4.9026, -4.9026, -4.9026, -4.9026, -4.2683, -4.5475, -4.9026, -3.9756, -4.653, -3.7806, -4.5004, -4.5459, -4.9051, -4.1759, -4.9013, -4.7012, -4.8438, -4.8819, -4.9026, -4.9018, -4.9018, -4.5452, -4.2328, -5.5485, -5.5485, -5.5485, -5.5485, -5.5485, -5.5485, -5.5485, -5.5485, -5.5485, -5.5485, -5.5485, -5.5485, -5.5485, -5.5485, -5.5485, -5.5485, -5.5485, -5.5485, -5.5485, -5.5485, -5.5485, -5.5485, -5.5485, -5.5485, -5.5485, -5.5485, -4.9018, -4.9094, -3.705, -3.096, -4.9099, -4.2328, -3.3233, -4.9029, -3.7369, -4.6165, -4.9018, -4.902, -4.5065, -3.896, -4.9018, -4.9018, -4.3429, -4.4669, -4.9286, -5.0656, -4.961, -4.9045, -4.9019, -4.9286, -4.9045, -4.9507, -4.9053, -4.9506, -4.5489, -4.8859, -4.8952, -4.9314, -5.0185, -5.0367, -5.5293, -5.5293, -5.5293, -5.5293, -5.5293, -5.5293, -5.5293, -5.5293, -5.5293, -5.5293, -5.5293, -5.5293, -5.5293, -5.5293, -5.5293, -5.5293, -5.5293, -5.5293, -5.5293, -5.5293, -5.5293, -5.5293, -5.5312, -5.5313, -4.506, -3.3384, -3.8869, -4.4941, -4.9562, -4.4975, -4.7424, -4.5187, -4.9388, -4.0151, -4.0436, -4.8886, -4.8826, -4.3744, -4.2382, -4.5439, -4.3626, -4.8826, -4.627, -5.0073, -4.0457, -4.3687, -4.9528, -4.6127, -4.7346, -4.6059, -4.8826, -4.8913, -4.8893, -4.1056, -4.48, -5.1266, -5.1266, -5.1266, -5.1266, -5.1266, -5.1266, -5.1266, -5.1266, -5.1266, -5.1266, -5.1266, -5.1318, -5.1319, -5.1334, -4.48, -4.48, -4.4991, -5.2219, -4.1658, -5.1266, -5.1266, -5.1266, -5.1266, -5.1313, -5.1266, -5.1266, -5.1311, -4.48, -3.8519, -3.698, -3.9204, -3.6145, -3.7511, -4.48, -4.0905, -4.4818, -4.4639, -4.5288, -4.5336, -5.0965, -5.1266, -5.1266, -5.1266, -5.1266, -5.1266, -5.1266, -5.1266, -5.1266, -5.1266, -5.1266, -4.2913, -4.2913, -3.9273, -3.9564, -4.9379, -4.9379, -4.9379, -4.9379, -4.9379, -4.9379, -4.9379, -4.9379, -4.9379, -4.9379, -4.9379, -4.938, -4.2913, -5.0332, -5.0332, -4.9379, -3.9147, -4.9379, -4.9379, -4.9539, -4.9379, -3.4238, -4.9379, -4.2913, -4.2913, -4.9379, -3.5729, -3.7313, -4.2913, -4.34, -4.2913, -4.2161, -4.8117, -4.8895, -4.9378, -4.9379, -4.9379, -4.9379, -4.9379, -4.9379, -4.9379, -4.9379], \"loglift\": [30.0, 29.0, 28.0, 27.0, 26.0, 25.0, 24.0, 23.0, 22.0, 21.0, 20.0, 19.0, 18.0, 17.0, 16.0, 15.0, 14.0, 13.0, 12.0, 11.0, 10.0, 9.0, 8.0, 7.0, 6.0, 5.0, 4.0, 3.0, 2.0, 1.0, 1.4465, 1.4465, 1.4465, 1.4465, 1.4465, 1.4396, 1.4382, 1.4379, 1.4283, 1.3539, 1.3232, 1.307, 1.3061, 1.2725, 1.265, 1.2252, 1.2252, 1.2252, 1.2252, 1.2252, 1.2252, 1.2252, 1.2252, 1.2252, 1.2252, 1.2252, 1.2252, 1.2252, 1.2252, 1.2252, 1.2065, 1.1777, 1.1697, 1.1456, 1.1736, 1.0062, 1.1578, 1.1566, 0.8605, 0.8902, 0.939, 0.784, 0.9615, 1.0793, 1.134, 0.8767, 0.3349, 0.6599, 0.7319, 0.4469, 0.6627, 0.4087, 0.4471, 0.3383, 0.6899, 0.1051, 0.1335, -0.3325, -0.5113, 0.0446, -0.3049, -0.6839, 1.662, 1.6135, 1.5793, 1.5389, 1.5248, 1.4846, 1.4744, 1.4614, 1.4377, 1.4377, 1.4377, 1.4377, 1.4377, 1.4377, 1.4377, 1.4377, 1.4377, 1.4377, 1.4377, 1.4377, 1.4377, 1.4377, 1.4377, 1.4377, 1.4377, 1.4377, 1.4377, 1.4377, 1.4377, 1.4377, 1.4286, 1.4252, 1.4252, 1.3829, 1.3237, 1.2341, 1.1967, 1.2383, 1.102, 1.1251, 0.9391, 0.9995, 0.6707, 0.9104, 1.1691, 1.2342, 1.1536, 0.9754, 0.2794, 0.196, 0.9083, 0.9435, 0.3983, 0.0314, 0.448, 0.4617, 0.3858, -0.0446, -0.1692, -0.2572, 1.8141, 1.8141, 1.7769, 1.7167, 1.7167, 1.716, 1.7043, 1.7042, 1.6248, 1.6002, 1.5242, 1.4844, 1.4844, 1.4844, 1.4844, 1.4844, 1.4844, 1.4844, 1.4844, 1.4844, 1.4844, 1.4844, 1.4844, 1.4844, 1.4844, 1.4844, 1.4844, 1.4844, 1.4844, 1.4844, 1.4242, 1.4112, 1.4367, 1.2159, 1.4072, 1.4072, 1.4072, 1.093, 1.1691, 1.2388, 1.2902, 0.9279, 1.0119, 0.874, 0.6601, 1.1823, 1.1442, 0.8427, 0.8074, 0.4782, 0.4833, -0.3596, 0.2255, 0.6033, 0.5028, 0.3112, 0.2744, -0.196, -1.2204, -0.2229, 0.0901, -1.4294, 1.8141, 1.7152, 1.7125, 1.5987, 1.5714, 1.5499, 1.4797, 1.4797, 1.4797, 1.4797, 1.4797, 1.4797, 1.4797, 1.4797, 1.4797, 1.4797, 1.4797, 1.4797, 1.4797, 1.4797, 1.4797, 1.4797, 1.4797, 1.4797, 1.4797, 1.4797, 1.4797, 1.4797, 1.4797, 1.4797, 1.4091, 1.4113, 1.3575, 1.2209, 1.3407, 1.3871, 0.8904, 1.3707, 1.2451, 1.0834, 0.8994, 0.7228, 0.8124, 1.2421, 0.934, 1.0292, 1.0148, 0.7357, 0.9712, 1.1587, 0.8977, 1.1356, 1.0626, 1.0348, 0.891, 0.5001, -0.3472, -0.556, -0.7204, -0.1444, 0.2388, -0.1126, 0.6765, 2.0538, 2.0217, 2.0019, 1.8983, 1.8641, 1.849, 1.7813, 1.7813, 1.7813, 1.7813, 1.7813, 1.7813, 1.7813, 1.7813, 1.7813, 1.7813, 1.7813, 1.7813, 1.7813, 1.7813, 1.7813, 1.7813, 1.7813, 1.7813, 1.7813, 1.7813, 1.7813, 1.7813, 1.7813, 1.7813, 1.719, 1.7125, 1.3291, 1.5847, 1.2789, 1.5914, 1.5065, 1.45, 1.2375, 0.8359, 1.3149, 1.3094, 0.6789, -0.0581, 1.1389, -0.0995, 1.228, 1.2276, 0.5928, 0.5206, 1.5506, 0.9999, 1.1545, 0.3241, 0.884, -0.318, 0.1485, 0.4836, 0.3754, 0.4313, 0.4702, 2.104, 2.0938, 2.0916, 1.9048, 1.8515, 1.8515, 1.8515, 1.8515, 1.8515, 1.8515, 1.8515, 1.8515, 1.8515, 1.8515, 1.8515, 1.8515, 1.8515, 1.8515, 1.8515, 1.8515, 1.8515, 1.8515, 1.8515, 1.8515, 1.85, 1.8496, 1.8495, 1.8493, 1.8487, 1.7833, 1.575, 1.5883, 1.6066, 0.7756, 1.1374, 1.5385, 1.3465, 1.3406, 1.0002, 1.0129, 1.416, 1.3861, 1.3828, 1.3826, 0.8214, 0.9332, 1.2434, 0.3279, 0.906, -0.0941, 0.6027, 0.5059, 0.9638, -0.1691, 0.5844, 0.0659, 0.2595, -1.23, 0.5028, 2.1052, 2.1052, 1.9544, 1.9016, 1.8602, 1.8602, 1.8602, 1.8602, 1.8602, 1.8602, 1.8602, 1.8602, 1.8602, 1.8602, 1.8602, 1.8602, 1.8602, 1.8602, 1.8602, 1.8602, 1.8602, 1.8602, 1.8602, 1.8602, 1.8602, 1.8602, 1.8602, 1.8602, 1.8602, 1.8602, 1.8154, 1.7743, 1.159, 0.9108, 1.5618, 1.225, 0.3632, 1.4136, 0.5666, 1.1478, 1.3422, 1.2541, 0.8463, -0.263, 0.982, 0.9809, 0.1323, 0.3002, 0.8437, 1.0518, 0.7934, 0.6448, 0.5333, 0.557, 0.5008, 0.5218, 0.3114, 0.4772, 2.1658, 2.1148, 2.1044, 2.0273, 1.9918, 1.965, 1.8748, 1.8748, 1.8748, 1.8748, 1.8748, 1.8748, 1.8748, 1.8748, 1.8748, 1.8748, 1.8748, 1.8748, 1.8748, 1.8748, 1.8748, 1.8748, 1.8748, 1.8748, 1.8748, 1.8748, 1.8748, 1.8748, 1.873, 1.8729, 1.7919, 1.4955, 1.5856, 1.662, 1.7406, 1.4922, 1.5319, 1.3373, 1.5608, 1.0367, 0.8205, 1.3925, 1.3792, 0.8679, 0.5337, 0.7507, 0.4046, 1.0001, 0.5897, 1.113, -0.4127, 0.0327, 0.9408, 0.38, 0.2874, -0.1307, 0.3646, 0.4615, 0.2139, 2.6989, 2.6026, 2.338, 2.338, 2.338, 2.338, 2.338, 2.338, 2.338, 2.338, 2.338, 2.338, 2.338, 2.3323, 2.3322, 2.3305, 2.277, 2.2677, 2.2369, 2.2139, 1.9597, 1.9595, 1.9142, 1.912, 1.912, 1.907, 1.8976, 1.8788, 1.874, 1.8692, 1.3905, 1.1295, 1.1693, 0.8607, 0.6504, 1.0194, 0.4722, 0.8827, 0.6956, 0.2432, -0.8471, 0.0259, 1.3872, 1.3872, 0.3086, 1.0085, 1.15, 1.3826, 1.1254, 1.5647, 1.1466, 1.3454, 2.7985, 2.7985, 2.643, 2.5994, 2.532, 2.532, 2.532, 2.532, 2.532, 2.532, 2.532, 2.532, 2.532, 2.532, 2.532, 2.5319, 2.4709, 2.4341, 2.4181, 2.1483, 2.1311, 2.1064, 2.1064, 2.0919, 2.0829, 2.0756, 2.0707, 1.884, 1.8608, 1.8025, 1.4199, 1.1026, 1.1665, 1.1325, 0.9763, -0.5643, 0.2754, 1.4208, 1.5573, 1.3383, 1.7846, 1.4112, 0.7306, 1.7607, 1.2081, 1.5189]}, \"token.table\": {\"Topic\": [9, 3, 4, 6, 8, 9, 1, 2, 3, 4, 6, 10, 1, 2, 10, 5, 4, 6, 3, 7, 10, 3, 9, 1, 6, 7, 3, 5, 8, 9, 1, 3, 4, 7, 10, 1, 3, 6, 9, 1, 2, 5, 8, 9, 5, 4, 6, 4, 7, 9, 4, 6, 9, 8, 8, 6, 5, 1, 3, 1, 2, 3, 4, 5, 6, 7, 8, 1, 2, 3, 4, 5, 6, 8, 9, 4, 8, 1, 3, 7, 3, 3, 10, 2, 6, 5, 6, 4, 6, 4, 10, 9, 2, 7, 2, 4, 7, 10, 1, 3, 4, 5, 7, 3, 1, 4, 5, 7, 8, 9, 5, 5, 7, 1, 5, 6, 8, 7, 1, 2, 4, 3, 4, 5, 6, 4, 3, 7, 10, 10, 6, 9, 5, 1, 6, 4, 1, 1, 2, 2, 5, 9, 8, 10, 8, 6, 3, 9, 1, 2, 3, 5, 10, 1, 3, 4, 7, 3, 4, 9, 3, 6, 6, 1, 3, 4, 7, 1, 3, 4, 7, 2, 5, 1, 3, 5, 2, 3, 7, 9, 2, 3, 4, 6, 1, 2, 3, 4, 7, 9, 2, 4, 5, 1, 8, 6, 6, 1, 2, 5, 8, 7, 3, 10, 7, 3, 5, 7, 8, 10, 5, 1, 3, 5, 1, 5, 9, 6, 10, 3, 4, 7, 4, 1, 3, 4, 6, 10, 7, 8, 8, 2, 3, 4, 6, 8, 9, 4, 3, 8, 9, 2, 4, 8, 1, 2, 4, 5, 6, 8, 5, 3, 4, 10, 4, 2, 1, 2, 3, 5, 6, 9, 10, 2, 6, 1, 2, 3, 4, 5, 6, 8, 1, 2, 2, 7, 1, 8, 5, 8, 5, 4, 7, 9, 6, 9, 7, 4, 5, 8, 10, 1, 3, 10, 1, 2, 5, 9, 9, 1, 2, 3, 4, 5, 6, 7, 8, 6, 4, 5, 10, 6, 2, 3, 5, 7, 4, 1, 3, 4, 5, 6, 8, 9, 10, 9, 1, 1, 3, 4, 7, 7, 10, 5, 5, 8, 4, 6, 2, 4, 8, 8, 3, 2, 2, 5, 6, 1, 7, 1, 2, 6, 7, 2, 8, 10, 8, 1, 3, 4, 7, 8, 8, 7, 1, 2, 3, 4, 5, 6, 7, 9, 1, 2, 4, 6, 7, 8, 9, 9, 10, 1, 2, 3, 4, 5, 6, 8, 2, 5, 6, 1, 4, 7, 8, 8, 10, 1, 9, 6, 1, 2, 3, 4, 5, 6, 8, 1, 4, 5, 7, 3, 5, 3, 1, 3, 4, 4, 5, 6, 1, 3, 1, 2, 3, 5, 6, 8, 9, 10, 1, 4, 6, 8, 9, 10, 2, 4, 5, 7, 9, 3, 5, 10, 2, 5, 3, 8, 5, 10, 4, 8, 9, 1, 2, 4, 8, 3, 5, 6, 1, 4, 10, 5, 1, 2, 3, 4, 5, 7, 9, 1, 2, 3, 4, 6, 7, 2, 9, 3, 4, 5, 6, 8, 3, 7, 1, 7, 1, 4, 1, 2, 3, 6, 8, 9, 2, 4, 5, 8, 10, 2, 6, 1, 4, 4, 1, 2, 5, 8, 10, 4, 1, 6, 7, 1, 2, 6, 7, 8, 10, 1, 3, 7, 9, 3, 3, 1, 3, 4, 7, 8, 4, 2, 6, 8, 9, 1, 4, 8, 1, 2, 3, 9, 3, 5, 10, 1, 9, 10, 1, 2, 9, 6, 4, 2, 2, 3, 4, 8, 9, 10, 2, 8, 5, 2, 10, 6, 1, 2, 3, 4, 6, 8, 1, 2, 4, 5, 6, 7, 8, 9, 1, 2, 9, 4, 9, 6, 9, 9, 8, 10, 7, 2, 5, 7, 8, 1, 7, 9, 10, 2, 4, 7, 8, 3, 6, 7, 10, 3, 5, 6, 4, 2, 9, 3, 1, 7, 5, 1, 2, 2, 5, 6, 9, 7, 1, 2, 4, 5, 6, 7, 2, 3, 6, 10, 8, 1, 4, 6, 2, 3, 4, 1, 5, 5, 2, 2, 4, 5, 6, 4, 8, 6, 9, 1, 2, 3, 5, 6, 9, 8, 1, 4, 3, 8, 3, 10, 3, 4, 6, 10, 6, 8, 7, 1, 2, 3, 4, 5, 6, 7, 9, 9, 4, 8, 4, 3, 1, 4, 9, 5, 10, 2, 8, 2, 3, 7, 9, 10, 9, 1, 2, 4, 1, 2, 3, 7, 5, 7, 8, 2, 6, 8, 10, 6, 1, 7, 3, 3, 4, 1, 2, 5, 6, 8, 2, 7, 8, 9, 8, 7, 1, 4, 7, 1, 2, 3, 4, 6, 7, 8, 10, 2, 3, 5, 6, 8, 1, 2, 6, 3, 4, 6, 7, 8, 3, 6, 8, 1, 9, 1, 2, 3, 4, 5, 8, 1, 4, 5, 7, 8, 9, 4, 7, 1, 3, 9, 1, 3, 9, 4, 4, 5, 8, 1, 2, 4, 9, 8, 3, 2, 7, 10, 7, 2, 2, 3, 6, 10, 5, 7, 8, 9, 1, 9, 2, 10, 3, 1, 2, 7, 8, 10, 1, 9, 1, 3, 5, 2, 10, 1, 2, 5, 3, 2, 4, 5, 8, 1, 3, 5, 8, 7, 3, 9, 1, 5, 7, 8, 1, 3, 4, 6, 8, 9, 7, 2, 4, 8, 1, 3, 4, 6, 7, 8, 10, 3, 5, 6, 10, 2, 3, 6, 1, 2, 5, 7, 9, 6, 2, 7, 2, 6, 1, 1, 2, 3, 4, 6, 7, 8, 10, 2, 1, 10, 2, 5, 3, 1, 2, 3, 4, 5, 7, 8, 1, 4, 9, 1, 2, 3, 4, 5, 6, 7, 8, 6, 7, 1, 2, 3, 4, 5, 6, 8, 1, 2, 4, 5, 7, 9, 3, 4, 2, 4, 5, 6, 5, 8, 3, 5, 1, 2, 3, 6, 9, 10, 7, 4, 9, 2, 3, 4, 5, 2, 4], \"Freq\": [0.7130982610780724, 0.14829081516761633, 0.29658163033523266, 0.14829081516761633, 0.14829081516761633, 0.14829081516761633, 0.3782142516827333, 0.17334819868791942, 0.09455356292068333, 0.31517854306894444, 0.031517854306894445, 0.015758927153447223, 0.6271080248979605, 0.5208914305430774, 0.2604457152715387, 0.6655638305177164, 0.6557432877972624, 0.6693576271886342, 0.5873826962403533, 0.29369134812017667, 0.14684567406008833, 0.64939426753471, 0.7134939084993057, 0.8197472979272921, 0.3379087771494408, 0.6758175542988816, 0.22550410882901564, 0.22550410882901564, 0.22550410882901564, 0.22550410882901564, 0.6271080649459614, 0.19180919359484838, 0.38361838718969676, 0.2877137903922726, 0.09590459679742419, 0.2644356457285619, 0.2644356457285619, 0.2644356457285619, 0.2644356457285619, 0.38658442030224216, 0.07731688406044843, 0.15463376812089685, 0.23195065218134528, 0.23195065218134528, 0.6655638106528452, 0.6549439654946051, 0.32747198274730255, 0.6557432789816642, 0.6746858355434837, 0.7134943583299531, 0.5717639579748061, 0.190587985991602, 0.190587985991602, 0.4491087503373465, 0.6715527793110998, 0.6693511453843928, 0.6655638024292174, 0.3149136887692592, 0.6298273775385184, 0.23197633085677483, 0.2629065083043448, 0.030930177447569977, 0.061860354895139955, 0.07732544361892495, 0.18558106468541988, 0.061860354895139955, 0.061860354895139955, 0.06202380605598078, 0.18607141816794237, 0.12404761211196157, 0.06202380605598078, 0.18607141816794237, 0.24809522422392313, 0.12404761211196157, 0.06202380605598078, 0.6557432774033961, 0.6715527506030737, 0.6271080511705521, 0.649394244416849, 0.6746858695634111, 0.6493941987208509, 0.5311594965125634, 0.2655797482562817, 0.6384334098779261, 0.6693576273646579, 0.6655638446521781, 0.6693576261983677, 0.6557432797678229, 0.8934511489955088, 0.2875241782267099, 0.5750483564534198, 0.7134943331090942, 0.6384334049084599, 0.6746858402861143, 0.17267532866824764, 0.3453506573364953, 0.17267532866824764, 0.3453506573364953, 0.28093474769032795, 0.28093474769032795, 0.14046737384516397, 0.28093474769032795, 0.14046737384516397, 0.858759928389681, 0.31807300553026085, 0.6361460110605217, 0.2757180663708667, 0.2757180663708667, 0.2757180663708667, 0.2757180663708667, 0.6655638371727092, 0.6655638004443424, 0.6746858907018888, 0.8204804686368792, 0.1500966444943833, 0.6003865779775333, 0.1500966444943833, 0.9029852408929508, 0.6271080429323648, 0.6331677043598619, 0.31658385217993096, 0.21942137350286875, 0.21942137350286875, 0.21942137350286875, 0.4388427470057375, 0.6557432892624628, 0.6493942605725566, 0.29173125853141646, 0.5834625170628329, 0.7172415167424383, 0.6693576986754629, 0.7130898723738726, 0.6655638430165551, 0.6271080601477386, 0.6693576569753017, 0.6557432378172209, 0.8197472489717529, 0.7317717974440966, 0.24392393248136554, 0.8408445918263668, 0.8861342002641457, 0.7374277296188286, 0.4686366142532414, 0.4686366142532414, 0.6715527323787643, 0.669357636709522, 0.6932329606952736, 0.6932329606952736, 0.21740577118801904, 0.21740577118801904, 0.21740577118801904, 0.21740577118801904, 0.21740577118801904, 0.25417878957503676, 0.5083575791500735, 0.25417878957503676, 0.25417878957503676, 0.5322073825949825, 0.26610369129749123, 0.26610369129749123, 0.19056851161418267, 0.7622740464567307, 0.6693576508254696, 0.6271080277111333, 0.43219077973001996, 0.21609538986500998, 0.21609538986500998, 0.4147118927910901, 0.20735594639554505, 0.20735594639554505, 0.20735594639554505, 0.6384334438907558, 0.6655638171618422, 0.8201070204962628, 0.8582488538582312, 0.6655638095448274, 0.38704378271782675, 0.25802918847855116, 0.12901459423927558, 0.12901459423927558, 0.1446064085000995, 0.1446064085000995, 0.289212817000199, 0.43381922550029856, 0.13029277847522924, 0.2605855569504585, 0.13029277847522924, 0.13029277847522924, 0.2605855569504585, 0.13029277847522924, 0.638433427369533, 0.2637200917002921, 0.5274401834005842, 0.6294142127284702, 0.3147071063642351, 0.6693576499757968, 0.6693576208401364, 0.17729639153616347, 0.5318891746084904, 0.08864819576808174, 0.08864819576808174, 0.6746858981142175, 0.6408702941589853, 0.7172415677190065, 0.6746858581689849, 0.1946464023331021, 0.1946464023331021, 0.09732320116655105, 0.3892928046662042, 0.09732320116655105, 0.6655637994884772, 0.4904081191254594, 0.2452040595627297, 0.2452040595627297, 0.4349815049689387, 0.4349815049689387, 0.21749075248446936, 0.8934663988322323, 0.7172412627922624, 0.26435909544809505, 0.26435909544809505, 0.5287181908961901, 0.6557433060572442, 0.2943759640318696, 0.2943759640318696, 0.09812532134395655, 0.1962506426879131, 0.09812532134395655, 0.6746858965965282, 0.8973680458993419, 0.6715527539843147, 0.16292370917421012, 0.16292370917421012, 0.40730927293552527, 0.08146185458710506, 0.16292370917421012, 0.08146185458710506, 0.6557432730555365, 0.6493942646357941, 0.4670341732526113, 0.4670341732526113, 0.6384334152275819, 0.6557432773360022, 0.6715527558131101, 0.06898109755352284, 0.1379621951070457, 0.1379621951070457, 0.34490548776761426, 0.2759243902140914, 0.06898109755352284, 0.6655638301646865, 0.6493942576912346, 0.7040851070446558, 0.7040851070446558, 0.6557432951024412, 0.6384334054966391, 0.19911461820430582, 0.13274307880287053, 0.13274307880287053, 0.19911461820430582, 0.19911461820430582, 0.13274307880287053, 0.06637153940143527, 0.638433418072748, 0.6693482589262235, 0.26909978581417743, 0.13454989290708871, 0.06727494645354436, 0.13454989290708871, 0.13454989290708871, 0.13454989290708871, 0.13454989290708871, 0.24822384463180974, 0.7446715338954292, 0.6384334300416082, 0.6746858394632669, 0.4302200469400126, 0.4302200469400126, 0.6655637832140046, 0.6716420724902855, 0.6655638059118573, 0.4526904107942949, 0.4526904107942949, 0.22634520539714745, 0.46581765033882716, 0.46581765033882716, 0.6746858788173862, 0.22217140880489264, 0.22217140880489264, 0.4443428176097853, 0.4904379208099742, 0.6271080805182033, 0.4577484453229573, 0.4577484453229573, 0.3142746759857738, 0.4714120139786607, 0.1571373379928869, 0.1571373379928869, 0.7129690482637915, 0.30141795945278443, 0.07535448986319611, 0.07535448986319611, 0.15070897972639222, 0.07535448986319611, 0.07535448986319611, 0.15070897972639222, 0.15070897972639222, 0.6693576340553955, 0.6557432964153758, 0.6655638250084369, 0.7172326263749108, 0.6693576387172132, 0.3709579466172759, 0.18547897330863794, 0.18547897330863794, 0.18547897330863794, 0.655743290284693, 0.1553803940800105, 0.1553803940800105, 0.1553803940800105, 0.07769019704000525, 0.23307059112001574, 0.1553803940800105, 0.07769019704000525, 0.07769019704000525, 0.7134943774048598, 0.6271080267321698, 0.4917684172231965, 0.24588420861159824, 0.8693735561063977, 0.902985186885883, 0.46938616559086044, 0.46938616559086044, 0.6655638018543077, 0.667827605261297, 0.3339138026306485, 0.655743241645413, 0.6693575995772393, 0.42843281117155757, 0.14281093705718587, 0.28562187411437173, 0.6715527566337177, 0.6493942269552849, 0.6384334383092306, 0.3254656417677757, 0.6509312835355514, 0.6693576598605975, 0.6271080704690091, 0.6746858395297602, 0.2517079723341455, 0.503415944668291, 0.2517079723341455, 0.6746858661310909, 0.8391539499070251, 0.6715527431194289, 0.7172415408660545, 0.6715527364754803, 0.6207904180522974, 0.12415808361045948, 0.12415808361045948, 0.12415808361045948, 0.12415808361045948, 0.6740442491159833, 0.6746858607167576, 0.40787712111974056, 0.17946593329268587, 0.03263016968957925, 0.0652603393791585, 0.08157542422394812, 0.08157542422394812, 0.11420559391352736, 0.016315084844789624, 0.09861515035878655, 0.49307575179393276, 0.09861515035878655, 0.1972303007175731, 0.09861515035878655, 0.09861515035878655, 0.7134941854455085, 0.488682972870268, 0.488682972870268, 0.20178593337215403, 0.06726197779071802, 0.20178593337215403, 0.2690479111628721, 0.06726197779071802, 0.13452395558143604, 0.06726197779071802, 0.42969713279472177, 0.21484856639736089, 0.21484856639736089, 0.2184641956913242, 0.2184641956913242, 0.2184641956913242, 0.4369283913826484, 0.46865581540200113, 0.46865581540200113, 0.7620297286893369, 0.2540099095631123, 0.6693493798863129, 0.09865946333373077, 0.19731892666746154, 0.19731892666746154, 0.19731892666746154, 0.19731892666746154, 0.09865946333373077, 0.09865946333373077, 0.25502515839261125, 0.5100503167852225, 0.6655637901879562, 0.6746858792853995, 0.6493942301122799, 0.66556380911902, 0.6493942624957314, 0.25398045415912224, 0.25398045415912224, 0.5079609083182445, 0.26486362543754477, 0.5297272508750895, 0.26486362543754477, 0.1579357218024159, 0.7896786090120795, 0.0966058264199314, 0.0966058264199314, 0.3864233056797256, 0.0966058264199314, 0.0966058264199314, 0.1449087396298971, 0.0483029132099657, 0.0483029132099657, 0.24093902032865447, 0.3011737754108181, 0.12046951016432723, 0.12046951016432723, 0.06023475508216362, 0.18070426524649086, 0.14617485248027606, 0.2923497049605521, 0.14617485248027606, 0.14617485248027606, 0.14617485248027606, 0.10938849059602006, 0.7657194341721404, 0.7172413249670717, 0.638433401786872, 0.665563794056953, 0.33107366558200996, 0.33107366558200996, 0.4405023246973666, 0.49043792396230246, 0.541680631006717, 0.2708403155033585, 0.2708403155033585, 0.21430498649999205, 0.21430498649999205, 0.21430498649999205, 0.4286099729999841, 0.6493942771942534, 0.8867196833062664, 0.6693576173517546, 0.3316855376518214, 0.3316855376518214, 0.3316855376518214, 0.6655638152844334, 0.43102599901374794, 0.1959209086426127, 0.11755254518556761, 0.03918418172852254, 0.03918418172852254, 0.03918418172852254, 0.07836836345704508, 0.27301090578016607, 0.1820072705201107, 0.1820072705201107, 0.1820072705201107, 0.1820072705201107, 0.1820072705201107, 0.3483492550192958, 0.3483492550192958, 0.28931908735527, 0.28931908735527, 0.144659543677635, 0.28931908735527, 0.6715527475674862, 0.6493942325460692, 0.674685859714165, 0.6315337044968893, 0.42102246966459284, 0.4197384853625727, 0.4197384853625727, 0.14232402372994776, 0.4269720711898433, 0.14232402372994776, 0.14232402372994776, 0.07116201186497388, 0.07116201186497388, 0.5112814365322429, 0.25564071826612145, 0.25564071826612145, 0.8962716953485126, 0.7172413951590305, 0.507871209401005, 0.2539356047005025, 0.6251130371964992, 0.3125565185982496, 0.6501893145214428, 0.4757263949842658, 0.2378631974921329, 0.15857546499475528, 0.07928773249737764, 0.07928773249737764, 0.6557432881360252, 0.631488497730996, 0.315744248865498, 0.315744248865498, 0.10508750054765154, 0.6305250032859092, 0.10508750054765154, 0.21017500109530307, 0.6715527519037578, 0.7172415078137291, 0.3149129394948643, 0.6298258789897286, 0.6746858619213094, 0.7134943848081629, 0.8582488321048275, 0.6493942663029204, 0.1860185297883502, 0.1860185297883502, 0.1860185297883502, 0.1860185297883502, 0.1860185297883502, 0.6557432872174538, 0.638433420404942, 0.6693459242327867, 0.6715527477763004, 0.7134943122108254, 0.21204378692926415, 0.4240875738585283, 0.21204378692926415, 0.41147572448376835, 0.34289643706980694, 0.1371585748279228, 0.0685792874139614, 0.19653565545304083, 0.39307131090608166, 0.19653565545304083, 0.34584506505272894, 0.34584506505272894, 0.34584506505272894, 0.6271080455219388, 0.4507713539401021, 0.4507713539401021, 0.6693576269912952, 0.6557432688004868, 0.6384334004472765, 0.15416751597682402, 0.25694585996137337, 0.051389171992274676, 0.35972420394592275, 0.051389171992274676, 0.10277834398454935, 0.6384333853833871, 0.6715527604513081, 0.6655638257970354, 0.6605096984575924, 0.3302548492287962, 0.6693576350693047, 0.2076569598998972, 0.3460949331664953, 0.13843797326659812, 0.13843797326659812, 0.06921898663329906, 0.06921898663329906, 0.10769804701147712, 0.07179869800765142, 0.10769804701147712, 0.35899349003825703, 0.03589934900382571, 0.10769804701147712, 0.07179869800765142, 0.10769804701147712, 0.6222219933134888, 0.1555554983283722, 0.1555554983283722, 0.4593324154601198, 0.4593324154601198, 0.4659712406619584, 0.4659712406619584, 0.7134943742030134, 0.6715527293291242, 0.7172414613666335, 0.6746858598178641, 0.2891766156055851, 0.2891766156055851, 0.14458830780279255, 0.14458830780279255, 0.23384965810014893, 0.23384965810014893, 0.23384965810014893, 0.23384965810014893, 0.18642867017846543, 0.37285734035693086, 0.18642867017846543, 0.18642867017846543, 0.22683132247075166, 0.4536626449415033, 0.22683132247075166, 0.22683132247075166, 0.6493942305949383, 0.3338340073092931, 0.6676680146185862, 0.6557432711361182, 0.4506336243741654, 0.4506336243741654, 0.640870282103528, 0.32677429879250075, 0.6535485975850015, 0.6655638422049975, 0.6141292213408638, 0.3070646106704319, 0.6384334648133061, 0.27445565372828223, 0.5489113074565645, 0.27445565372828223, 0.6746858691830582, 0.4269898065164, 0.13483888626833684, 0.0898925908455579, 0.06741944313416842, 0.06741944313416842, 0.20225832940250527, 0.4280395443792093, 0.2853596962528062, 0.2853596962528062, 0.7172415307339103, 0.671552768452067, 0.46691428971920407, 0.3112761931461361, 0.15563809657306804, 0.25502222708984423, 0.5100444541796885, 0.25502222708984423, 0.8197472622827571, 0.4382529835542648, 0.6655637935618232, 0.6384334539011686, 0.3212423091298295, 0.3212423091298295, 0.16062115456491474, 0.16062115456491474, 0.5241574421480327, 0.26207872107401636, 0.46597094550650225, 0.46597094550650225, 0.6271080174696693, 0.18879333155125563, 0.37758666310251127, 0.18879333155125563, 0.18879333155125563, 0.18879333155125563, 0.45295633277392505, 0.821152233988883, 0.6557432936045683, 0.6493942760331695, 0.6715527613729734, 0.3534290247866156, 0.3534290247866156, 0.3817429098308518, 0.1908714549154259, 0.3817429098308518, 0.1908714549154259, 0.6693576828528557, 0.6715527260138714, 0.6746858325386416, 0.174724429662395, 0.0873622148311975, 0.174724429662395, 0.174724429662395, 0.0873622148311975, 0.0873622148311975, 0.0873622148311975, 0.0873622148311975, 0.713494234117138, 0.6557432826560097, 0.671552708502013, 0.6557432613732707, 0.6493942143769931, 0.6271080532583851, 0.6557432855150136, 0.7134944231810487, 0.7154194461035894, 0.7154194461035894, 0.638433417872981, 0.671552774911465, 0.09998010088798522, 0.29994030266395566, 0.09998010088798522, 0.09998010088798522, 0.29994030266395566, 0.7134942912628548, 0.2456175110432515, 0.491235022086503, 0.2456175110432515, 0.6271080500955735, 0.6384334136740535, 0.32480889586545675, 0.32480889586545675, 0.1927981727453063, 0.3855963454906126, 0.3855963454906126, 0.27062082857516867, 0.27062082857516867, 0.27062082857516867, 0.27062082857516867, 0.6693576144307714, 0.819747275947357, 0.6746858818221618, 0.858268533654517, 0.8587556758004394, 0.655743275912012, 0.10610780849341386, 0.42443123397365545, 0.10610780849341386, 0.21221561698682773, 0.10610780849341386, 0.6384334412220141, 0.5436394970591549, 0.27181974852957747, 0.486940581378595, 0.6716379349413126, 0.674685845264915, 0.18864516607921597, 0.18864516607921597, 0.565935498237648, 0.0907110630210359, 0.03023702100701197, 0.03023702100701197, 0.5140293571192035, 0.12094808402804788, 0.15118510503505986, 0.03023702100701197, 0.03023702100701197, 0.6326840753295241, 0.09038343933278915, 0.1807668786655783, 0.09038343933278915, 0.09038343933278915, 0.25637788383208837, 0.25637788383208837, 0.5127557676641767, 0.1588894217263444, 0.26481570287724066, 0.10592628115089626, 0.26481570287724066, 0.21185256230179253, 0.43872249321223533, 0.43872249321223533, 0.21936124660611767, 0.34431670944415627, 0.34431670944415627, 0.6271080253214206, 0.2556657712578156, 0.2556657712578156, 0.5113315425156312, 0.2556657712578156, 0.6715527068958196, 0.1875225434623779, 0.2812838151935668, 0.09376127173118895, 0.1875225434623779, 0.09376127173118895, 0.09376127173118895, 0.6557432921400743, 0.6746858429567163, 0.21650075267785224, 0.4330015053557045, 0.21650075267785224, 0.3292575928910166, 0.3292575928910166, 0.3292575928910166, 0.6557432707694438, 0.3280779832177241, 0.3280779832177241, 0.6715527278269666, 0.21675260217414383, 0.21675260217414383, 0.43350520434828765, 0.21675260217414383, 0.6715527692258159, 0.6493942474489623, 0.33969707396531185, 0.33969707396531185, 0.33969707396531185, 0.6746858525367102, 0.6384334174147402, 0.3840499134111439, 0.19202495670557196, 0.19202495670557196, 0.19202495670557196, 0.2757181702433608, 0.2757181702433608, 0.2757181702433608, 0.2757181702433608, 0.8535808932119774, 0.4267904466059887, 0.6605095804770467, 0.33025479023852333, 0.6493942626530769, 0.14667562369329326, 0.2933512473865865, 0.2933512473865865, 0.2933512473865865, 0.14667562369329326, 0.5609783261642348, 0.3739855507761566, 0.31491354298917157, 0.6298270859783431, 0.6655637973680568, 0.45221723847477596, 0.45221723847477596, 0.2551552257553746, 0.2551552257553746, 0.5103104515107492, 0.6493942282342674, 0.32649741404064364, 0.16324870702032182, 0.16324870702032182, 0.32649741404064364, 0.3191893052536522, 0.3191893052536522, 0.3191893052536522, 0.1595946526268261, 0.6746858610175819, 0.35160939694270577, 0.35160939694270577, 0.21867568897985146, 0.4373513779597029, 0.21867568897985146, 0.21867568897985146, 0.10004683262127255, 0.4335362746921811, 0.2667915536567268, 0.03334894420709085, 0.10004683262127255, 0.10004683262127255, 0.674685824937563, 0.216978755282732, 0.216978755282732, 0.433957510565464, 0.2367851958848195, 0.2367851958848195, 0.11839259794240975, 0.11839259794240975, 0.11839259794240975, 0.11839259794240975, 0.11839259794240975, 0.2249547606141333, 0.2249547606141333, 0.2249547606141333, 0.2249547606141333, 0.1433438780876807, 0.43003163426304214, 0.2866877561753614, 0.30639798651335826, 0.35746431759891795, 0.15319899325667913, 0.051066331085559705, 0.15319899325667913, 0.6693576698898314, 0.32180624345695447, 0.32180624345695447, 0.6384334155717566, 0.669357622477693, 0.6271080347357857, 0.18613292845795262, 0.09306646422897631, 0.09306646422897631, 0.09306646422897631, 0.37226585691590525, 0.09306646422897631, 0.09306646422897631, 0.7172415509455254, 0.6384334358223756, 0.8197472864073913, 0.7172415573216653, 0.4340143978469076, 0.4340143978469076, 0.6493942441354372, 0.08634894236029897, 0.17269788472059794, 0.17269788472059794, 0.17269788472059794, 0.08634894236029897, 0.17269788472059794, 0.17269788472059794, 0.6365997718884008, 0.21219992396280024, 0.21219992396280024, 0.14421306059219502, 0.09614204039479667, 0.09614204039479667, 0.09614204039479667, 0.19228408078959333, 0.09614204039479667, 0.09614204039479667, 0.14421306059219502, 0.6693494543691588, 0.6746858591351126, 0.19170676173097628, 0.19170676173097628, 0.12780450782065086, 0.06390225391032543, 0.06390225391032543, 0.12780450782065086, 0.25560901564130173, 0.1313544530287703, 0.1313544530287703, 0.2627089060575406, 0.1313544530287703, 0.1313544530287703, 0.1313544530287703, 0.5717702398599412, 0.2858851199299706, 0.6384334443135616, 0.44028285819199836, 0.22014142909599918, 0.44028285819199836, 0.6655638079902384, 0.6715527126149954, 0.6486461360461194, 0.3243230680230597, 0.46336400050548715, 0.1323897144301392, 0.1985845716452088, 0.0661948572150696, 0.0661948572150696, 0.0661948572150696, 0.6746858365852104, 0.6661282736320072, 0.22204275787733574, 0.3667872835666597, 0.18339364178332984, 0.18339364178332984, 0.3667872835666597, 0.320782782247845, 0.64156556449569], \"Term\": [\"ability\", \"access\", \"access\", \"access\", \"access\", \"access\", \"account\", \"account\", \"account\", \"account\", \"account\", \"account\", \"activate\", \"advice\", \"advice\", \"allocation\", \"amatuer\", \"amongst\", \"amount\", \"amount\", \"amount\", \"amouny\", \"android\", \"answer\", \"anyone\", \"anyone\", \"anything\", \"anything\", \"anything\", \"anything\", \"apple\", \"application\", \"application\", \"application\", \"application\", \"approval\", \"approval\", \"approval\", \"approval\", \"apps\", \"apps\", \"apps\", \"apps\", \"apps\", \"area\", \"asap\", \"asap\", \"assessment\", \"assistance\", \"atleast\", \"attempt\", \"attempt\", \"attempt\", \"authentication\", \"avail\", \"awful\", \"baffling\", \"bait\", \"bait\", \"bank\", \"bank\", \"bank\", \"bank\", \"bank\", \"bank\", \"bank\", \"bank\", \"banking\", \"banking\", \"banking\", \"banking\", \"banking\", \"banking\", \"banking\", \"banking\", \"bankng\", \"beautiful\", \"beneficiary\", \"beta\", \"beware\", \"bode\", \"borrow\", \"borrow\", \"branch\", \"breakthrough\", \"brighter\", \"brilliant\", \"browsing\", \"buddy\", \"buggy\", \"buggy\", \"business\", \"buzz\", \"calculate\", \"cant\", \"cant\", \"cant\", \"cant\", \"card\", \"card\", \"card\", \"card\", \"card\", \"carry\", \"case\", \"case\", \"cash\", \"cash\", \"cash\", \"cash\", \"cashback\", \"caught\", \"center\", \"chance\", \"change\", \"change\", \"change\", \"chat\", \"cheer\", \"clean\", \"clean\", \"click\", \"click\", \"click\", \"click\", \"client\", \"clueless\", \"code\", \"code\", \"collect\", \"communication\", \"competition\", \"complain\", \"complaint\", \"comprehensive\", \"concern\", \"condition\", \"consumer\", \"consumer\", \"continue\", \"convenient\", \"cool\", \"correct\", \"correct\", \"cover\", \"crab\", \"crash\", \"crash\", \"create\", \"create\", \"create\", \"create\", \"create\", \"credit\", \"credit\", \"credit\", \"credit\", \"criterion\", \"criterion\", \"criterion\", \"customer\", \"customer\", \"damm\", \"date\", \"day\", \"day\", \"day\", \"debit\", \"debit\", \"debit\", \"debit\", \"debtor\", \"decimal\", \"decrease\", \"delete\", \"deliver\", \"deposit\", \"deposit\", \"deposit\", \"deposit\", \"design\", \"design\", \"design\", \"design\", \"detail\", \"detail\", \"detail\", \"detail\", \"detail\", \"detail\", \"detrimental\", \"developer\", \"developer\", \"device\", \"device\", \"differ\", \"digibank\", \"digital\", \"digital\", \"digital\", \"digital\", \"disappear\", \"display\", \"doesnt\", \"dogshit\", \"download\", \"download\", \"download\", \"download\", \"download\", \"draw\", \"drop\", \"drop\", \"drop\", \"ease\", \"ease\", \"ease\", \"ecosystem\", \"efficient\", \"effort\", \"effort\", \"effort\", \"eligibility\", \"email\", \"email\", \"email\", \"email\", \"email\", \"employer\", \"encourage\", \"end\", \"error\", \"error\", \"error\", \"error\", \"error\", \"error\", \"evaluation\", \"everbody\", \"everything\", \"everything\", \"exaggerate\", \"exit\", \"expectation\", \"experience\", \"experience\", \"experience\", \"experience\", \"experience\", \"experience\", \"face\", \"failure\", \"fake\", \"fake\", \"faq\", \"farm\", \"fast\", \"fast\", \"fast\", \"fast\", \"fast\", \"fast\", \"fast\", \"faster\", \"faux\", \"feature\", \"feature\", \"feature\", \"feature\", \"feature\", \"feature\", \"feature\", \"feel\", \"feel\", \"fill\", \"finger\", \"fingerprint\", \"fingerprint\", \"fintech\", \"flag\", \"flawless\", \"flexiloan\", \"flexiloan\", \"flexiloan\", \"focus\", \"focus\", \"folk\", \"force\", \"force\", \"force\", \"foreigner\", \"forgot\", \"friend\", \"friend\", \"function\", \"function\", \"function\", \"function\", \"functionality\", \"fund\", \"fund\", \"fund\", \"fund\", \"fund\", \"fund\", \"fund\", \"fund\", \"galaxy\", \"gather\", \"genius\", \"gift\", \"giro\", \"goal\", \"goal\", \"goal\", \"goal\", \"god\", \"grab\", \"grab\", \"grab\", \"grab\", \"grab\", \"grab\", \"grab\", \"grab\", \"grabpay\", \"gripe\", \"grow\", \"grow\", \"guess\", \"gxbank\", \"hang\", \"hang\", \"haphazard\", \"hassle\", \"hassle\", \"hello\", \"home\", \"hope\", \"hope\", \"hope\", \"hopeless\", \"hubby\", \"human\", \"idea\", \"idea\", \"ignore\", \"implement\", \"implementation\", \"improvement\", \"improvement\", \"improvement\", \"incase\", \"include\", \"income\", \"inconvenience\", \"incorrect\", \"increase\", \"increase\", \"increase\", \"increase\", \"increase\", \"information\", \"insecure\", \"interest\", \"interest\", \"interest\", \"interest\", \"interest\", \"interest\", \"interest\", \"interest\", \"interface\", \"interface\", \"interface\", \"interface\", \"interface\", \"interface\", \"intern\", \"invite\", \"invite\", \"issue\", \"issue\", \"issue\", \"issue\", \"issue\", \"issue\", \"issue\", \"joke\", \"joke\", \"joke\", \"kind\", \"kind\", \"kind\", \"kind\", \"kudos\", \"kudos\", \"lack\", \"lack\", \"lacklustre\", \"launch\", \"launch\", \"launch\", \"launch\", \"launch\", \"launch\", \"launch\", \"le\", \"le\", \"legit\", \"legitimate\", \"lending\", \"library\", \"light\", \"limit\", \"limit\", \"limit\", \"link\", \"link\", \"link\", \"list\", \"list\", \"loan\", \"loan\", \"loan\", \"loan\", \"loan\", \"loan\", \"loan\", \"loan\", \"login\", \"login\", \"login\", \"login\", \"login\", \"login\", \"look\", \"look\", \"look\", \"look\", \"look\", \"love\", \"love\", \"malware\", \"management\", \"marvel\", \"mean\", \"mean\", \"medium\", \"merchant\", \"message\", \"message\", \"message\", \"min\", \"min\", \"min\", \"min\", \"mini\", \"minimum\", \"minute\", \"mistake\", \"mistake\", \"mistake\", \"mode\", \"money\", \"money\", \"money\", \"money\", \"money\", \"money\", \"money\", \"month\", \"month\", \"month\", \"month\", \"month\", \"month\", \"move\", \"move\", \"multiple\", \"multiple\", \"multiple\", \"multiple\", \"mummy\", \"mundane\", \"myinfo\", \"name\", \"name\", \"navigate\", \"navigate\", \"need\", \"need\", \"need\", \"need\", \"need\", \"need\", \"news\", \"news\", \"news\", \"none\", \"nonsense\", \"nothing\", \"nothing\", \"notice\", \"notice\", \"notification\", \"number\", \"number\", \"number\", \"number\", \"number\", \"objective\", \"ocbc\", \"ocbc\", \"ocbc\", \"offer\", \"offer\", \"offer\", \"offer\", \"offset\", \"okayyyy\", \"option\", \"option\", \"organisation\", \"overlap\", \"overlay\", \"owner\", \"page\", \"page\", \"page\", \"page\", \"page\", \"paid\", \"pain\", \"painful\", \"part\", \"partner\", \"password\", \"password\", \"password\", \"payee\", \"payee\", \"payee\", \"payee\", \"payment\", \"payment\", \"payment\", \"paynow\", \"paynow\", \"paynow\", \"peep\", \"perfect\", \"perfect\", \"period\", \"permanent\", \"pertinent\", \"phone\", \"phone\", \"phone\", \"phone\", \"phone\", \"phone\", \"piece\", \"plat\", \"platform\", \"play\", \"play\", \"player\", \"please\", \"please\", \"please\", \"please\", \"please\", \"please\", \"pocket\", \"pocket\", \"pocket\", \"pocket\", \"pocket\", \"pocket\", \"pocket\", \"pocket\", \"point\", \"point\", \"point\", \"popped\", \"popped\", \"portion\", \"portion\", \"post\", \"power\", \"press\", \"print\", \"problem\", \"problem\", \"problem\", \"problem\", \"proceed\", \"proceed\", \"proceed\", \"proceed\", \"process\", \"process\", \"process\", \"process\", \"product\", \"product\", \"product\", \"product\", \"programme\", \"promise\", \"promise\", \"promising\", \"prone\", \"prone\", \"proper\", \"provide\", \"provide\", \"pure\", \"question\", \"question\", \"queue\", \"quick\", \"quick\", \"quick\", \"race\", \"rate\", \"rate\", \"rate\", \"rate\", \"rate\", \"rate\", \"rating\", \"rating\", \"rating\", \"read\", \"reapply\", \"reason\", \"reason\", \"reason\", \"receive\", \"receive\", \"receive\", \"recipient\", \"recommend\", \"recovery\", \"refresh\", \"register\", \"register\", \"register\", \"register\", \"registration\", \"registration\", \"reinstall\", \"reinstall\", \"reminder\", \"repayment\", \"repayment\", \"repayment\", \"repayment\", \"repayment\", \"repeat\", \"reply\", \"requirement\", \"resgistet\", \"resolve\", \"respond\", \"respond\", \"response\", \"response\", \"response\", \"response\", \"responsive\", \"restart\", \"retrieve\", \"review\", \"review\", \"review\", \"review\", \"review\", \"review\", \"review\", \"review\", \"revolution\", \"risk\", \"root\", \"round\", \"rule\", \"safer\", \"salary\", \"saver\", \"scam\", \"scam\", \"scene\", \"scheme\", \"screen\", \"screen\", \"screen\", \"screen\", \"screen\", \"script\", \"seamless\", \"seamless\", \"seamless\", \"secret\", \"section\", \"secure\", \"secure\", \"security\", \"security\", \"security\", \"seem\", \"seem\", \"seem\", \"seem\", \"seemless\", \"select\", \"selection\", \"sent\", \"sept\", \"serve\", \"service\", \"service\", \"service\", \"service\", \"service\", \"setback\", \"setup\", \"setup\", \"sgqr\", \"share\", \"shout\", \"show\", \"show\", \"show\", \"sign\", \"sign\", \"sign\", \"sign\", \"sign\", \"sign\", \"sign\", \"sign\", \"simple\", \"simple\", \"simple\", \"simple\", \"simple\", \"singapore\", \"singapore\", \"singapore\", \"singpass\", \"singpass\", \"singpass\", \"singpass\", \"singpass\", \"singtel\", \"singtel\", \"singtel\", \"sleek\", \"sleek\", \"slip\", \"smooth\", \"smooth\", \"smooth\", \"smooth\", \"software\", \"something\", \"something\", \"something\", \"something\", \"something\", \"something\", \"soooo\", \"sorry\", \"space\", \"space\", \"space\", \"spend\", \"spend\", \"spend\", \"spent\", \"staff\", \"staff\", \"stage\", \"star\", \"star\", \"star\", \"star\", \"startup\", \"state\", \"stay\", \"stay\", \"stay\", \"step\", \"stop\", \"store\", \"store\", \"store\", \"store\", \"straight\", \"straight\", \"straight\", \"straight\", \"suggest\", \"suggest\", \"suggestion\", \"suggestion\", \"sunday\", \"super\", \"super\", \"super\", \"super\", \"super\", \"support\", \"support\", \"switch\", \"switch\", \"target\", \"team\", \"team\", \"term\", \"term\", \"term\", \"testflight\", \"thank\", \"thank\", \"thank\", \"thank\", \"thing\", \"thing\", \"thing\", \"thing\", \"thought\", \"thru\", \"thru\", \"till\", \"till\", \"till\", \"till\", \"time\", \"time\", \"time\", \"time\", \"time\", \"time\", \"timer\", \"today\", \"today\", \"today\", \"told\", \"told\", \"told\", \"told\", \"told\", \"told\", \"told\", \"touch\", \"touch\", \"touch\", \"touch\", \"transaction\", \"transaction\", \"transaction\", \"transfer\", \"transfer\", \"transfer\", \"transfer\", \"transfer\", \"transparency\", \"transparent\", \"transparent\", \"travel\", \"treat\", \"trouble\", \"trust\", \"trust\", \"trust\", \"trust\", \"trust\", \"trust\", \"trust\", \"tune\", \"twitch\", \"type\", \"ummmm\", \"unique\", \"unique\", \"unresponsiveness\", \"update\", \"update\", \"update\", \"update\", \"update\", \"update\", \"update\", \"useless\", \"useless\", \"useless\", \"user\", \"user\", \"user\", \"user\", \"user\", \"user\", \"user\", \"user\", \"vague\", \"verify\", \"wait\", \"wait\", \"wait\", \"wait\", \"wait\", \"wait\", \"wait\", \"want\", \"want\", \"want\", \"want\", \"want\", \"want\", \"waste\", \"waste\", \"website\", \"week\", \"week\", \"week\", \"wireframe\", \"withdraw\", \"wonder\", \"wonder\", \"work\", \"work\", \"work\", \"work\", \"work\", \"work\", \"worldwide\", \"write\", \"write\", \"year\", \"year\", \"year\", \"year\", \"yesterday\", \"yesterday\"]}, \"R\": 30, \"lambda.step\": 0.01, \"plot.opts\": {\"xlab\": \"PC1\", \"ylab\": \"PC2\"}, \"topic.order\": [3, 5, 1, 9, 2, 8, 6, 7, 4, 10]};\n",
       "\n",
       "function LDAvis_load_lib(url, callback){\n",
       "  var s = document.createElement('script');\n",
       "  s.src = url;\n",
       "  s.async = true;\n",
       "  s.onreadystatechange = s.onload = callback;\n",
       "  s.onerror = function(){console.warn(\"failed to load library \" + url);};\n",
       "  document.getElementsByTagName(\"head\")[0].appendChild(s);\n",
       "}\n",
       "\n",
       "if(typeof(LDAvis) !== \"undefined\"){\n",
       "   // already loaded: just create the visualization\n",
       "   !function(LDAvis){\n",
       "       new LDAvis(\"#\" + \"ldavis_el62653109496226883745783186\", ldavis_el62653109496226883745783186_data);\n",
       "   }(LDAvis);\n",
       "}else if(typeof define === \"function\" && define.amd){\n",
       "   // require.js is available: use it to load d3/LDAvis\n",
       "   require.config({paths: {d3: \"https://d3js.org/d3.v5\"}});\n",
       "   require([\"d3\"], function(d3){\n",
       "      window.d3 = d3;\n",
       "      LDAvis_load_lib(\"https://cdn.jsdelivr.net/gh/bmabey/pyLDAvis@3.4.0/pyLDAvis/js/ldavis.v3.0.0.js\", function(){\n",
       "        new LDAvis(\"#\" + \"ldavis_el62653109496226883745783186\", ldavis_el62653109496226883745783186_data);\n",
       "      });\n",
       "    });\n",
       "}else{\n",
       "    // require.js not available: dynamically load d3 & LDAvis\n",
       "    LDAvis_load_lib(\"https://d3js.org/d3.v5.js\", function(){\n",
       "         LDAvis_load_lib(\"https://cdn.jsdelivr.net/gh/bmabey/pyLDAvis@3.4.0/pyLDAvis/js/ldavis.v3.0.0.js\", function(){\n",
       "                 new LDAvis(\"#\" + \"ldavis_el62653109496226883745783186\", ldavis_el62653109496226883745783186_data);\n",
       "            })\n",
       "         });\n",
       "}\n",
       "</script>"
      ],
      "text/plain": [
       "PreparedData(topic_coordinates=              x         y  topics  cluster       Freq\n",
       "topic                                                \n",
       "2      0.119588 -0.002113       1        1  17.122882\n",
       "4      0.107716  0.061820       2        1  13.623277\n",
       "0     -0.101596 -0.030631       3        1  12.797202\n",
       "8      0.021357 -0.151659       4        1  12.737889\n",
       "1      0.055120  0.111282       5        1   9.284958\n",
       "7      0.046033 -0.047077       6        1   8.606192\n",
       "5      0.041294 -0.059508       7        1   8.463079\n",
       "6     -0.084695 -0.008089       8        1   8.380484\n",
       "3     -0.053867  0.108588       9        1   4.939734\n",
       "9     -0.150950  0.017387      10        1   4.044303, topic_info=         Term       Freq      Total Category  logprob  loglift\n",
       "0     account  63.000000  63.000000  Default  30.0000  30.0000\n",
       "9        rate  44.000000  44.000000  Default  29.0000  29.0000\n",
       "103      sign  33.000000  33.000000  Default  28.0000  28.0000\n",
       "69       time  29.000000  29.000000  Default  27.0000  27.0000\n",
       "128     phone  19.000000  19.000000  Default  26.0000  26.0000\n",
       "..        ...        ...        ...      ...      ...      ...\n",
       "262   proceed   0.709253   4.276252  Topic10  -4.9379   1.4112\n",
       "263      told   0.709251   8.446474  Topic10  -4.9379   0.7306\n",
       "140   mistake   0.709247   3.014904  Topic10  -4.9379   1.7607\n",
       "229  response   0.709243   5.239128  Topic10  -4.9379   1.2081\n",
       "56     advice   0.709242   3.839572  Topic10  -4.9379   1.5189\n",
       "\n",
       "[612 rows x 6 columns], token_table=      Topic      Freq       Term\n",
       "term                            \n",
       "543       9  0.713098    ability\n",
       "344       3  0.148291     access\n",
       "344       4  0.296582     access\n",
       "344       6  0.148291     access\n",
       "344       8  0.148291     access\n",
       "...     ...       ...        ...\n",
       "146       3  0.183394       year\n",
       "146       4  0.183394       year\n",
       "146       5  0.366787       year\n",
       "408       2  0.320783  yesterday\n",
       "408       4  0.641566  yesterday\n",
       "\n",
       "[947 rows x 3 columns], R=30, lambda_step=0.01, plot_opts={'xlab': 'PC1', 'ylab': 'PC2'}, topic_order=[3, 5, 1, 9, 2, 8, 6, 7, 4, 10])"
      ]
     },
     "execution_count": 118,
     "metadata": {},
     "output_type": "execute_result"
    }
   ],
   "source": [
    "pyLDAvis.gensim.prepare(lda_model,doc_term_matrix,dictionary)"
   ]
  },
  {
   "cell_type": "code",
   "execution_count": 119,
   "metadata": {},
   "outputs": [
    {
     "data": {
      "text/html": [
       "<div>\n",
       "<style scoped>\n",
       "    .dataframe tbody tr th:only-of-type {\n",
       "        vertical-align: middle;\n",
       "    }\n",
       "\n",
       "    .dataframe tbody tr th {\n",
       "        vertical-align: top;\n",
       "    }\n",
       "\n",
       "    .dataframe thead th {\n",
       "        text-align: right;\n",
       "    }\n",
       "</style>\n",
       "<table border=\"1\" class=\"dataframe\">\n",
       "  <thead>\n",
       "    <tr style=\"text-align: right;\">\n",
       "      <th></th>\n",
       "      <th>review</th>\n",
       "      <th>clean_review</th>\n",
       "    </tr>\n",
       "  </thead>\n",
       "  <tbody>\n",
       "    <tr>\n",
       "      <th>0</th>\n",
       "      <td>Great banking app with attractive interest rat...</td>\n",
       "      <td>[banking, interest, rate, please, payee, numbe...</td>\n",
       "    </tr>\n",
       "    <tr>\n",
       "      <th>1</th>\n",
       "      <td>A bank like no other, no bank have such amazin...</td>\n",
       "      <td>[bank, bank, feature, money, pocket, track, go...</td>\n",
       "    </tr>\n",
       "    <tr>\n",
       "      <th>2</th>\n",
       "      <td>Notice that the drop in interest rate of 0.8% ...</td>\n",
       "      <td>[notice, drop, interest, rate, account, reason...</td>\n",
       "    </tr>\n",
       "    <tr>\n",
       "      <th>3</th>\n",
       "      <td>Sending money into my GXS account is a breeze ...</td>\n",
       "      <td>[money, account, breeze, amount, fund, money, ...</td>\n",
       "    </tr>\n",
       "    <tr>\n",
       "      <th>4</th>\n",
       "      <td>I have to say that the UI/UX is one of the bes...</td>\n",
       "      <td>[digibank, mobile, market, player, focus, cust...</td>\n",
       "    </tr>\n",
       "  </tbody>\n",
       "</table>\n",
       "</div>"
      ],
      "text/plain": [
       "                                              review  \\\n",
       "0  Great banking app with attractive interest rat...   \n",
       "1  A bank like no other, no bank have such amazin...   \n",
       "2  Notice that the drop in interest rate of 0.8% ...   \n",
       "3  Sending money into my GXS account is a breeze ...   \n",
       "4  I have to say that the UI/UX is one of the bes...   \n",
       "\n",
       "                                        clean_review  \n",
       "0  [banking, interest, rate, please, payee, numbe...  \n",
       "1  [bank, bank, feature, money, pocket, track, go...  \n",
       "2  [notice, drop, interest, rate, account, reason...  \n",
       "3  [money, account, breeze, amount, fund, money, ...  \n",
       "4  [digibank, mobile, market, player, focus, cust...  "
      ]
     },
     "execution_count": 119,
     "metadata": {},
     "output_type": "execute_result"
    }
   ],
   "source": [
    "review_data.head()"
   ]
  },
  {
   "attachments": {},
   "cell_type": "markdown",
   "metadata": {},
   "source": [
    "### Creating a lookup table for topics"
   ]
  },
  {
   "cell_type": "code",
   "execution_count": 120,
   "metadata": {},
   "outputs": [
    {
     "data": {
      "text/html": [
       "<style type=\"text/css\">\n",
       "#T_a4526_row0_col2, #T_a4526_row1_col2, #T_a4526_row2_col2, #T_a4526_row3_col2, #T_a4526_row4_col2, #T_a4526_row5_col2, #T_a4526_row6_col2, #T_a4526_row7_col2, #T_a4526_row8_col2, #T_a4526_row9_col2 {\n",
       "  width: 300px;\n",
       "}\n",
       "</style>\n",
       "<table id=\"T_a4526\">\n",
       "  <thead>\n",
       "    <tr>\n",
       "      <th class=\"blank level0\" >&nbsp;</th>\n",
       "      <th id=\"T_a4526_level0_col0\" class=\"col_heading level0 col0\" >Topic_Number</th>\n",
       "      <th id=\"T_a4526_level0_col1\" class=\"col_heading level0 col1\" >Topic_Name</th>\n",
       "      <th id=\"T_a4526_level0_col2\" class=\"col_heading level0 col2\" >Top_Keywords</th>\n",
       "    </tr>\n",
       "  </thead>\n",
       "  <tbody>\n",
       "    <tr>\n",
       "      <th id=\"T_a4526_level0_row0\" class=\"row_heading level0 row0\" >0</th>\n",
       "      <td id=\"T_a4526_row0_col0\" class=\"data row0 col0\" >0</td>\n",
       "      <td id=\"T_a4526_row0_col1\" class=\"data row0 col1\" >App Responsiveness</td>\n",
       "      <td id=\"T_a4526_row0_col2\" class=\"data row0 col2\" >['time', 'loan', 'account', 'phone', 'list', 'waste', 'amount', 'screen', 'email', 'work']</td>\n",
       "    </tr>\n",
       "    <tr>\n",
       "      <th id=\"T_a4526_level0_row1\" class=\"row_heading level0 row1\" >1</th>\n",
       "      <td id=\"T_a4526_row1_col0\" class=\"data row1 col0\" >1</td>\n",
       "      <td id=\"T_a4526_row1_col1\" class=\"data row1 col1\" >Money Growth (Interest Rates)</td>\n",
       "      <td id=\"T_a4526_row1_col2\" class=\"data row1 col2\" >['pocket', 'love', 'bank', 'interest', 'experience', 'user', 'rate', 'fast', 'banking', 'transfer']</td>\n",
       "    </tr>\n",
       "    <tr>\n",
       "      <th id=\"T_a4526_level0_row2\" class=\"row_heading level0 row2\" >2</th>\n",
       "      <td id=\"T_a4526_row2_col0\" class=\"data row2 col0\" >2</td>\n",
       "      <td id=\"T_a4526_row2_col1\" class=\"data row2 col1\" >Customer Services</td>\n",
       "      <td id=\"T_a4526_row2_col2\" class=\"data row2 col2\" >['interest', 'account', 'rate', 'bank', 'money', 'work', 'transfer', 'payee', 'number', 'increase']</td>\n",
       "    </tr>\n",
       "    <tr>\n",
       "      <th id=\"T_a4526_level0_row3\" class=\"row_heading level0 row3\" >3</th>\n",
       "      <td id=\"T_a4526_row3_col0\" class=\"data row3 col0\" >3</td>\n",
       "      <td id=\"T_a4526_row3_col1\" class=\"data row3 col1\" >Services & Products</td>\n",
       "      <td id=\"T_a4526_row3_col2\" class=\"data row3 col2\" >['pocket', 'transfer', 'time', 'apps', 'fast', 'money', 'cool', 'support', 'need', 'proceed']</td>\n",
       "    </tr>\n",
       "    <tr>\n",
       "      <th id=\"T_a4526_level0_row4\" class=\"row_heading level0 row4\" >4</th>\n",
       "      <td id=\"T_a4526_row4_col0\" class=\"data row4 col0\" >4</td>\n",
       "      <td id=\"T_a4526_row4_col1\" class=\"data row4 col1\" >User Interface</td>\n",
       "      <td id=\"T_a4526_row4_col2\" class=\"data row4 col2\" >['bank', 'interest', 'account', 'transfer', 'simple', 'digital', 'rate', 'need', 'offer', 'please']</td>\n",
       "    </tr>\n",
       "    <tr>\n",
       "      <th id=\"T_a4526_level0_row5\" class=\"row_heading level0 row5\" >5</th>\n",
       "      <td id=\"T_a4526_row5_col0\" class=\"data row5 col0\" >5</td>\n",
       "      <td id=\"T_a4526_row5_col1\" class=\"data row5 col1\" >Credit card</td>\n",
       "      <td id=\"T_a4526_row5_col2\" class=\"data row5 col2\" >['rate', 'interest', 'singpass', 'sign', 'bank', 'show', 'application', 'pocket', 'user', 'update']</td>\n",
       "    </tr>\n",
       "    <tr>\n",
       "      <th id=\"T_a4526_level0_row6\" class=\"row_heading level0 row6\" >6</th>\n",
       "      <td id=\"T_a4526_row6_col0\" class=\"data row6 col0\" >6</td>\n",
       "      <td id=\"T_a4526_row6_col1\" class=\"data row6 col1\" >Login & Account Setup</td>\n",
       "      <td id=\"T_a4526_row6_col2\" class=\"data row6 col2\" >['phone', 'download', 'wait', 'singpass', 'bank', 'loan', 'user', 'time', 'apps', 'security']</td>\n",
       "    </tr>\n",
       "    <tr>\n",
       "      <th id=\"T_a4526_level0_row7\" class=\"row_heading level0 row7\" >7</th>\n",
       "      <td id=\"T_a4526_row7_col0\" class=\"data row7 col0\" >7</td>\n",
       "      <td id=\"T_a4526_row7_col1\" class=\"data row7 col1\" >Competition</td>\n",
       "      <td id=\"T_a4526_row7_col2\" class=\"data row7 col2\" >['bank', 'interest', 'trust', 'sign', 'experience', 'change', 'banking', 'customer', 'rate', 'grab']</td>\n",
       "    </tr>\n",
       "    <tr>\n",
       "      <th id=\"T_a4526_level0_row8\" class=\"row_heading level0 row8\" >8</th>\n",
       "      <td id=\"T_a4526_row8_col0\" class=\"data row8 col0\" >8</td>\n",
       "      <td id=\"T_a4526_row8_col1\" class=\"data row8 col1\" >Safety</td>\n",
       "      <td id=\"T_a4526_row8_col2\" class=\"data row8 col2\" >['account', 'sign', 'time', 'singpass', 'error', 'login', 'interest', 'bank', 'rate', 'issue']</td>\n",
       "    </tr>\n",
       "    <tr>\n",
       "      <th id=\"T_a4526_level0_row9\" class=\"row_heading level0 row9\" >9</th>\n",
       "      <td id=\"T_a4526_row9_col0\" class=\"data row9 col0\" >9</td>\n",
       "      <td id=\"T_a4526_row9_col1\" class=\"data row9 col1\" >Customer trust</td>\n",
       "      <td id=\"T_a4526_row9_col2\" class=\"data row9 col2\" >['screen', 'login', 'phone', 'cant', 'code', 'buggy', 'account', 'payment', 'application', 'store']</td>\n",
       "    </tr>\n",
       "  </tbody>\n",
       "</table>\n"
      ],
      "text/plain": [
       "<pandas.io.formats.style.Styler at 0x28088c730>"
      ]
     },
     "execution_count": 120,
     "metadata": {},
     "output_type": "execute_result"
    }
   ],
   "source": [
    "topic_lookup_data = pd.DataFrame((lda_model.print_topics()),columns=['Topic_Number','Top_Keywords'])\n",
    "\n",
    "\n",
    "#topic_lookup_data['Topic_Name'] = ['App Responsiveness','Money Growth (Interest Rates)','Customer Services','Services & Products','User Interface','Credit card', 'Login & Account Setup', 'Competition', 'Safety', 'Customer trust']\n",
    "topic_lookup_data['Topic_Name'] = ['App Responsiveness','Money Growth (Interest Rates)','Customer Services','Services & Products','User Interface','Credit card', 'Login & Account Setup', 'Competition', 'Safety', 'Customer trust']\n",
    "\n",
    "#topic_lookup_data['Topic_Name'] = ['T1', 'T2', 'T3', 'T4', 'T5', 'T6', 'T7', 'T8', 'T9', 'T10', 'T11', 'T11', 'T12', 'T13']\n",
    "\n",
    "topic_lookup_data = topic_lookup_data[['Topic_Number','Topic_Name','Top_Keywords']]\n",
    "\n",
    "'''\n",
    "topic_lookup_data['Top_Keywords'] =  {\n",
    "    0: ['freeze', 'crash', 'buggy', 'transaction', 'speed', 'fast', 'crash', 'breeze', 'swift', 'rapid', 'seamless', 'smooth', 'wait', 'hassle', 'snappy', 'load', 'fingertips', 'efficient', 'error'],\n",
    "    1: ['drop', 'daily', 'min', 'disbursement', 'ROI', 'interest', 'rates', 'savings', 'p.a.'],\n",
    "    2: ['wait', 'time', 'efficient', 'late', 'response', 'customer', 'support', 'hotline', 'email', 'feedback','suggestion'],\n",
    "    3: ['application', 'deposit', 'repayment', 'loan', 'pocket', 'digital', 'money', 'transfer', 'payee', 'lucky', 'draw', 'saving', 'convenient', 'buzz', 'transparent', 'useless', 'block', 'mistake', 'pocket', 'QR', 'deposit'],\n",
    "    4: ['ease', 'use', 'easy', 'clear', 'friendly', 'seamless', 'functionality', 'icon', 'graphics', 'design', 'UI', 'UX', 'theme', 'UI/UX', 'interface', 'intuitive', 'user', 'beautiful'],\n",
    "    5: ['rebates', 'rewards', 'programme', 'debit', 'creditcard', 'credit', 'card'],\n",
    "    6: ['registration', 'singpass', 'password', 'biometric', 'onboard', 'form', 'setup', 'set', 'up', 'login' , 'open', 'signup', 'fingerprint', 'launch', 'register', 'create', 'application', '2FA', 'download', 'biometrics', 'sign'],\n",
    "    7: ['Trust', 'maribank', 'T' , 'bills', 'OCBC', 'Timo'],\n",
    "    8: ['password', 'pin', 'particulars', 'QR', 'bug', 'hack', 'security', 'secure', 'insecure', 'safe'],\n",
    "    9: ['misleading', 'deceive', 'fake' , 'false', 'scam']\n",
    "}\n",
    "'''\n",
    "\n",
    "topic_lookup_data['Top_Keywords'] = topic_lookup_data.Top_Keywords.str\\\n",
    ".replace(r'[^a-z]',' ',regex=True).apply(lambda x: x.split())\n",
    "\n",
    "\n",
    "topic_lookup_data.style.set_properties(subset=['Top_Keywords'], **{'width': '300px'})"
   ]
  },
  {
   "attachments": {},
   "cell_type": "markdown",
   "metadata": {},
   "source": [
    "### Creating new columns and inserting topic numbers and names"
   ]
  },
  {
   "cell_type": "code",
   "execution_count": 121,
   "metadata": {},
   "outputs": [
    {
     "ename": "IndexError",
     "evalue": "list index out of range",
     "output_type": "error",
     "traceback": [
      "\u001b[0;31m---------------------------------------------------------------------------\u001b[0m",
      "\u001b[0;31mIndexError\u001b[0m                                Traceback (most recent call last)",
      "Cell \u001b[0;32mIn[121], line 3\u001b[0m\n\u001b[1;32m      1\u001b[0m \u001b[38;5;28;01mfor\u001b[39;00m index,sent \u001b[38;5;129;01min\u001b[39;00m \u001b[38;5;28menumerate\u001b[39m(lda_model[doc_term_matrix]):\n\u001b[1;32m      2\u001b[0m   topic_num \u001b[38;5;241m=\u001b[39m[]\n\u001b[0;32m----> 3\u001b[0m   topic_details \u001b[38;5;241m=\u001b[39m \u001b[38;5;28;43msorted\u001b[39;49m\u001b[43m(\u001b[49m\u001b[43msent\u001b[49m\u001b[43m,\u001b[49m\u001b[43mkey\u001b[49m\u001b[38;5;241;43m=\u001b[39;49m\u001b[38;5;28;43;01mlambda\u001b[39;49;00m\u001b[43m \u001b[49m\u001b[43mx\u001b[49m\u001b[43m:\u001b[49m\u001b[43m \u001b[49m\u001b[43mx\u001b[49m\u001b[43m[\u001b[49m\u001b[38;5;241;43m1\u001b[39;49m\u001b[43m]\u001b[49m\u001b[43m,\u001b[49m\u001b[43m \u001b[49m\u001b[43mreverse\u001b[49m\u001b[38;5;241;43m=\u001b[39;49m\u001b[38;5;28;43;01mTrue\u001b[39;49;00m\u001b[43m)\u001b[49m[:\u001b[38;5;241m2\u001b[39m] \u001b[38;5;66;03m# Getting top 2 topics in descending order\u001b[39;00m\n\u001b[1;32m      4\u001b[0m   topic_num\u001b[38;5;241m.\u001b[39mappend(topic_details[\u001b[38;5;241m0\u001b[39m][\u001b[38;5;241m0\u001b[39m]) \u001b[38;5;66;03m# Appending top topic\u001b[39;00m\n\u001b[1;32m      5\u001b[0m   \u001b[38;5;28;01mif\u001b[39;00m \u001b[38;5;28mlen\u001b[39m(topic_details) \u001b[38;5;241m>\u001b[39m \u001b[38;5;241m1\u001b[39m:\n",
      "Cell \u001b[0;32mIn[121], line 3\u001b[0m, in \u001b[0;36m<lambda>\u001b[0;34m(x)\u001b[0m\n\u001b[1;32m      1\u001b[0m \u001b[38;5;28;01mfor\u001b[39;00m index,sent \u001b[38;5;129;01min\u001b[39;00m \u001b[38;5;28menumerate\u001b[39m(lda_model[doc_term_matrix]):\n\u001b[1;32m      2\u001b[0m   topic_num \u001b[38;5;241m=\u001b[39m[]\n\u001b[0;32m----> 3\u001b[0m   topic_details \u001b[38;5;241m=\u001b[39m \u001b[38;5;28msorted\u001b[39m(sent,key\u001b[38;5;241m=\u001b[39m\u001b[38;5;28;01mlambda\u001b[39;00m x: \u001b[43mx\u001b[49m\u001b[43m[\u001b[49m\u001b[38;5;241;43m1\u001b[39;49m\u001b[43m]\u001b[49m, reverse\u001b[38;5;241m=\u001b[39m\u001b[38;5;28;01mTrue\u001b[39;00m)[:\u001b[38;5;241m2\u001b[39m] \u001b[38;5;66;03m# Getting top 2 topics in descending order\u001b[39;00m\n\u001b[1;32m      4\u001b[0m   topic_num\u001b[38;5;241m.\u001b[39mappend(topic_details[\u001b[38;5;241m0\u001b[39m][\u001b[38;5;241m0\u001b[39m]) \u001b[38;5;66;03m# Appending top topic\u001b[39;00m\n\u001b[1;32m      5\u001b[0m   \u001b[38;5;28;01mif\u001b[39;00m \u001b[38;5;28mlen\u001b[39m(topic_details) \u001b[38;5;241m>\u001b[39m \u001b[38;5;241m1\u001b[39m:\n",
      "\u001b[0;31mIndexError\u001b[0m: list index out of range"
     ]
    }
   ],
   "source": [
    "for index,sent in enumerate(lda_model[doc_term_matrix]):\n",
    "  topic_num =[]\n",
    "  topic_details = sorted(sent,key=lambda x: x[1], reverse=True)[:2] # Getting top 2 topics in descending order\n",
    "  topic_num.append(topic_details[0][0]) # Appending top topic\n",
    "  if len(topic_details) > 1:\n",
    "    if topic_details[1][1] > 0.35: # Appending second topic only if it has more than 35% influence on current row\n",
    "      topic_num.append(topic_details[1][0])\n",
    "  review_data.loc[index,'Topic_Number'] = ','.join(str(x) for x in sorted(topic_num))"
   ]
  },
  {
   "cell_type": "code",
   "execution_count": null,
   "metadata": {},
   "outputs": [
    {
     "ename": "AttributeError",
     "evalue": "'DataFrame' object has no attribute 'Topic_Number'",
     "output_type": "error",
     "traceback": [
      "\u001b[0;31m---------------------------------------------------------------------------\u001b[0m",
      "\u001b[0;31mAttributeError\u001b[0m                            Traceback (most recent call last)",
      "\u001b[0;32m/var/folders/cc/b861mgp53v7bmzgrnyrglk0w0000gn/T/ipykernel_62653/2816348112.py\u001b[0m in \u001b[0;36m?\u001b[0;34m()\u001b[0m\n\u001b[0;32m----> 1\u001b[0;31m \u001b[0;32mfor\u001b[0m \u001b[0mindex\u001b[0m\u001b[0;34m,\u001b[0m\u001b[0mtopic_num\u001b[0m \u001b[0;32min\u001b[0m \u001b[0menumerate\u001b[0m\u001b[0;34m(\u001b[0m\u001b[0mreview_data\u001b[0m\u001b[0;34m.\u001b[0m\u001b[0mTopic_Number\u001b[0m\u001b[0;34m)\u001b[0m\u001b[0;34m:\u001b[0m\u001b[0;34m\u001b[0m\u001b[0;34m\u001b[0m\u001b[0m\n\u001b[0m\u001b[1;32m      2\u001b[0m   \u001b[0mtopic_name_list\u001b[0m\u001b[0;34m=\u001b[0m\u001b[0;34m[\u001b[0m\u001b[0;34m]\u001b[0m\u001b[0;34m\u001b[0m\u001b[0;34m\u001b[0m\u001b[0m\n\u001b[1;32m      3\u001b[0m   \u001b[0;32mfor\u001b[0m \u001b[0msingle_topic_num\u001b[0m \u001b[0;32min\u001b[0m \u001b[0mtopic_num\u001b[0m\u001b[0;34m.\u001b[0m\u001b[0msplit\u001b[0m\u001b[0;34m(\u001b[0m\u001b[0;34m','\u001b[0m\u001b[0;34m)\u001b[0m\u001b[0;34m:\u001b[0m\u001b[0;34m\u001b[0m\u001b[0;34m\u001b[0m\u001b[0m\n\u001b[1;32m      4\u001b[0m     \u001b[0msingle_topic_num\u001b[0m\u001b[0;34m=\u001b[0m\u001b[0mint\u001b[0m\u001b[0;34m(\u001b[0m\u001b[0msingle_topic_num\u001b[0m\u001b[0;34m)\u001b[0m\u001b[0;34m\u001b[0m\u001b[0;34m\u001b[0m\u001b[0m\n",
      "\u001b[0;32m/Library/Frameworks/Python.framework/Versions/3.9/lib/python3.9/site-packages/pandas/core/generic.py\u001b[0m in \u001b[0;36m?\u001b[0;34m(self, name)\u001b[0m\n\u001b[1;32m   6292\u001b[0m             \u001b[0;32mand\u001b[0m \u001b[0mname\u001b[0m \u001b[0;32mnot\u001b[0m \u001b[0;32min\u001b[0m \u001b[0mself\u001b[0m\u001b[0;34m.\u001b[0m\u001b[0m_accessors\u001b[0m\u001b[0;34m\u001b[0m\u001b[0;34m\u001b[0m\u001b[0m\n\u001b[1;32m   6293\u001b[0m             \u001b[0;32mand\u001b[0m \u001b[0mself\u001b[0m\u001b[0;34m.\u001b[0m\u001b[0m_info_axis\u001b[0m\u001b[0;34m.\u001b[0m\u001b[0m_can_hold_identifiers_and_holds_name\u001b[0m\u001b[0;34m(\u001b[0m\u001b[0mname\u001b[0m\u001b[0;34m)\u001b[0m\u001b[0;34m\u001b[0m\u001b[0;34m\u001b[0m\u001b[0m\n\u001b[1;32m   6294\u001b[0m         ):\n\u001b[1;32m   6295\u001b[0m             \u001b[0;32mreturn\u001b[0m \u001b[0mself\u001b[0m\u001b[0;34m[\u001b[0m\u001b[0mname\u001b[0m\u001b[0;34m]\u001b[0m\u001b[0;34m\u001b[0m\u001b[0;34m\u001b[0m\u001b[0m\n\u001b[0;32m-> 6296\u001b[0;31m         \u001b[0;32mreturn\u001b[0m \u001b[0mobject\u001b[0m\u001b[0;34m.\u001b[0m\u001b[0m__getattribute__\u001b[0m\u001b[0;34m(\u001b[0m\u001b[0mself\u001b[0m\u001b[0;34m,\u001b[0m \u001b[0mname\u001b[0m\u001b[0;34m)\u001b[0m\u001b[0;34m\u001b[0m\u001b[0;34m\u001b[0m\u001b[0m\n\u001b[0m",
      "\u001b[0;31mAttributeError\u001b[0m: 'DataFrame' object has no attribute 'Topic_Number'"
     ]
    }
   ],
   "source": [
    "for index,topic_num in enumerate(review_data.Topic_Number):\n",
    "  topic_name_list=[]\n",
    "  for single_topic_num in topic_num.split(','):\n",
    "    single_topic_num=int(single_topic_num)\n",
    "    topic_name_list.append(topic_lookup_data.loc\\\n",
    "                           [topic_lookup_data.Topic_Number == single_topic_num,'Topic_Name'][single_topic_num]) \n",
    "  # Extracting topic names from lookup table\n",
    "  review_data.loc[index,'Topic_Name'] =' & '.join(topic_name_list)"
   ]
  },
  {
   "cell_type": "code",
   "execution_count": null,
   "metadata": {},
   "outputs": [
    {
     "data": {
      "text/html": [
       "<div>\n",
       "<style scoped>\n",
       "    .dataframe tbody tr th:only-of-type {\n",
       "        vertical-align: middle;\n",
       "    }\n",
       "\n",
       "    .dataframe tbody tr th {\n",
       "        vertical-align: top;\n",
       "    }\n",
       "\n",
       "    .dataframe thead th {\n",
       "        text-align: right;\n",
       "    }\n",
       "</style>\n",
       "<table border=\"1\" class=\"dataframe\">\n",
       "  <thead>\n",
       "    <tr style=\"text-align: right;\">\n",
       "      <th></th>\n",
       "      <th>review</th>\n",
       "      <th>clean_review</th>\n",
       "      <th>Topic_Number</th>\n",
       "      <th>Topic_Name</th>\n",
       "    </tr>\n",
       "  </thead>\n",
       "  <tbody>\n",
       "    <tr>\n",
       "      <th>0</th>\n",
       "      <td>Great banking app with attractive interest rat...</td>\n",
       "      <td>[banking, interest, rate, please, payee, numbe...</td>\n",
       "      <td>3</td>\n",
       "      <td>Services &amp; Products</td>\n",
       "    </tr>\n",
       "    <tr>\n",
       "      <th>1</th>\n",
       "      <td>A bank like no other, no bank have such amazin...</td>\n",
       "      <td>[bank, bank, feature, money, pocket, track, go...</td>\n",
       "      <td>1</td>\n",
       "      <td>Money Growth (Interest Rates)</td>\n",
       "    </tr>\n",
       "    <tr>\n",
       "      <th>2</th>\n",
       "      <td>Notice that the drop in interest rate of 0.8% ...</td>\n",
       "      <td>[notice, drop, interest, rate, account, reason...</td>\n",
       "      <td>1</td>\n",
       "      <td>Money Growth (Interest Rates)</td>\n",
       "    </tr>\n",
       "    <tr>\n",
       "      <th>3</th>\n",
       "      <td>Sending money into my GXS account is a breeze ...</td>\n",
       "      <td>[money, account, breeze, amount, fund, money, ...</td>\n",
       "      <td>6</td>\n",
       "      <td>Login &amp; Account Setup</td>\n",
       "    </tr>\n",
       "    <tr>\n",
       "      <th>4</th>\n",
       "      <td>I have to say that the UI/UX is one of the bes...</td>\n",
       "      <td>[digibank, mobile, market, player, focus, cust...</td>\n",
       "      <td>4</td>\n",
       "      <td>User Interface</td>\n",
       "    </tr>\n",
       "    <tr>\n",
       "      <th>...</th>\n",
       "      <td>...</td>\n",
       "      <td>...</td>\n",
       "      <td>...</td>\n",
       "      <td>...</td>\n",
       "    </tr>\n",
       "    <tr>\n",
       "      <th>312</th>\n",
       "      <td>digital bank app does not work when it already...</td>\n",
       "      <td>[digital, bank, work]</td>\n",
       "      <td>11</td>\n",
       "      <td>b</td>\n",
       "    </tr>\n",
       "    <tr>\n",
       "      <th>313</th>\n",
       "      <td>Not ready to roll out completely. Aint even al...</td>\n",
       "      <td>[roll, aint, create, account, invitation]</td>\n",
       "      <td>3</td>\n",
       "      <td>Services &amp; Products</td>\n",
       "    </tr>\n",
       "    <tr>\n",
       "      <th>314</th>\n",
       "      <td>Can not download yet, just always show pending...</td>\n",
       "      <td>[download, show]</td>\n",
       "      <td>2</td>\n",
       "      <td>Customer Services</td>\n",
       "    </tr>\n",
       "    <tr>\n",
       "      <th>315</th>\n",
       "      <td>Looks cool and sleek! Can I get an invite if I...</td>\n",
       "      <td>[look, cool, sleek, invite, star, review]</td>\n",
       "      <td>10</td>\n",
       "      <td>a</td>\n",
       "    </tr>\n",
       "    <tr>\n",
       "      <th>316</th>\n",
       "      <td>It's doesn't work, they're just trying to coll...</td>\n",
       "      <td>[work, collect, phone, number, download, play,...</td>\n",
       "      <td>2</td>\n",
       "      <td>Customer Services</td>\n",
       "    </tr>\n",
       "  </tbody>\n",
       "</table>\n",
       "<p>317 rows × 4 columns</p>\n",
       "</div>"
      ],
      "text/plain": [
       "                                                review  \\\n",
       "0    Great banking app with attractive interest rat...   \n",
       "1    A bank like no other, no bank have such amazin...   \n",
       "2    Notice that the drop in interest rate of 0.8% ...   \n",
       "3    Sending money into my GXS account is a breeze ...   \n",
       "4    I have to say that the UI/UX is one of the bes...   \n",
       "..                                                 ...   \n",
       "312  digital bank app does not work when it already...   \n",
       "313  Not ready to roll out completely. Aint even al...   \n",
       "314  Can not download yet, just always show pending...   \n",
       "315  Looks cool and sleek! Can I get an invite if I...   \n",
       "316  It's doesn't work, they're just trying to coll...   \n",
       "\n",
       "                                          clean_review Topic_Number  \\\n",
       "0    [banking, interest, rate, please, payee, numbe...            3   \n",
       "1    [bank, bank, feature, money, pocket, track, go...            1   \n",
       "2    [notice, drop, interest, rate, account, reason...            1   \n",
       "3    [money, account, breeze, amount, fund, money, ...            6   \n",
       "4    [digibank, mobile, market, player, focus, cust...            4   \n",
       "..                                                 ...          ...   \n",
       "312                              [digital, bank, work]           11   \n",
       "313          [roll, aint, create, account, invitation]            3   \n",
       "314                                   [download, show]            2   \n",
       "315          [look, cool, sleek, invite, star, review]           10   \n",
       "316  [work, collect, phone, number, download, play,...            2   \n",
       "\n",
       "                        Topic_Name  \n",
       "0              Services & Products  \n",
       "1    Money Growth (Interest Rates)  \n",
       "2    Money Growth (Interest Rates)  \n",
       "3            Login & Account Setup  \n",
       "4                   User Interface  \n",
       "..                             ...  \n",
       "312                              b  \n",
       "313            Services & Products  \n",
       "314              Customer Services  \n",
       "315                              a  \n",
       "316              Customer Services  \n",
       "\n",
       "[317 rows x 4 columns]"
      ]
     },
     "execution_count": 346,
     "metadata": {},
     "output_type": "execute_result"
    }
   ],
   "source": [
    "review_data"
   ]
  },
  {
   "attachments": {},
   "cell_type": "markdown",
   "metadata": {},
   "source": [
    "### Visualization"
   ]
  },
  {
   "cell_type": "code",
   "execution_count": null,
   "metadata": {},
   "outputs": [
    {
     "name": "stderr",
     "output_type": "stream",
     "text": [
      "/Library/Frameworks/Python.framework/Versions/3.9/lib/python3.9/site-packages/seaborn/rcmod.py:82: DeprecationWarning: distutils Version classes are deprecated. Use packaging.version instead.\n",
      "  if LooseVersion(mpl.__version__) >= \"3.0\":\n",
      "/Library/Frameworks/Python.framework/Versions/3.9/lib/python3.9/site-packages/setuptools/_distutils/version.py:345: DeprecationWarning: distutils Version classes are deprecated. Use packaging.version instead.\n",
      "  other = LooseVersion(other)\n",
      "/Library/Frameworks/Python.framework/Versions/3.9/lib/python3.9/site-packages/seaborn/cm.py:1582: MatplotlibDeprecationWarning: The register_cmap function was deprecated in Matplotlib 3.7 and will be removed two minor releases later. Use ``matplotlib.colormaps.register(name)`` instead.\n",
      "  mpl_cm.register_cmap(_name, _cmap)\n",
      "/Library/Frameworks/Python.framework/Versions/3.9/lib/python3.9/site-packages/seaborn/cm.py:1583: MatplotlibDeprecationWarning: The register_cmap function was deprecated in Matplotlib 3.7 and will be removed two minor releases later. Use ``matplotlib.colormaps.register(name)`` instead.\n",
      "  mpl_cm.register_cmap(_name + \"_r\", _cmap_r)\n",
      "/Library/Frameworks/Python.framework/Versions/3.9/lib/python3.9/site-packages/seaborn/cm.py:1582: MatplotlibDeprecationWarning: The register_cmap function was deprecated in Matplotlib 3.7 and will be removed two minor releases later. Use ``matplotlib.colormaps.register(name)`` instead.\n",
      "  mpl_cm.register_cmap(_name, _cmap)\n",
      "/Library/Frameworks/Python.framework/Versions/3.9/lib/python3.9/site-packages/seaborn/cm.py:1583: MatplotlibDeprecationWarning: The register_cmap function was deprecated in Matplotlib 3.7 and will be removed two minor releases later. Use ``matplotlib.colormaps.register(name)`` instead.\n",
      "  mpl_cm.register_cmap(_name + \"_r\", _cmap_r)\n",
      "/Library/Frameworks/Python.framework/Versions/3.9/lib/python3.9/site-packages/seaborn/cm.py:1582: MatplotlibDeprecationWarning: The register_cmap function was deprecated in Matplotlib 3.7 and will be removed two minor releases later. Use ``matplotlib.colormaps.register(name)`` instead.\n",
      "  mpl_cm.register_cmap(_name, _cmap)\n",
      "/Library/Frameworks/Python.framework/Versions/3.9/lib/python3.9/site-packages/seaborn/cm.py:1583: MatplotlibDeprecationWarning: The register_cmap function was deprecated in Matplotlib 3.7 and will be removed two minor releases later. Use ``matplotlib.colormaps.register(name)`` instead.\n",
      "  mpl_cm.register_cmap(_name + \"_r\", _cmap_r)\n",
      "/Library/Frameworks/Python.framework/Versions/3.9/lib/python3.9/site-packages/seaborn/cm.py:1582: MatplotlibDeprecationWarning: The register_cmap function was deprecated in Matplotlib 3.7 and will be removed two minor releases later. Use ``matplotlib.colormaps.register(name)`` instead.\n",
      "  mpl_cm.register_cmap(_name, _cmap)\n",
      "/Library/Frameworks/Python.framework/Versions/3.9/lib/python3.9/site-packages/seaborn/cm.py:1583: MatplotlibDeprecationWarning: The register_cmap function was deprecated in Matplotlib 3.7 and will be removed two minor releases later. Use ``matplotlib.colormaps.register(name)`` instead.\n",
      "  mpl_cm.register_cmap(_name + \"_r\", _cmap_r)\n",
      "/Library/Frameworks/Python.framework/Versions/3.9/lib/python3.9/site-packages/seaborn/cm.py:1582: MatplotlibDeprecationWarning: The register_cmap function was deprecated in Matplotlib 3.7 and will be removed two minor releases later. Use ``matplotlib.colormaps.register(name)`` instead.\n",
      "  mpl_cm.register_cmap(_name, _cmap)\n",
      "/Library/Frameworks/Python.framework/Versions/3.9/lib/python3.9/site-packages/seaborn/cm.py:1583: MatplotlibDeprecationWarning: The register_cmap function was deprecated in Matplotlib 3.7 and will be removed two minor releases later. Use ``matplotlib.colormaps.register(name)`` instead.\n",
      "  mpl_cm.register_cmap(_name + \"_r\", _cmap_r)\n",
      "/Library/Frameworks/Python.framework/Versions/3.9/lib/python3.9/site-packages/seaborn/cm.py:1582: MatplotlibDeprecationWarning: The register_cmap function was deprecated in Matplotlib 3.7 and will be removed two minor releases later. Use ``matplotlib.colormaps.register(name)`` instead.\n",
      "  mpl_cm.register_cmap(_name, _cmap)\n",
      "/Library/Frameworks/Python.framework/Versions/3.9/lib/python3.9/site-packages/seaborn/cm.py:1583: MatplotlibDeprecationWarning: The register_cmap function was deprecated in Matplotlib 3.7 and will be removed two minor releases later. Use ``matplotlib.colormaps.register(name)`` instead.\n",
      "  mpl_cm.register_cmap(_name + \"_r\", _cmap_r)\n"
     ]
    }
   ],
   "source": [
    "import seaborn as sns"
   ]
  },
  {
   "cell_type": "code",
   "execution_count": null,
   "metadata": {},
   "outputs": [
    {
     "ename": "AttributeError",
     "evalue": "'DataFrame' object has no attribute 'Topic_Name'",
     "output_type": "error",
     "traceback": [
      "\u001b[0;31m---------------------------------------------------------------------------\u001b[0m",
      "\u001b[0;31mAttributeError\u001b[0m                            Traceback (most recent call last)",
      "\u001b[0;32m/var/folders/cc/b861mgp53v7bmzgrnyrglk0w0000gn/T/ipykernel_62653/2038487278.py\u001b[0m in \u001b[0;36m?\u001b[0;34m()\u001b[0m\n\u001b[0;32m----> 2\u001b[0;31m \u001b[0mplt\u001b[0m\u001b[0;34m.\u001b[0m\u001b[0mfigure\u001b[0m\u001b[0;34m(\u001b[0m\u001b[0mfigsize\u001b[0m\u001b[0;34m=\u001b[0m\u001b[0;34m(\u001b[0m\u001b[0;36m12\u001b[0m\u001b[0;34m,\u001b[0m\u001b[0;36m6\u001b[0m\u001b[0;34m)\u001b[0m\u001b[0;34m)\u001b[0m\u001b[0;34m\u001b[0m\u001b[0;34m\u001b[0m\u001b[0m\n\u001b[0m\u001b[1;32m      3\u001b[0m \u001b[0max\u001b[0m \u001b[0;34m=\u001b[0m \u001b[0msns\u001b[0m\u001b[0;34m.\u001b[0m\u001b[0mbarplot\u001b[0m\u001b[0;34m(\u001b[0m\u001b[0mx\u001b[0m\u001b[0;34m=\u001b[0m\u001b[0mreview_data\u001b[0m\u001b[0;34m.\u001b[0m\u001b[0mTopic_Name\u001b[0m\u001b[0;34m.\u001b[0m\u001b[0mvalue_counts\u001b[0m\u001b[0;34m(\u001b[0m\u001b[0;34m)\u001b[0m\u001b[0;34m[\u001b[0m\u001b[0;34m:\u001b[0m\u001b[0;36m6\u001b[0m\u001b[0;34m]\u001b[0m\u001b[0;34m.\u001b[0m\u001b[0mindex\u001b[0m\u001b[0;34m,\u001b[0m\u001b[0my\u001b[0m\u001b[0;34m=\u001b[0m\u001b[0mreview_data\u001b[0m\u001b[0;34m.\u001b[0m\u001b[0mTopic_Name\u001b[0m\u001b[0;34m.\u001b[0m\u001b[0mvalue_counts\u001b[0m\u001b[0;34m(\u001b[0m\u001b[0;34m)\u001b[0m\u001b[0;34m[\u001b[0m\u001b[0;34m:\u001b[0m\u001b[0;36m6\u001b[0m\u001b[0;34m]\u001b[0m\u001b[0;34m.\u001b[0m\u001b[0mvalues\u001b[0m\u001b[0;34m)\u001b[0m\u001b[0;34m\u001b[0m\u001b[0;34m\u001b[0m\u001b[0m\n\u001b[1;32m      4\u001b[0m \u001b[0;32mfor\u001b[0m \u001b[0mp\u001b[0m \u001b[0;32min\u001b[0m \u001b[0max\u001b[0m\u001b[0;34m.\u001b[0m\u001b[0mpatches\u001b[0m\u001b[0;34m:\u001b[0m\u001b[0;34m\u001b[0m\u001b[0;34m\u001b[0m\u001b[0m\n\u001b[1;32m      5\u001b[0m     \u001b[0max\u001b[0m\u001b[0;34m.\u001b[0m\u001b[0mannotate\u001b[0m\u001b[0;34m(\u001b[0m\u001b[0mp\u001b[0m\u001b[0;34m.\u001b[0m\u001b[0mget_height\u001b[0m\u001b[0;34m(\u001b[0m\u001b[0;34m)\u001b[0m\u001b[0;34m,\u001b[0m \u001b[0;34m(\u001b[0m\u001b[0mp\u001b[0m\u001b[0;34m.\u001b[0m\u001b[0mget_x\u001b[0m\u001b[0;34m(\u001b[0m\u001b[0;34m)\u001b[0m \u001b[0;34m+\u001b[0m \u001b[0mp\u001b[0m\u001b[0;34m.\u001b[0m\u001b[0mget_width\u001b[0m\u001b[0;34m(\u001b[0m\u001b[0;34m)\u001b[0m \u001b[0;34m/\u001b[0m \u001b[0;36m2.\u001b[0m\u001b[0;34m,\u001b[0m \u001b[0mp\u001b[0m\u001b[0;34m.\u001b[0m\u001b[0mget_height\u001b[0m\u001b[0;34m(\u001b[0m\u001b[0;34m)\u001b[0m\u001b[0;34m+\u001b[0m\u001b[0;36m50\u001b[0m\u001b[0;34m)\u001b[0m\u001b[0;34m,\u001b[0m\u001b[0mha\u001b[0m \u001b[0;34m=\u001b[0m \u001b[0;34m'center'\u001b[0m\u001b[0;34m,\u001b[0m \u001b[0mva\u001b[0m \u001b[0;34m=\u001b[0m \u001b[0;34m'center'\u001b[0m\u001b[0;34m)\u001b[0m\u001b[0;34m\u001b[0m\u001b[0;34m\u001b[0m\u001b[0m\n",
      "\u001b[0;32m/Library/Frameworks/Python.framework/Versions/3.9/lib/python3.9/site-packages/pandas/core/generic.py\u001b[0m in \u001b[0;36m?\u001b[0;34m(self, name)\u001b[0m\n\u001b[1;32m   6292\u001b[0m             \u001b[0;32mand\u001b[0m \u001b[0mname\u001b[0m \u001b[0;32mnot\u001b[0m \u001b[0;32min\u001b[0m \u001b[0mself\u001b[0m\u001b[0;34m.\u001b[0m\u001b[0m_accessors\u001b[0m\u001b[0;34m\u001b[0m\u001b[0;34m\u001b[0m\u001b[0m\n\u001b[1;32m   6293\u001b[0m             \u001b[0;32mand\u001b[0m \u001b[0mself\u001b[0m\u001b[0;34m.\u001b[0m\u001b[0m_info_axis\u001b[0m\u001b[0;34m.\u001b[0m\u001b[0m_can_hold_identifiers_and_holds_name\u001b[0m\u001b[0;34m(\u001b[0m\u001b[0mname\u001b[0m\u001b[0;34m)\u001b[0m\u001b[0;34m\u001b[0m\u001b[0;34m\u001b[0m\u001b[0m\n\u001b[1;32m   6294\u001b[0m         ):\n\u001b[1;32m   6295\u001b[0m             \u001b[0;32mreturn\u001b[0m \u001b[0mself\u001b[0m\u001b[0;34m[\u001b[0m\u001b[0mname\u001b[0m\u001b[0;34m]\u001b[0m\u001b[0;34m\u001b[0m\u001b[0;34m\u001b[0m\u001b[0m\n\u001b[0;32m-> 6296\u001b[0;31m         \u001b[0;32mreturn\u001b[0m \u001b[0mobject\u001b[0m\u001b[0;34m.\u001b[0m\u001b[0m__getattribute__\u001b[0m\u001b[0;34m(\u001b[0m\u001b[0mself\u001b[0m\u001b[0;34m,\u001b[0m \u001b[0mname\u001b[0m\u001b[0;34m)\u001b[0m\u001b[0;34m\u001b[0m\u001b[0;34m\u001b[0m\u001b[0m\n\u001b[0m",
      "\u001b[0;31mAttributeError\u001b[0m: 'DataFrame' object has no attribute 'Topic_Name'"
     ]
    },
    {
     "data": {
      "text/plain": [
       "<Figure size 1200x600 with 0 Axes>"
      ]
     },
     "metadata": {},
     "output_type": "display_data"
    }
   ],
   "source": [
    "plt.figure(figsize=(12,6))\n",
    "ax = sns.barplot(x=review_data.Topic_Name.value_counts()[:6].index,y=review_data.Topic_Name.value_counts()[:6].values)\n",
    "for p in ax.patches:\n",
    "    ax.annotate(p.get_height(), (p.get_x() + p.get_width() / 2., p.get_height()+50),ha = 'center', va = 'center')\n",
    "plt.xlabel('Topic Names',size=15)\n",
    "plt.ylabel('Count of topics',size=15)\n",
    "plt.title('Most talked topics in reviews',size=15)\n",
    "plt.show()"
   ]
  },
  {
   "attachments": {},
   "cell_type": "markdown",
   "metadata": {},
   "source": [
    "From above graph we can say that most of customers had issues with Battery of mobile"
   ]
  },
  {
   "cell_type": "code",
   "execution_count": null,
   "metadata": {},
   "outputs": [
    {
     "ename": "AttributeError",
     "evalue": "'DataFrame' object has no attribute 'Topic_Name'",
     "output_type": "error",
     "traceback": [
      "\u001b[0;31m---------------------------------------------------------------------------\u001b[0m",
      "\u001b[0;31mAttributeError\u001b[0m                            Traceback (most recent call last)",
      "\u001b[0;32m/var/folders/cc/b861mgp53v7bmzgrnyrglk0w0000gn/T/ipykernel_62653/3077973111.py\u001b[0m in \u001b[0;36m?\u001b[0;34m()\u001b[0m\n\u001b[0;32m----> 2\u001b[0;31m \u001b[0mplt\u001b[0m\u001b[0;34m.\u001b[0m\u001b[0mfigure\u001b[0m\u001b[0;34m(\u001b[0m\u001b[0mfigsize\u001b[0m\u001b[0;34m=\u001b[0m\u001b[0;34m(\u001b[0m\u001b[0;36m12\u001b[0m\u001b[0;34m,\u001b[0m\u001b[0;36m6\u001b[0m\u001b[0;34m)\u001b[0m\u001b[0;34m)\u001b[0m\u001b[0;34m\u001b[0m\u001b[0;34m\u001b[0m\u001b[0m\n\u001b[0m\u001b[1;32m      3\u001b[0m \u001b[0max\u001b[0m \u001b[0;34m=\u001b[0m \u001b[0msns\u001b[0m\u001b[0;34m.\u001b[0m\u001b[0mbarplot\u001b[0m\u001b[0;34m(\u001b[0m\u001b[0mx\u001b[0m\u001b[0;34m=\u001b[0m\u001b[0mreview_data\u001b[0m\u001b[0;34m.\u001b[0m\u001b[0mTopic_Name\u001b[0m\u001b[0;34m.\u001b[0m\u001b[0mvalue_counts\u001b[0m\u001b[0;34m(\u001b[0m\u001b[0;34m)\u001b[0m\u001b[0;34m[\u001b[0m\u001b[0;36m6\u001b[0m\u001b[0;34m:\u001b[0m\u001b[0;34m]\u001b[0m\u001b[0;34m.\u001b[0m\u001b[0mindex\u001b[0m\u001b[0;34m,\u001b[0m\u001b[0my\u001b[0m\u001b[0;34m=\u001b[0m\u001b[0mreview_data\u001b[0m\u001b[0;34m.\u001b[0m\u001b[0mTopic_Name\u001b[0m\u001b[0;34m.\u001b[0m\u001b[0mvalue_counts\u001b[0m\u001b[0;34m(\u001b[0m\u001b[0;34m)\u001b[0m\u001b[0;34m[\u001b[0m\u001b[0;36m6\u001b[0m\u001b[0;34m:\u001b[0m\u001b[0;34m]\u001b[0m\u001b[0;34m.\u001b[0m\u001b[0mvalues\u001b[0m\u001b[0;34m)\u001b[0m\u001b[0;34m\u001b[0m\u001b[0;34m\u001b[0m\u001b[0m\n\u001b[1;32m      4\u001b[0m \u001b[0;32mfor\u001b[0m \u001b[0mp\u001b[0m \u001b[0;32min\u001b[0m \u001b[0max\u001b[0m\u001b[0;34m.\u001b[0m\u001b[0mpatches\u001b[0m\u001b[0;34m:\u001b[0m\u001b[0;34m\u001b[0m\u001b[0;34m\u001b[0m\u001b[0m\n\u001b[1;32m      5\u001b[0m     \u001b[0max\u001b[0m\u001b[0;34m.\u001b[0m\u001b[0mannotate\u001b[0m\u001b[0;34m(\u001b[0m\u001b[0mp\u001b[0m\u001b[0;34m.\u001b[0m\u001b[0mget_height\u001b[0m\u001b[0;34m(\u001b[0m\u001b[0;34m)\u001b[0m\u001b[0;34m,\u001b[0m \u001b[0;34m(\u001b[0m\u001b[0mp\u001b[0m\u001b[0;34m.\u001b[0m\u001b[0mget_x\u001b[0m\u001b[0;34m(\u001b[0m\u001b[0;34m)\u001b[0m \u001b[0;34m+\u001b[0m \u001b[0mp\u001b[0m\u001b[0;34m.\u001b[0m\u001b[0mget_width\u001b[0m\u001b[0;34m(\u001b[0m\u001b[0;34m)\u001b[0m \u001b[0;34m/\u001b[0m \u001b[0;36m2.\u001b[0m\u001b[0;34m,\u001b[0m \u001b[0mp\u001b[0m\u001b[0;34m.\u001b[0m\u001b[0mget_height\u001b[0m\u001b[0;34m(\u001b[0m\u001b[0;34m)\u001b[0m\u001b[0;34m+\u001b[0m\u001b[0;36m5\u001b[0m\u001b[0;34m)\u001b[0m\u001b[0;34m,\u001b[0m\u001b[0mha\u001b[0m \u001b[0;34m=\u001b[0m \u001b[0;34m'center'\u001b[0m\u001b[0;34m,\u001b[0m \u001b[0mva\u001b[0m \u001b[0;34m=\u001b[0m \u001b[0;34m'center'\u001b[0m\u001b[0;34m)\u001b[0m\u001b[0;34m\u001b[0m\u001b[0;34m\u001b[0m\u001b[0m\n",
      "\u001b[0;32m/Library/Frameworks/Python.framework/Versions/3.9/lib/python3.9/site-packages/pandas/core/generic.py\u001b[0m in \u001b[0;36m?\u001b[0;34m(self, name)\u001b[0m\n\u001b[1;32m   6292\u001b[0m             \u001b[0;32mand\u001b[0m \u001b[0mname\u001b[0m \u001b[0;32mnot\u001b[0m \u001b[0;32min\u001b[0m \u001b[0mself\u001b[0m\u001b[0;34m.\u001b[0m\u001b[0m_accessors\u001b[0m\u001b[0;34m\u001b[0m\u001b[0;34m\u001b[0m\u001b[0m\n\u001b[1;32m   6293\u001b[0m             \u001b[0;32mand\u001b[0m \u001b[0mself\u001b[0m\u001b[0;34m.\u001b[0m\u001b[0m_info_axis\u001b[0m\u001b[0;34m.\u001b[0m\u001b[0m_can_hold_identifiers_and_holds_name\u001b[0m\u001b[0;34m(\u001b[0m\u001b[0mname\u001b[0m\u001b[0;34m)\u001b[0m\u001b[0;34m\u001b[0m\u001b[0;34m\u001b[0m\u001b[0m\n\u001b[1;32m   6294\u001b[0m         ):\n\u001b[1;32m   6295\u001b[0m             \u001b[0;32mreturn\u001b[0m \u001b[0mself\u001b[0m\u001b[0;34m[\u001b[0m\u001b[0mname\u001b[0m\u001b[0;34m]\u001b[0m\u001b[0;34m\u001b[0m\u001b[0;34m\u001b[0m\u001b[0m\n\u001b[0;32m-> 6296\u001b[0;31m         \u001b[0;32mreturn\u001b[0m \u001b[0mobject\u001b[0m\u001b[0;34m.\u001b[0m\u001b[0m__getattribute__\u001b[0m\u001b[0;34m(\u001b[0m\u001b[0mself\u001b[0m\u001b[0;34m,\u001b[0m \u001b[0mname\u001b[0m\u001b[0;34m)\u001b[0m\u001b[0;34m\u001b[0m\u001b[0;34m\u001b[0m\u001b[0m\n\u001b[0m",
      "\u001b[0;31mAttributeError\u001b[0m: 'DataFrame' object has no attribute 'Topic_Name'"
     ]
    },
    {
     "data": {
      "text/plain": [
       "<Figure size 1200x600 with 0 Axes>"
      ]
     },
     "metadata": {},
     "output_type": "display_data"
    }
   ],
   "source": [
    "plt.figure(figsize=(12,6))\n",
    "ax = sns.barplot(x=review_data.Topic_Name.value_counts()[6:].index,y=review_data.Topic_Name.value_counts()[6:].values)\n",
    "for p in ax.patches:\n",
    "    ax.annotate(p.get_height(), (p.get_x() + p.get_width() / 2., p.get_height()+5),ha = 'center', va = 'center')\n",
    "plt.xlabel('Topic Names combined',size=15)\n",
    "plt.ylabel('Count of combined topics',size=15)\n",
    "plt.title('Most talked combined topics in reviews',size=15)\n",
    "plt.xticks(rotation=45)\n",
    "plt.show()"
   ]
  },
  {
   "attachments": {},
   "cell_type": "markdown",
   "metadata": {},
   "source": [
    "From above graph we can say that most of customers had combined issues with,\n",
    "\n",
    "Heating issue & Battery <br>\n",
    "Camera, Sound & Battery <br>\n",
    "turbo charger & Battery"
   ]
  },
  {
   "attachments": {},
   "cell_type": "markdown",
   "metadata": {},
   "source": [
    "### Extracting reviews of 5 topic(review of battery)"
   ]
  },
  {
   "cell_type": "code",
   "execution_count": null,
   "metadata": {},
   "outputs": [
    {
     "data": {
      "text/html": [
       "<style type=\"text/css\">\n",
       "#T_add4c_row0_col0, #T_add4c_row1_col0, #T_add4c_row2_col0, #T_add4c_row3_col0, #T_add4c_row4_col0, #T_add4c_row5_col0, #T_add4c_row6_col0, #T_add4c_row7_col0, #T_add4c_row8_col0, #T_add4c_row9_col0, #T_add4c_row10_col0, #T_add4c_row11_col0, #T_add4c_row12_col0, #T_add4c_row13_col0, #T_add4c_row14_col0, #T_add4c_row15_col0, #T_add4c_row16_col0, #T_add4c_row17_col0, #T_add4c_row18_col0, #T_add4c_row19_col0, #T_add4c_row20_col0, #T_add4c_row21_col0, #T_add4c_row22_col0, #T_add4c_row23_col0, #T_add4c_row24_col0, #T_add4c_row25_col0, #T_add4c_row26_col0, #T_add4c_row27_col0 {\n",
       "  width: 300px;\n",
       "}\n",
       "</style>\n",
       "<table id=\"T_add4c\">\n",
       "  <thead>\n",
       "    <tr>\n",
       "      <th class=\"blank level0\" >&nbsp;</th>\n",
       "      <th id=\"T_add4c_level0_col0\" class=\"col_heading level0 col0\" >review</th>\n",
       "      <th id=\"T_add4c_level0_col1\" class=\"col_heading level0 col1\" >Topic_Name</th>\n",
       "    </tr>\n",
       "  </thead>\n",
       "  <tbody>\n",
       "    <tr>\n",
       "      <th id=\"T_add4c_level0_row0\" class=\"row_heading level0 row0\" >21</th>\n",
       "      <td id=\"T_add4c_row0_col0\" class=\"data row0 col0\" >Can try for saving money !! My money said they liked there</td>\n",
       "      <td id=\"T_add4c_row0_col1\" class=\"data row0 col1\" >Credit card</td>\n",
       "    </tr>\n",
       "    <tr>\n",
       "      <th id=\"T_add4c_level0_row1\" class=\"row_heading level0 row1\" >30</th>\n",
       "      <td id=\"T_add4c_row1_col0\" class=\"data row1 col0\" >No more long waits and tons of paperwork to open a bank account. Looking forward to how GXS can generate a stronger value proposition for consumers.</td>\n",
       "      <td id=\"T_add4c_row1_col1\" class=\"data row1 col1\" >Credit card</td>\n",
       "    </tr>\n",
       "    <tr>\n",
       "      <th id=\"T_add4c_level0_row2\" class=\"row_heading level0 row2\" >31</th>\n",
       "      <td id=\"T_add4c_row2_col0\" class=\"data row2 col0\" >Like to use GXS apps that is link to Grabs apps for easy to transfer money from saving to topup Grabs account.</td>\n",
       "      <td id=\"T_add4c_row2_col1\" class=\"data row2 col1\" >Credit card</td>\n",
       "    </tr>\n",
       "    <tr>\n",
       "      <th id=\"T_add4c_level0_row3\" class=\"row_heading level0 row3\" >40</th>\n",
       "      <td id=\"T_add4c_row3_col0\" class=\"data row3 col0\" >The app is easy to navigate and optimise for people of all ages.</td>\n",
       "      <td id=\"T_add4c_row3_col1\" class=\"data row3 col1\" >Credit card</td>\n",
       "    </tr>\n",
       "    <tr>\n",
       "      <th id=\"T_add4c_level0_row4\" class=\"row_heading level0 row4\" >41</th>\n",
       "      <td id=\"T_add4c_row4_col0\" class=\"data row4 col0\" >Brilliant app design, fast transactions, excellent rates. Keep up the good work! What more can I say?</td>\n",
       "      <td id=\"T_add4c_row4_col1\" class=\"data row4 col1\" >Credit card</td>\n",
       "    </tr>\n",
       "    <tr>\n",
       "      <th id=\"T_add4c_level0_row5\" class=\"row_heading level0 row5\" >51</th>\n",
       "      <td id=\"T_add4c_row5_col0\" class=\"data row5 col0\" >GXS touted a 3.48% interest in their savings pocket only to change the interest to 2.68% within a short period of only a month. A bank is only as good as it’s promises and this bank just lost it all. Will never use GXS again.</td>\n",
       "      <td id=\"T_add4c_row5_col1\" class=\"data row5 col1\" >Money Growth (Interest Rates) & Credit card</td>\n",
       "    </tr>\n",
       "    <tr>\n",
       "      <th id=\"T_add4c_level0_row6\" class=\"row_heading level0 row6\" >88</th>\n",
       "      <td id=\"T_add4c_row6_col0\" class=\"data row6 col0\" >Nice And Fast Bank</td>\n",
       "      <td id=\"T_add4c_row6_col1\" class=\"data row6 col1\" >Credit card</td>\n",
       "    </tr>\n",
       "    <tr>\n",
       "      <th id=\"T_add4c_level0_row7\" class=\"row_heading level0 row7\" >95</th>\n",
       "      <td id=\"T_add4c_row7_col0\" class=\"data row7 col0\" >Is this really an authentic app for GXS? Looks cheap.</td>\n",
       "      <td id=\"T_add4c_row7_col1\" class=\"data row7 col1\" >Credit card</td>\n",
       "    </tr>\n",
       "    <tr>\n",
       "      <th id=\"T_add4c_level0_row8\" class=\"row_heading level0 row8\" >96</th>\n",
       "      <td id=\"T_add4c_row8_col0\" class=\"data row8 col0\" >save ur money and grow</td>\n",
       "      <td id=\"T_add4c_row8_col1\" class=\"data row8 col1\" >Credit card</td>\n",
       "    </tr>\n",
       "    <tr>\n",
       "      <th id=\"T_add4c_level0_row9\" class=\"row_heading level0 row9\" >112</th>\n",
       "      <td id=\"T_add4c_row9_col0\" class=\"data row9 col0\" >Hi any chance for foreign to apply? Im work at sg</td>\n",
       "      <td id=\"T_add4c_row9_col1\" class=\"data row9 col1\" >Credit card</td>\n",
       "    </tr>\n",
       "    <tr>\n",
       "      <th id=\"T_add4c_level0_row10\" class=\"row_heading level0 row10\" >124</th>\n",
       "      <td id=\"T_add4c_row10_col0\" class=\"data row10 col0\" >I am unable to log in today when i could yesterday. I cant transfer my money out to use. There is no alternative like physical counter or website so my money is stuck when i urgently need my money.</td>\n",
       "      <td id=\"T_add4c_row10_col1\" class=\"data row10 col1\" >Credit card</td>\n",
       "    </tr>\n",
       "    <tr>\n",
       "      <th id=\"T_add4c_level0_row11\" class=\"row_heading level0 row11\" >136</th>\n",
       "      <td id=\"T_add4c_row11_col0\" class=\"data row11 col0\" >Cannot set up my account in redmi 8T. Reach the email 2FA before I key in the numbers App closed</td>\n",
       "      <td id=\"T_add4c_row11_col1\" class=\"data row11 col1\" >Credit card</td>\n",
       "    </tr>\n",
       "    <tr>\n",
       "      <th id=\"T_add4c_level0_row12\" class=\"row_heading level0 row12\" >137</th>\n",
       "      <td id=\"T_add4c_row12_col0\" class=\"data row12 col0\" >Easy to use, clear info and rapid yet secure transactions. Highly recommend.</td>\n",
       "      <td id=\"T_add4c_row12_col1\" class=\"data row12 col1\" >Credit card</td>\n",
       "    </tr>\n",
       "    <tr>\n",
       "      <th id=\"T_add4c_level0_row13\" class=\"row_heading level0 row13\" >141</th>\n",
       "      <td id=\"T_add4c_row13_col0\" class=\"data row13 col0\" >Easy & fast approval of loan with reasonable interest rates. GXS is giving other banks a run for their $$$. All the best GXS Bank!</td>\n",
       "      <td id=\"T_add4c_row13_col1\" class=\"data row13 col1\" >Money Growth (Interest Rates) & Credit card</td>\n",
       "    </tr>\n",
       "    <tr>\n",
       "      <th id=\"T_add4c_level0_row14\" class=\"row_heading level0 row14\" >145</th>\n",
       "      <td id=\"T_add4c_row14_col0\" class=\"data row14 col0\" >Worst rate you will ever find. Bank interest are much more forgiving. This app calculate and told me about 8.5% Per/annum. Total outrageous. That's close to ah long rate . Horrible horrible. Straight away uninstalled</td>\n",
       "      <td id=\"T_add4c_row14_col1\" class=\"data row14 col1\" >Credit card</td>\n",
       "    </tr>\n",
       "    <tr>\n",
       "      <th id=\"T_add4c_level0_row15\" class=\"row_heading level0 row15\" >147</th>\n",
       "      <td id=\"T_add4c_row15_col0\" class=\"data row15 col0\" >False advertising of rates.</td>\n",
       "      <td id=\"T_add4c_row15_col1\" class=\"data row15 col1\" >Credit card</td>\n",
       "    </tr>\n",
       "    <tr>\n",
       "      <th id=\"T_add4c_level0_row16\" class=\"row_heading level0 row16\" >154</th>\n",
       "      <td id=\"T_add4c_row16_col0\" class=\"data row16 col0\" >You are welcome! I had hoped to keep more money long term but after only 1 month with GXS, your interest rate dropped greatly! Please have \"Add Payee\" to reduce errors - no Copy & Paste so we need to memorise long account numbers! Jul2023 Review - Seamless transactions. Great fun bank to bank with. I like the pockets idea where I am able to see where my goals are heading! The interest is the icing on the cake! Great UI and UX! Easiest digital bank to use! Thank you very much, Dev & Team!</td>\n",
       "      <td id=\"T_add4c_row16_col1\" class=\"data row16 col1\" >Credit card</td>\n",
       "    </tr>\n",
       "    <tr>\n",
       "      <th id=\"T_add4c_level0_row17\" class=\"row_heading level0 row17\" >164</th>\n",
       "      <td id=\"T_add4c_row17_col0\" class=\"data row17 col0\" >Great concept on the savings account. Daily interest really motivates keeping money there. Hope to see GXS bank grow and increase the savings account limit. Edit: Interest rate drop significantly. Moving out.</td>\n",
       "      <td id=\"T_add4c_row17_col1\" class=\"data row17 col1\" >Money Growth (Interest Rates) & Credit card</td>\n",
       "    </tr>\n",
       "    <tr>\n",
       "      <th id=\"T_add4c_level0_row18\" class=\"row_heading level0 row18\" >181</th>\n",
       "      <td id=\"T_add4c_row18_col0\" class=\"data row18 col0\" >An absolutely rubbish apps, with zero chance of getting loan approval, totally useless</td>\n",
       "      <td id=\"T_add4c_row18_col1\" class=\"data row18 col1\" >Credit card</td>\n",
       "    </tr>\n",
       "    <tr>\n",
       "      <th id=\"T_add4c_level0_row19\" class=\"row_heading level0 row19\" >188</th>\n",
       "      <td id=\"T_add4c_row19_col0\" class=\"data row19 col0\" >No option to add payees</td>\n",
       "      <td id=\"T_add4c_row19_col1\" class=\"data row19 col1\" >Credit card</td>\n",
       "    </tr>\n",
       "    <tr>\n",
       "      <th id=\"T_add4c_level0_row20\" class=\"row_heading level0 row20\" >209</th>\n",
       "      <td id=\"T_add4c_row20_col0\" class=\"data row20 col0\" >such a lousy app. cant even login or set up account</td>\n",
       "      <td id=\"T_add4c_row20_col1\" class=\"data row20 col1\" >Credit card</td>\n",
       "    </tr>\n",
       "    <tr>\n",
       "      <th id=\"T_add4c_level0_row21\" class=\"row_heading level0 row21\" >225</th>\n",
       "      <td id=\"T_add4c_row21_col0\" class=\"data row21 col0\" >Please put in option for adding Payee/beneficiary in the app. We should not be typing in bank account number everytime we make a transfer.</td>\n",
       "      <td id=\"T_add4c_row21_col1\" class=\"data row21 col1\" >Credit card</td>\n",
       "    </tr>\n",
       "    <tr>\n",
       "      <th id=\"T_add4c_level0_row22\" class=\"row_heading level0 row22\" >230</th>\n",
       "      <td id=\"T_add4c_row22_col0\" class=\"data row22 col0\" >I can't sign up at all!!!! It just go blank after I click up with singpass</td>\n",
       "      <td id=\"T_add4c_row22_col1\" class=\"data row22 col1\" >Credit card</td>\n",
       "    </tr>\n",
       "    <tr>\n",
       "      <th id=\"T_add4c_level0_row23\" class=\"row_heading level0 row23\" >251</th>\n",
       "      <td id=\"T_add4c_row23_col0\" class=\"data row23 col0\" >Misleading advertisement for flexiloan promotion for July 2023, stated rate as low as 2.99% p.a. Issued a rate that was extraordinary and way beyond all major banks that would offered even at their highest peak rate. A real shock of disbelief, thinking was a sign-up bug but it ended to be their best rate offered. Would be really cautious on signing up any offers from GXS even though their app user interface, interaction, and wording do project confidence in honoring their offer.</td>\n",
       "      <td id=\"T_add4c_row23_col1\" class=\"data row23 col1\" >Credit card</td>\n",
       "    </tr>\n",
       "    <tr>\n",
       "      <th id=\"T_add4c_level0_row24\" class=\"row_heading level0 row24\" >252</th>\n",
       "      <td id=\"T_add4c_row24_col0\" class=\"data row24 col0\" >Can't even load properly. Prompted to set 6 digit security code, then application disappear and had to redo again with the same problem. Is this a legitimate mobile app?</td>\n",
       "      <td id=\"T_add4c_row24_col1\" class=\"data row24 col1\" >Credit card</td>\n",
       "    </tr>\n",
       "    <tr>\n",
       "      <th id=\"T_add4c_level0_row25\" class=\"row_heading level0 row25\" >268</th>\n",
       "      <td id=\"T_add4c_row25_col0\" class=\"data row25 col0\" >Insecure app beware folks. I applied using my singpass and instead of reviewing my own details, I saw someone's details on my screen instead, race, name, DOB, employer name on next step etc. I was shocked! Took a screenshot Incase anyone wanna verify with me.</td>\n",
       "      <td id=\"T_add4c_row25_col1\" class=\"data row25 col1\" >Credit card</td>\n",
       "    </tr>\n",
       "    <tr>\n",
       "      <th id=\"T_add4c_level0_row26\" class=\"row_heading level0 row26\" >279</th>\n",
       "      <td id=\"T_add4c_row26_col0\" class=\"data row26 col0\" >Doesn't work on my phone, cannot click and cannot scroll anything. Only works if I open it as a mini pop-up app. Had to create an account via someone else's phone. Please fix!</td>\n",
       "      <td id=\"T_add4c_row26_col1\" class=\"data row26 col1\" >Credit card</td>\n",
       "    </tr>\n",
       "    <tr>\n",
       "      <th id=\"T_add4c_level0_row27\" class=\"row_heading level0 row27\" >291</th>\n",
       "      <td id=\"T_add4c_row27_col0\" class=\"data row27 col0\" >The overall design of the app is great, but the CNY banner looks so out of place in the latest version</td>\n",
       "      <td id=\"T_add4c_row27_col1\" class=\"data row27 col1\" >Credit card</td>\n",
       "    </tr>\n",
       "  </tbody>\n",
       "</table>\n"
      ],
      "text/plain": [
       "<pandas.io.formats.style.Styler at 0x17ba8efd0>"
      ]
     },
     "execution_count": 350,
     "metadata": {},
     "output_type": "execute_result"
    }
   ],
   "source": [
    "review_data.loc[review_data.Topic_Number.str.contains('5'),['review','Topic_Name']]\\\n",
    ".style.set_properties(subset=['review'], **{'width': '300px'})"
   ]
  },
  {
   "cell_type": "code",
   "execution_count": null,
   "metadata": {},
   "outputs": [
    {
     "ename": "OSError",
     "evalue": "Cannot save file into a non-existent directory: '/Users/neleht./Library/CloudStorage/OneDrive-NationalUniversityofSingapore/NUS ALL/Y3S2/DSA3101/DSA3101-Project/Topic-Analysis-of-Review-Data'",
     "output_type": "error",
     "traceback": [
      "\u001b[0;31m---------------------------------------------------------------------------\u001b[0m",
      "\u001b[0;31mOSError\u001b[0m                                   Traceback (most recent call last)",
      "Cell \u001b[0;32mIn[351], line 1\u001b[0m\n\u001b[0;32m----> 1\u001b[0m \u001b[43mreview_data\u001b[49m\u001b[38;5;241;43m.\u001b[39;49m\u001b[43mto_csv\u001b[49m\u001b[43m(\u001b[49m\u001b[38;5;124;43m'\u001b[39;49m\u001b[38;5;124;43m/Users/neleht./Library/CloudStorage/OneDrive-NationalUniversityofSingapore/NUS ALL/Y3S2/DSA3101/DSA3101-Project/Topic-Analysis-of-Review-Data/TopicsofReviews.csv\u001b[39;49m\u001b[38;5;124;43m'\u001b[39;49m\u001b[43m)\u001b[49m\n",
      "File \u001b[0;32m/Library/Frameworks/Python.framework/Versions/3.9/lib/python3.9/site-packages/pandas/util/_decorators.py:333\u001b[0m, in \u001b[0;36mdeprecate_nonkeyword_arguments.<locals>.decorate.<locals>.wrapper\u001b[0;34m(*args, **kwargs)\u001b[0m\n\u001b[1;32m    327\u001b[0m \u001b[38;5;28;01mif\u001b[39;00m \u001b[38;5;28mlen\u001b[39m(args) \u001b[38;5;241m>\u001b[39m num_allow_args:\n\u001b[1;32m    328\u001b[0m     warnings\u001b[38;5;241m.\u001b[39mwarn(\n\u001b[1;32m    329\u001b[0m         msg\u001b[38;5;241m.\u001b[39mformat(arguments\u001b[38;5;241m=\u001b[39m_format_argument_list(allow_args)),\n\u001b[1;32m    330\u001b[0m         \u001b[38;5;167;01mFutureWarning\u001b[39;00m,\n\u001b[1;32m    331\u001b[0m         stacklevel\u001b[38;5;241m=\u001b[39mfind_stack_level(),\n\u001b[1;32m    332\u001b[0m     )\n\u001b[0;32m--> 333\u001b[0m \u001b[38;5;28;01mreturn\u001b[39;00m \u001b[43mfunc\u001b[49m\u001b[43m(\u001b[49m\u001b[38;5;241;43m*\u001b[39;49m\u001b[43margs\u001b[49m\u001b[43m,\u001b[49m\u001b[43m \u001b[49m\u001b[38;5;241;43m*\u001b[39;49m\u001b[38;5;241;43m*\u001b[39;49m\u001b[43mkwargs\u001b[49m\u001b[43m)\u001b[49m\n",
      "File \u001b[0;32m/Library/Frameworks/Python.framework/Versions/3.9/lib/python3.9/site-packages/pandas/core/generic.py:3964\u001b[0m, in \u001b[0;36mNDFrame.to_csv\u001b[0;34m(self, path_or_buf, sep, na_rep, float_format, columns, header, index, index_label, mode, encoding, compression, quoting, quotechar, lineterminator, chunksize, date_format, doublequote, escapechar, decimal, errors, storage_options)\u001b[0m\n\u001b[1;32m   3953\u001b[0m df \u001b[38;5;241m=\u001b[39m \u001b[38;5;28mself\u001b[39m \u001b[38;5;28;01mif\u001b[39;00m \u001b[38;5;28misinstance\u001b[39m(\u001b[38;5;28mself\u001b[39m, ABCDataFrame) \u001b[38;5;28;01melse\u001b[39;00m \u001b[38;5;28mself\u001b[39m\u001b[38;5;241m.\u001b[39mto_frame()\n\u001b[1;32m   3955\u001b[0m formatter \u001b[38;5;241m=\u001b[39m DataFrameFormatter(\n\u001b[1;32m   3956\u001b[0m     frame\u001b[38;5;241m=\u001b[39mdf,\n\u001b[1;32m   3957\u001b[0m     header\u001b[38;5;241m=\u001b[39mheader,\n\u001b[0;32m   (...)\u001b[0m\n\u001b[1;32m   3961\u001b[0m     decimal\u001b[38;5;241m=\u001b[39mdecimal,\n\u001b[1;32m   3962\u001b[0m )\n\u001b[0;32m-> 3964\u001b[0m \u001b[38;5;28;01mreturn\u001b[39;00m \u001b[43mDataFrameRenderer\u001b[49m\u001b[43m(\u001b[49m\u001b[43mformatter\u001b[49m\u001b[43m)\u001b[49m\u001b[38;5;241;43m.\u001b[39;49m\u001b[43mto_csv\u001b[49m\u001b[43m(\u001b[49m\n\u001b[1;32m   3965\u001b[0m \u001b[43m    \u001b[49m\u001b[43mpath_or_buf\u001b[49m\u001b[43m,\u001b[49m\n\u001b[1;32m   3966\u001b[0m \u001b[43m    \u001b[49m\u001b[43mlineterminator\u001b[49m\u001b[38;5;241;43m=\u001b[39;49m\u001b[43mlineterminator\u001b[49m\u001b[43m,\u001b[49m\n\u001b[1;32m   3967\u001b[0m \u001b[43m    \u001b[49m\u001b[43msep\u001b[49m\u001b[38;5;241;43m=\u001b[39;49m\u001b[43msep\u001b[49m\u001b[43m,\u001b[49m\n\u001b[1;32m   3968\u001b[0m \u001b[43m    \u001b[49m\u001b[43mencoding\u001b[49m\u001b[38;5;241;43m=\u001b[39;49m\u001b[43mencoding\u001b[49m\u001b[43m,\u001b[49m\n\u001b[1;32m   3969\u001b[0m \u001b[43m    \u001b[49m\u001b[43merrors\u001b[49m\u001b[38;5;241;43m=\u001b[39;49m\u001b[43merrors\u001b[49m\u001b[43m,\u001b[49m\n\u001b[1;32m   3970\u001b[0m \u001b[43m    \u001b[49m\u001b[43mcompression\u001b[49m\u001b[38;5;241;43m=\u001b[39;49m\u001b[43mcompression\u001b[49m\u001b[43m,\u001b[49m\n\u001b[1;32m   3971\u001b[0m \u001b[43m    \u001b[49m\u001b[43mquoting\u001b[49m\u001b[38;5;241;43m=\u001b[39;49m\u001b[43mquoting\u001b[49m\u001b[43m,\u001b[49m\n\u001b[1;32m   3972\u001b[0m \u001b[43m    \u001b[49m\u001b[43mcolumns\u001b[49m\u001b[38;5;241;43m=\u001b[39;49m\u001b[43mcolumns\u001b[49m\u001b[43m,\u001b[49m\n\u001b[1;32m   3973\u001b[0m \u001b[43m    \u001b[49m\u001b[43mindex_label\u001b[49m\u001b[38;5;241;43m=\u001b[39;49m\u001b[43mindex_label\u001b[49m\u001b[43m,\u001b[49m\n\u001b[1;32m   3974\u001b[0m \u001b[43m    \u001b[49m\u001b[43mmode\u001b[49m\u001b[38;5;241;43m=\u001b[39;49m\u001b[43mmode\u001b[49m\u001b[43m,\u001b[49m\n\u001b[1;32m   3975\u001b[0m \u001b[43m    \u001b[49m\u001b[43mchunksize\u001b[49m\u001b[38;5;241;43m=\u001b[39;49m\u001b[43mchunksize\u001b[49m\u001b[43m,\u001b[49m\n\u001b[1;32m   3976\u001b[0m \u001b[43m    \u001b[49m\u001b[43mquotechar\u001b[49m\u001b[38;5;241;43m=\u001b[39;49m\u001b[43mquotechar\u001b[49m\u001b[43m,\u001b[49m\n\u001b[1;32m   3977\u001b[0m \u001b[43m    \u001b[49m\u001b[43mdate_format\u001b[49m\u001b[38;5;241;43m=\u001b[39;49m\u001b[43mdate_format\u001b[49m\u001b[43m,\u001b[49m\n\u001b[1;32m   3978\u001b[0m \u001b[43m    \u001b[49m\u001b[43mdoublequote\u001b[49m\u001b[38;5;241;43m=\u001b[39;49m\u001b[43mdoublequote\u001b[49m\u001b[43m,\u001b[49m\n\u001b[1;32m   3979\u001b[0m \u001b[43m    \u001b[49m\u001b[43mescapechar\u001b[49m\u001b[38;5;241;43m=\u001b[39;49m\u001b[43mescapechar\u001b[49m\u001b[43m,\u001b[49m\n\u001b[1;32m   3980\u001b[0m \u001b[43m    \u001b[49m\u001b[43mstorage_options\u001b[49m\u001b[38;5;241;43m=\u001b[39;49m\u001b[43mstorage_options\u001b[49m\u001b[43m,\u001b[49m\n\u001b[1;32m   3981\u001b[0m \u001b[43m\u001b[49m\u001b[43m)\u001b[49m\n",
      "File \u001b[0;32m/Library/Frameworks/Python.framework/Versions/3.9/lib/python3.9/site-packages/pandas/io/formats/format.py:1014\u001b[0m, in \u001b[0;36mDataFrameRenderer.to_csv\u001b[0;34m(self, path_or_buf, encoding, sep, columns, index_label, mode, compression, quoting, quotechar, lineterminator, chunksize, date_format, doublequote, escapechar, errors, storage_options)\u001b[0m\n\u001b[1;32m    993\u001b[0m     created_buffer \u001b[38;5;241m=\u001b[39m \u001b[38;5;28;01mFalse\u001b[39;00m\n\u001b[1;32m    995\u001b[0m csv_formatter \u001b[38;5;241m=\u001b[39m CSVFormatter(\n\u001b[1;32m    996\u001b[0m     path_or_buf\u001b[38;5;241m=\u001b[39mpath_or_buf,\n\u001b[1;32m    997\u001b[0m     lineterminator\u001b[38;5;241m=\u001b[39mlineterminator,\n\u001b[0;32m   (...)\u001b[0m\n\u001b[1;32m   1012\u001b[0m     formatter\u001b[38;5;241m=\u001b[39m\u001b[38;5;28mself\u001b[39m\u001b[38;5;241m.\u001b[39mfmt,\n\u001b[1;32m   1013\u001b[0m )\n\u001b[0;32m-> 1014\u001b[0m \u001b[43mcsv_formatter\u001b[49m\u001b[38;5;241;43m.\u001b[39;49m\u001b[43msave\u001b[49m\u001b[43m(\u001b[49m\u001b[43m)\u001b[49m\n\u001b[1;32m   1016\u001b[0m \u001b[38;5;28;01mif\u001b[39;00m created_buffer:\n\u001b[1;32m   1017\u001b[0m     \u001b[38;5;28;01massert\u001b[39;00m \u001b[38;5;28misinstance\u001b[39m(path_or_buf, StringIO)\n",
      "File \u001b[0;32m/Library/Frameworks/Python.framework/Versions/3.9/lib/python3.9/site-packages/pandas/io/formats/csvs.py:251\u001b[0m, in \u001b[0;36mCSVFormatter.save\u001b[0;34m(self)\u001b[0m\n\u001b[1;32m    247\u001b[0m \u001b[38;5;250m\u001b[39m\u001b[38;5;124;03m\"\"\"\u001b[39;00m\n\u001b[1;32m    248\u001b[0m \u001b[38;5;124;03mCreate the writer & save.\u001b[39;00m\n\u001b[1;32m    249\u001b[0m \u001b[38;5;124;03m\"\"\"\u001b[39;00m\n\u001b[1;32m    250\u001b[0m \u001b[38;5;66;03m# apply compression and byte/text conversion\u001b[39;00m\n\u001b[0;32m--> 251\u001b[0m \u001b[38;5;28;01mwith\u001b[39;00m \u001b[43mget_handle\u001b[49m\u001b[43m(\u001b[49m\n\u001b[1;32m    252\u001b[0m \u001b[43m    \u001b[49m\u001b[38;5;28;43mself\u001b[39;49m\u001b[38;5;241;43m.\u001b[39;49m\u001b[43mfilepath_or_buffer\u001b[49m\u001b[43m,\u001b[49m\n\u001b[1;32m    253\u001b[0m \u001b[43m    \u001b[49m\u001b[38;5;28;43mself\u001b[39;49m\u001b[38;5;241;43m.\u001b[39;49m\u001b[43mmode\u001b[49m\u001b[43m,\u001b[49m\n\u001b[1;32m    254\u001b[0m \u001b[43m    \u001b[49m\u001b[43mencoding\u001b[49m\u001b[38;5;241;43m=\u001b[39;49m\u001b[38;5;28;43mself\u001b[39;49m\u001b[38;5;241;43m.\u001b[39;49m\u001b[43mencoding\u001b[49m\u001b[43m,\u001b[49m\n\u001b[1;32m    255\u001b[0m \u001b[43m    \u001b[49m\u001b[43merrors\u001b[49m\u001b[38;5;241;43m=\u001b[39;49m\u001b[38;5;28;43mself\u001b[39;49m\u001b[38;5;241;43m.\u001b[39;49m\u001b[43merrors\u001b[49m\u001b[43m,\u001b[49m\n\u001b[1;32m    256\u001b[0m \u001b[43m    \u001b[49m\u001b[43mcompression\u001b[49m\u001b[38;5;241;43m=\u001b[39;49m\u001b[38;5;28;43mself\u001b[39;49m\u001b[38;5;241;43m.\u001b[39;49m\u001b[43mcompression\u001b[49m\u001b[43m,\u001b[49m\n\u001b[1;32m    257\u001b[0m \u001b[43m    \u001b[49m\u001b[43mstorage_options\u001b[49m\u001b[38;5;241;43m=\u001b[39;49m\u001b[38;5;28;43mself\u001b[39;49m\u001b[38;5;241;43m.\u001b[39;49m\u001b[43mstorage_options\u001b[49m\u001b[43m,\u001b[49m\n\u001b[1;32m    258\u001b[0m \u001b[43m\u001b[49m\u001b[43m)\u001b[49m \u001b[38;5;28;01mas\u001b[39;00m handles:\n\u001b[1;32m    259\u001b[0m     \u001b[38;5;66;03m# Note: self.encoding is irrelevant here\u001b[39;00m\n\u001b[1;32m    260\u001b[0m     \u001b[38;5;28mself\u001b[39m\u001b[38;5;241m.\u001b[39mwriter \u001b[38;5;241m=\u001b[39m csvlib\u001b[38;5;241m.\u001b[39mwriter(\n\u001b[1;32m    261\u001b[0m         handles\u001b[38;5;241m.\u001b[39mhandle,\n\u001b[1;32m    262\u001b[0m         lineterminator\u001b[38;5;241m=\u001b[39m\u001b[38;5;28mself\u001b[39m\u001b[38;5;241m.\u001b[39mlineterminator,\n\u001b[0;32m   (...)\u001b[0m\n\u001b[1;32m    267\u001b[0m         quotechar\u001b[38;5;241m=\u001b[39m\u001b[38;5;28mself\u001b[39m\u001b[38;5;241m.\u001b[39mquotechar,\n\u001b[1;32m    268\u001b[0m     )\n\u001b[1;32m    270\u001b[0m     \u001b[38;5;28mself\u001b[39m\u001b[38;5;241m.\u001b[39m_save()\n",
      "File \u001b[0;32m/Library/Frameworks/Python.framework/Versions/3.9/lib/python3.9/site-packages/pandas/io/common.py:749\u001b[0m, in \u001b[0;36mget_handle\u001b[0;34m(path_or_buf, mode, encoding, compression, memory_map, is_text, errors, storage_options)\u001b[0m\n\u001b[1;32m    747\u001b[0m \u001b[38;5;66;03m# Only for write methods\u001b[39;00m\n\u001b[1;32m    748\u001b[0m \u001b[38;5;28;01mif\u001b[39;00m \u001b[38;5;124m\"\u001b[39m\u001b[38;5;124mr\u001b[39m\u001b[38;5;124m\"\u001b[39m \u001b[38;5;129;01mnot\u001b[39;00m \u001b[38;5;129;01min\u001b[39;00m mode \u001b[38;5;129;01mand\u001b[39;00m is_path:\n\u001b[0;32m--> 749\u001b[0m     \u001b[43mcheck_parent_directory\u001b[49m\u001b[43m(\u001b[49m\u001b[38;5;28;43mstr\u001b[39;49m\u001b[43m(\u001b[49m\u001b[43mhandle\u001b[49m\u001b[43m)\u001b[49m\u001b[43m)\u001b[49m\n\u001b[1;32m    751\u001b[0m \u001b[38;5;28;01mif\u001b[39;00m compression:\n\u001b[1;32m    752\u001b[0m     \u001b[38;5;28;01mif\u001b[39;00m compression \u001b[38;5;241m!=\u001b[39m \u001b[38;5;124m\"\u001b[39m\u001b[38;5;124mzstd\u001b[39m\u001b[38;5;124m\"\u001b[39m:\n\u001b[1;32m    753\u001b[0m         \u001b[38;5;66;03m# compression libraries do not like an explicit text-mode\u001b[39;00m\n",
      "File \u001b[0;32m/Library/Frameworks/Python.framework/Versions/3.9/lib/python3.9/site-packages/pandas/io/common.py:616\u001b[0m, in \u001b[0;36mcheck_parent_directory\u001b[0;34m(path)\u001b[0m\n\u001b[1;32m    614\u001b[0m parent \u001b[38;5;241m=\u001b[39m Path(path)\u001b[38;5;241m.\u001b[39mparent\n\u001b[1;32m    615\u001b[0m \u001b[38;5;28;01mif\u001b[39;00m \u001b[38;5;129;01mnot\u001b[39;00m parent\u001b[38;5;241m.\u001b[39mis_dir():\n\u001b[0;32m--> 616\u001b[0m     \u001b[38;5;28;01mraise\u001b[39;00m \u001b[38;5;167;01mOSError\u001b[39;00m(\u001b[38;5;124mrf\u001b[39m\u001b[38;5;124m\"\u001b[39m\u001b[38;5;124mCannot save file into a non-existent directory: \u001b[39m\u001b[38;5;124m'\u001b[39m\u001b[38;5;132;01m{\u001b[39;00mparent\u001b[38;5;132;01m}\u001b[39;00m\u001b[38;5;124m'\u001b[39m\u001b[38;5;124m\"\u001b[39m)\n",
      "\u001b[0;31mOSError\u001b[0m: Cannot save file into a non-existent directory: '/Users/neleht./Library/CloudStorage/OneDrive-NationalUniversityofSingapore/NUS ALL/Y3S2/DSA3101/DSA3101-Project/Topic-Analysis-of-Review-Data'"
     ]
    }
   ],
   "source": [
    "review_data.to_csv('/Users/neleht./Library/CloudStorage/OneDrive-NationalUniversityofSingapore/NUS ALL/Y3S2/DSA3101/DSA3101-Project/Topic-Analysis-of-Review-Data/TopicsofReviews.csv')"
   ]
  },
  {
   "attachments": {},
   "cell_type": "markdown",
   "metadata": {},
   "source": [
    "### Conclusion\n",
    "\n",
    "1. We can combine topic number 2 (Heating issue),3 (turbo charger), 5(Battery) <br>\n",
    "2. If lenovo company improves their turbo charger which is causing heating issues in battery, the mobile will be more appreciated by users.\n",
    "3. We can try to use other POS tags to improve our model."
   ]
  }
 ],
 "metadata": {
  "kernelspec": {
   "display_name": "NLP_",
   "language": "python",
   "name": "python3"
  },
  "language_info": {
   "codemirror_mode": {
    "name": "ipython",
    "version": 3
   },
   "file_extension": ".py",
   "mimetype": "text/x-python",
   "name": "python",
   "nbconvert_exporter": "python",
   "pygments_lexer": "ipython3",
   "version": "3.9.9"
  },
  "orig_nbformat": 4
 },
 "nbformat": 4,
 "nbformat_minor": 2
}
