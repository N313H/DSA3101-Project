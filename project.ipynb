{
 "cells": [
  {
   "cell_type": "code",
   "execution_count": 176,
   "metadata": {},
   "outputs": [],
   "source": [
    "import pandas as pd\n",
    "import matplotlib.pyplot as plt \n",
    "import seaborn as sns\n",
    "import plotly.express as px\n",
    "import plotly.graph_objs as go\n",
    "import nltk\n",
    "from plotly.subplots import make_subplots\n",
    "from textblob import TextBlob\n",
    "from wordcloud import WordCloud\n",
    "from sklearn.feature_extraction.text import CountVectorizer \n",
    "from nltk import word_tokenize\n",
    "from langdetect import detect_langs\n",
    "from wordcloud import WordCloud, STOPWORDS\n",
    "import re\n",
    "from nltk.stem import PorterStemmer\n",
    "from nltk.stem import WordNetLemmatizer\n",
    "from sklearn.feature_extraction.text import CountVectorizer, ENGLISH_STOP_WORDS\n",
    "from sklearn.feature_extraction.text import TfidfVectorizer\n",
    "from tqdm import tqdm"
   ]
  },
  {
   "cell_type": "code",
   "execution_count": 177,
   "metadata": {},
   "outputs": [],
   "source": [
    "appStore = pd.read_csv('AppStoreData.csv')\n",
    "googlePlay = pd.read_csv('PlayStoreData.csv')"
   ]
  },
  {
   "cell_type": "markdown",
   "metadata": {},
   "source": [
    "We can seperate the reviews by ratings and proceed to analysis the text in each rating category\n",
    "- reduces runtime or smt\n",
    "#df.loc[df['column_name'] == some_value]\n",
    "#can create the function to do so"
   ]
  },
  {
   "cell_type": "code",
   "execution_count": 178,
   "metadata": {},
   "outputs": [],
   "source": [
    "#filter by score and get review col\n",
    "asResponse = appStore.review\n",
    "#gpResponse = googlePlay.loc[googlePlay['score'] == 5].text\n"
   ]
  },
  {
   "cell_type": "code",
   "execution_count": 179,
   "metadata": {},
   "outputs": [
    {
     "name": "stdout",
     "output_type": "stream",
     "text": [
      "130\n"
     ]
    }
   ],
   "source": [
    "print(len(asResponse))"
   ]
  },
  {
   "cell_type": "code",
   "execution_count": 180,
   "metadata": {},
   "outputs": [],
   "source": [
    "#asResponse = appStore.review\n",
    "#gpResponse = googlePlay.reviews"
   ]
  },
  {
   "cell_type": "code",
   "execution_count": 181,
   "metadata": {},
   "outputs": [
    {
     "ename": "AttributeError",
     "evalue": "'list' object has no attribute 'values'",
     "output_type": "error",
     "traceback": [
      "\u001b[0;31m---------------------------------------------------------------------------\u001b[0m",
      "\u001b[0;31mAttributeError\u001b[0m                            Traceback (most recent call last)",
      "Cell \u001b[0;32mIn[181], line 2\u001b[0m\n\u001b[1;32m      1\u001b[0m asResponse \u001b[38;5;241m=\u001b[39m asResponse\u001b[38;5;241m.\u001b[39mvalues\u001b[38;5;241m.\u001b[39mtolist()\n\u001b[0;32m----> 2\u001b[0m gpResponse \u001b[38;5;241m=\u001b[39m \u001b[43mgpResponse\u001b[49m\u001b[38;5;241;43m.\u001b[39;49m\u001b[43mvalues\u001b[49m\u001b[38;5;241m.\u001b[39mtolist()\n",
      "\u001b[0;31mAttributeError\u001b[0m: 'list' object has no attribute 'values'"
     ]
    }
   ],
   "source": [
    "asResponse = asResponse.values.tolist()\n",
    "gpResponse = gpResponse.values.tolist()"
   ]
  },
  {
   "cell_type": "code",
   "execution_count": null,
   "metadata": {},
   "outputs": [
    {
     "name": "stdout",
     "output_type": "stream",
     "text": [
      "0      Great banking app with attractive interest rat...\n",
      "1      A bank like no other, no bank have such amazin...\n",
      "2      Notice that the drop in interest rate of 0.8% ...\n",
      "3      Sending money into my GXS account is a breeze ...\n",
      "4      I have to say that the UI/UX is one of the bes...\n",
      "                             ...                        \n",
      "125                                                  Wow\n",
      "126                                                🚀🚀🚀🚀🚀\n",
      "127    I was trying to make payment using Paynow Qr c...\n",
      "128          安全漏洞！下载要小心！即使用SingPass 开户也一样不安全！Bug 导致无法通过！\n",
      "129    21 Jul 23:\\nThe integration on iPad is off. Th...\n",
      "Name: review, Length: 130, dtype: object\n"
     ]
    }
   ],
   "source": [
    "print(asResponse)"
   ]
  },
  {
   "cell_type": "code",
   "execution_count": null,
   "metadata": {},
   "outputs": [],
   "source": [
    "#wordtokenization\n",
    "wt_as = [word_tokenize(review) for review in asResponse]\n",
    "wt_gp = [word_tokenize(review) for review in gpResponse]"
   ]
  },
  {
   "cell_type": "code",
   "execution_count": null,
   "metadata": {},
   "outputs": [
    {
     "name": "stdout",
     "output_type": "stream",
     "text": [
      "['Great', 'banking', 'app', 'with', 'attractive', 'interest', 'rates', '!', 'Please', 'allow', 'us', 'to', 'add', 'and/or', 'save', 'payees', 'so', 'we', 'don', '’', 't', 'have', 'to', 'keep', 'typing', 'out', 'UEN', 'numbers', 'or', 'account', 'numbers', '.', 'Would', 'be', 'nice', 'to', 'be', 'able', 'to', 'add', 'the', 'debit', 'card', 'to', 'Apple', 'Pay', 'too', '!', '!']\n"
     ]
    }
   ],
   "source": [
    "print(wt_as[0])"
   ]
  },
  {
   "cell_type": "markdown",
   "metadata": {},
   "source": [
    "TFIDF\n",
    "As tfidf filter for words that are important in each comment, it will be essential to use it to predict the sentiment of the review is using "
   ]
  },
  {
   "cell_type": "code",
   "execution_count": null,
   "metadata": {},
   "outputs": [
    {
     "name": "stdout",
     "output_type": "stream",
     "text": [
      "[[0.         0.         0.         ... 0.         0.         0.24454209]\n",
      " [0.         0.         0.         ... 0.         0.10382606 0.        ]\n",
      " [0.         0.         0.         ... 0.         0.         0.        ]\n",
      " ...\n",
      " [0.         0.         0.         ... 0.         0.         0.        ]\n",
      " [0.         0.         0.         ... 0.         0.         0.        ]\n",
      " [0.         0.         0.         ... 0.         0.         0.        ]]\n"
     ]
    }
   ],
   "source": [
    "#after word tokenizing each sentance, we can lemma/stem\n",
    "#ok according to reddit, stop word removal can be harmful if we use nnm like bert or RNNS. So i wont do it for now\n",
    "#we should use our own stopwords, and to find out which are the stop words, word cloud might come into play\n",
    "#use tldf?\n",
    "#fk it ill roll first \n",
    "\n",
    "#stop_words = ENGLISH_STOP_WORDS\n",
    "\n",
    "vect = TfidfVectorizer().fit(asResponse)\n",
    "vect_tfidf = vect.transform(asResponse)\n",
    "print(vect_tfidf.toarray())"
   ]
  },
  {
   "cell_type": "code",
   "execution_count": null,
   "metadata": {},
   "outputs": [],
   "source": [
    "nltktoken_as = [nltk.word_tokenize(review) for review in asResponse]\n",
    "test = nltk.word_tokenize(asResponse[0])"
   ]
  },
  {
   "cell_type": "code",
   "execution_count": null,
   "metadata": {},
   "outputs": [],
   "source": [
    "#nltk.download()"
   ]
  },
  {
   "cell_type": "code",
   "execution_count": null,
   "metadata": {},
   "outputs": [
    {
     "name": "stdout",
     "output_type": "stream",
     "text": [
      "['Great', 'banking', 'app', 'with', 'attractive', 'interest', 'rates', '!', 'Please', 'allow', 'us', 'to', 'add', 'and/or', 'save', 'payees', 'so', 'we', 'don', '’', 't', 'have', 'to', 'keep', 'typing', 'out', 'UEN', 'numbers', 'or', 'account', 'numbers', '.', 'Would', 'be', 'nice', 'to', 'be', 'able', 'to', 'add', 'the', 'debit', 'card', 'to', 'Apple', 'Pay', 'too', '!', '!']\n"
     ]
    }
   ],
   "source": [
    "print(test)"
   ]
  },
  {
   "cell_type": "code",
   "execution_count": null,
   "metadata": {},
   "outputs": [
    {
     "data": {
      "text/plain": [
       "[('Great', 'NNP'),\n",
       " ('banking', 'NN'),\n",
       " ('app', 'NN'),\n",
       " ('with', 'IN'),\n",
       " ('attractive', 'JJ'),\n",
       " ('interest', 'NN'),\n",
       " ('rates', 'NNS'),\n",
       " ('!', '.'),\n",
       " ('Please', 'NNP'),\n",
       " ('allow', 'VB'),\n",
       " ('us', 'PRP'),\n",
       " ('to', 'TO'),\n",
       " ('add', 'VB'),\n",
       " ('and/or', 'NNS'),\n",
       " ('save', 'VBP'),\n",
       " ('payees', 'NNS'),\n",
       " ('so', 'IN'),\n",
       " ('we', 'PRP'),\n",
       " ('don', 'VBP'),\n",
       " ('’', 'JJ'),\n",
       " ('t', 'NNS'),\n",
       " ('have', 'VBP'),\n",
       " ('to', 'TO'),\n",
       " ('keep', 'VB'),\n",
       " ('typing', 'VBG'),\n",
       " ('out', 'RP'),\n",
       " ('UEN', 'NNP'),\n",
       " ('numbers', 'NNS'),\n",
       " ('or', 'CC'),\n",
       " ('account', 'NN'),\n",
       " ('numbers', 'NNS'),\n",
       " ('.', '.'),\n",
       " ('Would', 'MD'),\n",
       " ('be', 'VB'),\n",
       " ('nice', 'JJ'),\n",
       " ('to', 'TO'),\n",
       " ('be', 'VB'),\n",
       " ('able', 'JJ'),\n",
       " ('to', 'TO'),\n",
       " ('add', 'VB'),\n",
       " ('the', 'DT'),\n",
       " ('debit', 'NN'),\n",
       " ('card', 'NN'),\n",
       " ('to', 'TO'),\n",
       " ('Apple', 'NNP'),\n",
       " ('Pay', 'NNP'),\n",
       " ('too', 'RB'),\n",
       " ('!', '.'),\n",
       " ('!', '.')]"
      ]
     },
     "execution_count": 152,
     "metadata": {},
     "output_type": "execute_result"
    }
   ],
   "source": [
    "\n",
    "nltk.pos_tag(test)"
   ]
  },
  {
   "cell_type": "code",
   "execution_count": null,
   "metadata": {},
   "outputs": [
    {
     "name": "stdout",
     "output_type": "stream",
     "text": [
      "Quick transfers to bank acc and fast repayments. Very suitable for short term loans\n",
      "0.3120833333333334\n",
      "Ok Good system.\n",
      "0.6\n",
      "🥰🥰🥰\n",
      "0.0\n",
      "Been using this bank for a while now and didn't face any major problems. What I enjoyed the most is the saving pockets area where we could create different pockets for each saving we want to do and even add goals into it. The 2.68% per annum is added daily (0.01) as long as you have a minimum of 150 in your savings. If not, you'll have to wait till your it accumulates up to 0.01 to be added. There was also cashback when you make payment using the card which I didn't know till recently.\n",
      "0.14464285714285713\n",
      "👍👍👍👍\n",
      "0.0\n",
      "I don't set. A password in my phone n not allow me to down load this apps\n",
      "-0.15555555555555556\n",
      "Very good app\n",
      "0.9099999999999999\n",
      "Love GxS bank. Would it be available on Google Pay as well? 😉\n",
      "0.45\n",
      "Easy and fast app\n",
      "0.31666666666666665\n",
      "Easy loan and easy payment with no hassle.\n",
      "0.43333333333333335\n",
      "Very good digital savings bank account that helps grow our funds.\n",
      "0.45499999999999996\n",
      "Great savings rate!\n",
      "1.0\n",
      "Loving it so far.\n",
      "0.35\n",
      "Easy to use\n",
      "0.43333333333333335\n",
      "Great interest rates and card spending rebates, and the app is also simple and easy to use.\n",
      "0.41111111111111115\n",
      "Easy to use, clear info and rapid yet secure transactions. Highly recommend.\n",
      "0.2733333333333333\n",
      "Ease of use and payments\n",
      "0.0\n",
      "Easy to use & very helpful 👌\n",
      "0.31666666666666665\n",
      "Easy & fast approval of loan with reasonable interest rates. GXS is giving other banks a run for their $$$. All the best GXS Bank!\n",
      "0.3416666666666667\n",
      "Ease of use.\n",
      "0.0\n",
      "Great bank..Good interest rate\n",
      "0.8\n",
      "Super efficient 👍\n",
      "0.3333333333333333\n",
      "Easy of use\n",
      "0.43333333333333335\n",
      "Ease of use\n",
      "0.0\n",
      "Superb\n",
      "1.0\n",
      "Friendly user\n",
      "0.375\n",
      "Fast and easier way to get the loan amount, as a foreigner i cant make but my friend helped me, it will be useful if foreigner also can borrow.. This is a suggestion.. Thanks\n",
      "0.2333333333333333\n",
      "It really helps when really in need. So easy to do it. It's at your fingertips.\n",
      "0.2777777777777778\n",
      "Easy to apply good full amount of loan given compare to outside or lending bee ... or they never cut your loan amouny . interest can be save if payment early. multiple loan also can.. only it could be better if can increase loan amount after loan given .. or can be resgistet again once deleted.\n",
      "0.2604166666666667\n",
      "Good app😃\n",
      "0.7\n",
      "The UIUX of the app is definitely the best amongst the banks right now, looking forward to more products\n",
      "0.4464285714285714\n",
      "Good job GXS\n",
      "0.7\n",
      "Awesome app for use\n",
      "1.0\n",
      "Cool app.\n",
      "0.35\n",
      "Seamless. Got it up and running in less than 5mins! Easy to transfer in and out from other banks. I like the daily interest credit. Helps me set aside money for daily use and motivates me to check how much I'm getting everyday. Dun understand why there are gripes and complaints from other reviewers. This app is fantastic 😍\n",
      "0.04750000000000001\n",
      "Love GXS\n",
      "0.5\n",
      "Simple to use. Took a short while to know how to process. Hope that they can maintain the great interest. Good job GXS.\n",
      "0.375\n",
      "Great experience. Setup, top up, setup pocket and transfer smoothly\n",
      "0.5666666666666668\n",
      "App is snappy. Interface is simple and straightforward. Most importantly interest is attractive. Keep it up! By the way please add 'Save payee' feature.\n",
      "0.45499999999999996\n",
      "Apps easy to use and easy transfer\n",
      "0.43333333333333335\n",
      "Seamless registration. All done in less than 15 mins. Signed up and funds loaded. I guess they improved the app compared to the issues faced by other users earlier on.\n",
      "-0.04791666666666666\n",
      "Nice\n",
      "0.6\n",
      "Great App Easy to use\n",
      "0.6166666666666667\n",
      "Easy to register and deposit. Clean UI interface.\n",
      "0.4\n",
      "You app downloading alway show technical priblem why??\n",
      "0.0\n",
      "Sleek, simple to use.\n",
      "0.0\n",
      "Easy to use. Awesome\n",
      "0.7166666666666667\n",
      "Great..\n",
      "0.8\n",
      "First time checking out on dis and didnt know grab came with this and enhanced features was super accessible indeed within mins i was able.to withdraw e.loan even though e security was quite super securable which i liked.thank u for making things affordable and reachable for difficult times for mummies👌🙏🥰🌹\n",
      "0.1583333333333333\n",
      "Easy to use. Hopefully can raise the deposit cap soon.\n",
      "0.43333333333333335\n",
      "Great experience so far\n",
      "0.45\n",
      "Easy and simple to use for transfer money. High interest rate.\n",
      "0.1977777777777778\n",
      "The deposit interest is very high, which is currently my most satisfactory\n",
      "0.354\n",
      "Invitation fr Singtel. Trying my luck first and it was a very fast approval on a Sunday. Love the fact that we can take any amount fr our credit limit.\n",
      "0.33666666666666667\n",
      "User friendly.\n",
      "0.375\n",
      "Easy to use and fast\n",
      "0.31666666666666665\n",
      "Easy to use. Fast transfer.\n",
      "0.31666666666666665\n",
      "Hi I try log in with singpass but unsuccessful thanks\n",
      "0.2\n",
      "👍 n\n",
      "0.0\n",
      "Gxs Flexiloan doesn't work even though I meet the eligible criteria..\n",
      "0.0\n",
      "Over all good,but some interface cover on mobile phone.Thank.\n",
      "0.0\n",
      "Smooth app with fast onboarding. Im unable to add fund to pocket with decimals due to numeric keypad.\n",
      "-0.006249999999999978\n",
      "Its a simple bank app to help you save and transfer your daily needs. Just dont split screen or use another app when using it.\n",
      "0.0\n",
      "Simple UI and easy to use\n",
      "0.21666666666666667\n",
      "Fantastic Bank Great UX\n",
      "0.6000000000000001\n",
      "Kudos to GXS for responding promptly to the error that I experienced accessing the pockets. The latest update resolved the problem. Thank you!\n",
      "0.7125\n",
      "App auto exit after I clicked pocket account icon to see the details of each pocket account. Happened on from yesterday. Issue resolved after app update on 8 Feb. Thank you for the swift response.\n",
      "0.0\n",
      "Problem solved, am happily using it\n",
      "0.8\n",
      "Like this app over Trust and others. Concept similar to Timo bank in VN which I used before when I was living there. 5k account limit is shocking to me since these days where got people only save 5k. Hope for an update on this asap as well as debit card. Otherwise, interface is clean, easy to use, easy to sign up, good interest rate. For now, gxs looks promising to be my permanent savings bank. Others will just serve as my Spent account or salary credit account.\n",
      "0.1148148148148148\n",
      "Easy to set up and smooth sign in + attractive interest rate, it would be great if the saving caps could be higher than $5000 :)\n",
      "0.5305555555555556\n",
      "The app works great, simple yet effective enough to encourage savings via \"pockets\" so that users do not unknowingly overspent using the main account and that explain the lower interest as compared to funds kept inside the \"pockets\". Although its good to start small, i do hope the bank can increase the saving caps to encourage even more savings.Security wise while i think is on par with industry standard but there are still room to enhance it further as scammers are getting smarter everyday.\n",
      "0.2513888888888889\n",
      "Looking at past review and after installing the app, I must say the effort to launch progressively paid off instead of rushing into it. Was kind of concern if this is going to take off but I guess the objective is to ensure a safe bankng experience rather than rushing to grab the market. No observable bug and smooth sign in process.\n",
      "0.25\n",
      "Nice app! Love the Saving pockets.\n",
      "0.625\n",
      "Great rates, easy to use, get Grab points just by linking the account\n",
      "0.6166666666666667\n",
      "Amazing app\n",
      "0.6000000000000001\n",
      "Great app! Kudos to the GXS team in developing such an amazing app. Excited to see what more this product can do!\n",
      "0.52\n",
      "seamless!\n",
      "0.125\n",
      "It's seemless banking experience\n",
      "0.0\n",
      "Beautiful graphics and theme, user-friendly\n",
      "0.85\n",
      "best app experience looking forward for more breakthrough features in digi banking.\n",
      "0.75\n",
      "Intuitive interface\n",
      "0.0\n",
      "Loving the color scheme!\n",
      "0.75\n",
      "The app is very user friendly and easy to set up. I personally like the way they take information security seriously by making sure our phone is secure (via pin authentication). With all thats happening around, makes me so much more reassured that they take security seriously!\n",
      "0.1842592592592593\n",
      "Amazing app experience.\n",
      "0.6000000000000001\n",
      "Awesome experience so far. UI is flawless. Innovative ideas of various pockets and ROI caught my interest.\n",
      "0.52\n",
      "beautiful app\n",
      "0.85\n",
      "Design is nice and easy to use.\n",
      "0.5166666666666666\n",
      "Intuitive and User-Friendly Interface. No doubt there are further improvements to be made. Looking forward to what the digital banking scene has to offer! Suggestion to have an interface/section for users to offer feedback & suggestions for potential pain points/improvements.\n",
      "0.0\n",
      "Looks cool and sleek! Can I get an invite if I give a five star review? 🤪\n",
      "0.4375\n"
     ]
    }
   ],
   "source": [
    "#General observation for the entire dataset\n",
    "#calculate sentiment of sentence\n",
    "sentiment_scoring = [TextBlob(review) for review in gpResponse] # this is for rating = 5\n",
    "for val in sentiment_scoring:\n",
    "    print(val)\n",
    "    print(val.sentiment.polarity)"
   ]
  },
  {
   "cell_type": "markdown",
   "metadata": {},
   "source": [
    "Roberta"
   ]
  },
  {
   "cell_type": "code",
   "execution_count": null,
   "metadata": {},
   "outputs": [],
   "source": [
    "from transformers import AutoTokenizer\n",
    "from transformers import AutoModelForSequenceClassification\n",
    "from scipy.special import softmax"
   ]
  },
  {
   "cell_type": "code",
   "execution_count": null,
   "metadata": {},
   "outputs": [],
   "source": [
    "MODEL = f\"cardiffnlp/twitter-roberta-base-sentiment\"\n",
    "tokenizer = AutoTokenizer.from_pretrained(MODEL)\n",
    "model = AutoModelForSequenceClassification.from_pretrained(MODEL)"
   ]
  },
  {
   "cell_type": "code",
   "execution_count": null,
   "metadata": {},
   "outputs": [
    {
     "data": {
      "text/plain": [
       "Sentiment(polarity=-0.3, subjectivity=0.7833333333333333)"
      ]
     },
     "execution_count": 124,
     "metadata": {},
     "output_type": "execute_result"
    }
   ],
   "source": [
    "example = \"This oatmeal is questionable. It is mushy, soft and just so darn weird. I prefer Quaker oats\"\n",
    "TextBlob(example).sentiment\n"
   ]
  },
  {
   "cell_type": "code",
   "execution_count": null,
   "metadata": {},
   "outputs": [
    {
     "name": "stdout",
     "output_type": "stream",
     "text": [
      "{'roberta_neg': 0.93354213, 'roberta_neu': 0.060158957, 'roberta_pos': 0.0062989215}\n"
     ]
    }
   ],
   "source": [
    "#run for roberta model\n",
    "encoded_text = tokenizer(example, return_tensors='pt')\n",
    "output = model(**encoded_text)\n",
    "scores = output[0][0].detach().numpy()\n",
    "scores = softmax(scores)\n",
    "score_dict = {\n",
    "    'roberta_neg' : scores[0],\n",
    "    'roberta_neu' : scores[1],\n",
    "    'roberta_pos' : scores[2]\n",
    "}\n",
    "print(score_dict)\n",
    "#returns negative, neutral and positive\n"
   ]
  },
  {
   "cell_type": "code",
   "execution_count": null,
   "metadata": {},
   "outputs": [],
   "source": [
    "#do it for reviews\n",
    "def roberta_score(example):\n",
    "    encoded_text = tokenizer(example, return_tensors='pt')\n",
    "    output = model(**encoded_text)\n",
    "    scores = output[0][0].detach().numpy()\n",
    "    scores = softmax(scores)\n",
    "    score_dict = {\n",
    "        'roberta_neg' : scores[0],\n",
    "        'roberta_neu' : scores[1],\n",
    "        'roberta_pos' : scores[2]\n",
    "    }\n",
    "    return score_dict"
   ]
  },
  {
   "cell_type": "code",
   "execution_count": null,
   "metadata": {},
   "outputs": [
    {
     "name": "stderr",
     "output_type": "stream",
     "text": [
      "288it [00:13, 20.63it/s]                       \n"
     ]
    }
   ],
   "source": [
    "#asResponse , gpResponse\n",
    "res = {}\n",
    "for i, row in tqdm(googlePlay.iterrows(), total = len(asResponse)):\n",
    "    text = row['text']\n",
    "    myid = row[\"text\"]\n",
    "    res[myid] = roberta_score(text)"
   ]
  },
  {
   "cell_type": "code",
   "execution_count": null,
   "metadata": {},
   "outputs": [],
   "source": [
    "#convert to df\n",
    "result_df = pd.DataFrame(res).T"
   ]
  },
  {
   "cell_type": "code",
   "execution_count": null,
   "metadata": {},
   "outputs": [
    {
     "name": "stdout",
     "output_type": "stream",
     "text": [
      "                                                    roberta_neg  roberta_neu  \\\n",
      "cant logging using finger print . previously st...     0.879858     0.107318   \n",
      "For 1st time registration signup by singpass an...     0.856186     0.137936   \n",
      "Updated - Kindly ignore my previous rating, and...     0.460258     0.496379   \n",
      "They unable to process my application. 4x attempt      0.893826     0.099285   \n",
      "Try logging in after logging out completely. Ca...     0.799691     0.186849   \n",
      "\n",
      "                                                    roberta_pos  \n",
      "cant logging using finger print . previously st...     0.012824  \n",
      "For 1st time registration signup by singpass an...     0.005878  \n",
      "Updated - Kindly ignore my previous rating, and...     0.043363  \n",
      "They unable to process my application. 4x attempt      0.006889  \n",
      "Try logging in after logging out completely. Ca...     0.013459  \n"
     ]
    }
   ],
   "source": [
    "print(result_df.head())"
   ]
  },
  {
   "cell_type": "markdown",
   "metadata": {},
   "source": [
    "using transformer pipeline, question answering"
   ]
  },
  {
   "cell_type": "code",
   "execution_count": null,
   "metadata": {},
   "outputs": [
    {
     "name": "stderr",
     "output_type": "stream",
     "text": [
      "No model was supplied, defaulted to distilbert-base-uncased-finetuned-sst-2-english and revision af0f99b (https://huggingface.co/distilbert-base-uncased-finetuned-sst-2-english).\n",
      "Using a pipeline without specifying a model name and revision in production is not recommended.\n",
      "No model was supplied, defaulted to distilbert-base-cased-distilled-squad and revision 626af31 (https://huggingface.co/distilbert-base-cased-distilled-squad).\n",
      "Using a pipeline without specifying a model name and revision in production is not recommended.\n",
      "config.json: 100%|██████████| 473/473 [00:00<00:00, 3.79MB/s]\n",
      "model.safetensors: 100%|██████████| 261M/261M [00:11<00:00, 23.0MB/s] \n",
      "tokenizer_config.json: 100%|██████████| 29.0/29.0 [00:00<00:00, 43.7kB/s]\n",
      "vocab.txt: 100%|██████████| 213k/213k [00:00<00:00, 11.2MB/s]\n",
      "tokenizer.json: 100%|██████████| 436k/436k [00:00<00:00, 3.43MB/s]\n"
     ]
    }
   ],
   "source": [
    "from transformers import pipeline\n",
    "sent_pipeline = pipeline(\"sentiment-analysis\")\n",
    "QA_pipeline = pipeline(\"question-answering\")"
   ]
  },
  {
   "cell_type": "code",
   "execution_count": null,
   "metadata": {},
   "outputs": [
    {
     "data": {
      "text/plain": [
       "[{'label': 'POSITIVE', 'score': 0.9997859597206116}]"
      ]
     },
     "execution_count": 131,
     "metadata": {},
     "output_type": "execute_result"
    }
   ],
   "source": [
    "sent_pipeline(\"this application is sooooo good that i will never ever touch it again\")"
   ]
  },
  {
   "cell_type": "code",
   "execution_count": 175,
   "metadata": {},
   "outputs": [
    {
     "name": "stdout",
     "output_type": "stream",
     "text": [
      "{'score': 0.23230485618114471, 'start': 125, 'end': 163, 'answer': 'can provide additional quality of life'}\n",
      "{'score': 0.46773698925971985, 'start': 148, 'end': 163, 'answer': 'quality of life'}\n",
      "{'score': 0.3263391852378845, 'start': 137, 'end': 163, 'answer': 'additional quality of life'}\n"
     ]
    }
   ],
   "source": [
    "context = r\"The pipeline abstraction is a wrapper around all the other available pipelines. It is instantiated as any other pipeline but can provide additional quality of life\"\n",
    "\n",
    "print(QA_pipeline(question=\"What is good about this application?\", context=context))\n",
    "print(QA_pipeline(question=\"What can be improved about the application?\", context=context))\n",
    "print(QA_pipeline(question=\"What do the application lack\", context=context))"
   ]
  },
  {
   "cell_type": "code",
   "execution_count": 173,
   "metadata": {},
   "outputs": [
    {
     "data": {
      "text/plain": [
       "str"
      ]
     },
     "execution_count": 173,
     "metadata": {},
     "output_type": "execute_result"
    }
   ],
   "source": [
    "type(context)"
   ]
  },
  {
   "cell_type": "markdown",
   "metadata": {},
   "source": [
    "Death, NER"
   ]
  },
  {
   "cell_type": "code",
   "execution_count": 134,
   "metadata": {},
   "outputs": [],
   "source": [
    "from transformers import BertTokenizer, BertForSequenceClassification\n",
    "import torch\n",
    "\n",
    "def analyze_review_with_bert(review):\n",
    "    # Load BERT tokenizer and model\n",
    "    tokenizer = BertTokenizer.from_pretrained(\"bert-base-uncased\")\n",
    "    model = BertForSequenceClassification.from_pretrained(\"bert-base-uncased\")\n",
    "\n",
    "    # Tokenize input text\n",
    "    inputs = tokenizer(review, return_tensors=\"pt\", truncation=True, padding=True)\n",
    "\n",
    "    # Perform inference\n",
    "    outputs = model(**inputs)\n",
    "\n",
    "    # Get predicted sentiment\n",
    "    sentiment_score = torch.argmax(outputs.logits).item()\n",
    "    sentiment_label = \"positive\" if sentiment_score == 1 else \"negative\"\n",
    "\n",
    "    # Extract features related to savings\n",
    "    savings_keywords = ['saving', 'savings', 'pockets', 'interest rates']\n",
    "    savings_features = any(keyword in review.lower() for keyword in savings_keywords)\n",
    "\n",
    "    if sentiment_label == \"positive\" and savings_features:\n",
    "        return \"Based on the positive sentiment and mention of savings-related features, consider enhancing the savings feature.\"\n",
    "    else:\n",
    "        return \"No specific suggestions based on the provided review.\"\n",
    "\n"
   ]
  },
  {
   "cell_type": "code",
   "execution_count": 135,
   "metadata": {},
   "outputs": [
    {
     "name": "stderr",
     "output_type": "stream",
     "text": [
      "Some weights of BertForSequenceClassification were not initialized from the model checkpoint at bert-base-uncased and are newly initialized: ['classifier.bias', 'classifier.weight']\n",
      "You should probably TRAIN this model on a down-stream task to be able to use it for predictions and inference.\n"
     ]
    },
    {
     "name": "stdout",
     "output_type": "stream",
     "text": [
      "Based on the positive sentiment and mention of savings-related features, consider enhancing the savings feature.\n"
     ]
    }
   ],
   "source": [
    "# Example review\n",
    "review = \"My fav feature is the saving pockets can't wait to build my savings with the good interest rates. amazing user interface!!\"\n",
    "\n",
    "# Analyze the review using BERT\n",
    "analysis_result = analyze_review_with_bert(review)\n",
    "\n",
    "# Print the analysis result\n",
    "print(analysis_result)"
   ]
  },
  {
   "cell_type": "code",
   "execution_count": 136,
   "metadata": {},
   "outputs": [],
   "source": [
    "import torch\n",
    "from transformers import BertTokenizer, BertModel\n",
    "import numpy as np\n",
    "from sklearn.cluster import KMeans\n",
    "\n",
    "def extract_features(texts):\n",
    "    tokenizer = BertTokenizer.from_pretrained('bert-base-uncased')\n",
    "    model = BertModel.from_pretrained('bert-base-uncased')\n",
    "    model.eval()\n",
    "\n",
    "    features = []\n",
    "    for text in texts:\n",
    "        input_ids = tokenizer.encode(text, add_special_tokens=True, max_length=512, truncation=True, return_tensors='pt')\n",
    "        with torch.no_grad():\n",
    "            outputs = model(input_ids)\n",
    "            last_hidden_states = outputs.last_hidden_state\n",
    "            features.append(last_hidden_states.mean(dim=1).squeeze().numpy())\n",
    "    \n",
    "    return np.array(features)\n",
    "\n",
    "def cluster_texts(features, num_clusters=2):\n",
    "    kmeans = KMeans(n_clusters=num_clusters, random_state=42)\n",
    "    kmeans.fit(features)\n",
    "    return kmeans.labels_\n",
    "\n",
    "def extract_benefits_problems(reviews, labels):\n",
    "    benefits = []\n",
    "    problems = []\n",
    "    for review, label in zip(reviews, labels):\n",
    "        if label == 0:\n",
    "            problems.append(review)\n",
    "        else:\n",
    "            benefits.append(review)\n",
    "    return benefits, problems\n"
   ]
  },
  {
   "cell_type": "code",
   "execution_count": 137,
   "metadata": {},
   "outputs": [
    {
     "name": "stdout",
     "output_type": "stream",
     "text": [
      "Benefits:\n",
      "- Hit with fast reversal when transferring money to this gxs bank, first time in my life a fast transfer didn, Äôt succeed. Googled for recent reviews and social media on this gxs bank. Mostly bad reviews and issues. I don‚Äôt need developer reply to my review here as I‚Äôm absolutely not going to touch this bank anymore. And biggest joke of all, you don‚Äôt even have the most basic banking feature to save payee details. What kind of app development staff and quality is that???.\n",
      "- It‚Äôll be so much, and I don‚Äôt exaggerate when I say this, so much faster for you to travel from one end of Singapore to the other, to open an account at a traditional bank branch. One piece of advice to the management of GXS Bank - do not launch if you are not ready! You are a joke. Please look at Trust Bank. Simple and easy to use. Account opened in like, 2 mins?\n",
      "- GXS offers seamless, fast and super effective digital services.Never ever I had such experience with other banks. GXS definitely is the bank of future! You must try it to believe!.\n",
      "\n",
      "Problems:\n",
      "- What a joke! Nothing happens after you input your phone number - nothing!\n"
     ]
    },
    {
     "name": "stderr",
     "output_type": "stream",
     "text": [
      "/Library/Frameworks/Python.framework/Versions/3.12/lib/python3.12/site-packages/sklearn/cluster/_kmeans.py:1416: FutureWarning: The default value of `n_init` will change from 10 to 'auto' in 1.4. Set the value of `n_init` explicitly to suppress the warning\n",
      "  super()._check_params_vs_input(X, default_n_init=10)\n"
     ]
    }
   ],
   "source": [
    "\n",
    "# Example customer reviews\n",
    "reviews = [\n",
    "    \"Hit with fast reversal when transferring money to this gxs bank, first time in my life a fast transfer didn, Äôt succeed. Googled for recent reviews and social media on this gxs bank. Mostly bad reviews and issues. I don‚Äôt need developer reply to my review here as I‚Äôm absolutely not going to touch this bank anymore. And biggest joke of all, you don‚Äôt even have the most basic banking feature to save payee details. What kind of app development staff and quality is that???.\",\n",
    "    \"What a joke! Nothing happens after you input your phone number - nothing!\",\n",
    "    \"It‚Äôll be so much, and I don‚Äôt exaggerate when I say this, so much faster for you to travel from one end of Singapore to the other, to open an account at a traditional bank branch. \"\n",
    "    \"One piece of advice to the management of GXS Bank - do not launch if you are not ready! You are a joke. Please look at Trust Bank. Simple and easy to use. Account opened in like, 2 mins?\",\n",
    "    \"GXS offers seamless, fast and super effective digital services.\"\n",
    "    \"Never ever I had such experience with other banks. GXS definitely is the bank of future! \"\n",
    "    \"You must try it to believe!.\",\n",
    "]\n",
    "\n",
    "# Extract features from reviews\n",
    "features = extract_features(reviews)\n",
    "\n",
    "# Cluster reviews into benefits and problems\n",
    "labels = cluster_texts(features)\n",
    "benefits, problems = extract_benefits_problems(reviews, labels)\n",
    "\n",
    "print(\"Benefits:\")\n",
    "for benefit in benefits:\n",
    "    print(\"-\", benefit)\n",
    "\n",
    "print(\"\\nProblems:\")\n",
    "for problem in problems:\n",
    "    print(\"-\", problem)\n",
    "\n",
    "\n",
    "\n"
   ]
  },
  {
   "cell_type": "code",
   "execution_count": null,
   "metadata": {},
   "outputs": [],
   "source": []
  }
 ],
 "metadata": {
  "kernelspec": {
   "display_name": "Python 3",
   "language": "python",
   "name": "python3"
  },
  "language_info": {
   "codemirror_mode": {
    "name": "ipython",
    "version": 3
   },
   "file_extension": ".py",
   "mimetype": "text/x-python",
   "name": "python",
   "nbconvert_exporter": "python",
   "pygments_lexer": "ipython3",
   "version": "3.12.0"
  }
 },
 "nbformat": 4,
 "nbformat_minor": 2
}
