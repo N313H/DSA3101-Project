{
 "cells": [
  {
   "cell_type": "markdown",
   "metadata": {},
   "source": [
    "We attempt to analysis each reviews by extracting the problems/benefits of the application mentioned in each reviews\n",
    "To do so, we utilise the hugging face question-answering pipeline\n",
    "Similarly, hugging face provides us with the sentiment analysis pipeline, allowing us to check the sentiment value of each review"
   ]
  },
  {
   "cell_type": "code",
   "execution_count": 6,
   "metadata": {},
   "outputs": [],
   "source": [
    "#libraries\n",
    "import pandas as pd\n"
   ]
  },
  {
   "cell_type": "code",
   "execution_count": 7,
   "metadata": {},
   "outputs": [],
   "source": [
    "#import data\n",
    "appStore = pd.read_csv('data/AppStoreData.csv')\n",
    "googlePlay = pd.read_csv('data/PlayStoreData.csv')"
   ]
  },
  {
   "cell_type": "code",
   "execution_count": 8,
   "metadata": {},
   "outputs": [],
   "source": [
    "#combine review data \n",
    "as_review = appStore['review']\n",
    "gp_review = googlePlay['text']\n",
    "\n",
    "reviews = as_review.tolist() + gp_review.tolist()"
   ]
  },
  {
   "cell_type": "code",
   "execution_count": 9,
   "metadata": {},
   "outputs": [
    {
     "name": "stdout",
     "output_type": "stream",
     "text": [
      "['Great banking app with attractive interest rates! Please allow us to add and/or save payees so we don’t have to keep typing out UEN numbers or account numbers. Would be nice to be able to add the debit card to Apple Pay too!!', 'A bank like no other, no bank have such amazing feature to separate your money into different “pockets” to keep track of your goals. Moreover the interest rate they give is the highest for the no effort! Interest are being deposit daily and it’s amazing to see 💵 coming in to the bank daily! \\n\\nThe user interfaces is so intuitive that every button can be found with your eyes close, that makes money transfer so much smoother. Also the colours is so slick that I want to turn the app on everyday just to look at it and see the daily interest\\n\\nLots of potential for the product and I can’t wait to see more of it.', 'Notice that the drop in interest rate of 0.8% in saving accounts. GXS just come out with a reason to say many consumers want a increase in interest rate in main accounts as most of their funds are there to get the 1.2x points for dash and grab spending. Hence they decrease the interest rate to 2.68% in saving account and increase to 2.38% in main account .\\n\\nThe thing is GXS can increase the main account interest and maintain the interest rate in saving account. They will attract more consumer in this case. However, they use this opportunity to decease the interest rate in saving account instead and use the consumer as an excuse for the decrease.\\n\\nI am very disappointed in GXS and have close my account in GXS. There are other banks offering a higher interest rate such as OCBC and UOB for saving accounts. No point sticking to GXS.', 'Sending money into my GXS account is a breeze and instantaneous - regardless of the amounts. I’m able to immediately see that my funds are in GXS. \\n\\nTransferring money OUT is a huge issue. Since June I’ve had problems transferring amounts higher than $500 back to my other banking accounts, each time a red banner will pop up and said something went wrong please try again later. TODAY I can’t transfer more than $1000 back to myself - even the $1000 had to be transferred in TWO transactions of $500 each. Customer service officers did their best to help each time but it’s annoying that the advice provided (killing the app, re-logging in with SingPass) still don’t work.', 'I have to say that the UI/UX is one of the best one I’ll have seen for any Digibank mobile app and finally a strong market player that focuses on customer experience and design, which is critical as most banking products doesn’t differ much for any banks out there. Please make it available asap can’t wait to see what you have to offer!', 'Have been waiting for a slot for the account since GXS started and have been waiting until now (about 7 months) and still nothing, whenever anyone ask for why, the excuses given are still mostly the same with no actual changes or improvements (people can’t help but compare to the other bank “trust bank Singapore” that also launched just 1 day before GXS’s launch and believe trust bank Singapore to be better since trust bank can allow people to register without waiting for this long)', 'Great app, with awesome design and theme unlike traditional banking institutions. Provide high interest rates and suitable for targeted group of audience. Ratings were probably dragged down by reviewers who rated 1/5 because they couldn’t sign up - as GXS bank is rolling out to users by batches.\\n\\nOverall a good experience! :)', 'Hit with fast reversal when transferring money to this gxs bank, first time in my life a fast transfer didn’t succeed. Googled for recent reviews and social media on this gxs bank. Mostly bad reviews and issues. I don’t need developer reply to my review here as I’m absolutely not going to touch this bank anymore. And biggest joke of all, you don’t even have the most basic banking feature to save payee details. What kind of app development staff and quality is that???', 'Very easy to use, user friendly and intuitive. Nice design of the app making it easier to navigate the app. Saving pocket is an interesting and useful feature. can’t wait to explore and use more of the app', 'What a joke! Nothing happens after you input your phone number - nothing! \\n\\nIt’ll be so much, and I don’t exaggerate when I say this, so much faster for you to travel from one end of Singapore to the other, to open an account at a traditional bank branch. \\n\\nOne piece of advice to the management of GXS Bank - do not launch if you are not ready! You are a joke. Please look at Trust Bank. Simple and easy to use. Account opened in like, 2 mins?', 'Honestly is my first time depositing digital banking A lot worry . But at the end is a great experience. I believe a lot of us wanted is the return . And they offer very high interest. Will continue to deposit Thank you', 'My biggest frustration is that I can’t save payees when sending money.  Everytime I need to transfer funds, I have to select a transfer type and fully type out the account number, payee’s name, and select the bank.\\n\\nThis is incredibly tedious esp for accounts I pay frequently. Without this “fundamental” feature a payee list, it’s easy to make mistakes entering long account number, name and bank name each time.', 'Best bank to save up and best bank in receiving cash back! And also, so happy to be able to win a lucky draw from here! Hopefully things get much better in this year!', 'App is very responsive, and interface is simple but comprehensive. Transaction speeds are very quick too.', 'Despite a lengthy onboarding but my account got approved promptly. I like that the app is snappy and easy to use. Waiting for credit card so that I can switch to GXS as my main account.', 'GXS offers seamless, fast and super effective digital services. \\nNever ever I had such experience with other banks. GXS definitely is the bank of future! \\nYou must try it to believe!', 'I recently used this digital bank, which has many security features and user friendly UI.\\nI 100% recommend to used this App.', 'The app’s interface is really user friendly and sleek! It loads very fast as well, can’t wait to start using this digital bank app :)', 'Already 1 year but basic functions like adding payee is not in the app. It’s so troublesome to transfer funds to different bank accounts! With your latest move to reduce interest to 2.68% has made me feels like maribank is better even with slightly lower interest rate because they knows what basic functions to include in the app', 'Extremely disappointed with the GXS app. Despite consistent use on the same device for a long time, it suddenly stopped allowing money transfers with explanation device changed. This lack of clarity and abrupt disruption in service is unacceptable. Terrible user experience, deserves only 1 star.', 'Wish more people can download and use, and more rewards can be given.', 'Can try for saving money !! My money said they liked there', 'Everything is perfect. Ease of use. Fast transfer for quick cash. Repayment is easy and low interest. This app is a life saver literally :)', 'Easy drawing and repayment option. Flexible of choice at any time with any needs. Like it and good tool for emergency money with flexible borrowing and repayment.', 'Ease of use.\\nPay anytime before due is possible. \\nEmergency moolahs are here without breaking your bank!', 'J got recommended to try out this app by a fren and i love it! It’s convenient and easy to use and i can see myself committing to this in the long term! :)', 'the app is easy to navigate and the UI/UX is excellent. I love the saving pockets and the good interest rates! definitely worth the wait and has a lot of potential 👍🏼', \"My fav feature is the saving pockets can't wait to build my savings with the good interest rates. amazing user interface!\", 'Downloaded the app but doesnt seem to be able to sign up and got asked to stay tune after giving my phone number. I cant see the screens as presented in the app store. What is going on?', 'Very easy to navigate and super fluid UI. Lovely bank and recommended everyone to join with ease of mind.', 'No more long waits and tons of paperwork to open a bank account. Looking forward to how GXS can generate a stronger value proposition for consumers.', 'This app is easy to use.', 'User friendly', 'Like to use GXS apps that is link to Grabs apps for easy to transfer money from saving to topup Grabs account.', 'Best digital bank in my opinion I prefer this over its competitors:)', 'Well if u like to see growth everyday, this app gives u that. Set goals and see it grow towards it!', 'Very convenient and easy to understand and use', 'Why put an app on the store when you are not ready. All about the app now is collecting info. If you have heard yet, please use testflight for ur ‘launch’ aka beta testing 🤦🏻\\n\\nUpdate: doesn’t bode well… even response is so robotic n mundane. Might as well not respond and spend the time to build the app for a proper launch', 'Noticed the news writing they offer 3.48% interest rate. After downloading the apps and trying to sign up, end up asked me to fill up my particular to  receive latest buzz updates.! \\n\\nIf the bank isn’t planing to offer, please stop advertising that. Thanks!', 'Having problems logging onto the app. It says my phone cannot be used for GXS as it has been modified in someway. I just logged in this morning with the same phone with no problems. Please advice.', 'It’s all good! Until recently a dropped of 0.8% interest rate in such a short notice and changes', 'Love the interface and saving pocket is so unique, can’t wait to meet my deposit goal!', 'The app is easy to navigate and optimise for people of all ages.', 'Brilliant app design, fast transactions, excellent rates. Keep up the good work! What more can I say?', 'Try it and you will love it.', 'The app is super easy to use, and I love the saving pockets that allow me to easily set money aside for my goals!', 'There are a number of things that are great about GXS. \\n1. Ease of use\\n2. daily interest \\n3. No hassle with minimum sum', 'It doesn’t make the company look reputable when they offer a high interest rate only to drop it immediately after gaining enough users. It feels like a bait, which it is. They should acquire deposits through more honest and transparent methods.', 'Easy to use and log in! Very clean instruction.', 'Simple, straightforward to use with no bugs. Great experience', 'Really like the details in the app, will definitely use it daily!', 'Like the app design, especially the pockets for savings. Just waiting for the $5000 limit to be lifted.', 'Received email invite from GXS saying that I am now able to open an account. After finishing the entire onboarding application I am told they are unable to proceed with my application saying “It’s not you, it’s us”. \\n\\nUmmmm okayyyy', 'Easy to use and nice UIUX. Saving pockets is an interesting and useful feature', 'Simple and easy', 'Is GXS looking into this issue? Going to be a week, still something is wrong. What happened to iOS user testing before roll out? It’s baffling the slow service recovery GXS is impressing upon iOS users.', 'Intuitive and easy to set up', 'Friendly use apps', 'Very friendly app', 'GXS touted a 3.48% interest in their savings pocket only to change the interest to 2.68% within a short period of only a month. A bank is only as good as it’s promises and this bank just lost it all. Will never use GXS again.', 'Personally don’t like the theme, anyway allow user to change more brighter one?\\nDark color me uncomfortable 😞', 'This is very good. Really very helpful. I Will keep in touch with them. 👌🏽😍', 'Such a great service compared to Bank', 'Easy to use with high interest rate', 'Makes banking easy to use', 'Nice design!', 'You get the highest saving interest rate on the market', 'Show allow to increase amount not reduce and stay that way. For a first timer I didn’t know that once I reduce amt I cannot get back the original amount that is given to me.', 'Guys u guy to try this out', 'Income extracted from SingPass is incorrect.\\nInformation in SingPass is correct\\nWhich means the process of extracting information needs to be updated.', 'This should be removed from App Store. A bank that is not even able to accept a customer sign up. What a joke from Grab and  Singtel.', 'Loan disbursement was immediate. App is simple to use. Repayments just as easy.', 'Best and fast loan approval', 'Extremely disappointed after downloading the app, waited and waited for it to open and still told to wait and wait and wait and wait and wait……………..no ends!!!!!👎👎👎👎👎👎👎👎👎👎👎👎👎👎👎👎', 'I cannot open the app at all, even after updates it keeps telling something went wrong.', 'increase so much just to make us open account then now int rate worst than t bills. UI also so dark. not much use case except earn risk free rate. grab is expensive', 'Gxs provide good interest for their pocket savings.', 'DO NOT USE THIS APP!!!! So frustrating on this app. 3 times I tried to move a small portion of money out of my pocket. 3 times the pocket becomes $0 straight away and I can’t move/transfer my money out!!!!!!!!!!!!!', 'Gave an application to open account but the bank decided to cancel opening new accounts and the “bank” didnt even bother to inform clients! May be its a gods sign to save my money.', 'App keeps giving me “something went wrong” and “it’s not you, it’s us” notification whenever I attempt to log-in. Totally unusually at this time of writing.', 'could you add a way to sign in using singpass password instead of only having to use the app?', 'Not prepared? Then don’t launch. See your direct competitor got a pure breeze of experience. Onboarding was swift and fast. Just think the reviews here are just made by the staff lol, focusing on UI/UX what a joke. Best UI/UX where others cannot experience YET.', 'When you asked your staff to write a 5* review, don’t just get them to write great app, easy to use or hurray. Write how did the app help you, how you benefit from the app and why the app is soooo good?', 'Love the modern design, user experience was great as well.', 'Pls improve your good service for any person who are really need it,hope the app can improve soon', 'Efficient', 'A whole new era of banking. Go GXS or go home! 💪🏼', 'Great UI and user-friendly', 'Sent me texts and email to tell me I am selected for flexi loan . But non is approved . Said borrow from $200 and above but can’t even borrow $200 😂 rejected all of my friend and family members . So who can borrow ? Millionaire ?', 'Fair and transparent loans.\\nInterest is not like the atypical bank that is out to profit and cripple the debtor.', 'Keep creating account to write fake 5 star reviews when your app is so buggy and processing time is so slow. Worst banking app ever!', 'Useless, lacks features and does not provide any improvement from traditional banks available in Singapore', 'Reduced interest from 3.48 to 2.68% in less than a month, kenna baited to start an account here. Have removed all my funds and closed my account.', 'THIS LITERALLY SAVED ME, i recommendation is high as the giant touches the sky', 'When I sign up can’t sign up always say oops something went wrong please try again', 'Good to use', 'Great plat form … easy to use and hassle free.', 'reliable and quick response', 'Pockets are unique and useful', 'Good interest rate on pockets and great user experience.', 'Can’t login after applying?????????', 'Love the savings pockets and daily interest!', 'Did an intern write that script? Nice.', 'Nice And Fast Bank', 'Best get back to the drawing board. Design thinking  forget about the  many “dumb” users out there including me.', 'Awesome, easy n fun to use! 😊', 'What if I urgently need access to my money? This is not the way to go.\\n🤬', 'Deleted the app. Sick of it serving no other purpose currently than being a lead generator.', 'Access to funds blocked, no transparency apart from it being a recognized technical issue, no ETA and no communications from Grab or Singtel.', 'app is really easy to navigate, user-friendly', 'Unable to sign in to account', 'Is this really an authentic app for GXS? Looks cheap.', 'save ur money and grow', 'Good to use', 'Lack the basic function to save a payee', 'Does not make sense.', 'useless app.  unable to join or open account,\\napp is not open to all in sg', 'Great features! Love it!', 'Love the app', 'first bank to reduce interest rates for savings but interest rates for loans stay high', 'Good app', 'Good', '= x o', 'heheh', 'Only for PR and SP', 'Wow', '🚀🚀🚀🚀🚀', 'I was trying to make payment using Paynow Qr code using scan and pay. Merchant create a dynamic QR code of payment $15.7 but the GXS app scan and pay read in as $15.07\\nPls advice to correct the mistake as it make me and merchant very inconvenience.', '安全漏洞！下载要小心！即使用SingPass 开户也一样不安全！Bug 导致无法通过！', '21 Jul 23:\\nThe integration on iPad is off. The first time login requires SingPass as a safety feature but it doesn’t generate a QR Code. Devs should consider a workaround. \\n\\nPending dev feedback before rating change.', 'cant logging using finger print . previously still able to use . so pissed off with the update .', \"For 1st time registration signup by singpass and all info's needed but still my application is denied.\", 'Updated - Kindly ignore my previous rating, and I have amended my rating. My son did a Giro to link his Grab Account to GXS but neglected to inform us of the transaction.', 'They unable to process my application. 4x attempt', 'Try logging in after logging out completely. Cannot see Singpass QR at all. How to log in again? Something wrong with new updates?', \"Fingerprint login no longer work since 2 months back.. all other bank apps doesn't have such issues.\", 'Love the function of having multiple pockets as it helps me to track each target accordingly. Thank you for the genius allocation! Would have given 4.5 if there was, with the 0.5 hoping for unlimited numbers of pockets. :\")', 'Quick transfers to bank acc and fast repayments. Very suitable for short term loans', 'A feature they should implement is to save your recipients which you FAST to, makes it a lot safer as it prevents mistaken sending of funds to unintended recipients after the 1st transfer.', 'Ok Good system.', 'good 👍', 'Can not open', 'Hi any chance for foreign to apply? Im work at sg', \"Really really damm time wasting, if not ready for sign up don't launch. Close down and don't let people wait for you, uninstalling now. Trust Bank is much better, CRAB!\", '🥰🥰🥰', \"Been using this bank for a while now and didn't face any major problems. What I enjoyed the most is the saving pockets area where we could create different pockets for each saving we want to do and even add goals into it. The 2.68% per annum is added daily (0.01) as long as you have a minimum of 150 in your savings. If not, you'll have to wait till your it accumulates up to 0.01 to be added. There was also cashback when you make payment using the card which I didn't know till recently.\", 'Great app that can park your savings using pockets, but hopefully the interest rate of the savings pockets will increase due to the current economic conditions', 'Unable to login or use the forgot password function. System only replied with \"something wrong please try again later\" Now I was told I must wait for the next version of app to be rolled out progressively before I can login. Hopefully won\\'t take too long', '👍👍👍👍', 'Sorry to have said this, why not this gxbank through by gxbank for worldwide', \"I don't set. A password in my phone n not allow me to down load this apps\", 'When to sign up for the account in last year august. 5 months has pass still waiting. Please help to solve the issue.', 'Why i cannot login?.', 'Very good app', \"I'm stuck on the singpass page without being able to proceed. All is updated to latest ver.\", 'Love GxS bank. Would it be available on Google Pay as well? 😉', 'Cannot sig up', 'Occasionally getting unable to login error.', 'Well done', 'Buggy app, bad interest rate', 'I am unable to log in today when i could yesterday. I cant transfer my money out to use. There is no alternative like physical counter or website so my money is stuck when i urgently need my money.', 'What a nonsense app is this??download but say got malware in my hp?and ask me to fix my app?wth?', 'Easy and fast app', 'could not open my gxs app', 'Your phone cannot be used Lol, which part of my phone have been modified? Nvr root or anything This is something that should not even be released to the public when you can\\'t even get device authentication working UPDATE: So they decided to just close my issue and deemed it as \"resolved\" when it isn\\'t Dont ever use this pos software', 'Good', 'Easy loan and easy payment with no hassle.', 'Very good digital savings bank account that helps grow our funds.', 'Great savings rate!', 'Loving it so far.', 'Easy to use', \"Couldn't use the app suddenly\", 'Poor try attempted but still cannot . Terrible app....', \"Few months have passed. And we still can't add favourite payee, etc. Can u guy really work on it\", 'Could be scam', 'I not be able to log in GXS bank today after I pay off my 1st outstanding loan. Is there a bug or hack? I hope my $ was offset for the loan. Even even I restart, power on off my phone, after updating the app, I unable to log in. When I log in with fingerprint, keep loading. Pls help.', 'Seriously makes you wonder how grab and singtel took so long to come up with an app and there is no simple things like adding a payee. The debit card was only recently released when trust came up with a proper product more than a year ago with a proper rewards programme. Just like its owners, GXS is a failure.', 'Why do the app ask me to rate on Play Store if my rating on the app is 5, but there was no such questions when I put a 1 rating on the app? It encourages unfair ratings on the Play Store.', 'Great interest rates and card spending rebates, and the app is also simple and easy to use.', 'Reminder, please up to date your app for users to activate Gxs debit physical card. Currently facing a small issue with logging in my GXS app & only through the app. + 5 secret digit number to input. All the best to new peeps have same trouble as me.... Cheers.', 'Hang when i want to log in with sing pass', 'Cannot set up my account in redmi 8T. Reach the email 2FA before I key in the numbers App closed', 'Easy to use, clear info and rapid yet secure transactions. Highly recommend.', 'Ease of use and payments', 'Easy to use & very helpful 👌', 'Dumbest banking app ever. Get your own people to put 5*, never seen such app before, if you are good then make the app good and give 3.48%', 'Been waiting since july to open an account.. Remembered that i sign up for early access first time round and was told would be informed once new slots are available for sign up.. As weeks goes by i see that other people were invited to open an account but not me.. Now 4 mths later am trying again and signed up again for early access..', 'Easy & fast approval of loan with reasonable interest rates. GXS is giving other banks a run for their $$$. All the best GXS Bank!', 'Ease of use.', 'Great bank..Good interest rate', 'Super efficient 👍', 'Easy of use', 'Ease of use', 'Superb', \"Almost perfect; I want to transfer via bank account number but they do no allow me to save the bank details so I'm stuck twitch manually entering the details everytime when I need to do transfer which can be prone to human error.\", \"Terrible, don't use this bank\", 'Friendly user', \"Worst rate you will ever find. Bank interest are much more forgiving. This app calculate and told me about 8.5% Per/annum. Total outrageous. That's close to ah long rate . Horrible horrible. Straight away uninstalled\", 'I hope the GXS Bank can given the interest 10% p.a as deposit $1 into the saving account as a free gift .', 'False advertising of rates.', \"Gxs is simple and easy to use, with a saving account/pocket that has no TnC. But not being able to add payees for FAST transfer is quite a setback and detrimental considering it as a basic common banking service that most people do. As a digital bank, isn't it pertinent to include basic online banking service like adding of payee?\", 'Closed my account without giving me any reason. Just started to put money in the account to earn interest, merely only earned $4 of interest in total.', 'Fast and easier way to get the loan amount, as a foreigner i cant make but my friend helped me, it will be useful if foreigner also can borrow.. This is a suggestion.. Thanks', 'Ssucks', 'Seems to be full. Unable to sign up. Uninstalling since it is the case.', \"1) long waiting list 2) everytime i log into waiting list, it's as if I'm not in the waiting list as they ask me to sign up to be in the waiting list 🙄 alr 4 time alr 3) of course I'm still not in the GXS list Had sent light for the long wait. Meanwhile while it isn't approved I'll delete since I won't be able to use it. 😑 No spaces.\", 'Pathetic app and support. Paynow qr, which is the only way to spend money from this bank account is not working for months and support is providing meaningless replies', 'You are welcome! I had hoped to keep more money long term but after only 1 month with GXS, your interest rate dropped greatly! Please have \"Add Payee\" to reduce errors - no Copy & Paste so we need to memorise long account numbers! Jul2023 Review - Seamless transactions. Great fun bank to bank with. I like the pockets idea where I am able to see where my goals are heading! The interest is the icing on the cake! Great UI and UX! Easiest digital bank to use! Thank you very much, Dev & Team!', \"It really helps when really in need. So easy to do it. It's at your fingertips.\", 'Easy to apply good full amount of loan given compare to outside or lending bee ... or they never cut your loan amouny . interest can be save if payment early. multiple loan also can.. only it could be better if can increase loan amount after loan given .. or can be resgistet again once deleted.', 'Good app😃', 'The UIUX of the app is definitely the best amongst the banks right now, looking forward to more products', 'Good job GXS', 'Awesome app for use', 'How many attempts for the year. Until now, message still the same. It’s not you, it’s us. We understand that receiving this news may be disappointing. And while we’re unable to disclose the specific reasons why your GXS FlexiLoan application wasn’t approved, please know that every GXS FlexiLoan application goes through an evaluation process that must meet our eligibility criteria and internal assessment requirements.', \"Year 2023, a banking app that can't save pay, are you living in yesteryears?\", 'Cannot register, keep nothing pop up On sign up', 'No debit card. Max interest reduced to only 2.65 now within one month of start.', 'is there a login issue now', 'Poor, get in touch with email late response after few weeks then replied. Not recommending 😔', 'Great concept on the savings account. Daily interest really motivates keeping money there. Hope to see GXS bank grow and increase the savings account limit. Edit: Interest rate drop significantly. Moving out.', 'Cool app.', \"Can't even open the GXS app... the only way to access your account with a digital bank. It's like placing your money and cementing it with a roof and 4 walls with no doors!\", \"Attempt to try but it keep post something wrong.cannot go thru the apps.dont know why?3 times try even more but still can't get thru?\", 'Unable to open the app and use my funds. Is this some kind of cash grab?', \"Wasn't able to log in since 7 Sept. Called the CSO hotline on 9 Sept and was told to try resending the email OTP. Checked the email junk box and retried multiple times but didn't receive any emails. Was told that they had to check on the back end. When asked when I could receive a response, they mentioned 2 working days?? But this means I wouldn't be able to carry out any transactions for 5 whole days. Imagine if I had a critical transaction to carry out! I would have no access to my funds!!!!\", \"App got problem can't login\", \"Stuck on Oops, something went wrong page when opening the app, while overseas. I can't imagine if I was in a urgent situation and my banking app failed like this. No way to access funds through a browser too means you can't do anything at all other than hope the problem is fixed soon. Put what you can afford to lose.\", 'Same cannot open the apps now... What happened?...', 'Unable to open all of a sudden when I try on 7 Sep and only stuck in loading screen', 'False promise so fast change interest rate', 'Unexpected error when trying to login. Kindly fix this issue ASAP.', 'Unable to open app. From other reviews, seems I am not the only one. How to trust this bank?', 'Cannot log in!', 'Unable to use biometrics', \"Cannot login all of a sudden. Tried to uninstall and reinstall. Still no changes. What do i do here? I've got a pending repayment due. And if this continues, i will mostly probably be charged the late interest due the the app have login issues.\", 'Cannot seem to open the app suddenly. Did not install new apps or change any setting on phone. Tried uninstalling and reinstalling still no avail. Although your CSO has been trying to rectify, it is still unsolvable. Sad, as when it first came out, I was the one of the many who applied in the beginning stage. Your services helped me. But now I have no access to it.', 'Am trying to redo application. So i closed account. Now cannot re open. Quote lost in space', \"Just found out that they are reducing their interest rate to a pathetic 2.68%. don't like this bait and switch marketing strategy, lure us with high interest rate then suddenly drop the interest rates once they get enough sign ups. [Update] Whats the point of increasing the main wallet interest when no one puts money there? Its not like you're increasing it back to 3.48% right? The pt is the big reduction of the Pockets interest rates which is the key thing that people arent happy about.\", 'Was rejected without details', \"Firstly i can't even log in shows some error n stuff haiz\", 'Cannot open the apps. Why partner with Grab? Useless app', 'An absolutely rubbish apps, with zero chance of getting loan approval, totally useless', 'Have not even tried already failed on me. Just to download has the error and ask to download again .. 😔', 'The apps cannot make it. I tried to apply for a loan. After filling up all the forms, unable to proceed after the last question, are you a US citizens. The next button does not pop up be the answer is yes or No.', 'Only Singaporean can apply for loan, good if everyone can apply.', 'Rates are not so attractive already', 'Reduce interest rate in less than a month. Waste time open account here.', \"Can't open\", 'Bait and switch 👎🏼 Switching to standard chartered eSaver for 3.4% interest', '\"Oops something went wrong! ...\" (if only i can attach a screenshot)', 'Cannot even sign up properly', 'Trolling us bruh', 'No option to add payees', 'Garbage company for deceiving the public', 'Barely a month in, GXS has indeed chosen to slash their interest rates i.e. effective 17 August 2023 onwards, the interest rate earned on Saving Pocket(s) funds have been adjusted from 3.48% p.a. to 2.68% p.a.', 'I seem to be having issues with the opening of the app.', 'Interest rate dropping substantially after just ONE MONTH. Kind of hilarious. Moving out!', '3.48% interest rate only last for 2weeks, the main selling point for this app is now dropped to 2.68% pa 😂', 'after two week still pending my account.', \"Seamless. Got it up and running in less than 5mins! Easy to transfer in and out from other banks. I like the daily interest credit. Helps me set aside money for daily use and motivates me to check how much I'm getting everyday. Dun understand why there are gripes and complaints from other reviewers. This app is fantastic 😍\", \"I have been trying for few hours to signed up for the flexiloan using Singpass.. till now it shows couldn't retrieve Myinfo.. wanted to Live Chat with anyone for assistance but there's no icon showing Live chat at the help center at all..\", 'Love GXS', 'Good to see increased competition in the banking space (high interest is good, but inexplicably only given within a saving pocket), but GXS app lacks basic functionality, eg. ability to save payees (at the point of writing this review, these details need to be re-input each time - irritating and error prone). Suggest that rather than working on cool, but otherwise non-essential functions (like saving pockets), the company should focus on the basics first.', 'Details not complete', \"Registering, get the notice it's full and sign for interest. Received email notification, sign up to get prompt to sign for interest...again.\", 'Tried multiple times still unable to sign up....', 'No support for SGQR. When only way to spend is QR pay, atleast support SGQR, GrabPay as very few business have Paynow QR!', 'Can GXS pls explain why the app keeps saying there is unexpected error and I cannot even open the app????', 'Dogshit app that takes forever to setup and days to review applications', 'Cui full. Cannot sign up. Only on waiting list. What a waste.', 'rejected everytime try to apply', 'Lousy app. Applied on Saturday and was informed that application closed on Tuesday. Waste time.', 'Not worth the effort to sign up. Not transparent in application selection process.', \"All early sign up slots taken? I thought it's already open for all to sign up ?\", \"Download already can't even open the file.\", 'I installed the app and got to the first screen. When I tried to proceed, it popped up a message saying and there is an overlap app that is NOT SECURED. It then asked if I want to proceed. What is this about?', 'such a lousy app. cant even login or set up account', 'I wish we can put a 0 star for it. Make you create an account, wait for it only to tell you that it is full while others cut queue to have the account created while you continue to wait. Probably just out to farm your data. Dont bother', 'app is not been updated.', 'Simple to use. Took a short while to know how to process. Hope that they can maintain the great interest. Good job GXS.', \"App is not clear and Singpass details are not accurate for them. It didn't allow me to open an account....\", 'Buggy app and bad customer support', 'Great experience. Setup, top up, setup pocket and transfer smoothly', \"Sign up failed without given a reason. Ask to see FAQ but click it doesn't link to it. Hello! I don't know where you guys are heading. If you don't want people to sign up, just cross out at the beginning, are you trying to gather personal data???!!!!!\", 'Scan QR feature failed big time! Parsed 16.2 as 16.02! Amatuer mistake. Did the developer of this feature attend more than a day of class in CS?!', 'Everytime successfully signec up, after log in numerours time, it told me \"we have lost you in space\". Poor online banking', 'Hi, is something wrong with the app? Am error message says \"Something went wrong\" when I tried to log in with the Passcode I set yesterday.', \"App is snappy. Interface is simple and straightforward. Most importantly interest is attractive. Keep it up! By the way please add 'Save payee' feature.\", 'Needs a feature to save payees', 'Apps easy to use and easy transfer', 'Seamless registration. All done in less than 15 mins. Signed up and funds loaded. I guess they improved the app compared to the issues faced by other users earlier on.', \"Hopeless app. If you can't auto startup singpass app, how to complete the registration!!!!\", 'blank screen after they pull all my Singpass data. terrible digi bank, waste of time. taking my money to other banks. my phone is updated, latest OS, not jailbroken, all official and secure.', 'Please put in option for adding Payee/beneficiary in the app. We should not be typing in bank account number everytime we make a transfer.', \"I can't seem to register!!!!\", 'App got a lot of issues, forever logging in singpass when want to get an account', 'Update 2023/07/20: saw the news about more slot being open but it still gives the same \"library tampering\" warning and force closed, no idea why, maybe it\\'s because of developer mode is enable or whatever, but I am an app developer and no other bank apps complain about anything.', 'Nice', \"Can't even open the app after downloaded it....try redownload it a few time also same\", \"I can't sign up at all!!!! It just go blank after I click up with singpass\", 'Unable to sign up using singpass after multiple times.', 'Waste time download. Keep repeat to login my Singpass', \"Doesn't work after login page, freezea\", 'Tried to sign up using singpass. After approve and redirect to the app, it still keep asking me to sign up.. useless app', 'Over lapping wording. Pull down refresh need to tweak more does not feel smooth it all. Opening of account does not work if you are connected to WiFi.', 'Great App Easy to use', 'Cant launch. Stalled at invisible layer. Then receive crashed notification.', 'Received email notifying savings account is available to sign up, but when i tried to sign up, i got rejected immediately. No reason was given when rejected, only show faq which does not answer my question. Even after reaching out to the support email, no specific reason was given. I was simply told not eligible. An alternative savings account I suggest would be OCBC 360, which also offer high interest rate with terms and conditions.', 'Terrible experience. Took 4 attempts to finally set up account. Previous 3x received error msg \"couldn\\'t approve your account at this time\". When the account was finally set up a few hours later, the app crashed. Have restarted the phone, uninstalled and reinstalled the app. I\\'m still stuck at the first page after logging in, which seemed to have a popped up msg/ad but not loading. Then the error msg of \"app is not responding\" appeared and prompted me to close the app.', 'No web interface, forced to use the app', 'Easy to register and deposit. Clean UI interface.', 'You app downloading alway show technical priblem why??', 'After setting up the account today. Login to GxS screen become unresponsive. Phone Samsung S22 ultra.', \"Crash upon login into a newly created account. Reinstall and still the same. I'm on Android 13 phone.\", 'Terrible implementation of Singpass. Sign up keeps redirecting to Singpass', \"What is the criteria to approve the loan? Each time my hubby and I tried to apply loan multiple time, it get rejected. I wonder how much do we need to earn every month to get the loan approved!! If you have some rules and criteria then state it out so people won't waste time applying.\", 'Worst apps everything also no resolve well', 'Waste of time app!! Keep on crashing when want to register. ZERO stars !!!', 'How to cancel or delete all my personal detail submit on GXS app thru Singpass?', 'Sleek, simple to use.', 'After signed up and asked for my info,straight away got rejected!', 'Have been downloading this app for past few days. After download it kept showing me oops unexpected errors......', 'Misleading advertisement for flexiloan promotion for July 2023, stated rate as low as 2.99% p.a. Issued a rate that was extraordinary and way beyond all major banks that would offered even at their highest peak rate. A real shock of disbelief, thinking was a sign-up bug but it ended to be their best rate offered. Would be really cautious on signing up any offers from GXS even though their app user interface, interaction, and wording do project confidence in honoring their offer.', \"Can't even load properly. Prompted to set 6 digit security code, then application disappear and had to redo again with the same problem. Is this a legitimate mobile app?\", 'Easy to use. Awesome', 'I have merely tried to apply for your flexi loan on this app. But when i tried to applied like 9 times straight i have been instantly being asked to reapply over and over again. Very bad for user experience and does not live up to expectations till today', 'Not so good im not citizent or pr but ipen saving account also can not', \"Cant even apply.. apps doesn't work\", \"Rubbish app totally can't log in and see\", \"Unable to open the app once I've installed\", \"Download the app, and tried to apply. Got an error message, page cannot download and cannot login at all. Uninstall the app within 5 mins of trying. Don't bother. I got better choices elsewhere.\", \"What is the purpose of your app? Why would I use your app over DBS uob and ocbc? I don't see why you are better in any way?\", 'Great..', 'First time checking out on dis and didnt know grab came with this and enhanced features was super accessible indeed within mins i was able.to withdraw e.loan even though e security was quite super securable which i liked.thank u for making things affordable and reachable for difficult times for mummies👌🙏🥰🌹', 'The app homepage have no setting or other function for me to update or assign..', \"Can't log in and app crash\", 'Easy to use. Hopefully can raise the deposit cap soon.', 'Great experience so far', 'Easy and simple to use for transfer money. High interest rate.', 'The deposit interest is very high, which is currently my most satisfactory', 'Invitation fr Singtel. Trying my luck first and it was a very fast approval on a Sunday. Love the fact that we can take any amount fr our credit limit.', 'User friendly.', 'Easy to use and fast', 'Easy to use. Fast transfer.', 'Not working properly', 'Unable to use at all', 'Good to have the UI updated. Only issue now is the 5k max deposit.', \"After few day on decided whether to download the app I decided to went on But the said thing is once I'm try to log in the account 😭 but couldn't log on and it said to rest ask to go back to the front page.\", 'Hi I try log in with singpass but unsuccessful thanks', '👍 n', \"Gxs Flexiloan doesn't work even though I meet the eligible criteria..\", 'Lousy app', \"Insecure app beware folks. I applied using my singpass and instead of reviewing my own details, I saw someone's details on my screen instead, race, name, DOB, employer name on next step etc. I was shocked! Took a screenshot Incase anyone wanna verify with me.\", \"[Update 2023-05-01] issue of display overlay causing screen unresponsiveness has been resolved! [Update 2023-01-25] Thanks to user E L's review, i rem tt my phone has display overlay add-on n this seems to be causing the issue. I tried app on my phone's 2ndary display (dual screen phone) n am able to use app Original review - screen is unresponsive regardless whether launched from GXS app or from Grab app\", 'Whats with the Loan Thingy ???', 'Lousy. High interest rate. Not advertise as stated in the media. Scam.', 'Not able to sign up the loan portion using singpass. It keep showing logging in for the past 10 minutes', '$5000 limit, Big L', 'Overall is a good app? Just that why maximum cash is 5k? Make it 20k with higher interest rate', 'Once login, it just hang there and when try to use it in grab app it just say that my phone unable to use this app', \"Can't login now. Makes me feel like being SCAMMED\", 'App is down', \"Can't even click log in on galaxy s23 ultra\", 'Always freezing and crashes', \"Disappointing app experience, awful faux friendly service. I was invited to join via Grab. After multiple painful attempts to sign up (and v lacklustre UI/UX), I was told that there's been an error, and finally received a vague email stating that I am ineligible, without offering any reason why. After multiple emails, customer service still failed to explain why I am not eligible, while signing off as my 'GXS buddy' everytime. I don't need a buddy from you. I just need you to do your job.\", 'Over all good,but some interface cover on mobile phone.Thank.', \"Doesn't work on my phone, cannot click and cannot scroll anything. Only works if I open it as a mini pop-up app. Had to create an account via someone else's phone. Please fix!\", 'Smooth app with fast onboarding. Im unable to add fund to pocket with decimals due to numeric keypad.', 'Its a simple bank app to help you save and transfer your daily needs. Just dont split screen or use another app when using it.', 'Simple UI and easy to use', \"forces you to use singpass to register, is slow when browsing the FAQs, and the login doesn't allow singpass-based password login, when the registration does??? maximum frustration\", 'Fantastic Bank Great UX', 'App not working', 'Kudos to GXS for responding promptly to the error that I experienced accessing the pockets. The latest update resolved the problem. Thank you!', 'App auto exit after I clicked pocket account icon to see the details of each pocket account. Happened on from yesterday. Issue resolved after app update on 8 Feb. Thank you for the swift response.', 'Problem solved, am happily using it', 'Cannot tap on Join The Revolution or anything', 'The links after downloading the app are unclickable to even register. Looks more like a wireframe on a Marvel platform. Lol What a great UX that GXS promises in their marketing but unable to deliver. I wonder what happens if you cannot click in future to transfer your money? I have serious doubts about how legit they are about Fintech with such a haphazard launch.', 'Like this app over Trust and others. Concept similar to Timo bank in VN which I used before when I was living there. 5k account limit is shocking to me since these days where got people only save 5k. Hope for an update on this asap as well as debit card. Otherwise, interface is clean, easy to use, easy to sign up, good interest rate. For now, gxs looks promising to be my permanent savings bank. Others will just serve as my Spent account or salary credit account.', 'Easy to set up and smooth sign in + attractive interest rate, it would be great if the saving caps could be higher than $5000 :)', \"One of the worst app I ever installed. Such a proclaimed digital bank yet can't even get the app to work properly. Since day one till now after sign up, the app never works, keep stating slip-space. If you can't get the app work properly, then don't launch it. How to trust and put our money in such an app if it doesn't even work properly. Trust app is so much better.\", 'The app works great, simple yet effective enough to encourage savings via \"pockets\" so that users do not unknowingly overspent using the main account and that explain the lower interest as compared to funds kept inside the \"pockets\". Although its good to start small, i do hope the bank can increase the saving caps to encourage even more savings.Security wise while i think is on par with industry standard but there are still room to enhance it further as scammers are getting smarter everyday.', 'The overall design of the app is great, but the CNY banner looks so out of place in the latest version', \"The screen cannot respond entirely.. After going through the screen login, the app completely doesn't respond touch. Very buggy.\", 'Looking at past review and after installing the app, I must say the effort to launch progressively paid off instead of rushing into it. Was kind of concern if this is going to take off but I guess the objective is to ensure a safe bankng experience rather than rushing to grab the market. No observable bug and smooth sign in process.', 'Screen loaded but when no response when I press \"I have an account\"', 'Cannot sign up already', 'Nice app! Love the Saving pockets.', 'Great rates, easy to use, get Grab points just by linking the account', 'Amazing app', \"If you not ready, dont waste everbody's time and effort to install your app! Before launch your app rating is 2.5, you guys are really clueless! (Dec.20) - they opened my Saving Account with cap of $5K, are you kidding me? Running a bank or school project?\", 'Great app! Kudos to the GXS team in developing such an amazing app. Excited to see what more this product can do!', 'seamless!', \"It's seemless banking experience\", 'Beautiful graphics and theme, user-friendly', 'best app experience looking forward for more breakthrough features in digi banking.', 'Intuitive interface', \"The bank is not ready at all. I'm your ecosystem user. This is how you treat you ecosystem customer.\", 'Loving the color scheme!', 'The app is very user friendly and easy to set up. I personally like the way they take information security seriously by making sure our phone is secure (via pin authentication). With all thats happening around, makes me so much more reassured that they take security seriously!', 'Amazing app experience.', 'Apps is fast and UI is cool', 'Awesome experience so far. UI is flawless. Innovative ideas of various pockets and ROI caught my interest.', 'beautiful app', 'Design is nice and easy to use.', 'Intuitive and User-Friendly Interface. No doubt there are further improvements to be made. Looking forward to what the digital banking scene has to offer! Suggestion to have an interface/section for users to offer feedback & suggestions for potential pain points/improvements.', \"If your bank is not ready for the public, you shouldn't even shout out you are ready. Unlike Trust, you download the app and they are really to accept application sign up. Super disappointed and how to trust my fund with your organisation?\", \"Totally absurd and redundant feature that FORCES me to setup a PASSWORD FOR MY PHONE!!! The same kind autocracy and authoritarianism they force down the throat of their delivery riders. I've got at least 3 other banking apps by major banks. NONE.. I repeat .. NONE forces me to modify my phone settings to accommodate them. I'm steering away from this app.\", \"Hi please take note your app shouldn't be detecting whether if my phone has a pin number or not. This is a red flag on your digital banking system. No other bank is doing this including Trust Bank who is your competitor and they are doing better than you. Btw do not insult Singtel share holders like me.\", \"They shouldn't launch the app if it is not ready. Super misleading news published on Aug 31.\", 'Gave up. Is hopeless...', 'digital bank app does not work when it already goes live.....are u still doing UAT?', 'Not ready to roll out completely. Aint even allowed to create an account without an invitation', \"Can't work .\", 'Can not download yet, just always show pending......', 'Looks cool and sleek! Can I get an invite if I give a five star review? 🤪', \"It's doesn't work, they're just trying to collect phone numbers. If they're not ready for people to download and use it, it shouldn't be on the play store.\"]\n"
     ]
    }
   ],
   "source": [
    "#data cleaning to remove weird comments\n",
    "print(reviews)"
   ]
  },
  {
   "cell_type": "code",
   "execution_count": 10,
   "metadata": {},
   "outputs": [
    {
     "name": "stderr",
     "output_type": "stream",
     "text": [
      "No model was supplied, defaulted to distilbert-base-uncased-finetuned-sst-2-english and revision af0f99b (https://huggingface.co/distilbert-base-uncased-finetuned-sst-2-english).\n",
      "Using a pipeline without specifying a model name and revision in production is not recommended.\n",
      "No model was supplied, defaulted to distilbert-base-cased-distilled-squad and revision 626af31 (https://huggingface.co/distilbert-base-cased-distilled-squad).\n",
      "Using a pipeline without specifying a model name and revision in production is not recommended.\n"
     ]
    }
   ],
   "source": [
    "from transformers import pipeline\n",
    "sent_pipeline = pipeline(\"sentiment-analysis\")\n",
    "qa_pipeline = pipeline(\"question-answering\")"
   ]
  },
  {
   "cell_type": "markdown",
   "metadata": {},
   "source": [
    "Sentiment analysis"
   ]
  },
  {
   "cell_type": "code",
   "execution_count": 11,
   "metadata": {},
   "outputs": [],
   "source": [
    "sentiment_scoring = [sent_pipeline(review) for review in reviews]"
   ]
  },
  {
   "cell_type": "code",
   "execution_count": 12,
   "metadata": {},
   "outputs": [],
   "source": [
    "label = []\n",
    "score = []\n",
    "for lst in sentiment_scoring:\n",
    "    label.append(lst[0]['label'])\n",
    "    score.append((lst[0]['score']))"
   ]
  },
  {
   "cell_type": "code",
   "execution_count": 13,
   "metadata": {},
   "outputs": [],
   "source": [
    "sentiment_df = pd.DataFrame(list(zip(reviews, label, score)), columns=['review','label', 'sentiment_score'])"
   ]
  },
  {
   "cell_type": "code",
   "execution_count": 14,
   "metadata": {},
   "outputs": [
    {
     "data": {
      "text/html": [
       "<div>\n",
       "<style scoped>\n",
       "    .dataframe tbody tr th:only-of-type {\n",
       "        vertical-align: middle;\n",
       "    }\n",
       "\n",
       "    .dataframe tbody tr th {\n",
       "        vertical-align: top;\n",
       "    }\n",
       "\n",
       "    .dataframe thead th {\n",
       "        text-align: right;\n",
       "    }\n",
       "</style>\n",
       "<table border=\"1\" class=\"dataframe\">\n",
       "  <thead>\n",
       "    <tr style=\"text-align: right;\">\n",
       "      <th></th>\n",
       "      <th>review</th>\n",
       "      <th>label</th>\n",
       "      <th>sentiment_score</th>\n",
       "    </tr>\n",
       "  </thead>\n",
       "  <tbody>\n",
       "    <tr>\n",
       "      <th>0</th>\n",
       "      <td>Great banking app with attractive interest rat...</td>\n",
       "      <td>POSITIVE</td>\n",
       "      <td>0.994833</td>\n",
       "    </tr>\n",
       "    <tr>\n",
       "      <th>1</th>\n",
       "      <td>A bank like no other, no bank have such amazin...</td>\n",
       "      <td>POSITIVE</td>\n",
       "      <td>0.999390</td>\n",
       "    </tr>\n",
       "    <tr>\n",
       "      <th>2</th>\n",
       "      <td>Notice that the drop in interest rate of 0.8% ...</td>\n",
       "      <td>NEGATIVE</td>\n",
       "      <td>0.998625</td>\n",
       "    </tr>\n",
       "    <tr>\n",
       "      <th>3</th>\n",
       "      <td>Sending money into my GXS account is a breeze ...</td>\n",
       "      <td>NEGATIVE</td>\n",
       "      <td>0.994006</td>\n",
       "    </tr>\n",
       "    <tr>\n",
       "      <th>4</th>\n",
       "      <td>I have to say that the UI/UX is one of the bes...</td>\n",
       "      <td>POSITIVE</td>\n",
       "      <td>0.998633</td>\n",
       "    </tr>\n",
       "  </tbody>\n",
       "</table>\n",
       "</div>"
      ],
      "text/plain": [
       "                                              review     label  \\\n",
       "0  Great banking app with attractive interest rat...  POSITIVE   \n",
       "1  A bank like no other, no bank have such amazin...  POSITIVE   \n",
       "2  Notice that the drop in interest rate of 0.8% ...  NEGATIVE   \n",
       "3  Sending money into my GXS account is a breeze ...  NEGATIVE   \n",
       "4  I have to say that the UI/UX is one of the bes...  POSITIVE   \n",
       "\n",
       "   sentiment_score  \n",
       "0         0.994833  \n",
       "1         0.999390  \n",
       "2         0.998625  \n",
       "3         0.994006  \n",
       "4         0.998633  "
      ]
     },
     "execution_count": 14,
     "metadata": {},
     "output_type": "execute_result"
    }
   ],
   "source": [
    "sentiment_df.head()"
   ]
  },
  {
   "cell_type": "markdown",
   "metadata": {},
   "source": [
    "Review analysis"
   ]
  },
  {
   "cell_type": "code",
   "execution_count": 15,
   "metadata": {},
   "outputs": [
    {
     "data": {
      "text/plain": [
       "'Great banking app with attractive interest rates! Please allow us to add and/or save payees so we don’t have to keep typing out UEN numbers or account numbers. Would be nice to be able to add the debit card to Apple Pay too!!'"
      ]
     },
     "execution_count": 15,
     "metadata": {},
     "output_type": "execute_result"
    }
   ],
   "source": [
    "reviews[0]"
   ]
  },
  {
   "cell_type": "code",
   "execution_count": 16,
   "metadata": {},
   "outputs": [
    {
     "name": "stdout",
     "output_type": "stream",
     "text": [
      "{'score': 0.27957335114479065, 'start': 23, 'end': 48, 'answer': 'attractive interest rates'}\n",
      "{'score': 0.7127752304077148, 'start': 196, 'end': 206, 'answer': 'debit card'}\n",
      "{'score': 0.10196660459041595, 'start': 128, 'end': 158, 'answer': 'UEN numbers or account numbers'}\n"
     ]
    }
   ],
   "source": [
    "#context = reviews #this part, make it into a forloop or a function to output the desired data\n",
    "\n",
    "def report(review):\n",
    "    #should return a dictionary i guess\n",
    "    ans = dict.fromkeys(['Good', 'Suggested improvements'], [])\n",
    "    ans['Good'] = qa_pipeline(question=\"What is good and positive about this application?\", context=review)[\"answer\"]\n",
    "    ans['Suggested improvements'] = qa_pipeline(question=\"How can the pplication improve?\", context=review)[\"answer\"]\n",
    "    return ans\n",
    "\n",
    "context = reviews[0]\n",
    "print(qa_pipeline(question=\"What is good and positive about this application?\", context=context))\n",
    "print(qa_pipeline(question=\"What can be added to the application?\", context=context))\n",
    "print(qa_pipeline(question=\"What do the application lack\", context=context))"
   ]
  },
  {
   "cell_type": "code",
   "execution_count": 17,
   "metadata": {},
   "outputs": [
    {
     "name": "stdout",
     "output_type": "stream",
     "text": [
      "Great banking app with attractive interest rates! Please allow us to add and/or save payees so we don’t have to keep typing out UEN numbers or account numbers. Would be nice to be able to add the debit card to Apple Pay too!!\n"
     ]
    },
    {
     "data": {
      "text/plain": [
       "{'Good': 'attractive interest rates',\n",
       " 'Suggested improvements': 'Please allow us to add and/or save payees'}"
      ]
     },
     "execution_count": 17,
     "metadata": {},
     "output_type": "execute_result"
    }
   ],
   "source": [
    "check = reviews[0]\n",
    "print(check)\n",
    "report(check)"
   ]
  },
  {
   "cell_type": "code",
   "execution_count": 18,
   "metadata": {},
   "outputs": [],
   "source": [
    "#qa on all the reviews\n",
    "idk = [report(review) for review in reviews]"
   ]
  },
  {
   "cell_type": "code",
   "execution_count": 19,
   "metadata": {},
   "outputs": [
    {
     "name": "stdout",
     "output_type": "stream",
     "text": [
      "[{'Good': 'attractive interest rates', 'Suggested improvements': 'Please allow us to add and/or save payees'}, {'Good': 'user interfaces', 'Suggested improvements': 'makes money transfer so much smoother'}, {'Good': 'the drop in interest rate of 0.8% in saving accounts', 'Suggested improvements': 'increase the main account interest and maintain the interest rate in saving account'}, {'Good': 'it’s annoying that the advice provided', 'Suggested improvements': 'still don’t work'}, {'Good': 'customer experience and design', 'Suggested improvements': 'customer experience and design'}, {'Good': 'believe trust bank Singapore', 'Suggested improvements': 'the excuses given are still mostly the same with no actual changes or improvements'}, {'Good': 'high interest rates', 'Suggested improvements': 'high interest rates'}, {'Good': 'bad reviews and issues', 'Suggested improvements': 'first time in my life a fast transfer didn’t succeed'}, {'Good': 'Nice design', 'Suggested improvements': 'Nice design of the app making it easier to navigate the app'}, {'Good': 'One piece of advice to the management of GXS Bank', 'Suggested improvements': 'faster'}, {'Good': 'they offer very high interest', 'Suggested improvements': 'they offer very high interest'}, {'Good': 'it’s easy to make mistakes', 'Suggested improvements': 'incredibly tedious'}, {'Good': 'Hopefully things get much better', 'Suggested improvements': 'Hopefully things get much better'}, {'Good': 'interface is simple but comprehensive', 'Suggested improvements': 'Transaction speeds are very quick'}, {'Good': 'the app is snappy and easy to use', 'Suggested improvements': 'snappy and easy to use'}, {'Good': 'digital services', 'Suggested improvements': 'seamless, fast and super effective digital services'}, {'Good': 'many security features', 'Suggested improvements': '100% recommend to used this App.'}, {'Good': 'It loads very fast', 'Suggested improvements': 'very fast'}, {'Good': 'maribank is better even with slightly lower interest rate', 'Suggested improvements': 'lower interest rate'}, {'Good': 'lack of clarity and abrupt disruption in service', 'Suggested improvements': 'lack of clarity and abrupt disruption in service is unacceptable'}, {'Good': 'more rewards', 'Suggested improvements': 'Wish more people can download and use'}, {'Good': 'money', 'Suggested improvements': 'Can try for saving money'}, {'Good': 'Repayment is easy and low interest', 'Suggested improvements': 'easy and low interest'}, {'Good': 'emergency money', 'Suggested improvements': 'flexible borrowing and repayment'}, {'Good': 'Pay anytime before due is possible', 'Suggested improvements': 'Pay anytime before due is possible'}, {'Good': 'It’s convenient and easy to use', 'Suggested improvements': 'It’s convenient and easy to use'}, {'Good': 'interest rates', 'Suggested improvements': 'the app is easy to navigate and the UI/UX is excellent'}, {'Good': 'interest rates', 'Suggested improvements': 'amazing user interface'}, {'Good': 'doesnt seem to be able to sign up and got asked to stay tune', 'Suggested improvements': 'doesnt seem to be able to sign up and got asked to stay tune'}, {'Good': 'Lovely bank', 'Suggested improvements': 'ease of mind'}, {'Good': 'No more long waits and tons of paperwork', 'Suggested improvements': 'stronger value proposition for consumers'}, {'Good': 'This app is easy to use', 'Suggested improvements': 'easy to use'}, {'Good': 'User friendly', 'Suggested improvements': 'User friendly'}, {'Good': 'easy to transfer money from saving to topup Grabs account', 'Suggested improvements': 'easy to transfer money from saving to topup Grabs account'}, {'Good': 'Best digital bank', 'Suggested improvements': 'Best digital bank in my opinion I prefer this over its competitors'}, {'Good': 'Set goals', 'Suggested improvements': 'Set goals and see it grow towards it'}, {'Good': 'Very convenient and easy to understand and use', 'Suggested improvements': 'Very convenient and easy to understand and use'}, {'Good': 'collecting info', 'Suggested improvements': 'Might as well not respond'}, {'Good': 'buzz updates', 'Suggested improvements': 'stop advertising that'}, {'Good': 'Please advice', 'Suggested improvements': 'Please advice'}, {'Good': 'a dropped of 0.8% interest rate', 'Suggested improvements': 'a dropped of 0.8% interest rate'}, {'Good': 'Love the interface and saving pocket', 'Suggested improvements': 'Love the interface and saving pocket is so unique'}, {'Good': 'The app is easy to navigate and optimise for people of all ages', 'Suggested improvements': 'easy to navigate and optimise for people of all ages'}, {'Good': 'excellent rates', 'Suggested improvements': 'excellent rates'}, {'Good': 'Try it and you will love it', 'Suggested improvements': 'Try it and you will love it'}, {'Good': 'saving pockets', 'Suggested improvements': 'super easy to use'}, {'Good': 'GXS. \\n1', 'Suggested improvements': 'No hassle with minimum sum'}, {'Good': 'They should acquire deposits through more honest and transparent methods', 'Suggested improvements': 'They should acquire deposits through more honest and transparent methods'}, {'Good': 'Very clean instruction', 'Suggested improvements': 'Very clean instruction'}, {'Good': 'Great experience', 'Suggested improvements': 'Great experience'}, {'Good': 'details in the app', 'Suggested improvements': 'daily'}, {'Good': 'app design, especially the pockets for savings', 'Suggested improvements': 'Just waiting for the $5000 limit'}, {'Good': 'It’s not you, it’s us', 'Suggested improvements': 'After finishing the entire onboarding application'}, {'Good': 'UIUX', 'Suggested improvements': 'Easy to use and nice UIUX. Saving pockets'}, {'Good': 'Simple and easy', 'Suggested improvements': 'Simple and easy'}, {'Good': 'slow service recovery', 'Suggested improvements': 'slow service recovery'}, {'Good': 'Intuitive', 'Suggested improvements': 'Intuitive and easy to set up'}, {'Good': 'Friendly use apps', 'Suggested improvements': 'Friendly use apps'}, {'Good': 'Very friendly app', 'Suggested improvements': 'Very friendly'}, {'Good': 'promises', 'Suggested improvements': 'A bank is only as good as it’s promises'}, {'Good': 'Dark color', 'Suggested improvements': 'allow user to change more brighter'}, {'Good': 'Really very helpful', 'Suggested improvements': 'very good'}, {'Good': 'Bank', 'Suggested improvements': 'Such a great service'}, {'Good': 'high interest rate', 'Suggested improvements': 'Easy to use with high interest rate'}, {'Good': 'banking', 'Suggested improvements': 'Makes banking easy to use'}, {'Good': 'Nice design', 'Suggested improvements': 'Nice design'}, {'Good': 'highest saving interest rate on the market', 'Suggested improvements': 'highest saving interest rate on the market'}, {'Good': 'increase amount not reduce and stay that way', 'Suggested improvements': 'increase amount not reduce and stay that way'}, {'Good': 'u guy to try this out', 'Suggested improvements': 'to try this out'}, {'Good': 'Information in SingPass is correct', 'Suggested improvements': 'the process of extracting information needs to be updated'}, {'Good': 'A bank that is not even able to accept a customer sign up', 'Suggested improvements': 'a joke'}, {'Good': 'Repayments', 'Suggested improvements': 'just as easy'}, {'Good': 'Best and fast loan approval', 'Suggested improvements': 'Best and fast loan approval'}, {'Good': 'Extremely disappointed', 'Suggested improvements': 'Extremely disappointed'}, {'Good': 'it keeps telling something went wrong', 'Suggested improvements': 'cannot open the app at all'}, {'Good': 'grab is expensive', 'Suggested improvements': 'to make us open account then now int rate worst'}, {'Good': 'interest', 'Suggested improvements': 'good interest for their pocket savings'}, {'Good': 'frustrating', 'Suggested improvements': 'frustrating'}, {'Good': 'May be its a gods sign to save my money', 'Suggested improvements': 'May be its a gods sign to save my money'}, {'Good': 'notification', 'Suggested improvements': 'Totally unusually'}, {'Good': 'singpass password', 'Suggested improvements': 'singpass password'}, {'Good': 'See your direct competitor got a pure breeze of experience', 'Suggested improvements': 'swift and fast'}, {'Good': 'soooo', 'Suggested improvements': 'how you benefit from the app and why the app is soooo good'}, {'Good': 'user experience', 'Suggested improvements': 'user experience'}, {'Good': 'improve your good service for any person who are really need it', 'Suggested improvements': 'hope the app can improve soon'}, {'Good': 'Efficient', 'Suggested improvements': 'Efficient'}, {'Good': 'A whole new era of banking', 'Suggested improvements': 'A whole new era of banking'}, {'Good': 'user-friendly', 'Suggested improvements': 'user-friendly'}, {'Good': 'texts and email', 'Suggested improvements': 'texts and email to tell me I am selected for flexi loan'}, {'Good': 'Fair and transparent loans', 'Suggested improvements': 'profit and cripple the debtor'}, {'Good': 'processing time is so slow', 'Suggested improvements': 'processing time is so slow'}, {'Good': 'lacks features', 'Suggested improvements': 'lacks features'}, {'Good': 'removed all my funds and closed my account', 'Suggested improvements': 'Have removed all my funds and closed my account'}, {'Good': 'the giant touches the sky', 'Suggested improvements': 'the giant touches the sky'}, {'Good': 'oops something went wrong', 'Suggested improvements': 'please try again'}, {'Good': 'Good to use', 'Suggested improvements': 'Good to use'}, {'Good': 'hassle free', 'Suggested improvements': 'hassle free'}, {'Good': 'reliable and quick response', 'Suggested improvements': 'reliable and quick response'}, {'Good': 'Pockets', 'Suggested improvements': 'unique and useful'}, {'Good': 'interest rate on pockets and great user experience', 'Suggested improvements': 'Good interest rate on pockets and great user experience'}, {'Good': 'login', 'Suggested improvements': 'login'}, {'Good': 'savings pockets and daily interest', 'Suggested improvements': 'Love the savings pockets'}, {'Good': 'Nice', 'Suggested improvements': 'Nice'}, {'Good': 'Nice And Fast Bank', 'Suggested improvements': 'Nice And Fast Bank'}, {'Good': 'Design thinking  forget about the  many “dumb', 'Suggested improvements': 'Best get back to the drawing board'}, {'Good': 'Awesome, easy n fun', 'Suggested improvements': 'easy'}, {'Good': 'This is not the way to go', 'Suggested improvements': 'This is not the way to go'}, {'Good': 'Sick of it serving no other purpose currently than being a lead generator', 'Suggested improvements': 'Sick of it serving no other purpose currently than being a lead generator'}, {'Good': 'Access to funds blocked, no transparency', 'Suggested improvements': 'Access to funds blocked, no transparency'}, {'Good': 'user-friendly', 'Suggested improvements': 'user-friendly'}, {'Good': 'Unable to sign in to account', 'Suggested improvements': 'Unable to sign in to account'}, {'Good': 'Looks cheap', 'Suggested improvements': 'Looks cheap'}, {'Good': 'save ur money', 'Suggested improvements': 'save ur money and grow'}, {'Good': 'Good to use', 'Suggested improvements': 'Good to use'}, {'Good': 'Lack the basic function to save a payee', 'Suggested improvements': 'Lack the basic function to save a payee'}, {'Good': 'not make sense', 'Suggested improvements': 'Does not make sense'}, {'Good': 'unable to join or open account', 'Suggested improvements': 'unable to join or open account'}, {'Good': 'Great features', 'Suggested improvements': 'Love it'}, {'Good': 'Love the app', 'Suggested improvements': 'Love the app'}, {'Good': 'interest rates for loans stay high', 'Suggested improvements': 'interest rates for loans stay high'}, {'Good': 'Good app', 'Suggested improvements': 'Good app'}, {'Good': 'Good', 'Suggested improvements': 'Good'}, {'Good': 'x o', 'Suggested improvements': 'x o'}, {'Good': 'heheh', 'Suggested improvements': 'heheh'}, {'Good': 'PR', 'Suggested improvements': 'Only for PR and SP'}, {'Good': 'Wow', 'Suggested improvements': 'Wow'}, {'Good': '🚀🚀🚀🚀🚀', 'Suggested improvements': '🚀🚀🚀🚀🚀'}, {'Good': 'inconvenience', 'Suggested improvements': 'inconvenience'}, {'Good': 'SingPass', 'Suggested improvements': 'SingPass'}, {'Good': 'Pending dev feedback', 'Suggested improvements': 'Pending dev feedback before rating change'}, {'Good': 'cant logging using finger print', 'Suggested improvements': 'finger print'}, {'Good': 'my application is denied', 'Suggested improvements': '1st time registration signup by singpass'}, {'Good': 'ignore my previous rating', 'Suggested improvements': 'amended my rating'}, {'Good': 'They unable to process my application', 'Suggested improvements': 'They unable to process my application'}, {'Good': 'Try logging in after logging out completely', 'Suggested improvements': 'Try logging in after logging out completely'}, {'Good': \"all other bank apps doesn't have such issues\", 'Suggested improvements': \"all other bank apps doesn't have such issues\"}, {'Good': 'genius allocation', 'Suggested improvements': 'helps me to track each target accordingly'}, {'Good': 'short term loans', 'Suggested improvements': 'Very suitable for short term loans'}, {'Good': 'it prevents mistaken sending of funds to unintended recipients after the 1st transfer', 'Suggested improvements': 'makes it a lot safer'}, {'Good': 'Ok Good system', 'Suggested improvements': 'Ok Good system'}, {'Good': 'good', 'Suggested improvements': 'good'}, {'Good': 'Can not open', 'Suggested improvements': 'Can not open'}, {'Good': 'sg', 'Suggested improvements': 'sg'}, {'Good': 'Trust Bank', 'Suggested improvements': 'Trust Bank is much better'}, {'Good': '🥰🥰🥰', 'Suggested improvements': '🥰🥰🥰'}, {'Good': 'saving pockets area', 'Suggested improvements': 'up to 0.01 to be added'}, {'Good': 'interest rate of the savings pockets will increase due to the current economic conditions', 'Suggested improvements': 'due to the current economic conditions'}, {'Good': \"Hopefully won't take too long\", 'Suggested improvements': \"Hopefully won't take too long\"}, {'Good': '👍👍👍👍', 'Suggested improvements': '👍👍👍👍'}, {'Good': 'gxbank through by gxbank', 'Suggested improvements': 'not this gxbank through by gxbank for worldwide'}, {'Good': 'A password', 'Suggested improvements': 'password'}, {'Good': 'Please help to solve the issue', 'Suggested improvements': 'Please help to solve the issue'}, {'Good': 'login', 'Suggested improvements': 'login'}, {'Good': 'Very good app', 'Suggested improvements': 'Very good'}, {'Good': 'All is updated to latest ver', 'Suggested improvements': 'All is updated to latest ver'}, {'Good': 'Love GxS bank', 'Suggested improvements': 'Love GxS bank. Would it be available on Google Pay'}, {'Good': 'Cannot', 'Suggested improvements': 'Cannot sig up'}, {'Good': 'unable to login error', 'Suggested improvements': 'unable to login error'}, {'Good': 'Well done', 'Suggested improvements': 'Well done'}, {'Good': 'bad interest rate', 'Suggested improvements': 'bad interest rate'}, {'Good': 'There is no alternative like physical counter or website', 'Suggested improvements': 'I cant transfer my money out to use'}, {'Good': 'download', 'Suggested improvements': 'download'}, {'Good': 'Easy and fast app', 'Suggested improvements': 'Easy and fast'}, {'Good': 'gxs app', 'Suggested improvements': 'could not open my gxs app'}, {'Good': 'Nvr root', 'Suggested improvements': 'resolved'}, {'Good': 'Good', 'Suggested improvements': 'Good'}, {'Good': 'Easy loan', 'Suggested improvements': 'Easy loan and easy payment with no hassle'}, {'Good': 'digital savings bank account', 'Suggested improvements': 'helps grow our funds'}, {'Good': 'Great savings rate', 'Suggested improvements': 'Great savings rate'}, {'Good': 'Loving it so far', 'Suggested improvements': 'Loving it so far'}, {'Good': 'Easy to use', 'Suggested improvements': 'Easy to use'}, {'Good': \"Couldn't use the app\", 'Suggested improvements': \"Couldn't use the app\"}, {'Good': 'Terrible app', 'Suggested improvements': 'Poor try attempted but still cannot'}, {'Good': \"we still can't add favourite payee\", 'Suggested improvements': 'Can u guy really work on it'}, {'Good': 'scam', 'Suggested improvements': 'scam'}, {'Good': 'keep loading. Pls help', 'Suggested improvements': 'keep loading. Pls help'}, {'Good': 'GXS is a failure', 'Suggested improvements': 'GXS is a failure'}, {'Good': 'unfair ratings', 'Suggested improvements': 'unfair ratings'}, {'Good': 'Great interest rates', 'Suggested improvements': 'simple and easy to use'}, {'Good': 'All the best to new peeps have same trouble', 'Suggested improvements': 'All the best to new peeps have same trouble'}, {'Good': 'sing pass', 'Suggested improvements': 'sing pass'}, {'Good': 'email 2FA', 'Suggested improvements': 'Reach the email 2FA'}, {'Good': 'Highly recommend', 'Suggested improvements': 'Highly recommend'}, {'Good': 'Ease of use and payments', 'Suggested improvements': 'Ease of use and payments'}, {'Good': 'Easy to use & very helpful', 'Suggested improvements': 'Easy to use & very helpful'}, {'Good': '3.48%', 'Suggested improvements': 'make the app good'}, {'Good': 'i sign up for early access first time round', 'Suggested improvements': 'Now 4 mths later am trying again and signed up again for early access'}, {'Good': 'reasonable interest rates', 'Suggested improvements': 'reasonable interest rates'}, {'Good': 'Ease of use', 'Suggested improvements': 'Ease of use'}, {'Good': 'Good interest rate', 'Suggested improvements': 'Good interest rate'}, {'Good': 'Super efficient', 'Suggested improvements': 'Super efficient'}, {'Good': 'Easy of use', 'Suggested improvements': 'Easy of use'}, {'Good': 'Ease of use', 'Suggested improvements': 'Ease of use'}, {'Good': 'Superb', 'Suggested improvements': 'Superb'}, {'Good': 'human error', 'Suggested improvements': 'human error'}, {'Good': \"don't use this bank\", 'Suggested improvements': \"don't use this bank\"}, {'Good': 'Friendly user', 'Suggested improvements': 'Friendly user'}, {'Good': 'Bank interest', 'Suggested improvements': 'Bank interest are much more forgiving'}, {'Good': 'GXS Bank', 'Suggested improvements': 'free gift'}, {'Good': 'advertising of rates', 'Suggested improvements': 'False advertising of rates'}, {'Good': 'not being able to add payees for FAST transfer', 'Suggested improvements': 'detrimental considering it as a basic common banking service that most people do'}, {'Good': 'put money in the account to earn interest', 'Suggested improvements': 'merely only earned $4 of interest in total'}, {'Good': 'a suggestion', 'Suggested improvements': 'it will be useful if foreigner also can borrow'}, {'Good': 'Ssucks', 'Suggested improvements': 'Ssucks'}, {'Good': 'Uninstalling', 'Suggested improvements': 'Uninstalling'}, {'Good': \"I'll delete since I won't be able to use it\", 'Suggested improvements': 'No spaces'}, {'Good': 'support is providing meaningless replies', 'Suggested improvements': 'support is providing meaningless replies'}, {'Good': 'The interest is the icing on the cake', 'Suggested improvements': 'your interest rate dropped greatly'}, {'Good': \"It's at your fingertips\", 'Suggested improvements': \"It's at your fingertips\"}, {'Good': 'full amount of loan given compare to outside or lending bee', 'Suggested improvements': 'increase loan amount after loan given'}, {'Good': 'Good', 'Suggested improvements': 'Good'}, {'Good': 'looking forward to more products', 'Suggested improvements': 'looking forward to more products'}, {'Good': 'Good job GXS', 'Suggested improvements': 'Good job'}, {'Good': 'Awesome app', 'Suggested improvements': 'Awesome app'}, {'Good': 'receiving this news may be disappointing', 'Suggested improvements': 'evaluation process that must meet our eligibility criteria and internal assessment requirements'}, {'Good': \"banking app that can't save pay\", 'Suggested improvements': \"banking app that can't save pay\"}, {'Good': 'keep nothing pop up', 'Suggested improvements': 'keep nothing pop up On sign up'}, {'Good': 'No debit card', 'Suggested improvements': 'Max interest reduced to only 2.65 now within one month of start'}, {'Good': 'login', 'Suggested improvements': 'login'}, {'Good': 'email', 'Suggested improvements': 'Poor'}, {'Good': 'Daily interest', 'Suggested improvements': 'Interest rate drop significantly'}, {'Good': 'Cool app', 'Suggested improvements': 'Cool app'}, {'Good': 'placing your money', 'Suggested improvements': 'cementing it with a roof and 4 walls with no doors'}, {'Good': 'cannot go thru the apps', 'Suggested improvements': 'it keep post something wrong'}, {'Good': 'Unable to open the app and use my funds', 'Suggested improvements': 'Unable to open the app and use my funds'}, {'Good': \"I wouldn't be able to carry out any transactions for 5 whole days\", 'Suggested improvements': \"I wouldn't be able to carry out any transactions for 5 whole days\"}, {'Good': \"App got problem can't login\", 'Suggested improvements': \"App got problem can't login\"}, {'Good': 'Put what you can afford to lose', 'Suggested improvements': 'Put what you can afford to lose'}, {'Good': 'Same cannot open the apps', 'Suggested improvements': 'Same cannot open the apps'}, {'Good': 'loading screen', 'Suggested improvements': 'only stuck in loading screen'}, {'Good': 'False promise so fast change interest rate', 'Suggested improvements': 'fast change interest rate'}, {'Good': 'Unexpected error', 'Suggested improvements': 'Kindly fix this issue ASAP.'}, {'Good': 'Unable to open app', 'Suggested improvements': 'Unable to open app'}, {'Good': 'Cannot log in', 'Suggested improvements': 'Cannot log in'}, {'Good': 'Unable to use biometrics', 'Suggested improvements': 'Unable to use biometrics'}, {'Good': 'uninstall and reinstall', 'Suggested improvements': 'Tried to uninstall and reinstall'}, {'Good': 'Your services helped me. But now I have no access to it', 'Suggested improvements': 'it is still unsolvable'}, {'Good': 'closed account', 'Suggested improvements': 'So i closed account'}, {'Good': 'big reduction of the Pockets interest rates', 'Suggested improvements': 'big reduction of the Pockets interest rates'}, {'Good': 'rejected without details', 'Suggested improvements': 'Was rejected without details'}, {'Good': 'error n stuff', 'Suggested improvements': 'log in shows some error n stuff'}, {'Good': 'Useless app', 'Suggested improvements': 'Cannot open the apps'}, {'Good': 'rubbish apps, with zero chance of getting loan approval', 'Suggested improvements': 'zero chance of getting loan approval, totally useless'}, {'Good': 'download has the error and ask to download again', 'Suggested improvements': 'download has the error and ask to download again'}, {'Good': 'The apps cannot make it', 'Suggested improvements': 'The apps cannot make it'}, {'Good': 'everyone can apply', 'Suggested improvements': 'good if everyone can apply'}, {'Good': 'Rates', 'Suggested improvements': 'Rates are not so attractive'}, {'Good': 'Waste time', 'Suggested improvements': 'Waste time'}, {'Good': \"Can't open\", 'Suggested improvements': \"Can't open\"}, {'Good': '3.4% interest', 'Suggested improvements': '3.4% interest'}, {'Good': 'if only i can attach a screenshot', 'Suggested improvements': 'if only i can attach a screenshot'}, {'Good': 'Cannot even sign up properly', 'Suggested improvements': 'Cannot even sign up properly'}, {'Good': 'Trolling us bruh', 'Suggested improvements': 'Trolling us bruh'}, {'Good': 'No option to add payees', 'Suggested improvements': 'No option to add payees'}, {'Good': 'Garbage company for deceiving the public', 'Suggested improvements': 'deceiving the public'}, {'Good': 'slash their interest rates', 'Suggested improvements': 'slash their interest rates'}, {'Good': 'issues with the opening of the app', 'Suggested improvements': 'issues with the opening of the app.'}, {'Good': 'Interest rate', 'Suggested improvements': 'Interest rate dropping substantially'}, {'Good': '2.68%', 'Suggested improvements': '2.68%'}, {'Good': 'after two week still pending my account', 'Suggested improvements': 'after two week still pending my account'}, {'Good': 'This app is fantastic', 'Suggested improvements': 'This app is fantastic'}, {'Good': \"there's no icon showing Live chat at the help center at all\", 'Suggested improvements': \"there's no icon showing Live chat at the help center at all\"}, {'Good': 'Love GXS', 'Suggested improvements': 'Love GXS'}, {'Good': 'high interest', 'Suggested improvements': 'GXS app lacks basic functionality'}, {'Good': 'Details', 'Suggested improvements': 'not complete'}, {'Good': 'sign for interest', 'Suggested improvements': \"get the notice it's full and sign for interest\"}, {'Good': 'Tried multiple times still unable to sign up', 'Suggested improvements': 'Tried multiple times still unable to sign up'}, {'Good': 'No support for SGQR', 'Suggested improvements': 'When only way to spend'}, {'Good': 'unexpected error', 'Suggested improvements': 'unexpected error'}, {'Good': 'Dogshit app that takes forever to setup and days to review applications', 'Suggested improvements': 'forever to setup and days to review applications'}, {'Good': 'Only on waiting list', 'Suggested improvements': 'Only on waiting list'}, {'Good': 'rejected', 'Suggested improvements': 'rejected everytime try to apply'}, {'Good': 'Waste time', 'Suggested improvements': 'Waste time'}, {'Good': 'Not transparent', 'Suggested improvements': 'Not worth the effort to sign up'}, {'Good': \"it's already open for all to sign up\", 'Suggested improvements': \"it's already open for all to sign up\"}, {'Good': 'Download', 'Suggested improvements': \"Download already can't even open the file\"}, {'Good': 'NOT SECURED', 'Suggested improvements': 'NOT SECURED'}, {'Good': 'login or set up account', 'Suggested improvements': 'login or set up account'}, {'Good': 'Dont bother', 'Suggested improvements': 'just out to farm your data'}, {'Good': 'app is not been updated.', 'Suggested improvements': 'app is not been updated.'}, {'Good': 'Hope that they can maintain the great interest', 'Suggested improvements': 'Hope that they can maintain the great interest'}, {'Good': 'Singpass details', 'Suggested improvements': \"It didn't allow me to open an account\"}, {'Good': 'customer support', 'Suggested improvements': 'bad customer support'}, {'Good': 'Great experience', 'Suggested improvements': 'Setup, top up, setup pocket and transfer smoothly'}, {'Good': 'Sign up failed without given a reason', 'Suggested improvements': 'failed without given a reason'}, {'Good': 'Did the developer of this feature attend more than a day of class', 'Suggested improvements': 'Did the developer of this feature attend more than a day of class'}, {'Good': 'online banking', 'Suggested improvements': 'Poor online banking'}, {'Good': 'Am error message says \"Something went wrong', 'Suggested improvements': 'Am error message says \"Something went wrong'}, {'Good': 'interest', 'Suggested improvements': 'Keep it up'}, {'Good': 'save payees', 'Suggested improvements': 'to save payees'}, {'Good': 'Apps easy to use and easy transfer', 'Suggested improvements': 'easy to use and easy transfer'}, {'Good': 'they improved the app', 'Suggested improvements': 'compared to the issues faced by other users earlier on.'}, {'Good': 'Hopeless app', 'Suggested improvements': \"If you can't auto startup singpass app\"}, {'Good': 'terrible digi bank', 'Suggested improvements': 'my phone is updated'}, {'Good': 'Payee/beneficiary', 'Suggested improvements': 'We should not be typing in bank account number everytime we make a transfer'}, {'Good': \"I can't seem to register!!!!\", 'Suggested improvements': \"I can't seem to register!!!!\"}, {'Good': 'logging in singpass when want to get an account', 'Suggested improvements': 'forever logging in singpass when want to get an account'}, {'Good': 'library tampering', 'Suggested improvements': 'it still gives the same \"library tampering\" warning and force closed'}, {'Good': 'Nice', 'Suggested improvements': 'Nice'}, {'Good': \"Can't even open the app after downloaded it\", 'Suggested improvements': \"Can't even open the app after downloaded it\"}, {'Good': 'singpass', 'Suggested improvements': 'It just go blank'}, {'Good': 'singpass', 'Suggested improvements': 'Unable to sign up using singpass after multiple times'}, {'Good': 'Waste time download', 'Suggested improvements': 'Waste time download'}, {'Good': 'login page', 'Suggested improvements': 'login page'}, {'Good': 'singpass', 'Suggested improvements': 'it still keep asking me to sign up'}, {'Good': 'Over lapping wording', 'Suggested improvements': 'tweak more does not feel smooth it all'}, {'Good': 'Great App Easy', 'Suggested improvements': 'Great App Easy to use'}, {'Good': 'crashed notification', 'Suggested improvements': 'crashed notification'}, {'Good': 'high interest rate', 'Suggested improvements': 'high interest rate'}, {'Good': 'Terrible experience', 'Suggested improvements': 'not loading'}, {'Good': 'No web interface', 'Suggested improvements': 'No web interface'}, {'Good': 'Clean UI interface', 'Suggested improvements': 'Easy to register and deposit'}, {'Good': 'alway', 'Suggested improvements': 'app downloading alway'}, {'Good': 'Login to GxS screen become unresponsive', 'Suggested improvements': 'unresponsive'}, {'Good': 'Reinstall', 'Suggested improvements': 'Reinstall and still the same'}, {'Good': 'Singpass', 'Suggested improvements': 'keeps redirecting to Singpass'}, {'Good': \"people won't waste time applying\", 'Suggested improvements': \"people won't waste time applying\"}, {'Good': 'no resolve well', 'Suggested improvements': 'no resolve well'}, {'Good': 'Waste of time', 'Suggested improvements': 'Keep on crashing when want to register'}, {'Good': 'cancel or delete all my personal detail', 'Suggested improvements': 'cancel or delete all my personal detail submit'}, {'Good': 'Sleek', 'Suggested improvements': 'simple to use'}, {'Good': 'info', 'Suggested improvements': 'straight away got rejected'}, {'Good': 'unexpected errors', 'Suggested improvements': 'After download it kept showing me oops unexpected errors'}, {'Good': 'their app user interface, interaction, and wording do project confidence', 'Suggested improvements': 'project confidence in honoring their offer'}, {'Good': 'Prompted to set 6 digit security code', 'Suggested improvements': \"Can't even load properly\"}, {'Good': 'Awesome', 'Suggested improvements': 'Easy to use'}, {'Good': 'user experience', 'Suggested improvements': 'Very bad for user experience'}, {'Good': 'ipen saving account', 'Suggested improvements': 'ipen saving account'}, {'Good': \"apps doesn't work\", 'Suggested improvements': \"apps doesn't work\"}, {'Good': 'Rubbish app', 'Suggested improvements': \"Rubbish app totally can't log in and see\"}, {'Good': \"Unable to open the app once I've installed\", 'Suggested improvements': \"Unable to open the app once I've installed\"}, {'Good': 'better choices', 'Suggested improvements': 'better choices'}, {'Good': \"I don't see why you are better in any way\", 'Suggested improvements': 'better in any way'}, {'Good': 'Great', 'Suggested improvements': 'Great'}, {'Good': 'enhanced features', 'Suggested improvements': 'enhanced features was super accessible'}, {'Good': 'The app homepage have no setting or other function', 'Suggested improvements': 'The app homepage have no setting or other function'}, {'Good': \"Can't log in and app crash\", 'Suggested improvements': \"Can't log in and app crash\"}, {'Good': 'Hopefully can raise the deposit cap', 'Suggested improvements': 'Hopefully can raise the deposit cap soon'}, {'Good': 'Great experience', 'Suggested improvements': 'Great experience'}, {'Good': 'High interest rate', 'Suggested improvements': 'High interest rate'}, {'Good': 'deposit interest', 'Suggested improvements': 'The deposit interest is very high'}, {'Good': 'we can take any amount fr our credit limit', 'Suggested improvements': 'we can take any amount fr our credit limit'}, {'Good': 'User friendly', 'Suggested improvements': 'User friendly'}, {'Good': 'Easy to use and fast', 'Suggested improvements': 'Easy to use and fast'}, {'Good': 'Fast transfer', 'Suggested improvements': 'Fast transfer'}, {'Good': 'Not working properly', 'Suggested improvements': 'Not working properly'}, {'Good': 'Unable to use at all', 'Suggested improvements': 'Unable to use at all'}, {'Good': 'UI updated', 'Suggested improvements': 'to have the UI updated'}, {'Good': 'it said to rest ask to go back to the front page', 'Suggested improvements': \"couldn't log on\"}, {'Good': 'singpass', 'Suggested improvements': 'unsuccessful thanks'}, {'Good': 'n', 'Suggested improvements': 'n'}, {'Good': 'Gxs Flexiloan', 'Suggested improvements': \"Gxs Flexiloan doesn't work\"}, {'Good': 'Lousy app', 'Suggested improvements': 'Lousy app'}, {'Good': \"I saw someone's details on my screen\", 'Suggested improvements': 'Took a screenshot Incase anyone wanna verify with me'}, {'Good': \"user E L's review\", 'Suggested improvements': 'unresponsive'}, {'Good': 'Loan Thingy', 'Suggested improvements': 'Loan Thingy'}, {'Good': 'High interest rate', 'Suggested improvements': 'High interest rate'}, {'Good': 'Not able to sign up the loan portion using singpass', 'Suggested improvements': 'It keep showing logging in for the past 10 minutes'}, {'Good': '$5000 limit', 'Suggested improvements': '$5000 limit'}, {'Good': 'higher interest rate', 'Suggested improvements': 'higher interest rate'}, {'Good': 'my phone unable to use this app', 'Suggested improvements': 'it just hang there and when try to use it in grab app'}, {'Good': 'SCAMMED', 'Suggested improvements': 'Makes me feel like being SCAMMED'}, {'Good': 'App', 'Suggested improvements': 'App is down'}, {'Good': 'galaxy s23', 'Suggested improvements': \"Can't even click log in on galaxy s23\"}, {'Good': 'freezing and crashes', 'Suggested improvements': 'Always freezing and crashes'}, {'Good': 'awful faux friendly service', 'Suggested improvements': 'awful faux friendly service'}, {'Good': 'some interface cover on mobile phone', 'Suggested improvements': 'Over all good'}, {'Good': 'cannot click and cannot scroll anything', 'Suggested improvements': 'Please fix'}, {'Good': 'fast onboarding', 'Suggested improvements': 'fast onboarding'}, {'Good': 'bank app', 'Suggested improvements': 'Just dont split screen or use another app when using it'}, {'Good': 'Simple UI and easy to use', 'Suggested improvements': 'easy to use'}, {'Good': 'maximum frustration', 'Suggested improvements': 'slow'}, {'Good': 'Fantastic Bank Great UX', 'Suggested improvements': 'Fantastic Bank Great UX'}, {'Good': 'App not working', 'Suggested improvements': 'not working'}, {'Good': 'Thank you', 'Suggested improvements': 'responding promptly'}, {'Good': 'swift response', 'Suggested improvements': 'swift response'}, {'Good': 'Problem solved', 'Suggested improvements': 'using it'}, {'Good': 'Join The Revolution', 'Suggested improvements': 'Join The Revolution'}, {'Good': 'serious doubts about how legit', 'Suggested improvements': 'unable to deliver'}, {'Good': 'good interest rate', 'Suggested improvements': 'good interest rate'}, {'Good': 'saving caps', 'Suggested improvements': 'Easy to set up and smooth sign in + attractive interest rate'}, {'Good': 'Trust app', 'Suggested improvements': 'Trust app is so much better'}, {'Good': 'savings', 'Suggested improvements': 'scammers are getting smarter everyday'}, {'Good': 'overall design', 'Suggested improvements': 'the CNY banner looks so out of place'}, {'Good': 'Very buggy', 'Suggested improvements': 'Very buggy'}, {'Good': 'No observable bug and smooth sign in process', 'Suggested improvements': 'ensure a safe bankng experience rather than rushing to grab the market'}, {'Good': 'I have an account', 'Suggested improvements': 'when no response when I press \"I have an account'}, {'Good': 'Cannot', 'Suggested improvements': 'Cannot sign up'}, {'Good': 'Love the Saving pockets', 'Suggested improvements': 'Love the Saving pockets'}, {'Good': 'Great rates', 'Suggested improvements': 'linking the account'}, {'Good': 'Amazing app', 'Suggested improvements': 'Amazing app'}, {'Good': \"If you not ready, dont waste everbody's time\", 'Suggested improvements': 'Running a bank or school project'}, {'Good': 'Excited to see what more this product can do', 'Suggested improvements': 'Excited to see what more this product can do!'}, {'Good': 'seamless', 'Suggested improvements': 'seamless'}, {'Good': 'seemless banking experience', 'Suggested improvements': 'seemless banking experience'}, {'Good': 'Beautiful graphics', 'Suggested improvements': 'user-friendly'}, {'Good': 'more breakthrough features in digi banking', 'Suggested improvements': 'best app experience looking forward for more breakthrough features in digi banking'}, {'Good': 'Intuitive interface', 'Suggested improvements': 'Intuitive interface'}, {'Good': 'ecosystem', 'Suggested improvements': 'how you treat you ecosystem customer'}, {'Good': 'Loving the color scheme', 'Suggested improvements': 'Loving the color scheme'}, {'Good': 'user friendly', 'Suggested improvements': 'very user friendly and easy to set up'}, {'Good': 'Amazing app experience', 'Suggested improvements': 'Amazing app experience'}, {'Good': 'Apps is fast and UI is cool', 'Suggested improvements': 'fast'}, {'Good': 'Innovative ideas of various pockets', 'Suggested improvements': 'UI is flawless'}, {'Good': 'beautiful app', 'Suggested improvements': 'beautiful app'}, {'Good': 'Design', 'Suggested improvements': 'Design is nice and easy to use'}, {'Good': 'pain points/improvements', 'Suggested improvements': 'feedback & suggestions for potential pain points/improvements'}, {'Good': 'Super disappointed', 'Suggested improvements': 'Super disappointed'}, {'Good': 'autocracy and authoritarianism', 'Suggested improvements': 'autocracy and authoritarianism they force down the throat of their delivery riders'}, {'Good': 'Trust Bank who is your competitor', 'Suggested improvements': 'they are doing better than you'}, {'Good': \"They shouldn't launch the app\", 'Suggested improvements': \"They shouldn't launch the app if it is not ready\"}, {'Good': 'Gave up. Is hopeless', 'Suggested improvements': 'Gave up'}, {'Good': 'digital bank app', 'Suggested improvements': 'digital bank app does not work when it already goes live'}, {'Good': 'Not ready to roll out completely', 'Suggested improvements': 'Not ready to roll out completely'}, {'Good': \"Can't work\", 'Suggested improvements': \"Can't work\"}, {'Good': 'Can not download', 'Suggested improvements': 'Can not download yet, just always show pending'}, {'Good': 'cool and sleek', 'Suggested improvements': 'cool and sleek'}, {'Good': \"they're just trying to collect phone numbers\", 'Suggested improvements': \"they're just trying to collect phone numbers\"}]\n"
     ]
    }
   ],
   "source": [
    "print(idk)"
   ]
  },
  {
   "cell_type": "markdown",
   "metadata": {},
   "source": [
    "Other question answering method that may be more accuracte"
   ]
  },
  {
   "cell_type": "code",
   "execution_count": 20,
   "metadata": {},
   "outputs": [
    {
     "name": "stdout",
     "output_type": "stream",
     "text": [
      "{'score': 0.024813469499349594, 'start': 37, 'end': 53, 'answer': ' my grandmother.'}\n"
     ]
    }
   ],
   "source": [
    "\n",
    "# import\n",
    "from transformers.pipelines import pipeline\n",
    "from transformers import AutoModelForQuestionAnswering\n",
    "from transformers import AutoTokenizer\n",
    "\n",
    "# var\n",
    "model_name = \"deepset/xlm-roberta-base-squad2\"\n",
    "\n",
    "# generate pipeline\n",
    "nlp = pipeline('question-answering', model=model_name, tokenizer=model_name)\n",
    "\n",
    "input = {\n",
    "    'question': 'How can the application improve?' ,\n",
    "    'context': 'My name is Mohit. I am going to visit my grandmother. She is old.'\n",
    "}\n",
    "print(nlp(input))\n",
    "## Output --> {'score': 0.30, 'start': 10, 'end': 17, 'answer': ' Mohit.'}\n"
   ]
  },
  {
   "cell_type": "markdown",
   "metadata": {},
   "source": [
    "Comparing hugging face 1 and nlp"
   ]
  },
  {
   "cell_type": "code",
   "execution_count": 21,
   "metadata": {},
   "outputs": [
    {
     "name": "stdout",
     "output_type": "stream",
     "text": [
      "Sending money into my GXS account is a breeze and instantaneous - regardless of the amounts. I’m able to immediately see that my funds are in GXS. \n",
      "\n",
      "Transferring money OUT is a huge issue. Since June I’ve had problems transferring amounts higher than $500 back to my other banking accounts, each time a red banner will pop up and said something went wrong please try again later. TODAY I can’t transfer more than $1000 back to myself - even the $1000 had to be transferred in TWO transactions of $500 each. Customer service officers did their best to help each time but it’s annoying that the advice provided (killing the app, re-logging in with SingPass) still don’t work.\n",
      "{'score': 0.14726075530052185, 'start': 608, 'end': 655, 'answer': ' (killing the app, re-logging in with SingPass)'}\n",
      "{'score': 0.018554577603936195, 'start': 608, 'end': 655, 'answer': ' (killing the app, re-logging in with SingPass)'}\n"
     ]
    },
    {
     "data": {
      "text/plain": [
       "{'Good': 'it’s annoying that the advice provided',\n",
       " 'Suggested improvements': 'still don’t work'}"
      ]
     },
     "execution_count": 21,
     "metadata": {},
     "output_type": "execute_result"
    }
   ],
   "source": [
    "#i think what we can do is to analyse the sentiment of the review. If it is bad\n",
    "print(reviews[3])\n",
    "input = {\n",
    "    'question': 'How can the application be improved?',\n",
    "    'context': reviews[3]\n",
    "}\n",
    "print(nlp(input))\n",
    "\n",
    "input = {\n",
    "    'question': 'what is good about the application',\n",
    "    'context': reviews[3]\n",
    "}\n",
    "print(nlp(input))\n",
    "\n",
    "#compared to hugging\n",
    "check = reviews[3]\n",
    "report(check)\n"
   ]
  },
  {
   "cell_type": "code",
   "execution_count": 22,
   "metadata": {},
   "outputs": [
    {
     "name": "stderr",
     "output_type": "stream",
     "text": [
      "Some weights of the model checkpoint at bert-large-uncased-whole-word-masking-finetuned-squad were not used when initializing BertForQuestionAnswering: ['bert.pooler.dense.bias', 'bert.pooler.dense.weight']\n",
      "- This IS expected if you are initializing BertForQuestionAnswering from the checkpoint of a model trained on another task or with another architecture (e.g. initializing a BertForSequenceClassification model from a BertForPreTraining model).\n",
      "- This IS NOT expected if you are initializing BertForQuestionAnswering from the checkpoint of a model that you expect to be exactly identical (initializing a BertForSequenceClassification model from a BertForSequenceClassification model).\n"
     ]
    }
   ],
   "source": [
    "import torch\n",
    "from transformers import BertForQuestionAnswering\n",
    "from transformers import BertTokenizer\n",
    "\n",
    "#Model\n",
    "model = BertForQuestionAnswering.from_pretrained('bert-large-uncased-whole-word-masking-finetuned-squad')\n",
    "\n",
    "#Tokenizer\n",
    "tokenizer = BertTokenizer.from_pretrained('bert-large-uncased-whole-word-masking-finetuned-squad')"
   ]
  },
  {
   "cell_type": "markdown",
   "metadata": {},
   "source": [
    "Using h2o llm"
   ]
  },
  {
   "cell_type": "code",
   "execution_count": 23,
   "metadata": {},
   "outputs": [],
   "source": [
    "import os\n"
   ]
  },
  {
   "cell_type": "code",
   "execution_count": 24,
   "metadata": {},
   "outputs": [],
   "source": [
    "API_KEY = \"sk-ms7SU43E34tS9UJks5RD2KM3m1JumOR2pM73Dk95VzKjM6TZ\"\n",
    "\n",
    "API_KEY = API_KEY or os.getenv(\"H2O_GPT_E_API_KEY\")\n",
    "\n",
    "if not API_KEY:\n",
    "    raise ValueError(\"Please configure h2ogpte API key\")\n",
    "\n",
    "REMOTE_ADDRESS = \"https://h2ogpte.genai.h2o.ai\"\n",
    "\n",
    "from h2ogpte import H2OGPTE\n",
    "\n",
    "client = H2OGPTE(address=REMOTE_ADDRESS, api_key=API_KEY)"
   ]
  },
  {
   "cell_type": "code",
   "execution_count": 25,
   "metadata": {},
   "outputs": [
    {
     "name": "stdout",
     "output_type": "stream",
     "text": [
      "h2oai/h2ogpt-4096-llama2-70b-chat: Hello! My name is LLaMA, I'm a large language model trained by a team of researcher at Meta AI. My primary function is to understand and respond to human input in a helpful and engaging manner. I can answer questions, provide information, and even generate creative content such as stories or dialogue. Is there anything specific you would like to know or talk about?\n"
     ]
    }
   ],
   "source": [
    "llm = \"h2oai/h2ogpt-4096-llama2-70b-chat\"\n",
    "\n",
    "answer = client.answer_question(question=\"Who are you?\", llm=llm).content\n",
    "print(f\"{llm}: {answer}\", flush=True)"
   ]
  },
  {
   "cell_type": "code",
   "execution_count": 26,
   "metadata": {},
   "outputs": [
    {
     "name": "stdout",
     "output_type": "stream",
     "text": [
      "h2oai/h2ogpt-4096-llama2-70b-chat: Sure, here's a list of good and bad things about the application based on the review:\n",
      "\n",
      "Good:\n",
      "\n",
      "* The banking app offers attractive interest rates.\n",
      "* The app is user-friendly and easy to navigate.\n",
      "\n",
      "Bad:\n",
      "\n",
      "* The app does not allow users to add and/or save payees, requiring them to repeatedly type out UEN numbers or account numbers.\n",
      "* The app does not support adding the debit card to Apple Pay.\n"
     ]
    }
   ],
   "source": [
    "answer = client.answer_question(question=\"list out the good and bad things about the application from the following review Great banking app with attractive interest rates! Please allow us to add and/or save payees so we don‚Äôt have to keep typing out UEN numbers or account numbers. Would be nice to be able to add the debit card to Apple Pay too!! \", llm=llm).content\n",
    "print(f\"{llm}: {answer}\", flush=True)"
   ]
  },
  {
   "cell_type": "code",
   "execution_count": 27,
   "metadata": {},
   "outputs": [
    {
     "name": "stdout",
     "output_type": "stream",
     "text": [
      "Sure, here's a list of good and bad things about the application based on the review:\n",
      "\n",
      "Good:\n",
      "\n",
      "* The banking app offers attractive interest rates.\n",
      "* The app is user-friendly and easy to navigate.\n",
      "\n",
      "Bad:\n",
      "\n",
      "* The app does not allow users to add and/or save payees, requiring them to repeatedly type out UEN numbers or account numbers.\n",
      "* The app does not support adding the debit card to Apple Pay.\n"
     ]
    }
   ],
   "source": [
    "print(answer)"
   ]
  },
  {
   "cell_type": "code",
   "execution_count": 33,
   "metadata": {},
   "outputs": [],
   "source": [
    "#data extraction\n",
    "def review_analysis(review):\n",
    "    extract = client.extract_data(\n",
    "        text_context_list= [review],\n",
    "        #pre_prompt_extract=\"Pay attention and look at all people. Your job is to collect their names.\\n\",\n",
    "        prompt_extract=\"List the good thing and suggestions for improvement. Ignore grammatical errors and awkward languages\"\n",
    "    )\n",
    "    # List of LLM answers per text input\n",
    "    for extract_list_item in extract.content:\n",
    "        for s in extract_list_item.split(\"\\n\"):\n",
    "            print(s)\n"
   ]
  },
  {
   "cell_type": "code",
   "execution_count": 34,
   "metadata": {},
   "outputs": [
    {
     "name": "stdout",
     "output_type": "stream",
     "text": [
      "Good things:\n",
      "\n",
      "* The user has been patiently waiting for an account slot on GXS for approximately 7 months.\n",
      "\n",
      "Suggestions for improvement:\n",
      "\n",
      "* Address the long wait time for account slots and provide clear explanations for the delay.\n",
      "* Improve the registration process to be more efficient and comparable to other banks, such as Trust Bank Singapore, which allows people to register without a long wait time.\n",
      "* Provide regular updates and improvements to the registration process to show progress and maintain user confidence.\n"
     ]
    }
   ],
   "source": [
    "context = \"Have been waiting for a slot for the account since GXS started and have been waiting until now (about 7 months) and still nothing, whenever anyone ask for why, the excuses given are still mostly the same with no actual changes or improvements (people can‚Äôt help but compare to the other bank ‚Äútrust bank Singapore‚Äù that also launched just 1 day before GXS‚Äôs launch and believe trust bank Singapore to be better since trust bank can allow people to register without waiting for this long)\"\n",
    "review_analysis(context)"
   ]
  },
  {
   "cell_type": "code",
   "execution_count": null,
   "metadata": {},
   "outputs": [],
   "source": []
  }
 ],
 "metadata": {
  "kernelspec": {
   "display_name": "Python 3",
   "language": "python",
   "name": "python3"
  },
  "language_info": {
   "codemirror_mode": {
    "name": "ipython",
    "version": 3
   },
   "file_extension": ".py",
   "mimetype": "text/x-python",
   "name": "python",
   "nbconvert_exporter": "python",
   "pygments_lexer": "ipython3",
   "version": "3.12.0"
  }
 },
 "nbformat": 4,
 "nbformat_minor": 2
}
