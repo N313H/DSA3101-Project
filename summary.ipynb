{
 "cells": [
  {
   "cell_type": "code",
   "execution_count": 2,
   "metadata": {},
   "outputs": [],
   "source": [
    "import pandas as pd\n",
    "import os\n",
    "import re"
   ]
  },
  {
   "cell_type": "code",
   "execution_count": 3,
   "metadata": {},
   "outputs": [],
   "source": [
    "API_KEY = \"sk-ms7SU43E34tS9UJks5RD2KM3m1JumOR2pM73Dk95VzKjM6TZ\"\n",
    "\n",
    "API_KEY = API_KEY or os.getenv(\"H2O_GPT_E_API_KEY\")\n",
    "\n",
    "if not API_KEY:\n",
    "    raise ValueError(\"Please configure h2ogpte API key\")\n",
    "\n",
    "REMOTE_ADDRESS = \"https://h2ogpte.genai.h2o.ai\"\n",
    "\n",
    "from h2ogpte import H2OGPTE\n",
    "\n",
    "client = H2OGPTE(address=REMOTE_ADDRESS, api_key=API_KEY)"
   ]
  },
  {
   "cell_type": "code",
   "execution_count": 4,
   "metadata": {},
   "outputs": [],
   "source": [
    "tor = pd.read_csv('/Users/blabbyduck/Desktop/Y3S2/DSA3101/DSA3101-Project/csv_output/TopicsofReviews.csv')"
   ]
  },
  {
   "cell_type": "code",
   "execution_count": 5,
   "metadata": {},
   "outputs": [],
   "source": [
    "def get_review_issue(topic_name):\n",
    "    issue1 = tor.loc[tor['Topic_Name'] == topic_name]\n",
    "    return issue1"
   ]
  },
  {
   "cell_type": "code",
   "execution_count": 6,
   "metadata": {},
   "outputs": [],
   "source": [
    "#first convert the extracted/filtered topic reviews extracted into strings\n",
    "def convert_str(topic_review):\n",
    "    compiled_review = topic_review['review'].to_string()\n",
    "\n",
    "    comp_rev = \"\"\n",
    "    for row in compiled_review:\n",
    "        comp_rev += row\n",
    "    return(comp_rev) #returns a long string"
   ]
  },
  {
   "cell_type": "code",
   "execution_count": 12,
   "metadata": {},
   "outputs": [
    {
     "name": "stderr",
     "output_type": "stream",
     "text": [
      "<>:13: SyntaxWarning: invalid escape sequence '\\W'\n",
      "<>:13: SyntaxWarning: invalid escape sequence '\\W'\n",
      "/var/folders/1l/pycwvg157rv_sn0s68n1_y8c0000gn/T/ipykernel_25297/1921719275.py:13: SyntaxWarning: invalid escape sequence '\\W'\n",
      "  s = re.sub('\\W+',' ', s)\n"
     ]
    }
   ],
   "source": [
    "def summary(topic):\n",
    "    issue = get_review_issue(topic)\n",
    "    review = convert_str(issue)\n",
    "    extract = client.extract_data(\n",
    "        text_context_list= [review],\n",
    "        #pre_prompt_extract=\"Pay attention and look at all people. Your job is to collect their names.\\n\",\n",
    "        prompt_extract=\"Recommend improvements based on the reviews. Ignore grammatical errors and awkward languages\"\n",
    "    )\n",
    "    # List of LLM answers per text input\n",
    "    sol = []\n",
    "    for extract_list_item in extract.content:\n",
    "        for s in extract_list_item.split(\"\\n\"):\n",
    "            s = re.sub('\\W+',' ', s)\n",
    "            sol.append(s)\n",
    "    return sol"
   ]
  },
  {
   "cell_type": "code",
   "execution_count": 13,
   "metadata": {},
   "outputs": [
    {
     "data": {
      "text/plain": [
       "[' Users appreciate the attractive interest rates offered by the banking app ',\n",
       " ' The user interface and user experience UI UX are highly praised ',\n",
       " ' Some users have faced issues while logging into the app ',\n",
       " ' There are inconsistencies regarding the interest rates as some users mention 3 48 while others expect 10 ',\n",
       " ' A few users have experienced unexpected errors during login ',\n",
       " ' The app s compatibility with certain devices such as the Galaxy S23 Ultra has been questioned ',\n",
       " ' Users have suggested improving the app s reliability and responsiveness ',\n",
       " ' Transparency and ease of use are appreciated by users although some find it not worth the effort to sign up ',\n",
       " ' The app should address the frequent login issues and ensure its availability across various devices ',\n",
       " ' Overall users enjoy the increased competition in the banking sector and the innovative features provided by the app ']"
      ]
     },
     "execution_count": 13,
     "metadata": {},
     "output_type": "execute_result"
    }
   ],
   "source": [
    "summary(\"User Interface\")"
   ]
  }
 ],
 "metadata": {
  "kernelspec": {
   "display_name": "Python 3",
   "language": "python",
   "name": "python3"
  },
  "language_info": {
   "codemirror_mode": {
    "name": "ipython",
    "version": 3
   },
   "file_extension": ".py",
   "mimetype": "text/x-python",
   "name": "python",
   "nbconvert_exporter": "python",
   "pygments_lexer": "ipython3",
   "version": "3.12.0"
  }
 },
 "nbformat": 4,
 "nbformat_minor": 2
}
